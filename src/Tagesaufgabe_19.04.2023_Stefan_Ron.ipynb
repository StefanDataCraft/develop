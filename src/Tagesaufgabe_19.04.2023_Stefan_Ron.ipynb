{
 "cells": [
  {
   "cell_type": "code",
   "execution_count": 2,
   "outputs": [],
   "source": [
    "from zipfile import ZipFile\n",
    "import re\n",
    "import os"
   ],
   "metadata": {
    "collapsed": false
   }
  },
  {
   "cell_type": "code",
   "execution_count": 3,
   "metadata": {
    "collapsed": true
   },
   "outputs": [],
   "source": [
    "#Aufgabe 1\n",
    "with ZipFile(\"tagesaufgaben_zip_dir\\\\tagesaufgaben.zip\",\"r\") as ZipObjekt:\n",
    "    ZipObjekt.extractall(\"tagesaufgaben_zip_dir\\\\\")"
   ]
  },
  {
   "cell_type": "code",
   "execution_count": 4,
   "outputs": [
    {
     "name": "stdout",
     "output_type": "stream",
     "text": [
      "2.2 - 09.01.23 - Tagesaufgaben (Pandas groupby, agg, merge) Musterlösung.ipynb\n",
      "2.2 - 09.01.23 - Tagesaufgaben (Pandas groupby, agg, merge).ipynb\n",
      "2.2 - 10.01.23 - Lernkontrolle.ipynb\n",
      "2.2 - 22.12.22 - Lernkontrolle.ipynb\n"
     ]
    }
   ],
   "source": [
    "#Aufgabe 2.1\n",
    "with ZipFile(\"tagesaufgaben_zip_dir\\\\tagesaufgaben.zip\",\"r\") as ZipObjekt:\n",
    "    for file in ZipObjekt.filelist:\n",
    "        if not(file.filename.startswith(\"2023\")):\n",
    "            print(file.filename)"
   ],
   "metadata": {
    "collapsed": false
   }
  },
  {
   "cell_type": "code",
   "execution_count": 5,
   "outputs": [
    {
     "name": "stdout",
     "output_type": "stream",
     "text": [
      "2.2 - 09.01.23 - Tagesaufgaben (Pandas groupby, agg, merge) Musterlösung.ipynb\n",
      "20230310_2.2_Lösung_Einführung_Jupyter_Notebook_Strings.ipynb\n",
      "20230313_2.2_Lösung_Tagesaufgaben_Datentypen_Operatoren.ipynb\n",
      "20230313_2.2_Lösung_Tagesaufgaben_Listen.ipynb\n",
      "20230314_2.2_Lösung_Tagesaufgaben_Sets_Dicts.ipynb\n",
      "20230315_2.2_Lösung_Tagesaufgaben_Bedingungen_Tuple.ipynb\n",
      "20230316_2.2_Lösung_Tagesaufgaben_Wiederholung_Strings_bis_Schleifen.ipynb\n",
      "20230320_2.2_Lösung_Tagesaufgaben_Funktionen.ipynb\n",
      "20230322_2.2_Lösung_Tagesaufgaben_Pfade_Dateien_oeffnen_und_bearbeiten.ipynb\n",
      "20230417_2.2_Lösungen_Tagesaufgaben_Wiederholung_Numpy_bis_Widgets.ipynb\n",
      "20230317_2.2_Loesung_Lernkontrolle_Python_Grundlagen_bis_Schleifen.ipynb\n",
      "20230321_2.2_Loesung_Tagesaufgaben_Copy_Stringformatierung_Zeitdaten_Funktionen.ipynb\n",
      "20230322_2.2_Lösung_Tagesaufgaben_Pfade_Dateien_oeffnen_und_bearbeiten.ipynb\n",
      "20230322_2.2_Tagesaufgaben_Pfade_Dateien_oeffnen_und_bearbeiten.ipynb\n",
      "20230323_2.2_Loesung_Tagesaufgaben_Pfade_JSON_os_Pickle.ipynb\n",
      "20230324_2.2_Loesung_Lernkontrolle_Funktionen_bis_Pickle.ipynb\n",
      "20230327_2.2_Loesung_Tagesaufgaben_Klassen_exceptions.ipynb\n",
      "20230328_2.2_Loesung_Laufzeiten.ipynb\n",
      "20230329_2.2_Loesung_Tagesaufgaben_zip_filter_Testing_und_Co.ipynb\n",
      "20230331_2.2_Loesung_Lernkontrolle_Exceptions_Time_Builtins_Numpy.ipynb\n",
      "20230404_2.2_Loesung_Tagesaufgaben_Pandas.ipynb\n",
      "20230405_2.2_Loesung_Tagesaufgaben_Pandas_Part_2.ipynb\n",
      "20230406_2.2_Loesungen_Tagesaufgaben_Dataframes_verbinden_stacken_apply.ipynb\n",
      "20230414_2.2_Musterloesung_Lernkontrolle_DataFrames_slicing_groupby_regex_plots.ipynb\n",
      "20230417_2.2_Loesung_Tagesaufgaben_Dateimanagement_Logging_GIT.ipynb\n",
      "ö kommt 10 vor.  oe kommt 15 vor.\n"
     ]
    }
   ],
   "source": [
    "#Aufgabe 2.2\n",
    "counter_ö = 0\n",
    "counter_oe = 0\n",
    "with ZipFile(\"tagesaufgaben_zip_dir\\\\tagesaufgaben.zip\",\"r\") as ZipObjekt:\n",
    "    for file in ZipObjekt.filelist:\n",
    "        if \"ö\" in file.filename:\n",
    "            print(file.filename)\n",
    "            counter_ö+=1\n",
    "\n",
    "with ZipFile(\"tagesaufgaben_zip_dir\\\\tagesaufgaben.zip\",\"r\") as ZipObjekt:\n",
    "    for file in ZipObjekt.filelist:\n",
    "        if \"oe\" in file.filename:\n",
    "            print(file.filename)\n",
    "            counter_oe+=1\n",
    "\n",
    "print(f\"ö kommt {counter_ö} vor.  oe kommt {counter_oe} vor.\")"
   ],
   "metadata": {
    "collapsed": false
   }
  },
  {
   "cell_type": "code",
   "execution_count": 6,
   "outputs": [
    {
     "name": "stdout",
     "output_type": "stream",
     "text": [
      "20230316_2.2_Lösung_Tagesaufgaben_Wiederholung_Strings_bis_Schleifen.ipynb\n",
      "20230316_2.2_Tagesaufgaben_Wiederholung_Strings_bis_Schleifen.ipynb\n",
      "20230317_2.2_Lernkontrolle_Python_Grundlagen_bis_Schleifen.ipynb\n",
      "20230317_2.2_Loesung_Lernkontrolle_Python_Grundlagen_bis_Schleifen.ipynb\n",
      "20230322_2.2_Lösung_Tagesaufgaben_Pfade_Dateien_oeffnen_und_bearbeiten.ipynb\n",
      "20230322_2.2_Tagesaufgaben_Pfade_Dateien_oeffnen_und_bearbeiten.ipynb\n",
      "20230324_2.2_Lernkontrolle_Funktionen_bis_Pickle.ipynb\n",
      "20230324_2.2_Loesung_Lernkontrolle_Funktionen_bis_Pickle.ipynb\n",
      "20230329_2.2_Loesung_Tagesaufgaben_zip_filter_Testing_und_Co.ipynb\n",
      "20230329_2.2_Tagesaufgaben_zip_filter_Testing_und_Co.ipynb\n",
      "20230417_2.2_Lösungen_Tagesaufgaben_Wiederholung_Numpy_bis_Widgets.ipynb\n",
      "20230417_2.2_Tagesaufgaben_Wiederholung_Numpy_bis_Widgets.ipynb\n"
     ]
    }
   ],
   "source": [
    "#Aufgabe 2.3\n",
    "with ZipFile(\"tagesaufgaben_zip_dir\\\\tagesaufgaben.zip\",\"r\") as ZipObjekt:\n",
    "    for file in ZipObjekt.filelist:\n",
    "        if re.search(\"_[A-Za-z]{3}_\", file.filename):\n",
    "            print(file.filename)\n"
   ],
   "metadata": {
    "collapsed": false
   }
  },
  {
   "cell_type": "code",
   "execution_count": 7,
   "outputs": [
    {
     "name": "stdout",
     "output_type": "stream",
     "text": [
      "C:\\Users\\User\\Documents\\Umschulung\\Aufgaben\\Python\\Tag 28 - 19.04.2023\\20230518_2.2._Tagesaufgaben_Dateimanagement_Logging.pdf\n"
     ]
    }
   ],
   "source": [
    "#Aufgabe 2.4\n",
    "def check_signature(full_dir):\n",
    "    list = os.listdir(full_dir)\n",
    "    for file in list:\n",
    "        if os.path.isfile(full_dir+file):\n",
    "            if not(re.search(\"_Stefan_Ron.[A-Za-z]{1,5}$\", file)) and (re.search(\"Tagesaufgabe\", file)):\n",
    "                print(full_dir+file)\n",
    "\n",
    "path = 'C:\\\\Users\\\\User\\\\Documents\\\\Umschulung\\\\Aufgaben\\\\Python\\\\'\n",
    "list = os.listdir(path)\n",
    "\n",
    "\n",
    "for dir in list:\n",
    "    if os.path.isdir(path+dir):\n",
    "        check_signature(path+dir+'\\\\')"
   ],
   "metadata": {
    "collapsed": false
   }
  },
  {
   "cell_type": "code",
   "execution_count": 8,
   "outputs": [
    {
     "name": "stdout",
     "output_type": "stream",
     "text": [
      "full_dir+file: C:\\Users\\User\\Documents\\Umschulung\\Aufgaben\\Python\\Tag 10 - 22.03.2023\\20230322_2.2_Tagesaufgaben_Pfade_Dateien_oeffnen_und_bearbeiten_Stefan_Ron.ipynb\n"
     ]
    },
    {
     "ename": "AttributeError",
     "evalue": "'ZipFile' object has no attribute 'append'",
     "output_type": "error",
     "traceback": [
      "\u001B[1;31m---------------------------------------------------------------------------\u001B[0m",
      "\u001B[1;31mAttributeError\u001B[0m                            Traceback (most recent call last)",
      "Cell \u001B[1;32mIn[8], line 27\u001B[0m\n\u001B[0;32m     25\u001B[0m \u001B[38;5;28;01mfor\u001B[39;00m \u001B[38;5;28mdir\u001B[39m \u001B[38;5;129;01min\u001B[39;00m \u001B[38;5;28mlist\u001B[39m:\n\u001B[0;32m     26\u001B[0m     \u001B[38;5;28;01mif\u001B[39;00m os\u001B[38;5;241m.\u001B[39mpath\u001B[38;5;241m.\u001B[39misdir(path\u001B[38;5;241m+\u001B[39m\u001B[38;5;28mdir\u001B[39m):\n\u001B[1;32m---> 27\u001B[0m         \u001B[43madd_to_zip\u001B[49m\u001B[43m(\u001B[49m\u001B[43mpath\u001B[49m\u001B[38;5;241;43m+\u001B[39;49m\u001B[38;5;28;43mdir\u001B[39;49m\u001B[38;5;241;43m+\u001B[39;49m\u001B[38;5;124;43m'\u001B[39;49m\u001B[38;5;130;43;01m\\\\\u001B[39;49;00m\u001B[38;5;124;43m'\u001B[39;49m\u001B[43m)\u001B[49m\n",
      "Cell \u001B[1;32mIn[8], line 9\u001B[0m, in \u001B[0;36madd_to_zip\u001B[1;34m(full_dir)\u001B[0m\n\u001B[0;32m      7\u001B[0m \u001B[38;5;28;01mif\u001B[39;00m re\u001B[38;5;241m.\u001B[39msearch(\u001B[38;5;124m\"\u001B[39m\u001B[38;5;124mTagesaufgabe\u001B[39m\u001B[38;5;124m\"\u001B[39m, file):\n\u001B[0;32m      8\u001B[0m     \u001B[38;5;28mprint\u001B[39m(\u001B[38;5;124m\"\u001B[39m\u001B[38;5;124mfull_dir+file: \u001B[39m\u001B[38;5;124m\"\u001B[39m\u001B[38;5;241m+\u001B[39mfull_dir\u001B[38;5;241m+\u001B[39mfile)\n\u001B[1;32m----> 9\u001B[0m     \u001B[43mZipObjekt\u001B[49m\u001B[38;5;241;43m.\u001B[39;49m\u001B[43mappend\u001B[49m(full_dir\u001B[38;5;241m+\u001B[39mfile)\n",
      "\u001B[1;31mAttributeError\u001B[0m: 'ZipFile' object has no attribute 'append'"
     ]
    }
   ],
   "source": [
    "#Aufgabe 4\n",
    "def add_to_zip(full_dir):\n",
    "    with ZipFile(\"tagesaufgaben_zip_dir\\\\tagesaufgaben_Stefan.zip\",\"a\") as ZipObjekt:\n",
    "        list = os.listdir(full_dir)\n",
    "        for file in list:\n",
    "            if os.path.isfile(full_dir+file):\n",
    "                if re.search(\"Tagesaufgabe\", file):\n",
    "                    print(\"full_dir+file: \"+full_dir+file)\n",
    "                    ZipObjekt.append(full_dir+file)\n",
    "\n",
    "\"\"\"\n",
    "def add_to_zip(full_dir):\n",
    "    ZipObjekt = ZipFile(\"tagesaufgaben_zip_dir\\\\tagesaufgaben_Stefan.zip\", \"w\")\n",
    "    list = os.listdir(full_dir)\n",
    "    for file in list:\n",
    "        if os.path.isfile(full_dir+file):\n",
    "            if re.search(\"Tagesaufgabe\", file):\n",
    "                print(\"full_dir+file: \"+full_dir+file)\n",
    "                ZipObjekt.write(os.path.join(full_dir, file))\n",
    "    ZipObjekt.close()\n",
    "\"\"\"\n",
    "path = 'C:\\\\Users\\\\User\\\\Documents\\\\Umschulung\\\\Aufgaben\\\\Python\\\\'\n",
    "list = os.listdir(path)\n",
    "\n",
    "for dir in list:\n",
    "    if os.path.isdir(path+dir):\n",
    "        add_to_zip(path+dir+'\\\\')"
   ],
   "metadata": {
    "collapsed": false
   }
  },
  {
   "cell_type": "code",
   "execution_count": 9,
   "outputs": [
    {
     "name": "stdout",
     "output_type": "stream",
     "text": [
      "full_dir+file: C:\\Users\\User\\Documents\\Umschulung\\Aufgaben\\Python\\Tag 10 - 22.03.2023\\20230322_2.2_Tagesaufgaben_Pfade_Dateien_oeffnen_und_bearbeiten_Stefan_Ron.ipynb\n",
      "full_dir+file: C:\\Users\\User\\Documents\\Umschulung\\Aufgaben\\Python\\Tag 11 - 23.03.2023\\20230323_2.2_Tagesaufgaben_Pfade_JSON_os_Pickle_Stefan_Ron.ipynb\n",
      "full_dir+file: C:\\Users\\User\\Documents\\Umschulung\\Aufgaben\\Python\\Tag 13 - 27.03.2023\\20230327_2.2_Tagesaufgaben_Klassen_exceptions_Stefan_Ron.ipynb\n",
      "full_dir+file: C:\\Users\\User\\Documents\\Umschulung\\Aufgaben\\Python\\Tag 15 - 29.03.2023\\20230329_2.2_Tagesaufgaben_zip_filter_Testing_und_Co_Stefan_Ron.ipynb\n",
      "full_dir+file: C:\\Users\\User\\Documents\\Umschulung\\Aufgaben\\Python\\Tag 19 - 04.04.2023\\20230404_2.2_Tagesaufgaben_Pandas_Stefan_Ron.ipynb\n",
      "full_dir+file: C:\\Users\\User\\Documents\\Umschulung\\Aufgaben\\Python\\Tag 2 - 10.03.2023\\20230310_2.2_Tagesaufgaben_Einführung_Jupyter_Notebook_Strings_Stefan_Ron.ipynb\n",
      "full_dir+file: C:\\Users\\User\\Documents\\Umschulung\\Aufgaben\\Python\\Tag 26 - 17.04.2023\\20230417_2.2_Tagesaufgaben_Wiederholung_Numpy_bis_Widgets_Stefan_Ron.ipynb\n",
      "full_dir+file: C:\\Users\\User\\Documents\\Umschulung\\Aufgaben\\Python\\Tag 28 - 19.04.2023\\20230518_2.2._Tagesaufgaben_Dateimanagement_Logging.pdf\n",
      "full_dir+file: C:\\Users\\User\\Documents\\Umschulung\\Aufgaben\\Python\\Tag 3 - 13.03.2023\\20230313_2.2_Tagesaufgaben_Datentypen_Operatoren_Stefan_Ron.ipynb\n",
      "full_dir+file: C:\\Users\\User\\Documents\\Umschulung\\Aufgaben\\Python\\Tag 3 - 13.03.2023\\20230313_2.2_Tagesaufgaben_Listen_Stefan_Ron.ipynb\n",
      "full_dir+file: C:\\Users\\User\\Documents\\Umschulung\\Aufgaben\\Python\\Tag 4 - 14.03.2023\\20230314_2.2_Tagesaufgaben_Sets_Dicts_Stefan_Ron.ipynb\n",
      "full_dir+file: C:\\Users\\User\\Documents\\Umschulung\\Aufgaben\\Python\\Tag 5 - 15.03.2023\\20230315_2.2_Tagesaufgaben_Bedingungen_for_Tuple_Stefan_Ron.ipynb\n",
      "full_dir+file: C:\\Users\\User\\Documents\\Umschulung\\Aufgaben\\Python\\Tag 6 - 16.03.2023\\20230316_2.2_Tagesaufgaben_Wiederholung_Strings_bis_Schleifen_Stefan_Ron.ipynb\n",
      "full_dir+file: C:\\Users\\User\\Documents\\Umschulung\\Aufgaben\\Python\\Tag 8 - 20.03.2023\\20230320_2.2_Tagesaufgaben_Funktionen_Stefan_Ron.ipynb\n",
      "full_dir+file: C:\\Users\\User\\Documents\\Umschulung\\Aufgaben\\Python\\Tag 9 - 21.03.2023\\20230321_2.2_Tagesaufgaben_Copy_Stringformatierung_Zeitdaten_Funktionen_Stefan_Ron.ipynb\n"
     ]
    }
   ],
   "source": [
    "#Aufgabe 4\n",
    "def add_to_zip(full_dir,ZipObjekt):\n",
    "    list = os.listdir(full_dir)\n",
    "    for file in list:\n",
    "        if os.path.isfile(full_dir+file):\n",
    "            if re.search(\"Tagesaufgabe\", file):\n",
    "                print(\"full_dir+file: \"+full_dir+file)\n",
    "                ZipObjekt.write(os.path.join(full_dir, file),file)\n",
    "\n",
    "path = 'C:\\\\Users\\\\User\\\\Documents\\\\Umschulung\\\\Aufgaben\\\\Python\\\\'\n",
    "list = os.listdir(path)\n",
    "\n",
    "ZipObjekt = ZipFile(\"tagesaufgaben_zip_dir\\\\tagesaufgaben_Stefan.zip\", \"w\")\n",
    "for dir in list:\n",
    "    if os.path.isdir(path+dir):\n",
    "        add_to_zip(path+dir+'\\\\',ZipObjekt)\n",
    "ZipObjekt.close()"
   ],
   "metadata": {
    "collapsed": false
   }
  },
  {
   "cell_type": "code",
   "execution_count": null,
   "outputs": [],
   "source": [],
   "metadata": {
    "collapsed": false
   }
  }
 ],
 "metadata": {
  "kernelspec": {
   "display_name": "Python 3",
   "language": "python",
   "name": "python3"
  },
  "language_info": {
   "codemirror_mode": {
    "name": "ipython",
    "version": 2
   },
   "file_extension": ".py",
   "mimetype": "text/x-python",
   "name": "python",
   "nbconvert_exporter": "python",
   "pygments_lexer": "ipython2",
   "version": "2.7.6"
  }
 },
 "nbformat": 4,
 "nbformat_minor": 0
}
