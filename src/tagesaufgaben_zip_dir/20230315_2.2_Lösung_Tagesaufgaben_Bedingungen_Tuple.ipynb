{
 "cells": [
  {
   "cell_type": "markdown",
   "id": "78e2f52e",
   "metadata": {
    "id": "78e2f52e"
   },
   "source": [
    "<br><br><center><h1 style=\"font-size:2em;color:#2467C0\">Tagesaufgaben 14.03.2023</h1></center>\n",
    "<br>\n"
   ]
  },
  {
   "cell_type": "markdown",
   "id": "aa0164c8",
   "metadata": {
    "id": "aa0164c8"
   },
   "source": [
    "# If-Bedinungen"
   ]
  },
  {
   "cell_type": "markdown",
   "id": "c587c815",
   "metadata": {
    "id": "c587c815"
   },
   "source": [
    "Mit der If-Bedingung (If ist Englisch für \"Wenn\") können einzelne oder mehrere Schritte in unserem Code automatisch überprüft werden.\n",
    "\n",
    "   Lies dir den Artikel zu If-Bedingungen durch: https://www.python-lernen.de/if-abfrage-python.htm"
   ]
  },
  {
   "cell_type": "markdown",
   "id": "7a7647ea",
   "metadata": {
    "id": "7a7647ea"
   },
   "source": [
    "## Aufgabe 1"
   ]
  },
  {
   "cell_type": "markdown",
   "id": "5ed28231",
   "metadata": {
    "id": "5ed28231"
   },
   "source": [
    " <div  class=\"alert alert-block alert-info\">\n",
    "1. Erstelle eine if-Bedingung, die überprüft, ob die Variable \"zahl\" größer als 5 ist. Wenn die Bedinung erfüllt ist, soll \"korrekt\" ausgegeben werden, wenn nicht, soll \"falsch\" ausgegeben werden. Ändere anschließend die Variable \"zahl\" und überprüfe, ob die if Bedingung die richtigen Antworten erzeugt.\n",
    "</div>"
   ]
  },
  {
   "cell_type": "code",
   "execution_count": 1,
   "id": "f16458b2",
   "metadata": {},
   "outputs": [
    {
     "name": "stdout",
     "output_type": "stream",
     "text": [
      "Korrekt\n"
     ]
    }
   ],
   "source": [
    "zahl = 6\n",
    "\n",
    "if zahl > 5:\n",
    "    print(\"Korrekt\")\n",
    "else:\n",
    "    print(\"Falsch\")"
   ]
  },
  {
   "cell_type": "markdown",
   "id": "3e35c870",
   "metadata": {
    "id": "3e35c870"
   },
   "source": [
    " <div  class=\"alert alert-block alert-info\">\n",
    "2. Erstelle nun eine if-Bedingung, die überprüft, ob die Variable \"zahl\" größer als 5 ist, gleich 5 ist oder kleiner als 5 ist. Es soll das Gleiche wie bisher ausgegeben werden, falls die Zahl gleich 5 ist, soll \"Ist gleich 5\" erscheinen. Hinweis: Nutze dafür if, elif und else. Ändere anschließend die Variable \"zahl\" und überprüfe, ob die if-Bedingung die richtigen Antworten erzeugt.\n",
    "</div>"
   ]
  },
  {
   "cell_type": "code",
   "execution_count": 2,
   "id": "1c0e6c11",
   "metadata": {},
   "outputs": [
    {
     "name": "stdout",
     "output_type": "stream",
     "text": [
      "Falsch\n"
     ]
    }
   ],
   "source": [
    "zahl = 4\n",
    "\n",
    "if zahl > 5:\n",
    "    print(\"Korrekt\")\n",
    "elif zahl == 5:\n",
    "    print(\"Ist gleich 5\")\n",
    "else:\n",
    "    print(\"Falsch\")"
   ]
  },
  {
   "cell_type": "markdown",
   "id": "8285a4d6",
   "metadata": {
    "id": "8285a4d6"
   },
   "source": [
    " <div  class=\"alert alert-block alert-info\">\n",
    "3. Erstelle eine if-Bedingung, die überprüft, ob die Variable \"zahl\" größer als 5 ist. Wenn das zutrifft, soll weiterhin überprüft werden, ob die Zahl größer als 10 ist. Für jeden Fall soll ein entsprechender Text als Ausgabe erscheinen. Ändere anschließend die Variable \"zahl\" und überprüfe, ob die if Bedingung die richtigen Antworten erzeugt.\n",
    "</div>"
   ]
  },
  {
   "cell_type": "code",
   "execution_count": 3,
   "id": "8969e727",
   "metadata": {},
   "outputs": [
    {
     "name": "stdout",
     "output_type": "stream",
     "text": [
      "Die Zahl ist größer als 10\n"
     ]
    }
   ],
   "source": [
    "zahl = 11\n",
    "\n",
    "if zahl > 5:\n",
    "    if zahl > 10:\n",
    "        print(\"Die Zahl ist größer als 10\")\n",
    "    else:\n",
    "        print(\"Die Zahl ist größer als 5, aber kleiner als 10\")\n",
    "else:\n",
    "    print(\"Die Zahl ist kleiner oder gleich 5\")\n",
    "    "
   ]
  },
  {
   "cell_type": "markdown",
   "id": "b2e7bc8f",
   "metadata": {
    "id": "b2e7bc8f"
   },
   "source": [
    " <div  class=\"alert alert-block alert-info\">\n",
    "4. Erstelle eine if-Bedingung, die überprüft, ob die Variable \"wort\" gleich dem Wort \"Hallo\" ist. Gib für jeden Fall einen entsprechenden Text als Antwort aus. Ändere anschließend die Variable \"wort\" und überprüfe, ob die if.Bedingung die richtigen Antworten erzeugt.\n",
    "</div>"
   ]
  },
  {
   "cell_type": "code",
   "execution_count": 3,
   "outputs": [],
   "source": [],
   "metadata": {
    "collapsed": false
   }
  },
  {
   "cell_type": "code",
   "execution_count": 4,
   "id": "2929b3ae",
   "metadata": {},
   "outputs": [
    {
     "name": "stdout",
     "output_type": "stream",
     "text": [
      "Die Zahl ist größer oder gleich Null, aber kleiner als 10\n"
     ]
    }
   ],
   "source": [
    "zahl = 0\n",
    "\n",
    "\n",
    "if zahl >= 0:\n",
    "    if zahl > 10:\n",
    "        print(\"Die Zahl ist größer als 10\")\n",
    "    else:\n",
    "        print(\"Die Zahl ist größer oder gleich Null, aber kleiner als 10\")\n",
    "else:\n",
    "    if zahl > -10:\n",
    "        print(\"Die Zahl ist kleiner als Null, aber größer als -10\")\n",
    "    else:\n",
    "        print(\"Die Zahl ist kleiner als -10\")"
   ]
  },
  {
   "cell_type": "markdown",
   "id": "a4b1c8ea",
   "metadata": {
    "id": "a4b1c8ea"
   },
   "source": [
    " <div  class=\"alert alert-block alert-info\">\n",
    "5. Vor dir stehen drei Fruchtkörbe, einen darfst du mit nach Hause nehmen. Du liebst Kiwis über alles! Aber du hast eine Allergie auf Orangen! Prüfe die Fruchtkörbe mit mehreren Bedingungen. Wenn eine Kiwi im Fruchtkorb ist, soll die Ausgabe lauten: \"Jackpot! Eine Kiwi! Den Fruchtkorb nehm ich!\". Allerdings nur dann, wenn sich keine  Orange im selben Fruchtkorb befindet. Denn sonst schreist du laut: \"Iiih! Eine Orange! Das fass ich nicht an!\". Das schreist du nämlich immer, wenn du eine Orange siehst. Bei Körben ohne Kiwis und Orangen murmelst du gelangweilt: \"Ein gewöhnlicher Fruchtkorb...\" und lässt den Korb stehen. Nimmst du am Ende einen Korb mit nach Hause?\n",
    "</div>"
   ]
  },
  {
   "cell_type": "code",
   "execution_count": 5,
   "outputs": [],
   "source": [
    "fruchtkorb1 = [\"Apfel\", \"Banane\", \"Trauben\", \"Birne\", \"Apfel\", \"Pfirsich\", \"Litschi\", \"Papaya\", \"Orange\", \"Ananas\", \"Kiwi\"]"
   ],
   "metadata": {
    "collapsed": false
   }
  },
  {
   "cell_type": "code",
   "execution_count": 6,
   "outputs": [],
   "source": [
    "fruchtkorb2 = [\"Kokosnuss\", \"Trauben\", \"Birne\", \"Apfel\", \"Banane\", \"Papaya\", \"Litschi\", \"Ananas\", \"Himbeeren\"]"
   ],
   "metadata": {
    "collapsed": false
   }
  },
  {
   "cell_type": "code",
   "execution_count": 7,
   "outputs": [],
   "source": [
    "fruchtkorb3 = [\"Banane\", \"Durian-Frucht\", \"Apfel\", \"Aprikose\", \"Clementine\", \"Litschi\", \"Papaya\", \"Kiwi\", \"Ananas\"]"
   ],
   "metadata": {
    "collapsed": false
   }
  },
  {
   "cell_type": "code",
   "execution_count": 8,
   "outputs": [
    {
     "name": "stdout",
     "output_type": "stream",
     "text": [
      "Iih! Eine Orange! Das fass ich nicht an!\n"
     ]
    }
   ],
   "source": [
    "# Du prüfst den ersten Korb\n",
    "if \"Orange\" in fruchtkorb1:\n",
    "    print(\"Iih! Eine Orange! Das fass ich nicht an!\")\n",
    "elif \"Kiwi\" in fruchtkorb1:\n",
    "    print(\"Jackpot! Eine Kiwi! Den Fruchtkorb nehm ich!\")\n",
    "else:\n",
    "    print(\"Ein gewöhnlicher Fruchtkorb...\")"
   ],
   "metadata": {
    "collapsed": false
   }
  },
  {
   "cell_type": "code",
   "execution_count": 9,
   "outputs": [],
   "source": [
    "# Du prüfst den zweiten Korb\n",
    "# Für jeden Fruchtkorb eine Lösung. Keine Fruchtkorbschleife. Die Guten können sich aber dran versuchen."
   ],
   "metadata": {
    "collapsed": false
   }
  },
  {
   "cell_type": "code",
   "execution_count": 10,
   "outputs": [],
   "source": [
    "# Du prüfst den dritten Korb\n"
   ],
   "metadata": {
    "collapsed": false
   }
  },
  {
   "cell_type": "markdown",
   "source": [
    "# Wiederholung zu Tupeln"
   ],
   "metadata": {
    "collapsed": false
   }
  },
  {
   "cell_type": "markdown",
   "source": [
    "6. Du hast im Kleiderschrank mal wieder ein ungeordnetes Sockentupel vorgefunden... Du musst dich schnell anziehen und willst dir zwei graue Socken aus dem Tupel ziehen. Wie machst du das? Und was machst du, wenn du zwei grüne Socken willst?"
   ],
   "metadata": {
    "collapsed": false
   }
  },
  {
   "cell_type": "code",
   "execution_count": 11,
   "outputs": [],
   "source": [
    "socken_tupel = (\"graue Socke\", \"schwarze Socke\", \"violette Socke\", \"schwarze Socke\", \"weiße Socke\", \"grüne Socke\", \"graue Socke\", \"grüne Socke\")"
   ],
   "metadata": {
    "collapsed": false
   }
  },
  {
   "cell_type": "code",
   "execution_count": 12,
   "outputs": [
    {
     "name": "stdout",
     "output_type": "stream",
     "text": [
      "graue Socke\n",
      "graue Socke\n"
     ]
    }
   ],
   "source": [
    "print(socken_tupel[0])\n",
    "print(socken_tupel[-2])"
   ],
   "metadata": {
    "collapsed": false
   }
  },
  {
   "cell_type": "code",
   "execution_count": 13,
   "outputs": [
    {
     "name": "stdout",
     "output_type": "stream",
     "text": [
      "grüne Socke\n",
      "grüne Socke\n"
     ]
    }
   ],
   "source": [
    "print(socken_tupel[-3])\n",
    "print(socken_tupel[-1])"
   ],
   "metadata": {
    "collapsed": false
   }
  },
  {
   "cell_type": "markdown",
   "source": [
    "7. Du entscheidest dich gegen diese \"dreckige Lösung\", weil du jetzt eh die Bahn nicht mehr kriegst und willst die Socken sortieren. Am Ende soll ein geordnetes Sockentupel entstehen. Wie stellst du das an? Nenne das Tupel geordnete_socken und lasse dir den Inhalt ausgeben!"
   ],
   "metadata": {
    "collapsed": false
   }
  },
  {
   "cell_type": "code",
   "execution_count": 14,
   "outputs": [],
   "source": [
    "# Du bist gefragt!\n",
    "geordnete_socken = tuple(sorted(socken_tupel))"
   ],
   "metadata": {
    "collapsed": false
   }
  },
  {
   "cell_type": "code",
   "execution_count": 15,
   "outputs": [
    {
     "data": {
      "text/plain": "('graue Socke',\n 'graue Socke',\n 'grüne Socke',\n 'grüne Socke',\n 'schwarze Socke',\n 'schwarze Socke',\n 'violette Socke',\n 'weiße Socke')"
     },
     "execution_count": 15,
     "metadata": {},
     "output_type": "execute_result"
    }
   ],
   "source": [
    "geordnete_socken"
   ],
   "metadata": {
    "collapsed": false
   }
  },
  {
   "cell_type": "markdown",
   "source": [
    "8. Optional: Es passt immer noch nicht ganz. Du würdest gern die Socken zählen. Wie stellst du das an? Vielleicht wartest du auch den Donnerstag ab und löst diese Aufgabe mit einer Schleife. ;)"
   ],
   "metadata": {
    "collapsed": false
   }
  },
  {
   "cell_type": "code",
   "execution_count": 16,
   "outputs": [
    {
     "name": "stdout",
     "output_type": "stream",
     "text": [
      "violette Socke 1\n",
      "schwarze Socke 2\n",
      "grüne Socke 2\n",
      "graue Socke 2\n",
      "weiße Socke 1\n"
     ]
    }
   ],
   "source": [
    "for socke in set(geordnete_socken):\n",
    "    print(socke, geordnete_socken.count(socke))"
   ],
   "metadata": {
    "collapsed": false
   }
  },
  {
   "cell_type": "markdown",
   "source": [
    "9. Optional: Du willst die ungepaarten Socken wegschmeißen. Wie stellst du das an? Nenne das Ergebnis geordnete_sockenpaare."
   ],
   "metadata": {
    "collapsed": false
   }
  },
  {
   "cell_type": "code",
   "execution_count": 17,
   "outputs": [
    {
     "name": "stdout",
     "output_type": "stream",
     "text": [
      "('graue Socke', 'graue Socke', 'grüne Socke', 'grüne Socke', 'schwarze Socke', 'schwarze Socke')\n"
     ]
    }
   ],
   "source": [
    "sockenliste = list(geordnete_socken)\n",
    "sockenliste.remove(\"weiße Socke\")\n",
    "sockenliste.remove(\"violette Socke\")\n",
    "geordnete_sockenpaare = tuple(sockenliste)\n",
    "print(geordnete_sockenpaare)"
   ],
   "metadata": {
    "collapsed": false
   }
  },
  {
   "cell_type": "code",
   "execution_count": 17,
   "outputs": [],
   "source": [],
   "metadata": {
    "collapsed": false
   }
  },
  {
   "cell_type": "markdown",
   "source": [
    "# Loops"
   ],
   "metadata": {
    "collapsed": false
   }
  },
  {
   "cell_type": "markdown",
   "source": [
    "1. Schreibe eine for-Schleife, die dir nur die ungeraden Zahlen ausgibt."
   ],
   "metadata": {
    "collapsed": false
   }
  },
  {
   "cell_type": "code",
   "execution_count": 18,
   "outputs": [],
   "source": [
    "zahlenliste1 = [2,13,16,100,65,77,88,42,12,11]"
   ],
   "metadata": {
    "collapsed": false
   }
  },
  {
   "cell_type": "code",
   "execution_count": 20,
   "outputs": [
    {
     "name": "stdout",
     "output_type": "stream",
     "text": [
      "13\n",
      "65\n",
      "77\n",
      "11\n"
     ]
    }
   ],
   "source": [
    "for zahl in zahlenliste1:\n",
    "    if zahl%2 == 0:\n",
    "        continue\n",
    "    print(zahl)"
   ],
   "metadata": {
    "collapsed": false
   }
  },
  {
   "cell_type": "markdown",
   "source": [
    "2. Schreibe eine for-Loop, die die \"altersliste\" durchgeht und bei unter 18 Kind, bis unter 60 \"Erwachsener\" und ab dann \"Senior\" ausgibt.\n"
   ],
   "metadata": {
    "collapsed": false
   }
  },
  {
   "cell_type": "code",
   "execution_count": 2,
   "outputs": [],
   "source": [
    "altersliste = [11,22,76,43,91,27,50,38,1,6,31,12]"
   ],
   "metadata": {
    "collapsed": false
   }
  },
  {
   "cell_type": "code",
   "execution_count": 6,
   "outputs": [
    {
     "name": "stdout",
     "output_type": "stream",
     "text": [
      "11 Jahre:\tKind\n",
      "22 Jahre:\tErwachsener\n",
      "76 Jahre:\tSenior\n",
      "43 Jahre:\tErwachsener\n",
      "91 Jahre:\tSenior\n",
      "27 Jahre:\tErwachsener\n",
      "50 Jahre:\tErwachsener\n",
      "38 Jahre:\tErwachsener\n",
      "1 Jahre:\tKind\n",
      "6 Jahre:\tKind\n",
      "31 Jahre:\tErwachsener\n",
      "12 Jahre:\tKind\n"
     ]
    }
   ],
   "source": [
    "for alter in altersliste:\n",
    "    if alter <18:\n",
    "        print(alter, 'Jahre:\\tKind')\n",
    "    elif alter < 60:\n",
    "        print(alter, \"Jahre:\\tErwachsener\")\n",
    "    else:\n",
    "        print(alter, \"Jahre:\\tSenior\")"
   ],
   "metadata": {
    "collapsed": false
   }
  }
 ],
 "metadata": {
  "colab": {
   "provenance": []
  },
  "kernelspec": {
   "display_name": "Python 3 (ipykernel)",
   "language": "python",
   "name": "python3"
  },
  "language_info": {
   "codemirror_mode": {
    "name": "ipython",
    "version": 3
   },
   "file_extension": ".py",
   "mimetype": "text/x-python",
   "name": "python",
   "nbconvert_exporter": "python",
   "pygments_lexer": "ipython3",
   "version": "3.9.13"
  }
 },
 "nbformat": 4,
 "nbformat_minor": 5
}
