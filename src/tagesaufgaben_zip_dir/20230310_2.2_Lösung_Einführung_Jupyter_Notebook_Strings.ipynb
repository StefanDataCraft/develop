{
 "cells": [
  {
   "attachments": {},
   "cell_type": "markdown",
   "id": "8be76890",
   "metadata": {},
   "source": [
    "<br><br><center><h1 style=\"font-size:2em;color:#2467C0\">Tagesaufgaben 10.03.2023</h1></center>\n",
    "<br>\n",
    "<table>\n",
    "<col width=\"950\">\n",
    "<col width=\"450\">\n",
    "<img src=\"https://miro.medium.com/max/1200/1*3Jfqp1MsC8i1fFiUwt9sEA.jpeg\" align=\"middle\" style=\"width:850px;height:360px;\"/>\n",
    "</table>"
   ]
  },
  {
   "cell_type": "markdown",
   "id": "5712613e",
   "metadata": {},
   "source": [
    "### Aufgabe 1 - Einführung Jupyter Notebook\n",
    "1. Schreibe in die folgende Zelle einen Satz und führe sie aus. Es sollte eine Fehlermeldung erscheinen."
   ]
  },
  {
   "cell_type": "code",
   "execution_count": 2,
   "outputs": [
    {
     "data": {
      "text/plain": "'welt'"
     },
     "execution_count": 1,
     "metadata": {},
     "output_type": "execute_result"
    },
    {
     "data": {
      "text/plain": "'welt'"
     },
     "execution_count": 2,
     "metadata": {},
     "output_type": "execute_result"
    }
   ],
   "source": [
    "\"welt \".strip()"
   ],
   "metadata": {
    "collapsed": false
   }
  },
  {
   "cell_type": "code",
   "execution_count": 1,
   "id": "c20fcbf4",
   "metadata": {},
   "outputs": [
    {
     "ename": "SyntaxError",
     "evalue": "invalid syntax (1288791489.py, line 1)",
     "output_type": "error",
     "traceback": [
      "\u001B[1;36m  File \u001B[1;32m\"C:\\Users\\pasca\\AppData\\Local\\Temp\\ipykernel_840\\1288791489.py\"\u001B[1;36m, line \u001B[1;32m1\u001B[0m\n\u001B[1;33m    Hallo an alle\u001B[0m\n\u001B[1;37m          ^\u001B[0m\n\u001B[1;31mSyntaxError\u001B[0m\u001B[1;31m:\u001B[0m invalid syntax\n"
     ]
    }
   ],
   "source": [
    "Hallo an alle"
   ]
  },
  {
   "cell_type": "markdown",
   "id": "035d1877",
   "metadata": {},
   "source": [
    "2. Die Zelle zuvor war als Code formatiert (sichtbar an dem \"In [ ]:\" links), weswegen der Satz einen Fehler verursacht. Formatiere die folgende Zelle als Markdown und schreibe anschließend den gleichen Satz hinein. Führe die Zelle anschließend aus. Nun sollte es funktionieren!"
   ]
  },
  {
   "cell_type": "markdown",
   "id": "369eaccc",
   "metadata": {},
   "source": [
    "Hallo an alle"
   ]
  },
  {
   "cell_type": "markdown",
   "id": "232ec324",
   "metadata": {},
   "source": [
    "3. Gib dem Satz in der folgenden Zelle eine Überschrift. Nutze dafür ein #, um die Überschrift größer darzustellen."
   ]
  },
  {
   "cell_type": "markdown",
   "id": "62fd99b5",
   "metadata": {},
   "source": [
    "# Aufgaben\n",
    "Hallo an alle"
   ]
  },
  {
   "cell_type": "markdown",
   "id": "79fb2f3b",
   "metadata": {},
   "source": [
    "4. Gib in die folgende Zelle eine Rechnung ein (z.B. 3+3) und führe die Zelle aus. Es sollte dabei nicht das Ergebnis erscheinen, sondern die Rechnung selbst."
   ]
  },
  {
   "cell_type": "markdown",
   "id": "eb1f5a6f",
   "metadata": {},
   "source": [
    "3+3"
   ]
  },
  {
   "cell_type": "markdown",
   "id": "330a7bf9",
   "metadata": {},
   "source": [
    "5. Die vorherige Zelle war als Markdown formatiert (sichtbar daran, dass links nicht \"In [ ]:\" steht), weswegen das Eingegebene einfach so \"gedruckt\" wird. Formatiere die folgende Zelle nun als Code und gib die gleiche Rechnung wie zuvor wieder ein und führe die Zelle aus."
   ]
  },
  {
   "cell_type": "code",
   "execution_count": 2,
   "id": "d11b7d21",
   "metadata": {},
   "outputs": [
    {
     "data": {
      "text/plain": "6"
     },
     "execution_count": 2,
     "metadata": {},
     "output_type": "execute_result"
    }
   ],
   "source": [
    "3+3"
   ]
  },
  {
   "cell_type": "markdown",
   "id": "9659af7f",
   "metadata": {},
   "source": [
    "6. Füge unter dieser Zelle eine leere Zelle hinzu. Wähle dazu diese Zelle aus und drücke b. (Alternativ: drücke das \"+\" oben in der Leiste)"
   ]
  },
  {
   "cell_type": "code",
   "execution_count": null,
   "id": "c16f6037",
   "metadata": {},
   "outputs": [],
   "source": []
  },
  {
   "cell_type": "code",
   "execution_count": null,
   "id": "b6d63c9e",
   "metadata": {},
   "outputs": [],
   "source": []
  },
  {
   "cell_type": "markdown",
   "id": "ee6cfc90",
   "metadata": {},
   "source": [
    "7. Füge über dieser Zelle eine leere Zelle hinzu. Wähle dazu diese Zelle aus und drücke a. (Alternativ: wähle oben in der Leiste \"Insert\" und dann \"Insert cell above\")"
   ]
  },
  {
   "cell_type": "markdown",
   "id": "c72fcff8",
   "metadata": {},
   "source": [
    "8. Lösche die folgende Zelle. Wähle dazu die folgende Zelle aus und drücke zwei Mal hintereinander d. (Alternativ: wähle oben in der Leiste \"Edit\", dann \"Delete cells\")"
   ]
  },
  {
   "cell_type": "markdown",
   "id": "7b92b9b9",
   "metadata": {},
   "source": [
    "### Aufgabe 2 - Strings und Variablen\n"
   ]
  },
  {
   "cell_type": "markdown",
   "id": "e92f319e",
   "metadata": {},
   "source": [
    "\"Strings\" sind Texte oder Wörter, die innerhalb eines Codes funktionieren. Sie besitzen keine eigene Funktion, sondern sollen tatsächlich innerhalb des Codes Text darstellen."
   ]
  },
  {
   "cell_type": "markdown",
   "id": "d94c3287",
   "metadata": {},
   "source": [
    "1. Schreibe in die nächste Zelle deinen Vor- und Nachnamen in Codeform (Ändere dazu also nicht die Formatierung der Zelle, sondern nutze die \"\"). Führe die Zelle danach aus."
   ]
  },
  {
   "cell_type": "code",
   "execution_count": 1,
   "id": "24278a25",
   "metadata": {},
   "outputs": [
    {
     "name": "stdout",
     "output_type": "stream",
     "text": [
      "Max Mustermann\n"
     ]
    }
   ],
   "source": [
    "print(\"Max Mustermann\")"
   ]
  },
  {
   "cell_type": "code",
   "execution_count": 2,
   "id": "d9f888a5",
   "metadata": {},
   "outputs": [
    {
     "data": {
      "text/plain": [
       "'Max Mustermann'"
      ]
     },
     "execution_count": 2,
     "metadata": {},
     "output_type": "execute_result"
    }
   ],
   "source": [
    "\"Max Mustermann\""
   ]
  },
  {
   "cell_type": "markdown",
   "id": "da8cac98",
   "metadata": {},
   "source": [
    "2. Schreibe deinen Vornamen und Nachnamen nun in Variablen (Nutze eine Variable für deinen Vornamen und eine andere für deinen Nachnamen). Variablen werden in Python immer folgendermaßen geschrieben:\n",
    "\n",
    "   **variablennamen = variablenwert**\n",
    "\n",
    "   Beispiel:\n",
    "\n",
    "   Einer meiner bekannten heißt Peter, ein anderer heißt Alex:\n",
    "\n",
    "   bekannter1 = \"Peter\"\n",
    "   \n",
    "   bekannter2 = \"Alex\""
   ]
  },
  {
   "cell_type": "code",
   "execution_count": 6,
   "id": "811843c9",
   "metadata": {},
   "outputs": [],
   "source": [
    "vname = \"Max\"\n",
    "nname = \"Mustermann\""
   ]
  },
  {
   "cell_type": "markdown",
   "id": "18882f1c",
   "metadata": {},
   "source": [
    "2. Gib nun in der folgenden Zelle den Namen der Variable ein, die du für deinen Vornamen genutzt hast. Führe die Zelle danach aus. "
   ]
  },
  {
   "cell_type": "code",
   "execution_count": 7,
   "id": "7f8e1642",
   "metadata": {},
   "outputs": [
    {
     "data": {
      "text/plain": [
       "'Max'"
      ]
     },
     "execution_count": 7,
     "metadata": {},
     "output_type": "execute_result"
    }
   ],
   "source": [
    "vname"
   ]
  },
  {
   "cell_type": "code",
   "execution_count": 9,
   "id": "97ec50ea",
   "metadata": {},
   "outputs": [
    {
     "data": {
      "text/plain": [
       "'Mustermann'"
      ]
     },
     "execution_count": 9,
     "metadata": {},
     "output_type": "execute_result"
    }
   ],
   "source": [
    "nname"
   ]
  },
  {
   "cell_type": "markdown",
   "id": "2b6cd8a2",
   "metadata": {},
   "source": [
    "3. Nutze nun die **print()** Funktion, um deinen Vornamen und Nachnamen nur mit Hilfe der beiden Variablen wiederzugeben, die du für deine Namen genutzt hast. In meinem Beispiel würde das so aussehen:\n",
    "   \n",
    "   print(bekannter1 + \" \" + bekannter2)"
   ]
  },
  {
   "cell_type": "code",
   "execution_count": 13,
   "id": "44d8d21f",
   "metadata": {
    "scrolled": true
   },
   "outputs": [
    {
     "name": "stdout",
     "output_type": "stream",
     "text": [
      "Max Mustermann\n"
     ]
    }
   ],
   "source": [
    "print(vname, nname)"
   ]
  },
  {
   "cell_type": "code",
   "execution_count": 14,
   "id": "3fc97dbf",
   "metadata": {},
   "outputs": [
    {
     "name": "stdout",
     "output_type": "stream",
     "text": [
      "Max Mustermann\n"
     ]
    }
   ],
   "source": [
    "print(vname + \" \" + nname)"
   ]
  },
  {
   "cell_type": "markdown",
   "id": "79978175",
   "metadata": {},
   "source": [
    "4. Du kannst die beiden Namen auch vorher verbinden, bevor du sie \"printest\", indem du eine neue Variable erzeugst. In meinem Beispiel wäre das:\n",
    "\n",
    "    bekannte = bekannter1 + \" \" + bekannter2\n",
    "    \n",
    "    Führe das für deinen Vor- und Nachnamen in der folgenden Zelle aus und gib die neue Variable aus!"
   ]
  },
  {
   "cell_type": "code",
   "execution_count": 15,
   "id": "badca51b",
   "metadata": {},
   "outputs": [],
   "source": [
    "name = vname + \" \" + nname"
   ]
  },
  {
   "cell_type": "code",
   "execution_count": 16,
   "id": "b4338828",
   "metadata": {},
   "outputs": [
    {
     "data": {
      "text/plain": [
       "'Max Mustermann'"
      ]
     },
     "execution_count": 16,
     "metadata": {},
     "output_type": "execute_result"
    }
   ],
   "source": [
    "name"
   ]
  },
  {
   "cell_type": "code",
   "execution_count": 17,
   "id": "144fa83f",
   "metadata": {},
   "outputs": [
    {
     "name": "stdout",
     "output_type": "stream",
     "text": [
      "Max Mustermann\n"
     ]
    }
   ],
   "source": [
    "print(name)"
   ]
  },
  {
   "cell_type": "markdown",
   "id": "b16c3dc5",
   "metadata": {},
   "source": [
    "5. Gib die Länge deines Nachnamen in der folgenden Zelle aus! Nutze dafür die **len()** Funktion"
   ]
  },
  {
   "cell_type": "code",
   "execution_count": 18,
   "id": "c7e47acf",
   "metadata": {
    "scrolled": true
   },
   "outputs": [
    {
     "data": {
      "text/plain": [
       "10"
      ]
     },
     "execution_count": 18,
     "metadata": {},
     "output_type": "execute_result"
    }
   ],
   "source": [
    "len(nname)"
   ]
  },
  {
   "cell_type": "markdown",
   "id": "9e6fabbe",
   "metadata": {},
   "source": [
    "6. Lass dir deinen Vornamen komplett in Großbuchstaben anzeigen"
   ]
  },
  {
   "cell_type": "code",
   "execution_count": 23,
   "id": "2f59db71",
   "metadata": {},
   "outputs": [
    {
     "data": {
      "text/plain": [
       "'MAX'"
      ]
     },
     "execution_count": 23,
     "metadata": {},
     "output_type": "execute_result"
    }
   ],
   "source": [
    "vname.upper()"
   ]
  },
  {
   "cell_type": "markdown",
   "id": "21333a72",
   "metadata": {},
   "source": [
    "7. Lass dir deinen Nachnamen komplett in Kleinbuchstaben anzeigen"
   ]
  },
  {
   "cell_type": "code",
   "execution_count": 24,
   "id": "07732a8b",
   "metadata": {},
   "outputs": [
    {
     "data": {
      "text/plain": [
       "'mustermann'"
      ]
     },
     "execution_count": 24,
     "metadata": {},
     "output_type": "execute_result"
    }
   ],
   "source": [
    "nname.lower()"
   ]
  },
  {
   "cell_type": "markdown",
   "id": "049f78cf",
   "metadata": {},
   "source": [
    "### Aufgabe 3 - Strings teilen"
   ]
  },
  {
   "cell_type": "markdown",
   "id": "351f9164",
   "metadata": {},
   "source": [
    "Löse alle folgenden Aufgaben mit den Variablen die du deinem Vor- bzw. Nachnamen gegeben hast.\n",
    "\n",
    "1. Gib den ersten Buchstaben deines Vornamen aus!"
   ]
  },
  {
   "cell_type": "code",
   "execution_count": 25,
   "id": "28b3ab83",
   "metadata": {},
   "outputs": [
    {
     "name": "stdout",
     "output_type": "stream",
     "text": [
      "M\n"
     ]
    }
   ],
   "source": [
    "print(vname[0])"
   ]
  },
  {
   "cell_type": "markdown",
   "id": "4b6e67b4",
   "metadata": {},
   "source": [
    "2. Gib den dritten Buchstaben deines Nachnamen aus"
   ]
  },
  {
   "cell_type": "code",
   "execution_count": 26,
   "id": "a2bf3373",
   "metadata": {},
   "outputs": [
    {
     "name": "stdout",
     "output_type": "stream",
     "text": [
      "s\n"
     ]
    }
   ],
   "source": [
    "print(nname[2])"
   ]
  },
  {
   "cell_type": "markdown",
   "id": "5c1742b5",
   "metadata": {},
   "source": [
    "3. Gib gleichzeitig die ersten beiden Buchstaben deines Vornamen aus"
   ]
  },
  {
   "cell_type": "code",
   "execution_count": 27,
   "id": "d90a1cdb",
   "metadata": {},
   "outputs": [
    {
     "name": "stdout",
     "output_type": "stream",
     "text": [
      "Ma\n"
     ]
    }
   ],
   "source": [
    "print(vname[0:2])"
   ]
  },
  {
   "cell_type": "markdown",
   "id": "ff7f0a42",
   "metadata": {},
   "source": [
    "4. Gib den letzten Buchstaben deines Nachnamen aus"
   ]
  },
  {
   "cell_type": "code",
   "execution_count": 30,
   "id": "538c2692",
   "metadata": {
    "scrolled": true
   },
   "outputs": [
    {
     "name": "stdout",
     "output_type": "stream",
     "text": [
      "n\n"
     ]
    }
   ],
   "source": [
    "print(nname[-1])"
   ]
  },
  {
   "cell_type": "markdown",
   "id": "0fc739e2",
   "metadata": {},
   "source": [
    "5. Gib deine Initialien aus. Gib also den ersten Buchstaben deines Vornamen und den ersten Buchstaben deines Nachnamen aus"
   ]
  },
  {
   "cell_type": "code",
   "execution_count": 31,
   "id": "e695a715",
   "metadata": {},
   "outputs": [
    {
     "name": "stdout",
     "output_type": "stream",
     "text": [
      "M.M.\n"
     ]
    }
   ],
   "source": [
    "print(vname[0] + \".\" + nname[0] + \".\")"
   ]
  },
  {
   "cell_type": "markdown",
   "id": "6f61ddda",
   "metadata": {},
   "source": [
    "### Aufgabe 4 - Kommentare"
   ]
  },
  {
   "cell_type": "markdown",
   "id": "0cefe33f",
   "metadata": {},
   "source": [
    "Kommentare sind für deinen Code enorm wichtig, damit du in ein paar Wochen/Monaten/Jahren immer noch verstehst, was du hier gecodet hast. Füge in der folgenden Zeile einen Kommentar hinzu, der erklärt, was der Code macht. Nutze hierfür ein #."
   ]
  },
  {
   "cell_type": "code",
   "execution_count": 33,
   "id": "74f2c929",
   "metadata": {},
   "outputs": [
    {
     "data": {
      "text/plain": [
       "6"
      ]
     },
     "execution_count": 33,
     "metadata": {},
     "output_type": "execute_result"
    }
   ],
   "source": [
    "# Die Variable \"stadt\" nimmt den Wert \"Berlin\" an, \n",
    "# anschließend wird die Länge des in der Variable hinterlegten Wertes ausgegeben\n",
    "stadt = \"Berlin\"\n",
    "len(stadt)"
   ]
  }
 ],
 "metadata": {
  "kernelspec": {
   "display_name": "Python 3 (ipykernel)",
   "language": "python",
   "name": "python3"
  },
  "language_info": {
   "codemirror_mode": {
    "name": "ipython",
    "version": 3
   },
   "file_extension": ".py",
   "mimetype": "text/x-python",
   "name": "python",
   "nbconvert_exporter": "python",
   "pygments_lexer": "ipython3",
   "version": "3.9.13"
  }
 },
 "nbformat": 4,
 "nbformat_minor": 5
}
