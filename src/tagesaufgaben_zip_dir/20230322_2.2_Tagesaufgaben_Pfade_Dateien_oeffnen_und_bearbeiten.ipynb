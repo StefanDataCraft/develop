{
 "cells": [
  {
   "cell_type": "markdown",
   "id": "78e2f52e",
   "metadata": {
    "id": "78e2f52e"
   },
   "source": [
    "<br><br><center><h1 style=\"font-size:2em;color:#2467C0\">Tagesaufgaben 22.03.2023</h1></center>\n",
    "<br>\n"
   ]
  },
  {
   "cell_type": "markdown",
   "id": "721a8186",
   "metadata": {},
   "source": [
    "# Pfade, Lesen & Bearbeiten von Dateien"
   ]
  },
  {
   "cell_type": "markdown",
   "id": "a86437d3",
   "metadata": {},
   "source": [
    "## Aufgabe 1"
   ]
  },
  {
   "cell_type": "markdown",
   "id": "a1fbadc0",
   "metadata": {},
   "source": [
    "<div  class=\"alert alert-block alert-info\">\n",
    "1. Erstelle in Pycharm eine Text-Datei, die 6 Namen enthält. Jeder Name soll in einer neuen Zeile stehen. Die Textdatei soll im selben Ordner wie deine Tagesaufgaben liegen. Benenne die Datei namen.txt.\n",
    "<br /> Optional: Erstelle die Datei mit write() oder writelines().\n",
    "</div>"
   ]
  },
  {
   "cell_type": "markdown",
   "id": "87240f44",
   "metadata": {},
   "source": [
    "<div  class=\"alert alert-block alert-info\">\n",
    "2. Öffne die Datei und lese sie. Nutze dafür die \"with\" Schreibweise.\n",
    "    \n",
    "    Output:\n",
    "    Olga\n",
    "    Martin\n",
    "    Raffael\n",
    "    Petra\n",
    "    Maxi\n",
    "    Steffi\n",
    "    \n",
    "</div>"
   ]
  },
  {
   "cell_type": "code",
   "execution_count": null,
   "id": "e5c9e979",
   "metadata": {},
   "outputs": [],
   "source": []
  },
  {
   "cell_type": "markdown",
   "id": "d61c7b60",
   "metadata": {},
   "source": [
    "<div  class=\"alert alert-block alert-info\">\n",
    "3. Öffne die Datei und lese sie. Nutze dieses Mal NICHT die \"with\" Schreibweise.\n",
    "    \n",
    "    Output:\n",
    "    Olga\n",
    "    Martin\n",
    "    Raffael\n",
    "    Petra\n",
    "    Maxi\n",
    "    Steffi\n",
    "    \n",
    "</div>"
   ]
  },
  {
   "cell_type": "code",
   "execution_count": null,
   "id": "1a4f7290",
   "metadata": {},
   "outputs": [],
   "source": []
  },
  {
   "cell_type": "markdown",
   "id": "11b2a5b6",
   "metadata": {},
   "source": [
    "<div  class=\"alert alert-block alert-info\">\n",
    "4. Nenne den Unterschied zwischen den beiden Varianten, wie wir Dateien öffnen können (mit \"with\" oder ohne \"with\").\n",
    "    \n",
    "</div>"
   ]
  },
  {
   "cell_type": "code",
   "execution_count": null,
   "id": "bb7d77ce",
   "metadata": {},
   "outputs": [],
   "source": [
    "# "
   ]
  },
  {
   "cell_type": "markdown",
   "id": "bae58bc7",
   "metadata": {},
   "source": [
    "<div  class=\"alert alert-block alert-info\">\n",
    "5. Erstelle nun eine Textdatei an einer anderen Stelle in deinem Rechner (z.B. auf dem Desktop). Schreibe wieder 6 Namen (aber andere als in der ersten Datei) hinein und gib der Datei den Namen namen2.txt. Lies die Datei und lass dir wieder den Inhalt ausgeben.\n",
    "<br />\n",
    "Optional: Importiere os und erstelle den Unterordner meine_texte mit os.mkdir() in dem Ordner, in dem die Tagesaufgaben liegen. Erstelle dann die Datei mit writelines(). Lasse dir schließlich den Inhalt deines Ordners meine_texte mit os.listdir() anzeigen. Verwende die relative und die absolute Schreibweise.\n",
    "\n",
    "    Output:\n",
    "    Hans\n",
    "    Susanne\n",
    "    Rafaela\n",
    "    Miguel\n",
    "    Saba\n",
    "    Rohit\n",
    "    \n",
    "</div>"
   ]
  },
  {
   "cell_type": "code",
   "execution_count": null,
   "id": "b3864ca8",
   "metadata": {},
   "outputs": [],
   "source": []
  },
  {
   "cell_type": "markdown",
   "id": "5c604456",
   "metadata": {},
   "source": [
    "<div  class=\"alert alert-block alert-info\">\n",
    "6. Lies die erste Textdatei wieder und speichere den Inhalt in einer Variablen ab. Lass dir nach dem Schließen der Datei die Variable ausdrucken.\n",
    "    \n",
    "    Output:\n",
    "    Olga\n",
    "    Martin\n",
    "    Raffael\n",
    "    Petra\n",
    "    Maxi\n",
    "    Steffi\n",
    "    \n",
    "</div>"
   ]
  },
  {
   "cell_type": "code",
   "execution_count": null,
   "id": "76d81e07",
   "metadata": {},
   "outputs": [],
   "source": []
  },
  {
   "cell_type": "markdown",
   "id": "41a6851f",
   "metadata": {},
   "source": [
    "<div  class=\"alert alert-block alert-info\">\n",
    "7. Füge der ersten Textdatei deinen Namen am Ende hinzu. Versuche, den Namen in eine neue Zeile zu schreiben. Lass dir anschließend die neue Liste wieder ausgeben.\n",
    "    \n",
    "    Output:\n",
    "    Olga\n",
    "    Martin\n",
    "    Raffael\n",
    "    Petra\n",
    "    Maxi\n",
    "    Steffi\n",
    "    Pascal\n",
    "    \n",
    "</div>"
   ]
  },
  {
   "cell_type": "code",
   "execution_count": null,
   "id": "362172e8",
   "metadata": {},
   "outputs": [],
   "source": []
  },
  {
   "cell_type": "markdown",
   "id": "4add745f",
   "metadata": {},
   "source": [
    "<div  class=\"alert alert-block alert-info\">\n",
    "8. Ersetze in der ersten Textdatei den Namen von Petra durch den Namen Luisa. Lass dir anschließend die neue Liste ausgeben, ohne die Datei zu überspeichern.\n",
    "    \n",
    "    Output:\n",
    "    Olga\n",
    "    Martin\n",
    "    Raffael\n",
    "    Luisa\n",
    "    Maxi\n",
    "    Steffi\n",
    "    Pascal\n",
    "    \n",
    "</div>"
   ]
  },
  {
   "cell_type": "code",
   "execution_count": null,
   "id": "5dd21e4d",
   "metadata": {},
   "outputs": [],
   "source": []
  },
  {
   "cell_type": "markdown",
   "id": "cff20f4e",
   "metadata": {},
   "source": [
    "<div  class=\"alert alert-block alert-info\">\n",
    "9. Überschreibe nun die Datei mit den neuen Namen (der Liste mit Luisa statt Petra). Öffne die Datei und lass dir den Inhalt ausgeben.\n",
    "    \n",
    "    Output:\n",
    "    Olga\n",
    "    Martin\n",
    "    Raffael\n",
    "    Luisa\n",
    "    Maxi\n",
    "    Steffi\n",
    "    Pascal\n",
    "    \n",
    "</div>"
   ]
  },
  {
   "cell_type": "code",
   "execution_count": null,
   "id": "730280b1",
   "metadata": {
    "scrolled": true
   },
   "outputs": [],
   "source": []
  },
  {
   "cell_type": "markdown",
   "id": "9adc85ef",
   "metadata": {},
   "source": [
    "<div  class=\"alert alert-block alert-info\">\n",
    "10. Überprüfe, ob es die Textdatei mit den Namen im gleichen Ordner wie diese Aufgaben gibt. Nutze dafür os.\n",
    "    \n",
    "    Output:\n",
    "    Die Datei namen.txt ist vorhanden\n",
    "    \n",
    "</div>"
   ]
  },
  {
   "cell_type": "code",
   "execution_count": null,
   "id": "12a4c6fa",
   "metadata": {},
   "outputs": [],
   "source": []
  },
  {
   "cell_type": "markdown",
   "id": "5a031391",
   "metadata": {},
   "source": [
    "# Optional"
   ]
  },
  {
   "cell_type": "markdown",
   "id": "fd8877c9",
   "metadata": {},
   "source": [
    "Fasse die Lerninhalte von heute nochmal zusammen und notiere dir Fragen, die dir dabei kommen!"
   ]
  }
 ],
 "metadata": {
  "colab": {
   "provenance": []
  },
  "kernelspec": {
   "display_name": "Python 3 (ipykernel)",
   "language": "python",
   "name": "python3"
  },
  "language_info": {
   "codemirror_mode": {
    "name": "ipython",
    "version": 3
   },
   "file_extension": ".py",
   "mimetype": "text/x-python",
   "name": "python",
   "nbconvert_exporter": "python",
   "pygments_lexer": "ipython3",
   "version": "3.9.13"
  }
 },
 "nbformat": 4,
 "nbformat_minor": 5
}
