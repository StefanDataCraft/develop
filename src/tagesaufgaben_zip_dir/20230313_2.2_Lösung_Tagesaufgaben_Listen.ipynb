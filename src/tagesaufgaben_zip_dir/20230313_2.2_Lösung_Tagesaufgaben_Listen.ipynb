{
 "cells": [
  {
   "cell_type": "markdown",
   "id": "3ed5c634",
   "metadata": {},
   "source": [
    "### Aufgabe 6"
   ]
  },
  {
   "cell_type": "markdown",
   "id": "6e2682a6",
   "metadata": {},
   "source": [
    "Listen sind Datenstrukturen mit geordneten Daten. Listen in Python sind ähnlich zu Listen die du auf einem Blatt Papier aufschreibst (z.B. eine Einkausliste). Listen in Python werden bei ihrer Erstellung durch eckige Klammern [] erzeugt."
   ]
  },
  {
   "cell_type": "markdown",
   "id": "fa6e31a0",
   "metadata": {},
   "source": [
    " <div  class=\"alert alert-block alert-info\">\n",
    "1. Erstelle eine Liste, die deine drei Lieblingsfilme (oder Musiker, Reiseländer, Bücher) enthält.\n",
    "Wähle einen sinnvollen Namen für deine Liste!\n",
    "    Lass dir die Liste anschließend ausgeben."
   ]
  },
  {
   "cell_type": "code",
   "execution_count": 3,
   "id": "a07ceaff",
   "metadata": {
    "scrolled": true
   },
   "outputs": [
    {
     "data": {
      "text/plain": "['Memento', 'Knives Out', 'Joker']"
     },
     "execution_count": 3,
     "metadata": {},
     "output_type": "execute_result"
    }
   ],
   "source": [
    "filme = [\"Memento\", \"Knives Out\", \"Joker\"]\n",
    "filme"
   ]
  },
  {
   "cell_type": "code",
   "execution_count": 4,
   "outputs": [],
   "source": [
    "filme.remove(\"Memento\")"
   ],
   "metadata": {
    "collapsed": false
   }
  },
  {
   "cell_type": "code",
   "execution_count": 5,
   "outputs": [
    {
     "data": {
      "text/plain": "['Knives Out', 'Joker']"
     },
     "execution_count": 5,
     "metadata": {},
     "output_type": "execute_result"
    }
   ],
   "source": [
    "filme"
   ],
   "metadata": {
    "collapsed": false
   }
  },
  {
   "cell_type": "markdown",
   "id": "0b43e1d0",
   "metadata": {},
   "source": [
    " <div  class=\"alert alert-block alert-info\">\n",
    "2. Füge deiner Liste nun einen weiteren Eintrag hinzu und gib die Liste in einer weiteren Zelle wieder aus. Hinweis: append()"
   ]
  },
  {
   "cell_type": "code",
   "execution_count": 8,
   "id": "9b92c0e6",
   "metadata": {},
   "outputs": [],
   "source": [
    "filme += [\"Das Schweigen der Lämmer\"]"
   ]
  },
  {
   "cell_type": "code",
   "execution_count": 6,
   "id": "36d41eea",
   "metadata": {
    "scrolled": true
   },
   "outputs": [
    {
     "data": {
      "text/plain": "['Knives Out', 'Joker']"
     },
     "execution_count": 6,
     "metadata": {},
     "output_type": "execute_result"
    }
   ],
   "source": [
    "filme"
   ]
  },
  {
   "cell_type": "code",
   "execution_count": 7,
   "outputs": [],
   "source": [
    "del filme[1]"
   ],
   "metadata": {
    "collapsed": false
   }
  },
  {
   "cell_type": "markdown",
   "id": "6e833c71",
   "metadata": {},
   "source": [
    " <div  class=\"alert alert-block alert-info\">\n",
    "3. Lösche den zweiten Eintrag aus deiner Liste. Hinweis: del()"
   ]
  },
  {
   "cell_type": "code",
   "execution_count": 10,
   "id": "a133463e",
   "metadata": {},
   "outputs": [],
   "source": [
    "del(filme[1])"
   ]
  },
  {
   "cell_type": "code",
   "execution_count": 11,
   "id": "eba718cf",
   "metadata": {},
   "outputs": [
    {
     "data": {
      "text/plain": [
       "['Memento', 'Joker', 'Das Schweigen der Lämmer']"
      ]
     },
     "execution_count": 11,
     "metadata": {},
     "output_type": "execute_result"
    }
   ],
   "source": [
    "filme"
   ]
  },
  {
   "cell_type": "markdown",
   "id": "c80dff6d",
   "metadata": {},
   "source": [
    " <div  class=\"alert alert-block alert-info\">\n",
    "4. Füge an erster Stelle ein weiteres Element in deine Liste ein. Hinweis: insert()"
   ]
  },
  {
   "cell_type": "code",
   "execution_count": 12,
   "id": "bd6f3226",
   "metadata": {},
   "outputs": [],
   "source": [
    "filme.insert(0, \"Hallo\")"
   ]
  },
  {
   "cell_type": "code",
   "execution_count": 13,
   "id": "c7056668",
   "metadata": {},
   "outputs": [
    {
     "data": {
      "text/plain": [
       "['Hallo', 'Memento', 'Joker', 'Das Schweigen der Lämmer']"
      ]
     },
     "execution_count": 13,
     "metadata": {},
     "output_type": "execute_result"
    }
   ],
   "source": [
    "filme"
   ]
  },
  {
   "cell_type": "markdown",
   "id": "fa2afe0b",
   "metadata": {},
   "source": [
    " <div  class=\"alert alert-block alert-info\">\n",
    "5. Drehe deine Liste um. Hinweis: reverse()"
   ]
  },
  {
   "cell_type": "code",
   "execution_count": 14,
   "id": "71e88f5d",
   "metadata": {},
   "outputs": [],
   "source": [
    "filme.reverse()"
   ]
  },
  {
   "cell_type": "code",
   "execution_count": 15,
   "id": "47baf227",
   "metadata": {},
   "outputs": [
    {
     "data": {
      "text/plain": [
       "['Das Schweigen der Lämmer', 'Joker', 'Memento', 'Hallo']"
      ]
     },
     "execution_count": 15,
     "metadata": {},
     "output_type": "execute_result"
    }
   ],
   "source": [
    "filme"
   ]
  },
  {
   "cell_type": "markdown",
   "id": "e96b3a00",
   "metadata": {},
   "source": [
    " <div  class=\"alert alert-block alert-info\">\n",
    "6. Sortiere deine Liste alphabetisch. Hinweis: sort()"
   ]
  },
  {
   "cell_type": "code",
   "execution_count": 16,
   "id": "bfdf6a52",
   "metadata": {},
   "outputs": [],
   "source": [
    "filme.sort()"
   ]
  },
  {
   "cell_type": "code",
   "execution_count": 17,
   "id": "83da9e74",
   "metadata": {},
   "outputs": [
    {
     "data": {
      "text/plain": [
       "['Das Schweigen der Lämmer', 'Hallo', 'Joker', 'Memento']"
      ]
     },
     "execution_count": 17,
     "metadata": {},
     "output_type": "execute_result"
    }
   ],
   "source": [
    "filme"
   ]
  },
  {
   "cell_type": "markdown",
   "id": "51658127",
   "metadata": {},
   "source": [
    "### Aufgabe 7 - Optional"
   ]
  },
  {
   "cell_type": "markdown",
   "id": "03022af6",
   "metadata": {},
   "source": [
    " <div  class=\"alert alert-block alert-info\">\n",
    "Gegeben ist folgende Liste mit Namen. Der Name \"Weihnachtsmann\" wurde fälschlicherweise eingetragen und soll nun entfernt werden. Lösche ihn aus der Liste und lass dir anschließend die Liste alphabetisch sortiert anzeigen. Einschränkung: Zähle nicht selbst nach, an welcher Stelle sich der Name befindet, sondern lass Python das machen!"
   ]
  },
  {
   "cell_type": "code",
   "execution_count": 18,
   "id": "470eb52f",
   "metadata": {},
   "outputs": [],
   "source": [
    "namen = [\"Hans\", \"Tom\", \"Miriam\", \"Jochen\", \"Elrike\", \"Hannah\", \"Mareen\", \"Steffi\", \"Peter\", \"Weihnachtsmann\", \"Dirk\", \"Pascal\", \"Markus\", \"Boris\"]"
   ]
  },
  {
   "cell_type": "code",
   "execution_count": 19,
   "id": "29711f36",
   "metadata": {},
   "outputs": [
    {
     "data": {
      "text/plain": [
       "['Boris',\n",
       " 'Dirk',\n",
       " 'Elrike',\n",
       " 'Hannah',\n",
       " 'Hans',\n",
       " 'Jochen',\n",
       " 'Mareen',\n",
       " 'Markus',\n",
       " 'Miriam',\n",
       " 'Pascal',\n",
       " 'Peter',\n",
       " 'Steffi',\n",
       " 'Tom']"
      ]
     },
     "execution_count": 19,
     "metadata": {},
     "output_type": "execute_result"
    }
   ],
   "source": [
    "namen.remove(\"Weihnachtsmann\")\n",
    "namen.sort()\n",
    "namen"
   ]
  }
 ],
 "metadata": {
  "kernelspec": {
   "display_name": "base",
   "language": "python",
   "name": "python3"
  },
  "language_info": {
   "codemirror_mode": {
    "name": "ipython",
    "version": 3
   },
   "file_extension": ".py",
   "mimetype": "text/x-python",
   "name": "python",
   "nbconvert_exporter": "python",
   "pygments_lexer": "ipython3",
   "version": "3.10.8 | packaged by conda-forge | (main, Nov 24 2022, 14:07:00) [MSC v.1916 64 bit (AMD64)]"
  },
  "vscode": {
   "interpreter": {
    "hash": "67bfac4f4aefe1c16f1836a62d55b6e6baa7aba1ac5ce70e93ee8e90eb4f073a"
   }
  }
 },
 "nbformat": 4,
 "nbformat_minor": 5
}
