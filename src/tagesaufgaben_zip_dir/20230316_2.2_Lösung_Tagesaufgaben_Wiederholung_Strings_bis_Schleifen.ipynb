{
 "cells": [
  {
   "cell_type": "markdown",
   "id": "78e2f52e",
   "metadata": {
    "id": "78e2f52e"
   },
   "source": [
    "<br><br><center><h1 style=\"font-size:2em;color:#2467C0\">Tagesaufgaben 16.03.2023</h1></center>\n",
    "<br>\n"
   ]
  },
  {
   "cell_type": "markdown",
   "source": [
    "# 1. Wiederholung: Strings"
   ],
   "metadata": {
    "collapsed": false
   }
  },
  {
   "cell_type": "markdown",
   "source": [
    "1. Speichere den String \"Hallo\" in die Variable \"mein_string\". Hole dann mithilfe von Slicing (unter Einsatz von Indizes) folgende Teile des Strings heraus: Den ersten Buchstaben. Das letzte Zeichen (welche zwei Möglichkeiten bieten sich dir hier an? Notiere am besten beide Möglichkeiten). Und schließlich den Teil \"all\" aus dem String."
   ],
   "metadata": {
    "collapsed": false
   },
   "outputs": [
    {
     "ename": "SyntaxError",
     "evalue": "invalid syntax (530223342.py, line 1)",
     "output_type": "error",
     "traceback": [
      "\u001B[1;36m  Cell \u001B[1;32mIn[1], line 1\u001B[1;36m\u001B[0m\n\u001B[1;33m    1. Speichere den String \"Hallo\" in die Variable \"mein_string\". Hole dann mithilfe von Slicing (unter Einsatz von Indizes) folgende Teile des Strings heraus.\u001B[0m\n\u001B[1;37m       ^\u001B[0m\n\u001B[1;31mSyntaxError\u001B[0m\u001B[1;31m:\u001B[0m invalid syntax\n"
     ]
    }
   ],
   "execution_count": 1
  },
  {
   "cell_type": "code",
   "execution_count": 2,
   "outputs": [],
   "source": [
    "mein_string = \"Hallo!\""
   ],
   "metadata": {
    "collapsed": false
   }
  },
  {
   "cell_type": "code",
   "execution_count": 3,
   "outputs": [
    {
     "name": "stdout",
     "output_type": "stream",
     "text": [
      "H\n",
      "!\n",
      "all\n"
     ]
    }
   ],
   "source": [
    "print(mein_string[0])\n",
    "print(mein_string[-1]) # oder print(mein_string[len(mein_string)-1])\n",
    "print(mein_string[1:4])"
   ],
   "metadata": {
    "collapsed": false
   }
  },
  {
   "cell_type": "markdown",
   "source": [
    "2. Dein nächster String ist etwas größer. Hole zunächst den Teil \"Hallo!\" heraus. Dann hole dir \"Mir geht es gut!\" Und lass dir zum Schluss den mittleren Teil \"Wie geht es dir?\" ausgeben."
   ],
   "metadata": {
    "collapsed": false
   }
  },
  {
   "cell_type": "code",
   "execution_count": 17,
   "outputs": [
    {
     "data": {
      "text/plain": "'Hallo! Wie geht es dir? Mir geht es gut!'"
     },
     "execution_count": 17,
     "metadata": {},
     "output_type": "execute_result"
    }
   ],
   "source": [
    "mein_satz = \"Hallo! Wie geht es dir? Mir geht es gut!\"\n",
    "mein_satz"
   ],
   "metadata": {
    "collapsed": false
   }
  },
  {
   "cell_type": "code",
   "execution_count": 10,
   "outputs": [
    {
     "name": "stdout",
     "output_type": "stream",
     "text": [
      "Hallo!\n",
      "Mir geht es gut\n",
      "Wie geht es dir? \n"
     ]
    }
   ],
   "source": [
    "print(mein_satz[:6])\n",
    "print(mein_satz[-16:-1])\n",
    "print(mein_satz[7:-16])"
   ],
   "metadata": {
    "collapsed": false
   }
  },
  {
   "cell_type": "markdown",
   "source": [
    "3. Du möchtest die Grußformel in mein_satz ändern. Ersetze dafür das Wort \"Hallo\" mit \"Guten Morgen\" und lasse dir das Ergebnis ausgeben."
   ],
   "metadata": {
    "collapsed": false
   }
  },
  {
   "cell_type": "code",
   "execution_count": 18,
   "outputs": [
    {
     "data": {
      "text/plain": "'Guten Morgen! Wie geht es dir? Mir geht es gut!'"
     },
     "execution_count": 18,
     "metadata": {},
     "output_type": "execute_result"
    }
   ],
   "source": [
    "mein_satz = mein_satz.replace(\"Hallo\", \"Guten Morgen\")\n",
    "mein_satz"
   ],
   "metadata": {
    "collapsed": false
   }
  },
  {
   "cell_type": "markdown",
   "source": [
    "# 2. Wiederholung: Operatoren und Wahrheitswerte"
   ],
   "metadata": {
    "collapsed": false
   }
  },
  {
   "cell_type": "markdown",
   "source": [
    "1. Schreibe in Python in mehreren Zellen: a) 5 ist gleich 5. b) 12 ist größer als 15. c) 8 ist gleich 8 oder 500 ist kleiner als 5. Was erhältst du in der jeweiligen Ausgabe? Wie interpretierst du den jeweiligen Wert?"
   ],
   "metadata": {
    "collapsed": false
   }
  },
  {
   "cell_type": "code",
   "execution_count": 19,
   "outputs": [
    {
     "data": {
      "text/plain": "True"
     },
     "execution_count": 19,
     "metadata": {},
     "output_type": "execute_result"
    }
   ],
   "source": [
    "5 == 5 # Wahr, weil die Aussage mathematisch korrekt ist."
   ],
   "metadata": {
    "collapsed": false
   }
  },
  {
   "cell_type": "code",
   "execution_count": 20,
   "outputs": [
    {
     "data": {
      "text/plain": "False"
     },
     "execution_count": 20,
     "metadata": {},
     "output_type": "execute_result"
    }
   ],
   "source": [
    "12 > 15 # Falsch, weil 15 größer als 12"
   ],
   "metadata": {
    "collapsed": false
   }
  },
  {
   "cell_type": "code",
   "execution_count": 23,
   "outputs": [
    {
     "data": {
      "text/plain": "True"
     },
     "execution_count": 23,
     "metadata": {},
     "output_type": "execute_result"
    }
   ],
   "source": [
    "8 == 8 or 500 < 5 # Wahr, weil eine der Bedingungen erfüllt ist und der or-Operator mindestens eine wahre Bedingung braucht."
   ],
   "metadata": {
    "collapsed": false
   }
  },
  {
   "cell_type": "markdown",
   "source": [
    "2. Nun vergleichen wir Strings! Vergleiche die Strings \"Guten Tag\" mit \"guten tag\". Sind diese für Python identisch? Erkläre in einem Kommentar."
   ],
   "metadata": {
    "collapsed": false
   }
  },
  {
   "cell_type": "code",
   "execution_count": 24,
   "outputs": [],
   "source": [
    "string1 = \"Guten Tag\"\n",
    "string2 = \"guten tag\""
   ],
   "metadata": {
    "collapsed": false
   }
  },
  {
   "cell_type": "code",
   "execution_count": 27,
   "outputs": [
    {
     "data": {
      "text/plain": "False"
     },
     "execution_count": 27,
     "metadata": {},
     "output_type": "execute_result"
    }
   ],
   "source": [
    "string1 == string2 # Nein, weil bei Strings Groß- und Kleinschreibung unterschieden werden."
   ],
   "metadata": {
    "collapsed": false
   }
  },
  {
   "cell_type": "markdown",
   "source": [
    "3. Jetzt noch eine Aufgabe mit Listen. Du hast zwei verschiedene Listen. Du möchtest ihr Länge (!) vergleichen. Wie stellst du das an? Und wie interpretierst du den Output?"
   ],
   "metadata": {
    "collapsed": false
   }
  },
  {
   "cell_type": "code",
   "execution_count": 28,
   "outputs": [],
   "source": [
    "liste1 = [124543243432, \"Hallo, wie geht es dir?\", True, \"Der Frühling ist da\"]"
   ],
   "metadata": {
    "collapsed": false
   }
  },
  {
   "cell_type": "code",
   "execution_count": 29,
   "outputs": [],
   "source": [
    "liste2 = [1,2,3,4]"
   ],
   "metadata": {
    "collapsed": false
   }
  },
  {
   "cell_type": "code",
   "execution_count": 31,
   "outputs": [
    {
     "data": {
      "text/plain": "True"
     },
     "execution_count": 31,
     "metadata": {},
     "output_type": "execute_result"
    }
   ],
   "source": [
    "len(liste1) == len(liste2) # Wahr, weil die Zahl der Elemente in der Liste gleich ist."
   ],
   "metadata": {
    "collapsed": false
   }
  },
  {
   "cell_type": "markdown",
   "source": [
    "# 3. Wiederholung: Listen, Tupel, Dictionaries und Sets"
   ],
   "metadata": {
    "collapsed": false
   }
  },
  {
   "cell_type": "markdown",
   "source": [
    "1. Du möchtest ein Regal an der Wand befestigen und brauchst dafür folgende Gegenstände: Bohrmaschine, Bohrer, Wasserwaage. Hol sie aus deiner Werkzeugliste!"
   ],
   "metadata": {
    "collapsed": false
   }
  },
  {
   "cell_type": "code",
   "execution_count": 80,
   "outputs": [],
   "source": [
    "werkzeugliste = [\"Hammer\", \"Schraubenzieher\", \"Wasserwaage\", \"Bohrmaschine\", \"Winkel\", \"Säge\", \"Bohrer\"]"
   ],
   "metadata": {
    "collapsed": false
   }
  },
  {
   "cell_type": "code",
   "execution_count": 81,
   "outputs": [
    {
     "ename": "SyntaxError",
     "evalue": "invalid syntax (1519047448.py, line 1)",
     "output_type": "error",
     "traceback": [
      "\u001B[1;36m  Cell \u001B[1;32mIn[81], line 1\u001B[1;36m\u001B[0m\n\u001B[1;33m    werkzeugliste[2:4;-1]\u001B[0m\n\u001B[1;37m                     ^\u001B[0m\n\u001B[1;31mSyntaxError\u001B[0m\u001B[1;31m:\u001B[0m invalid syntax\n"
     ]
    }
   ],
   "source": [
    "werkzeugliste[2:4-1]"
   ],
   "metadata": {
    "collapsed": false
   }
  },
  {
   "cell_type": "code",
   "execution_count": 34,
   "outputs": [
    {
     "name": "stdout",
     "output_type": "stream",
     "text": [
      "Bohrmaschine\n",
      "Bohrer\n",
      "Wasserwaage\n"
     ]
    }
   ],
   "source": [
    "print(werkzeugliste[3])\n",
    "print(werkzeugliste[-1])\n",
    "print(werkzeugliste[2])"
   ],
   "metadata": {
    "collapsed": false
   }
  },
  {
   "cell_type": "markdown",
   "source": [
    "2. Du stellst leider fest, dass die Wasserwaage kaputt ist. Du holst dir eine neue Wasserwaage, die du \"neue Wasserwaage\" nennst. Kannst du die alte Wasserwaage in der Liste durch die neue ersetzen?"
   ],
   "metadata": {
    "collapsed": false
   }
  },
  {
   "cell_type": "code",
   "execution_count": 35,
   "outputs": [
    {
     "name": "stdout",
     "output_type": "stream",
     "text": [
      "['Hammer', 'Schraubenzieher', 'Bohrmaschine', 'Winkel', 'Säge', 'Bohrer', 'neue Wasserwaage']\n"
     ]
    }
   ],
   "source": [
    "werkzeugliste.remove(\"Wasserwaage\")\n",
    "werkzeugliste.append(\"neue Wasserwaage\")\n",
    "print(werkzeugliste)"
   ],
   "metadata": {
    "collapsed": false
   }
  },
  {
   "cell_type": "markdown",
   "source": [
    "3. Du hast eine Liste mit Stiften. Manche davon sind gleich. Mache daraus ein Set, damit du weißt wie viele Stifte in verschiedenen Farben du insgesamt hast. Messe die Länge des Sets!"
   ],
   "metadata": {
    "collapsed": false
   }
  },
  {
   "cell_type": "code",
   "execution_count": 36,
   "outputs": [],
   "source": [
    "stifte_liste = [\"schwarzer Stift\",\"roter Stift\",\"grüner Stift\",\"schwarzer Stift\",\"violetter Stift\",\"grüner Stift\",\"grauer Stift\",\"roter Stift\",\"roter Stift\",\"roter Stift\",\"blauer Stift\",\"schwarzer Stift\",\"grauer Stift\",\"grüner Stift\",\"roter Stift\"]"
   ],
   "metadata": {
    "collapsed": false
   }
  },
  {
   "cell_type": "code",
   "execution_count": 37,
   "outputs": [
    {
     "data": {
      "text/plain": "{'blauer Stift',\n 'grauer Stift',\n 'grüner Stift',\n 'roter Stift',\n 'schwarzer Stift',\n 'violetter Stift'}"
     },
     "execution_count": 37,
     "metadata": {},
     "output_type": "execute_result"
    }
   ],
   "source": [
    "set(stifte_liste)"
   ],
   "metadata": {
    "collapsed": false
   }
  },
  {
   "cell_type": "code",
   "execution_count": 39,
   "outputs": [
    {
     "data": {
      "text/plain": "6"
     },
     "execution_count": 39,
     "metadata": {},
     "output_type": "execute_result"
    }
   ],
   "source": [
    "len(set(stifte_liste)) # Wir haben Stifte in sechs unterschiedlichen Farben."
   ],
   "metadata": {
    "collapsed": false
   }
  },
  {
   "cell_type": "markdown",
   "source": [
    "4. Du hast ein Dictionary mit Namen von Menschen und dem zugehörigen Alter. Lasse dir über den Dictionary das Alter von Axel und von Frieda ausgeben. Lasse dir außerdem alle items ausgeben."
   ],
   "metadata": {
    "collapsed": false
   }
  },
  {
   "cell_type": "code",
   "execution_count": 40,
   "outputs": [],
   "source": [
    "alter_dict = {\"Axel\":45,\"Cindy\":54,\"Frieda\":82,\"Tobias\":27}"
   ],
   "metadata": {
    "collapsed": false
   }
  },
  {
   "cell_type": "code",
   "execution_count": 41,
   "outputs": [
    {
     "name": "stdout",
     "output_type": "stream",
     "text": [
      "45\n",
      "82\n"
     ]
    }
   ],
   "source": [
    "print(alter_dict[\"Axel\"])\n",
    "print(alter_dict[\"Frieda\"])"
   ],
   "metadata": {
    "collapsed": false
   }
  },
  {
   "cell_type": "markdown",
   "source": [
    "5. Optional: Du hast ein komplexeres Dictionary mit IDs. Für jede ID gibt es wieder ein Dictionary. Du möchtest wissen, wie die Person mit ID 1254 heißt und welche Position sie einnimmt. Lasse dir auch die Person zu 1257 ausgeben."
   ],
   "metadata": {
    "collapsed": false
   }
  },
  {
   "cell_type": "code",
   "execution_count": 42,
   "outputs": [],
   "source": [
    "leute_dict = {1254:{\"Name\":\"Axel Schweitz\", \"Alter\":45, \"Position\":\"HR\"},1255:{\"Name\":\"Sandra Binder\", \"Alter\":27, \"Position\":\"Sales\"},1257:{\"Name\":\"Johanna Weichaus\", \"Alter\":45, \"Position\":\"PR-Managerin\"}}"
   ],
   "metadata": {
    "collapsed": false
   }
  },
  {
   "cell_type": "code",
   "execution_count": 43,
   "outputs": [
    {
     "name": "stdout",
     "output_type": "stream",
     "text": [
      "Axel Schweitz\n",
      "HR\n",
      "Johanna Weichaus\n",
      "PR-Managerin\n"
     ]
    }
   ],
   "source": [
    "print(leute_dict[1254][\"Name\"])\n",
    "print(leute_dict[1254][\"Position\"])\n",
    "print(leute_dict[1257][\"Name\"])\n",
    "print(leute_dict[1257][\"Position\"])"
   ],
   "metadata": {
    "collapsed": false
   }
  },
  {
   "cell_type": "markdown",
   "source": [
    "# 4. Wiederholung: Bedingungen"
   ],
   "metadata": {
    "collapsed": false
   }
  },
  {
   "cell_type": "markdown",
   "source": [
    "1. Du arbeitest mit Zahlen. Falls eine Zahl größer ist als 10, willst du die Ausgabe \"Größer als zehn!\" erhalten. Sonst soll \"nicht größer als zehn...\" erscheinen. Löse die Aufgabe mit Bedingungen und überprüfe mit mehreren Zahlen."
   ],
   "metadata": {
    "collapsed": false
   }
  },
  {
   "cell_type": "code",
   "execution_count": 44,
   "outputs": [],
   "source": [
    "zahl1 = 5\n",
    "zahl2 = 20\n",
    "zahl3 = 10"
   ],
   "metadata": {
    "collapsed": false
   }
  },
  {
   "cell_type": "code",
   "execution_count": 45,
   "outputs": [
    {
     "name": "stdout",
     "output_type": "stream",
     "text": [
      "nicht größer als zehn....\n"
     ]
    }
   ],
   "source": [
    "if zahl1 > 10:\n",
    "    print(\"Größer als zehn!\")\n",
    "else:\n",
    "    print(\"nicht größer als zehn....\")"
   ],
   "metadata": {
    "collapsed": false
   }
  },
  {
   "cell_type": "markdown",
   "source": [
    "2. Du willst ein einfaches Chatprogramm schreiben. Wenn der Nutzer \"Hallo!\" schreibt, soll es antworten. \"Willkommen in unserem Portal! Wie kann ich dir helfen?\". Wenn der Nutzer schreibt \"Wie geht es dir?\", sollst du immer antworten: \"Ich bin ein Programm und habe leider keine Gefühle. Und wie geht es dir?\" Wenn Der Nutzer \"Auf Wiedersehen!\" schreibt, dann antwortet dein Programm: \"Auf Wiedersehen! Besuch uns gerne bald wieder!\" In allen anderen Fällen soll dein Programm antworten: \"Entschuldigung. Das habe ich nicht verstanden. Setze in die Variabel austausch die verschiedenen Nutzertexte ein und schaue, wie dein Programm darauf reagiert!"
   ],
   "metadata": {
    "collapsed": false
   }
  },
  {
   "cell_type": "code",
   "execution_count": 57,
   "outputs": [],
   "source": [
    "austausch = \"Hallo!\""
   ],
   "metadata": {
    "collapsed": false
   }
  },
  {
   "cell_type": "code",
   "execution_count": 58,
   "outputs": [
    {
     "name": "stdout",
     "output_type": "stream",
     "text": [
      "Willkommen in unserem Portal! Wie kann ich dir helfen?\n"
     ]
    }
   ],
   "source": [
    "if austausch == \"Hallo!\":\n",
    "    print(\"Willkommen in unserem Portal! Wie kann ich dir helfen?\")\n",
    "elif austausch == \"Wie geht es dir?\":\n",
    "    print(\"Ich bin ein Programm und habe leider keine Gefühle. Und wie geht es dir?\")\n",
    "elif austausch == \"Auf Wiedersehen!\":\n",
    "    print(\"Auf Wiedersehen! Besuch uns gerne bald wieder!\")\n",
    "else:\n",
    "    print(\"Entschuldigung. Das habe ich nicht verstanden.\")"
   ],
   "metadata": {
    "collapsed": false
   }
  },
  {
   "cell_type": "markdown",
   "source": [
    "# 5. Wiederholung: For-Schleifen"
   ],
   "metadata": {
    "collapsed": false
   }
  },
  {
   "cell_type": "markdown",
   "source": [
    "1. Du hast eine Zahlenliste. Gehe diese mit einer Schleife durch und lass dir alle Zahlen ausgeben, die größer als zehn sind. Der Output sollte am Beispiel der Zahl 100 so aussehen: 100 ist größer als 10. Wenn du das gerade nicht hinkriegst, dann lasse dir einfach alle Zahlen ausgeben, die größer als 10 sind!"
   ],
   "metadata": {
    "collapsed": false
   }
  },
  {
   "cell_type": "code",
   "execution_count": 59,
   "outputs": [],
   "source": [
    "zahlenliste = [10,8, 100, 23, 75, 5, 3, 99999]"
   ],
   "metadata": {
    "collapsed": false
   }
  },
  {
   "cell_type": "code",
   "execution_count": 62,
   "outputs": [
    {
     "name": "stdout",
     "output_type": "stream",
     "text": [
      "10 ist nicht größer als 10\n",
      "8 ist nicht größer als 10\n",
      "100 ist größer als 10\n",
      "23 ist größer als 10\n",
      "75 ist größer als 10\n",
      "5 ist nicht größer als 10\n",
      "3 ist nicht größer als 10\n",
      "99999 ist größer als 10\n"
     ]
    }
   ],
   "source": [
    "for zahl in zahlenliste:\n",
    "    if zahl > 10:\n",
    "        print(zahl, \"ist größer als 10\")\n",
    "    else:\n",
    "        print(zahl, \"ist nicht größer als 10\")"
   ],
   "metadata": {
    "collapsed": false
   }
  },
  {
   "cell_type": "markdown",
   "source": [
    "2. Lasse dir alle Zahlen größer zehn als Liste mittels List Comprehension zurückgeben!"
   ],
   "metadata": {
    "collapsed": false
   }
  },
  {
   "cell_type": "code",
   "execution_count": 68,
   "outputs": [
    {
     "data": {
      "text/plain": "[100, 23, 75, 99999]"
     },
     "execution_count": 68,
     "metadata": {},
     "output_type": "execute_result"
    }
   ],
   "source": [
    "[zahl for zahl in zahlenliste if zahl > 10]"
   ],
   "metadata": {
    "collapsed": false
   }
  },
  {
   "cell_type": "markdown",
   "source": [
    " 3. Du hast eine Namensliste. Durchsuche diese mit einer For-Schleife und lasse dir für jeden Max ausgeben: \"Ein Max wurde in der Liste gefunden!\" Optional: Wenn du die Challenge suchst, lasse dir die Indexposition des jeweiligen Max' mit ausgeben! Tipp: Informiere dich über enumerate."
   ],
   "metadata": {
    "collapsed": false
   }
  },
  {
   "cell_type": "code",
   "execution_count": 63,
   "outputs": [],
   "source": [
    "namensliste = [\"Lisa\", \"Bert\", \"Cassandra\", \"John\", \"Max\", \"Sara\", \"Wilhelmine\", \"Franz-Josef\", \"Max\", \"Andrea\", \"Jutta\", \"Hendrik\", \"Max\", \"Fred\", \"Aline\", \"Batman\", \"Jana\", \"Max\", \"Linda\"]"
   ],
   "metadata": {
    "collapsed": false
   }
  },
  {
   "cell_type": "code",
   "execution_count": 71,
   "outputs": [
    {
     "name": "stdout",
     "output_type": "stream",
     "text": [
      "Ein Max wurde in der Liste gefunden!\n",
      "Ein Max wurde in der Liste gefunden!\n",
      "Ein Max wurde in der Liste gefunden!\n",
      "Ein Max wurde in der Liste gefunden!\n"
     ]
    }
   ],
   "source": [
    "# Erwartete Lösung\n",
    "for name in namensliste:\n",
    "    if name == \"Max\":\n",
    "        print(\"Ein Max wurde in der Liste gefunden!\")"
   ],
   "metadata": {
    "collapsed": false
   }
  },
  {
   "cell_type": "code",
   "execution_count": 70,
   "outputs": [
    {
     "name": "stdout",
     "output_type": "stream",
     "text": [
      "Ein Max wurde in der Liste gefunden an Position: 4\n",
      "Ein Max wurde in der Liste gefunden an Position: 8\n",
      "Ein Max wurde in der Liste gefunden an Position: 12\n",
      "Ein Max wurde in der Liste gefunden an Position: 17\n"
     ]
    }
   ],
   "source": [
    "# Fortgeschrittene Lösung\n",
    "for i, name in enumerate(namensliste):\n",
    "    if name == \"Max\":\n",
    "        print(\"Ein Max wurde in der Liste gefunden an Position:\", i)"
   ],
   "metadata": {
    "collapsed": false
   }
  },
  {
   "cell_type": "markdown",
   "source": [
    "4. Optional: Du hast eine Liste mit Kinobesuchern, deren Namen und Alter in Tupeln gespeichert sind. Der Film ist ab 16. Einige Besucher sind zu jung. Lasse dir ausgeben, wer reinkommt und wer nicht. Sprich die Menschen mit Namen an, also \"Max, du darfst rein!\" oder \"Jonas, du darfst nicht rein."
   ],
   "metadata": {
    "collapsed": false
   }
  },
  {
   "cell_type": "code",
   "execution_count": 73,
   "outputs": [],
   "source": [
    "kinobesucher = [(\"Max\",20), (\"Andrea\",12), (\"Jonas\",6), (\"Ruth\",80), (\"Eduard\",82), (\"Anna\",17), (\"Hanna\",16), (\"Gregor\",40)]"
   ],
   "metadata": {
    "collapsed": false
   }
  },
  {
   "cell_type": "code",
   "execution_count": 77,
   "outputs": [
    {
     "name": "stdout",
     "output_type": "stream",
     "text": [
      "Max, du darfst rein!\n",
      "Andrea, du darfst nicht rein!\n",
      "Jonas, du darfst nicht rein!\n",
      "Ruth, du darfst rein!\n",
      "Eduard, du darfst rein!\n",
      "Anna, du darfst rein!\n",
      "Hanna, du darfst rein!\n",
      "Gregor, du darfst rein!\n"
     ]
    }
   ],
   "source": [
    "for besucher in kinobesucher:\n",
    "    if besucher[1] >=16:\n",
    "        print(besucher[0] + \", du darfst rein!\")\n",
    "    else:\n",
    "        print(besucher[0] + \", du darfst nicht rein!\")"
   ],
   "metadata": {
    "collapsed": false
   }
  },
  {
   "cell_type": "markdown",
   "source": [
    "5. Eine Übung zur while-Schleife noch: Schreibe ein nerviges Programm, das den Nutzer solange bittet, Stop einzugeben, bis er es tut. Lass zunächst die obige Zelle mit einem leeren Nutzer-Input laufen. Erkläre in einem Kommentar, warum das sinnvoll ist."
   ],
   "metadata": {
    "collapsed": false
   }
  },
  {
   "cell_type": "code",
   "execution_count": 78,
   "outputs": [],
   "source": [
    "nutzer_input = ''"
   ],
   "metadata": {
    "collapsed": false
   }
  },
  {
   "cell_type": "code",
   "execution_count": 79,
   "outputs": [],
   "source": [
    "while nutzer_input != \"Stop\":\n",
    "    nutzer_input = input('Geben Sie bitte das Wort Stop ein, wenn das Programm aufhören soll zu laufen')"
   ],
   "metadata": {
    "collapsed": false
   }
  },
  {
   "cell_type": "markdown",
   "source": [
    "# 6. Nur so nebenher"
   ],
   "metadata": {
    "collapsed": false
   }
  },
  {
   "cell_type": "markdown",
   "source": [
    "Philosophisch betrachten trifft Wahrheit entweder zu oder nicht, Wahrheiten lassen sich aber nicht quantifizieren. Will heißen: Zwei Wahrheiten können nicht \"wahrer\" sein als eine Wahrheit. Python sieht das anders. Führe die untere Zelle aus. Wie interpretierst du die Ausgabe und wie erklärst du dir das Ergebnis?"
   ],
   "metadata": {
    "collapsed": false
   }
  },
  {
   "cell_type": "code",
   "execution_count": 72,
   "outputs": [
    {
     "data": {
      "text/plain": "True"
     },
     "execution_count": 72,
     "metadata": {},
     "output_type": "execute_result"
    }
   ],
   "source": [
    "True + True > True # True ist numerisch betrachtet eine 1 und 1+1 ist größer 1."
   ],
   "metadata": {
    "collapsed": false
   }
  }
 ],
 "metadata": {
  "colab": {
   "provenance": []
  },
  "kernelspec": {
   "display_name": "Python 3 (ipykernel)",
   "language": "python",
   "name": "python3"
  },
  "language_info": {
   "codemirror_mode": {
    "name": "ipython",
    "version": 3
   },
   "file_extension": ".py",
   "mimetype": "text/x-python",
   "name": "python",
   "nbconvert_exporter": "python",
   "pygments_lexer": "ipython3",
   "version": "3.9.13"
  }
 },
 "nbformat": 4,
 "nbformat_minor": 5
}
