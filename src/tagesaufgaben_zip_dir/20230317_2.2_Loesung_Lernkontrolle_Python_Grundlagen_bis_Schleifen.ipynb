{
 "cells": [
  {
   "cell_type": "markdown",
   "id": "f6bc5e1d",
   "metadata": {},
   "source": [
    "<br><br><center><h1 style=\"font-size:2em;color:green\">Lernkontrolle 17.03.2022</h1></center>\n",
    "<br>"
   ]
  },
  {
   "cell_type": "markdown",
   "id": "008d73a6",
   "metadata": {},
   "source": [
    "# Aufgabe 1 - Datentypen"
   ]
  },
  {
   "cell_type": "markdown",
   "id": "0e3517f6",
   "metadata": {},
   "source": [
    "1. Definiere mit deinen eigenen Worten die Begriffe Variable, Liste, Tupel, Dictionary, Set. (5 Punkte)"
   ]
  },
  {
   "cell_type": "code",
   "execution_count": null,
   "id": "9c88ec0b",
   "metadata": {},
   "outputs": [],
   "source": [
    "# Variable: Eine Variable im allgemeinsten Sinne ist einfach ein Behälter (Container) zur Aufbewahrung von bestimmten Werten, also z.B. Strings oder Zahlen.\n",
    "# Liste: In Python ist eine Liste ein Datentyp, der eine geordnete Sammlung verschiedener Objekte (Elemente) in einer eckigen Klammer ([]) speichert.\n",
    "# Tupel: Python Tuples sind Sammlungen verschiedener oder gleicher Daten, die mit einem Index ausgezeichnet werden und nicht veränderbar sind\n",
    "# Dictionary: Dictionaries sind Datentypen die verschiedene Elemente beinhalten können und in denen Elemente nicht per Index sortiert sind, sondern mit Keys.\n",
    "# Set: Ein set enthält eine ungeordnete Sammlung von einmaligen und unveränderlichen Elementen."
   ]
  },
  {
   "cell_type": "markdown",
   "id": "7e3ccbed",
   "metadata": {},
   "source": [
    "2. Nenne den wichtigsten Unterschied zwischen Listen und Tupel. (2 Punkte)"
   ]
  },
  {
   "cell_type": "code",
   "execution_count": 1,
   "id": "74c703a8",
   "metadata": {},
   "outputs": [],
   "source": [
    "# Immutabilität/Unveränderbarkeit von Tupeln vs. Veränderbarkeit von Listen."
   ]
  },
  {
   "cell_type": "markdown",
   "id": "50dcadb8",
   "metadata": {},
   "source": [
    "3. Nenne die beiden Booleschen Werte und erkläre, wofür jeder davon steht. (2 Punkte)"
   ]
  },
  {
   "cell_type": "code",
   "execution_count": null,
   "id": "51a81f7b",
   "metadata": {},
   "outputs": [],
   "source": [
    "# True: ist der Boolesche Wert für den Fall, dass eine Bedingung zutrifft\n",
    "# False: ist der Boolesche Wert für den Fall, dass eine Bedingung nicht zutrifft"
   ]
  },
  {
   "cell_type": "markdown",
   "id": "14111c14",
   "metadata": {},
   "source": [
    "4. Ändere den Datentyp der Variable x in einen String, der Variable y in eine ganze Zahl und den der Variable z in eine Dezimalzahl. (3 Punkte)"
   ]
  },
  {
   "cell_type": "code",
   "execution_count": 5,
   "id": "fe2cc928",
   "metadata": {},
   "outputs": [
    {
     "data": {
      "text/plain": "1.0"
     },
     "execution_count": 5,
     "metadata": {},
     "output_type": "execute_result"
    }
   ],
   "source": [
    "x = 4.5\n",
    "y = 7.3\n",
    "z = 1\n",
    "\n",
    "str(x)\n",
    "int(y)\n",
    "float(z)"
   ]
  },
  {
   "cell_type": "markdown",
   "id": "8e3e3e4a",
   "metadata": {},
   "source": [
    "# Aufgabe 2 - Strings"
   ]
  },
  {
   "cell_type": "markdown",
   "id": "da96ba6b",
   "metadata": {},
   "source": [
    "1. Definiere zwei Variablen gruss und welt mit den Inhalten \"Hallo\" und \"Welt\". Lass dir anschließend beide Strings hintereinander ausgeben. Zwischen beiden Strings sollte ein Leerzeichen stehen. (2 Punkte)"
   ]
  },
  {
   "cell_type": "code",
   "execution_count": 2,
   "id": "672d4f8e",
   "metadata": {},
   "outputs": [
    {
     "data": {
      "text/plain": "'Hallo Welt'"
     },
     "execution_count": 2,
     "metadata": {},
     "output_type": "execute_result"
    }
   ],
   "source": [
    "wort_1 = \"Hallo\"\n",
    "wort_2 = \"Welt\"\n",
    "\n",
    "wort_1 + \" \" + wort_2"
   ]
  },
  {
   "cell_type": "markdown",
   "id": "b86c5b46",
   "metadata": {},
   "source": [
    "2. Lass dir die Länge der ersten deiner Variablen ausgeben. (1 Punkt)"
   ]
  },
  {
   "cell_type": "code",
   "execution_count": 3,
   "id": "016dc5b3",
   "metadata": {},
   "outputs": [
    {
     "data": {
      "text/plain": "5"
     },
     "execution_count": 3,
     "metadata": {},
     "output_type": "execute_result"
    }
   ],
   "source": [
    "len(wort_1)"
   ]
  },
  {
   "cell_type": "markdown",
   "id": "ab287e2b",
   "metadata": {},
   "source": [
    "3. Füge die beiden Variablen so zusammen, dass ein String mit einem Leerzeichen entsteht. Lass dir die  Länge ausgeben. (2 Punkte)"
   ]
  },
  {
   "cell_type": "code",
   "execution_count": 4,
   "id": "2cda4a6f",
   "metadata": {},
   "outputs": [
    {
     "data": {
      "text/plain": "10"
     },
     "execution_count": 4,
     "metadata": {},
     "output_type": "execute_result"
    }
   ],
   "source": [
    "len(wort_1 + \" \" + wort_2)"
   ]
  },
  {
   "cell_type": "markdown",
   "id": "500efb87",
   "metadata": {},
   "source": [
    "4. Gib nur den zweiten Buchstaben deiner ersten Variable aus. (2 Punkte)"
   ]
  },
  {
   "cell_type": "code",
   "execution_count": 6,
   "id": "9b02a131",
   "metadata": {},
   "outputs": [
    {
     "data": {
      "text/plain": "'a'"
     },
     "execution_count": 6,
     "metadata": {},
     "output_type": "execute_result"
    }
   ],
   "source": [
    "wort_1[1]"
   ]
  },
  {
   "cell_type": "markdown",
   "id": "c7541ccf",
   "metadata": {},
   "source": [
    "5. Gib die letzten beiden Buchstaben deiner zweiten Variable aus. Verwende dazu eine Schreibweise, bei der die Länge der Variable egal ist. (2 Punkte)"
   ]
  },
  {
   "cell_type": "code",
   "execution_count": 7,
   "id": "0e516957",
   "metadata": {},
   "outputs": [
    {
     "data": {
      "text/plain": "'lt'"
     },
     "execution_count": 7,
     "metadata": {},
     "output_type": "execute_result"
    }
   ],
   "source": [
    "wort_2[-2:]"
   ]
  },
  {
   "cell_type": "markdown",
   "id": "5cd7414a",
   "metadata": {},
   "source": [
    "# Aufgabe 3 - Listen"
   ]
  },
  {
   "cell_type": "markdown",
   "id": "237acf4a",
   "metadata": {},
   "source": [
    "1. Erstelle eine Liste mit fünf verschiedenen Tieren: Pinguin, Panda, Elefant, Giraffe, Zebra. Lass dir den Inhalt ausgeben. (3 Punkte)"
   ]
  },
  {
   "cell_type": "code",
   "execution_count": 9,
   "id": "bc85f5cb",
   "metadata": {},
   "outputs": [
    {
     "name": "stdout",
     "output_type": "stream",
     "text": [
      "['Pinguin', 'Panda', 'Elefant', 'Giraffe', 'Zebra']\n"
     ]
    }
   ],
   "source": [
    "tierliste = [\"Pinguin\", \"Panda\", \"Elefant\", \"Giraffe\", \"Zebra\"]\n",
    "print(tierliste)"
   ]
  },
  {
   "cell_type": "markdown",
   "id": "cdd8c8c8",
   "metadata": {},
   "source": [
    "2. Füge deiner Liste einen weiteren Eintrag Hyäne hinzu, ohne die Liste selbst neu zu definieren. Lass dir die aktualisierte Liste ausgeben. (2 Punkte)"
   ]
  },
  {
   "cell_type": "code",
   "execution_count": 10,
   "id": "62c6872d",
   "metadata": {},
   "outputs": [],
   "source": [
    "tierliste.append(\"Hyäne\")"
   ]
  },
  {
   "cell_type": "code",
   "execution_count": 11,
   "outputs": [
    {
     "data": {
      "text/plain": "['Pinguin', 'Panda', 'Elefant', 'Giraffe', 'Zebra', 'Hyäne']"
     },
     "execution_count": 11,
     "metadata": {},
     "output_type": "execute_result"
    }
   ],
   "source": [
    "tierliste"
   ],
   "metadata": {
    "collapsed": false
   }
  },
  {
   "cell_type": "markdown",
   "id": "a48974f2",
   "metadata": {},
   "source": [
    "3. Sortiere die Liste alphabetisch. (2 Punkte)"
   ]
  },
  {
   "cell_type": "code",
   "execution_count": 12,
   "outputs": [
    {
     "data": {
      "text/plain": "['Elefant', 'Giraffe', 'Hyäne', 'Panda', 'Pinguin', 'Zebra']"
     },
     "execution_count": 12,
     "metadata": {},
     "output_type": "execute_result"
    }
   ],
   "source": [
    "# Entweder mit neuer Liste (aber da vielleicht bisschen Abzug, weil nicht die ursprüngliche Liste sortiert wird)\n",
    "sorted(tierliste)"
   ],
   "metadata": {
    "collapsed": false
   }
  },
  {
   "cell_type": "code",
   "execution_count": 13,
   "id": "d0ed8e6a",
   "metadata": {},
   "outputs": [
    {
     "name": "stdout",
     "output_type": "stream",
     "text": [
      "['Elefant', 'Giraffe', 'Hyäne', 'Panda', 'Pinguin', 'Zebra']\n"
     ]
    }
   ],
   "source": [
    "# Oder richtiger inplace\n",
    "tierliste.sort()\n",
    "print(tierliste)"
   ]
  },
  {
   "cell_type": "markdown",
   "id": "a18dc13c",
   "metadata": {},
   "source": [
    "4. Drehe die Reihenfolge der Liste nun um. (2 Punkte)"
   ]
  },
  {
   "cell_type": "code",
   "execution_count": 14,
   "id": "07982c81",
   "metadata": {},
   "outputs": [],
   "source": [
    "tierliste.reverse()"
   ]
  },
  {
   "cell_type": "code",
   "execution_count": 15,
   "outputs": [
    {
     "name": "stdout",
     "output_type": "stream",
     "text": [
      "['Zebra', 'Pinguin', 'Panda', 'Hyäne', 'Giraffe', 'Elefant']\n"
     ]
    }
   ],
   "source": [
    "print(tierliste)"
   ],
   "metadata": {
    "collapsed": false
   }
  },
  {
   "cell_type": "markdown",
   "id": "4e497139",
   "metadata": {},
   "source": [
    "5. Entferne Pinguin aus der Liste. Und lasse dir den Inhalt danach ausgeben. (2 Punkte)"
   ]
  },
  {
   "cell_type": "code",
   "execution_count": 16,
   "id": "c01e6581",
   "metadata": {},
   "outputs": [],
   "source": [
    "tierliste.remove(\"Pinguin\")"
   ]
  },
  {
   "cell_type": "code",
   "execution_count": 17,
   "outputs": [
    {
     "name": "stdout",
     "output_type": "stream",
     "text": [
      "['Zebra', 'Panda', 'Hyäne', 'Giraffe', 'Elefant']\n"
     ]
    }
   ],
   "source": [
    "print(tierliste)"
   ],
   "metadata": {
    "collapsed": false
   }
  },
  {
   "cell_type": "markdown",
   "id": "fbda1ef0",
   "metadata": {},
   "source": [
    "# Aufgabe 4 - Tupel"
   ]
  },
  {
   "cell_type": "markdown",
   "id": "c348d2e7",
   "metadata": {},
   "source": [
    "1. Erstelle ein Tupel mit vier Städten. (2 Punkte)"
   ]
  },
  {
   "cell_type": "code",
   "execution_count": 18,
   "id": "66e82af7",
   "metadata": {},
   "outputs": [],
   "source": [
    "stadt_tupel = (\"München\", \"Berlin\", \"Rostock\", \"Dresden\")"
   ]
  },
  {
   "cell_type": "markdown",
   "id": "79666e45",
   "metadata": {},
   "source": [
    "2. Lass dir die dritte Stadt ausgeben. (2 Punkte)"
   ]
  },
  {
   "cell_type": "code",
   "execution_count": 19,
   "id": "88c05525",
   "metadata": {},
   "outputs": [
    {
     "data": {
      "text/plain": "'Rostock'"
     },
     "execution_count": 19,
     "metadata": {},
     "output_type": "execute_result"
    }
   ],
   "source": [
    "stadt_tupel[2]"
   ]
  },
  {
   "cell_type": "markdown",
   "id": "c107ee4e",
   "metadata": {},
   "source": [
    "# Aufgabe 5 - Dictionaries"
   ]
  },
  {
   "cell_type": "markdown",
   "id": "8030b74f",
   "metadata": {},
   "source": [
    "1. Erstelle ein Dictionary, in welchem die deutschen Zahlen von eins bis vier in eine andere Sprache deiner Wahl übersetzt werden sollen. Die deutschen Zahlen sollen als Keys gegeben werden und die Zahlen der anderen Sprache als Wert. (3 Punkte)"
   ]
  },
  {
   "cell_type": "code",
   "execution_count": 20,
   "id": "3bc3e377",
   "metadata": {},
   "outputs": [],
   "source": [
    "zahlen_dict = {\"eins\":\"раз\", \"zwei\":\"два\", \"drei\":\"три\", \"vier\":\"четыре\"}"
   ]
  },
  {
   "cell_type": "markdown",
   "id": "6e091f20",
   "metadata": {},
   "source": [
    "2. Lass dir die keys deines Dictionary ausgeben. (2 Punkte)"
   ]
  },
  {
   "cell_type": "code",
   "execution_count": 22,
   "id": "331c42df",
   "metadata": {},
   "outputs": [
    {
     "data": {
      "text/plain": "dict_keys(['eins', 'zwei', 'drei', 'vier'])"
     },
     "execution_count": 22,
     "metadata": {},
     "output_type": "execute_result"
    }
   ],
   "source": [
    "zahlen_dict.keys()"
   ]
  },
  {
   "cell_type": "markdown",
   "id": "65364168",
   "metadata": {},
   "source": [
    "3. Lass dir den Wert der Zahl \"zwei\" ausgeben. (2 Punkte)"
   ]
  },
  {
   "cell_type": "code",
   "execution_count": 23,
   "id": "c396063d",
   "metadata": {},
   "outputs": [
    {
     "data": {
      "text/plain": "'два'"
     },
     "execution_count": 23,
     "metadata": {},
     "output_type": "execute_result"
    }
   ],
   "source": [
    "zahlen_dict[\"zwei\"]"
   ]
  },
  {
   "cell_type": "markdown",
   "id": "d4fd73b3",
   "metadata": {},
   "source": [
    "# Aufgabe 6 - Sets"
   ]
  },
  {
   "cell_type": "markdown",
   "id": "e25a0143",
   "metadata": {},
   "source": [
    "1. Erstelle ein Set aus 4 Getränken. Eins davon sollte \"Wasser\" sein. (2 Punkte)"
   ]
  },
  {
   "cell_type": "code",
   "execution_count": 24,
   "id": "88b5caf9",
   "metadata": {},
   "outputs": [],
   "source": [
    "getraenke_set = {\"Cola\", \"Wasser\", \"Bier\", \"Orangensaft\"}"
   ]
  },
  {
   "cell_type": "markdown",
   "id": "d9070ee3",
   "metadata": {},
   "source": [
    "2. Überprüfe, ob in deinem Set \"Wasser\" enthalten ist. Die Ausgabe sollte ein Boolescher Wert sein. Schreibe in einem Kommentar, was dieser Wert bedeutet. (3 Punkte)"
   ]
  },
  {
   "cell_type": "code",
   "execution_count": 25,
   "id": "5e2b4b43",
   "metadata": {},
   "outputs": [
    {
     "data": {
      "text/plain": "True"
     },
     "execution_count": 25,
     "metadata": {},
     "output_type": "execute_result"
    }
   ],
   "source": [
    "\"Wasser\" in getraenke_set"
   ]
  },
  {
   "cell_type": "markdown",
   "id": "c492e4d6",
   "metadata": {},
   "source": [
    "3. Erstelle ein weiteres Set aus den vier Elementen: Wasser, Feuer, Luft, Erde. Lass dir anschließend die übereinstimmenden Elemente zwischen deinem ersten und zweiten set ausgeben. (2 Punkte)"
   ]
  },
  {
   "cell_type": "code",
   "execution_count": 26,
   "id": "68ff0f6c",
   "metadata": {},
   "outputs": [],
   "source": [
    "elemente_set = {\"Wasser\", \"Feuer\", \"Luft\", \"Erde\"}"
   ]
  },
  {
   "cell_type": "code",
   "execution_count": 27,
   "outputs": [
    {
     "data": {
      "text/plain": "{'Wasser'}"
     },
     "execution_count": 27,
     "metadata": {},
     "output_type": "execute_result"
    }
   ],
   "source": [
    "getraenke_set.intersection(elemente_set)"
   ],
   "metadata": {
    "collapsed": false
   }
  },
  {
   "cell_type": "markdown",
   "id": "480f103f",
   "metadata": {},
   "source": [
    "4. Lass dir nur die Elemente aus deinem ersten Set ausgeben, die NICHT im zweiten Set vorhanden sind. (2 Punkte)"
   ]
  },
  {
   "cell_type": "code",
   "execution_count": 28,
   "outputs": [
    {
     "data": {
      "text/plain": "{'Bier', 'Cola', 'Orangensaft'}"
     },
     "execution_count": 28,
     "metadata": {},
     "output_type": "execute_result"
    }
   ],
   "source": [
    "getraenke_set.difference(elemente_set)"
   ],
   "metadata": {
    "collapsed": false
   }
  },
  {
   "cell_type": "markdown",
   "source": [
    "# Aufgabe 7 Bedingungen"
   ],
   "metadata": {
    "collapsed": false
   }
  },
  {
   "cell_type": "markdown",
   "source": [
    "1. Prüfe einen String mit Bedingungen. Wenn der String \"Hallo\" lautet, dann soll dein Output lauten: \"Sie wurden gegrüßt!\". In allen anderen Fällen soll der Output lauten: \"Andere Eingabe\". Teste deinen Code mit verschiedenen Strings. (4 Punkte)"
   ],
   "metadata": {
    "collapsed": false
   }
  },
  {
   "cell_type": "code",
   "execution_count": 29,
   "outputs": [
    {
     "name": "stdout",
     "output_type": "stream",
     "text": [
      "Sie wurden gegrüßt!\n"
     ]
    }
   ],
   "source": [
    "mein_string = \"Hallo\"\n",
    "if mein_string == \"Hallo\":\n",
    "    print(\"Sie wurden gegrüßt!\")\n",
    "else:\n",
    "    print(\"Andere Eingabe.\")"
   ],
   "metadata": {
    "collapsed": false
   }
  },
  {
   "cell_type": "markdown",
   "source": [
    "2. Du hast drei Einkommen vorliegen und möchtest sie Einkommensklassen zuordnen. Dabei gilt: Großverdiener sind Leute ab 60.000 Euro. Geringverdiener liegen unter 20000. Alle anderen erhalten den Status: Normalverdiener. Die Worte Großverdiener/Normalverdiener/Geringverdiener sollen dabei als Output erscheinen. Formuliere Bedingungen und spiele deinen Code mit den drei vorgegebenen Einkommen durch. Kommentiere deinen Code. (5 Punkte)"
   ],
   "metadata": {
    "collapsed": false
   }
  },
  {
   "cell_type": "code",
   "execution_count": 30,
   "outputs": [],
   "source": [
    "einkommen1 = 23000\n",
    "einkommen2 = 65000\n",
    "einkommen3 = 15000"
   ],
   "metadata": {
    "collapsed": false
   }
  },
  {
   "cell_type": "code",
   "execution_count": 31,
   "outputs": [
    {
     "name": "stdout",
     "output_type": "stream",
     "text": [
      "Geringverdiener\n"
     ]
    }
   ],
   "source": [
    "if einkommen3 < 20000:\n",
    "    print(\"Geringverdiener\")\n",
    "elif einkommen3 < 60000:\n",
    "    print(\"Normalverdiener\")\n",
    "else:\n",
    "    print(\"Großverdiener\") # For the sake of simplicity"
   ],
   "metadata": {
    "collapsed": false
   }
  },
  {
   "cell_type": "markdown",
   "source": [
    "# Aufgabe 8 Schleifen und List Comprehension"
   ],
   "metadata": {
    "collapsed": false
   }
  },
  {
   "cell_type": "markdown",
   "source": [
    "1. Du hast eine Liste mit Einkommen. Lass dir mit einer for-Schleife für jedes Einkommen nach dem Schema von Aufgabe 7 Punkt 2 das Einkommen ausgeben. Willst du Bonuspunkte? Dann lass dir das Ergebnis in folgender Form ausgeben: \"12000 - Geringverdiener\" (die 12000 sind dabei nur ein Beispielwert!). Kommentiere auch hier deinen Code! (5 Punkte)"
   ],
   "metadata": {
    "collapsed": false
   }
  },
  {
   "cell_type": "code",
   "execution_count": 32,
   "outputs": [],
   "source": [
    "einkommensliste = [12000, 150000, 67500, 25000, 38000, 45000, 9200, 32000, 20000]"
   ],
   "metadata": {
    "collapsed": false
   }
  },
  {
   "cell_type": "code",
   "execution_count": 35,
   "outputs": [
    {
     "name": "stdout",
     "output_type": "stream",
     "text": [
      "Geringverdiener\n",
      "Großverdiener\n",
      "Großverdiener\n",
      "Normalverdiener\n",
      "Normalverdiener\n",
      "Normalverdiener\n",
      "Geringverdiener\n",
      "Normalverdiener\n",
      "Normalverdiener\n"
     ]
    }
   ],
   "source": [
    "for einkommen in einkommensliste:\n",
    "    if einkommen < 20000:\n",
    "        print(\"Geringverdiener\")\n",
    "    elif einkommen < 60000:\n",
    "        print(\"Normalverdiener\")\n",
    "    else:\n",
    "        print(\"Großverdiener\") # For the sake of simplicity"
   ],
   "metadata": {
    "collapsed": false
   }
  },
  {
   "cell_type": "markdown",
   "source": [
    "2. Du möchtest nun eine Liste aller Großverdiener haben. Erreiche dies mit einer List Comprehension und speichere das Ergebnis in die Variabel grossverdiener. Lass dir den Inhalt der Variabel ausgeben! (4 Punkte)"
   ],
   "metadata": {
    "collapsed": false
   },
   "outputs": [
    {
     "ename": "SyntaxError",
     "evalue": "invalid syntax (1434479991.py, line 1)",
     "output_type": "error",
     "traceback": [
      "\u001B[1;36m  Cell \u001B[1;32mIn[1], line 1\u001B[1;36m\u001B[0m\n\u001B[1;33m    2. Du möchtest nun eine Liste aller Geringverdiener haben. Erreiche dies mit einer List Comprehension und speichere das Ergebnis in die Variabel geringverdiener. Lass dir den Inhalt der Variabel ausgeben!\u001B[0m\n\u001B[1;37m       ^\u001B[0m\n\u001B[1;31mSyntaxError\u001B[0m\u001B[1;31m:\u001B[0m invalid syntax\n"
     ]
    }
   ],
   "execution_count": 1
  },
  {
   "cell_type": "code",
   "execution_count": 37,
   "outputs": [],
   "source": [
    "großverdiener = [einkommen for einkommen in einkommensliste if einkommen >= 60000]"
   ],
   "metadata": {
    "collapsed": false
   }
  },
  {
   "cell_type": "code",
   "execution_count": 38,
   "outputs": [
    {
     "name": "stdout",
     "output_type": "stream",
     "text": [
      "[150000, 67500]\n"
     ]
    }
   ],
   "source": [
    "print(großverdiener)"
   ],
   "metadata": {
    "collapsed": false
   }
  },
  {
   "cell_type": "markdown",
   "source": [
    "3. Der Nutzer soll ein Passwort eingeben. Er wird dazu mit den Worten aufgefordert: \"Bitte geben Sie Ihr Passwort ein:\". Sein Passwort lautet: \"lernkontrolle\". Wenn er das Passwort richtig eingibt, soll die Passwort-Abfrage enden und die Nachricht erscheinen: \"Sie sind nun eingeloggt\". Schreibe zu deiner Lösung Kommentare, was die einzelnen Schritte machen! (6 Punkte)"
   ],
   "metadata": {
    "collapsed": false
   }
  },
  {
   "cell_type": "code",
   "execution_count": 39,
   "outputs": [
    {
     "name": "stdout",
     "output_type": "stream",
     "text": [
      "Sie sind nun eingeloggt.\n"
     ]
    }
   ],
   "source": [
    "pw = ''\n",
    "while pw != 'lernkontrolle':\n",
    "    pw = input(\"Bitte geben Sie Ihr Passwort ein:\")\n",
    "print(\"Sie sind nun eingeloggt.\")"
   ],
   "metadata": {
    "collapsed": false
   }
  }
 ],
 "metadata": {
  "kernelspec": {
   "display_name": "Python 3 (ipykernel)",
   "language": "python",
   "name": "python3"
  },
  "language_info": {
   "codemirror_mode": {
    "name": "ipython",
    "version": 3
   },
   "file_extension": ".py",
   "mimetype": "text/x-python",
   "name": "python",
   "nbconvert_exporter": "python",
   "pygments_lexer": "ipython3",
   "version": "3.9.13"
  }
 },
 "nbformat": 4,
 "nbformat_minor": 5
}
