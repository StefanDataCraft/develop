{
 "cells": [
  {
   "cell_type": "markdown",
   "id": "53641508",
   "metadata": {},
   "source": [
    "<br><br><center><h1 style=\"font-size:2em;color:green\">Lernkontrolle 22.12.2022</h1></center>\n",
    "<br>\n",
    "<center>Die möglichen Punkte stehen bei der jeweiligen Aufgabe dabei</center>"
   ]
  },
  {
   "cell_type": "markdown",
   "id": "e4111baf",
   "metadata": {},
   "source": [
    "# Aufgabe 1"
   ]
  },
  {
   "cell_type": "markdown",
   "id": "1ab5ff66",
   "metadata": {},
   "source": [
    "<div  class=\"alert alert-block alert-info\">\n",
    "1. Schreibe Code, der ein Mal die linke Taste deiner Maus betätigt. 4 Pkt\n",
    "</div>"
   ]
  },
  {
   "cell_type": "code",
   "execution_count": null,
   "id": "b90ea520",
   "metadata": {},
   "outputs": [],
   "source": []
  },
  {
   "cell_type": "markdown",
   "id": "e00884a0",
   "metadata": {},
   "source": [
    "<div  class=\"alert alert-block alert-info\">\n",
    "2. Lass dir die aktuelle Position deiner Maus ausgeben. 4 Pkt\n",
    "</div>"
   ]
  },
  {
   "cell_type": "code",
   "execution_count": null,
   "id": "c66fd065",
   "metadata": {},
   "outputs": [],
   "source": []
  },
  {
   "cell_type": "markdown",
   "id": "b89374f5",
   "metadata": {},
   "source": [
    "<div  class=\"alert alert-block alert-info\">\n",
    "3. Schreibe Code, der deine Maus zu einer Position deiner Wahl bewegt. Man soll die Bewegung der Maus dabei sehen können. 4 Pkt\n",
    "</div>"
   ]
  },
  {
   "cell_type": "code",
   "execution_count": null,
   "id": "915816d8",
   "metadata": {},
   "outputs": [],
   "source": []
  },
  {
   "cell_type": "markdown",
   "id": "1886f35c",
   "metadata": {},
   "source": [
    "<div  class=\"alert alert-block alert-info\">\n",
    "4. Erkläre den Unterschied zwischen den beiden Funktionen moveTo und dragTo von pyautogui.  6 Pkt\n",
    "</div>"
   ]
  },
  {
   "cell_type": "code",
   "execution_count": null,
   "id": "5ad9ad4a",
   "metadata": {},
   "outputs": [],
   "source": [
    "#"
   ]
  },
  {
   "cell_type": "markdown",
   "id": "bd9a2a66",
   "metadata": {},
   "source": [
    "<div  class=\"alert alert-block alert-info\">\n",
    "5. Gegeben ist folgende Liste. Schreibe eine Funktion, die dir jedes Element der Liste einzeln ausgibt. Miss außerdem die Laufzeit! 10 Pkt\n",
    "\n",
    "    Output:\n",
    "    30\n",
    "    40\n",
    "    23\n",
    "    1\n",
    "    2\n",
    "    Die Ausführung dauerte: 262700ns\n",
    "</div>"
   ]
  },
  {
   "cell_type": "code",
   "execution_count": null,
   "id": "3e64a905",
   "metadata": {},
   "outputs": [],
   "source": [
    "\n",
    "zahlen = [[30, 40, 23], [1, 2]]\n"
   ]
  },
  {
   "cell_type": "markdown",
   "id": "297e47df",
   "metadata": {},
   "source": [
    "<div  class=\"alert alert-block alert-info\">\n",
    "6. Schreibe eine lambda Funktion, die eine Variable x bekommt und diese Variable anschließend mit sich selbst multipliziert. Hinweis: lass dir das Ergebnis der Rechnung NICHT ausgeben! Miss die Laufzeit dieser Funktion aber lass dir dieses Mal folgenden Output ausgeben: 6 Pkt\n",
    "\n",
    "    Output:\n",
    "    240 ns ± 7.89 ns per loop (mean ± std. dev. of 7 runs, 1000000 loops each)\n",
    "</div>"
   ]
  },
  {
   "cell_type": "code",
   "execution_count": null,
   "id": "e9caa320",
   "metadata": {},
   "outputs": [],
   "source": []
  },
  {
   "cell_type": "markdown",
   "id": "2e69310d",
   "metadata": {},
   "source": [
    "<div  class=\"alert alert-block alert-info\">\n",
    "7. Schreibe eine try&except Bedingung. In dem try soll Code stehen, mit dem ein Ordner auf deinem Desktop erzeugt wird (Verwende hierzu einen absoluten Pfad). In dem except soll eine Meldung stehen, dass der Ordner bereits existiert. Führe den Code zwei Mal aus! 6 Pkt\n",
    "\n",
    "    Output:\n",
    "    print(\"Der Ordner existiert bereits!\")\n",
    "\n",
    "</div>"
   ]
  },
  {
   "cell_type": "code",
   "execution_count": null,
   "id": "ed234eef",
   "metadata": {},
   "outputs": [],
   "source": []
  },
  {
   "cell_type": "markdown",
   "id": "780b09b3",
   "metadata": {},
   "source": [
    "<div  class=\"alert alert-block alert-info\">\n",
    "8. Schreibe eine try&except Bedingung. In dem try soll Code stehen, mit dem ein Ordner auf deinem Desktop erzeugt wird (Verwende hierzu einen absoluten Pfad). Dieses Mal soll es aber zwei verschiedene except Bedingungen für folgende Fälle geben: 8 Pkt\n",
    "\n",
    "    \n",
    "   1. Wenn es den Ordner bereits gibt.\n",
    "   2. Wenn der eingegebene Pfad nicht stimmt.\n",
    "\n",
    "    \n",
    "    Output:\n",
    "    print(\"Der Ordner existiert bereits!\")\n",
    "\n",
    "</div>"
   ]
  },
  {
   "cell_type": "code",
   "execution_count": null,
   "id": "a2430205",
   "metadata": {},
   "outputs": [],
   "source": []
  },
  {
   "cell_type": "markdown",
   "id": "5099ec1c",
   "metadata": {},
   "source": [
    "<div  class=\"alert alert-block alert-info\">\n",
    "9. Erstelle ein zweidimensionales numpy array und wandel es in ein eindimensionales um. 6 Pkt\n",
    "</div>"
   ]
  },
  {
   "cell_type": "code",
   "execution_count": null,
   "id": "c9e8b08f",
   "metadata": {},
   "outputs": [],
   "source": []
  },
  {
   "cell_type": "markdown",
   "id": "9601afc2",
   "metadata": {},
   "source": [
    "<div  class=\"alert alert-block alert-info\">\n",
    "10. Lass dir die Dimension des arrays ausgeben. 4 Pkt\n",
    "</div>"
   ]
  },
  {
   "cell_type": "code",
   "execution_count": null,
   "id": "5c014105",
   "metadata": {},
   "outputs": [],
   "source": []
  },
  {
   "cell_type": "markdown",
   "id": "0d7f1543",
   "metadata": {},
   "source": [
    "<div  class=\"alert alert-block alert-info\">\n",
    "11. Gegeben ist folgendes numpy array. Füge dieses array mit dem eindimensionalen array aus Aufgabe 9 zusammen. Lass dir das Ergebnis ausgeben. 4 Pkt\n",
    "</div>"
   ]
  },
  {
   "cell_type": "code",
   "execution_count": null,
   "id": "4d5667cf",
   "metadata": {},
   "outputs": [],
   "source": [
    "arrayx = np.array([2,1,4])"
   ]
  },
  {
   "cell_type": "markdown",
   "id": "05ece453",
   "metadata": {},
   "source": [
    "<div  class=\"alert alert-block alert-info\">\n",
    "12. Gegeben ist folgendes array. Lass dir die Indices ausgeben, an denen sich die Zahl 23 befindet. 6 Pkt\n",
    "\n",
    "    Output:\n",
    "    (array([0, 4, 6], dtype=int64),)\n",
    "</div>"
   ]
  },
  {
   "cell_type": "code",
   "execution_count": null,
   "id": "80baa5c5",
   "metadata": {},
   "outputs": [],
   "source": [
    "arrayx2 = np.array([23,42,15,16,23,74,23])"
   ]
  },
  {
   "cell_type": "markdown",
   "id": "f19ec1b2",
   "metadata": {},
   "source": [
    "# Optional"
   ]
  },
  {
   "cell_type": "markdown",
   "id": "df0e9df2",
   "metadata": {},
   "source": [
    "Fasse die Lerninhalte von heute oder dieser Woche nochmal zusammen und notiere dir Fragen, die dir dabei kommen!"
   ]
  }
 ],
 "metadata": {
  "kernelspec": {
   "display_name": "Python 3 (ipykernel)",
   "language": "python",
   "name": "python3"
  },
  "language_info": {
   "codemirror_mode": {
    "name": "ipython",
    "version": 3
   },
   "file_extension": ".py",
   "mimetype": "text/x-python",
   "name": "python",
   "nbconvert_exporter": "python",
   "pygments_lexer": "ipython3",
   "version": "3.9.13"
  }
 },
 "nbformat": 4,
 "nbformat_minor": 5
}
