{
 "cells": [
  {
   "cell_type": "code",
   "execution_count": 15,
   "metadata": {
    "collapsed": true
   },
   "outputs": [],
   "source": [
    "# Das re Modul imprortieren\n",
    "import re"
   ]
  },
  {
   "cell_type": "code",
   "execution_count": 16,
   "outputs": [],
   "source": [
    "beispieltext = \"Hallo an alle im All.\""
   ],
   "metadata": {
    "collapsed": false
   }
  },
  {
   "cell_type": "code",
   "execution_count": null,
   "outputs": [],
   "source": [
    "# Niemals vergessen, damit etwas ein pattern ist, muss dem String ein r vorangestellt werden, in der Form: r\"hier ist Text\""
   ],
   "metadata": {
    "collapsed": false
   }
  },
  {
   "cell_type": "code",
   "execution_count": 22,
   "outputs": [
    {
     "data": {
      "text/plain": "['all', 'all', 'All']"
     },
     "execution_count": 22,
     "metadata": {},
     "output_type": "execute_result"
    }
   ],
   "source": [
    "# findall: Alle Vorkommnisse als Liste ausgeben lassen\n",
    "# Schema: re.findall(pattern, string)\n",
    "re.findall(r\"[aA]ll\", beispieltext)"
   ],
   "metadata": {
    "collapsed": false
   }
  },
  {
   "cell_type": "code",
   "execution_count": 23,
   "outputs": [
    {
     "data": {
      "text/plain": "['all', 'all', 'All']"
     },
     "execution_count": 23,
     "metadata": {},
     "output_type": "execute_result"
    }
   ],
   "source": [
    "re.findall(r\"all\", beispieltext, re.I)"
   ],
   "metadata": {
    "collapsed": false
   }
  },
  {
   "cell_type": "code",
   "execution_count": null,
   "outputs": [],
   "source": [
    "# Tipp: Mit dem Flag re.IGNORECASE bzw. re.I lässt sich unabhängig von Groß- oder Kleinschreibung nach einem Pattern suchen.\n"
   ],
   "metadata": {
    "collapsed": false
   }
  },
  {
   "cell_type": "code",
   "execution_count": 25,
   "outputs": [
    {
     "data": {
      "text/plain": "['Hallo', 'alle', 'All']"
     },
     "execution_count": 25,
     "metadata": {},
     "output_type": "execute_result"
    }
   ],
   "source": [
    "re.findall(r\"\\w*all\\w*\", beispieltext, re.I)"
   ],
   "metadata": {
    "collapsed": false
   }
  },
  {
   "cell_type": "code",
   "execution_count": 27,
   "outputs": [
    {
     "data": {
      "text/plain": "<re.Match object; span=(0, 5), match='Hallo'>"
     },
     "execution_count": 27,
     "metadata": {},
     "output_type": "execute_result"
    }
   ],
   "source": [
    "# search: Gibt nur das erste Vorkommnis eines Patterns als Match-Objekt zurück\n",
    "# Das Match-Objekt bietet uns in Form von span die Indices an, an denen wir dann den String slicen können.\n",
    "string_search = re.search(r\"\\w*all\\w*\", beispieltext, re.I)\n",
    "string_search"
   ],
   "metadata": {
    "collapsed": false
   }
  },
  {
   "cell_type": "code",
   "execution_count": 31,
   "outputs": [
    {
     "data": {
      "text/plain": "(0, 5)"
     },
     "execution_count": 31,
     "metadata": {},
     "output_type": "execute_result"
    }
   ],
   "source": [
    "string_search.span()"
   ],
   "metadata": {
    "collapsed": false
   }
  },
  {
   "cell_type": "code",
   "execution_count": 32,
   "outputs": [
    {
     "data": {
      "text/plain": "tuple"
     },
     "execution_count": 32,
     "metadata": {},
     "output_type": "execute_result"
    }
   ],
   "source": [
    "type(string_search.span())"
   ],
   "metadata": {
    "collapsed": false
   }
  },
  {
   "cell_type": "code",
   "execution_count": 33,
   "outputs": [
    {
     "data": {
      "text/plain": "0"
     },
     "execution_count": 33,
     "metadata": {},
     "output_type": "execute_result"
    }
   ],
   "source": [
    "string_search.span()[0]"
   ],
   "metadata": {
    "collapsed": false
   }
  },
  {
   "cell_type": "code",
   "execution_count": 34,
   "outputs": [
    {
     "data": {
      "text/plain": "5"
     },
     "execution_count": 34,
     "metadata": {},
     "output_type": "execute_result"
    }
   ],
   "source": [
    "string_search.span()[1]"
   ],
   "metadata": {
    "collapsed": false
   }
  },
  {
   "cell_type": "code",
   "execution_count": 29,
   "outputs": [],
   "source": [
    "start = string_search.span()[0]\n",
    "ende = string_search.span()[1]"
   ],
   "metadata": {
    "collapsed": false
   }
  },
  {
   "cell_type": "code",
   "execution_count": 30,
   "outputs": [
    {
     "data": {
      "text/plain": "'Hallo'"
     },
     "execution_count": 30,
     "metadata": {},
     "output_type": "execute_result"
    }
   ],
   "source": [
    "beispieltext[start:ende]"
   ],
   "metadata": {
    "collapsed": false
   }
  },
  {
   "cell_type": "code",
   "execution_count": 35,
   "outputs": [],
   "source": [
    "# match gibt nur etwas zurück, wenn am Anfang des Strings eine Übereinstimmung vorliegt.\n",
    "re.match(r\"all\", beispieltext, re.I) # I = IGNORECASE, egal ob groß oder klein geschrieben ALL, all, All, aLL alles \"gleich\""
   ],
   "metadata": {
    "collapsed": false
   }
  },
  {
   "cell_type": "code",
   "execution_count": 36,
   "outputs": [
    {
     "data": {
      "text/plain": "NoneType"
     },
     "execution_count": 36,
     "metadata": {},
     "output_type": "execute_result"
    }
   ],
   "source": [
    "type(re.match(r\"all\", beispieltext, re.I))"
   ],
   "metadata": {
    "collapsed": false
   }
  },
  {
   "cell_type": "code",
   "execution_count": 37,
   "outputs": [
    {
     "data": {
      "text/plain": "<re.Match object; span=(0, 4), match='Hall'>"
     },
     "execution_count": 37,
     "metadata": {},
     "output_type": "execute_result"
    }
   ],
   "source": [
    "re.match(r\"Hall\", beispieltext, re.I)"
   ],
   "metadata": {
    "collapsed": false
   }
  },
  {
   "cell_type": "code",
   "execution_count": 38,
   "outputs": [
    {
     "data": {
      "text/plain": "<re.Match object; span=(0, 5), match='Hallo'>"
     },
     "execution_count": 38,
     "metadata": {},
     "output_type": "execute_result"
    }
   ],
   "source": [
    "re.match(r\"\\w*all\\w*\", beispieltext, re.I)"
   ],
   "metadata": {
    "collapsed": false
   }
  },
  {
   "cell_type": "code",
   "execution_count": 49,
   "outputs": [
    {
     "data": {
      "text/plain": "<re.Match object; span=(0, 41), match='https://docs.python.org/3/library/re.html'>"
     },
     "execution_count": 49,
     "metadata": {},
     "output_type": "execute_result"
    }
   ],
   "source": [
    "# fullmatch gibt nur etwas zurück, wenn der gesamte String gemachts wird, also das Pattern den kompletten String abbildet.\n",
    "beispieltext2 = \"https://docs.python.org/3/library/re.html\"\n",
    "# re.fullmatch(r\".*\", beispieltext2) nicht präzige genug\n",
    "# re.fullmatch(r\"https?.*\", beispieltext2) nicht präzise genug\n"
   ],
   "metadata": {
    "collapsed": false
   }
  },
  {
   "cell_type": "code",
   "execution_count": 56,
   "outputs": [
    {
     "data": {
      "text/plain": "<re.Match object; span=(0, 41), match='https://docs.python.org/3/library/re.html'>"
     },
     "execution_count": 56,
     "metadata": {},
     "output_type": "execute_result"
    }
   ],
   "source": [
    "beispiel3 = \"https://docs.python.org/3/library/re.html\"\n",
    "re.fullmatch(r\"https?\\S*\", beispiel3)"
   ],
   "metadata": {
    "collapsed": false
   }
  },
  {
   "cell_type": "code",
   "execution_count": 58,
   "outputs": [
    {
     "data": {
      "text/plain": "<re.Match object; span=(0, 11), match='030 425 879'>"
     },
     "execution_count": 58,
     "metadata": {},
     "output_type": "execute_result"
    }
   ],
   "source": [
    "beispiel2 = \"030 425 879\"\n",
    "re.fullmatch(r\".*\", beispiel2)"
   ],
   "metadata": {
    "collapsed": false
   }
  },
  {
   "cell_type": "code",
   "execution_count": 61,
   "outputs": [],
   "source": [
    "re.fullmatch(r\"https?\\S*\", beispiel2)"
   ],
   "metadata": {
    "collapsed": false
   }
  },
  {
   "cell_type": "code",
   "execution_count": 39,
   "outputs": [],
   "source": [
    "# sub ersetzt (substituiert) Teile eines Strings, die einem vorgegebenen Muster entsprechen\n",
    "beispieltext3 = \"200.000 Euro hätte mich der Kauf meiner Wohnung gekostet. Ich finde: Auch 150.000 sind bei der Bruchbude zu viel.\""
   ],
   "metadata": {
    "collapsed": false
   }
  },
  {
   "cell_type": "code",
   "execution_count": 44,
   "outputs": [
    {
     "data": {
      "text/plain": "'xxx Euro hätte mich der Kauf meiner Wohnung gekostet. Ich finde: Auch xxx sind bei der Bruchbude zu viel.'"
     },
     "execution_count": 44,
     "metadata": {},
     "output_type": "execute_result"
    }
   ],
   "source": [
    "re.sub(r\"\\d+\\.?\\d*\", input(\"Geben Sie bitte den Schwärzungsstring ein:\"), beispieltext3)"
   ],
   "metadata": {
    "collapsed": false
   }
  },
  {
   "cell_type": "code",
   "execution_count": null,
   "outputs": [],
   "source": [
    "# Wichtige Metacharacters:\n",
    "\n",
    "# Charakters\n",
    "# . umfasst alle Zeichen mit Ausnahme einer newline (will man wirklich einen Punkt im Pattern, erreicht man das mit \\.)\n",
    "# \\w entspricht [a-zA-Z0-9_]\n",
    "# \\W ist die Negation davon, also alles, was kein alphanumerisches Element ist.\n",
    "# \\d entspricht [0-9]\n",
    "# \\D ist die Negation davon, also alles, was keine Ziffer ist.\n",
    "# \\s entspricht allen Leerzeichen, diese sind: [ \\t\\n\\r\\f\\v]\n",
    "# \\S ist die Negation davon, also alles was kein Leerzeichen ist.\n",
    "# \\b markiert Anfang oder Ende eines Strings\n",
    "# \\B ist die Negation davon, betont also, dass etwas nicht am Wortanfang/-ende steht\n",
    "\n",
    "# [] ermöglicht die flexible Festlegung von Charakters und Charakterräumen, z.B. [xz], [a-h] oder [0-2]\n",
    "# | ist als oder gedacht z.Bsp r\"Hallo|alle\" würde bei findall sowohl Hallo als auch alle zurückgeben\n",
    "\n",
    "# ^ markiert den Anfang eines Strings\n",
    "# $ markiert das Ende eines Strings\n",
    "\n",
    "# Quantifizierung\n",
    "# ? Steht für 0-1 Mal z.B. a? bedeutet, dass a 0 bis einmal an einer Stelle vorkommt\n",
    "# * Steht für 0 bis beliebig oft. a* bedeutet, dass das a an einer Stelle fehlen, aber auch unendlich oft vorkommen kann\n",
    "# + Steht für 1 bis beliebig oft. a+ bedeutet, dass das a an einer Stelle mindestens einmal, aber auch unendlich oft vorkommen kann\n",
    "# {} bieten Flexibilität bei der Quantifizierung. a{2,7} bedeutet, dass a an einer Stelle mindestens zwei und maximal 7 Mal vorkommen kann. Lässt man eine Zahl weg, so fällt Anfang auf 0 oder Ende auf unendlich. Bsp.: a{,7} oder a{2,}."
   ],
   "metadata": {
    "collapsed": false
   }
  }
 ],
 "metadata": {
  "kernelspec": {
   "display_name": "Python 3",
   "language": "python",
   "name": "python3"
  },
  "language_info": {
   "codemirror_mode": {
    "name": "ipython",
    "version": 2
   },
   "file_extension": ".py",
   "mimetype": "text/x-python",
   "name": "python",
   "nbconvert_exporter": "python",
   "pygments_lexer": "ipython2",
   "version": "2.7.6"
  }
 },
 "nbformat": 4,
 "nbformat_minor": 0
}
