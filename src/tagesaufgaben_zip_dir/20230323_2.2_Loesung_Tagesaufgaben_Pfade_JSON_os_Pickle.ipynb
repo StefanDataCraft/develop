{
 "cells": [
  {
   "cell_type": "markdown",
   "id": "78e2f52e",
   "metadata": {
    "id": "78e2f52e"
   },
   "source": [
    "<br><br><center><h1 style=\"font-size:2em;color:#2467C0\">Tagesaufgaben 23.03.2023</h1></center>\n",
    "<br>\n"
   ]
  },
  {
   "cell_type": "markdown",
   "source": [
    "1. Importiere os und lege damit in deinem Ordner mit den Tagesaufgaben einen Unterordner mit dem Namen test_ordner an."
   ],
   "metadata": {
    "collapsed": false
   }
  },
  {
   "cell_type": "code",
   "execution_count": 2,
   "outputs": [],
   "source": [
    "import os\n",
    "# os.mkdir(\"test_ordner\")"
   ],
   "metadata": {
    "collapsed": false
   }
  },
  {
   "cell_type": "markdown",
   "source": [
    "2. Prüfe, ob in dem Ordner eine Datei namens test_text.txt liegt. Falls es einen solchen Text gibt, sollst du die Meldung \"Datei existiert bereits\" erhalten, andernfalls die Meldung \"Datei existiert noch nicht.\" (Du solltest letztere Meldung erhalten.)"
   ],
   "metadata": {
    "collapsed": false
   }
  },
  {
   "cell_type": "code",
   "execution_count": 3,
   "outputs": [
    {
     "name": "stdout",
     "output_type": "stream",
     "text": [
      "Datei existiert bereits.\n"
     ]
    }
   ],
   "source": [
    "if os.path.isfile(\"test_ordner\\\\test_text.txt\"):\n",
    "    print(\"Datei existiert bereits.\")\n",
    "else:\n",
    "    print(\"Datei existiert noch nicht.\")"
   ],
   "metadata": {
    "collapsed": false
   }
  },
  {
   "cell_type": "markdown",
   "source": [
    "3. Erstelle nun eine Datei im Ordner test_ordner, die die Sätze in der Liste mein_text nimmt und jeweils in eine Zeile schreibt."
   ],
   "metadata": {
    "collapsed": false
   }
  },
  {
   "cell_type": "code",
   "execution_count": 4,
   "outputs": [],
   "source": [
    "mein_text = [\"Hallo, wie geht es dir?\", \"Das ist deine erste selbsterstellte Text-Datei.\", \"Gratuliere dir dazu!\"]\n",
    "with open (\"test_ordner\\\\test_text.txt\", \"w\") as datei:\n",
    "    datei.writelines([satz+\"\\n\" for satz in mein_text])"
   ],
   "metadata": {
    "collapsed": false
   }
  },
  {
   "cell_type": "markdown",
   "source": [
    "4. Überprüfe noch einmal mit os, ob die Datei existiert und lass dir den Inhalt deiner Datei ausgeben."
   ],
   "metadata": {
    "collapsed": false
   }
  },
  {
   "cell_type": "code",
   "execution_count": 5,
   "outputs": [
    {
     "name": "stdout",
     "output_type": "stream",
     "text": [
      "Datei existiert bereits.\n"
     ]
    }
   ],
   "source": [
    "if os.path.isfile(\"test_ordner\\\\test_text.txt\"):\n",
    "    print(\"Datei existiert bereits.\")\n",
    "else:\n",
    "    print(\"Datei existiert noch nicht.\")"
   ],
   "metadata": {
    "collapsed": false
   }
  },
  {
   "cell_type": "code",
   "execution_count": 6,
   "outputs": [
    {
     "name": "stdout",
     "output_type": "stream",
     "text": [
      "Hallo, wie geht es dir?\n",
      "Das ist deine erste selbsterstellte Text-Datei.\n",
      "Gratuliere dir dazu!\n",
      "\n"
     ]
    }
   ],
   "source": [
    "with open(\"meine_texte\\\\test_text.txt\", \"r\") as f:\n",
    "    print(f.read())"
   ],
   "metadata": {
    "collapsed": false
   }
  },
  {
   "cell_type": "markdown",
   "source": [
    "5. Du hast mehrfach geprüft, ob eine Datei existiert. Du willst nicht jedes Mal denselben Code schreiben. Mach eine Funktion namens datei_checker mit einem Pfad-Parameter daraus und teste sie."
   ],
   "metadata": {
    "collapsed": false
   }
  },
  {
   "cell_type": "code",
   "execution_count": 7,
   "outputs": [],
   "source": [
    "def datei_checker(dateipfad):\n",
    "    if os.path.isfile(dateipfad):\n",
    "        print(\"Datei existiert bereits.\")\n",
    "    else:\n",
    "        print(\"Datei existiert noch nicht.\")"
   ],
   "metadata": {
    "collapsed": false
   }
  },
  {
   "cell_type": "code",
   "execution_count": 8,
   "outputs": [
    {
     "name": "stdout",
     "output_type": "stream",
     "text": [
      "Datei existiert bereits.\n"
     ]
    }
   ],
   "source": [
    "datei_checker(\"meine_texte\\\\test_text.txt\")"
   ],
   "metadata": {
    "collapsed": false
   }
  },
  {
   "cell_type": "markdown",
   "source": [
    "6. Lade die JSON-Datei beispiel_datei.json herunter und lies sie ein. Lasse dir den Inhalt printen und speichere danach das Ergebnis in die Variable meine_datei, um mit dieser weiter arbeiten zu können."
   ],
   "metadata": {
    "collapsed": false
   }
  },
  {
   "cell_type": "code",
   "execution_count": 9,
   "outputs": [],
   "source": [
    "with open(\"meine_texte\\\\beispiel_datei.json\", \"r\") as datei:\n",
    "    meine_datei = datei.read()"
   ],
   "metadata": {
    "collapsed": false
   }
  },
  {
   "cell_type": "markdown",
   "source": [
    "7. Lass dir den Inhalt von meine_datei ausgeben. Versuche dir daraus verschiedene Elemente ausgeben zu lassen, wie du es von Dictionaries gewohnt bist. Was ist das Problem? Kommentiere."
   ],
   "metadata": {
    "collapsed": false
   }
  },
  {
   "cell_type": "code",
   "execution_count": 10,
   "outputs": [],
   "source": [
    "# Alles ein durchgehender String."
   ],
   "metadata": {
    "collapsed": false
   }
  },
  {
   "cell_type": "markdown",
   "source": [
    "8. Importiere nun json, setze json.load() beim Einlesen ein und speichere das Ergebnis in die Variable mein_json. Lass dir wieder den Inhalt ausgeben."
   ],
   "metadata": {
    "collapsed": false
   }
  },
  {
   "cell_type": "code",
   "execution_count": 11,
   "outputs": [],
   "source": [
    "import json\n",
    "with open(\"meine_texte\\\\beispiel_datei.json\", \"r\") as datei:\n",
    "    mein_json = json.load(datei)"
   ],
   "metadata": {
    "collapsed": false
   }
  },
  {
   "cell_type": "code",
   "execution_count": 12,
   "outputs": [
    {
     "data": {
      "text/plain": "{'personen': [{'name': 'Lena Schmidt',\n   'adresse': {'straÃŸe': 'Am Stadtpark 5',\n    'stadt': 'Berlin',\n    'land': 'Deutschland'},\n   'alter': 28,\n   'telefonnummer': '+49 176 12345678',\n   'email': 'lena.schmidt@universalventures.co',\n   'hobbies': ['Klettern', 'Fotografie', 'Reisen'],\n   'familienstand': 'ledig'},\n  {'name': 'Emil Weber',\n   'adresse': {'straÃŸe': 'KarlstraÃŸe 10',\n    'stadt': 'Frankfurt am Main',\n    'land': 'Deutschland'},\n   'alter': 34,\n   'telefonnummer': '+49 69 9876543',\n   'email': 'emil.weber@dreamwaysolutions.com',\n   'hobbies': ['Musik', 'Lesen', 'Kochen'],\n   'familienstand': 'verheiratet',\n   'partner': {'name': 'Laura Weber',\n    'hobbies': ['Yoga', 'Tennis', 'Reisen'],\n    'telefonnummer': '+49 69 9876543',\n    'email': 'laura.weber@synergonpartners.org'}},\n  {'name': 'Mohamed Ali',\n   'adresse': {'straÃŸe': 'Taksim MeydanÄ± 1',\n    'stadt': 'Istanbul',\n    'land': 'TÃ¼rkei'},\n   'alter': 42,\n   'telefonnummer': '+90 212 3456789',\n   'email': 'mohamed.ali@generalways.com',\n   'hobbies': ['FuÃŸball', 'Schach', 'Musik'],\n   'familienstand': 'verwitwet',\n   'kinder': [{'name': 'Aisha Ali', 'alter': 10},\n    {'name': 'Ahmed Ali', 'alter': 8}]}]}"
     },
     "execution_count": 12,
     "metadata": {},
     "output_type": "execute_result"
    }
   ],
   "source": [
    "mein_json"
   ],
   "metadata": {
    "collapsed": false
   }
  },
  {
   "cell_type": "markdown",
   "source": [
    "9. Lasse dir alle Informationen zu Personen anzeigen. Von welchem Typ ist der Output? Prüfe den Typ."
   ],
   "metadata": {
    "collapsed": false
   }
  },
  {
   "cell_type": "code",
   "execution_count": 13,
   "outputs": [
    {
     "data": {
      "text/plain": "[{'name': 'Lena Schmidt',\n  'adresse': {'straÃŸe': 'Am Stadtpark 5',\n   'stadt': 'Berlin',\n   'land': 'Deutschland'},\n  'alter': 28,\n  'telefonnummer': '+49 176 12345678',\n  'email': 'lena.schmidt@universalventures.co',\n  'hobbies': ['Klettern', 'Fotografie', 'Reisen'],\n  'familienstand': 'ledig'},\n {'name': 'Emil Weber',\n  'adresse': {'straÃŸe': 'KarlstraÃŸe 10',\n   'stadt': 'Frankfurt am Main',\n   'land': 'Deutschland'},\n  'alter': 34,\n  'telefonnummer': '+49 69 9876543',\n  'email': 'emil.weber@dreamwaysolutions.com',\n  'hobbies': ['Musik', 'Lesen', 'Kochen'],\n  'familienstand': 'verheiratet',\n  'partner': {'name': 'Laura Weber',\n   'hobbies': ['Yoga', 'Tennis', 'Reisen'],\n   'telefonnummer': '+49 69 9876543',\n   'email': 'laura.weber@synergonpartners.org'}},\n {'name': 'Mohamed Ali',\n  'adresse': {'straÃŸe': 'Taksim MeydanÄ± 1',\n   'stadt': 'Istanbul',\n   'land': 'TÃ¼rkei'},\n  'alter': 42,\n  'telefonnummer': '+90 212 3456789',\n  'email': 'mohamed.ali@generalways.com',\n  'hobbies': ['FuÃŸball', 'Schach', 'Musik'],\n  'familienstand': 'verwitwet',\n  'kinder': [{'name': 'Aisha Ali', 'alter': 10},\n   {'name': 'Ahmed Ali', 'alter': 8}]}]"
     },
     "execution_count": 13,
     "metadata": {},
     "output_type": "execute_result"
    }
   ],
   "source": [
    "mein_json[\"personen\"]"
   ],
   "metadata": {
    "collapsed": false
   }
  },
  {
   "cell_type": "code",
   "execution_count": 14,
   "outputs": [
    {
     "data": {
      "text/plain": "list"
     },
     "execution_count": 14,
     "metadata": {},
     "output_type": "execute_result"
    }
   ],
   "source": [
    "type(mein_json[\"personen\"])"
   ],
   "metadata": {
    "collapsed": false
   }
  },
  {
   "cell_type": "markdown",
   "source": [
    "10. Du möchtest Informationen zu Emil Weber. Lass dir zuerst alle Infos zu dieser Person ausgeben. Im nächsten Schritt lass dir nur sein Alter ausgeben."
   ],
   "metadata": {
    "collapsed": false
   }
  },
  {
   "cell_type": "code",
   "execution_count": 15,
   "outputs": [
    {
     "data": {
      "text/plain": "{'name': 'Emil Weber',\n 'adresse': {'straÃŸe': 'KarlstraÃŸe 10',\n  'stadt': 'Frankfurt am Main',\n  'land': 'Deutschland'},\n 'alter': 34,\n 'telefonnummer': '+49 69 9876543',\n 'email': 'emil.weber@dreamwaysolutions.com',\n 'hobbies': ['Musik', 'Lesen', 'Kochen'],\n 'familienstand': 'verheiratet',\n 'partner': {'name': 'Laura Weber',\n  'hobbies': ['Yoga', 'Tennis', 'Reisen'],\n  'telefonnummer': '+49 69 9876543',\n  'email': 'laura.weber@synergonpartners.org'}}"
     },
     "execution_count": 15,
     "metadata": {},
     "output_type": "execute_result"
    }
   ],
   "source": [
    "mein_json[\"personen\"][1]"
   ],
   "metadata": {
    "collapsed": false
   }
  },
  {
   "cell_type": "code",
   "execution_count": 16,
   "outputs": [
    {
     "data": {
      "text/plain": "34"
     },
     "execution_count": 16,
     "metadata": {},
     "output_type": "execute_result"
    }
   ],
   "source": [
    "mein_json[\"personen\"][1][\"alter\"]"
   ],
   "metadata": {
    "collapsed": false
   }
  },
  {
   "cell_type": "markdown",
   "source": [
    "11. Ändere nun das Alter Webers auf 41. Lasse dir wieder alle Infos zu ihm ausgeben und prüfe, ob sein Alter nun bei 41 liegt."
   ],
   "metadata": {
    "collapsed": false
   }
  },
  {
   "cell_type": "code",
   "execution_count": 17,
   "outputs": [],
   "source": [
    "mein_json[\"personen\"][1][\"alter\"] = 41"
   ],
   "metadata": {
    "collapsed": false
   }
  },
  {
   "cell_type": "code",
   "execution_count": 18,
   "outputs": [
    {
     "data": {
      "text/plain": "41"
     },
     "execution_count": 18,
     "metadata": {},
     "output_type": "execute_result"
    }
   ],
   "source": [
    "mein_json[\"personen\"][1][\"alter\"]"
   ],
   "metadata": {
    "collapsed": false
   }
  },
  {
   "cell_type": "markdown",
   "source": [
    "12. Speichere die Datei als aktualisiertes_json.json im Unterordner meine_texte mithilfe von json.dump. Prüfe, ob die gespeicherte Datei wieder ohne Probleme laden kannst."
   ],
   "metadata": {
    "collapsed": false
   }
  },
  {
   "cell_type": "code",
   "execution_count": 19,
   "outputs": [],
   "source": [
    "with open(\"meine_texte\\\\aktualisiertes_json.json\", \"w\") as datei:\n",
    "    json.dump(mein_json, datei)"
   ],
   "metadata": {
    "collapsed": false
   }
  },
  {
   "cell_type": "code",
   "execution_count": 20,
   "outputs": [],
   "source": [
    "with open(\"meine_texte\\\\aktualisiertes_json.json\", \"r\") as datei:\n",
    "    mein_json2 = json.load(datei)"
   ],
   "metadata": {
    "collapsed": false
   }
  },
  {
   "cell_type": "code",
   "execution_count": 21,
   "outputs": [
    {
     "data": {
      "text/plain": "{'personen': [{'name': 'Lena Schmidt',\n   'adresse': {'straÃŸe': 'Am Stadtpark 5',\n    'stadt': 'Berlin',\n    'land': 'Deutschland'},\n   'alter': 28,\n   'telefonnummer': '+49 176 12345678',\n   'email': 'lena.schmidt@universalventures.co',\n   'hobbies': ['Klettern', 'Fotografie', 'Reisen'],\n   'familienstand': 'ledig'},\n  {'name': 'Emil Weber',\n   'adresse': {'straÃŸe': 'KarlstraÃŸe 10',\n    'stadt': 'Frankfurt am Main',\n    'land': 'Deutschland'},\n   'alter': 41,\n   'telefonnummer': '+49 69 9876543',\n   'email': 'emil.weber@dreamwaysolutions.com',\n   'hobbies': ['Musik', 'Lesen', 'Kochen'],\n   'familienstand': 'verheiratet',\n   'partner': {'name': 'Laura Weber',\n    'hobbies': ['Yoga', 'Tennis', 'Reisen'],\n    'telefonnummer': '+49 69 9876543',\n    'email': 'laura.weber@synergonpartners.org'}},\n  {'name': 'Mohamed Ali',\n   'adresse': {'straÃŸe': 'Taksim MeydanÄ± 1',\n    'stadt': 'Istanbul',\n    'land': 'TÃ¼rkei'},\n   'alter': 42,\n   'telefonnummer': '+90 212 3456789',\n   'email': 'mohamed.ali@generalways.com',\n   'hobbies': ['FuÃŸball', 'Schach', 'Musik'],\n   'familienstand': 'verwitwet',\n   'kinder': [{'name': 'Aisha Ali', 'alter': 10},\n    {'name': 'Ahmed Ali', 'alter': 8}]}]}"
     },
     "execution_count": 21,
     "metadata": {},
     "output_type": "execute_result"
    }
   ],
   "source": [
    "mein_json2"
   ],
   "metadata": {
    "collapsed": false
   }
  },
  {
   "cell_type": "markdown",
   "source": [
    "<div  class=\"alert alert-block alert-info\">\n",
    "13. Definiere ein Tupel mit 3 Elementen und speichere es als pickle ab.\n",
    "\n",
    "</div>"
   ],
   "metadata": {
    "collapsed": false
   }
  },
  {
   "cell_type": "code",
   "execution_count": 22,
   "outputs": [],
   "source": [
    "import pickle\n",
    "\n",
    "staedte = (\"Stuttgart\", \"Aachen\", \"Leipzig\")\n",
    "\n",
    "with open(\"staedte.pickle\", \"wb\") as datei:\n",
    "    pickle.dump(staedte, datei)\n"
   ],
   "metadata": {
    "collapsed": false
   }
  },
  {
   "cell_type": "markdown",
   "source": [
    "<div  class=\"alert alert-block alert-info\">\n",
    "14. Öffne die pickle-Datei wieder und lass dir den Inhalt ausgeben.\n",
    "\n",
    "</div>"
   ],
   "metadata": {
    "collapsed": false
   }
  },
  {
   "cell_type": "code",
   "execution_count": 23,
   "outputs": [
    {
     "data": {
      "text/plain": "('Stuttgart', 'Aachen', 'Leipzig')"
     },
     "execution_count": 23,
     "metadata": {},
     "output_type": "execute_result"
    }
   ],
   "source": [
    "with open(\"staedte.pickle\", \"rb\") as datei:\n",
    "    inhalt = pickle.load(datei)\n",
    "\n",
    "inhalt"
   ],
   "metadata": {
    "collapsed": false
   }
  },
  {
   "cell_type": "markdown",
   "source": [
    "<div  class=\"alert alert-block alert-info\">\n",
    "15. Gegeben ist folgende Liste. Schreibe eine lambda-Funktion, die über die Liste iteriert, jede Zahl quadriert und in eine neue Liste namens quadrierte_werte schreibt. Nutze dafür map(). Lasse dir zum Schluss deine neue Liste ausgeben.\n",
    "\n",
    "    Input:\n",
    "    zahlen\n",
    "\n",
    "    Output:\n",
    "    [3, 5, 10, 20, 4, 12]\n",
    "\n",
    "</div>"
   ],
   "metadata": {
    "collapsed": false
   }
  },
  {
   "cell_type": "code",
   "execution_count": 24,
   "outputs": [],
   "source": [
    "my_list = [3, 5, 10, 20, 4, 12]\n"
   ],
   "metadata": {
    "collapsed": false
   }
  },
  {
   "cell_type": "code",
   "execution_count": 25,
   "outputs": [],
   "source": [
    "quadrierte_werte = list(map(lambda x: x**2, my_list))"
   ],
   "metadata": {
    "collapsed": false
   }
  },
  {
   "cell_type": "code",
   "execution_count": 26,
   "outputs": [
    {
     "name": "stdout",
     "output_type": "stream",
     "text": [
      "[9, 25, 100, 400, 16, 144]\n"
     ]
    }
   ],
   "source": [
    "print(quadrierte_werte)"
   ],
   "metadata": {
    "collapsed": false
   }
  },
  {
   "cell_type": "markdown",
   "source": [
    "<div  class=\"alert alert-block alert-info\">\n",
    "16. Schreibe eine lambda-Funktion, die über eine range-Funktion iteriert und jedes Element der range-Funktion mit 5 addiert in eine neue Liste schreibt. Gib der range-Funktion das Argument 6. Nutze dafür map(). Nenne die neue Liste plus_fuenf und lasse dir ihren Inhalt ausgeben.\n",
    "\n",
    "    Input:\n",
    "    zahlen2\n",
    "\n",
    "    Output:\n",
    "    [5, 6, 7, 8, 9, 10]\n",
    "\n",
    "</div>"
   ],
   "metadata": {
    "collapsed": false
   }
  },
  {
   "cell_type": "code",
   "execution_count": 27,
   "outputs": [],
   "source": [
    "plus_fuenf = list(map(lambda x: x+5, range(6)))"
   ],
   "metadata": {
    "collapsed": false
   }
  },
  {
   "cell_type": "code",
   "execution_count": 28,
   "outputs": [
    {
     "data": {
      "text/plain": "[5, 6, 7, 8, 9, 10]"
     },
     "execution_count": 28,
     "metadata": {},
     "output_type": "execute_result"
    }
   ],
   "source": [
    "plus_fuenf"
   ],
   "metadata": {
    "collapsed": false
   }
  }
 ],
 "metadata": {
  "colab": {
   "provenance": []
  },
  "kernelspec": {
   "display_name": "Python 3 (ipykernel)",
   "language": "python",
   "name": "python3"
  },
  "language_info": {
   "codemirror_mode": {
    "name": "ipython",
    "version": 3
   },
   "file_extension": ".py",
   "mimetype": "text/x-python",
   "name": "python",
   "nbconvert_exporter": "python",
   "pygments_lexer": "ipython3",
   "version": "3.9.13"
  }
 },
 "nbformat": 4,
 "nbformat_minor": 5
}
