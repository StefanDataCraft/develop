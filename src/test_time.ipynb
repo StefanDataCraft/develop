{
 "cells": [
  {
   "cell_type": "code",
   "execution_count": 39,
   "outputs": [
    {
     "name": "stdout",
     "output_type": "stream",
     "text": [
      "13\n",
      "8\n",
      "173402521172797813159685037284371942044301\n",
      "13\n",
      "8\n",
      "173402521172797813159685037284371942044301\n",
      "13\n",
      "8\n",
      "173402521172797813159685037284371942044301\n",
      "13\n",
      "8\n",
      "173402521172797813159685037284371942044301\n",
      "13\n",
      "8\n",
      "173402521172797813159685037284371942044301\n",
      "13\n",
      "8\n",
      "173402521172797813159685037284371942044301\n",
      "13\n",
      "8\n",
      "173402521172797813159685037284371942044301\n",
      "13\n",
      "8\n",
      "173402521172797813159685037284371942044301\n",
      "13\n",
      "8\n",
      "173402521172797813159685037284371942044301\n",
      "13\n",
      "8\n",
      "173402521172797813159685037284371942044301\n",
      "13\n",
      "8\n",
      "173402521172797813159685037284371942044301\n",
      "13\n",
      "8\n",
      "173402521172797813159685037284371942044301\n",
      "13\n",
      "8\n",
      "173402521172797813159685037284371942044301\n",
      "13\n",
      "8\n",
      "173402521172797813159685037284371942044301\n",
      "28.6 ms ± 6.79 ms per loop (mean ± std. dev. of 7 runs, 2 loops each)\n"
     ]
    }
   ],
   "source": [
    "%%timeit -n 2\n",
    "#tic = time.perf_counter()\n",
    "#import time\n",
    "\n",
    "\n",
    "def fibonacci_recursive(n):\n",
    "    assert n > 0\n",
    "    if n == 1:\n",
    "        return 0\n",
    "    elif n == 2:\n",
    "        return 1\n",
    "    else:\n",
    "        return fibonacci_recursive(n-1) + fibonacci_recursive(n-2)\n",
    "\n",
    "def fibonacci_iterative(n):\n",
    "    assert n > 0\n",
    "    secondLast = 0\n",
    "    Last = 1\n",
    "    if n == 1:\n",
    "        print(secondLast)\n",
    "    elif n == 2:\n",
    "        print(Last)\n",
    "    else:\n",
    "        for i in range(3, n + 1):\n",
    "            result = secondLast + Last\n",
    "            secondLast = Last\n",
    "            Last = result\n",
    "        print(result)\n",
    "\n",
    "\n",
    "fibonacci_iterative(8)\n",
    "fibonacci_iterative(7)\n",
    "fibonacci_iterative(200)\n",
    "\n",
    "fibonacci_recursive(8)\n",
    "fibonacci_recursive(7)\n",
    "fibonacci_recursive(25)\n",
    "\n",
    "#toc = time.perf_counter()\n",
    "#print(toc,tic)\n",
    "#print(f\"Zeit: {toc-tic:0.8f}\")\n"
   ],
   "metadata": {
    "collapsed": false,
    "pycharm": {
     "name": "#%%timeit -n 3\n"
    }
   }
  },
  {
   "cell_type": "code",
   "execution_count": null,
   "outputs": [],
   "source": [],
   "metadata": {
    "collapsed": false
   }
  }
 ],
 "metadata": {
  "kernelspec": {
   "display_name": "Python 3",
   "language": "python",
   "name": "python3"
  },
  "language_info": {
   "codemirror_mode": {
    "name": "ipython",
    "version": 2
   },
   "file_extension": ".py",
   "mimetype": "text/x-python",
   "name": "python",
   "nbconvert_exporter": "python",
   "pygments_lexer": "ipython2",
   "version": "2.7.6"
  }
 },
 "nbformat": 4,
 "nbformat_minor": 0
}
