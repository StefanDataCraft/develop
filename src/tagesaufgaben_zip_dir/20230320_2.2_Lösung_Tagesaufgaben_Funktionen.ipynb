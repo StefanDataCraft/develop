{
 "cells": [
  {
   "cell_type": "markdown",
   "id": "78e2f52e",
   "metadata": {
    "id": "78e2f52e"
   },
   "source": [
    "<br><br><center><h1 style=\"font-size:2em;color:#2467C0\">Tagesaufgaben 20.03.2023</h1></center>\n",
    "<br>\n"
   ]
  },
  {
   "cell_type": "markdown",
   "id": "721a8186",
   "metadata": {},
   "source": [
    "# Funktionen, return, default"
   ]
  },
  {
   "cell_type": "markdown",
   "id": "e694e0e7",
   "metadata": {},
   "source": [
    "Optional: Lies dir die beiden Paragraphen \"Rückgabewert bei Funktionen\" und \"Warum Variable über return übergeben\" durch, wenn du Fragen zum return Ausdruck hast: https://www.python-lernen.de/rueckgabewert-funktionen.htm"
   ]
  },
  {
   "cell_type": "markdown",
   "source": [
    "## Aufgabe 1"
   ],
   "metadata": {
    "collapsed": false
   }
  },
  {
   "cell_type": "markdown",
   "source": [
    "1.1 Dir sind zwei Funktionen vorgegeben: grusswort1 und grusswort2. Was zeichnet sie aus? Was unterscheidet sie voneinander? Beschreibe in Kommentaren."
   ],
   "metadata": {
    "collapsed": false
   }
  },
  {
   "cell_type": "code",
   "execution_count": 1,
   "outputs": [],
   "source": [
    "def grusswort1():\n",
    "    print(\"Hallo!\")"
   ],
   "metadata": {
    "collapsed": false
   }
  },
  {
   "cell_type": "code",
   "execution_count": 2,
   "outputs": [],
   "source": [
    "def grusswort2():\n",
    "    return \"Hallo\""
   ],
   "metadata": {
    "collapsed": false
   }
  },
  {
   "cell_type": "code",
   "execution_count": 3,
   "outputs": [
    {
     "name": "stdout",
     "output_type": "stream",
     "text": [
      "Hallo!\n"
     ]
    }
   ],
   "source": [
    "grusswort1()"
   ],
   "metadata": {
    "collapsed": false
   }
  },
  {
   "cell_type": "code",
   "execution_count": 4,
   "outputs": [
    {
     "data": {
      "text/plain": "'Hallo'"
     },
     "execution_count": 4,
     "metadata": {},
     "output_type": "execute_result"
    }
   ],
   "source": [
    "grusswort2()"
   ],
   "metadata": {
    "collapsed": false
   }
  },
  {
   "cell_type": "code",
   "execution_count": 5,
   "outputs": [],
   "source": [
    "# Die eine Funktion printet das Ergebnis, die andere gibt es zurück. Im letzteren Fall kann das Ergebnis in eine Variable gespeichert und alle gängigen Operationen damit durchgeführt werden. Man erkennt die Rückgabe des Werts am \"Out\" neben der Ausgabe."
   ],
   "metadata": {
    "collapsed": false
   }
  },
  {
   "cell_type": "markdown",
   "source": [
    "1.2 Du möchtest nun die Länge des Grußtextes mit der len-Funktion ermitteln. Mit welcher der beiden grusswort-Funktionen klappt das? Was ist das Problem mit der anderen Option?"
   ],
   "metadata": {
    "collapsed": false
   }
  },
  {
   "cell_type": "code",
   "execution_count": 8,
   "outputs": [
    {
     "data": {
      "text/plain": "5"
     },
     "execution_count": 8,
     "metadata": {},
     "output_type": "execute_result"
    }
   ],
   "source": [
    "len(grusswort2())\n",
    "# Es klappt mit grusswort2. Bei grusswort1 gibt es einen Fehler. Dieser beruht darauft, dass die Funktion nichts zurückgibt und man die Länge eines None-Objekts nicht bestimmen kann."
   ],
   "metadata": {
    "collapsed": false
   }
  },
  {
   "cell_type": "markdown",
   "source": [
    "2.1 Jemand hat eine Funktion namens problem_addition geschrieben. Sie soll zwei Zahlen addieren, aber irgendwie will sie noch nicht recht funktionieren. Was ist das Problem an der Funktion. Kommentiere und behebe das Problem."
   ],
   "metadata": {
    "collapsed": false
   }
  },
  {
   "cell_type": "code",
   "execution_count": 2,
   "outputs": [],
   "source": [
    "def problem_addition(a, b):\n",
    "    return a + b # Die Rechnung wurde innerhalb der Funktion durchgeführt, aber das Ergebnis wurde nicht zurückgegeben."
   ],
   "metadata": {
    "collapsed": false
   }
  },
  {
   "cell_type": "code",
   "execution_count": 3,
   "outputs": [],
   "source": [
    "problem_addition(1, 2)"
   ],
   "metadata": {
    "collapsed": false
   }
  },
  {
   "cell_type": "markdown",
   "source": [
    "2.2 Was passiert, wenn du der Funktion nur b übergibst? Probier es aus. Behebe das Problem mit Standardwerten für a und b von 1."
   ],
   "metadata": {
    "collapsed": false
   }
  },
  {
   "cell_type": "code",
   "execution_count": 6,
   "outputs": [],
   "source": [
    "# problem_addition(b=2) gibt einen Error, weil ein Argument fehlt.\n",
    "def problem_addition(a=1, b=1): # Problemlösung durch Default-Werte\n",
    "    return a + b"
   ],
   "metadata": {
    "collapsed": false
   }
  },
  {
   "cell_type": "code",
   "execution_count": 8,
   "outputs": [
    {
     "data": {
      "text/plain": "2"
     },
     "execution_count": 8,
     "metadata": {},
     "output_type": "execute_result"
    }
   ],
   "source": [
    "problem_addition()"
   ],
   "metadata": {
    "collapsed": false
   }
  },
  {
   "cell_type": "markdown",
   "source": [
    "2.3 Schreibe abschließend eine Docstring für die Funktion und lasse dir die Dokumentation der Funktion ausgeben"
   ],
   "metadata": {
    "collapsed": false
   }
  },
  {
   "cell_type": "code",
   "execution_count": 9,
   "outputs": [],
   "source": [
    "def problem_addition(a=1, b=1):\n",
    "    \"\"\"\n",
    "    Addiert zwei Werte a und b und gibt das Ergebnis zurück.\n",
    "    Als Standard-Werte wurden a=1 und b=1 gewählt.\n",
    "    \"\"\"\n",
    "    return a + b"
   ],
   "metadata": {
    "collapsed": false
   }
  },
  {
   "cell_type": "code",
   "execution_count": 12,
   "outputs": [
    {
     "name": "stdout",
     "output_type": "stream",
     "text": [
      "\n",
      "    Addiert zwei Werte a und b und gibt das Ergebnis zurück.\n",
      "    Als Standard-Werte wurden a=1 und b=1 gewählt.\n",
      "    \n"
     ]
    }
   ],
   "source": [
    "print(problem_addition.__doc__)"
   ],
   "metadata": {
    "collapsed": false
   }
  },
  {
   "cell_type": "markdown",
   "id": "928e1d1f",
   "metadata": {},
   "source": [
    " <div  class=\"alert alert-block alert-info\">\n",
    "3. Erstelle eine Funktion, die einen Parameter hat und diesen einfach mittels print() ausgibt.\n",
    "    \n",
    "    Input:\n",
    "    para(485)\n",
    "    \n",
    "    Output:\n",
    "    485\n",
    "</div>"
   ]
  },
  {
   "cell_type": "code",
   "execution_count": 1,
   "id": "7ba41060",
   "metadata": {},
   "outputs": [
    {
     "name": "stdout",
     "output_type": "stream",
     "text": [
      "485\n"
     ]
    }
   ],
   "source": [
    "def para(x):\n",
    "    print(x)\n",
    "\n",
    "para(485)"
   ]
  },
  {
   "cell_type": "markdown",
   "id": "e6e0c85c",
   "metadata": {},
   "source": [
    " <div  class=\"alert alert-block alert-info\">\n",
    "4. Versuche nun mit der Funktion aus der vorherigen Aufgabe weiterzurechnen. Z.B. Versuche 6 auf das Ergebnis der Funktion zu addieren. Du wirst einen Error erhalten.\n",
    "    \n",
    "    Input:\n",
    "    para2(485) + 6\n",
    "    \n",
    "    Output:\n",
    "    Error\n",
    "</div>"
   ]
  },
  {
   "cell_type": "code",
   "execution_count": 4,
   "id": "663811fd",
   "metadata": {},
   "outputs": [
    {
     "name": "stdout",
     "output_type": "stream",
     "text": [
      "485\n"
     ]
    },
    {
     "ename": "TypeError",
     "evalue": "unsupported operand type(s) for +: 'NoneType' and 'int'",
     "output_type": "error",
     "traceback": [
      "\u001B[1;31m---------------------------------------------------------------------------\u001B[0m",
      "\u001B[1;31mTypeError\u001B[0m                                 Traceback (most recent call last)",
      "\u001B[1;32m~\\AppData\\Local\\Temp\\ipykernel_22492\\1042803283.py\u001B[0m in \u001B[0;36m<module>\u001B[1;34m\u001B[0m\n\u001B[1;32m----> 1\u001B[1;33m \u001B[0mpara\u001B[0m\u001B[1;33m(\u001B[0m\u001B[1;36m485\u001B[0m\u001B[1;33m)\u001B[0m \u001B[1;33m+\u001B[0m \u001B[1;36m6\u001B[0m\u001B[1;33m\u001B[0m\u001B[1;33m\u001B[0m\u001B[0m\n\u001B[0m",
      "\u001B[1;31mTypeError\u001B[0m: unsupported operand type(s) for +: 'NoneType' and 'int'"
     ]
    }
   ],
   "source": [
    "para(485) + 6"
   ]
  },
  {
   "cell_type": "markdown",
   "id": "072af668",
   "metadata": {},
   "source": [
    " <div  class=\"alert alert-block alert-info\">\n",
    "5. Versuche zu erklären, warum du einen Error erhälst.\n",
    "</div>"
   ]
  },
  {
   "cell_type": "code",
   "execution_count": null,
   "id": "be7dbdee",
   "metadata": {},
   "outputs": [],
   "source": [
    "# Die Funktion gibt keinen Wert aus, sondern druckt nur den Wert des Ergebnisses."
   ]
  },
  {
   "cell_type": "markdown",
   "id": "0840fbc2",
   "metadata": {},
   "source": [
    " <div  class=\"alert alert-block alert-info\">\n",
    "6. Erstelle nun eine Funktion, die einen Parameter hat und diesen durch ein return statement ausgibt.\n",
    "    \n",
    "    Input:\n",
    "    para2(485)\n",
    "    \n",
    "    Output:\n",
    "    485\n",
    "</div>"
   ]
  },
  {
   "cell_type": "code",
   "execution_count": 14,
   "id": "ddf05318",
   "metadata": {},
   "outputs": [
    {
     "data": {
      "text/plain": "372"
     },
     "execution_count": 14,
     "metadata": {},
     "output_type": "execute_result"
    }
   ],
   "source": [
    "def para2(x):\n",
    "    return x\n",
    "\n",
    "para2()"
   ]
  },
  {
   "cell_type": "markdown",
   "id": "112923b6",
   "metadata": {},
   "source": [
    " <div  class=\"alert alert-block alert-info\">\n",
    "7. Versuche nun diese neue Funktion (in meinem Fall para2) nach ausführung der Funktion mit 6 zu addieren.\n",
    "    \n",
    "    Input:\n",
    "    para2(485) + 6\n",
    "    \n",
    "    Output:\n",
    "    491\n",
    "</div>"
   ]
  },
  {
   "cell_type": "code",
   "execution_count": 15,
   "id": "63a72242",
   "metadata": {},
   "outputs": [
    {
     "data": {
      "text/plain": "491"
     },
     "execution_count": 15,
     "metadata": {},
     "output_type": "execute_result"
    }
   ],
   "source": [
    "para2(485)+6"
   ]
  },
  {
   "cell_type": "code",
   "execution_count": 16,
   "outputs": [],
   "source": [
    "zahl = para2(485)"
   ],
   "metadata": {
    "collapsed": false
   }
  },
  {
   "cell_type": "code",
   "execution_count": 18,
   "outputs": [
    {
     "name": "stdout",
     "output_type": "stream",
     "text": [
      "485\n",
      "<class 'int'>\n"
     ]
    }
   ],
   "source": [
    "print(zahl)\n",
    "print(type(zahl))"
   ],
   "metadata": {
    "collapsed": false
   }
  },
  {
   "cell_type": "markdown",
   "id": "d9e80605",
   "metadata": {},
   "source": [
    " <div  class=\"alert alert-block alert-info\">\n",
    "8. Erkläre, warum die Rechnung dieses Mal funktioniert\n",
    "</div>"
   ]
  },
  {
   "cell_type": "code",
   "execution_count": 4,
   "id": "fc33a806",
   "metadata": {},
   "outputs": [],
   "source": [
    "# Die Funktion hat nun durch das return einen Wert, nämlich den Wert des Arguments, \n",
    "# den ich beim Aufrufen der Funktion übergebe (hier 485)."
   ]
  },
  {
   "cell_type": "markdown",
   "id": "d04c2da4",
   "metadata": {},
   "source": [
    " <div  class=\"alert alert-block alert-info\">\n",
    "9. Erstelle eine Funktion, die zwei Parameter hat und diese Parameter innerhalb der Funktion addiert. Gebe mit return das Ergebnis aus.\n",
    "    \n",
    "    Input:\n",
    "    addition(8, 9)\n",
    "    \n",
    "    Output:\n",
    "    17\n",
    "</div>"
   ]
  },
  {
   "cell_type": "code",
   "execution_count": 9,
   "id": "9f2f2fe4",
   "metadata": {},
   "outputs": [
    {
     "data": {
      "text/plain": [
       "17"
      ]
     },
     "execution_count": 9,
     "metadata": {},
     "output_type": "execute_result"
    }
   ],
   "source": [
    "def addition(x, y):\n",
    "    summe = x + y\n",
    "    return summe\n",
    "\n",
    "addition(8, 9)"
   ]
  },
  {
   "cell_type": "markdown",
   "id": "06ca40c3",
   "metadata": {},
   "source": [
    " <div  class=\"alert alert-block alert-info\">\n",
    "10. Erstelle eine Funktion, die zwei Parameter hat und diese Parameter innerhalb der Funktion addiert, sowie in einer weiteren Rechnung subtrahiert. Gebe mit return die Ergebnise beider Rechnungen aus.\n",
    "    \n",
    "    Input:\n",
    "    rechnung(4, 8)\n",
    "    \n",
    "    Output:\n",
    "    (12, -4)\n",
    "</div>"
   ]
  },
  {
   "cell_type": "code",
   "execution_count": 19,
   "id": "0510788d",
   "metadata": {},
   "outputs": [
    {
     "data": {
      "text/plain": "(12, -4)"
     },
     "execution_count": 19,
     "metadata": {},
     "output_type": "execute_result"
    }
   ],
   "source": [
    "def rechnung(x, y):\n",
    "    summe = x + y\n",
    "    differenz = x - y\n",
    "    return summe, differenz\n",
    "\n",
    "rechnung(4, 8)"
   ]
  },
  {
   "cell_type": "markdown",
   "id": "a44094f9",
   "metadata": {},
   "source": [
    " <div  class=\"alert alert-block alert-info\">\n",
    "11. Rufe wieder deine Funktion aus der vorherigen Aufgabe auf (in meinem Fall rechnung()), aber lass dir nur das erste Element des Ergebnises der Funktion ausgeben. (Ich habe die gleichen Zahlen wie zuvor verwendet, deshalb steht wie zuvor eine 12 da).\n",
    "    \n",
    "    Input:\n",
    "    ?\n",
    "    \n",
    "    Output:\n",
    "    12\n",
    "</div>"
   ]
  },
  {
   "cell_type": "code",
   "execution_count": 27,
   "outputs": [],
   "source": [
    "mein_tupel = rechnung(4, 8)"
   ],
   "metadata": {
    "collapsed": false
   }
  },
  {
   "cell_type": "code",
   "execution_count": 28,
   "outputs": [
    {
     "data": {
      "text/plain": "(12, -4)"
     },
     "execution_count": 28,
     "metadata": {},
     "output_type": "execute_result"
    }
   ],
   "source": [
    "mein_tupel"
   ],
   "metadata": {
    "collapsed": false
   }
  },
  {
   "cell_type": "code",
   "execution_count": 29,
   "outputs": [
    {
     "data": {
      "text/plain": "12"
     },
     "execution_count": 29,
     "metadata": {},
     "output_type": "execute_result"
    }
   ],
   "source": [
    "mein_tupel[0]"
   ],
   "metadata": {
    "collapsed": false
   }
  },
  {
   "cell_type": "code",
   "execution_count": 11,
   "id": "8a865925",
   "metadata": {},
   "outputs": [
    {
     "data": {
      "text/plain": [
       "12"
      ]
     },
     "execution_count": 11,
     "metadata": {},
     "output_type": "execute_result"
    }
   ],
   "source": [
    "rechnung(4, 8)[0]"
   ]
  },
  {
   "cell_type": "markdown",
   "id": "6ec752ba",
   "metadata": {},
   "source": [
    " <div  class=\"alert alert-block alert-info\">\n",
    "12. Rufe wieder deine Funktion aus der vorvorherigen Aufgabe auf (in meinem Fall rechnung()), aber speichere dieses Mal die Ergebnisse der Funktion außerhalb der Funktion in zwei Variablen ab. Optional: Nutze dafür nur eine Zeile Code (ausgenommen eventuelle print() statements).\n",
    "    \n",
    "    Input:\n",
    "    ?\n",
    "    \n",
    "    Output:\n",
    "    12\n",
    "    -4\n",
    "</div>"
   ]
  },
  {
   "cell_type": "code",
   "execution_count": 12,
   "id": "f7cfa23f",
   "metadata": {},
   "outputs": [
    {
     "name": "stdout",
     "output_type": "stream",
     "text": [
      "12\n",
      "-4\n"
     ]
    }
   ],
   "source": [
    "w, z = rechnung(4, 8)\n",
    "print(w)\n",
    "print(z)"
   ]
  },
  {
   "cell_type": "markdown",
   "id": "0e6fc1dd",
   "metadata": {},
   "source": [
    " <div  class=\"alert alert-block alert-info\">\n",
    "13. Erstelle eine Funktion, die zwei Parameter hat. Der erste soll ein Name sein und der zweite soll die Körpergröße sein. Gib über print() den Namen und die Körpergröße beim Aufruf der Funktion aus. Gib den Parametern default Werte (Standardwerte) für den Fall, dass man beim Aufruf der Funktion keine Argumente übergibt.\n",
    "    \n",
    "    Input:\n",
    "    person()\n",
    "    \n",
    "    Output:\n",
    "    Name: Max Mustermann\n",
    "    Größe: 1.8\n",
    "    \n",
    "    Input2:\n",
    "    person(\"Jochen\", 1.5)\n",
    "    \n",
    "    Output2:\n",
    "    Name: Jochen\n",
    "    Größe: 1.5\n",
    "</div>"
   ]
  },
  {
   "cell_type": "code",
   "execution_count": 13,
   "id": "a4188f35",
   "metadata": {},
   "outputs": [
    {
     "name": "stdout",
     "output_type": "stream",
     "text": [
      "Name: Max Mustermann\n",
      "Größe: 1.8\n",
      "Name: Jochen\n",
      "Größe: 1.5\n"
     ]
    }
   ],
   "source": [
    "def person(name = \"Max Mustermann\", groesse = 1.8):\n",
    "    print(\"Name:\", name)\n",
    "    print(\"Größe:\", groesse)\n",
    "    \n",
    "person()\n",
    "person(\"Jochen\", 1.5)"
   ]
  },
  {
   "cell_type": "markdown",
   "id": "d4420bef",
   "metadata": {},
   "source": [
    " <div  class=\"alert alert-block alert-info\">\n",
    "14. Erstelle eine Funktion, die zwei Parameter hat. Der erste soll ein Name sein und der zweite soll die Lieblingsfarbe sein. Gib über print() den Namen und die Körpergröße beim Aufruf der Funktion aus. Dieses Mal soll der Name keinen default Wert bekommen, die Lieblingsfarbe soll aber den default wert \"schwarz\" bekommen.\n",
    "    \n",
    "    Input:\n",
    "    person(\"Max\")\n",
    "    \n",
    "    Output:\n",
    "    Name: Max\n",
    "    Farbe: schwarz\n",
    "    \n",
    "    Input2:\n",
    "    person(\"Otto\", \"blau\")\n",
    "    \n",
    "    Output2:\n",
    "    Name: Otto\n",
    "    Farbe: blau\n",
    "</div>"
   ]
  },
  {
   "cell_type": "code",
   "execution_count": 16,
   "id": "e20f3500",
   "metadata": {},
   "outputs": [
    {
     "name": "stdout",
     "output_type": "stream",
     "text": [
      "Name: Max\n",
      "Farbe: schwarz\n",
      "Name: Otto\n",
      "Farbe: blau\n"
     ]
    }
   ],
   "source": [
    "def person2(name, farbe = \"schwarz\"):\n",
    "    print(\"Name:\", name)\n",
    "    print(\"Farbe:\", farbe)\n",
    "    \n",
    "person2(\"Max\")\n",
    "person2(\"Otto\", \"blau\")"
   ]
  },
  {
   "cell_type": "markdown",
   "source": [
    " <div  class=\"alert alert-block alert-info\">\n",
    "15. Erstelle eine Funktion, die die Länge eines Wortes ausgibt (so ähnlich wie die len() Funktion). Nutze dafür NICHT die len() Funktion!\n",
    "\n",
    "    Input:\n",
    "    mein_len(\"Hallo\")\n",
    "\n",
    "    Output:\n",
    "    5\n",
    "\n",
    "</div>"
   ],
   "metadata": {
    "collapsed": false
   }
  },
  {
   "cell_type": "code",
   "execution_count": 1,
   "outputs": [
    {
     "data": {
      "text/plain": [
       "5"
      ]
     },
     "execution_count": 1,
     "metadata": {},
     "output_type": "execute_result"
    }
   ],
   "source": [
    "def mein_len(element):\n",
    "    for i, zeichen in enumerate(element, start=1):\n",
    "        pass\n",
    "    return i\n",
    "\n",
    "mein_len(\"Hallo\")"
   ],
   "metadata": {
    "collapsed": false
   }
  },
  {
   "cell_type": "markdown",
   "source": [
    " <div  class=\"alert alert-block alert-info\">\n",
    "16. Verbessere nun die Funktion aus der vorherigen Aufgabe, sodass auch die Länge von Zahlen ausgegeben werden kann.\n",
    "\n",
    "    Input:\n",
    "    mein_len2(350)\n",
    "\n",
    "    Output:\n",
    "    3\n",
    "</div>"
   ],
   "metadata": {
    "collapsed": false
   }
  },
  {
   "cell_type": "code",
   "execution_count": null,
   "outputs": [],
   "source": [
    "# Mögliche Lösungen"
   ],
   "metadata": {
    "collapsed": false
   }
  },
  {
   "cell_type": "code",
   "execution_count": 30,
   "outputs": [
    {
     "data": {
      "text/plain": "'123'"
     },
     "execution_count": 30,
     "metadata": {},
     "output_type": "execute_result"
    }
   ],
   "source": [
    "str(123)"
   ],
   "metadata": {
    "collapsed": false
   }
  },
  {
   "cell_type": "code",
   "execution_count": 32,
   "outputs": [],
   "source": [
    "def mein_len(element):\n",
    "    for index, buchstabe in enumerate(str(element), start=1):\n",
    "        pass\n",
    "    return index"
   ],
   "metadata": {
    "collapsed": false
   }
  },
  {
   "cell_type": "code",
   "execution_count": 34,
   "outputs": [
    {
     "data": {
      "text/plain": "4"
     },
     "execution_count": 34,
     "metadata": {},
     "output_type": "execute_result"
    }
   ],
   "source": [
    "mein_len(1233)"
   ],
   "metadata": {
    "collapsed": false
   }
  },
  {
   "cell_type": "code",
   "execution_count": 101,
   "outputs": [],
   "source": [
    "def mein_len(string):\n",
    "    counter = 0\n",
    "    for char in string:\n",
    "        counter += 1\n",
    "    return counter"
   ],
   "metadata": {
    "collapsed": false
   }
  },
  {
   "cell_type": "code",
   "execution_count": 38,
   "outputs": [],
   "source": [
    "wort = \"Hallooo\""
   ],
   "metadata": {
    "collapsed": false
   }
  },
  {
   "cell_type": "code",
   "execution_count": 39,
   "outputs": [
    {
     "data": {
      "text/plain": "'o'"
     },
     "execution_count": 39,
     "metadata": {},
     "output_type": "execute_result"
    }
   ],
   "source": [
    "wort[-1]"
   ],
   "metadata": {
    "collapsed": false
   }
  },
  {
   "cell_type": "code",
   "execution_count": 40,
   "outputs": [
    {
     "data": {
      "text/plain": "5"
     },
     "execution_count": 40,
     "metadata": {},
     "output_type": "execute_result"
    }
   ],
   "source": [
    "wort.index(wort[-1])+1"
   ],
   "metadata": {
    "collapsed": false
   }
  },
  {
   "cell_type": "code",
   "execution_count": 39,
   "outputs": [],
   "source": [
    "def mein_len(string):\n",
    "    return string.index(string[-1]) + 1"
   ],
   "metadata": {
    "collapsed": false
   }
  },
  {
   "cell_type": "markdown",
   "source": [
    "17. Erstelle eine Funktion, die beliebig viele Zahlen aufnehmen kann und dir den Mittelwert ausgibt."
   ],
   "metadata": {
    "collapsed": false
   }
  },
  {
   "cell_type": "code",
   "execution_count": 37,
   "outputs": [],
   "source": [
    "def mittelwert(*zahlen):\n",
    "    return sum(zahlen)/len(zahlen)"
   ],
   "metadata": {
    "collapsed": false
   }
  },
  {
   "cell_type": "code",
   "execution_count": 38,
   "outputs": [
    {
     "data": {
      "text/plain": "6.0"
     },
     "execution_count": 38,
     "metadata": {},
     "output_type": "execute_result"
    }
   ],
   "source": [
    "mittelwert(5,6,7)"
   ],
   "metadata": {
    "collapsed": false
   }
  }
 ],
 "metadata": {
  "colab": {
   "provenance": []
  },
  "kernelspec": {
   "display_name": "Python 3 (ipykernel)",
   "language": "python",
   "name": "python3"
  },
  "language_info": {
   "codemirror_mode": {
    "name": "ipython",
    "version": 3
   },
   "file_extension": ".py",
   "mimetype": "text/x-python",
   "name": "python",
   "nbconvert_exporter": "python",
   "pygments_lexer": "ipython3",
   "version": "3.9.13"
  }
 },
 "nbformat": 4,
 "nbformat_minor": 5
}
