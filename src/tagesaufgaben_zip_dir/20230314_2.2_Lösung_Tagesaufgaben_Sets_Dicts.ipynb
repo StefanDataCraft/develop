{
 "cells": [
  {
   "cell_type": "markdown",
   "source": [
    "# 1. Sets"
   ],
   "metadata": {
    "collapsed": false
   }
  },
  {
   "cell_type": "markdown",
   "source": [
    "1. Gegeben ist eine (fiktive) Liste von Meldungen im Unterricht. Messe die Länge der Liste. Erstelle danache ein Set und speichere es in der Variabel gemeldet. Lass dir den Inhalt von gemeldet ausgeben und messe die Länge von gemeldet. Um wie viel ist Set im Vergleich zur Liste geschrumpft? Wie erklärst du dir das? Schreibe in einem Kommentar."
   ],
   "metadata": {
    "collapsed": false
   }
  },
  {
   "cell_type": "code",
   "execution_count": 2,
   "outputs": [],
   "source": [
    "meldungen = [\"Huyn\", \"Sarah\", \"Bernd\", \"Stefan\", \"Brigitte\", \"Kacper\", \"Brigitte\", \"Ingo\", \"Kacper\", \"Viktor\", \"Carolina\", \"Stefan\", \"Klaus\", \"Brigitte\", \"Carolina\", \"Bernd\", \"Huyn\", \"Tobias\", \"Constantin\", \"Huyn\", \"Carolina\"]"
   ],
   "metadata": {
    "collapsed": false
   }
  },
  {
   "cell_type": "code",
   "execution_count": 4,
   "outputs": [
    {
     "data": {
      "text/plain": "21"
     },
     "execution_count": 4,
     "metadata": {},
     "output_type": "execute_result"
    }
   ],
   "source": [
    "len(meldungen)"
   ],
   "metadata": {
    "collapsed": false
   }
  },
  {
   "cell_type": "code",
   "execution_count": 12,
   "outputs": [],
   "source": [
    "gemeldet = set(meldungen)"
   ],
   "metadata": {
    "collapsed": false
   }
  },
  {
   "cell_type": "code",
   "execution_count": 13,
   "outputs": [
    {
     "data": {
      "text/plain": "12"
     },
     "execution_count": 13,
     "metadata": {},
     "output_type": "execute_result"
    }
   ],
   "source": [
    "len(gemeldet)\n",
    "# Es gab mehrere Meldungen bei einigen Teilnehmern. Im Set werden diese Teilnehmer nur einmal aufgeführt."
   ],
   "metadata": {
    "collapsed": false
   }
  },
  {
   "cell_type": "markdown",
   "source": [
    "2. Füge zum Set hinzu: Anca, Benjamin, Claudia, Nikolaos, Rene, Svetlana und speichere das ergebnis in teilnehmer_gesamt. Es ist okay, die Namen einzeln hinzuzufügen, wie im Unterricht besprochen. Alternativ kannst du dich über die update-Funktion erkundigen! (Extra-optional: Erstelle aus den fehlenden Namen eine Liste und füge sie mit einer Schleife teilnehmer_gesamt hinzu.)"
   ],
   "metadata": {
    "collapsed": false
   }
  },
  {
   "cell_type": "code",
   "execution_count": 14,
   "outputs": [],
   "source": [
    "aktive_teilnehmer = gemeldet.copy()"
   ],
   "metadata": {
    "collapsed": false
   }
  },
  {
   "cell_type": "code",
   "execution_count": 15,
   "outputs": [
    {
     "data": {
      "text/plain": "12"
     },
     "execution_count": 15,
     "metadata": {},
     "output_type": "execute_result"
    }
   ],
   "source": [
    "len(aktive_teilnehmer)"
   ],
   "metadata": {
    "collapsed": false
   }
  },
  {
   "cell_type": "code",
   "execution_count": 16,
   "outputs": [],
   "source": [
    "gemeldet.update([\"Anca\", \"Benjamin\", \"Claudia\", \"Nikolaos\", \"Rene\", \"Svetlana\"])"
   ],
   "metadata": {
    "collapsed": false
   }
  },
  {
   "cell_type": "code",
   "execution_count": 17,
   "outputs": [],
   "source": [
    "teilnehmer_gesamt = gemeldet"
   ],
   "metadata": {
    "collapsed": false
   }
  },
  {
   "cell_type": "markdown",
   "source": [
    "3. Dein gemeldet-Set ist nun überschrieben. Erstelle es deswegen erneut unter dem namen aktive_teilnehmer. Alternativ informiere dich über die Copy-Funktion und passe deine Schritte weiter oben so an, dass du eine Kopie des Sets für den nächsten Schritt behältst."
   ],
   "metadata": {
    "collapsed": false
   }
  },
  {
   "cell_type": "code",
   "execution_count": 18,
   "outputs": [],
   "source": [
    "# aktive_teilnehmer = set(meldungen) # Oben mit Copy bereits umgesetzt."
   ],
   "metadata": {
    "collapsed": false
   }
  },
  {
   "cell_type": "markdown",
   "source": [
    "4. Du möchtest wissen, wer sich heute bei den Wortmeldungen zurückgehalten hat. Du dürftest nun über ein Set mit den Personen, die sich gemeldet haben sowie über ein Set aller Teilnehmer verfügen. Ermittle die schweigsamen teilnehmer und speichere das Ergebnis in schweigsame_teilnehmer. Lasse dir die schweigsamen Teilnehmer ausgeben."
   ],
   "metadata": {
    "collapsed": false
   }
  },
  {
   "cell_type": "code",
   "execution_count": 21,
   "outputs": [],
   "source": [
    "schweigsame_teilnehmer = teilnehmer_gesamt.symmetric_difference(aktive_teilnehmer)"
   ],
   "metadata": {
    "collapsed": false
   }
  },
  {
   "cell_type": "code",
   "execution_count": 23,
   "outputs": [
    {
     "data": {
      "text/plain": "{'Anca', 'Benjamin', 'Claudia', 'Nikolaos', 'Rene', 'Svetlana'}"
     },
     "execution_count": 23,
     "metadata": {},
     "output_type": "execute_result"
    }
   ],
   "source": [
    "schweigsame_teilnehmer"
   ],
   "metadata": {
    "collapsed": false
   }
  },
  {
   "cell_type": "markdown",
   "source": [
    "# 2. Dictonaries"
   ],
   "metadata": {
    "collapsed": false
   }
  },
  {
   "cell_type": "markdown",
   "source": [
    "1. Was haben folgende Anweisungen zum Ergebnis? Führe aus und schreibe Kommentare!"
   ],
   "metadata": {
    "collapsed": false
   }
  },
  {
   "cell_type": "code",
   "execution_count": 24,
   "outputs": [
    {
     "name": "stdout",
     "output_type": "stream",
     "text": [
      "Fisch\n"
     ]
    }
   ],
   "source": [
    "d = {'cat':'Katze', 'dog':'Hund', 'fish':'Fisch'}\n",
    "print(d['fish'])\n",
    "\n",
    "#Antwort: Gibt Wert (value) an der Stelle (key) fish im Dict aus."
   ],
   "metadata": {
    "collapsed": false
   }
  },
  {
   "cell_type": "code",
   "execution_count": 25,
   "outputs": [
    {
     "name": "stdout",
     "output_type": "stream",
     "text": [
      "dict_keys(['cat', 'dog', 'fish'])\n"
     ]
    }
   ],
   "source": [
    "d = {'cat':'Katze', 'dog':'Hund', 'fish':'Fisch'}\n",
    "\n",
    "print(d.keys())\n",
    "\n",
    "# Antwort: Gibt alle keys des Dicts aus."
   ],
   "metadata": {
    "collapsed": false
   }
  },
  {
   "cell_type": "markdown",
   "source": [
    "2. Erstelle nun ein Dictionary namens mustermensch mit folgenden Werten: Name, Max Mustermann, Telefon, 030 555555, Mail, max-m@musterstadtwerke.de. Was hast du als Keys und was als values gewählt? Warum? Kommentiere. Hole dir über die Keys den Namen und die Telefonnummer der Person. Die Print Statements sollten so aussehen:\n",
    "Name: Max Mustermann\n",
    "Tel.: 030 555555"
   ],
   "metadata": {
    "collapsed": false
   }
  },
  {
   "cell_type": "code",
   "execution_count": 30,
   "outputs": [],
   "source": [
    "mustermensch = {\"Name\":\"Max Mustermann\", \"Telefon\":\"030 555555\", \"Mail\":\"max-m@musterstadtwerke.de\"}\n",
    "# Allgemeine Begriffe als Keys, konkrete (zu suchende) Informationen in Values."
   ],
   "metadata": {
    "collapsed": false
   }
  },
  {
   "cell_type": "code",
   "execution_count": 36,
   "outputs": [
    {
     "name": "stdout",
     "output_type": "stream",
     "text": [
      "Name: Max Mustermann\n",
      "Tel.: 030 555555\n"
     ]
    }
   ],
   "source": [
    "print(\"Name:\", mustermensch[\"Name\"])\n",
    "print(\"Tel.:\", mustermensch[\"Telefon\"])"
   ],
   "metadata": {
    "collapsed": false
   }
  },
  {
   "cell_type": "markdown",
   "source": [
    "3. Erzeuge  ein Dictionary aus zwei listen Name und Alter! \"name\" und \"alter\" sind die Keys des Dictionary\n",
    "name = [\"Alex\",\"Ali\",\"Sarah\"]\n",
    "alter = [\"40\",\"26\",\"35\"]"
   ],
   "metadata": {
    "collapsed": false
   }
  },
  {
   "cell_type": "code",
   "execution_count": 37,
   "outputs": [],
   "source": [
    "my_dic = {\n",
    "    \"name\": [\"Alex\",\"Ali\",\"Sarah\"],\n",
    "    \"alter\": [\"40\",\"26\",\"35\"]\n",
    "}"
   ],
   "metadata": {
    "collapsed": false
   }
  },
  {
   "cell_type": "code",
   "execution_count": 38,
   "outputs": [
    {
     "data": {
      "text/plain": "{'name': ['Alex', 'Ali', 'Sarah'], 'alter': ['40', '26', '35']}"
     },
     "execution_count": 38,
     "metadata": {},
     "output_type": "execute_result"
    }
   ],
   "source": [
    "my_dic"
   ],
   "metadata": {
    "collapsed": false
   }
  },
  {
   "cell_type": "markdown",
   "source": [
    "4. Optional: Erinnerst du dich noch an die Wortmeldungen von oben? Mach ein Dictionary namens \"wortmeldungen\", das die Wortmeldungen zählt! Noch optionaler: Informiere dich dafür über Counter aus dem Modul Collections und löse die Aufgabe damit."
   ],
   "metadata": {
    "collapsed": false
   }
  },
  {
   "cell_type": "code",
   "execution_count": 39,
   "outputs": [],
   "source": [
    "meldungen = [\"Huyn\", \"Sarah\", \"Bernd\", \"Stefan\", \"Brigitte\", \"Kacper\", \"Brigitte\", \"Ingo\", \"Kacper\", \"Viktor\", \"Carolina\", \"Stefan\", \"Klaus\", \"Brigitte\", \"Carolina\", \"Bernd\", \"Huyn\", \"Tobias\", \"Constantin\", \"Huyn\", \"Carolina\"]"
   ],
   "metadata": {
    "collapsed": false
   }
  },
  {
   "cell_type": "code",
   "execution_count": 42,
   "outputs": [],
   "source": [
    "from collections import Counter"
   ],
   "metadata": {
    "collapsed": false
   }
  },
  {
   "cell_type": "code",
   "execution_count": 46,
   "outputs": [],
   "source": [
    "wortmeldungen = Counter(meldungen)"
   ],
   "metadata": {
    "collapsed": false
   }
  },
  {
   "cell_type": "code",
   "execution_count": 47,
   "outputs": [
    {
     "data": {
      "text/plain": "Counter({'Huyn': 3,\n         'Sarah': 1,\n         'Bernd': 2,\n         'Stefan': 2,\n         'Brigitte': 3,\n         'Kacper': 2,\n         'Ingo': 1,\n         'Viktor': 1,\n         'Carolina': 3,\n         'Klaus': 1,\n         'Tobias': 1,\n         'Constantin': 1})"
     },
     "execution_count": 47,
     "metadata": {},
     "output_type": "execute_result"
    }
   ],
   "source": [
    "wortmeldungen"
   ],
   "metadata": {
    "collapsed": false
   }
  },
  {
   "cell_type": "markdown",
   "source": [
    "5. Super optional (selbständige, weiterführende Aufgabe!): Du erhältst viele Listen mit Wortmeldungen für die letzten Monate. Du möchtest die Auswertung automatisieren und zwar würdest du gerne sowohl einen Dictionary mit der Anzahl der Meldungen pro Teilnehmer erhalten und eine Liste mit den Teilnehmern, die sich nicht gemeldet haben. Mit welcher Logik würdest du das lösen? Kannst du dir eine entsprechende Schleife vorstellen?"
   ],
   "metadata": {
    "collapsed": false
   }
  },
  {
   "cell_type": "code",
   "execution_count": 48,
   "outputs": [],
   "source": [
    "# Bitte improvisierend und eher minimalistisch Teilnehmer unterstützen, sofern diese die Aufgabe angehen. Unser Hauptakzent sollte auf denen liegen, die mit den regulären Aufgaben nicht zurechtkommen/ Fragen dazu haben."
   ],
   "metadata": {
    "collapsed": false
   }
  }
 ],
 "metadata": {
  "kernelspec": {
   "display_name": "Python 3",
   "language": "python",
   "name": "python3"
  },
  "language_info": {
   "codemirror_mode": {
    "name": "ipython",
    "version": 2
   },
   "file_extension": ".py",
   "mimetype": "text/x-python",
   "name": "python",
   "nbconvert_exporter": "python",
   "pygments_lexer": "ipython2",
   "version": "2.7.6"
  }
 },
 "nbformat": 4,
 "nbformat_minor": 0
}
