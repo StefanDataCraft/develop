{
 "cells": [
  {
   "cell_type": "markdown",
   "id": "476ed996",
   "metadata": {},
   "source": [
    "# Tagesaufgaben 13.03.2023 - Listen"
   ]
  },
  {
   "attachments": {},
   "cell_type": "markdown",
   "id": "c0b4e797",
   "metadata": {
    "id": "c0b4e797"
   },
   "source": [
    "### Aufgabe 1"
   ]
  },
  {
   "cell_type": "markdown",
   "id": "1883f4b4",
   "metadata": {
    "id": "1883f4b4"
   },
   "source": [
    "Listen sind Datenstrukturen mit geordneten Daten. Listen in Python sind ähnlich zu Listen die du auf einem Blatt Papier aufschreibst (z.B. eine Einkausliste). Listen in Python werden bei ihrer Erstellung durch eckige Klammern [] erzeugt."
   ]
  },
  {
   "cell_type": "markdown",
   "id": "f10804c8",
   "metadata": {
    "id": "f10804c8"
   },
   "source": [
    " <div  class=\"alert alert-block alert-info\">\n",
    "1. Erstelle eine Liste, die deine drei Lieblingsfilme (oder Musiker, Reiseländer, Bücher) enthält.\n",
    "Wähle einen sinnvollen Namen für deine Liste!\n",
    "    Lass dir die Liste anschließend ausgeben."
   ]
  },
  {
   "cell_type": "code",
   "execution_count": null,
   "id": "fa644962",
   "metadata": {
    "id": "fa644962",
    "scrolled": true
   },
   "outputs": [],
   "source": []
  },
  {
   "cell_type": "code",
   "execution_count": null,
   "id": "fad8166f",
   "metadata": {},
   "outputs": [],
   "source": []
  },
  {
   "cell_type": "markdown",
   "id": "bc7a304b",
   "metadata": {
    "id": "bc7a304b"
   },
   "source": [
    " <div  class=\"alert alert-block alert-info\">\n",
    "2. Füge deiner Liste nun einen weiteren Eintrag hinzu und gib die Liste in einer weiteren Zelle wieder aus. Hinweis: append()"
   ]
  },
  {
   "cell_type": "code",
   "execution_count": null,
   "id": "aa214798",
   "metadata": {
    "id": "aa214798"
   },
   "outputs": [],
   "source": []
  },
  {
   "cell_type": "markdown",
   "id": "cfd33ff5",
   "metadata": {
    "id": "cfd33ff5"
   },
   "source": [
    " <div  class=\"alert alert-block alert-info\">\n",
    "3. Lösche den zweiten Eintrag aus deiner Liste. Hinweis: del()"
   ]
  },
  {
   "cell_type": "code",
   "execution_count": null,
   "id": "51bd2c28",
   "metadata": {
    "id": "51bd2c28"
   },
   "outputs": [],
   "source": []
  },
  {
   "cell_type": "markdown",
   "id": "01808612",
   "metadata": {
    "id": "01808612"
   },
   "source": [
    " <div  class=\"alert alert-block alert-info\">\n",
    "4. Füge an erster Stelle ein weiteres Element in deine Liste ein. Hinweis: insert()"
   ]
  },
  {
   "cell_type": "code",
   "execution_count": null,
   "id": "f3ac4be9",
   "metadata": {
    "id": "f3ac4be9"
   },
   "outputs": [],
   "source": []
  },
  {
   "cell_type": "markdown",
   "id": "2d38e598",
   "metadata": {
    "id": "2d38e598"
   },
   "source": [
    " <div  class=\"alert alert-block alert-info\">\n",
    "5. Drehe deine Liste um. Hinweis: reverse()"
   ]
  },
  {
   "cell_type": "code",
   "execution_count": null,
   "id": "e45ab5cb",
   "metadata": {
    "id": "e45ab5cb"
   },
   "outputs": [],
   "source": []
  },
  {
   "cell_type": "markdown",
   "id": "39ba90f4",
   "metadata": {
    "id": "39ba90f4"
   },
   "source": [
    " <div  class=\"alert alert-block alert-info\">\n",
    "6. Sortiere deine Liste alphabetisch. Hinweis: sort()"
   ]
  },
  {
   "cell_type": "code",
   "execution_count": null,
   "id": "4a7aea33",
   "metadata": {
    "id": "4a7aea33"
   },
   "outputs": [],
   "source": []
  },
  {
   "attachments": {},
   "cell_type": "markdown",
   "id": "117aa15e",
   "metadata": {
    "id": "117aa15e"
   },
   "source": [
    "### Aufgabe 2 - Optional"
   ]
  },
  {
   "cell_type": "markdown",
   "id": "7360c320",
   "metadata": {
    "id": "7360c320"
   },
   "source": [
    " <div  class=\"alert alert-block alert-info\">\n",
    "Gegeben ist folgende Liste mit Namen. Der Name \"Weihnachtsmann\" wurde fälschlicherweise eingetragen und soll nun entfernt werden. Lösche ihn aus der Liste und lass dir anschließend die Liste alphabetisch sortiert anzeigen. Einschränkung: Zähle nicht selbst nach, an welcher Stelle sich der Name befindet, sondern lass Python das machen!"
   ]
  },
  {
   "cell_type": "code",
   "execution_count": null,
   "id": "ef68abbd",
   "metadata": {
    "id": "ef68abbd"
   },
   "outputs": [],
   "source": [
    "namen = [\"Hans\", \"Tom\", \"Miriam\", \"Jochen\", \"Elrike\", \"Hannah\", \"Mareen\", \"Steffi\", \"Peter\", \"Weihnachtsmann\", \"Dirk\", \"Pascal\", \"Markus\", \"Boris\"]"
   ]
  }
 ],
 "metadata": {
  "colab": {
   "provenance": []
  },
  "kernelspec": {
   "display_name": "base",
   "language": "python",
   "name": "python3"
  },
  "language_info": {
   "codemirror_mode": {
    "name": "ipython",
    "version": 3
   },
   "file_extension": ".py",
   "mimetype": "text/x-python",
   "name": "python",
   "nbconvert_exporter": "python",
   "pygments_lexer": "ipython3",
   "version": "3.10.8 | packaged by conda-forge | (main, Nov 24 2022, 14:07:00) [MSC v.1916 64 bit (AMD64)]"
  },
  "vscode": {
   "interpreter": {
    "hash": "67bfac4f4aefe1c16f1836a62d55b6e6baa7aba1ac5ce70e93ee8e90eb4f073a"
   }
  }
 },
 "nbformat": 4,
 "nbformat_minor": 5
}
