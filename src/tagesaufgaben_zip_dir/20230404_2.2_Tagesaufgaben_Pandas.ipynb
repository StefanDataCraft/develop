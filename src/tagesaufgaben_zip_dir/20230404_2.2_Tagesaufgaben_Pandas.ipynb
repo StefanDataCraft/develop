{
 "cells": [
  {
   "cell_type": "markdown",
   "metadata": {},
   "source": [
    "<br><br><center><h1 style=\"font-size:2em;color:#2467C0\">Tagesaufgaben 04.04.2023</h1></center>\n",
    "<br>\n"
   ]
  },
  {
   "cell_type": "markdown",
   "metadata": {},
   "source": [
    "# Pandas"
   ]
  },
  {
   "cell_type": "markdown",
   "metadata": {},
   "source": [
    "## Aufgabe 1 - Serien"
   ]
  },
  {
   "cell_type": "markdown",
   "metadata": {},
   "source": [
    "<div  class=\"alert alert-block alert-info\">\n",
    "1. Erstelle eine Pandas-Series mit fünf Zahlen und lass sie dir anschließend ausgeben.\n",
    "\n",
    "    Output:\n",
    "    0     1\n",
    "    1     2\n",
    "    2    23\n",
    "    3     3\n",
    "    4     4\n",
    "    dtype: int64\n",
    "\n",
    "</div>"
   ]
  },
  {
   "cell_type": "code",
   "execution_count": null,
   "metadata": {},
   "outputs": [],
   "source": []
  },
  {
   "cell_type": "markdown",
   "metadata": {},
   "source": [
    "<div  class=\"alert alert-block alert-info\">\n",
    "2. Erstelle eine Pandas-Series mit fünf Einträgen. Der Index soll dieses Mal aus Strings bestehen.\n",
    "\n",
    "    Output:\n",
    "    Rot        13\n",
    "    Blau       24\n",
    "    Grün        1\n",
    "    Schwarz    90\n",
    "    Magenta     3\n",
    "    dtype: int64\n",
    "</div>"
   ]
  },
  {
   "cell_type": "code",
   "execution_count": null,
   "metadata": {},
   "outputs": [],
   "source": []
  },
  {
   "cell_type": "markdown",
   "source": [
    "<div  class=\"alert alert-block alert-info\">\n",
    "3. Greife per Index auf einen der Einträge aus der Series der vorherigen Aufgabe zu. Nutze dafür zum einen eine Zahl und zum anderen den entsprechenden String.\n",
    "</div>"
   ],
   "metadata": {
    "collapsed": false
   }
  },
  {
   "cell_type": "code",
   "execution_count": null,
   "metadata": {},
   "outputs": [],
   "source": []
  },
  {
   "cell_type": "markdown",
   "metadata": {},
   "source": [
    "<div  class=\"alert alert-block alert-info\">\n",
    "4. Gib der Series aus Aufgabe 2 nun einen Namen.\n",
    "\n",
    "    Output:\n",
    "    Rot        13\n",
    "    Blau       24\n",
    "    Grün        1\n",
    "    Schwarz    90\n",
    "    Magenta     3\n",
    "    Name: Farben, dtype: int64\n",
    "</div>"
   ]
  },
  {
   "cell_type": "code",
   "execution_count": null,
   "metadata": {},
   "outputs": [],
   "source": []
  },
  {
   "cell_type": "markdown",
   "metadata": {},
   "source": [
    "<div  class=\"alert alert-block alert-info\">\n",
    "5. Erstelle ein Dictionary mit vier Einträgen und wandel es anschließend in eine Pandas-Series um.\n",
    "\n",
    "</div>"
   ]
  },
  {
   "cell_type": "code",
   "execution_count": null,
   "metadata": {},
   "outputs": [],
   "source": []
  },
  {
   "cell_type": "markdown",
   "source": [
    "<div  class=\"alert alert-block alert-info\">\n",
    "6. Du hast die beiden Listen einnahmen und ausgaben vorliegen. Wandle sie in Series um, ziehe ausgaben von einnahmen ab und nenne die Series gewinn. Lass dir gewinn ausgeben. Summiere außerdem alle Werte aus gewinn und lass dir auch das ausgeben.\n",
    "\n",
    "</div>"
   ],
   "metadata": {
    "collapsed": false
   }
  },
  {
   "cell_type": "code",
   "execution_count": null,
   "outputs": [],
   "source": [
    "einnahmen = [4700, 5300, 3500, 1900, 5600, 7200, 3200, 5800]\n",
    "ausgaben = [3500, 2000, 4500, 950,4200, 3800, 2700, 6000]"
   ],
   "metadata": {
    "collapsed": false
   }
  },
  {
   "cell_type": "code",
   "execution_count": null,
   "outputs": [],
   "source": [],
   "metadata": {
    "collapsed": false
   }
  },
  {
   "cell_type": "markdown",
   "metadata": {},
   "source": [
    "## Aufgabe 2 - DataFrames"
   ]
  },
  {
   "cell_type": "markdown",
   "metadata": {},
   "source": [
    "<div  class=\"alert alert-block alert-info\">\n",
    "1. Erstelle einen DataFrame mit vier Ländern und deren Einwohnerzahlen.\n",
    "\n",
    "    Output:\n",
    "                 Land   Einwohner\n",
    "       0      Belgien   11600000\n",
    "       1  Niederlande   17600000\n",
    "       2     Portugal   10400000\n",
    "       3       Türkei   84700000\n",
    "\n",
    "\n",
    "</div>"
   ]
  },
  {
   "cell_type": "code",
   "execution_count": null,
   "metadata": {},
   "outputs": [],
   "source": []
  },
  {
   "cell_type": "markdown",
   "source": [
    "<div  class=\"alert alert-block alert-info\">\n",
    "2. Ändere den Index des DataFrames aus Aufgabe 2.1 auf L1, L2, L3 und L4. Optional: Finde einen Weg, wie du den Index ändern kannst, ohne den gesamten DataFrame neu zu\n",
    " definieren.\n",
    "\n",
    "</div>"
   ],
   "metadata": {
    "collapsed": false
   }
  },
  {
   "cell_type": "code",
   "execution_count": null,
   "metadata": {},
   "outputs": [],
   "source": []
  },
  {
   "cell_type": "code",
   "execution_count": null,
   "metadata": {},
   "outputs": [],
   "source": []
  },
  {
   "cell_type": "markdown",
   "metadata": {},
   "source": [
    "<div  class=\"alert alert-block alert-info\">\n",
    "3. Erstelle einen DataFrame mit vier Ländern, deren Einwohnerzahl, der Hauptstadt und der ersten Amtssprache. Verwende hierzu wieder ein Dictionary. Als Index soll wieder L1, L2, usw. stehen.\n",
    "\n",
    "    Output:\n",
    "               Land  Einwohner Hauptstadt     Amtssprache\n",
    "    L1      Belgien   11600000    Brüssel  Niederländisch\n",
    "    L2  Niederlande   17600000  Amsterdam  Niederländisch\n",
    "    L3     Portugal   10400000   lissabon   Portugiesisch\n",
    "    L4       Türkei   84700000     Ankara        Türkisch\n",
    "\n",
    "</div>"
   ]
  },
  {
   "cell_type": "code",
   "execution_count": null,
   "metadata": {},
   "outputs": [],
   "source": []
  },
  {
   "cell_type": "markdown",
   "metadata": {},
   "source": [
    "<div  class=\"alert alert-block alert-info\">\n",
    "4. Erstelle den gleichen DataFrame wie in der vorherigen Aufgabe, aber verwende dieses Mal kein Dictionary. Schreibe nun die einzelnen Spalten der Tabelle (Land, Einwohner, Hauptstadt, Amtssprache) zuerst als Pandas-Series und füge am Ende alle Series zu einem DataFrame zusammen.\n",
    "\n",
    "    Output:\n",
    "               Land  Einwohner Hauptstadt     Amtssprache\n",
    "    L1      Belgien   11600000    Brüssel  Niederländisch\n",
    "    L2  Niederlande   17600000  Amsterdam  Niederländisch\n",
    "    L3     Portugal   10400000   lissabon   Portugiesisch\n",
    "    L4       Türkei   84700000     Ankara        Türkisch\n",
    "\n",
    "</div>"
   ]
  },
  {
   "cell_type": "code",
   "execution_count": null,
   "metadata": {},
   "outputs": [],
   "source": []
  },
  {
   "cell_type": "markdown",
   "metadata": {},
   "source": [
    "<div  class=\"alert alert-block alert-info\">\n",
    "5. Lass dir alle Indices und alle Columns aus dem DataFrame aus der vorherigen Aufgabe ausgeben.\n",
    "\n",
    "    Output:\n",
    "    Index(['L1', 'L2', 'L3', 'L4'], dtype='object')\n",
    "    Index(['Land', 'Einwohner', 'Hauptstadt', 'Amtssprache'], dtype='object')\n",
    "</div>"
   ]
  },
  {
   "cell_type": "code",
   "execution_count": null,
   "metadata": {},
   "outputs": [],
   "source": []
  },
  {
   "cell_type": "markdown",
   "metadata": {},
   "source": [
    "<div  class=\"alert alert-block alert-info\">\n",
    "6. Lass dir alle Infos für dein drittes Land ausgeben.\n",
    "\n",
    "    Output:\n",
    "    Land                Portugal\n",
    "    Einwohner           10400000\n",
    "    Hauptstadt          lissabon\n",
    "    Amtssprache    Portugiesisch\n",
    "    Name: L3, dtype: object\n",
    "</div>"
   ]
  },
  {
   "cell_type": "code",
   "execution_count": null,
   "metadata": {},
   "outputs": [],
   "source": []
  }
 ],
 "metadata": {
  "kernelspec": {
   "display_name": "Python 3 (ipykernel)",
   "language": "python",
   "name": "python3"
  },
  "language_info": {
   "codemirror_mode": {
    "name": "ipython",
    "version": 3
   },
   "file_extension": ".py",
   "mimetype": "text/x-python",
   "name": "python",
   "nbconvert_exporter": "python",
   "pygments_lexer": "ipython3",
   "version": "3.9.13"
  }
 },
 "nbformat": 4,
 "nbformat_minor": 1
}
