{
 "cells": [
  {
   "cell_type": "markdown",
   "metadata": {},
   "source": [
    "<br><br><center><h1 style=\"font-size:2em;color:#2467C0\">Tagesaufgaben 04.04.2023</h1></center>\n",
    "<br>\n"
   ]
  },
  {
   "cell_type": "markdown",
   "metadata": {},
   "source": [
    "# Pandas"
   ]
  },
  {
   "cell_type": "markdown",
   "metadata": {},
   "source": [
    "## Aufgabe 1 - Serien"
   ]
  },
  {
   "cell_type": "markdown",
   "metadata": {},
   "source": [
    "<div  class=\"alert alert-block alert-info\">\n",
    "1. Erstelle eine Pandas-Series mit fünf Zahlen und lass sie dir anschließend ausgeben.\n",
    "\n",
    "    Output:\n",
    "    0     1\n",
    "    1     2\n",
    "    2    23\n",
    "    3     3\n",
    "    4     4\n",
    "    dtype: int64\n",
    "\n",
    "</div>"
   ]
  },
  {
   "cell_type": "code",
   "execution_count": 1,
   "outputs": [],
   "source": [
    "import pandas as pd"
   ],
   "metadata": {
    "collapsed": false
   }
  },
  {
   "cell_type": "code",
   "execution_count": 2,
   "metadata": {},
   "outputs": [
    {
     "data": {
      "text/plain": "0     1\n1     2\n2    23\n3     3\n4     4\ndtype: int64"
     },
     "execution_count": 2,
     "metadata": {},
     "output_type": "execute_result"
    }
   ],
   "source": [
    "meine_series = pd.Series([1,2,23,3,4])\n",
    "meine_series"
   ]
  },
  {
   "cell_type": "markdown",
   "metadata": {},
   "source": [
    "<div  class=\"alert alert-block alert-info\">\n",
    "2. Erstelle eine Pandas-Series mit fünf Einträgen. Der Index soll dieses Mal aus Strings bestehen.\n",
    "\n",
    "    Output:\n",
    "    Rot        13\n",
    "    Blau       24\n",
    "    Grün        1\n",
    "    Schwarz    90\n",
    "    Magenta     3\n",
    "    dtype: int64\n",
    "</div>"
   ]
  },
  {
   "cell_type": "code",
   "execution_count": 3,
   "metadata": {},
   "outputs": [
    {
     "data": {
      "text/plain": "Rot        13\nBlau       24\nGrün        1\nSchwarz    90\nMagenta     3\ndtype: int64"
     },
     "execution_count": 3,
     "metadata": {},
     "output_type": "execute_result"
    }
   ],
   "source": [
    "zweite_series = pd.Series([13,24,1,90,3],index=[\"Rot\", \"Blau\", \"Grün\", \"Schwarz\", \"Magenta\"])\n",
    "zweite_series"
   ]
  },
  {
   "cell_type": "markdown",
   "metadata": {},
   "source": [
    "<div  class=\"alert alert-block alert-info\">\n",
    "3. Greife per Index auf einen der Einträge aus der Series der vorherigen Aufgabe zu. Nutze dafür zum einen eine Zahl und zum anderen den entsprechenden String.\n",
    "</div>"
   ]
  },
  {
   "cell_type": "code",
   "execution_count": 4,
   "metadata": {},
   "outputs": [
    {
     "data": {
      "text/plain": "1"
     },
     "execution_count": 4,
     "metadata": {},
     "output_type": "execute_result"
    }
   ],
   "source": [
    "zweite_series[\"Grün\"]"
   ]
  },
  {
   "cell_type": "code",
   "execution_count": 5,
   "outputs": [
    {
     "data": {
      "text/plain": "1"
     },
     "execution_count": 5,
     "metadata": {},
     "output_type": "execute_result"
    }
   ],
   "source": [
    "zweite_series.loc[\"Grün\"]"
   ],
   "metadata": {
    "collapsed": false
   }
  },
  {
   "cell_type": "code",
   "execution_count": 6,
   "outputs": [
    {
     "data": {
      "text/plain": "1"
     },
     "execution_count": 6,
     "metadata": {},
     "output_type": "execute_result"
    }
   ],
   "source": [
    "zweite_series.iloc[2]"
   ],
   "metadata": {
    "collapsed": false
   }
  },
  {
   "cell_type": "markdown",
   "metadata": {},
   "source": [
    "<div  class=\"alert alert-block alert-info\">\n",
    "4. Gib der Series aus Aufgabe 2 nun einen Namen.\n",
    "\n",
    "    Output:\n",
    "    Rot        13\n",
    "    Blau       24\n",
    "    Grün        1\n",
    "    Schwarz    90\n",
    "    Magenta     3\n",
    "    Name: Farben, dtype: int64\n",
    "</div>"
   ]
  },
  {
   "cell_type": "code",
   "execution_count": 8,
   "metadata": {},
   "outputs": [],
   "source": [
    "zweite_series.name = \"Farben\""
   ]
  },
  {
   "cell_type": "code",
   "execution_count": 10,
   "outputs": [
    {
     "name": "stdout",
     "output_type": "stream",
     "text": [
      "Rot        13\n",
      "Blau       24\n",
      "Grün        1\n",
      "Schwarz    90\n",
      "Magenta     3\n",
      "Name: Farben, dtype: int64\n"
     ]
    }
   ],
   "source": [
    "print(zweite_series)"
   ],
   "metadata": {
    "collapsed": false
   }
  },
  {
   "cell_type": "markdown",
   "metadata": {},
   "source": [
    "<div  class=\"alert alert-block alert-info\">\n",
    "5. Erstelle ein Dictionary mit vier Einträgen und wandel es anschließend in eine Pandas-Series um.\n",
    "\n",
    "</div>"
   ]
  },
  {
   "cell_type": "code",
   "execution_count": 11,
   "metadata": {},
   "outputs": [
    {
     "data": {
      "text/plain": "Name          Max\nAlter          37\nGröße         179\nGeschlecht      m\ndtype: object"
     },
     "execution_count": 11,
     "metadata": {},
     "output_type": "execute_result"
    }
   ],
   "source": [
    "my_dict = {\"Name\": \"Max\", \"Alter\": 37, \"Größe\": 179, \"Geschlecht\": \"m\"}\n",
    "person_series = pd.Series(my_dict)\n",
    "person_series"
   ]
  },
  {
   "cell_type": "markdown",
   "metadata": {},
   "source": [
    "<div  class=\"alert alert-block alert-info\">\n",
    "6. Erstelle eine Pandas-Series, mit fünf Einträgen und ähnlichen Indizes wie in Aufgabe 5. Mindestens ein Index soll identisch sein zu denen aus Aufgabe 5. Füge anschließend beide Serien zusammen und lass dir die neue Liste ausgeben. In der neuen Serie sollen keine NaN vorkommen.\n",
    "\n",
    "</div>"
   ]
  },
  {
   "cell_type": "code",
   "execution_count": null,
   "metadata": {},
   "outputs": [],
   "source": []
  },
  {
   "cell_type": "markdown",
   "metadata": {},
   "source": [
    "## Aufgabe 2 - DataFrames"
   ]
  },
  {
   "cell_type": "markdown",
   "metadata": {},
   "source": [
    "<div  class=\"alert alert-block alert-info\">\n",
    "1. Erstelle einen DataFrame mit vier Ländern und deren Einwohnerzahlen.\n",
    "\n",
    "    Output:\n",
    "                 Land   Einwohner\n",
    "       0      Belgien   11600000\n",
    "       1  Niederlande   17600000\n",
    "       2     Portugal   10400000\n",
    "       3       Türkei   84700000\n",
    "\n",
    "\n",
    "</div>"
   ]
  },
  {
   "cell_type": "code",
   "execution_count": 17,
   "metadata": {},
   "outputs": [
    {
     "data": {
      "text/plain": "          Land  Einwohner\n0      Belgien   11600000\n1  Niederlande   17600000\n2     Portugal   10400000\n3       Türkei   84700000",
      "text/html": "<div>\n<style scoped>\n    .dataframe tbody tr th:only-of-type {\n        vertical-align: middle;\n    }\n\n    .dataframe tbody tr th {\n        vertical-align: top;\n    }\n\n    .dataframe thead th {\n        text-align: right;\n    }\n</style>\n<table border=\"1\" class=\"dataframe\">\n  <thead>\n    <tr style=\"text-align: right;\">\n      <th></th>\n      <th>Land</th>\n      <th>Einwohner</th>\n    </tr>\n  </thead>\n  <tbody>\n    <tr>\n      <th>0</th>\n      <td>Belgien</td>\n      <td>11600000</td>\n    </tr>\n    <tr>\n      <th>1</th>\n      <td>Niederlande</td>\n      <td>17600000</td>\n    </tr>\n    <tr>\n      <th>2</th>\n      <td>Portugal</td>\n      <td>10400000</td>\n    </tr>\n    <tr>\n      <th>3</th>\n      <td>Türkei</td>\n      <td>84700000</td>\n    </tr>\n  </tbody>\n</table>\n</div>"
     },
     "execution_count": 17,
     "metadata": {},
     "output_type": "execute_result"
    }
   ],
   "source": [
    "laender = pd.DataFrame({\n",
    "    \"Land\":[\"Belgien\", \"Niederlande\", \"Portugal\", \"Türkei\"],\n",
    "    \"Einwohner\": [11600000, 17600000, 10400000, 84700000]\n",
    "})\n",
    "laender"
   ]
  },
  {
   "cell_type": "markdown",
   "metadata": {},
   "source": [
    "<div  class=\"alert alert-block alert-info\">\n",
    "2. Ändere den Index des DataFrames aus Aufgabe 2.1 auf L1, L2, L3 und L4. Optional: Finde einen Weg, wie du den Index ändern kannst, ohne den gesamten DataFrame neuzudefinieren.\n",
    "\n",
    "</div>"
   ]
  },
  {
   "cell_type": "code",
   "execution_count": 21,
   "metadata": {},
   "outputs": [],
   "source": [
    "laender.set_index(\"Land\", inplace=True)"
   ]
  },
  {
   "cell_type": "code",
   "execution_count": 22,
   "metadata": {},
   "outputs": [
    {
     "data": {
      "text/plain": "             Einwohner\nLand                  \nBelgien       11600000\nNiederlande   17600000\nPortugal      10400000\nTürkei        84700000",
      "text/html": "<div>\n<style scoped>\n    .dataframe tbody tr th:only-of-type {\n        vertical-align: middle;\n    }\n\n    .dataframe tbody tr th {\n        vertical-align: top;\n    }\n\n    .dataframe thead th {\n        text-align: right;\n    }\n</style>\n<table border=\"1\" class=\"dataframe\">\n  <thead>\n    <tr style=\"text-align: right;\">\n      <th></th>\n      <th>Einwohner</th>\n    </tr>\n    <tr>\n      <th>Land</th>\n      <th></th>\n    </tr>\n  </thead>\n  <tbody>\n    <tr>\n      <th>Belgien</th>\n      <td>11600000</td>\n    </tr>\n    <tr>\n      <th>Niederlande</th>\n      <td>17600000</td>\n    </tr>\n    <tr>\n      <th>Portugal</th>\n      <td>10400000</td>\n    </tr>\n    <tr>\n      <th>Türkei</th>\n      <td>84700000</td>\n    </tr>\n  </tbody>\n</table>\n</div>"
     },
     "execution_count": 22,
     "metadata": {},
     "output_type": "execute_result"
    }
   ],
   "source": [
    "laender"
   ]
  },
  {
   "cell_type": "markdown",
   "metadata": {},
   "source": [
    "<div  class=\"alert alert-block alert-info\">\n",
    "3. Erstelle einen DataFrame mit vier Ländern, deren Einwohnerzahl, der Hauptstadt und der ersten Amtssprache. Verwende hierzu wieder ein Dictionary. Als Index soll wieder L1, L2, usw. stehen.\n",
    "\n",
    "    Output:\n",
    "               Land  Einwohner Hauptstadt     Amtssprache\n",
    "    L1      Belgien   11600000    Brüssel  Niederländisch\n",
    "    L2  Niederlande   17600000  Amsterdam  Niederländisch\n",
    "    L3     Portugal   10400000   lissabon   Portugiesisch\n",
    "    L4       Türkei   84700000     Ankara        Türkisch\n",
    "\n",
    "</div>"
   ]
  },
  {
   "cell_type": "code",
   "execution_count": null,
   "metadata": {},
   "outputs": [],
   "source": []
  },
  {
   "cell_type": "markdown",
   "metadata": {},
   "source": [
    "<div  class=\"alert alert-block alert-info\">\n",
    "4. Erstelle den gleichen DataFrame wie in der vorherigen Aufgabe, aber verwende dieses Mal kein Dictionary. Schreibe nun die einzelnen Spalten der Tabelle (Land, Einwohner, Hauptstadt, Amtssprache) zuerst als Pandas-Series und füge am Ende alle Series zu einem DataFrame zusammen.\n",
    "\n",
    "    Output:\n",
    "               Land  Einwohner Hauptstadt     Amtssprache\n",
    "    L1      Belgien   11600000    Brüssel  Niederländisch\n",
    "    L2  Niederlande   17600000  Amsterdam  Niederländisch\n",
    "    L3     Portugal   10400000   lissabon   Portugiesisch\n",
    "    L4       Türkei   84700000     Ankara        Türkisch\n",
    "\n",
    "</div>"
   ]
  },
  {
   "cell_type": "code",
   "execution_count": null,
   "metadata": {},
   "outputs": [],
   "source": []
  },
  {
   "cell_type": "markdown",
   "metadata": {},
   "source": [
    "<div  class=\"alert alert-block alert-info\">\n",
    "5. Lass dir alle Indices und alle Columns aus dem DataFrame aus der vorherigen Aufgabe ausgeben.\n",
    "\n",
    "    Output:\n",
    "    Index(['L1', 'L2', 'L3', 'L4'], dtype='object')\n",
    "    Index(['Land', 'Einwohner', 'Hauptstadt', 'Amtssprache'], dtype='object')\n",
    "</div>"
   ]
  },
  {
   "cell_type": "code",
   "execution_count": null,
   "metadata": {},
   "outputs": [],
   "source": []
  },
  {
   "cell_type": "markdown",
   "metadata": {},
   "source": [
    "<div  class=\"alert alert-block alert-info\">\n",
    "6. Lass dir alle Infos für dein drittes Land ausgeben.\n",
    "\n",
    "    Output:\n",
    "    Land                Portugal\n",
    "    Einwohner           10400000\n",
    "    Hauptstadt          lissabon\n",
    "    Amtssprache    Portugiesisch\n",
    "    Name: L3, dtype: object\n",
    "</div>"
   ]
  },
  {
   "cell_type": "code",
   "execution_count": null,
   "metadata": {},
   "outputs": [],
   "source": []
  }
 ],
 "metadata": {
  "kernelspec": {
   "display_name": "Python 3 (ipykernel)",
   "language": "python",
   "name": "python3"
  },
  "language_info": {
   "codemirror_mode": {
    "name": "ipython",
    "version": 3
   },
   "file_extension": ".py",
   "mimetype": "text/x-python",
   "name": "python",
   "nbconvert_exporter": "python",
   "pygments_lexer": "ipython3",
   "version": "3.9.13"
  }
 },
 "nbformat": 4,
 "nbformat_minor": 1
}
