{
 "cells": [
  {
   "cell_type": "markdown",
   "source": [],
   "metadata": {
    "collapsed": false
   }
  },
  {
   "cell_type": "markdown",
   "source": [
    "<br><br><center><h1 style=\"font-size:2em;color:green\">Lernkontrolle 31.03.2023</h1></center>\n",
    "<br>\n",
    "<center>Die möglichen Punkte stehen bei der jeweiligen Aufgabe dabei</center>"
   ],
   "metadata": {
    "collapsed": false
   }
  },
  {
   "cell_type": "markdown",
   "source": [
    "<div  class=\"alert alert-block alert-info\">\n",
    "1. Im Folgenden findest du drei mögliche Wege, um eine Zahlenliste von 1 bis 1.000.000 zu erzeugen. Deine Aufgabe ist es, ihre Laufzeiten zu vergleichen und zum Schluss zu sagen, welche die schnellste und welche die langsamste Methode ist. (12 Punkte)\n",
    "<div\\>"
   ],
   "metadata": {
    "collapsed": false
   }
  },
  {
   "cell_type": "code",
   "execution_count": 33,
   "outputs": [
    {
     "name": "stdout",
     "output_type": "stream",
     "text": [
      "0.007591200002934784\n",
      "CPU times: total: 15.6 ms\n",
      "Wall time: 7.01 ms\n"
     ]
    }
   ],
   "source": [
    "%%time\n",
    "import time\n",
    "zahlenliste = []\n",
    "tic = time.perf_counter()\n",
    "for zahl in range(1,100001):\n",
    "    zahlenliste.append(zahl)\n",
    "toc = time.perf_counter()\n",
    "print(toc-tic)"
   ],
   "metadata": {
    "collapsed": false
   }
  },
  {
   "cell_type": "code",
   "execution_count": 34,
   "outputs": [
    {
     "name": "stdout",
     "output_type": "stream",
     "text": [
      "0.0034975999733433127\n",
      "CPU times: total: 15.6 ms\n",
      "Wall time: 3.99 ms\n"
     ]
    }
   ],
   "source": [
    "%%time\n",
    "tic = time.perf_counter()\n",
    "[zahl for zahl in range(1,100001)]\n",
    "toc = time.perf_counter()\n",
    "print(toc-tic)"
   ],
   "metadata": {
    "collapsed": false
   }
  },
  {
   "cell_type": "code",
   "execution_count": 35,
   "outputs": [
    {
     "name": "stdout",
     "output_type": "stream",
     "text": [
      "0.0020067000295966864\n",
      "CPU times: total: 0 ns\n",
      "Wall time: 1.99 ms\n"
     ]
    }
   ],
   "source": [
    "%%time\n",
    "tic = time.perf_counter()\n",
    "list(range(1,100001))\n",
    "toc = time.perf_counter()\n",
    "print(toc-tic)"
   ],
   "metadata": {
    "collapsed": false
   }
  },
  {
   "cell_type": "markdown",
   "source": [
    "<div  class=\"alert alert-block alert-info\">\n",
    "2. Schreibe eine try&except-Bedingung. In dem try soll Code stehen, mit dem ein Ordner auf deinem Desktop erzeugt wird (Verwende hierzu einen absoluten Pfad). In dem except soll eine Meldung stehen, dass der Ordner bereits existiert. Führe den Code zwei Mal aus! (6 Punkte)\n",
    "\n",
    "    Output:\n",
    "    print(\"Der Ordner existiert bereits!\")\n",
    "\n",
    "</div>"
   ],
   "metadata": {
    "collapsed": false
   }
  },
  {
   "cell_type": "code",
   "execution_count": 36,
   "outputs": [
    {
     "name": "stdout",
     "output_type": "stream",
     "text": [
      "Der Ordner existiert bereits!\n"
     ]
    }
   ],
   "source": [
    "import os\n",
    "\n",
    "try:\n",
    "    os.mkdir(r\"C:/Users/pasca/Desktop/Aufgabe7\")\n",
    "except:\n",
    "    print(\"Der Ordner existiert bereits!\")"
   ],
   "metadata": {
    "collapsed": false
   }
  },
  {
   "cell_type": "markdown",
   "source": [
    "<div  class=\"alert alert-block alert-info\">\n",
    "3. Schreibe eine try&except-Bedingung. In dem try soll Code stehen, mit dem ein Ordner auf deinem Desktop erzeugt wird (Verwende hierzu einen absoluten Pfad). Dieses Mal soll es aber zwei verschiedene except Bedingungen für folgende Fälle geben:\n",
    "\n",
    "   1. Wenn es den Ordner bereits gibt.\n",
    "   2. Wenn der eingegebene Pfad nicht stimmt.\n",
    "\n",
    "\n",
    "    Output:\n",
    "    print(\"Der Ordner existiert bereits!\")\n",
    "\n",
    "(6 Punkte)\n",
    "</div>"
   ],
   "metadata": {
    "collapsed": false
   }
  },
  {
   "cell_type": "code",
   "execution_count": 37,
   "outputs": [
    {
     "name": "stdout",
     "output_type": "stream",
     "text": [
      "Der angegebene Pfad existiert nicht!\n"
     ]
    }
   ],
   "source": [
    "try:\n",
    "    os.mkdir(r\"C:/Users/pasca/Desktop/Aufgabe8\")\n",
    "except FileExistsError:\n",
    "    print(\"Der Ordner existiert bereits!\")\n",
    "except FileNotFoundError:\n",
    "    print(\"Der angegebene Pfad existiert nicht!\")"
   ],
   "metadata": {
    "collapsed": false
   }
  },
  {
   "cell_type": "markdown",
   "source": [
    "<div  class=\"alert alert-block alert-info\">\n",
    "4. Du hast eine Liste mit IDs und eine mit Personen-Informationen, die in Tupeln verpackt sind. Füge die Liste mittels Zip zusammen und mache ein Dictionary namens personen_dict daraus. Lasse dir dann alle Infos zur Person mit der ID 4 ausgeben. Dein Output sollte so aussehen:\n",
    "\n",
    "    Output:\n",
    "    Name: Diana\n",
    "    Alter: 29\n",
    "    Adresse: Philosophenweg 7, Heidelberg\n",
    "(8 Punkte)\n",
    "</div>"
   ],
   "metadata": {
    "collapsed": false
   }
  },
  {
   "cell_type": "code",
   "execution_count": 38,
   "outputs": [],
   "source": [
    "ids = [1, 2, 3, 4, 5]\n",
    "personen_infos = [(\"Alice\", 23, \"Am Waldrand 12, Stendal\"), (\"Bob\", 35, \"Bahnhofstr. 12, Berlin\"), (\"Charlie\", 47, \"Kühnstraße 32, Hamburg\"), (\"Diana\", 29, \"Philosophenweg 7, Heidelberg\"), (\"Eve\", 19, \"Gellertstraße 15, Frankfurt am Main\")]"
   ],
   "metadata": {
    "collapsed": false
   }
  },
  {
   "cell_type": "code",
   "execution_count": 39,
   "outputs": [],
   "source": [
    "leute_dict = dict(zip(ids, personen_infos))"
   ],
   "metadata": {
    "collapsed": false
   }
  },
  {
   "cell_type": "code",
   "execution_count": 40,
   "outputs": [
    {
     "name": "stdout",
     "output_type": "stream",
     "text": [
      "Name: Diana\n",
      "Alter: 29\n",
      "Adresse: Philosophenweg 7, Heidelberg\n"
     ]
    }
   ],
   "source": [
    "print(\"Name: \" + leute_dict[4][0])\n",
    "print(\"Alter: \" + str(leute_dict[4][1]))\n",
    "print(\"Adresse: \" + leute_dict[4][2])"
   ],
   "metadata": {
    "collapsed": false
   }
  },
  {
   "cell_type": "markdown",
   "source": [
    "<div  class=\"alert alert-block alert-info\">\n",
    "5. Du hast eine Liste mit Beträgen in kanadischen Dollar vorliegen. Du möchtest diese in Euro umrechnen. Ein kanadischer Dollar entspricht dabei 0,68 Euro. Löse mit Mapping und einer Lambda-Funktion. Vergiss nicht auf zwei Nachkommastellen zu runden. Speichere das Ergebnis in ueberweisungen_euro und lass dir die Liste ausgeben. (5 Punkte)\n",
    "</div>"
   ],
   "metadata": {
    "collapsed": false
   }
  },
  {
   "cell_type": "code",
   "execution_count": 41,
   "outputs": [],
   "source": [
    "ueberweisungen = [1927, 2236, 5547, 3566, 7847, 2916, 7587, 7196, 4096, 6056, 4806, 7256, 7553, 7986, 2627, 1618, 3787, 8452, 918, 2399, 4138, 3047, 5675, 7197, 261, 1196, 2156, 2376, 9426, 1723, 7826]"
   ],
   "metadata": {
    "collapsed": false
   }
  },
  {
   "cell_type": "code",
   "execution_count": 42,
   "outputs": [
    {
     "name": "stdout",
     "output_type": "stream",
     "text": [
      "[1310.36, 1520.48, 3771.96, 2424.88, 5335.96, 1982.88, 5159.16, 4893.28, 2785.28, 4118.08, 3268.08, 4934.08, 5136.04, 5430.48, 1786.36, 1100.24, 2575.16, 5747.36, 624.24, 1631.32, 2813.84, 2071.96, 3859.0, 4893.96, 177.48, 813.28, 1466.08, 1615.68, 6409.68, 1171.64, 5321.68]\n"
     ]
    }
   ],
   "source": [
    "ueberweisungen_euro = list(map(lambda x: round(x*0.68,2), ueberweisungen))\n",
    "print(ueberweisungen_euro)"
   ],
   "metadata": {
    "collapsed": false
   }
  },
  {
   "cell_type": "markdown",
   "source": [
    "<div  class=\"alert alert-block alert-info\">\n",
    "6. Nun möchtest du wissen, wie viele Beträge ab 5000 Euro in deiner Liste vorkommen. Filtere deine Liste nach den Beträgen und speichere das Ergebnis in hohe_ueberweisungen. Lasse dir schließlich hohe_ueberweisungen ausgeben und zähle die Menge der Überweisungen mit einer Builtin-Funktion, die du schon länger kennst. (4 Punkte)\n",
    "</div>"
   ],
   "metadata": {
    "collapsed": false
   }
  },
  {
   "cell_type": "code",
   "execution_count": 43,
   "outputs": [
    {
     "data": {
      "text/plain": "[5335.96, 5159.16, 5136.04, 5430.48, 5747.36, 6409.68, 5321.68]"
     },
     "execution_count": 43,
     "metadata": {},
     "output_type": "execute_result"
    }
   ],
   "source": [
    "list(filter(lambda x: x >= 5000, ueberweisungen_euro))"
   ],
   "metadata": {
    "collapsed": false
   }
  },
  {
   "cell_type": "markdown",
   "source": [
    "<div  class=\"alert alert-block alert-info\">\n",
    "7. Erstelle ein zweidimensionales Numpy-Array und wandel es in ein eindimensionales um. (6 Punkte)\n",
    "</div>"
   ],
   "metadata": {
    "collapsed": false
   }
  },
  {
   "cell_type": "code",
   "execution_count": 1,
   "outputs": [
    {
     "name": "stdout",
     "output_type": "stream",
     "text": [
      "(2, 4)\n",
      "[23  1  3  5 34 90  7  4]\n"
     ]
    }
   ],
   "source": [
    "import numpy as np\n",
    "\n",
    "array1 = np.array([[23,1,3,5],[34,90,7,4]])\n",
    "print(array1.shape)\n",
    "array1 = array1.reshape(-1)\n",
    "print(array1)"
   ],
   "metadata": {
    "collapsed": false
   }
  },
  {
   "cell_type": "markdown",
   "source": [
    "<div  class=\"alert alert-block alert-info\">\n",
    "8. Lass dir die Dimension des Arrays ausgeben. (3 Punkte)\n",
    "</div>"
   ],
   "metadata": {
    "collapsed": false
   }
  },
  {
   "cell_type": "code",
   "execution_count": 45,
   "outputs": [
    {
     "name": "stdout",
     "output_type": "stream",
     "text": [
      "1\n"
     ]
    }
   ],
   "source": [
    "print(array1.ndim)"
   ],
   "metadata": {
    "collapsed": false
   }
  },
  {
   "cell_type": "markdown",
   "source": [
    "<div  class=\"alert alert-block alert-info\">\n",
    "9. Gegeben ist folgendes Numpy-Array. Füge dieses Array mit dem eindimensionalen Array aus Aufgabe 9 zusammen. Lass dir das Ergebnis ausgeben. (4 Punkte)\n",
    "</div>"
   ],
   "metadata": {
    "collapsed": false
   }
  },
  {
   "cell_type": "code",
   "execution_count": 46,
   "outputs": [
    {
     "name": "stdout",
     "output_type": "stream",
     "text": [
      "[23  1  3  5 34 90  7  4  2  1  4]\n"
     ]
    }
   ],
   "source": [
    "arrayx = np.array([2,1,4])\n",
    "\n",
    "print(np.concatenate((array1, arrayx)))"
   ],
   "metadata": {
    "collapsed": false
   }
  },
  {
   "cell_type": "markdown",
   "source": [
    "<div  class=\"alert alert-block alert-info\">\n",
    "10. Gegeben ist folgendes Array. Lass dir die Indices ausgeben, an denen sich die Zahl 23 befindet. (6 Punkte)\n",
    "\n",
    "    Output:\n",
    "    (array([0, 4, 6], dtype=int64),)\n",
    "</div>"
   ],
   "metadata": {
    "collapsed": false
   }
  },
  {
   "cell_type": "code",
   "execution_count": 47,
   "outputs": [
    {
     "data": {
      "text/plain": "(array([0, 4, 6], dtype=int64),)"
     },
     "execution_count": 47,
     "metadata": {},
     "output_type": "execute_result"
    }
   ],
   "source": [
    "arrayx2 = np.array([23,42,15,16,23,74,23])\n",
    "\n",
    "np.where(arrayx2 == 23)"
   ],
   "metadata": {
    "collapsed": false
   }
  }
 ],
 "metadata": {
  "kernelspec": {
   "display_name": "Python 3 (ipykernel)",
   "language": "python",
   "name": "python3"
  },
  "language_info": {
   "codemirror_mode": {
    "name": "ipython",
    "version": 3
   },
   "file_extension": ".py",
   "mimetype": "text/x-python",
   "name": "python",
   "nbconvert_exporter": "python",
   "pygments_lexer": "ipython3",
   "version": "3.9.13"
  }
 },
 "nbformat": 4,
 "nbformat_minor": 5
}
