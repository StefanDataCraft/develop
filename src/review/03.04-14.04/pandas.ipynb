{
 "cells": [
  {
   "cell_type": "code",
   "execution_count": 1,
   "outputs": [],
   "source": [
    "import pandas as pd\n",
    "import seaborn as sns"
   ],
   "metadata": {
    "collapsed": false
   }
  },
  {
   "cell_type": "code",
   "execution_count": 2,
   "metadata": {
    "collapsed": true
   },
   "outputs": [
    {
     "data": {
      "text/plain": "Berlin          Berlin\nMünchen        München\nHamburg        Hamburg\nKöln              Köln\nBielefeld    Bielefeld\ndtype: object"
     },
     "execution_count": 2,
     "metadata": {},
     "output_type": "execute_result"
    }
   ],
   "source": [
    "#Series\n",
    "s = [\"Berlin\",\"München\",\"Hamburg\",\"Köln\",\"Bielefeld\"]\n",
    "pd.Series(s, index = s, )"
   ]
  },
  {
   "cell_type": "code",
   "execution_count": 3,
   "outputs": [
    {
     "name": "stdout",
     "output_type": "stream",
     "text": [
      "  Farbenen  Zahlen\n",
      "0     grün       1\n",
      "1     blau       2\n",
      "2     gelb       3\n"
     ]
    }
   ],
   "source": [
    "#Dataframe\n",
    "d = {\"Farbenen\":[\"grün\",\"blau\",\"gelb\"],\"Zahlen\":[1,2,3]}\n",
    "df= pd.DataFrame(d)\n",
    "print(df)"
   ],
   "metadata": {
    "collapsed": false
   }
  },
  {
   "cell_type": "code",
   "execution_count": 4,
   "outputs": [
    {
     "name": "stdout",
     "output_type": "stream",
     "text": [
      "['anagrams', 'anscombe', 'attention', 'brain_networks', 'car_crashes', 'diamonds', 'dots', 'dowjones', 'exercise', 'flights', 'fmri', 'geyser', 'glue', 'healthexp', 'iris', 'mpg', 'penguins', 'planets', 'seaice', 'taxis', 'tips', 'titanic']\n",
      "     survived  pclass     sex   age  sibsp  parch     fare embarked   class   \n",
      "0           0       3    male  22.0      1      0   7.2500        S   Third  \\\n",
      "1           1       1  female  38.0      1      0  71.2833        C   First   \n",
      "2           1       3  female  26.0      0      0   7.9250        S   Third   \n",
      "3           1       1  female  35.0      1      0  53.1000        S   First   \n",
      "4           0       3    male  35.0      0      0   8.0500        S   Third   \n",
      "..        ...     ...     ...   ...    ...    ...      ...      ...     ...   \n",
      "886         0       2    male  27.0      0      0  13.0000        S  Second   \n",
      "887         1       1  female  19.0      0      0  30.0000        S   First   \n",
      "888         0       3  female   NaN      1      2  23.4500        S   Third   \n",
      "889         1       1    male  26.0      0      0  30.0000        C   First   \n",
      "890         0       3    male  32.0      0      0   7.7500        Q   Third   \n",
      "\n",
      "       who  adult_male deck  embark_town alive  alone  \n",
      "0      man        True  NaN  Southampton    no  False  \n",
      "1    woman       False    C    Cherbourg   yes  False  \n",
      "2    woman       False  NaN  Southampton   yes   True  \n",
      "3    woman       False    C  Southampton   yes  False  \n",
      "4      man        True  NaN  Southampton    no   True  \n",
      "..     ...         ...  ...          ...   ...    ...  \n",
      "886    man        True  NaN  Southampton    no   True  \n",
      "887  woman       False    B  Southampton   yes   True  \n",
      "888  woman       False  NaN  Southampton    no  False  \n",
      "889    man        True    C    Cherbourg   yes   True  \n",
      "890    man        True  NaN   Queenstown    no   True  \n",
      "\n",
      "[891 rows x 15 columns]\n"
     ]
    }
   ],
   "source": [
    "#Seaborn\n",
    "print(sns.get_dataset_names())\n",
    "titanic = sns.load_dataset('titanic')\n",
    "print(titanic)\n"
   ],
   "metadata": {
    "collapsed": false
   }
  },
  {
   "cell_type": "code",
   "execution_count": 5,
   "outputs": [
    {
     "name": "stdout",
     "output_type": "stream",
     "text": [
      "   survived  pclass     sex   age  sibsp  parch     fare embarked  class   \n",
      "0         0       3    male  22.0      1      0   7.2500        S  Third  \\\n",
      "1         1       1  female  38.0      1      0  71.2833        C  First   \n",
      "2         1       3  female  26.0      0      0   7.9250        S  Third   \n",
      "3         1       1  female  35.0      1      0  53.1000        S  First   \n",
      "4         0       3    male  35.0      0      0   8.0500        S  Third   \n",
      "\n",
      "     who  adult_male deck  embark_town alive  alone  \n",
      "0    man        True  NaN  Southampton    no  False  \n",
      "1  woman       False    C    Cherbourg   yes  False  \n",
      "2  woman       False  NaN  Southampton   yes   True  \n",
      "3  woman       False    C  Southampton   yes  False  \n",
      "4    man        True  NaN  Southampton    no   True  \n",
      "Index(['survived', 'pclass', 'sex', 'age', 'sibsp', 'parch', 'fare',\n",
      "       'embarked', 'class', 'who', 'adult_male', 'deck', 'embark_town',\n",
      "       'alive', 'alone'],\n",
      "      dtype='object')\n",
      "0       True\n",
      "1      False\n",
      "2      False\n",
      "3      False\n",
      "4       True\n",
      "       ...  \n",
      "886     True\n",
      "887    False\n",
      "888    False\n",
      "889     True\n",
      "890     True\n",
      "Name: adult_male, Length: 891, dtype: bool\n",
      "    alive  alone\n",
      "0      no  False\n",
      "1     yes  False\n",
      "2     yes   True\n",
      "3     yes  False\n",
      "4      no   True\n",
      "..    ...    ...\n",
      "886    no   True\n",
      "887   yes   True\n",
      "888    no  False\n",
      "889   yes   True\n",
      "890    no   True\n",
      "\n",
      "[891 rows x 2 columns]\n"
     ]
    }
   ],
   "source": [
    "print(titanic.head(5))\n",
    "#Zugriff auf Spalten\n",
    "print(titanic.columns)\n",
    "print(titanic[\"adult_male\"]) # es geht auch df.Alter\n",
    "print(titanic[[\"alive\",\"alone\"]])"
   ],
   "metadata": {
    "collapsed": false
   }
  },
  {
   "cell_type": "code",
   "execution_count": 6,
   "outputs": [
    {
     "name": "stdout",
     "output_type": "stream",
     "text": [
      "survived                 0\n",
      "pclass                   3\n",
      "sex                   male\n",
      "age                   22.0\n",
      "sibsp                    1\n",
      "parch                    0\n",
      "fare                  7.25\n",
      "embarked                 S\n",
      "class                Third\n",
      "who                    man\n",
      "adult_male            True\n",
      "deck                   NaN\n",
      "embark_town    Southampton\n",
      "alive                   no\n",
      "alone                False\n",
      "Name: 0, dtype: object\n",
      "0\n",
      "survived    0\n",
      "pclass      3\n",
      "Name: 0, dtype: object\n"
     ]
    }
   ],
   "source": [
    "#Zugriff auf Zeilen\n",
    "print(titanic.iloc[0])\n",
    "print(titanic.iloc[0,0])\n",
    "print(titanic.iloc[0,0:2])"
   ],
   "metadata": {
    "collapsed": false
   }
  },
  {
   "cell_type": "code",
   "execution_count": 7,
   "outputs": [
    {
     "name": "stdout",
     "output_type": "stream",
     "text": [
      "0        male\n",
      "1      female\n",
      "2      female\n",
      "3      female\n",
      "4        male\n",
      "        ...  \n",
      "886      male\n",
      "887    female\n",
      "888    female\n",
      "889      male\n",
      "890      male\n",
      "Name: sex, Length: 891, dtype: object\n"
     ]
    },
    {
     "data": {
      "text/plain": "     survived  pclass     sex   age  sibsp  parch     fare embarked   class   \n890         0       3    male  22.0      1      0   7.2500        S   Third  \\\n889         1       1  female  38.0      1      0  71.2833        C   First   \n888         1       3  female  26.0      0      0   7.9250        S   Third   \n887         1       1  female  35.0      1      0  53.1000        S   First   \n886         0       3    male  35.0      0      0   8.0500        S   Third   \n..        ...     ...     ...   ...    ...    ...      ...      ...     ...   \n4           0       2    male  27.0      0      0  13.0000        S  Second   \n3           1       1  female  19.0      0      0  30.0000        S   First   \n2           0       3  female   NaN      1      2  23.4500        S   Third   \n1           1       1    male  26.0      0      0  30.0000        C   First   \n0           0       3    male  32.0      0      0   7.7500        Q   Third   \n\n       who  adult_male deck  embark_town alive  alone  \n890    man        True  NaN  Southampton    no  False  \n889  woman       False    C    Cherbourg   yes  False  \n888  woman       False  NaN  Southampton   yes   True  \n887  woman       False    C  Southampton   yes  False  \n886    man        True  NaN  Southampton    no   True  \n..     ...         ...  ...          ...   ...    ...  \n4      man        True  NaN  Southampton    no   True  \n3    woman       False    B  Southampton   yes   True  \n2    woman       False  NaN  Southampton    no  False  \n1      man        True    C    Cherbourg   yes   True  \n0      man        True  NaN   Queenstown    no   True  \n\n[891 rows x 15 columns]",
      "text/html": "<div>\n<style scoped>\n    .dataframe tbody tr th:only-of-type {\n        vertical-align: middle;\n    }\n\n    .dataframe tbody tr th {\n        vertical-align: top;\n    }\n\n    .dataframe thead th {\n        text-align: right;\n    }\n</style>\n<table border=\"1\" class=\"dataframe\">\n  <thead>\n    <tr style=\"text-align: right;\">\n      <th></th>\n      <th>survived</th>\n      <th>pclass</th>\n      <th>sex</th>\n      <th>age</th>\n      <th>sibsp</th>\n      <th>parch</th>\n      <th>fare</th>\n      <th>embarked</th>\n      <th>class</th>\n      <th>who</th>\n      <th>adult_male</th>\n      <th>deck</th>\n      <th>embark_town</th>\n      <th>alive</th>\n      <th>alone</th>\n    </tr>\n  </thead>\n  <tbody>\n    <tr>\n      <th>890</th>\n      <td>0</td>\n      <td>3</td>\n      <td>male</td>\n      <td>22.0</td>\n      <td>1</td>\n      <td>0</td>\n      <td>7.2500</td>\n      <td>S</td>\n      <td>Third</td>\n      <td>man</td>\n      <td>True</td>\n      <td>NaN</td>\n      <td>Southampton</td>\n      <td>no</td>\n      <td>False</td>\n    </tr>\n    <tr>\n      <th>889</th>\n      <td>1</td>\n      <td>1</td>\n      <td>female</td>\n      <td>38.0</td>\n      <td>1</td>\n      <td>0</td>\n      <td>71.2833</td>\n      <td>C</td>\n      <td>First</td>\n      <td>woman</td>\n      <td>False</td>\n      <td>C</td>\n      <td>Cherbourg</td>\n      <td>yes</td>\n      <td>False</td>\n    </tr>\n    <tr>\n      <th>888</th>\n      <td>1</td>\n      <td>3</td>\n      <td>female</td>\n      <td>26.0</td>\n      <td>0</td>\n      <td>0</td>\n      <td>7.9250</td>\n      <td>S</td>\n      <td>Third</td>\n      <td>woman</td>\n      <td>False</td>\n      <td>NaN</td>\n      <td>Southampton</td>\n      <td>yes</td>\n      <td>True</td>\n    </tr>\n    <tr>\n      <th>887</th>\n      <td>1</td>\n      <td>1</td>\n      <td>female</td>\n      <td>35.0</td>\n      <td>1</td>\n      <td>0</td>\n      <td>53.1000</td>\n      <td>S</td>\n      <td>First</td>\n      <td>woman</td>\n      <td>False</td>\n      <td>C</td>\n      <td>Southampton</td>\n      <td>yes</td>\n      <td>False</td>\n    </tr>\n    <tr>\n      <th>886</th>\n      <td>0</td>\n      <td>3</td>\n      <td>male</td>\n      <td>35.0</td>\n      <td>0</td>\n      <td>0</td>\n      <td>8.0500</td>\n      <td>S</td>\n      <td>Third</td>\n      <td>man</td>\n      <td>True</td>\n      <td>NaN</td>\n      <td>Southampton</td>\n      <td>no</td>\n      <td>True</td>\n    </tr>\n    <tr>\n      <th>...</th>\n      <td>...</td>\n      <td>...</td>\n      <td>...</td>\n      <td>...</td>\n      <td>...</td>\n      <td>...</td>\n      <td>...</td>\n      <td>...</td>\n      <td>...</td>\n      <td>...</td>\n      <td>...</td>\n      <td>...</td>\n      <td>...</td>\n      <td>...</td>\n      <td>...</td>\n    </tr>\n    <tr>\n      <th>4</th>\n      <td>0</td>\n      <td>2</td>\n      <td>male</td>\n      <td>27.0</td>\n      <td>0</td>\n      <td>0</td>\n      <td>13.0000</td>\n      <td>S</td>\n      <td>Second</td>\n      <td>man</td>\n      <td>True</td>\n      <td>NaN</td>\n      <td>Southampton</td>\n      <td>no</td>\n      <td>True</td>\n    </tr>\n    <tr>\n      <th>3</th>\n      <td>1</td>\n      <td>1</td>\n      <td>female</td>\n      <td>19.0</td>\n      <td>0</td>\n      <td>0</td>\n      <td>30.0000</td>\n      <td>S</td>\n      <td>First</td>\n      <td>woman</td>\n      <td>False</td>\n      <td>B</td>\n      <td>Southampton</td>\n      <td>yes</td>\n      <td>True</td>\n    </tr>\n    <tr>\n      <th>2</th>\n      <td>0</td>\n      <td>3</td>\n      <td>female</td>\n      <td>NaN</td>\n      <td>1</td>\n      <td>2</td>\n      <td>23.4500</td>\n      <td>S</td>\n      <td>Third</td>\n      <td>woman</td>\n      <td>False</td>\n      <td>NaN</td>\n      <td>Southampton</td>\n      <td>no</td>\n      <td>False</td>\n    </tr>\n    <tr>\n      <th>1</th>\n      <td>1</td>\n      <td>1</td>\n      <td>male</td>\n      <td>26.0</td>\n      <td>0</td>\n      <td>0</td>\n      <td>30.0000</td>\n      <td>C</td>\n      <td>First</td>\n      <td>man</td>\n      <td>True</td>\n      <td>C</td>\n      <td>Cherbourg</td>\n      <td>yes</td>\n      <td>True</td>\n    </tr>\n    <tr>\n      <th>0</th>\n      <td>0</td>\n      <td>3</td>\n      <td>male</td>\n      <td>32.0</td>\n      <td>0</td>\n      <td>0</td>\n      <td>7.7500</td>\n      <td>Q</td>\n      <td>Third</td>\n      <td>man</td>\n      <td>True</td>\n      <td>NaN</td>\n      <td>Queenstown</td>\n      <td>no</td>\n      <td>True</td>\n    </tr>\n  </tbody>\n</table>\n<p>891 rows × 15 columns</p>\n</div>"
     },
     "execution_count": 7,
     "metadata": {},
     "output_type": "execute_result"
    }
   ],
   "source": [
    "print(titanic.loc[:,\"sex\"])\n",
    "\n",
    "titanic.index = pd.Series(list(reversed(range(0,891))))  #Sets index column\n",
    "titanic"
   ],
   "metadata": {
    "collapsed": false
   }
  },
  {
   "cell_type": "code",
   "execution_count": 8,
   "outputs": [],
   "source": [
    "titanic.index = titanic[\"sex\"]\n",
    "titanic.index = pd.Series(list(reversed(range(0,891))))  #Sets index column"
   ],
   "metadata": {
    "collapsed": false
   }
  },
  {
   "cell_type": "code",
   "execution_count": 9,
   "outputs": [
    {
     "data": {
      "text/plain": "890     Third\n875    Second\n890     Third\nName: class, dtype: category\nCategories (3, object): ['First', 'Second', 'Third']"
     },
     "execution_count": 9,
     "metadata": {},
     "output_type": "execute_result"
    }
   ],
   "source": [
    "titanic.loc[[890,875,890],\"class\"]  #index / class"
   ],
   "metadata": {
    "collapsed": false
   }
  },
  {
   "cell_type": "code",
   "execution_count": 10,
   "outputs": [
    {
     "name": "stdout",
     "output_type": "stream",
     "text": [
      "     survived  pclass   sex   age  sibsp  parch     fare embarked   class   \n",
      "890         0       3  male  22.0      1      0   7.2500        S   Third  \\\n",
      "886         0       3  male  35.0      0      0   8.0500        S   Third   \n",
      "885         0       3  male   NaN      0      0   8.4583        Q   Third   \n",
      "884         0       1  male  54.0      0      0  51.8625        S   First   \n",
      "883         0       3  male   2.0      3      1  21.0750        S   Third   \n",
      "..        ...     ...   ...   ...    ...    ...      ...      ...     ...   \n",
      "7           0       2  male  28.0      0      0  10.5000        S  Second   \n",
      "6           0       3  male  25.0      0      0   7.0500        S   Third   \n",
      "4           0       2  male  27.0      0      0  13.0000        S  Second   \n",
      "1           1       1  male  26.0      0      0  30.0000        C   First   \n",
      "0           0       3  male  32.0      0      0   7.7500        Q   Third   \n",
      "\n",
      "       who  adult_male deck  embark_town alive  alone  \n",
      "890    man        True  NaN  Southampton    no  False  \n",
      "886    man        True  NaN  Southampton    no   True  \n",
      "885    man        True  NaN   Queenstown    no   True  \n",
      "884    man        True    E  Southampton    no   True  \n",
      "883  child       False  NaN  Southampton    no  False  \n",
      "..     ...         ...  ...          ...   ...    ...  \n",
      "7      man        True  NaN  Southampton    no   True  \n",
      "6      man        True  NaN  Southampton    no   True  \n",
      "4      man        True  NaN  Southampton    no   True  \n",
      "1      man        True    C    Cherbourg   yes   True  \n",
      "0      man        True  NaN   Queenstown    no   True  \n",
      "\n",
      "[577 rows x 15 columns]\n",
      "     survived  pclass     sex   age  sibsp  parch     fare embarked   class   \n",
      "890         0       3    male  22.0      1      0   7.2500        S   Third  \\\n",
      "888         1       3  female  26.0      0      0   7.9250        S   Third   \n",
      "887         1       1  female  35.0      1      0  53.1000        S   First   \n",
      "886         0       3    male  35.0      0      0   8.0500        S   Third   \n",
      "884         0       1    male  54.0      0      0  51.8625        S   First   \n",
      "..        ...     ...     ...   ...    ...    ...      ...      ...     ...   \n",
      "7           0       2    male  28.0      0      0  10.5000        S  Second   \n",
      "6           0       3    male  25.0      0      0   7.0500        S   Third   \n",
      "4           0       2    male  27.0      0      0  13.0000        S  Second   \n",
      "3           1       1  female  19.0      0      0  30.0000        S   First   \n",
      "2           0       3  female   NaN      1      2  23.4500        S   Third   \n",
      "\n",
      "       who  adult_male deck  embark_town alive  alone  \n",
      "890    man        True  NaN  Southampton    no  False  \n",
      "888  woman       False  NaN  Southampton   yes   True  \n",
      "887  woman       False    C  Southampton   yes  False  \n",
      "886    man        True  NaN  Southampton    no   True  \n",
      "884    man        True    E  Southampton    no   True  \n",
      "..     ...         ...  ...          ...   ...    ...  \n",
      "7      man        True  NaN  Southampton    no   True  \n",
      "6      man        True  NaN  Southampton    no   True  \n",
      "4      man        True  NaN  Southampton    no   True  \n",
      "3    woman       False    B  Southampton   yes   True  \n",
      "2    woman       False  NaN  Southampton    no  False  \n",
      "\n",
      "[644 rows x 15 columns]\n"
     ]
    }
   ],
   "source": [
    "print(titanic.loc[titanic[\"sex\"]==\"male\"])\n",
    "print(titanic.loc[titanic[\"embark_town\"].str[:1]==\"S\"])"
   ],
   "metadata": {
    "collapsed": false
   }
  },
  {
   "cell_type": "code",
   "execution_count": 11,
   "outputs": [
    {
     "data": {
      "text/plain": "     survived  pclass     sex   age  sibsp  parch     fare embarked   class   \n890         0       3    Flag  22.0      1      0   7.2500        S   Third  \\\n889         1       1    Flag  38.0      1      0  71.2833        C   First   \n888         1       3  female  26.0      0      0   7.9250        S   Third   \n887         1       1  female  35.0      1      0  53.1000        S   First   \n886         0       3    male  35.0      0      0   8.0500        S   Third   \n..        ...     ...     ...   ...    ...    ...      ...      ...     ...   \n4           0       2    male  27.0      0      0  13.0000        S  Second   \n3           1       1  female  19.0      0      0  30.0000        S   First   \n2           0       3  female   NaN      1      2  23.4500        S   Third   \n1           1       1    male  26.0      0      0  30.0000        C   First   \n0           0       3    male  32.0      0      0   7.7500        Q   Third   \n\n       who  adult_male deck  embark_town alive  alone  fuenf   neu  \n890    man        True  NaN  Southampton    no  False      5  44.0  \n889  woman       False    C    Cherbourg   yes  False      5  76.0  \n888  woman       False  NaN  Southampton   yes   True      5  52.0  \n887  woman       False    C  Southampton   yes  False      5  70.0  \n886    man        True  NaN  Southampton    no   True      5  70.0  \n..     ...         ...  ...          ...   ...    ...    ...   ...  \n4      man        True  NaN  Southampton    no   True      5  54.0  \n3    woman       False    B  Southampton   yes   True      5  38.0  \n2    woman       False  NaN  Southampton    no  False      5   NaN  \n1      man        True    C    Cherbourg   yes   True      5  52.0  \n0      man        True  NaN   Queenstown    no   True      5  64.0  \n\n[891 rows x 17 columns]",
      "text/html": "<div>\n<style scoped>\n    .dataframe tbody tr th:only-of-type {\n        vertical-align: middle;\n    }\n\n    .dataframe tbody tr th {\n        vertical-align: top;\n    }\n\n    .dataframe thead th {\n        text-align: right;\n    }\n</style>\n<table border=\"1\" class=\"dataframe\">\n  <thead>\n    <tr style=\"text-align: right;\">\n      <th></th>\n      <th>survived</th>\n      <th>pclass</th>\n      <th>sex</th>\n      <th>age</th>\n      <th>sibsp</th>\n      <th>parch</th>\n      <th>fare</th>\n      <th>embarked</th>\n      <th>class</th>\n      <th>who</th>\n      <th>adult_male</th>\n      <th>deck</th>\n      <th>embark_town</th>\n      <th>alive</th>\n      <th>alone</th>\n      <th>fuenf</th>\n      <th>neu</th>\n    </tr>\n  </thead>\n  <tbody>\n    <tr>\n      <th>890</th>\n      <td>0</td>\n      <td>3</td>\n      <td>Flag</td>\n      <td>22.0</td>\n      <td>1</td>\n      <td>0</td>\n      <td>7.2500</td>\n      <td>S</td>\n      <td>Third</td>\n      <td>man</td>\n      <td>True</td>\n      <td>NaN</td>\n      <td>Southampton</td>\n      <td>no</td>\n      <td>False</td>\n      <td>5</td>\n      <td>44.0</td>\n    </tr>\n    <tr>\n      <th>889</th>\n      <td>1</td>\n      <td>1</td>\n      <td>Flag</td>\n      <td>38.0</td>\n      <td>1</td>\n      <td>0</td>\n      <td>71.2833</td>\n      <td>C</td>\n      <td>First</td>\n      <td>woman</td>\n      <td>False</td>\n      <td>C</td>\n      <td>Cherbourg</td>\n      <td>yes</td>\n      <td>False</td>\n      <td>5</td>\n      <td>76.0</td>\n    </tr>\n    <tr>\n      <th>888</th>\n      <td>1</td>\n      <td>3</td>\n      <td>female</td>\n      <td>26.0</td>\n      <td>0</td>\n      <td>0</td>\n      <td>7.9250</td>\n      <td>S</td>\n      <td>Third</td>\n      <td>woman</td>\n      <td>False</td>\n      <td>NaN</td>\n      <td>Southampton</td>\n      <td>yes</td>\n      <td>True</td>\n      <td>5</td>\n      <td>52.0</td>\n    </tr>\n    <tr>\n      <th>887</th>\n      <td>1</td>\n      <td>1</td>\n      <td>female</td>\n      <td>35.0</td>\n      <td>1</td>\n      <td>0</td>\n      <td>53.1000</td>\n      <td>S</td>\n      <td>First</td>\n      <td>woman</td>\n      <td>False</td>\n      <td>C</td>\n      <td>Southampton</td>\n      <td>yes</td>\n      <td>False</td>\n      <td>5</td>\n      <td>70.0</td>\n    </tr>\n    <tr>\n      <th>886</th>\n      <td>0</td>\n      <td>3</td>\n      <td>male</td>\n      <td>35.0</td>\n      <td>0</td>\n      <td>0</td>\n      <td>8.0500</td>\n      <td>S</td>\n      <td>Third</td>\n      <td>man</td>\n      <td>True</td>\n      <td>NaN</td>\n      <td>Southampton</td>\n      <td>no</td>\n      <td>True</td>\n      <td>5</td>\n      <td>70.0</td>\n    </tr>\n    <tr>\n      <th>...</th>\n      <td>...</td>\n      <td>...</td>\n      <td>...</td>\n      <td>...</td>\n      <td>...</td>\n      <td>...</td>\n      <td>...</td>\n      <td>...</td>\n      <td>...</td>\n      <td>...</td>\n      <td>...</td>\n      <td>...</td>\n      <td>...</td>\n      <td>...</td>\n      <td>...</td>\n      <td>...</td>\n      <td>...</td>\n    </tr>\n    <tr>\n      <th>4</th>\n      <td>0</td>\n      <td>2</td>\n      <td>male</td>\n      <td>27.0</td>\n      <td>0</td>\n      <td>0</td>\n      <td>13.0000</td>\n      <td>S</td>\n      <td>Second</td>\n      <td>man</td>\n      <td>True</td>\n      <td>NaN</td>\n      <td>Southampton</td>\n      <td>no</td>\n      <td>True</td>\n      <td>5</td>\n      <td>54.0</td>\n    </tr>\n    <tr>\n      <th>3</th>\n      <td>1</td>\n      <td>1</td>\n      <td>female</td>\n      <td>19.0</td>\n      <td>0</td>\n      <td>0</td>\n      <td>30.0000</td>\n      <td>S</td>\n      <td>First</td>\n      <td>woman</td>\n      <td>False</td>\n      <td>B</td>\n      <td>Southampton</td>\n      <td>yes</td>\n      <td>True</td>\n      <td>5</td>\n      <td>38.0</td>\n    </tr>\n    <tr>\n      <th>2</th>\n      <td>0</td>\n      <td>3</td>\n      <td>female</td>\n      <td>NaN</td>\n      <td>1</td>\n      <td>2</td>\n      <td>23.4500</td>\n      <td>S</td>\n      <td>Third</td>\n      <td>woman</td>\n      <td>False</td>\n      <td>NaN</td>\n      <td>Southampton</td>\n      <td>no</td>\n      <td>False</td>\n      <td>5</td>\n      <td>NaN</td>\n    </tr>\n    <tr>\n      <th>1</th>\n      <td>1</td>\n      <td>1</td>\n      <td>male</td>\n      <td>26.0</td>\n      <td>0</td>\n      <td>0</td>\n      <td>30.0000</td>\n      <td>C</td>\n      <td>First</td>\n      <td>man</td>\n      <td>True</td>\n      <td>C</td>\n      <td>Cherbourg</td>\n      <td>yes</td>\n      <td>True</td>\n      <td>5</td>\n      <td>52.0</td>\n    </tr>\n    <tr>\n      <th>0</th>\n      <td>0</td>\n      <td>3</td>\n      <td>male</td>\n      <td>32.0</td>\n      <td>0</td>\n      <td>0</td>\n      <td>7.7500</td>\n      <td>Q</td>\n      <td>Third</td>\n      <td>man</td>\n      <td>True</td>\n      <td>NaN</td>\n      <td>Queenstown</td>\n      <td>no</td>\n      <td>True</td>\n      <td>5</td>\n      <td>64.0</td>\n    </tr>\n  </tbody>\n</table>\n<p>891 rows × 17 columns</p>\n</div>"
     },
     "execution_count": 11,
     "metadata": {},
     "output_type": "execute_result"
    }
   ],
   "source": [
    "titanic.loc[890:889,'sex'] = \"Flag\"     #Zuweisung\n",
    "titanic[\"fuenf\"] = 5                    #Zuweisung zu Spalte\n",
    "titanic[\"neu\"] = 2*titanic[\"age\"]\n",
    "titanic"
   ],
   "metadata": {
    "collapsed": false
   }
  },
  {
   "cell_type": "code",
   "execution_count": 12,
   "outputs": [
    {
     "data": {
      "text/plain": "     survived  pclass     sex   age  sibsp  parch     fare embarked   class   \n889         1       1    Flag  38.0      1      0  71.2833        C   First  \\\n888         1       3  female  26.0      0      0   7.9250        S   Third   \n884         0       1    male  54.0      0      0  51.8625        S   First   \n883         0       3    male   2.0      3      1  21.0750        S   Third   \n882         1       3  female  27.0      0      2  11.1333        S   Third   \n..        ...     ...     ...   ...    ...    ...      ...      ...     ...   \n4           0       2    male  27.0      0      0  13.0000        S  Second   \n3           1       1  female  19.0      0      0  30.0000        S   First   \n2           0       3  female   NaN      1      2  23.4500        S   Third   \n1           1       1    male  26.0      0      0  30.0000        C   First   \n0           0       3    male  32.0      0      0   7.7500        Q   Third   \n\n       who  adult_male deck  embark_town alive  alone  fuenf  \n889  woman       False    C    Cherbourg   yes  False      5  \n888  woman       False  NaN  Southampton   yes   True      5  \n884    man        True    E  Southampton    no   True      5  \n883  child       False  NaN  Southampton    no  False      5  \n882  woman       False  NaN  Southampton   yes  False      5  \n..     ...         ...  ...          ...   ...    ...    ...  \n4      man        True  NaN  Southampton    no   True      5  \n3    woman       False    B  Southampton   yes   True      5  \n2    woman       False  NaN  Southampton    no  False      5  \n1      man        True    C    Cherbourg   yes   True      5  \n0      man        True  NaN   Queenstown    no   True      5  \n\n[887 rows x 16 columns]",
      "text/html": "<div>\n<style scoped>\n    .dataframe tbody tr th:only-of-type {\n        vertical-align: middle;\n    }\n\n    .dataframe tbody tr th {\n        vertical-align: top;\n    }\n\n    .dataframe thead th {\n        text-align: right;\n    }\n</style>\n<table border=\"1\" class=\"dataframe\">\n  <thead>\n    <tr style=\"text-align: right;\">\n      <th></th>\n      <th>survived</th>\n      <th>pclass</th>\n      <th>sex</th>\n      <th>age</th>\n      <th>sibsp</th>\n      <th>parch</th>\n      <th>fare</th>\n      <th>embarked</th>\n      <th>class</th>\n      <th>who</th>\n      <th>adult_male</th>\n      <th>deck</th>\n      <th>embark_town</th>\n      <th>alive</th>\n      <th>alone</th>\n      <th>fuenf</th>\n    </tr>\n  </thead>\n  <tbody>\n    <tr>\n      <th>889</th>\n      <td>1</td>\n      <td>1</td>\n      <td>Flag</td>\n      <td>38.0</td>\n      <td>1</td>\n      <td>0</td>\n      <td>71.2833</td>\n      <td>C</td>\n      <td>First</td>\n      <td>woman</td>\n      <td>False</td>\n      <td>C</td>\n      <td>Cherbourg</td>\n      <td>yes</td>\n      <td>False</td>\n      <td>5</td>\n    </tr>\n    <tr>\n      <th>888</th>\n      <td>1</td>\n      <td>3</td>\n      <td>female</td>\n      <td>26.0</td>\n      <td>0</td>\n      <td>0</td>\n      <td>7.9250</td>\n      <td>S</td>\n      <td>Third</td>\n      <td>woman</td>\n      <td>False</td>\n      <td>NaN</td>\n      <td>Southampton</td>\n      <td>yes</td>\n      <td>True</td>\n      <td>5</td>\n    </tr>\n    <tr>\n      <th>884</th>\n      <td>0</td>\n      <td>1</td>\n      <td>male</td>\n      <td>54.0</td>\n      <td>0</td>\n      <td>0</td>\n      <td>51.8625</td>\n      <td>S</td>\n      <td>First</td>\n      <td>man</td>\n      <td>True</td>\n      <td>E</td>\n      <td>Southampton</td>\n      <td>no</td>\n      <td>True</td>\n      <td>5</td>\n    </tr>\n    <tr>\n      <th>883</th>\n      <td>0</td>\n      <td>3</td>\n      <td>male</td>\n      <td>2.0</td>\n      <td>3</td>\n      <td>1</td>\n      <td>21.0750</td>\n      <td>S</td>\n      <td>Third</td>\n      <td>child</td>\n      <td>False</td>\n      <td>NaN</td>\n      <td>Southampton</td>\n      <td>no</td>\n      <td>False</td>\n      <td>5</td>\n    </tr>\n    <tr>\n      <th>882</th>\n      <td>1</td>\n      <td>3</td>\n      <td>female</td>\n      <td>27.0</td>\n      <td>0</td>\n      <td>2</td>\n      <td>11.1333</td>\n      <td>S</td>\n      <td>Third</td>\n      <td>woman</td>\n      <td>False</td>\n      <td>NaN</td>\n      <td>Southampton</td>\n      <td>yes</td>\n      <td>False</td>\n      <td>5</td>\n    </tr>\n    <tr>\n      <th>...</th>\n      <td>...</td>\n      <td>...</td>\n      <td>...</td>\n      <td>...</td>\n      <td>...</td>\n      <td>...</td>\n      <td>...</td>\n      <td>...</td>\n      <td>...</td>\n      <td>...</td>\n      <td>...</td>\n      <td>...</td>\n      <td>...</td>\n      <td>...</td>\n      <td>...</td>\n      <td>...</td>\n    </tr>\n    <tr>\n      <th>4</th>\n      <td>0</td>\n      <td>2</td>\n      <td>male</td>\n      <td>27.0</td>\n      <td>0</td>\n      <td>0</td>\n      <td>13.0000</td>\n      <td>S</td>\n      <td>Second</td>\n      <td>man</td>\n      <td>True</td>\n      <td>NaN</td>\n      <td>Southampton</td>\n      <td>no</td>\n      <td>True</td>\n      <td>5</td>\n    </tr>\n    <tr>\n      <th>3</th>\n      <td>1</td>\n      <td>1</td>\n      <td>female</td>\n      <td>19.0</td>\n      <td>0</td>\n      <td>0</td>\n      <td>30.0000</td>\n      <td>S</td>\n      <td>First</td>\n      <td>woman</td>\n      <td>False</td>\n      <td>B</td>\n      <td>Southampton</td>\n      <td>yes</td>\n      <td>True</td>\n      <td>5</td>\n    </tr>\n    <tr>\n      <th>2</th>\n      <td>0</td>\n      <td>3</td>\n      <td>female</td>\n      <td>NaN</td>\n      <td>1</td>\n      <td>2</td>\n      <td>23.4500</td>\n      <td>S</td>\n      <td>Third</td>\n      <td>woman</td>\n      <td>False</td>\n      <td>NaN</td>\n      <td>Southampton</td>\n      <td>no</td>\n      <td>False</td>\n      <td>5</td>\n    </tr>\n    <tr>\n      <th>1</th>\n      <td>1</td>\n      <td>1</td>\n      <td>male</td>\n      <td>26.0</td>\n      <td>0</td>\n      <td>0</td>\n      <td>30.0000</td>\n      <td>C</td>\n      <td>First</td>\n      <td>man</td>\n      <td>True</td>\n      <td>C</td>\n      <td>Cherbourg</td>\n      <td>yes</td>\n      <td>True</td>\n      <td>5</td>\n    </tr>\n    <tr>\n      <th>0</th>\n      <td>0</td>\n      <td>3</td>\n      <td>male</td>\n      <td>32.0</td>\n      <td>0</td>\n      <td>0</td>\n      <td>7.7500</td>\n      <td>Q</td>\n      <td>Third</td>\n      <td>man</td>\n      <td>True</td>\n      <td>NaN</td>\n      <td>Queenstown</td>\n      <td>no</td>\n      <td>True</td>\n      <td>5</td>\n    </tr>\n  </tbody>\n</table>\n<p>887 rows × 16 columns</p>\n</div>"
     },
     "execution_count": 12,
     "metadata": {},
     "output_type": "execute_result"
    }
   ],
   "source": [
    "#Del columns\n",
    "del titanic[\"neu\"]\n",
    "#Del rows from index\n",
    "titanic = titanic.drop(890)\n",
    "titanic = titanic.drop([887,886,885])\n",
    "titanic"
   ],
   "metadata": {
    "collapsed": false
   }
  },
  {
   "cell_type": "code",
   "execution_count": 15,
   "outputs": [
    {
     "data": {
      "text/plain": "     survived  pclass     sex   age  sibsp  parch embarked   class    who   \n889         1       1    Flag  38.0      1      0        C   First  woman  \\\n888         1       3  female  26.0      0      0        S   Third  woman   \n884         0       1    male  54.0      0      0        S   First    man   \n883         0       3    male   2.0      3      1        S   Third  child   \n882         1       3  female  27.0      0      2        S   Third  woman   \n..        ...     ...     ...   ...    ...    ...      ...     ...    ...   \n4           0       2    male  27.0      0      0        S  Second    man   \n3           1       1  female  19.0      0      0        S   First  woman   \n2           0       3  female   NaN      1      2        S   Third  woman   \n1           1       1    male  26.0      0      0        C   First    man   \n0           0       3    male  32.0      0      0        Q   Third    man   \n\n     adult_male deck  embark_town alive  alone  \n889       False    C    Cherbourg   yes  False  \n888       False  NaN  Southampton   yes   True  \n884        True    E  Southampton    no   True  \n883       False  NaN  Southampton    no  False  \n882       False  NaN  Southampton   yes  False  \n..          ...  ...          ...   ...    ...  \n4          True  NaN  Southampton    no   True  \n3         False    B  Southampton   yes   True  \n2         False  NaN  Southampton    no  False  \n1          True    C    Cherbourg   yes   True  \n0          True  NaN   Queenstown    no   True  \n\n[887 rows x 14 columns]",
      "text/html": "<div>\n<style scoped>\n    .dataframe tbody tr th:only-of-type {\n        vertical-align: middle;\n    }\n\n    .dataframe tbody tr th {\n        vertical-align: top;\n    }\n\n    .dataframe thead th {\n        text-align: right;\n    }\n</style>\n<table border=\"1\" class=\"dataframe\">\n  <thead>\n    <tr style=\"text-align: right;\">\n      <th></th>\n      <th>survived</th>\n      <th>pclass</th>\n      <th>sex</th>\n      <th>age</th>\n      <th>sibsp</th>\n      <th>parch</th>\n      <th>embarked</th>\n      <th>class</th>\n      <th>who</th>\n      <th>adult_male</th>\n      <th>deck</th>\n      <th>embark_town</th>\n      <th>alive</th>\n      <th>alone</th>\n    </tr>\n  </thead>\n  <tbody>\n    <tr>\n      <th>889</th>\n      <td>1</td>\n      <td>1</td>\n      <td>Flag</td>\n      <td>38.0</td>\n      <td>1</td>\n      <td>0</td>\n      <td>C</td>\n      <td>First</td>\n      <td>woman</td>\n      <td>False</td>\n      <td>C</td>\n      <td>Cherbourg</td>\n      <td>yes</td>\n      <td>False</td>\n    </tr>\n    <tr>\n      <th>888</th>\n      <td>1</td>\n      <td>3</td>\n      <td>female</td>\n      <td>26.0</td>\n      <td>0</td>\n      <td>0</td>\n      <td>S</td>\n      <td>Third</td>\n      <td>woman</td>\n      <td>False</td>\n      <td>NaN</td>\n      <td>Southampton</td>\n      <td>yes</td>\n      <td>True</td>\n    </tr>\n    <tr>\n      <th>884</th>\n      <td>0</td>\n      <td>1</td>\n      <td>male</td>\n      <td>54.0</td>\n      <td>0</td>\n      <td>0</td>\n      <td>S</td>\n      <td>First</td>\n      <td>man</td>\n      <td>True</td>\n      <td>E</td>\n      <td>Southampton</td>\n      <td>no</td>\n      <td>True</td>\n    </tr>\n    <tr>\n      <th>883</th>\n      <td>0</td>\n      <td>3</td>\n      <td>male</td>\n      <td>2.0</td>\n      <td>3</td>\n      <td>1</td>\n      <td>S</td>\n      <td>Third</td>\n      <td>child</td>\n      <td>False</td>\n      <td>NaN</td>\n      <td>Southampton</td>\n      <td>no</td>\n      <td>False</td>\n    </tr>\n    <tr>\n      <th>882</th>\n      <td>1</td>\n      <td>3</td>\n      <td>female</td>\n      <td>27.0</td>\n      <td>0</td>\n      <td>2</td>\n      <td>S</td>\n      <td>Third</td>\n      <td>woman</td>\n      <td>False</td>\n      <td>NaN</td>\n      <td>Southampton</td>\n      <td>yes</td>\n      <td>False</td>\n    </tr>\n    <tr>\n      <th>...</th>\n      <td>...</td>\n      <td>...</td>\n      <td>...</td>\n      <td>...</td>\n      <td>...</td>\n      <td>...</td>\n      <td>...</td>\n      <td>...</td>\n      <td>...</td>\n      <td>...</td>\n      <td>...</td>\n      <td>...</td>\n      <td>...</td>\n      <td>...</td>\n    </tr>\n    <tr>\n      <th>4</th>\n      <td>0</td>\n      <td>2</td>\n      <td>male</td>\n      <td>27.0</td>\n      <td>0</td>\n      <td>0</td>\n      <td>S</td>\n      <td>Second</td>\n      <td>man</td>\n      <td>True</td>\n      <td>NaN</td>\n      <td>Southampton</td>\n      <td>no</td>\n      <td>True</td>\n    </tr>\n    <tr>\n      <th>3</th>\n      <td>1</td>\n      <td>1</td>\n      <td>female</td>\n      <td>19.0</td>\n      <td>0</td>\n      <td>0</td>\n      <td>S</td>\n      <td>First</td>\n      <td>woman</td>\n      <td>False</td>\n      <td>B</td>\n      <td>Southampton</td>\n      <td>yes</td>\n      <td>True</td>\n    </tr>\n    <tr>\n      <th>2</th>\n      <td>0</td>\n      <td>3</td>\n      <td>female</td>\n      <td>NaN</td>\n      <td>1</td>\n      <td>2</td>\n      <td>S</td>\n      <td>Third</td>\n      <td>woman</td>\n      <td>False</td>\n      <td>NaN</td>\n      <td>Southampton</td>\n      <td>no</td>\n      <td>False</td>\n    </tr>\n    <tr>\n      <th>1</th>\n      <td>1</td>\n      <td>1</td>\n      <td>male</td>\n      <td>26.0</td>\n      <td>0</td>\n      <td>0</td>\n      <td>C</td>\n      <td>First</td>\n      <td>man</td>\n      <td>True</td>\n      <td>C</td>\n      <td>Cherbourg</td>\n      <td>yes</td>\n      <td>True</td>\n    </tr>\n    <tr>\n      <th>0</th>\n      <td>0</td>\n      <td>3</td>\n      <td>male</td>\n      <td>32.0</td>\n      <td>0</td>\n      <td>0</td>\n      <td>Q</td>\n      <td>Third</td>\n      <td>man</td>\n      <td>True</td>\n      <td>NaN</td>\n      <td>Queenstown</td>\n      <td>no</td>\n      <td>True</td>\n    </tr>\n  </tbody>\n</table>\n<p>887 rows × 14 columns</p>\n</div>"
     },
     "execution_count": 15,
     "metadata": {},
     "output_type": "execute_result"
    }
   ],
   "source": [
    "titanic.drop('fare', axis=1, inplace=True)\n",
    "titanic"
   ],
   "metadata": {
    "collapsed": false
   }
  },
  {
   "cell_type": "code",
   "execution_count": null,
   "outputs": [],
   "source": [
    "df.loc[df[\"Alter\"]>=32,'Ort'] = \"Berlin\""
   ],
   "metadata": {
    "collapsed": false
   }
  },
  {
   "cell_type": "code",
   "execution_count": 17,
   "outputs": [
    {
     "name": "stdout",
     "output_type": "stream",
     "text": [
      "    JAJA  NEU1    NANA  JAJA  NEU1 NANA JAJA    NEU1   NANA   JAJA  NEU1   \n",
      "889    1     1    Flag  38.0     1    0    C   First  woman  False     C  \\\n",
      "888    1     3  female  26.0     0    0    S   Third  woman  False   NaN   \n",
      "884    0     1    male  54.0     0    0    S   First    man   True     E   \n",
      "883    0     3    male   2.0     3    1    S   Third  child  False   NaN   \n",
      "882    1     3  female  27.0     0    2    S   Third  woman  False   NaN   \n",
      "..   ...   ...     ...   ...   ...  ...  ...     ...    ...    ...   ...   \n",
      "4      0     2    male  27.0     0    0    S  Second    man   True   NaN   \n",
      "3      1     1  female  19.0     0    0    S   First  woman  False     B   \n",
      "2      0     3  female   NaN     1    2    S   Third  woman  False   NaN   \n",
      "1      1     1    male  26.0     0    0    C   First    man   True     C   \n",
      "0      0     3    male  32.0     0    0    Q   Third    man   True   NaN   \n",
      "\n",
      "            NANA JAJA   NEU1  \n",
      "889    Cherbourg  yes  False  \n",
      "888  Southampton  yes   True  \n",
      "884  Southampton   no   True  \n",
      "883  Southampton   no  False  \n",
      "882  Southampton  yes  False  \n",
      "..           ...  ...    ...  \n",
      "4    Southampton   no   True  \n",
      "3    Southampton  yes   True  \n",
      "2    Southampton   no  False  \n",
      "1      Cherbourg  yes   True  \n",
      "0     Queenstown   no   True  \n",
      "\n",
      "[887 rows x 14 columns]\n"
     ]
    },
    {
     "data": {
      "text/plain": "    T1_JAJA  T1_NEU1 T1_NANA T1_JAJA  T1_NEU1 T1_NANA T1_JAJA  T1_NEU1   \n889       1        1    Flag    38.0        1       0       C    First  \\\n888       1        3  female    26.0        0       0       S    Third   \n884       0        1    male    54.0        0       0       S    First   \n883       0        3    male     2.0        3       1       S    Third   \n882       1        3  female    27.0        0       2       S    Third   \n..      ...      ...     ...     ...      ...     ...     ...      ...   \n4         0        2    male    27.0        0       0       S   Second   \n3         1        1  female    19.0        0       0       S    First   \n2         0        3  female     NaN        1       2       S    Third   \n1         1        1    male    26.0        0       0       C    First   \n0         0        3    male    32.0        0       0       Q    Third   \n\n    T1_NANA T1_JAJA  T1_NEU1      T1_NANA T1_JAJA  T1_NEU1  \n889   woman   False        C    Cherbourg     yes    False  \n888   woman   False      NaN  Southampton     yes     True  \n884     man    True        E  Southampton      no     True  \n883   child   False      NaN  Southampton      no    False  \n882   woman   False      NaN  Southampton     yes    False  \n..      ...     ...      ...          ...     ...      ...  \n4       man    True      NaN  Southampton      no     True  \n3     woman   False        B  Southampton     yes     True  \n2     woman   False      NaN  Southampton      no    False  \n1       man    True        C    Cherbourg     yes     True  \n0       man    True      NaN   Queenstown      no     True  \n\n[887 rows x 14 columns]",
      "text/html": "<div>\n<style scoped>\n    .dataframe tbody tr th:only-of-type {\n        vertical-align: middle;\n    }\n\n    .dataframe tbody tr th {\n        vertical-align: top;\n    }\n\n    .dataframe thead th {\n        text-align: right;\n    }\n</style>\n<table border=\"1\" class=\"dataframe\">\n  <thead>\n    <tr style=\"text-align: right;\">\n      <th></th>\n      <th>T1_JAJA</th>\n      <th>T1_NEU1</th>\n      <th>T1_NANA</th>\n      <th>T1_JAJA</th>\n      <th>T1_NEU1</th>\n      <th>T1_NANA</th>\n      <th>T1_JAJA</th>\n      <th>T1_NEU1</th>\n      <th>T1_NANA</th>\n      <th>T1_JAJA</th>\n      <th>T1_NEU1</th>\n      <th>T1_NANA</th>\n      <th>T1_JAJA</th>\n      <th>T1_NEU1</th>\n    </tr>\n  </thead>\n  <tbody>\n    <tr>\n      <th>889</th>\n      <td>1</td>\n      <td>1</td>\n      <td>Flag</td>\n      <td>38.0</td>\n      <td>1</td>\n      <td>0</td>\n      <td>C</td>\n      <td>First</td>\n      <td>woman</td>\n      <td>False</td>\n      <td>C</td>\n      <td>Cherbourg</td>\n      <td>yes</td>\n      <td>False</td>\n    </tr>\n    <tr>\n      <th>888</th>\n      <td>1</td>\n      <td>3</td>\n      <td>female</td>\n      <td>26.0</td>\n      <td>0</td>\n      <td>0</td>\n      <td>S</td>\n      <td>Third</td>\n      <td>woman</td>\n      <td>False</td>\n      <td>NaN</td>\n      <td>Southampton</td>\n      <td>yes</td>\n      <td>True</td>\n    </tr>\n    <tr>\n      <th>884</th>\n      <td>0</td>\n      <td>1</td>\n      <td>male</td>\n      <td>54.0</td>\n      <td>0</td>\n      <td>0</td>\n      <td>S</td>\n      <td>First</td>\n      <td>man</td>\n      <td>True</td>\n      <td>E</td>\n      <td>Southampton</td>\n      <td>no</td>\n      <td>True</td>\n    </tr>\n    <tr>\n      <th>883</th>\n      <td>0</td>\n      <td>3</td>\n      <td>male</td>\n      <td>2.0</td>\n      <td>3</td>\n      <td>1</td>\n      <td>S</td>\n      <td>Third</td>\n      <td>child</td>\n      <td>False</td>\n      <td>NaN</td>\n      <td>Southampton</td>\n      <td>no</td>\n      <td>False</td>\n    </tr>\n    <tr>\n      <th>882</th>\n      <td>1</td>\n      <td>3</td>\n      <td>female</td>\n      <td>27.0</td>\n      <td>0</td>\n      <td>2</td>\n      <td>S</td>\n      <td>Third</td>\n      <td>woman</td>\n      <td>False</td>\n      <td>NaN</td>\n      <td>Southampton</td>\n      <td>yes</td>\n      <td>False</td>\n    </tr>\n    <tr>\n      <th>...</th>\n      <td>...</td>\n      <td>...</td>\n      <td>...</td>\n      <td>...</td>\n      <td>...</td>\n      <td>...</td>\n      <td>...</td>\n      <td>...</td>\n      <td>...</td>\n      <td>...</td>\n      <td>...</td>\n      <td>...</td>\n      <td>...</td>\n      <td>...</td>\n    </tr>\n    <tr>\n      <th>4</th>\n      <td>0</td>\n      <td>2</td>\n      <td>male</td>\n      <td>27.0</td>\n      <td>0</td>\n      <td>0</td>\n      <td>S</td>\n      <td>Second</td>\n      <td>man</td>\n      <td>True</td>\n      <td>NaN</td>\n      <td>Southampton</td>\n      <td>no</td>\n      <td>True</td>\n    </tr>\n    <tr>\n      <th>3</th>\n      <td>1</td>\n      <td>1</td>\n      <td>female</td>\n      <td>19.0</td>\n      <td>0</td>\n      <td>0</td>\n      <td>S</td>\n      <td>First</td>\n      <td>woman</td>\n      <td>False</td>\n      <td>B</td>\n      <td>Southampton</td>\n      <td>yes</td>\n      <td>True</td>\n    </tr>\n    <tr>\n      <th>2</th>\n      <td>0</td>\n      <td>3</td>\n      <td>female</td>\n      <td>NaN</td>\n      <td>1</td>\n      <td>2</td>\n      <td>S</td>\n      <td>Third</td>\n      <td>woman</td>\n      <td>False</td>\n      <td>NaN</td>\n      <td>Southampton</td>\n      <td>no</td>\n      <td>False</td>\n    </tr>\n    <tr>\n      <th>1</th>\n      <td>1</td>\n      <td>1</td>\n      <td>male</td>\n      <td>26.0</td>\n      <td>0</td>\n      <td>0</td>\n      <td>C</td>\n      <td>First</td>\n      <td>man</td>\n      <td>True</td>\n      <td>C</td>\n      <td>Cherbourg</td>\n      <td>yes</td>\n      <td>True</td>\n    </tr>\n    <tr>\n      <th>0</th>\n      <td>0</td>\n      <td>3</td>\n      <td>male</td>\n      <td>32.0</td>\n      <td>0</td>\n      <td>0</td>\n      <td>Q</td>\n      <td>Third</td>\n      <td>man</td>\n      <td>True</td>\n      <td>NaN</td>\n      <td>Queenstown</td>\n      <td>no</td>\n      <td>True</td>\n    </tr>\n  </tbody>\n</table>\n<p>887 rows × 14 columns</p>\n</div>"
     },
     "execution_count": 17,
     "metadata": {},
     "output_type": "execute_result"
    }
   ],
   "source": [
    "#Renaming columns\n",
    "titanic.columns = ['neu3','neu1', 'neu2', 'neu3','neu1', 'neu2', 'neu3','neu1', 'neu2', 'neu3','neu1', 'neu2', 'neu3','neu1']\n",
    "titanic.rename (columns = {'neu3':'jaja','neu2':'nana'}, inplace = 1)\n",
    "titanic.rename(columns = str.upper , inplace = True)\n",
    "print(titanic)\n",
    "titanic.rename(columns=lambda x: f'T1_{x}', inplace = True)\n",
    "titanic"
   ],
   "metadata": {
    "collapsed": false
   }
  },
  {
   "cell_type": "code",
   "execution_count": null,
   "outputs": [],
   "source": [],
   "metadata": {
    "collapsed": false
   }
  },
  {
   "cell_type": "code",
   "execution_count": null,
   "outputs": [],
   "source": [],
   "metadata": {
    "collapsed": false
   }
  }
 ],
 "metadata": {
  "kernelspec": {
   "display_name": "Python 3",
   "language": "python",
   "name": "python3"
  },
  "language_info": {
   "codemirror_mode": {
    "name": "ipython",
    "version": 2
   },
   "file_extension": ".py",
   "mimetype": "text/x-python",
   "name": "python",
   "nbconvert_exporter": "python",
   "pygments_lexer": "ipython2",
   "version": "2.7.6"
  }
 },
 "nbformat": 4,
 "nbformat_minor": 0
}
