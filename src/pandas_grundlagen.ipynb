{
 "cells": [
  {
   "cell_type": "code",
   "execution_count": 2,
   "metadata": {
    "collapsed": true
   },
   "outputs": [
    {
     "name": "stdout",
     "output_type": "stream",
     "text": [
      "0      Montag\n",
      "1    Dienstag\n",
      "2    Mittwoch\n",
      "dtype: object\n"
     ]
    }
   ],
   "source": [
    "import pandas as pd\n",
    "a=[\"Montag\",\"Dienstag\",\"Mittwoch\"]\n",
    "pds = pd.Series(a)\n",
    "print(pds)"
   ]
  },
  {
   "cell_type": "code",
   "execution_count": 4,
   "outputs": [
    {
     "data": {
      "text/plain": "x    1\ny    2\nz    3\nName: Namen, dtype: int64"
     },
     "execution_count": 4,
     "metadata": {},
     "output_type": "execute_result"
    }
   ],
   "source": [
    "a = [1,2,3]\n",
    "pdsindtitel = pd.Series(a,index=[\"x\",\"y\",\"z\"],name=\"Namen\")\n",
    "pdsindtitel"
   ],
   "metadata": {
    "collapsed": false
   }
  },
  {
   "cell_type": "code",
   "execution_count": 7,
   "outputs": [
    {
     "data": {
      "text/plain": "a    100.0\nc    300.0\na    100.0\nb    200.0\nd      NaN\ndtype: float64"
     },
     "execution_count": 7,
     "metadata": {},
     "output_type": "execute_result"
    }
   ],
   "source": [
    "data = {\"a\":100, \"b\":200, \"c\":300,\"e\":500}\n",
    "ser = pd.Series(data,index=[\"a\",\"c\",\"a\",\"b\",\"d\"])\n",
    "ser"
   ],
   "metadata": {
    "collapsed": false
   }
  },
  {
   "cell_type": "code",
   "execution_count": 8,
   "outputs": [
    {
     "data": {
      "text/plain": "0    5\n1    5\n2    5\n3    5\ndtype: int64"
     },
     "execution_count": 8,
     "metadata": {},
     "output_type": "execute_result"
    }
   ],
   "source": [
    "pd.Series(5, index=[0,1,2,3])"
   ],
   "metadata": {
    "collapsed": false
   }
  },
  {
   "cell_type": "code",
   "execution_count": 23,
   "outputs": [
    {
     "name": "stdout",
     "output_type": "stream",
     "text": [
      "0    a\n",
      "1    C\n",
      "2    D\n",
      "3    f\n",
      "4    r\n",
      "5    t\n",
      "6    z\n",
      "dtype: object\n",
      "2    D\n",
      "0    a\n",
      "5    t\n",
      "0    a\n",
      "1    C\n",
      "4    r\n",
      "0    a\n",
      "3    f\n",
      "5    t\n",
      "dtype: object\n",
      "['D', 'a', 't', 'a', 'C', 'r', 'a', 'f', 't']\n",
      "9\n",
      "D***a***t***a***C***r***a***f***t\n"
     ]
    }
   ],
   "source": [
    "meine_liste = [\"a\",\"C\",\"D\",\"f\",\"r\",\"t\",\"z\"]\n",
    "def umwandler():\n",
    "    wort = pd.Series(meine_liste)\n",
    "    print(wort)\n",
    "    neue_series = pd.Series(wort, index=[2,0,5,0,1,4,0,3,5])\n",
    "    print(neue_series)\n",
    "    ldc = neue_series.tolist()\n",
    "    print(ldc)\n",
    "    print(neue_series.count())\n",
    "    return ldc\n",
    "\n",
    "ergebnisliste = umwandler()\n",
    "print(\"***\".join(ergebnisliste))"
   ],
   "metadata": {
    "collapsed": false
   }
  },
  {
   "cell_type": "code",
   "execution_count": 25,
   "outputs": [
    {
     "data": {
      "text/plain": "a     5.0\nb    60.0\nc     NaN\nd     NaN\ndtype: float64"
     },
     "execution_count": 25,
     "metadata": {},
     "output_type": "execute_result"
    }
   ],
   "source": [
    "ser1 = pd.Series([0,10,100], index=['a','b','c'])\n",
    "ser2 = pd.Series([5,50,500], index=['a','b','d'])\n",
    "ser1+ser2\n",
    "ser3=ser1+ser2\n",
    "ser3"
   ],
   "metadata": {
    "collapsed": false
   }
  },
  {
   "cell_type": "code",
   "execution_count": 28,
   "outputs": [
    {
     "data": {
      "text/plain": "a      5.0\nb     60.0\nc    100.0\nd    500.0\ndtype: float64"
     },
     "execution_count": 28,
     "metadata": {},
     "output_type": "execute_result"
    }
   ],
   "source": [
    "ser1.add(ser2,fill_value=0)"
   ],
   "metadata": {
    "collapsed": false
   }
  },
  {
   "cell_type": "code",
   "execution_count": 30,
   "outputs": [
    {
     "name": "stdout",
     "output_type": "stream",
     "text": [
      "110\n",
      "555\n"
     ]
    },
    {
     "data": {
      "text/plain": "665"
     },
     "execution_count": 30,
     "metadata": {},
     "output_type": "execute_result"
    }
   ],
   "source": [
    "print(ser1.sum())\n",
    "print(ser2.sum())\n",
    "ser1.sum()+ser2.sum()"
   ],
   "metadata": {
    "collapsed": false
   }
  },
  {
   "cell_type": "code",
   "execution_count": 50,
   "outputs": [],
   "source": [
    "data = {\"Sportart\": [\"Fussball\",\"Handball\",\"Basketball\",\"Eishockey\"],\n",
    "        \"Spielzeit\": [90,60,40,60],\n",
    "        \"Spielzeit1\": [900,600,400,600],\n",
    "        \"Spielzeit2\": [950,650,450,650],\n",
    "        \"Spielzeit3\": [900,600,400,600],\n",
    "}\n",
    "\n",
    "df = pd.DataFrame(data,columns=[\"Sportart\",\"Spielzeit3\",\"Spielzeit2\",\"Spielzeit1\",\"Spielzeit\"])"
   ],
   "metadata": {
    "collapsed": false
   }
  },
  {
   "cell_type": "code",
   "execution_count": 64,
   "outputs": [
    {
     "name": "stdout",
     "output_type": "stream",
     "text": [
      "eins    1\n",
      "zwei    2\n",
      "drei    3\n",
      "vier    4\n",
      "fünf    5\n",
      "dtype: int64\n",
      "1\n",
      "4\n",
      "3\n",
      "Bereich:  eins    1\n",
      "zwei    2\n",
      "drei    3\n",
      "vier    4\n",
      "dtype: int64\n",
      "Bereich 2:  zwei    2\n",
      "drei    3\n",
      "dtype: int64\n"
     ]
    }
   ],
   "source": [
    "# Zugriff auf Zeile\n",
    "# loc\n",
    "# iloc\n",
    "\n",
    "neue_series = pd.Series([1,2,3,4,5], index=[\"eins\",\"zwei\",\"drei\",\"vier\",\"fünf\"])\n",
    "print(neue_series)\n",
    "print(neue_series.loc[\"eins\"])\n",
    "print(neue_series.iloc[3])\n",
    "print(neue_series[\"drei\"])\n",
    "\n",
    "print(\"Bereich: \",neue_series[\"eins\":\"vier\"])\n",
    "print(\"Bereich 2: \",neue_series[1:3])"
   ],
   "metadata": {
    "collapsed": false
   }
  },
  {
   "cell_type": "code",
   "execution_count": 66,
   "outputs": [
    {
     "data": {
      "text/plain": "0    810\n1    540\n2    360\n3    540\ndtype: int64"
     },
     "execution_count": 66,
     "metadata": {},
     "output_type": "execute_result"
    }
   ],
   "source": [
    "df[\"Spielzeit4\"] = df[\"Spielzeit2\"]+df[\"Spielzeit3\"]\n",
    "df\n",
    "df[\"Spielzeit3\"]-df[\"Spielzeit\"]"
   ],
   "metadata": {
    "collapsed": false
   }
  },
  {
   "cell_type": "code",
   "execution_count": 70,
   "outputs": [
    {
     "data": {
      "text/plain": "       Sportart  Dauer pro Spiel\nSP1    Fussball               90\nSP2    Handball               60\nSP3  Basketball               40\nSP4   Eishockey               60",
      "text/html": "<div>\n<style scoped>\n    .dataframe tbody tr th:only-of-type {\n        vertical-align: middle;\n    }\n\n    .dataframe tbody tr th {\n        vertical-align: top;\n    }\n\n    .dataframe thead th {\n        text-align: right;\n    }\n</style>\n<table border=\"1\" class=\"dataframe\">\n  <thead>\n    <tr style=\"text-align: right;\">\n      <th></th>\n      <th>Sportart</th>\n      <th>Dauer pro Spiel</th>\n    </tr>\n  </thead>\n  <tbody>\n    <tr>\n      <th>SP1</th>\n      <td>Fussball</td>\n      <td>90</td>\n    </tr>\n    <tr>\n      <th>SP2</th>\n      <td>Handball</td>\n      <td>60</td>\n    </tr>\n    <tr>\n      <th>SP3</th>\n      <td>Basketball</td>\n      <td>40</td>\n    </tr>\n    <tr>\n      <th>SP4</th>\n      <td>Eishockey</td>\n      <td>60</td>\n    </tr>\n  </tbody>\n</table>\n</div>"
     },
     "execution_count": 70,
     "metadata": {},
     "output_type": "execute_result"
    }
   ],
   "source": [
    "data = {\"Sportart\": [\"Fussball\",\"Handball\",\"Basketball\",\"Eishockey\"],\n",
    "        \"Dauer pro Spiel\": [90,60,40,60]\n",
    "}\n",
    "\n",
    "df = pd.DataFrame(data, index=[\"SP1\",\"SP2\",\"SP3\",\"SP4\"], columns=[\"Sportart\",\"Dauer pro Spiel\"])\n",
    "df"
   ],
   "metadata": {
    "collapsed": false
   }
  },
  {
   "cell_type": "code",
   "execution_count": 72,
   "outputs": [
    {
     "data": {
      "text/plain": "            Art  Spielzeit\nSP1    Fussball         90\nSP2    Handball         60\nSP3  Basketball         40\nSP4   Eishockey         60",
      "text/html": "<div>\n<style scoped>\n    .dataframe tbody tr th:only-of-type {\n        vertical-align: middle;\n    }\n\n    .dataframe tbody tr th {\n        vertical-align: top;\n    }\n\n    .dataframe thead th {\n        text-align: right;\n    }\n</style>\n<table border=\"1\" class=\"dataframe\">\n  <thead>\n    <tr style=\"text-align: right;\">\n      <th></th>\n      <th>Art</th>\n      <th>Spielzeit</th>\n    </tr>\n  </thead>\n  <tbody>\n    <tr>\n      <th>SP1</th>\n      <td>Fussball</td>\n      <td>90</td>\n    </tr>\n    <tr>\n      <th>SP2</th>\n      <td>Handball</td>\n      <td>60</td>\n    </tr>\n    <tr>\n      <th>SP3</th>\n      <td>Basketball</td>\n      <td>40</td>\n    </tr>\n    <tr>\n      <th>SP4</th>\n      <td>Eishockey</td>\n      <td>60</td>\n    </tr>\n  </tbody>\n</table>\n</div>"
     },
     "execution_count": 72,
     "metadata": {},
     "output_type": "execute_result"
    }
   ],
   "source": [
    "df.rename(columns = {'Sportart':'Art','Dauer pro Spiel':'Spielzeit'},inplace=True)\n",
    "df"
   ],
   "metadata": {
    "collapsed": false
   }
  },
  {
   "cell_type": "code",
   "execution_count": 73,
   "outputs": [
    {
     "data": {
      "text/plain": "       Sportart  Dauer pro Spiel\nSP1    Fussball               90\nSP2    Handball               60\nSP3  Basketball               40\nSP4   Eishockey               60",
      "text/html": "<div>\n<style scoped>\n    .dataframe tbody tr th:only-of-type {\n        vertical-align: middle;\n    }\n\n    .dataframe tbody tr th {\n        vertical-align: top;\n    }\n\n    .dataframe thead th {\n        text-align: right;\n    }\n</style>\n<table border=\"1\" class=\"dataframe\">\n  <thead>\n    <tr style=\"text-align: right;\">\n      <th></th>\n      <th>Sportart</th>\n      <th>Dauer pro Spiel</th>\n    </tr>\n  </thead>\n  <tbody>\n    <tr>\n      <th>SP1</th>\n      <td>Fussball</td>\n      <td>90</td>\n    </tr>\n    <tr>\n      <th>SP2</th>\n      <td>Handball</td>\n      <td>60</td>\n    </tr>\n    <tr>\n      <th>SP3</th>\n      <td>Basketball</td>\n      <td>40</td>\n    </tr>\n    <tr>\n      <th>SP4</th>\n      <td>Eishockey</td>\n      <td>60</td>\n    </tr>\n  </tbody>\n</table>\n</div>"
     },
     "execution_count": 73,
     "metadata": {},
     "output_type": "execute_result"
    }
   ],
   "source": [
    "df.columns = [\"Sportart\",\"Dauer pro Spiel\"]\n",
    "df"
   ],
   "metadata": {
    "collapsed": false
   }
  },
  {
   "cell_type": "code",
   "execution_count": 74,
   "outputs": [
    {
     "name": "stdout",
     "output_type": "stream",
     "text": [
      "Jahre\n",
      "Jahre [2019, 2020, 2021]\n"
     ]
    }
   ],
   "source": [
    "#Beispiel für DataFrame, wenn es vorher einfach \"nur\" einzelne Series sind\n",
    "print(\"Jahre\")\n",
    "import pandas as pd\n",
    "jahre = list(range(2019,2022))\n",
    "print(\"Jahre\", jahre)\n",
    "beob1 = pd.Series([1,2,3],index=jahre)\n",
    "beob2 = pd.Series([4,5,6],index=jahre)\n",
    "beob3 = pd.Series([7,8,9],index=jahre)"
   ],
   "metadata": {
    "collapsed": false
   }
  },
  {
   "cell_type": "code",
   "execution_count": 75,
   "outputs": [
    {
     "name": "stdout",
     "output_type": "stream",
     "text": [
      "   2019  2020  2021\n",
      "0     1     2     3\n",
      "1     4     5     6\n",
      "2     7     8     9\n"
     ]
    }
   ],
   "source": [
    "jahresübersicht = pd.DataFrame([beob1,beob2,beob3])\n",
    "print(jahresübersicht)"
   ],
   "metadata": {
    "collapsed": false
   }
  },
  {
   "cell_type": "code",
   "execution_count": 78,
   "outputs": [
    {
     "data": {
      "text/plain": "   2019  2020  2021  2022\n0     1     2     3     9\n1     4     5     6    36\n2     7     8     9    81",
      "text/html": "<div>\n<style scoped>\n    .dataframe tbody tr th:only-of-type {\n        vertical-align: middle;\n    }\n\n    .dataframe tbody tr th {\n        vertical-align: top;\n    }\n\n    .dataframe thead th {\n        text-align: right;\n    }\n</style>\n<table border=\"1\" class=\"dataframe\">\n  <thead>\n    <tr style=\"text-align: right;\">\n      <th></th>\n      <th>2019</th>\n      <th>2020</th>\n      <th>2021</th>\n      <th>2022</th>\n    </tr>\n  </thead>\n  <tbody>\n    <tr>\n      <th>0</th>\n      <td>1</td>\n      <td>2</td>\n      <td>3</td>\n      <td>9</td>\n    </tr>\n    <tr>\n      <th>1</th>\n      <td>4</td>\n      <td>5</td>\n      <td>6</td>\n      <td>36</td>\n    </tr>\n    <tr>\n      <th>2</th>\n      <td>7</td>\n      <td>8</td>\n      <td>9</td>\n      <td>81</td>\n    </tr>\n  </tbody>\n</table>\n</div>"
     },
     "execution_count": 78,
     "metadata": {},
     "output_type": "execute_result"
    }
   ],
   "source": [
    "jahresübersicht[2022] = jahresübersicht[2021]**2\n",
    "jahresübersicht"
   ],
   "metadata": {
    "collapsed": false
   }
  },
  {
   "cell_type": "code",
   "execution_count": 83,
   "outputs": [
    {
     "name": "stdout",
     "output_type": "stream",
     "text": [
      "      0  1  2\n",
      "2019  1  4  7\n",
      "2020  2  5  8\n",
      "2021  3  6  9\n"
     ]
    }
   ],
   "source": [
    "print(pd.concat([beob1,beob2,beob3], axis=1))"
   ],
   "metadata": {
    "collapsed": false
   }
  },
  {
   "cell_type": "markdown",
   "source": [
    "## Übungsaufgabe DataFrame mit Pandas\n",
    "\n",
    "Du interessierst dich dafür, wie viel Zeit  bei deinen Lieblingssportarten eigentlich wirklich gespielt wird und wie groß die Differenz zur wirklich gespielten Zeit ist.\n",
    "\n",
    "Du bist Fan von den Sportarten Fussball, Basketball, Handball, Eishockey und (American) Football.\n",
    "\n",
    "Suche dafür die offiziellen Spielzeiten heraus (Basketball gern NBA-Regeln) und erstelle eine Series mit passendem Index.\n",
    "\n",
    "Suche dafür die Nettospielzeiten heraus [hier]https://www.srf.ch/radio-srf-3/aktuell/netto-spielzeit-so-viel-sport-sehen-wir-wirklich"
   ],
   "metadata": {
    "collapsed": false
   }
  },
  {
   "cell_type": "code",
   "execution_count": 1,
   "outputs": [
    {
     "ename": "NameError",
     "evalue": "name 'pd' is not defined",
     "output_type": "error",
     "traceback": [
      "\u001B[1;31m---------------------------------------------------------------------------\u001B[0m",
      "\u001B[1;31mNameError\u001B[0m                                 Traceback (most recent call last)",
      "Cell \u001B[1;32mIn[1], line 5\u001B[0m\n\u001B[0;32m      1\u001B[0m sportarten \u001B[38;5;241m=\u001B[39m [\u001B[38;5;124m\"\u001B[39m\u001B[38;5;124mFussball\u001B[39m\u001B[38;5;124m\"\u001B[39m,\u001B[38;5;124m\"\u001B[39m\u001B[38;5;124mBasketball\u001B[39m\u001B[38;5;124m\"\u001B[39m,\u001B[38;5;124m\"\u001B[39m\u001B[38;5;124mHandball\u001B[39m\u001B[38;5;124m\"\u001B[39m,\u001B[38;5;124m\"\u001B[39m\u001B[38;5;124mEishockey\u001B[39m\u001B[38;5;124m\"\u001B[39m,\u001B[38;5;124m\"\u001B[39m\u001B[38;5;124mFootball\u001B[39m\u001B[38;5;124m\"\u001B[39m]\n\u001B[0;32m      2\u001B[0m data \u001B[38;5;241m=\u001B[39m {\u001B[38;5;124m\"\u001B[39m\u001B[38;5;124mDauer pro Spiel\u001B[39m\u001B[38;5;124m\"\u001B[39m: [\u001B[38;5;241m90\u001B[39m,\u001B[38;5;241m12\u001B[39m\u001B[38;5;241m*\u001B[39m\u001B[38;5;241m4\u001B[39m,\u001B[38;5;241m60\u001B[39m,\u001B[38;5;241m60\u001B[39m,\u001B[38;5;241m180\u001B[39m],\n\u001B[0;32m      3\u001B[0m         \u001B[38;5;124m\"\u001B[39m\u001B[38;5;124mWirkliche Dauer\u001B[39m\u001B[38;5;124m\"\u001B[39m: [\u001B[38;5;241m57\u001B[39m,\u001B[38;5;241m43\u001B[39m,\u001B[38;5;241m48\u001B[39m,\u001B[38;5;241m60\u001B[39m,\u001B[38;5;241m180\u001B[39m\u001B[38;5;241m*\u001B[39m\u001B[38;5;241m0.058\u001B[39m]\n\u001B[0;32m      4\u001B[0m }\n\u001B[1;32m----> 5\u001B[0m df \u001B[38;5;241m=\u001B[39m \u001B[43mpd\u001B[49m\u001B[38;5;241m.\u001B[39mDataFrame(data,columns\u001B[38;5;241m=\u001B[39m[\u001B[38;5;124m\"\u001B[39m\u001B[38;5;124mDauer pro Spiel\u001B[39m\u001B[38;5;124m\"\u001B[39m,\u001B[38;5;124m\"\u001B[39m\u001B[38;5;124mWirkliche Dauer\u001B[39m\u001B[38;5;124m\"\u001B[39m], index\u001B[38;5;241m=\u001B[39msportarten)\n\u001B[0;32m      6\u001B[0m df[\u001B[38;5;124m\"\u001B[39m\u001B[38;5;124mDifferenz\u001B[39m\u001B[38;5;124m\"\u001B[39m] \u001B[38;5;241m=\u001B[39m df[\u001B[38;5;124m\"\u001B[39m\u001B[38;5;124mDauer pro Spiel\u001B[39m\u001B[38;5;124m\"\u001B[39m]\u001B[38;5;241m-\u001B[39mdf[\u001B[38;5;124m\"\u001B[39m\u001B[38;5;124mWirkliche Dauer\u001B[39m\u001B[38;5;124m\"\u001B[39m]\n\u001B[0;32m      7\u001B[0m \u001B[38;5;28mprint\u001B[39m(df)\n",
      "\u001B[1;31mNameError\u001B[0m: name 'pd' is not defined"
     ]
    }
   ],
   "source": [
    "sportarten = [\"Fussball\",\"Basketball\",\"Handball\",\"Eishockey\",\"Football\"]\n",
    "data = {\"Dauer pro Spiel\": [90,12*4,60,60,180],\n",
    "        \"Wirkliche Dauer\": [57,43,48,60,180*0.058]\n",
    "}\n",
    "df = pd.DataFrame(data,columns=[\"Dauer pro Spiel\",\"Wirkliche Dauer\"], index=sportarten)\n",
    "df[\"Differenz\"] = df[\"Dauer pro Spiel\"]-df[\"Wirkliche Dauer\"]\n",
    "print(df)\n",
    "print(df.loc[\"Basketball\"])"
   ],
   "metadata": {
    "collapsed": false
   }
  },
  {
   "cell_type": "code",
   "execution_count": 15,
   "outputs": [
    {
     "data": {
      "text/plain": "   id      name  alter\nx   1      Hyun     28\ny   2    Viktor     34\nz   3  Valentin     30\na   4  Brigitte     55",
      "text/html": "<div>\n<style scoped>\n    .dataframe tbody tr th:only-of-type {\n        vertical-align: middle;\n    }\n\n    .dataframe tbody tr th {\n        vertical-align: top;\n    }\n\n    .dataframe thead th {\n        text-align: right;\n    }\n</style>\n<table border=\"1\" class=\"dataframe\">\n  <thead>\n    <tr style=\"text-align: right;\">\n      <th></th>\n      <th>id</th>\n      <th>name</th>\n      <th>alter</th>\n    </tr>\n  </thead>\n  <tbody>\n    <tr>\n      <th>x</th>\n      <td>1</td>\n      <td>Hyun</td>\n      <td>28</td>\n    </tr>\n    <tr>\n      <th>y</th>\n      <td>2</td>\n      <td>Viktor</td>\n      <td>34</td>\n    </tr>\n    <tr>\n      <th>z</th>\n      <td>3</td>\n      <td>Valentin</td>\n      <td>30</td>\n    </tr>\n    <tr>\n      <th>a</th>\n      <td>4</td>\n      <td>Brigitte</td>\n      <td>55</td>\n    </tr>\n  </tbody>\n</table>\n</div>"
     },
     "execution_count": 15,
     "metadata": {},
     "output_type": "execute_result"
    }
   ],
   "source": [
    "import pandas as pd\n",
    "df = pd.DataFrame({\"id\": [1,2,3,4],\n",
    "              \"name\": [\"Hyun\",\"Viktor\",\"Valentin\",\"Brigitte\"],\n",
    "              \"alter\": [28,34,30,55]},\n",
    "            index=[\"x\",\"y\",\"z\",\"a\"])\n",
    "df"
   ],
   "metadata": {
    "collapsed": false
   }
  },
  {
   "cell_type": "code",
   "execution_count": 18,
   "outputs": [
    {
     "data": {
      "text/plain": "Index(['a', 'b', 'c', 'd'], dtype='object')"
     },
     "execution_count": 18,
     "metadata": {},
     "output_type": "execute_result"
    }
   ],
   "source": [
    "df.index = [\"a\",\"b\",\"c\",\"d\"]\n",
    "df.index"
   ],
   "metadata": {
    "collapsed": false
   }
  },
  {
   "cell_type": "code",
   "execution_count": 19,
   "outputs": [
    {
     "data": {
      "text/plain": "   id      name  alter\na   1      Hyun     28\nb   2    Viktor     34\nc   3  Valentin     30\nd   4  Brigitte     55",
      "text/html": "<div>\n<style scoped>\n    .dataframe tbody tr th:only-of-type {\n        vertical-align: middle;\n    }\n\n    .dataframe tbody tr th {\n        vertical-align: top;\n    }\n\n    .dataframe thead th {\n        text-align: right;\n    }\n</style>\n<table border=\"1\" class=\"dataframe\">\n  <thead>\n    <tr style=\"text-align: right;\">\n      <th></th>\n      <th>id</th>\n      <th>name</th>\n      <th>alter</th>\n    </tr>\n  </thead>\n  <tbody>\n    <tr>\n      <th>a</th>\n      <td>1</td>\n      <td>Hyun</td>\n      <td>28</td>\n    </tr>\n    <tr>\n      <th>b</th>\n      <td>2</td>\n      <td>Viktor</td>\n      <td>34</td>\n    </tr>\n    <tr>\n      <th>c</th>\n      <td>3</td>\n      <td>Valentin</td>\n      <td>30</td>\n    </tr>\n    <tr>\n      <th>d</th>\n      <td>4</td>\n      <td>Brigitte</td>\n      <td>55</td>\n    </tr>\n  </tbody>\n</table>\n</div>"
     },
     "execution_count": 19,
     "metadata": {},
     "output_type": "execute_result"
    }
   ],
   "source": [
    "df"
   ],
   "metadata": {
    "collapsed": false
   }
  },
  {
   "cell_type": "code",
   "execution_count": null,
   "outputs": [],
   "source": [],
   "metadata": {
    "collapsed": false
   }
  }
 ],
 "metadata": {
  "kernelspec": {
   "display_name": "Python 3",
   "language": "python",
   "name": "python3"
  },
  "language_info": {
   "codemirror_mode": {
    "name": "ipython",
    "version": 2
   },
   "file_extension": ".py",
   "mimetype": "text/x-python",
   "name": "python",
   "nbconvert_exporter": "python",
   "pygments_lexer": "ipython2",
   "version": "2.7.6"
  }
 },
 "nbformat": 4,
 "nbformat_minor": 0
}
