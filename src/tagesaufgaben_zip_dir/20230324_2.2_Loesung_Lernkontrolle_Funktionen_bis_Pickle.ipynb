{
 "cells": [
  {
   "cell_type": "markdown",
   "source": [
    "<br><br><center><h1 style=\"font-size:2em;color:#2467C0\">Lernkontrolle 24.03.2023</h1></center>\n",
    "<br>\n"
   ],
   "metadata": {
    "collapsed": false
   }
  },
  {
   "cell_type": "markdown",
   "source": [
    "## Punkteschema\n",
    "\n",
    "* Aufgaben 1-3: jeweils 8 Punkte möglich\n",
    "* Aufgabe 4: 8 Punkte + 4 Bonuspunkte möglich\n",
    "* Aufgabe 5: 6 Punkte möglich\n",
    "* Aufgaben 6-10: jeweils 4 Punkte möglich\n",
    "* Aufgabe 11: 6 Punkte möglich\n",
    "* Aufgabe 12: 8 Punkte möglich"
   ],
   "metadata": {
    "collapsed": false
   }
  },
  {
   "cell_type": "markdown",
   "source": [
    "1. Schreibe eine Funktion, die als Parameter einen beliebigen Namen aufnimmt und als Ergebnis z.B. folgendes druckt: \"Hallo Valentin! Wie geht es dir?\" Nutze dafür bitte f-String-Formatierung. Gib der Funktionen einen sinnvollen Namen und beachte die Schreibweise von Funktionen nach PEP-8."
   ],
   "metadata": {
    "collapsed": false
   }
  },
  {
   "cell_type": "code",
   "execution_count": 3,
   "outputs": [
    {
     "name": "stdout",
     "output_type": "stream",
     "text": [
      "Hallo Valentin! Wie geht es dir?\n"
     ]
    }
   ],
   "source": [
    "def grusswort(name):\n",
    "    print(f\"Hallo {name}! Wie geht es dir?\")\n",
    "grusswort(\"Valentin\")"
   ],
   "metadata": {
    "collapsed": false
   }
  },
  {
   "cell_type": "markdown",
   "source": [
    "2. Schreibe eine Funktion, die drei Zahlen aufnimmt, die ersten beiden miteinander multipliziert und das Ergebnis durch die letzte teilt. Die Funktion soll das Ergebnis nicht printen, sondern zurückgeben. Gib der Funktionen einen sinnvollen Namen. Die Zahlen sollen außerdem folgende Standardwerte annehmen: 5,5,10."
   ],
   "metadata": {
    "collapsed": false
   }
  },
  {
   "cell_type": "code",
   "execution_count": 6,
   "outputs": [],
   "source": [
    "def dreier_rechner(x=5, y=5, z=10):\n",
    "    return (x*y/z)"
   ],
   "metadata": {
    "collapsed": false
   }
  },
  {
   "cell_type": "code",
   "execution_count": 7,
   "outputs": [
    {
     "data": {
      "text/plain": "2.5"
     },
     "execution_count": 7,
     "metadata": {},
     "output_type": "execute_result"
    }
   ],
   "source": [
    "dreier_rechner()"
   ],
   "metadata": {
    "collapsed": false
   }
  },
  {
   "cell_type": "code",
   "execution_count": 8,
   "outputs": [
    {
     "data": {
      "text/plain": "20.0"
     },
     "execution_count": 8,
     "metadata": {},
     "output_type": "execute_result"
    }
   ],
   "source": [
    "dreier_rechner(10,10,5)"
   ],
   "metadata": {
    "collapsed": false
   }
  },
  {
   "cell_type": "markdown",
   "source": [
    "3. Schreibe eine Funktion, die beliebig viele Zahlen aufnehmen kann und die Summe sowie die Anzahl der summierten Zahlen ausgibt."
   ],
   "metadata": {
    "collapsed": false
   }
  },
  {
   "cell_type": "code",
   "execution_count": 9,
   "outputs": [],
   "source": [
    "def summen_maker(*args):\n",
    "    return sum(args), len(args)"
   ],
   "metadata": {
    "collapsed": false
   }
  },
  {
   "cell_type": "code",
   "execution_count": 10,
   "outputs": [
    {
     "data": {
      "text/plain": "(10, 4)"
     },
     "execution_count": 10,
     "metadata": {},
     "output_type": "execute_result"
    }
   ],
   "source": [
    "summen_maker(1,2,3,4)"
   ],
   "metadata": {
    "collapsed": false
   }
  },
  {
   "cell_type": "markdown",
   "source": [
    "4. Schreibe einen Code mittels f-String-Formatierung, der folgendes printet: \"Hallo Valentin! Du befindest dich in Berlin. Die Temperatur liegt bei 22° Celsius. Ich wünsche dir einen schönen Tag!\" Optional für Bonuspunkte: Anstatt immer ort und nutzer neu auszufüllen, schreibe den Code um, damit diese Werte immer als Input vom Nutzer kommen! Die Temperatur belassen wir bei 22° Celsius, da der Nutzer sie ja nicht eingeben soll, um sie zu erhalten. (Wie man Temperatur aus dem Internet dazuholen könnte, muss warten, bis wir uns mit dem Thema Scraping beschäftigen. ;))"
   ],
   "metadata": {
    "collapsed": false
   }
  },
  {
   "cell_type": "code",
   "execution_count": 11,
   "outputs": [],
   "source": [
    "nutzer = \"Valentin\"\n",
    "ort = \"Berlin\"\n",
    "temperatur = \"22° Celsius\""
   ],
   "metadata": {
    "collapsed": false
   }
  },
  {
   "cell_type": "code",
   "execution_count": 12,
   "outputs": [
    {
     "name": "stdout",
     "output_type": "stream",
     "text": [
      "Hallo Valentin! Du befindest dich in Berlin. Die Temperatur liegt bei 22° Celsius. Ich wünsche dir einen schönen Tag!\n"
     ]
    }
   ],
   "source": [
    "print(f\"Hallo {nutzer}! Du befindest dich in {ort}. Die Temperatur liegt bei {temperatur}. Ich wünsche dir einen schönen Tag!\")"
   ],
   "metadata": {
    "collapsed": false
   }
  },
  {
   "cell_type": "code",
   "execution_count": 21,
   "outputs": [
    {
     "name": "stdout",
     "output_type": "stream",
     "text": [
      "Hallo Valentin! Du befindest dich in Berlin. Die Temperatur liegt bei 22° Celsius. Ich wünsche dir einen schönen Tag!\n"
     ]
    }
   ],
   "source": [
    "nutzer = input(\"Bitte gib deinen Namen ein:\")\n",
    "ort = input(\"Bitte gib deinen Aufenthaltsort ein:\")\n",
    "temperatur = \"22° Celsius\"\n",
    "print(f\"Hallo {nutzer}! Du befindest dich in {ort}. Die Temperatur liegt bei {temperatur}. Ich wünsche dir einen schönen Tag!\")"
   ],
   "metadata": {
    "collapsed": false
   }
  },
  {
   "cell_type": "markdown",
   "source": [
    "5. Du hast eine lange Liste namens lotterie mit verschiedenen Werten. Mehrfach kommt darin auch das Wort \"Gewinn\" vor. Lasse dir alle Vorkommnisse von \"Gewinn\" ausgeben und zwar mit dem zugehörigen Index. Du hast diese Woche etwas gelernt, was dir das in leichter Form ermöglicht. Bitte setze dieses Mittel ein."
   ],
   "metadata": {
    "collapsed": false
   }
  },
  {
   "cell_type": "code",
   "execution_count": 22,
   "outputs": [],
   "source": [
    "lotterie = [\"38\", \"Fisch\", \"72\", \"Gewinn\", \"Verlust\", \"21\", \"Hund\", \"45\", \"Katze\", \"66\", \"Gewinn\", \"57\", \"Elefant\", \"33\", \"Kuh\", \"49\", \"Verlust\", \"84\", \"Gewinn\", \"75\", \"Bär\", \"91\", \"Papagei\", \"19\", \"Gewinn\", \"12\", \"Schlange\", \"62\", \"Pferd\", \"43\", \"Gewinn\", \"23\", \"Giraffe\", \"27\", \"Verlust\", \"58\", \"Gewinn\", \"96\", \"Schaf\", \"30\", \"Hase\", \"87\", \"Gewinn\", \"67\", \"Zebra\", \"51\", \"Flamingo\", \"42\", \"Verlust\", \"99\", \"Gewinn\", \"55\", \"Krokodil\", \"36\", \"Gewinn\", \"71\", \"Tiger\", \"29\", \"Nashorn\", \"88\", \"Gewinn\", \"18\", \"Eule\", \"48\", \"Löwe\", \"81\", \"Verlust\", \"64\", \"Gewinn\", \"39\", \"Delfin\", \"46\", \"Fuchs\", \"78\", \"Gewinn\", \"54\", \"Ente\", \"10\", \"Schwein\", \"82\", \"Adler\", \"35\", \"Gewinn\", \"50\", \"Gepard\", \"95\", \"P\"]"
   ],
   "metadata": {
    "collapsed": false
   }
  },
  {
   "cell_type": "code",
   "execution_count": 23,
   "outputs": [
    {
     "name": "stdout",
     "output_type": "stream",
     "text": [
      "Gewinn an Position 3!\n",
      "Gewinn an Position 10!\n",
      "Gewinn an Position 18!\n",
      "Gewinn an Position 24!\n",
      "Gewinn an Position 30!\n",
      "Gewinn an Position 36!\n",
      "Gewinn an Position 42!\n",
      "Gewinn an Position 50!\n",
      "Gewinn an Position 54!\n",
      "Gewinn an Position 60!\n",
      "Gewinn an Position 68!\n",
      "Gewinn an Position 74!\n",
      "Gewinn an Position 82!\n"
     ]
    }
   ],
   "source": [
    "for i, eintrag in enumerate(lotterie):\n",
    "    if eintrag == \"Gewinn\":\n",
    "        print(f\"{eintrag} an Position {i}!\")"
   ],
   "metadata": {
    "collapsed": false
   }
  },
  {
   "cell_type": "markdown",
   "source": [
    "6. Lege mithilfe von os einen Ordner namens \"lernkontrolle\" an. Prüfe danach, ob der Ordner wirklich existiert mithilfe der Funktionalitäten, die dir os zur Verfügung stellt."
   ],
   "metadata": {
    "collapsed": false
   }
  },
  {
   "cell_type": "code",
   "execution_count": 24,
   "outputs": [],
   "source": [
    "import os\n",
    "os.mkdir(\"lernkontrolle\")"
   ],
   "metadata": {
    "collapsed": false
   }
  },
  {
   "cell_type": "code",
   "execution_count": 25,
   "outputs": [
    {
     "data": {
      "text/plain": "True"
     },
     "execution_count": 25,
     "metadata": {},
     "output_type": "execute_result"
    }
   ],
   "source": [
    "os.path.isdir(\"lernkontrolle\")"
   ],
   "metadata": {
    "collapsed": false
   }
  },
  {
   "cell_type": "markdown",
   "source": [
    "7. Nun erstelle im Ordner lernkontrolle ein Textdokument mit dem Namen lotterie.txt, in das du die Werte aus deiner lotterieliste, durch Kommata voneinander getrennt, schreibst."
   ],
   "metadata": {
    "collapsed": false
   }
  },
  {
   "cell_type": "code",
   "execution_count": 26,
   "outputs": [],
   "source": [
    "with open(\"lernkontrolle\\\\lotterie.txt\", \"w\") as f:\n",
    "    f.writelines([eintrag+\",\" for eintrag in lotterie])"
   ],
   "metadata": {
    "collapsed": false
   }
  },
  {
   "cell_type": "markdown",
   "source": [
    "8. Lies lotterie.txt nun wieder ein und speichere den Inhalt in eine Variable."
   ],
   "metadata": {
    "collapsed": false
   }
  },
  {
   "cell_type": "code",
   "execution_count": 27,
   "outputs": [],
   "source": [
    "with open(\"lernkontrolle\\\\lotterie.txt\", \"r\") as f:\n",
    "    lotterie_2 = f.read()"
   ],
   "metadata": {
    "collapsed": false
   }
  },
  {
   "cell_type": "code",
   "execution_count": 28,
   "outputs": [
    {
     "data": {
      "text/plain": "'38,Fisch,72,Gewinn,Verlust,21,Hund,45,Katze,66,Gewinn,57,Elefant,33,Kuh,49,Verlust,84,Gewinn,75,Bär,91,Papagei,19,Gewinn,12,Schlange,62,Pferd,43,Gewinn,23,Giraffe,27,Verlust,58,Gewinn,96,Schaf,30,Hase,87,Gewinn,67,Zebra,51,Flamingo,42,Verlust,99,Gewinn,55,Krokodil,36,Gewinn,71,Tiger,29,Nashorn,88,Gewinn,18,Eule,48,Löwe,81,Verlust,64,Gewinn,39,Delfin,46,Fuchs,78,Gewinn,54,Ente,10,Schwein,82,Adler,35,Gewinn,50,Gepard,95,P,'"
     },
     "execution_count": 28,
     "metadata": {},
     "output_type": "execute_result"
    }
   ],
   "source": [
    "lotterie_2"
   ],
   "metadata": {
    "collapsed": false
   }
  },
  {
   "cell_type": "markdown",
   "source": [
    "9. Lass dir den Inhalt der Variable nun in einem pickle-Objekt namens lotterie_werte in deinem Unterordner lernkontrolle speichern."
   ],
   "metadata": {
    "collapsed": false
   }
  },
  {
   "cell_type": "code",
   "execution_count": 35,
   "outputs": [],
   "source": [
    "import pickle\n",
    "with open(\"lernkontrolle\\\\lotterie_werte.pickle\", \"wb\") as datei:\n",
    "    pickle.dump(lotterie_2, datei)"
   ],
   "metadata": {
    "collapsed": false
   }
  },
  {
   "cell_type": "markdown",
   "source": [
    "11. Überprüfe, dass das geklappt hat, indem du das pickle-Objekt lädst und dir seinen Inhalt anschaust."
   ],
   "metadata": {
    "collapsed": false
   }
  },
  {
   "cell_type": "code",
   "execution_count": 37,
   "outputs": [],
   "source": [
    "with open(\"lernkontrolle\\\\lotterie_werte.pickle\", \"rb\") as datei:\n",
    "    meine_lotterie = pickle.load(datei)"
   ],
   "metadata": {
    "collapsed": false
   }
  },
  {
   "cell_type": "code",
   "execution_count": 38,
   "outputs": [
    {
     "data": {
      "text/plain": "'38,Fisch,72,Gewinn,Verlust,21,Hund,45,Katze,66,Gewinn,57,Elefant,33,Kuh,49,Verlust,84,Gewinn,75,Bär,91,Papagei,19,Gewinn,12,Schlange,62,Pferd,43,Gewinn,23,Giraffe,27,Verlust,58,Gewinn,96,Schaf,30,Hase,87,Gewinn,67,Zebra,51,Flamingo,42,Verlust,99,Gewinn,55,Krokodil,36,Gewinn,71,Tiger,29,Nashorn,88,Gewinn,18,Eule,48,Löwe,81,Verlust,64,Gewinn,39,Delfin,46,Fuchs,78,Gewinn,54,Ente,10,Schwein,82,Adler,35,Gewinn,50,Gepard,95,P,'"
     },
     "execution_count": 38,
     "metadata": {},
     "output_type": "execute_result"
    }
   ],
   "source": [
    "meine_lotterie"
   ],
   "metadata": {
    "collapsed": false
   }
  },
  {
   "cell_type": "markdown",
   "source": [
    "12. Hole dir mit datetime das aktuelle Datum samt Uhrzeit und lasse es dir im Format: Tag.Monat.Jahr HH:MM ausgeben."
   ],
   "metadata": {
    "collapsed": false
   }
  },
  {
   "cell_type": "code",
   "execution_count": 46,
   "outputs": [],
   "source": [
    "from datetime import datetime"
   ],
   "metadata": {
    "collapsed": false
   }
  },
  {
   "cell_type": "code",
   "execution_count": 47,
   "outputs": [],
   "source": [
    "jetzt = datetime.today()"
   ],
   "metadata": {
    "collapsed": false
   }
  },
  {
   "cell_type": "code",
   "execution_count": 48,
   "outputs": [],
   "source": [
    "mein_datetime = jetzt.strftime(\"%d.%m.%Y %H:%M\")"
   ],
   "metadata": {
    "collapsed": false
   }
  },
  {
   "cell_type": "code",
   "execution_count": 49,
   "outputs": [
    {
     "name": "stdout",
     "output_type": "stream",
     "text": [
      "24.03.2023 11:35\n"
     ]
    }
   ],
   "source": [
    "print(mein_datetime)"
   ],
   "metadata": {
    "collapsed": false
   }
  },
  {
   "cell_type": "markdown",
   "source": [
    "13. Du möchtest wissen, in wie vielen Tagen ein guter Freund von dir Geburtstag hat. Weiter unten findest du sein Geburtstagsdatum. Lasse dir mithilfe des Moduls datetime die Zahl der Tage bis zu seinem Geburtstag ausgeben."
   ],
   "metadata": {
    "collapsed": false
   }
  },
  {
   "cell_type": "code",
   "execution_count": 17,
   "outputs": [],
   "source": [
    "from datetime import datetime"
   ],
   "metadata": {
    "collapsed": false
   }
  },
  {
   "cell_type": "code",
   "execution_count": 26,
   "outputs": [],
   "source": [
    "geburtstag = \"12.12.2023\" # Bitte deinen Geburtstag eingeben."
   ],
   "metadata": {
    "collapsed": false
   }
  },
  {
   "cell_type": "code",
   "execution_count": 27,
   "outputs": [],
   "source": [
    "jetzt = datetime.now()\n",
    "geburtstag = datetime.strptime(geburtstag, \"%d.%m.%Y\")"
   ],
   "metadata": {
    "collapsed": false
   }
  },
  {
   "cell_type": "code",
   "execution_count": 28,
   "outputs": [],
   "source": [
    "zahl_tage = (geburtstag - jetzt).days"
   ],
   "metadata": {
    "collapsed": false
   }
  },
  {
   "cell_type": "code",
   "execution_count": 29,
   "outputs": [
    {
     "data": {
      "text/plain": "262"
     },
     "execution_count": 29,
     "metadata": {},
     "output_type": "execute_result"
    }
   ],
   "source": [
    "zahl_tage"
   ],
   "metadata": {
    "collapsed": false
   }
  },
  {
   "cell_type": "code",
   "execution_count": null,
   "outputs": [],
   "source": [],
   "metadata": {
    "collapsed": false
   }
  },
  {
   "cell_type": "code",
   "execution_count": 31,
   "outputs": [],
   "source": [
    "import time"
   ],
   "metadata": {
    "collapsed": false
   }
  },
  {
   "cell_type": "code",
   "execution_count": 32,
   "outputs": [
    {
     "data": {
      "text/plain": "time.struct_time(tm_year=2023, tm_mon=3, tm_mday=24, tm_hour=16, tm_min=43, tm_sec=29, tm_wday=4, tm_yday=83, tm_isdst=0)"
     },
     "execution_count": 32,
     "metadata": {},
     "output_type": "execute_result"
    }
   ],
   "source": [
    "time.localtime()"
   ],
   "metadata": {
    "collapsed": false
   }
  },
  {
   "cell_type": "code",
   "execution_count": 2,
   "outputs": [
    {
     "name": "stderr",
     "output_type": "stream",
     "text": [
      "usage: ipykernel_launcher.py [-h] name alter\n",
      "ipykernel_launcher.py: error: the following arguments are required: alter\n"
     ]
    },
    {
     "ename": "SystemExit",
     "evalue": "2",
     "output_type": "error",
     "traceback": [
      "An exception has occurred, use %tb to see the full traceback.\n",
      "\u001B[1;31mSystemExit\u001B[0m\u001B[1;31m:\u001B[0m 2\n"
     ]
    },
    {
     "name": "stderr",
     "output_type": "stream",
     "text": [
      "C:\\ProgramData\\miniconda3\\lib\\site-packages\\IPython\\core\\interactiveshell.py:3441: UserWarning: To exit: use 'exit', 'quit', or Ctrl-D.\n",
      "  warn(\"To exit: use 'exit', 'quit', or Ctrl-D.\", stacklevel=1)\n"
     ]
    }
   ],
   "source": [],
   "metadata": {
    "collapsed": false
   }
  }
 ],
 "metadata": {
  "kernelspec": {
   "display_name": "Python 3",
   "language": "python",
   "name": "python3"
  },
  "language_info": {
   "codemirror_mode": {
    "name": "ipython",
    "version": 2
   },
   "file_extension": ".py",
   "mimetype": "text/x-python",
   "name": "python",
   "nbconvert_exporter": "python",
   "pygments_lexer": "ipython2",
   "version": "2.7.6"
  }
 },
 "nbformat": 4,
 "nbformat_minor": 0
}
