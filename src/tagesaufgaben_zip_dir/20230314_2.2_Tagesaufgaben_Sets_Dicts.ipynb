{
 "cells": [
  {
   "cell_type": "markdown",
   "source": [
    "# 1. Sets"
   ],
   "metadata": {
    "collapsed": false
   }
  },
  {
   "cell_type": "markdown",
   "source": [
    "1. Gegeben ist eine (fiktive) Liste von Meldungen im Unterricht. Messe die Länge der Liste. Erstelle danach ein Set und speichere es in der Variabel \"gemeldet\". Lass dir den Inhalt von \"gemeldet\" ausgeben und messe die Länge von \"gemeldet\". Um wie viel ist Set im Vergleich zur Liste geschrumpft? Wie erklärst du dir das? Schreibe in einem Kommentar."
   ],
   "metadata": {
    "collapsed": false
   }
  },
  {
   "cell_type": "code",
   "execution_count": null,
   "outputs": [],
   "source": [
    "meldungen = [\"Huyn\", \"Sarah\", \"Bernd\", \"Stefan\", \"Brigitte\", \"Kacper\", \"Brigitte\", \"Ingo\", \"Kacper\", \"Viktor\", \"Carolina\", \"Stefan\", \"Klaus\", \"Brigitte\", \"Carolina\", \"Bernd\", \"Huyn\", \"Tobias\", \"Constantin\", \"Huyn\", \"Carolina\"]"
   ],
   "metadata": {
    "collapsed": false
   }
  },
  {
   "cell_type": "code",
   "execution_count": null,
   "outputs": [],
   "source": [],
   "metadata": {
    "collapsed": false
   }
  },
  {
   "cell_type": "markdown",
   "source": [
    "2. Füge zum Set hinzu: Anca, Benjamin, Claudia, Nikolaos, Rene, Svetlana und speichere das ergebnis in teilnehmer_gesamt. Es ist okay, die Namen einzeln hinzuzufügen, wie im Unterricht besprochen. Alternativ kannst du dich über die update-Funktion erkundigen! (Extra-optional: Erstelle aus den fehlenden Namen eine Liste und füge sie mit einer Schleife teilnehmer_gesamt hinzu.)"
   ],
   "metadata": {
    "collapsed": false
   }
  },
  {
   "cell_type": "code",
   "execution_count": null,
   "outputs": [],
   "source": [],
   "metadata": {
    "collapsed": false
   }
  },
  {
   "cell_type": "code",
   "execution_count": null,
   "outputs": [],
   "source": [],
   "metadata": {
    "collapsed": false
   }
  },
  {
   "cell_type": "markdown",
   "source": [
    "3. Dein gemeldet-Set ist nun überschrieben. Erstelle es deswegen erneut unter dem namen aktive_teilnehmer. Alternativ informiere dich über die Copy-Funktion und passe deine Schritte weiter oben so an, dass du eine Kopie des Sets für den nächsten Schritt behältst."
   ],
   "metadata": {
    "collapsed": false
   }
  },
  {
   "cell_type": "code",
   "execution_count": null,
   "outputs": [],
   "source": [],
   "metadata": {
    "collapsed": false
   }
  },
  {
   "cell_type": "markdown",
   "source": [
    "4. Du möchtest wissen, wer sich heute bei den Wortmeldungen zurückgehalten hat. Du dürftest nun über ein Set mit den Personen, die sich gemeldet haben sowie über ein Set aller Teilnehmer verfügen."
   ],
   "metadata": {
    "collapsed": false
   }
  },
  {
   "cell_type": "code",
   "execution_count": null,
   "outputs": [],
   "source": [],
   "metadata": {
    "collapsed": false
   }
  },
  {
   "cell_type": "code",
   "execution_count": null,
   "outputs": [],
   "source": [],
   "metadata": {
    "collapsed": false
   }
  },
  {
   "cell_type": "markdown",
   "source": [
    "# 2. Dictonaries"
   ],
   "metadata": {
    "collapsed": false
   }
  },
  {
   "cell_type": "markdown",
   "source": [
    "1. Was haben folgende Anweisungen zum Ergebnis? Führe aus und schreibe Kommentare!"
   ],
   "metadata": {
    "collapsed": false
   }
  },
  {
   "cell_type": "code",
   "execution_count": null,
   "outputs": [],
   "source": [
    "d = {'cat':'Katze', 'dog':'Hund', 'fish':'Fisch'}\n",
    "print(d['fish'])\n",
    "\n",
    "#Antwort ________________________________"
   ],
   "metadata": {
    "collapsed": false
   }
  },
  {
   "cell_type": "code",
   "execution_count": null,
   "outputs": [],
   "source": [
    "d = {'cat':'Katze', 'dog':'Hund', 'fish':'Fisch'}\n",
    "\n",
    "print(d.keys())\n",
    "\n",
    "# Antwort ______________________________"
   ],
   "metadata": {
    "collapsed": false
   }
  },
  {
   "cell_type": "markdown",
   "source": [
    "2. Erstelle nun ein Dictionary namens \"mustermensch\" mit folgenden Werten:\n",
    "* Name: Max Mustermann\n",
    "* Telefon: 030 555555\n",
    "* Mail: max-m@musterstadtwerke.de.\n",
    "\n",
    "Was hast du als Keys und was als values gewählt? Warum? Kommentiere."
   ],
   "metadata": {
    "collapsed": false
   }
  },
  {
   "cell_type": "code",
   "execution_count": null,
   "outputs": [],
   "source": [],
   "metadata": {
    "collapsed": false
   }
  },
  {
   "cell_type": "markdown",
   "source": [
    "Hole dir nun über die Keys den Namen und die Telefonnummer der Person. Die Print Statements sollten so aussehen:\n",
    "Name: Max Mustermann\n",
    "Tel.: 030 555555"
   ],
   "metadata": {
    "collapsed": false
   }
  },
  {
   "cell_type": "code",
   "execution_count": null,
   "outputs": [],
   "source": [],
   "metadata": {
    "collapsed": false
   }
  },
  {
   "cell_type": "markdown",
   "source": [
    "3. Erzeuge  ein Dictionary aus zwei listen Name und Alter! \"name\" und \"alter\" sind die Keys des Dictionary\n",
    "name = [\"Alex\",\"Ali\",\"Sarah\"]\n",
    "alter = [\"40\",\"26\",\"35\"]"
   ],
   "metadata": {
    "collapsed": false
   }
  },
  {
   "cell_type": "code",
   "execution_count": null,
   "outputs": [],
   "source": [],
   "metadata": {
    "collapsed": false
   }
  }
 ],
 "metadata": {
  "kernelspec": {
   "display_name": "Python 3",
   "language": "python",
   "name": "python3"
  },
  "language_info": {
   "codemirror_mode": {
    "name": "ipython",
    "version": 2
   },
   "file_extension": ".py",
   "mimetype": "text/x-python",
   "name": "python",
   "nbconvert_exporter": "python",
   "pygments_lexer": "ipython2",
   "version": "2.7.6"
  }
 },
 "nbformat": 4,
 "nbformat_minor": 0
}
