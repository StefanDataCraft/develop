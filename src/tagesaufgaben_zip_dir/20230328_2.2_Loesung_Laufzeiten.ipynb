{
 "cells": [
  {
   "cell_type": "markdown",
   "metadata": {},
   "source": [
    "<br><br><center><h1 style=\"font-size:2em;color:#2467C0\">Tagesaufgaben 28.03.2023</h1></center>\n",
    "<br>\n"
   ]
  },
  {
   "cell_type": "markdown",
   "metadata": {},
   "source": [
    "# Laufzeit"
   ]
  },
  {
   "cell_type": "markdown",
   "metadata": {},
   "source": [
    "## Aufgabe 1"
   ]
  },
  {
   "cell_type": "markdown",
   "metadata": {},
   "source": [
    "<div  class=\"alert alert-block alert-info\">\n",
    "1. Schreibe eine for Schleife, die das Wort \"Weihnachten\" in seine Buchstaben zerlegt und jeden einzelnen Buchstaben in eine neue Liste schreibt. In der neuen Liste ist jeder Buchstabe somit ein eigenes Element. Überprüfe die Laufzeit des Codes mit der time.per_counter_ns() Methode.\n",
    "\n",
    "</div>"
   ]
  },
  {
   "cell_type": "code",
   "execution_count": 6,
   "metadata": {},
   "outputs": [],
   "source": [
    "import time"
   ]
  },
  {
   "cell_type": "code",
   "execution_count": 15,
   "metadata": {},
   "outputs": [
    {
     "name": "stdout",
     "output_type": "stream",
     "text": [
      "458200\n"
     ]
    }
   ],
   "source": [
    "start_counter = time.perf_counter_ns()\n",
    "wort = \"Weihnachten\"\n",
    "liste1 = []\n",
    "\n",
    "for buchstabe in wort:\n",
    "    liste1.append(buchstabe)\n",
    "\n",
    "end_counter = time.perf_counter_ns()\n",
    "print(end_counter-start_counter)"
   ]
  },
  {
   "cell_type": "markdown",
   "metadata": {},
   "source": [
    "<div  class=\"alert alert-block alert-info\">\n",
    "2. Schreibe den gleichen Code aber dieses Mal als list comprehension. Überprüfe die Laufzeit des Codes wieder mit der time.per_counter_ns() Methode.\n",
    "\n",
    "</div>"
   ]
  },
  {
   "cell_type": "code",
   "execution_count": 19,
   "metadata": {},
   "outputs": [
    {
     "name": "stdout",
     "output_type": "stream",
     "text": [
      "157000\n"
     ]
    }
   ],
   "source": [
    "start_counter = time.perf_counter_ns()\n",
    "wort = \"Weihnachten\"\n",
    "liste1 = [buchstabe for buchstabe in wort]\n",
    "end_counter = time.perf_counter_ns()\n",
    "print(end_counter-start_counter)"
   ]
  },
  {
   "cell_type": "markdown",
   "metadata": {},
   "source": [
    "<div  class=\"alert alert-block alert-info\">\n",
    "3. Schreibe den gleichen Code aber dieses Mal als lambda Funktion. Überprüfe die Laufzeit des Codes wieder mit der time.per_counter_ns() Methode.\n",
    "\n",
    "</div>"
   ]
  },
  {
   "cell_type": "code",
   "execution_count": 10,
   "metadata": {},
   "outputs": [
    {
     "name": "stdout",
     "output_type": "stream",
     "text": [
      "240300\n"
     ]
    }
   ],
   "source": [
    "start_counter = time.perf_counter_ns()\n",
    "wort = \"Weihnachten\"\n",
    "list(map(lambda buchstabe: buchstabe, wort))\n",
    "end_counter = time.perf_counter_ns()\n",
    "print(end_counter-start_counter)"
   ]
  },
  {
   "cell_type": "markdown",
   "metadata": {},
   "source": [
    "<div  class=\"alert alert-block alert-info\">\n",
    "4. Schreibe den gleichen Code aber dieses Mal als while loop. Überprüfe die Laufzeit des Codes wieder mit der time.per_counter_ns() Methode.\n",
    "\n",
    "</div>"
   ]
  },
  {
   "cell_type": "code",
   "execution_count": 11,
   "metadata": {},
   "outputs": [
    {
     "name": "stdout",
     "output_type": "stream",
     "text": [
      "192900\n"
     ]
    }
   ],
   "source": [
    "start_counter = time.perf_counter_ns()\n",
    "wort = \"Weihnachten\"\n",
    "i = 0\n",
    "liste1 = []\n",
    "\n",
    "while i < len(wort):\n",
    "    liste1.append(wort[i])\n",
    "    i +=1\n",
    "\n",
    "end_counter = time.perf_counter_ns()\n",
    "print(end_counter-start_counter)"
   ]
  },
  {
   "cell_type": "markdown",
   "metadata": {},
   "source": [
    "<div  class=\"alert alert-block alert-info\">\n",
    "5. Können wir uns anhand dieser Laufzeitmessungen tatsächlich sicher sein, was die schnellste Methode ist? Beantworte die Frage und erläutere deine Antwort.\n",
    "\n",
    "</div>"
   ]
  },
  {
   "cell_type": "code",
   "execution_count": 12,
   "metadata": {},
   "outputs": [],
   "source": [
    "\"\"\"Die Messungen wurden nur ein einziges Mal durchgeführt und die \n",
    "Geschwindigkeit ist dadurch von der aktuellen Belastung des Laptops durch Hintergrundprozesse abhängig.\n",
    "Eine einzige Messung ist demnach nicht aussagekräftig.\n",
    "\"\"\""
   ]
  },
  {
   "cell_type": "markdown",
   "metadata": {},
   "source": [
    "<div  class=\"alert alert-block alert-info\">\n",
    "6. Nutze nun die timeit Messmethode für die vier verschiedenen Ansätze.\n",
    "</div>"
   ]
  },
  {
   "cell_type": "code",
   "execution_count": 16,
   "metadata": {},
   "outputs": [
    {
     "name": "stdout",
     "output_type": "stream",
     "text": [
      "1.46 µs ± 249 ns per loop (mean ± std. dev. of 7 runs, 1,000,000 loops each)\n"
     ]
    }
   ],
   "source": [
    "%%timeit\n",
    "wort = \"Weihnachten\"\n",
    "liste1 = []\n",
    "\n",
    "for buchstabe in wort:\n",
    "    liste1.append(buchstabe)"
   ]
  },
  {
   "cell_type": "code",
   "execution_count": 18,
   "metadata": {},
   "outputs": [
    {
     "name": "stdout",
     "output_type": "stream",
     "text": [
      "672 ns ± 16.6 ns per loop (mean ± std. dev. of 7 runs, 1,000,000 loops each)\n"
     ]
    }
   ],
   "source": [
    "%%timeit\n",
    "wort = \"Weihnachten\"\n",
    "liste1 = [buchstabe for buchstabe in wort]"
   ]
  },
  {
   "cell_type": "code",
   "execution_count": 15,
   "metadata": {},
   "outputs": [
    {
     "name": "stdout",
     "output_type": "stream",
     "text": [
      "605 ns ± 4.76 ns per loop (mean ± std. dev. of 7 runs, 1000000 loops each)\n"
     ]
    }
   ],
   "source": [
    "%%timeit\n",
    "wort = \"Weihnachten\"\n",
    "list(map(lambda buchstabe: buchstabe, wort))"
   ]
  },
  {
   "cell_type": "code",
   "execution_count": 16,
   "metadata": {},
   "outputs": [
    {
     "name": "stdout",
     "output_type": "stream",
     "text": [
      "1.11 µs ± 4.73 ns per loop (mean ± std. dev. of 7 runs, 1000000 loops each)\n"
     ]
    }
   ],
   "source": [
    "%%timeit\n",
    "wort = \"Weihnachten\"\n",
    "i = 0\n",
    "liste1 = []\n",
    "\n",
    "while i < len(wort):\n",
    "    liste1.append(wort[i])\n",
    "    i +=1"
   ]
  },
  {
   "cell_type": "markdown",
   "metadata": {},
   "source": [
    "<div  class=\"alert alert-block alert-info\">\n",
    "7. Welche Methode ist jetzt die schnellste? Deckt sich die Reihenfolge mit der vorherigen Messmethode?\n",
    "</div>"
   ]
  },
  {
   "cell_type": "code",
   "execution_count": null,
   "metadata": {},
   "outputs": [],
   "source": [
    "\"\"\"List comprehension scheint am schnellsten fertig zu sein. \n",
    "Vorher war es noch der for loop ohne list comprehension\n",
    "\"\"\""
   ]
  },
  {
   "cell_type": "markdown",
   "metadata": {},
   "source": [
    "<div  class=\"alert alert-block alert-info\">\n",
    "8. Warum unterscheiden sich beide Messmethoden?\n",
    "</div>"
   ]
  },
  {
   "cell_type": "code",
   "execution_count": null,
   "metadata": {},
   "outputs": [],
   "source": [
    "\"\"\"mit %%timeit wird die Laufzeitmessung mehrere Male durchgeführt \n",
    "und der Mittelwert der schnellsten durchläufe wird gemittelt.\n",
    "Dadurch ist das Ergebnis wesentlich aussagekräftiger.\n",
    "\"\"\""
   ]
  },
  {
   "cell_type": "markdown",
   "metadata": {},
   "source": [
    "# Optional"
   ]
  },
  {
   "cell_type": "markdown",
   "metadata": {},
   "source": [
    "Fasse die Lerninhalte von heute nochmal zusammen und notiere dir Fragen, die dir dabei kommen!"
   ]
  }
 ],
 "metadata": {
  "kernelspec": {
   "display_name": "Python 3 (ipykernel)",
   "language": "python",
   "name": "python3"
  },
  "language_info": {
   "codemirror_mode": {
    "name": "ipython",
    "version": 3
   },
   "file_extension": ".py",
   "mimetype": "text/x-python",
   "name": "python",
   "nbconvert_exporter": "python",
   "pygments_lexer": "ipython3",
   "version": "3.9.13"
  }
 },
 "nbformat": 4,
 "nbformat_minor": 1
}
