{
 "cells": [
  {
   "cell_type": "markdown",
   "source": [
    "<br><br><center><h1 style=\"font-size:2em;color:#2467C0\">Tagesaufgaben 05.04.2023</h1></center>\n",
    "<br>"
   ],
   "metadata": {
    "collapsed": false
   }
  },
  {
   "cell_type": "markdown",
   "source": [
    "<div  class=\"alert alert-block alert-info\">\n",
    "1. Du hast einen Dataframe mit Schülernoten zu verschiedenen Fächern vorliegen. Benutze pivot, um folgenden Output zu erhalten:\n",
    "\n",
    "    Output:\n",
    "    Fach       Deutsch  Englisch  Mathematik\n",
    "    Name\n",
    "    Alexander      1.3       1.7         1.0\n",
    "    Anna           1.0       1.7         1.3\n",
    "    Lisa           2.3       3.0         2.7\n",
    "    Max            1.7       2.3         2.0\n",
    "</div>"
   ],
   "metadata": {
    "collapsed": false
   }
  },
  {
   "cell_type": "code",
   "execution_count": 22,
   "outputs": [
    {
     "data": {
      "text/plain": "         Name        Fach  Note\n0         Max  Mathematik   2.0\n1         Max     Deutsch   1.7\n2         Max    Englisch   2.3\n3        Anna  Mathematik   1.3\n4        Anna     Deutsch   1.0\n5        Anna    Englisch   1.7\n6        Lisa  Mathematik   2.7\n7        Lisa     Deutsch   2.3\n8        Lisa    Englisch   3.0\n9   Alexander  Mathematik   1.0\n10  Alexander     Deutsch   1.3\n11  Alexander    Englisch   1.7",
      "text/html": "<div>\n<style scoped>\n    .dataframe tbody tr th:only-of-type {\n        vertical-align: middle;\n    }\n\n    .dataframe tbody tr th {\n        vertical-align: top;\n    }\n\n    .dataframe thead th {\n        text-align: right;\n    }\n</style>\n<table border=\"1\" class=\"dataframe\">\n  <thead>\n    <tr style=\"text-align: right;\">\n      <th></th>\n      <th>Name</th>\n      <th>Fach</th>\n      <th>Note</th>\n    </tr>\n  </thead>\n  <tbody>\n    <tr>\n      <th>0</th>\n      <td>Max</td>\n      <td>Mathematik</td>\n      <td>2.0</td>\n    </tr>\n    <tr>\n      <th>1</th>\n      <td>Max</td>\n      <td>Deutsch</td>\n      <td>1.7</td>\n    </tr>\n    <tr>\n      <th>2</th>\n      <td>Max</td>\n      <td>Englisch</td>\n      <td>2.3</td>\n    </tr>\n    <tr>\n      <th>3</th>\n      <td>Anna</td>\n      <td>Mathematik</td>\n      <td>1.3</td>\n    </tr>\n    <tr>\n      <th>4</th>\n      <td>Anna</td>\n      <td>Deutsch</td>\n      <td>1.0</td>\n    </tr>\n    <tr>\n      <th>5</th>\n      <td>Anna</td>\n      <td>Englisch</td>\n      <td>1.7</td>\n    </tr>\n    <tr>\n      <th>6</th>\n      <td>Lisa</td>\n      <td>Mathematik</td>\n      <td>2.7</td>\n    </tr>\n    <tr>\n      <th>7</th>\n      <td>Lisa</td>\n      <td>Deutsch</td>\n      <td>2.3</td>\n    </tr>\n    <tr>\n      <th>8</th>\n      <td>Lisa</td>\n      <td>Englisch</td>\n      <td>3.0</td>\n    </tr>\n    <tr>\n      <th>9</th>\n      <td>Alexander</td>\n      <td>Mathematik</td>\n      <td>1.0</td>\n    </tr>\n    <tr>\n      <th>10</th>\n      <td>Alexander</td>\n      <td>Deutsch</td>\n      <td>1.3</td>\n    </tr>\n    <tr>\n      <th>11</th>\n      <td>Alexander</td>\n      <td>Englisch</td>\n      <td>1.7</td>\n    </tr>\n  </tbody>\n</table>\n</div>"
     },
     "execution_count": 22,
     "metadata": {},
     "output_type": "execute_result"
    }
   ],
   "source": [
    "import pandas as pd\n",
    "\n",
    "noten_df = pd.DataFrame({\n",
    "    \"Name\": [\"Max\", \"Max\", \"Max\", \"Anna\", \"Anna\", \"Anna\", \"Lisa\", \"Lisa\", \"Lisa\", \"Alexander\", \"Alexander\", \"Alexander\"],\n",
    "    \"Fach\": [\"Mathematik\", \"Deutsch\", \"Englisch\",\"Mathematik\", \"Deutsch\", \"Englisch\",\"Mathematik\", \"Deutsch\", \"Englisch\",\"Mathematik\", \"Deutsch\", \"Englisch\"],\n",
    "    \"Note\": [2.0, 1.7, 2.3, 1.3, 1.0, 1.7, 2.7, 2.3, 3.0, 1.0, 1.3, 1.7]\n",
    "\n",
    "})\n",
    "noten_df"
   ],
   "metadata": {
    "collapsed": false
   }
  },
  {
   "cell_type": "code",
   "execution_count": 23,
   "outputs": [
    {
     "data": {
      "text/plain": "             Note                    \nFach      Deutsch Englisch Mathematik\nName                                 \nAlexander     1.3      1.7        1.0\nAnna          1.0      1.7        1.3\nLisa          2.3      3.0        2.7\nMax           1.7      2.3        2.0",
      "text/html": "<div>\n<style scoped>\n    .dataframe tbody tr th:only-of-type {\n        vertical-align: middle;\n    }\n\n    .dataframe tbody tr th {\n        vertical-align: top;\n    }\n\n    .dataframe thead tr th {\n        text-align: left;\n    }\n\n    .dataframe thead tr:last-of-type th {\n        text-align: right;\n    }\n</style>\n<table border=\"1\" class=\"dataframe\">\n  <thead>\n    <tr>\n      <th></th>\n      <th colspan=\"3\" halign=\"left\">Note</th>\n    </tr>\n    <tr>\n      <th>Fach</th>\n      <th>Deutsch</th>\n      <th>Englisch</th>\n      <th>Mathematik</th>\n    </tr>\n    <tr>\n      <th>Name</th>\n      <th></th>\n      <th></th>\n      <th></th>\n    </tr>\n  </thead>\n  <tbody>\n    <tr>\n      <th>Alexander</th>\n      <td>1.3</td>\n      <td>1.7</td>\n      <td>1.0</td>\n    </tr>\n    <tr>\n      <th>Anna</th>\n      <td>1.0</td>\n      <td>1.7</td>\n      <td>1.3</td>\n    </tr>\n    <tr>\n      <th>Lisa</th>\n      <td>2.3</td>\n      <td>3.0</td>\n      <td>2.7</td>\n    </tr>\n    <tr>\n      <th>Max</th>\n      <td>1.7</td>\n      <td>2.3</td>\n      <td>2.0</td>\n    </tr>\n  </tbody>\n</table>\n</div>"
     },
     "execution_count": 23,
     "metadata": {},
     "output_type": "execute_result"
    }
   ],
   "source": [
    "noten_df.pivot(index=[\"Name\"],columns=\"Fach\",values=[\"Note\"])\n"
   ],
   "metadata": {
    "collapsed": false
   }
  },
  {
   "cell_type": "markdown",
   "source": [
    "<div  class=\"alert alert-block alert-info\">\n",
    "2. Dir liegt ein Dataframe mit Tech-Produkten vor. Du möchtest diesen ins Long-Format überführen. Nutze dafür melt, um folgenden Output zu erhalten:\n",
    "\n",
    "    Output:\n",
    "              Land      Produkt  Verkaufszahl\n",
    "    0      Deutschland  MacBook          1200\n",
    "    1              USA  MacBook          2000\n",
    "    2            Japan  MacBook           800\n",
    "    3   Großbritannien  MacBook          1000\n",
    "    4      Deutschland   Lenovo          1500\n",
    "    5              USA   Lenovo          1800\n",
    "    6            Japan   Lenovo           900\n",
    "    7   Großbritannien   Lenovo          1200\n",
    "    8      Deutschland     Dell           800\n",
    "    9              USA     Dell          1200\n",
    "    10           Japan     Dell           700\n",
    "    11  Großbritannien     Dell           600\n",
    "\n",
    "</div>"
   ],
   "metadata": {
    "collapsed": false
   }
  },
  {
   "cell_type": "code",
   "execution_count": 2,
   "outputs": [
    {
     "data": {
      "text/plain": "             Land  MacBook  Lenovo  Dell\n0     Deutschland     1200    1500   800\n1             USA     2000    1800  1200\n2           Japan      800     900   700\n3  Großbritannien     1000    1200   600",
      "text/html": "<div>\n<style scoped>\n    .dataframe tbody tr th:only-of-type {\n        vertical-align: middle;\n    }\n\n    .dataframe tbody tr th {\n        vertical-align: top;\n    }\n\n    .dataframe thead th {\n        text-align: right;\n    }\n</style>\n<table border=\"1\" class=\"dataframe\">\n  <thead>\n    <tr style=\"text-align: right;\">\n      <th></th>\n      <th>Land</th>\n      <th>MacBook</th>\n      <th>Lenovo</th>\n      <th>Dell</th>\n    </tr>\n  </thead>\n  <tbody>\n    <tr>\n      <th>0</th>\n      <td>Deutschland</td>\n      <td>1200</td>\n      <td>1500</td>\n      <td>800</td>\n    </tr>\n    <tr>\n      <th>1</th>\n      <td>USA</td>\n      <td>2000</td>\n      <td>1800</td>\n      <td>1200</td>\n    </tr>\n    <tr>\n      <th>2</th>\n      <td>Japan</td>\n      <td>800</td>\n      <td>900</td>\n      <td>700</td>\n    </tr>\n    <tr>\n      <th>3</th>\n      <td>Großbritannien</td>\n      <td>1000</td>\n      <td>1200</td>\n      <td>600</td>\n    </tr>\n  </tbody>\n</table>\n</div>"
     },
     "execution_count": 2,
     "metadata": {},
     "output_type": "execute_result"
    }
   ],
   "source": [
    "tech = {\n",
    "    'Land': ['Deutschland', 'USA', 'Japan', 'Großbritannien'],\n",
    "    'MacBook': [1200, 2000, 800, 1000],\n",
    "    'Lenovo': [1500, 1800, 900, 1200],\n",
    "    'Dell': [800, 1200, 700, 600]\n",
    "}\n",
    "tech_df = pd.DataFrame(tech)\n",
    "tech_df"
   ],
   "metadata": {
    "collapsed": false
   }
  },
  {
   "cell_type": "code",
   "execution_count": 4,
   "outputs": [
    {
     "data": {
      "text/plain": "              Land  Produkt  Verkaufszahl\n0      Deutschland  MacBook          1200\n1              USA  MacBook          2000\n2            Japan  MacBook           800\n3   Großbritannien  MacBook          1000\n4      Deutschland   Lenovo          1500\n5              USA   Lenovo          1800\n6            Japan   Lenovo           900\n7   Großbritannien   Lenovo          1200\n8      Deutschland     Dell           800\n9              USA     Dell          1200\n10           Japan     Dell           700\n11  Großbritannien     Dell           600",
      "text/html": "<div>\n<style scoped>\n    .dataframe tbody tr th:only-of-type {\n        vertical-align: middle;\n    }\n\n    .dataframe tbody tr th {\n        vertical-align: top;\n    }\n\n    .dataframe thead th {\n        text-align: right;\n    }\n</style>\n<table border=\"1\" class=\"dataframe\">\n  <thead>\n    <tr style=\"text-align: right;\">\n      <th></th>\n      <th>Land</th>\n      <th>Produkt</th>\n      <th>Verkaufszahl</th>\n    </tr>\n  </thead>\n  <tbody>\n    <tr>\n      <th>0</th>\n      <td>Deutschland</td>\n      <td>MacBook</td>\n      <td>1200</td>\n    </tr>\n    <tr>\n      <th>1</th>\n      <td>USA</td>\n      <td>MacBook</td>\n      <td>2000</td>\n    </tr>\n    <tr>\n      <th>2</th>\n      <td>Japan</td>\n      <td>MacBook</td>\n      <td>800</td>\n    </tr>\n    <tr>\n      <th>3</th>\n      <td>Großbritannien</td>\n      <td>MacBook</td>\n      <td>1000</td>\n    </tr>\n    <tr>\n      <th>4</th>\n      <td>Deutschland</td>\n      <td>Lenovo</td>\n      <td>1500</td>\n    </tr>\n    <tr>\n      <th>5</th>\n      <td>USA</td>\n      <td>Lenovo</td>\n      <td>1800</td>\n    </tr>\n    <tr>\n      <th>6</th>\n      <td>Japan</td>\n      <td>Lenovo</td>\n      <td>900</td>\n    </tr>\n    <tr>\n      <th>7</th>\n      <td>Großbritannien</td>\n      <td>Lenovo</td>\n      <td>1200</td>\n    </tr>\n    <tr>\n      <th>8</th>\n      <td>Deutschland</td>\n      <td>Dell</td>\n      <td>800</td>\n    </tr>\n    <tr>\n      <th>9</th>\n      <td>USA</td>\n      <td>Dell</td>\n      <td>1200</td>\n    </tr>\n    <tr>\n      <th>10</th>\n      <td>Japan</td>\n      <td>Dell</td>\n      <td>700</td>\n    </tr>\n    <tr>\n      <th>11</th>\n      <td>Großbritannien</td>\n      <td>Dell</td>\n      <td>600</td>\n    </tr>\n  </tbody>\n</table>\n</div>"
     },
     "execution_count": 4,
     "metadata": {},
     "output_type": "execute_result"
    }
   ],
   "source": [
    "tech_df.melt(id_vars=\"Land\",var_name=\"Produkt\",value_name=\"Verkaufszahl\")"
   ],
   "metadata": {
    "collapsed": false
   }
  },
  {
   "cell_type": "markdown",
   "source": [
    "<div  class=\"alert alert-block alert-info\">\n",
    "3. Dir liegt ein Dataframe mit weiteren Tech-Produkten vor. Dein Output soll so aussehen:\n",
    "\n",
    "    Output:\n",
    "    Quartal                  Q1\n",
    "    Land        Produkt\n",
    "    Deutschland Adapter     700\n",
    "                Maus        800\n",
    "                Tastatur   1000\n",
    "                USB-Stick   900\n",
    "    Japan       Adapter     700\n",
    "                Maus        900\n",
    "                Tastatur    800\n",
    "                USB-Stick  1000\n",
    "    USA         Adapter    1000\n",
    "                Maus       1200\n",
    "                Tastatur   2000\n",
    "                USB-Stick  1500\n",
    "<div  class=\"alert alert-block alert-info\">\n",
    "Wie gehst du vor?\n",
    "\n",
    "</div>"
   ],
   "metadata": {
    "collapsed": false
   }
  },
  {
   "cell_type": "code",
   "execution_count": 20,
   "outputs": [
    {
     "name": "stdout",
     "output_type": "stream",
     "text": [
      "           Land    Produkt Quartal  Verkaufszahl\n",
      "0           USA  USB-Stick      Q1          1500\n",
      "1           USA   Tastatur      Q2          2000\n",
      "2           USA       Maus      Q3          1200\n",
      "3           USA    Adapter      Q4          1000\n",
      "4   Deutschland  USB-Stick      Q1           900\n",
      "5   Deutschland   Tastatur      Q1          1000\n",
      "6   Deutschland       Maus      Q1           800\n",
      "7   Deutschland    Adapter      Q1           700\n",
      "8         Japan  USB-Stick      Q1          1000\n",
      "9         Japan   Tastatur      Q1           800\n",
      "10        Japan       Maus      Q1           900\n",
      "11        Japan    Adapter      Q1           700\n"
     ]
    }
   ],
   "source": [
    "data = {\n",
    "    'Land': ['USA', 'USA', 'USA', 'USA', 'Deutschland', 'Deutschland', 'Deutschland', 'Deutschland', 'Japan','Japan', 'Japan', 'Japan'],\n",
    "    'Produkt': ['USB-Stick', 'Tastatur', 'Maus', 'Adapter', 'USB-Stick', 'Tastatur', 'Maus', 'Adapter', 'USB-Stick', 'Tastatur', 'Maus', 'Adapter'],\n",
    "    'Quartal': ['Q1', 'Q2', 'Q3', 'Q4', 'Q1', 'Q1', 'Q1', 'Q1', 'Q1', 'Q1', 'Q1', 'Q1'],\n",
    "    'Verkaufszahl': [1500, 2000, 1200, 1000, 900, 1000, 800, 700, 1000, 800, 900, 700]\n",
    "}\n",
    "df = pd.DataFrame(data)\n",
    "\n",
    "print(df)"
   ],
   "metadata": {
    "collapsed": false
   }
  },
  {
   "cell_type": "code",
   "execution_count": 21,
   "outputs": [
    {
     "data": {
      "text/plain": "                      Verkaufszahl                        \nQuartal                         Q1      Q2      Q3      Q4\nLand        Produkt                                       \nDeutschland Adapter          700.0     NaN     NaN     NaN\n            Maus             800.0     NaN     NaN     NaN\n            Tastatur        1000.0     NaN     NaN     NaN\n            USB-Stick        900.0     NaN     NaN     NaN\nJapan       Adapter          700.0     NaN     NaN     NaN\n            Maus             900.0     NaN     NaN     NaN\n            Tastatur         800.0     NaN     NaN     NaN\n            USB-Stick       1000.0     NaN     NaN     NaN\nUSA         Adapter            NaN     NaN     NaN  1000.0\n            Maus               NaN     NaN  1200.0     NaN\n            Tastatur           NaN  2000.0     NaN     NaN\n            USB-Stick       1500.0     NaN     NaN     NaN",
      "text/html": "<div>\n<style scoped>\n    .dataframe tbody tr th:only-of-type {\n        vertical-align: middle;\n    }\n\n    .dataframe tbody tr th {\n        vertical-align: top;\n    }\n\n    .dataframe thead tr th {\n        text-align: left;\n    }\n\n    .dataframe thead tr:last-of-type th {\n        text-align: right;\n    }\n</style>\n<table border=\"1\" class=\"dataframe\">\n  <thead>\n    <tr>\n      <th></th>\n      <th></th>\n      <th colspan=\"4\" halign=\"left\">Verkaufszahl</th>\n    </tr>\n    <tr>\n      <th></th>\n      <th>Quartal</th>\n      <th>Q1</th>\n      <th>Q2</th>\n      <th>Q3</th>\n      <th>Q4</th>\n    </tr>\n    <tr>\n      <th>Land</th>\n      <th>Produkt</th>\n      <th></th>\n      <th></th>\n      <th></th>\n      <th></th>\n    </tr>\n  </thead>\n  <tbody>\n    <tr>\n      <th rowspan=\"4\" valign=\"top\">Deutschland</th>\n      <th>Adapter</th>\n      <td>700.0</td>\n      <td>NaN</td>\n      <td>NaN</td>\n      <td>NaN</td>\n    </tr>\n    <tr>\n      <th>Maus</th>\n      <td>800.0</td>\n      <td>NaN</td>\n      <td>NaN</td>\n      <td>NaN</td>\n    </tr>\n    <tr>\n      <th>Tastatur</th>\n      <td>1000.0</td>\n      <td>NaN</td>\n      <td>NaN</td>\n      <td>NaN</td>\n    </tr>\n    <tr>\n      <th>USB-Stick</th>\n      <td>900.0</td>\n      <td>NaN</td>\n      <td>NaN</td>\n      <td>NaN</td>\n    </tr>\n    <tr>\n      <th rowspan=\"4\" valign=\"top\">Japan</th>\n      <th>Adapter</th>\n      <td>700.0</td>\n      <td>NaN</td>\n      <td>NaN</td>\n      <td>NaN</td>\n    </tr>\n    <tr>\n      <th>Maus</th>\n      <td>900.0</td>\n      <td>NaN</td>\n      <td>NaN</td>\n      <td>NaN</td>\n    </tr>\n    <tr>\n      <th>Tastatur</th>\n      <td>800.0</td>\n      <td>NaN</td>\n      <td>NaN</td>\n      <td>NaN</td>\n    </tr>\n    <tr>\n      <th>USB-Stick</th>\n      <td>1000.0</td>\n      <td>NaN</td>\n      <td>NaN</td>\n      <td>NaN</td>\n    </tr>\n    <tr>\n      <th rowspan=\"4\" valign=\"top\">USA</th>\n      <th>Adapter</th>\n      <td>NaN</td>\n      <td>NaN</td>\n      <td>NaN</td>\n      <td>1000.0</td>\n    </tr>\n    <tr>\n      <th>Maus</th>\n      <td>NaN</td>\n      <td>NaN</td>\n      <td>1200.0</td>\n      <td>NaN</td>\n    </tr>\n    <tr>\n      <th>Tastatur</th>\n      <td>NaN</td>\n      <td>2000.0</td>\n      <td>NaN</td>\n      <td>NaN</td>\n    </tr>\n    <tr>\n      <th>USB-Stick</th>\n      <td>1500.0</td>\n      <td>NaN</td>\n      <td>NaN</td>\n      <td>NaN</td>\n    </tr>\n  </tbody>\n</table>\n</div>"
     },
     "execution_count": 21,
     "metadata": {},
     "output_type": "execute_result"
    }
   ],
   "source": [
    "df.pivot(index=[\"Land\",\"Produkt\"],columns=\"Quartal\",values=[\"Verkaufszahl\"])\n"
   ],
   "metadata": {
    "collapsed": false
   }
  },
  {
   "cell_type": "markdown",
   "source": [
    "<div  class=\"alert alert-block alert-info\">\n",
    "4. Lade den Titanic-Datensatz (titanic.csv) als titanic_df und lass dir a) die oberen sieben Zeilen ausgeben und b) die zehn unteren.\n",
    "</div>"
   ],
   "metadata": {
    "collapsed": false
   }
  },
  {
   "cell_type": "code",
   "execution_count": null,
   "outputs": [],
   "source": [],
   "metadata": {
    "collapsed": false
   }
  },
  {
   "cell_type": "markdown",
   "source": [
    "<div  class=\"alert alert-block alert-info\">\n",
    "4. Verwende die Methode describe(). Was zeigt sie dir an? Was aus der Ausgabe lässt sich sinnvoll interpretieren und welche Information ist unnütz? Kommentiere.\n",
    "</div>"
   ],
   "metadata": {
    "collapsed": false
   }
  },
  {
   "cell_type": "code",
   "execution_count": null,
   "outputs": [],
   "source": [],
   "metadata": {
    "collapsed": false
   }
  },
  {
   "cell_type": "markdown",
   "source": [
    "<div  class=\"alert alert-block alert-info\">\n",
    "5. Du möchtest alle Daten zu folgender Person: Celotti, Mr. Francesco. Wie stellst du das an?\n",
    "</div>\n"
   ],
   "metadata": {
    "collapsed": false
   }
  },
  {
   "cell_type": "code",
   "execution_count": null,
   "outputs": [],
   "source": [],
   "metadata": {
    "collapsed": false
   }
  },
  {
   "cell_type": "markdown",
   "source": [
    "<div  class=\"alert alert-block alert-info\">\n",
    "6. Du möchtest einen Slice des DataFrames, der nur Passagiere der ersten Klasse enthält. Erreiche das durch Slicing mit einer Bedingung und schreibe das Ergebnis in die Variabel erste_klasse. Lasse dir den head von dieser ausgeben und miss ihre Länge.\n",
    "</div>"
   ],
   "metadata": {
    "collapsed": false
   }
  },
  {
   "cell_type": "code",
   "execution_count": null,
   "outputs": [],
   "source": [],
   "metadata": {
    "collapsed": false
   }
  },
  {
   "cell_type": "markdown",
   "source": [
    "<div  class=\"alert alert-block alert-info\">\n",
    "7. Diesmal möchtest du zwei Slices des DataFrames: Leute die überlebt haben und Leute, die gestorben sind. Überlebende haben in der Spalte Survived den Wert 1. Die, die nicht überlebt haben, weisen eine 0 auf. Erstelle zwei Dataframes aus den Slices: ueberlebende und tote. Lass dir auch hier die Länge ausgeben. Errechne das Verhältnis von Überlebenden zu Toten. Wenn du Lust hast: Rechne den Wert in Prozent um und runde auf zwei Nachkommastellen.\n",
    "</div>"
   ],
   "metadata": {
    "collapsed": false
   }
  },
  {
   "cell_type": "code",
   "execution_count": null,
   "outputs": [],
   "source": [],
   "metadata": {
    "collapsed": false
   }
  },
  {
   "cell_type": "markdown",
   "source": [
    "<div  class=\"alert alert-block alert-info\">\n",
    "8. Du möchtest einen Teil des DataFrames ueberlebende auswählen. Und zwar willst du nur Name, Geschlecht und Alter darin sehen. Wie stellst du das an? Schreibe das Resultat in ueberlebende_kompakt und lasse dir den Inhalt ausgeben.\n",
    "</div>"
   ],
   "metadata": {
    "collapsed": false
   }
  },
  {
   "cell_type": "code",
   "execution_count": null,
   "outputs": [],
   "source": [],
   "metadata": {
    "collapsed": false
   }
  },
  {
   "cell_type": "markdown",
   "source": [
    "<div  class=\"alert alert-block alert-info\">\n",
    "9. Speichere ueberlebende_kompakt in ueberlebende_passagiere.csv"
   ],
   "metadata": {
    "collapsed": false
   }
  },
  {
   "cell_type": "code",
   "execution_count": null,
   "outputs": [],
   "source": [],
   "metadata": {
    "collapsed": false
   }
  }
 ],
 "metadata": {
  "kernelspec": {
   "display_name": "Python 3",
   "language": "python",
   "name": "python3"
  },
  "language_info": {
   "codemirror_mode": {
    "name": "ipython",
    "version": 2
   },
   "file_extension": ".py",
   "mimetype": "text/x-python",
   "name": "python",
   "nbconvert_exporter": "python",
   "pygments_lexer": "ipython2",
   "version": "2.7.6"
  }
 },
 "nbformat": 4,
 "nbformat_minor": 0
}
