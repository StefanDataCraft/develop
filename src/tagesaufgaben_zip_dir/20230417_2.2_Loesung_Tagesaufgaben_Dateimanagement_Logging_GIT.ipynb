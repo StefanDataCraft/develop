{
 "cells": [
  {
   "cell_type": "markdown",
   "source": [
    "<br><br><center><h1 style=\"font-size:2em;color:#2467C0\">Tagesaufgaben 19.04.2023</h1></center>\n",
    "<br>"
   ],
   "metadata": {
    "collapsed": false
   }
  },
  {
   "cell_type": "markdown",
   "source": [
    "<div  class=\"alert alert-block alert-info\">\n",
    "1. Gehe in deinen Ordner mit den Tagesaufgaben, .</div>"
   ],
   "metadata": {
    "collapsed": false
   }
  },
  {
   "cell_type": "code",
   "execution_count": null,
   "outputs": [],
   "source": [
    "# importiere die nötigen Tools\n"
   ],
   "metadata": {
    "collapsed": false
   }
  },
  {
   "cell_type": "code",
   "execution_count": null,
   "outputs": [],
   "source": [
    "kantenlaengen = np.array([2, 3, 4, 5, 6, 7, 8, 9, 10])\n"
   ],
   "metadata": {
    "collapsed": false
   }
  },
  {
   "cell_type": "markdown",
   "source": [
    "<div  class=\"alert alert-block alert-info\">\n",
    "2. Dir liegt ein Numpy-Array mit Radien von Kreisen vor. Berechne nun den Flächeninhalt der entsprechenden Kreise. Benutze hierfür pi aus dem Modul math.</div>"
   ],
   "metadata": {
    "collapsed": false
   }
  },
  {
   "cell_type": "code",
   "execution_count": null,
   "outputs": [],
   "source": [
    "# importiere die nötigen Tools\n"
   ],
   "metadata": {
    "collapsed": false
   }
  },
  {
   "cell_type": "code",
   "execution_count": null,
   "outputs": [],
   "source": [
    "radien = np.array([2, 4, 7, 10, 15])\n"
   ],
   "metadata": {
    "collapsed": false
   }
  },
  {
   "cell_type": "markdown",
   "source": [
    "<div  class=\"alert alert-block alert-info\">\n",
    "3. Du hast ein eindimensionales Numpy-Array, das du in die Form zwei Zeilen, zwei Spalten überführen sollst. Lass dir nach der Umformung das Array sowie seine Dimensionen ausgeben und außerdem die Elemente, die größer als 1 sind.</div>"
   ],
   "metadata": {
    "collapsed": false
   }
  },
  {
   "cell_type": "code",
   "execution_count": null,
   "outputs": [],
   "source": [
    "arr = np.array([0,1,2,3])"
   ],
   "metadata": {
    "collapsed": false
   }
  },
  {
   "cell_type": "code",
   "execution_count": null,
   "outputs": [],
   "source": [],
   "metadata": {
    "collapsed": false
   }
  },
  {
   "cell_type": "markdown",
   "source": [
    "<div  class=\"alert alert-block alert-info\">\n",
    "4. Dir wurde die Datei penguins.csv zur Verfügung gestellt. Lese den Penguins-Datensatz in Form eines Pandas Dataframes ein und lasse die die fünf obersten Zeilen anzeigen.</div>"
   ],
   "metadata": {
    "collapsed": false
   }
  },
  {
   "cell_type": "code",
   "execution_count": null,
   "outputs": [],
   "source": [
    "# importiere die nötigen Tools\n"
   ],
   "metadata": {
    "collapsed": false
   }
  },
  {
   "cell_type": "code",
   "execution_count": null,
   "outputs": [],
   "source": [],
   "metadata": {
    "collapsed": false
   }
  },
  {
   "cell_type": "markdown",
   "source": [
    "<div  class=\"alert alert-block alert-info\">\n",
    "5. Ersetze in der Spalte sex \"Male\" in \"männlich\" und \"Female\" in \"weiblich.</div>"
   ],
   "metadata": {
    "collapsed": false
   }
  },
  {
   "cell_type": "code",
   "execution_count": null,
   "outputs": [],
   "source": [],
   "metadata": {
    "collapsed": false
   }
  },
  {
   "cell_type": "markdown",
   "source": [
    "<div  class=\"alert alert-block alert-info\">\n",
    "6. Lasse dir nun in einem Histogramm die Gewichtsverteilung der Pinguine anzeigen. Das Histogramm soll über insgesamt 30 Balken verfügen. Optional: Füge für die bessere Sichtbarkeit eine Umrandungsfarbe der Balken hinzu.</div>"
   ],
   "metadata": {
    "collapsed": false
   }
  },
  {
   "cell_type": "code",
   "execution_count": null,
   "outputs": [],
   "source": [],
   "metadata": {
    "collapsed": false
   }
  },
  {
   "cell_type": "markdown",
   "source": [
    "<div  class=\"alert alert-block alert-info\">\n",
    "7. Lasse dir in einem Kuchediagramm den Anteil der Pinguine von den drei verschiedenen Inseln anzeigen. Wirf dazu zunächst alle nan über Bord. Nutze danach die Methode value_counts und bilde das Ergebnis ab.</div>"
   ],
   "metadata": {
    "collapsed": false
   }
  },
  {
   "cell_type": "code",
   "execution_count": null,
   "outputs": [],
   "source": [],
   "metadata": {
    "collapsed": false
   }
  },
  {
   "cell_type": "code",
   "execution_count": null,
   "outputs": [],
   "source": [],
   "metadata": {
    "collapsed": false
   }
  },
  {
   "cell_type": "markdown",
   "source": [
    "<div  class=\"alert alert-block alert-info\">\n",
    "8. Lasse dir in einem Streudiagramm Schnabellänge und Schnabelbreite der Tiere anzeigen. Die Schnabellänge soll sich dabei auf der x-Achse und die Schnabelbreite auf der y-Achse befinden..</div>"
   ],
   "metadata": {
    "collapsed": false
   }
  },
  {
   "cell_type": "code",
   "execution_count": null,
   "outputs": [],
   "source": [],
   "metadata": {
    "collapsed": false
   }
  },
  {
   "cell_type": "markdown",
   "source": [
    "<div  class=\"alert alert-block alert-info\">\n",
    "9. Importiere den Titanic-Datensatz und lasse dir die oberen fünf Zeilen ausgeben. Dann lass dir alle Zeilen ausgeben, in denen John vorkommt. Lass dir den Teil des Datensatzes ausgeben sowie seine Länge. Nun lasse dir alle Zeilen ausgeben, die mit John starten. Miss wieder die Länge. Was ist der Unterschied?</div>"
   ],
   "metadata": {
    "collapsed": false
   }
  },
  {
   "cell_type": "code",
   "execution_count": 3,
   "outputs": [],
   "source": [],
   "metadata": {
    "collapsed": false
   }
  },
  {
   "cell_type": "code",
   "execution_count": 73,
   "outputs": [],
   "source": [],
   "metadata": {
    "collapsed": false
   }
  },
  {
   "cell_type": "markdown",
   "source": [
    "<div  class=\"alert alert-block alert-info\">\n",
    "10. Dir liegt eine Liste mit IBANS und anderen unwichtigen Dingen vor. Gewinne daraus mithilfe eines regulären Ausdrucks (regular expression) jeweils nur die IBANs! Diese setzen sich zusammen aus zwei großgeschriebenen Buchstaben am Anfang und einer Kette von Ziffern, die mindestens 5 und maximal 30 Zeichen lang ist.</div>"
   ],
   "metadata": {
    "collapsed": false
   }
  },
  {
   "cell_type": "code",
   "execution_count": null,
   "outputs": [],
   "source": [
    "iban_string = \"\"\"DE02120300000000202051\tDEUTSCHE KREDITBANK BERLIN\tBYLADEM1001\t12030000\t0000202051\n",
    "DE02500105170137075030\tING-DIBA\tINGDDEFF\t50010517\t0137075030\n",
    "DE02100500000054540402\tLANDESBANK BERLIN\tBELADEBE\t10050000\t0054540402\n",
    "DE02300209000106531065\tTARGOBANK\tCMCIDEDD\t30020900\t0106531065\n",
    "DE02200505501015871393\tHAMBURGER SPARKASSE\tHASPDEHH\t20050550\t1015871393\n",
    "DE02100100100006820101\tPOSTBANK\tPBNKDEFF\t10010010\t0006820101\n",
    "DE02300606010002474689\tAPOBANK\tDAAEDEDD\t30060601\t0002474689\n",
    "DE02600501010002034304\tLANDESBANK BADEN-WÜRTTEMBERG\tSOLADEST600\t60050101\t0002034304\n",
    "DE02700202700010108669\tUNICREDIT BANK - HYPOVEREINSBANK\tHYVEDEMM\t70020270\t0010108669\n",
    "DE02700100800030876808\tPOSTBANK (GIRO)\tPBNKDEFF\t70010080\t0030876808\n",
    "DE02370502990000684712\tKREISSPARKASSE KÖLN\tCOKSDE33\t37050299\t0000684712\n",
    "DE88100900001234567892\tBERLINER VOLKSBANK\tBEVODEBB\t10090000\t1234567892\n",
    "DE02701500000000594937\tSTADTSPARKASSE MÜNCHEN\tSSKMDEMM\t70150000\t0000594937\n",
    "IBAN-Beispiele für Österreich\n",
    "IBAN\tBank\tBIC-Code\tBankleitzahl\tKontonummer\n",
    "AT026000000001349870\tBAWAG P.S.K.\tOPSKATWW\t60000\t00001349870\n",
    "AT021420020010147558\tEASYBANK AG\tEASYATW1\t14200\t20010147558\n",
    "AT023200000000641605\tRAIFFEISENLANDESBANK NIEDERÖSTERREICH-WIEN AG\tRLNWATWW\t32000\t00000641605\n",
    "AT021200000703447144\tUNICREDIT BANK AUSTRIA AG\tBKAUATWW\t12000\t00703447144\n",
    "AT022011100003429660\tERSTE BANK DER OESTERREICHISCHEN SPARKASSEN AG\tGIBAATWW\t20111\t00003429660\n",
    "AT022081500000698597\tSTEIERMÄRKISCHE BANK UND SPARKASSEN AG\tSTSPAT2G\t20815\t00000698597\n",
    "AT022040400040102634\tSALZBURGER SPARKASSE BANK AG\tSBGSAT2S\t20404\t00040102634\n",
    "AT023400000002613800\tRAIFFEISENLANDESBANK OBERÖSTERREICH AG\tRZOOAT2L\t34000\t00002613800\n",
    "AT022032032102118431\tALLGEMEINE SPARKASSE OBERÖSTERREICH BANK AG\tASPKAT2L\t20320\t32102118431\n",
    "AT023500000001070671\tRAIFFEISENVERBAND SALZBURG EGEN\tRVSAAT2S\t35000\t00001070671\n",
    "AT021860000012387890\tVOLKSKREDITBANK AG\tVKBLAT2L\t18600\t00012387890\n",
    "AT023600000000679514\tRAIFFEISEN-LANDESBANK TIROL AG\tRZTIAT22\t36000\t00000679514\n",
    "AT021700000432040976\tBKS BANK AG\tBFKKAT2K\t17000\t00432040976\n",
    "AT022050303300646365\tTIROLER SPARKASSE BANKAG INNSBRUCK\tSPIHAT22\t20503\t03300646365\n",
    "AT023225000000704957\tRAIFFEISEN REGIONALBANK MÖDLING EGEN\tRLNWATWWGTD\t32250\t00000704957\n",
    "IBAN\tBank\tBIC-Code\tBC-Nummer\tKontonummer\n",
    "CH0209000000100013997\tPOSTFINANCE AG\tPOFICHBE\t09000\t000100013997\n",
    "CH0204835000626882001\tCREDIT SUISSE AG\tCRESCHZZ80A\t04835\t000626882001\n",
    "CH0200700110000387896\tZÜRCHER KANTONALBANK\tZKBKCHZZ80A\t00700\t110000387896\n",
    "CH0208401000051138778\tMIGROS BANK AG\tMIGRCHZZ\t08401\t000051138778\n",
    "CH0200767000C51001987\tBANQUE CANTONALE VAUDOISE\tBCVLCH2L\t00767\t000C51001987\n",
    "CH020024024014511740P\tUBS SA\tUBSWCHZH12A\t00240\t24014511740P\n",
    "CH0200790016271403331\tBERNER KANTONALBANK AG\tKBBECH22\t00790\t016271403331\n",
    "CH0200781125534343504\tST. GALLER KANTONALBANK AG\tKBSGCH22\t00781\t125534343504\n",
    "CH020023023012625140U\tUBS AG\tUBSWCHZH80A\t00230\t23012625140U\n",
    "CH0200769016143198123\tBASELLANDSCHAFTLICHE\tKANTONALBANK BLKBCH22\t00769\t016143198123\n",
    "CH2200784102000123454\tTHURGAUER KANTONALBANK\tKBTGCH22\t00784\t102000123454\n",
    "CH0206300016120442405\tVALIANT BANK AG\tVABECH22\t06300\t016120442405\n",
    "CH0200761016090504437\tAARGAUISCHE KANTONALBANK\tKBAGCH22\t00761\t016090504437\n",
    "CH0200778010152237210\tLUZERNER KANTONALBANK AG\tLUKBCH2260A\t00778\t010152237210\n",
    "CH9305881020624751001\tNEUE AARGAUER BANK AG\tAHHBCH22\t05881\t020624751001\n",
    "IBAN-Beispiele Liechtenstein\n",
    "IBAN\tBank\tBIC-Code\tBC-Nummer\tKontonummer\n",
    "LI0208800000017197386\tLIECHTENSTEINISCHE LANDESBANK AG\tLILALI2X\t08800\t000017197386\n",
    "LI0208805502400560249\tVP BANK LTD\tVPBVLI2X\t08805\t502400560249\n",
    "LI02088100000191010AC\tLGT BANK AG\tBLFLLI2X\t08810\t0000191010AC\n",
    "LI0308803103143000000\tVALARTIS BANK AG\tHYIBLI22\t08803\t103143000000\n",
    "LI0508812105028570001\tVOLKSBANK AG\tVOAGLI22\t08812\t105028570001\n",
    "LI0608808000220182703\tCENTRUM BANK AG\tCBKVLI2X\t08808\t000220182703\n",
    "LI15088110605699K002E\tBANK FRICK & CO. AG\tBFRILI22\t08811\t0605699K002E\n",
    "LI0608813201408880001\tRAIFFEISEN PRIVATBANK LIECHTENSTEIN AG\tRAIBLI22\t08813\t201408880001\n",
    "LI2608802001003488101\tNEUE BANK AG\tNBANLI22\t08802\t001003488101\n",
    "LI5708801200185100814\tBANK ALPINUM AG\tBALPLI22\t08801\t200185100814\n",
    "\"\"\""
   ],
   "metadata": {
    "collapsed": false
   }
  },
  {
   "cell_type": "code",
   "execution_count": null,
   "outputs": [],
   "source": [
    "# importiere die nötigen Tools\n"
   ],
   "metadata": {
    "collapsed": false
   }
  },
  {
   "cell_type": "code",
   "execution_count": null,
   "outputs": [],
   "source": [],
   "metadata": {
    "collapsed": false
   }
  },
  {
   "cell_type": "markdown",
   "source": [
    "<div  class=\"alert alert-block alert-info\">\n",
    "11. Du willst ein Dokument schwärzen. Alle Ziffern sollen durch *** ersetzt werden. Löse das mit einem regulären Ausdruck."
   ],
   "metadata": {
    "collapsed": false
   }
  },
  {
   "cell_type": "code",
   "execution_count": null,
   "outputs": [],
   "source": [
    "problem_dokument = \"Sehr geehrte Frau Müller, entgegen Ihrer Behauptung habe ich im vorigen Jahr im Gewerbe nur 3500 Euro verdient. Davon sind 600 für Materialkosten und 2100 für das Arbeitszimmer entfallen. Eine Nachzahlung von 7000 Euro würde selbst ein Schulkind aus der dritten Klasse nicht nachvollziehen können. Mit freundlichen Grüßen\\nIrgendjemand\""
   ],
   "metadata": {
    "collapsed": false
   }
  },
  {
   "cell_type": "code",
   "execution_count": null,
   "outputs": [],
   "source": [],
   "metadata": {
    "collapsed": false
   }
  },
  {
   "cell_type": "markdown",
   "source": [
    "<div  class=\"alert alert-block alert-info\">\n",
    "12. Optional: Informiere dich über den Metacharacter \\b und nutze ihn, um alle Worte aus dem nachfolgenden Text zu gewinnen, die \"all\" enthalten und damit starten, in Groß- und Kleinschreibung."
   ],
   "metadata": {
    "collapsed": false
   }
  },
  {
   "cell_type": "code",
   "execution_count": null,
   "outputs": [],
   "source": [
    "komischer_gruss = \"Ein allumfassendes Hallo an alle hallenden Stimmen im All und ihren Widerhall.\""
   ],
   "metadata": {
    "collapsed": false
   }
  },
  {
   "cell_type": "code",
   "execution_count": null,
   "outputs": [],
   "source": [],
   "metadata": {
    "collapsed": false
   }
  },
  {
   "cell_type": "markdown",
   "source": [
    "<div  class=\"alert alert-block alert-info\">\n",
    "13. Erstelle einen Widget für eine Funktion namens summieren. Die Funktion nimmt zwei Werte an und printet daraufhin die Summe. Nutze interact, um zwei Slider für x und y zu erzeugen und das Ergebnis der Funktion anzeigen zu lassen. Wähle als Standard-Wert für x 3 und für y 5."
   ],
   "metadata": {
    "collapsed": false
   }
  },
  {
   "cell_type": "code",
   "execution_count": null,
   "outputs": [],
   "source": [],
   "metadata": {
    "collapsed": false
   }
  },
  {
   "cell_type": "markdown",
   "source": [
    "<div  class=\"alert alert-block alert-info\">\n",
    "14. Super optional: Body-Mass-Index\n",
    "\n",
    "* Schreibe eine Funktion berechne_bmi, die als Argumente Höhe und Gewicht einer Person\n",
    "entgegennimmt. Der BMI wird dann ausgerechnet nach der Formel: Gewicht/(Höhe²) und das Ergebnis soll auf zwei Nachkommastellen gerundet von der Funktion zurückgegeben werden.\n",
    "* Erstelle danach zwei Slider: Der erste Slider soll hoehe_slider heißen und sich im Bereich zwischen 1.0 und 2.5 bewegen sowie zentimetergenau bewegt werden (also in 0.01-Schritten). Die Standardhöhe soll dabei 1.75 betragen. Die Beschreibung des Sliders soll lauten: \"Körpergröße (m):\". Mit diesem Slider lässt sich die Größe einer Person festlegen.\n",
    "* Der zweite Slider zum Gewicht soll weniger genau sein und nur ganze Zahlen umfassen. Er startet bei einem Minimalwert von 20 und geht bis 200 hoch, die Schrittgröße liegt bei 1. Das Standardgewicht beträgt 70. Die Beschreibung des Sliders soll lauten: \"Gewicht (kg):\".\n",
    "* Mache Slider und Funktion interaktiv!\n",
    "* Tipp: Importierte für diese Aufgabe ipywidgets als widgets, um auf die entsprechenden Slider zuzugreifen."
   ],
   "metadata": {
    "collapsed": false
   }
  },
  {
   "cell_type": "code",
   "execution_count": null,
   "outputs": [],
   "source": [],
   "metadata": {
    "collapsed": false
   }
  }
 ],
 "metadata": {
  "kernelspec": {
   "display_name": "Python 3",
   "language": "python",
   "name": "python3"
  },
  "language_info": {
   "codemirror_mode": {
    "name": "ipython",
    "version": 2
   },
   "file_extension": ".py",
   "mimetype": "text/x-python",
   "name": "python",
   "nbconvert_exporter": "python",
   "pygments_lexer": "ipython2",
   "version": "2.7.6"
  }
 },
 "nbformat": 4,
 "nbformat_minor": 0
}
