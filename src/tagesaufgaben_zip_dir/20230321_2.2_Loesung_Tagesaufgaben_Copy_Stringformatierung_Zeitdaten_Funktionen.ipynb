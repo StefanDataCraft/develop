{
 "cells": [
  {
   "cell_type": "markdown",
   "source": [
    "<br><br><center><h1 style=\"font-size:2em;color:#2467C0\">Tagesaufgaben 21.03.2023</h1></center>\n",
    "<br>\n"
   ],
   "metadata": {
    "collapsed": false
   }
  },
  {
   "cell_type": "markdown",
   "source": [
    "1. Dein Chef führt eine Liste seiner liebsten Filme. Seit neustem hat sich sein Geschmack geändert und er will ein paar Filme rausschmeißen und ein paar neue hinzufügen. Die alte Liste will er aber behalten, um sich in ein paar Jahren noch an seinen alten Geschmack zu erinnern. Er sagt, ich speichere einfach die Liste in eine zweite Variabel als Kopie und dann kann ich die Liste ja verändern. Was antwortest du deinem Chef? Wie sollte er stattdessen vorgehen? Kommentiere. Dann setze deinen Tipp in die Tat um und lass dir zum Schluss die alte und die neue Filmliste ausgeben."
   ],
   "metadata": {
    "collapsed": false
   }
  },
  {
   "cell_type": "code",
   "execution_count": 9,
   "outputs": [],
   "source": [
    "filmliste = [\"Modern Times\", \"Rubberhead\", \"Armacord\", \"Die Hard\", \"Matrix\"]\n",
    "# Filme die weg sollen: Rubberhead, Die Hard. Filme, die neu hinzukommen: Synecdoche, Fargo"
   ],
   "metadata": {
    "collapsed": false
   }
  },
  {
   "cell_type": "code",
   "execution_count": 10,
   "outputs": [],
   "source": [
    "# So sollte dein Chef vorgehen:\n",
    "filmliste_alt = filmliste.copy()"
   ],
   "metadata": {
    "collapsed": false
   }
  },
  {
   "cell_type": "code",
   "execution_count": 11,
   "outputs": [
    {
     "name": "stdout",
     "output_type": "stream",
     "text": [
      "['Modern Times', 'Rubberhead', 'Armacord', 'Die Hard', 'Matrix']\n",
      "['Modern Times', 'Armacord', 'Matrix', 'Synecdoche', 'Fargo']\n"
     ]
    }
   ],
   "source": [
    "filmliste.remove(\"Rubberhead\")\n",
    "filmliste.remove(\"Die Hard\")\n",
    "filmliste.append(\"Synecdoche\")\n",
    "filmliste.append(\"Fargo\")\n",
    "print(filmliste_alt)\n",
    "print(filmliste)"
   ],
   "metadata": {
    "collapsed": false
   }
  },
  {
   "cell_type": "markdown",
   "source": [
    "2. Du hast eine Liste von Getränken. Lass dir Index und Getränk ausgeben. Deine Ausgabe sollte so aussehen:\n",
    "<br />\n",
    "\n",
    "    0 Cola\n",
    "    1 Wasser\n",
    "    2 Fanta\n",
    "    3 Orangensaft\n",
    "    4 Apfelsaft\n",
    "    5 Rotwein\n",
    "    6 Almdudler\n",
    "    7 Bier"
   ],
   "metadata": {
    "collapsed": false
   }
  },
  {
   "cell_type": "code",
   "execution_count": 3,
   "outputs": [],
   "source": [
    "drinks = [\"Cola\", \"Wasser\", \"Fanta\", \"Orangensaft\", \"Apfelsaft\", \"Rotwein\", \"Almdudler\", \"Bier\"]"
   ],
   "metadata": {
    "collapsed": false
   }
  },
  {
   "cell_type": "code",
   "execution_count": 60,
   "outputs": [
    {
     "name": "stdout",
     "output_type": "stream",
     "text": [
      "0 Cola\n",
      "1 Wasser\n",
      "2 Fanta\n",
      "3 Orangensaft\n",
      "4 Apfelsaft\n",
      "5 Rotwein\n",
      "6 Almdudler\n",
      "7 Bier\n"
     ]
    }
   ],
   "source": [
    "for i, drink in enumerate(drinks):\n",
    "    print(i, drink)"
   ],
   "metadata": {
    "collapsed": false
   }
  },
  {
   "cell_type": "markdown",
   "source": [
    "3.1 Du sollst im Wort \"Abrakadabra\" alle Vorkommnisse des Buchstabens A mit Index angeben. Arbeite bitte mit f-String-Formatierung. Deine Ausgabe sollte so aussehen:\n",
    "<br />\n",
    "\n",
    "    a an der Position 0\n",
    "    a an der Position 3\n",
    "    a an der Position 5\n",
    "    a an der Position 7\n",
    "    a an der Position 10\n"
   ],
   "metadata": {
    "collapsed": false
   }
  },
  {
   "cell_type": "code",
   "execution_count": 2,
   "outputs": [
    {
     "name": "stdout",
     "output_type": "stream",
     "text": [
      "a an der Position 0\n",
      "a an der Position 3\n",
      "a an der Position 5\n",
      "a an der Position 7\n",
      "a an der Position 10\n"
     ]
    }
   ],
   "source": [
    "for i, buchstabe in enumerate(\"Abrakadabra\".lower()):\n",
    "    if buchstabe == \"a\":\n",
    "        print(f\"{buchstabe} an der Position {i}\")"
   ],
   "metadata": {
    "collapsed": false
   }
  },
  {
   "cell_type": "markdown",
   "source": [
    "3.2 Mach aus deiner for-Schleife nun eine Funktion! Nenne sie buchstaben_counter. Als Parameter sollen ein beliebiger Buchstabe und ein beliebiges Wort eingegeben werden können, sodass beliebige Textdaten nicht nur auf den Buchstaben a durchsucht werden können. Teste deine Funktion an verschiedenen Worten und mit verschiedenen Buchstaben."
   ],
   "metadata": {
    "collapsed": false
   }
  },
  {
   "cell_type": "code",
   "execution_count": 20,
   "outputs": [],
   "source": [
    "def buchstaben_counter(zeichen, wort):\n",
    "    for i, buchstabe in enumerate(wort.lower()):\n",
    "        if buchstabe == zeichen:\n",
    "            print(f\"{buchstabe} an der Position {i}\")"
   ],
   "metadata": {
    "collapsed": false
   }
  },
  {
   "cell_type": "code",
   "execution_count": 21,
   "outputs": [
    {
     "name": "stdout",
     "output_type": "stream",
     "text": [
      "o an der Position 0\n",
      "o an der Position 3\n"
     ]
    }
   ],
   "source": [
    "buchstaben_counter(\"o\", \"Otto\")"
   ],
   "metadata": {
    "collapsed": false
   }
  },
  {
   "cell_type": "markdown",
   "source": [
    "4. Du hast ein Dictionary mit dem Namen warenbestand. Lass dir den Warenbestand in folgender Form ausgeben:\n",
    "<br />\n",
    "\n",
    "    Objekt Kommode\n",
    "    47 Stück\n",
    "    ---\n",
    "    Objekt Tisch\n",
    "    112 Stück\n",
    "    ---\n",
    "    Objekt Kühlschrank\n",
    "    51 Stück\n",
    "    ---\n",
    "    usw."
   ],
   "metadata": {
    "collapsed": false
   }
  },
  {
   "cell_type": "code",
   "execution_count": 58,
   "outputs": [],
   "source": [
    "warenbestand = {\"Kommode\":47, \"Tisch\":112, \"Kühlschrank\":51, \"Mikrowelle\":201, \"Elektrowaage\":500}"
   ],
   "metadata": {
    "collapsed": false
   }
  },
  {
   "cell_type": "code",
   "execution_count": 59,
   "outputs": [
    {
     "name": "stdout",
     "output_type": "stream",
     "text": [
      "Objekt Kommode\n",
      "47 Stück\n",
      "---\n",
      "Objekt Tisch\n",
      "112 Stück\n",
      "---\n",
      "Objekt Kühlschrank\n",
      "51 Stück\n",
      "---\n",
      "Objekt Mikrowelle\n",
      "201 Stück\n",
      "---\n",
      "Objekt Elektrowaage\n",
      "500 Stück\n",
      "---\n"
     ]
    }
   ],
   "source": [
    "for gegenstand in warenbestand:\n",
    "    print(f\"Objekt {gegenstand}\\n{warenbestand[gegenstand]} Stück\\n---\")"
   ],
   "metadata": {
    "collapsed": false
   }
  },
  {
   "cell_type": "markdown",
   "source": [
    "<div  class=\"alert alert-block alert-info\">\n",
    "4.1 Hole dir das aktuelle Datum mit Uhrzeit.\n",
    "<br/>\n",
    "\n",
    "* Lasse dir das aktuelle Jahr ausgeben\n",
    "* Lasse dir den aktuellen Tag ausgeben\n",
    "* Lasse dir die aktuelle Uhrzeit im Format HH:MM ausgeben.\n",
    "</div>"
   ],
   "metadata": {
    "collapsed": false
   }
  },
  {
   "cell_type": "code",
   "execution_count": 2,
   "outputs": [],
   "source": [
    "from datetime import datetime"
   ],
   "metadata": {
    "collapsed": false
   }
  },
  {
   "cell_type": "code",
   "execution_count": 15,
   "outputs": [],
   "source": [
    "x = datetime.now()\n",
    "print(x.year)\n",
    "print(x.day)\n",
    "print(x.strftime(\"%H:%\"))"
   ],
   "metadata": {
    "collapsed": false
   }
  },
  {
   "cell_type": "code",
   "execution_count": 23,
   "outputs": [
    {
     "name": "stdout",
     "output_type": "stream",
     "text": [
      "2023-03-21 16:11:33.397675\n"
     ]
    }
   ],
   "source": [
    "print(datetime.now())"
   ],
   "metadata": {
    "collapsed": false
   }
  },
  {
   "cell_type": "markdown",
   "source": [
    "<div  class=\"alert alert-block alert-info\">\n",
    "4.2 Gegeben ist der folgende String. Wandel diesen in das richtige Datumformat um.\n",
    "\n",
    "    Output:\n",
    "    Ausgangsstring: August 05 2015\n",
    "    Datumsformat: 2015-08-05\n",
    "\n",
    "</div>"
   ],
   "metadata": {
    "collapsed": false
   }
  },
  {
   "cell_type": "code",
   "execution_count": 63,
   "outputs": [
    {
     "name": "stdout",
     "output_type": "stream",
     "text": [
      "Ausgangsstring: August 05 2015\n",
      "Datumsformat: 2015-08-05\n"
     ]
    }
   ],
   "source": [
    "from datetime import datetime\n",
    "\n",
    "dat_str1 = \"August 05 2015\"\n",
    "dat_obj1 = datetime.strptime(dat_str1, \"%B %d %Y\")\n",
    "print(f\"Ausgangsstring: {dat_str1}\")\n",
    "print(f\"Datumsformat: {dat_obj1.date()}\")"
   ],
   "metadata": {
    "collapsed": false
   }
  },
  {
   "cell_type": "markdown",
   "source": [
    "<div  class=\"alert alert-block alert-info\">\n",
    "4.3 Gegeben ist der folgende String. Wandel diesen in das richtige Datumformat um. In der Outputbox hier findest du, was die einzelnen Komponenten des Datums sein sollen.\n",
    "\n",
    "    Output:\n",
    "    Ausgangsstring: August 2016 12:35:45 14\n",
    "    Datumsformat: 2016-08-14 12:35:45\n",
    "\n",
    "</div>"
   ],
   "metadata": {
    "collapsed": false
   }
  },
  {
   "cell_type": "code",
   "execution_count": 2,
   "outputs": [
    {
     "name": "stdout",
     "output_type": "stream",
     "text": [
      "Ausgangsstring: August 2016 12:35:45 14\n",
      "Datumsformat: 2016-08-14 12:35:45\n"
     ]
    }
   ],
   "source": [
    "dat_str2 = \"August 2016 12:35:45 14\"\n",
    "dat_obj2 = datetime.strptime(dat_str2, \"%B %Y %H:%M:%S %d\")\n",
    "print(f\"Ausgangsstring: {dat_str2}\")\n",
    "print(f\"Datumsformat: {dat_obj2}\")"
   ],
   "metadata": {
    "collapsed": false
   }
  },
  {
   "cell_type": "markdown",
   "source": [
    "<div  class=\"alert alert-block alert-info\">\n",
    "4.4 Lass dir das Datum für den Tag 30 Tage in der Zukunft ausgeben. Nutze dafür timedelta.\n",
    "\n",
    "    Output:\n",
    "    Heute: 2022-12-07\n",
    "    Zukunft: 2023-01-06\n",
    "\n",
    "</div>"
   ],
   "metadata": {
    "collapsed": false
   }
  },
  {
   "cell_type": "code",
   "execution_count": 4,
   "outputs": [
    {
     "name": "stdout",
     "output_type": "stream",
     "text": [
      "Heute: 2022-12-07\n",
      "Zukunft: 2023-01-06\n"
     ]
    }
   ],
   "source": [
    "from datetime import timedelta\n",
    "\n",
    "heute = datetime.today().date()\n",
    "delta1 = timedelta(days = 30)\n",
    "\n",
    "zukunft1 = heute + delta1\n",
    "print(f\"Heute: {heute}\")\n",
    "print(f\"Zukunft: {zukunft1}\")\n"
   ],
   "metadata": {
    "collapsed": false
   }
  },
  {
   "cell_type": "markdown",
   "source": [
    "5.1 Der Code da unten hat ein Problem: Das Ziel ist es, dass in die Variable name dein Name eingegeben wird und du dann persönlich begrüßt wirst. Wie kannst du den Code anpassen, damit das funktioniert?"
   ],
   "metadata": {
    "collapsed": false
   }
  },
  {
   "cell_type": "code",
   "execution_count": 23,
   "outputs": [
    {
     "name": "stdout",
     "output_type": "stream",
     "text": [
      "Hallo, name\n"
     ]
    }
   ],
   "source": [
    "name = input(\"Bitte gib deinen Namen ein:\")\n",
    "print(\"Hallo, name\")"
   ],
   "metadata": {
    "collapsed": false
   }
  },
  {
   "cell_type": "code",
   "execution_count": 32,
   "outputs": [
    {
     "name": "stdout",
     "output_type": "stream",
     "text": [
      "Hallo, Valentin\n"
     ]
    }
   ],
   "source": [
    "name = input(\"Bitte gib deinen Namen ein:\")\n",
    "print(f\"Hallo, {name}\")"
   ],
   "metadata": {
    "collapsed": false
   }
  },
  {
   "cell_type": "markdown",
   "source": [
    "5.2 Hole dir die aktuelle Uhrzeit mithilfe von datetime und speichere die aktuelle Zeit in die Variabel Uhrzeit im Format ##:## (Stunden, Minute). Verbaue die Variabel Uhrzeit danach in den Gruß, sodass du z.B. folgenden Output erhältst:\n",
    "<br />\n",
    "\n",
    "    Hallo, Valentin!\n",
    "    Jetzt ist 14:30."
   ],
   "metadata": {
    "collapsed": false
   }
  },
  {
   "cell_type": "code",
   "execution_count": 64,
   "outputs": [],
   "source": [
    "from datetime import datetime\n",
    "\n",
    "now = datetime.now()\n",
    "uhrzeit = now.strftime(\"%H:%M\")"
   ],
   "metadata": {
    "collapsed": false
   }
  },
  {
   "cell_type": "code",
   "execution_count": 39,
   "outputs": [
    {
     "name": "stdout",
     "output_type": "stream",
     "text": [
      "Hallo, Valentin!\n",
      "Jetzt ist 09:52\n"
     ]
    }
   ],
   "source": [
    "name = input(\"Bitte gib deinen Namen ein:\")\n",
    "print(f\"Hallo, {name}!\\nJetzt ist {uhrzeit}\")"
   ],
   "metadata": {
    "collapsed": false
   }
  },
  {
   "cell_type": "markdown",
   "source": [
    "5.3 Optional: Mache eine Funktion namens grusszeit, die einen Namen als Parameter aufnimmt und den Nutzer dann mit der aktuellen Uhrzeit begrüßt."
   ],
   "metadata": {
    "collapsed": false
   }
  },
  {
   "cell_type": "code",
   "execution_count": 16,
   "outputs": [],
   "source": [
    "from datetime import datetime\n",
    "def grusszeit(name):\n",
    "    now = datetime.now()\n",
    "    uhrzeit = now.strftime(\"%H:%M\")\n",
    "    print(f\"Hallo, {name}!\\nJetzt ist {uhrzeit}\")"
   ],
   "metadata": {
    "collapsed": false
   }
  },
  {
   "cell_type": "code",
   "execution_count": 17,
   "outputs": [
    {
     "name": "stdout",
     "output_type": "stream",
     "text": [
      "Hallo, Sebastian!\n",
      "Jetzt ist 11:17\n"
     ]
    }
   ],
   "source": [
    "grusszeit(\"Sebastian\")"
   ],
   "metadata": {
    "collapsed": false
   }
  },
  {
   "cell_type": "code",
   "execution_count": 18,
   "outputs": [
    {
     "name": "stdout",
     "output_type": "stream",
     "text": [
      "Hallo, Alex!\n",
      "Jetzt ist 11:17\n"
     ]
    }
   ],
   "source": [
    "grusszeit(\"Alex\")"
   ],
   "metadata": {
    "collapsed": false
   }
  }
 ],
 "metadata": {
  "kernelspec": {
   "display_name": "Python 3",
   "language": "python",
   "name": "python3"
  },
  "language_info": {
   "codemirror_mode": {
    "name": "ipython",
    "version": 2
   },
   "file_extension": ".py",
   "mimetype": "text/x-python",
   "name": "python",
   "nbconvert_exporter": "python",
   "pygments_lexer": "ipython2",
   "version": "2.7.6"
  }
 },
 "nbformat": 4,
 "nbformat_minor": 0
}
