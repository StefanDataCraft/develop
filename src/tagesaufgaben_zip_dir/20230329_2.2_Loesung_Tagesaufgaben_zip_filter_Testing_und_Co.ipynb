{
 "cells": [
  {
   "cell_type": "markdown",
   "metadata": {},
   "source": [
    "<br><br><center><h1 style=\"font-size:2em;color:#2467C0\">Tagesaufgaben 29.03.2022</h1></center>\n",
    "<br>\n"
   ]
  },
  {
   "cell_type": "markdown",
   "source": [
    "# Built-ins und Testing"
   ],
   "metadata": {
    "collapsed": false
   }
  },
  {
   "cell_type": "markdown",
   "source": [
    "1. Du hast zwei Listen mit Vor- und Nachnamen. Die zueinander gehörigen Vor- und Nachnamen haben dabei dieselben Index-Positionen. Will heißen: Jonas heißt mit Nachnamen Schneider, David heißt mit Nachnamen Klein usw. Füge die beiden Listen mittels Zip zusammen und erstelle daraus eine Liste mit Tupeln und nenne sie tupel_people. Erstelle außerdem aus dem Zip-Objekt eine Dictionary und nenne es leute_dict."
   ],
   "metadata": {
    "collapsed": false
   }
  },
  {
   "cell_type": "code",
   "execution_count": 1,
   "outputs": [],
   "source": [
    "# Liste mit Vornamen\n",
    "vornamen = [\"Jonas\", \"David\", \"Anna\", \"Isabelle\", \"Benjamin\", \"Felix\", \"Greta\", \"Isabelle\", \"Emma\", \"Hannes\"]\n",
    "\n",
    "# Liste mit Nachnamen\n",
    "nachnamen = [\"Schneider\", \"Klein\", \"Hoffmann\", \"Becker\", \"Wagner\", \"Müller\", \"Fischer\", \"Bauer\", \"Brandt\", \"Schmidt\", \"Hansen\"]"
   ],
   "metadata": {
    "collapsed": false
   }
  },
  {
   "cell_type": "code",
   "execution_count": 2,
   "outputs": [
    {
     "name": "stdout",
     "output_type": "stream",
     "text": [
      "[('Jonas', 'Schneider'), ('David', 'Klein'), ('Anna', 'Hoffmann'), ('Isabelle', 'Becker'), ('Benjamin', 'Wagner'), ('Felix', 'Müller'), ('Greta', 'Fischer'), ('Isabelle', 'Bauer'), ('Emma', 'Brandt'), ('Hannes', 'Schmidt')]\n",
      "{'Jonas': 'Schneider', 'David': 'Klein', 'Anna': 'Hoffmann', 'Isabelle': 'Bauer', 'Benjamin': 'Wagner', 'Felix': 'Müller', 'Greta': 'Fischer', 'Emma': 'Brandt', 'Hannes': 'Schmidt'}\n"
     ]
    }
   ],
   "source": [
    "tupel_people = list(zip(vornamen, nachnamen))\n",
    "print(tupel_people)\n",
    "leute_dict = dict(zip(vornamen, nachnamen))\n",
    "print(leute_dict)"
   ],
   "metadata": {
    "collapsed": false
   }
  },
  {
   "cell_type": "markdown",
   "source": [],
   "metadata": {
    "collapsed": false
   }
  },
  {
   "cell_type": "markdown",
   "source": [
    "2. Du suchst nach einer Person namens Isabelle Becker. Durchsuche die Tupel-Liste nach ihr. Lasse dir auch ihre Position ausgeben. Zum Knobeln: Versuche sie im leute_dict zu finden. Was ist hier das Problem?"
   ],
   "metadata": {
    "collapsed": false
   }
  },
  {
   "cell_type": "code",
   "execution_count": 3,
   "outputs": [
    {
     "name": "stdout",
     "output_type": "stream",
     "text": [
      "Isabelle Becker in der Liste an Position 3 gefunden!\n"
     ]
    }
   ],
   "source": [
    "for i, tupel in enumerate(tupel_people):\n",
    "    if tupel == (\"Isabelle\", \"Becker\"):\n",
    "        print(f\"{tupel[0]} {tupel[1]} in der Liste an Position {i} gefunden!\")"
   ],
   "metadata": {
    "collapsed": false
   }
  },
  {
   "cell_type": "code",
   "execution_count": 4,
   "outputs": [
    {
     "data": {
      "text/plain": "'Bauer'"
     },
     "execution_count": 4,
     "metadata": {},
     "output_type": "execute_result"
    }
   ],
   "source": [
    "leute_dict[\"Isabelle\"]\n",
    "# Isabelle Bauer kommt in den Listen später vor. Der value Becker zum Key Isabelle wird überschrieben."
   ],
   "metadata": {
    "collapsed": false
   }
  },
  {
   "cell_type": "markdown",
   "source": [
    "3. Optional: Kannst du die Aufgabe auch ohne den Schritt mit der Liste lösen und direkt mit dem zip-Objekt in einer for-Schleife arbeiten?"
   ],
   "metadata": {
    "collapsed": false
   }
  },
  {
   "cell_type": "code",
   "execution_count": 5,
   "outputs": [
    {
     "name": "stdout",
     "output_type": "stream",
     "text": [
      "Isabelle Becker in der Liste an Position 3 gefunden!\n"
     ]
    }
   ],
   "source": [
    "for i, person in enumerate(zip(vornamen, nachnamen)):\n",
    "    if person == (\"Isabelle\", \"Becker\"):\n",
    "        print(f\"{person[0]} {person[1]} in der Liste an Position {i} gefunden!\")"
   ],
   "metadata": {
    "collapsed": false
   }
  },
  {
   "cell_type": "markdown",
   "source": [
    "4. Du hast ein Kleingewerbe und eine Liste aller Einnahmen aus dem letzten Kalenderjahr. Du möchtest wissen, wie viel du für jeden Auftrag wirklich verdient hast und 14 Prozent Steuer davon abziehen. Löse das mithilfe map und einer Lambda-Funktion und speichere die Liste in die Variabel netto_einkommen. Bitte runde alle Werte auf zwei Nachkommastellen."
   ],
   "metadata": {
    "collapsed": false
   }
  },
  {
   "cell_type": "code",
   "execution_count": 6,
   "outputs": [],
   "source": [
    "einnahmen = [422, 440, 460, 480, 500, 520, 540, 560, 280, 400, 650, 240, 360, 680, 70, 720, 440, 80, 280, 100, 520, 440, 160, 380]"
   ],
   "metadata": {
    "collapsed": false
   }
  },
  {
   "cell_type": "code",
   "execution_count": 7,
   "outputs": [
    {
     "name": "stdout",
     "output_type": "stream",
     "text": [
      "[362.92, 378.4, 395.6, 412.8, 430.0, 447.2, 464.4, 481.6, 240.8, 344.0, 559.0, 206.4, 309.6, 584.8, 60.2, 619.2, 378.4, 68.8, 240.8, 86.0, 447.2, 378.4, 137.6, 326.8]\n"
     ]
    }
   ],
   "source": [
    "netto_einkommen = list(map(lambda x:round(x*0.86,2), einnahmen))\n",
    "print(netto_einkommen)"
   ],
   "metadata": {
    "collapsed": false
   }
  },
  {
   "cell_type": "markdown",
   "source": [
    "5. Vergleiche nun die Summe deiner Einnahmen und die Summe deiner Netto-Einnahmen. Wie viele Euro musst du an den Staat abdrücken?"
   ],
   "metadata": {
    "collapsed": false
   }
  },
  {
   "cell_type": "code",
   "execution_count": 8,
   "outputs": [
    {
     "name": "stdout",
     "output_type": "stream",
     "text": [
      "9722\n",
      "8360.92\n",
      "Abzudrücken: 1361.08\n"
     ]
    }
   ],
   "source": [
    "print(sum(einnahmen))\n",
    "print(sum(netto_einkommen))\n",
    "print(\"Abzudrücken:\", sum(einnahmen)-sum(netto_einkommen))"
   ],
   "metadata": {
    "collapsed": false
   }
  },
  {
   "cell_type": "markdown",
   "source": [
    "6. Du hast eine Zahlenliste. Lasse dir eine Liste mit allen Zahlen ausgeben, die sich durch sieben teilen lassen. Nutze dazu filter!"
   ],
   "metadata": {
    "collapsed": false
   }
  },
  {
   "cell_type": "code",
   "execution_count": 9,
   "outputs": [],
   "source": [
    "zahlenliste = [990, 1,60, 79, 431, 154, 453, 322, 84, 765, 321, 633, 542, 105]"
   ],
   "metadata": {
    "collapsed": false
   }
  },
  {
   "cell_type": "code",
   "execution_count": 10,
   "outputs": [
    {
     "name": "stdout",
     "output_type": "stream",
     "text": [
      "[154, 322, 84, 105]\n"
     ]
    }
   ],
   "source": [
    "siebener = list(filter(lambda x: x%7 == 0, zahlenliste))\n",
    "print(siebener)"
   ],
   "metadata": {
    "collapsed": false
   }
  },
  {
   "cell_type": "markdown",
   "source": [
    "7. Du hast Code in Form eines Strings vorliegen. Wenn du die Zelle laufen lässt, kriegst du nicht den erwünschten Output. Behebe das Problem mit eval."
   ],
   "metadata": {
    "collapsed": false
   }
  },
  {
   "cell_type": "code",
   "execution_count": 11,
   "outputs": [
    {
     "data": {
      "text/plain": "'\"Hallo Welt\"[6:]'"
     },
     "execution_count": 11,
     "metadata": {},
     "output_type": "execute_result"
    }
   ],
   "source": [
    "'\"Hallo Welt\"[6:]'"
   ],
   "metadata": {
    "collapsed": false
   }
  },
  {
   "cell_type": "code",
   "execution_count": 12,
   "outputs": [
    {
     "data": {
      "text/plain": "'Welt'"
     },
     "execution_count": 12,
     "metadata": {},
     "output_type": "execute_result"
    }
   ],
   "source": [
    "eval('\"Hallo Welt\"[6:]')"
   ],
   "metadata": {
    "collapsed": false
   }
  },
  {
   "cell_type": "markdown",
   "source": [
    "8. Bei den Tagesaufgaben liegt eine Datei namens rechner.py mit zwei Rechenoperationen als Funktionen. Schreibe Tests zu diesen Funktionen! (Mindestens drei assertEquals pro Rechenoperation.) Führe die Tests zunächst in Pycharm und später auch über die Kommandozeile aus. Verwende hierzu folgende Schreibweise: python -m unittest name_der_testdatei.py"
   ],
   "metadata": {
    "collapsed": false
   }
  },
  {
   "cell_type": "markdown",
   "source": [
    "# Numpy"
   ],
   "metadata": {
    "collapsed": false
   }
  },
  {
   "cell_type": "markdown",
   "source": [
    "<div  class=\"alert alert-block alert-info\">\n",
    "1. Erstelle ein eindimensionales numpy-Array aus fünf Zahlen\n",
    "</div>"
   ],
   "metadata": {
    "collapsed": false
   }
  },
  {
   "cell_type": "code",
   "execution_count": 1,
   "outputs": [
    {
     "name": "stdout",
     "output_type": "stream",
     "text": [
      "[10 20 23 12 89]\n"
     ]
    }
   ],
   "source": [
    "import numpy as np\n",
    "\n",
    "eind = np.array([10, 20, 23, 12, 89])\n",
    "print(eind)"
   ],
   "metadata": {
    "collapsed": false
   }
  },
  {
   "cell_type": "markdown",
   "source": [],
   "metadata": {
    "collapsed": false
   }
  },
  {
   "cell_type": "markdown",
   "source": [
    "<div  class=\"alert alert-block alert-info\">\n",
    "2. Erstelle ein zweidimensionales numpy-Array aus sechs Zahlen\n",
    "</div>"
   ],
   "metadata": {
    "collapsed": false
   }
  },
  {
   "cell_type": "code",
   "execution_count": 2,
   "outputs": [
    {
     "name": "stdout",
     "output_type": "stream",
     "text": [
      "[[ 3  2 34  5]\n",
      " [ 1 87 34 21]]\n"
     ]
    }
   ],
   "source": [
    "zweid = np.array([[3, 2, 34, 5], [1, 87, 34, 21]])\n",
    "print(zweid)"
   ],
   "metadata": {
    "collapsed": false
   }
  },
  {
   "cell_type": "markdown",
   "source": [
    "<div  class=\"alert alert-block alert-info\">\n",
    "3. Lass dir aus deinem zweidimensionalen Array das erste Array und danach noch die zweite Zahl aus dem ersten Array ausgeben.\n",
    "\n",
    "    Output:\n",
    "    [ 3  2 34  5]\n",
    "    2\n",
    "</div>"
   ],
   "metadata": {
    "collapsed": false
   }
  },
  {
   "cell_type": "code",
   "execution_count": 3,
   "outputs": [
    {
     "name": "stdout",
     "output_type": "stream",
     "text": [
      "[ 3  2 34  5]\n",
      "2\n"
     ]
    }
   ],
   "source": [
    "print(zweid[0])\n",
    "print(zweid[0, 1])"
   ],
   "metadata": {
    "collapsed": false
   }
  },
  {
   "cell_type": "markdown",
   "source": [
    "<div  class=\"alert alert-block alert-info\">\n",
    "4. Lass dir die Anzahl der Dimensionen für die beiden Arrays ausgeben.\n",
    "\n",
    "    Output:\n",
    "    1\n",
    "    2\n",
    "\n",
    "\n",
    "</div>"
   ],
   "metadata": {
    "collapsed": false
   }
  },
  {
   "cell_type": "code",
   "execution_count": 4,
   "outputs": [
    {
     "name": "stdout",
     "output_type": "stream",
     "text": [
      "1\n",
      "2\n"
     ]
    }
   ],
   "source": [
    "print(eind.ndim)\n",
    "print(zweid.ndim)"
   ],
   "metadata": {
    "collapsed": false
   }
  },
  {
   "cell_type": "markdown",
   "source": [
    "<div  class=\"alert alert-block alert-info\">\n",
    "5. Erstelle ein Array mit zwei Dimensionen, der Form 2,4 und der Größe 8. Lass dir anschließend das Array und all diese Werte ausgeben.\n",
    "\n",
    "    Output:\n",
    "    [[ 2  3  1  4]\n",
    "     [23 34  1  2]]\n",
    "     2\n",
    "     (2, 4)\n",
    "     8\n",
    "</div>"
   ],
   "metadata": {
    "collapsed": false
   }
  },
  {
   "cell_type": "code",
   "execution_count": 5,
   "outputs": [
    {
     "name": "stdout",
     "output_type": "stream",
     "text": [
      "[[ 2  3  1  4]\n",
      " [23 34  1  2]]\n",
      "2\n",
      "(2, 4)\n",
      "8\n"
     ]
    }
   ],
   "source": [
    "x = np.array([[2,3,1,4], [23,34,1,2]])\n",
    "\n",
    "print(x)\n",
    "print(x.ndim)\n",
    "print(x.shape)\n",
    "print(x.size)"
   ],
   "metadata": {
    "collapsed": false
   }
  },
  {
   "cell_type": "markdown",
   "source": [
    "<div  class=\"alert alert-block alert-info\">\n",
    "6. Lass dir den Datentypen der Elemente ausgeben, die sich in dem Array aus Aufgabe 5 befinden.\n",
    "\n",
    "    Output:\n",
    "    int32\n",
    "</div>"
   ],
   "metadata": {
    "collapsed": false
   }
  },
  {
   "cell_type": "code",
   "execution_count": 6,
   "outputs": [
    {
     "name": "stdout",
     "output_type": "stream",
     "text": [
      "int32\n"
     ]
    }
   ],
   "source": [
    "print(x.dtype)"
   ],
   "metadata": {
    "collapsed": false
   }
  },
  {
   "cell_type": "markdown",
   "source": [
    "<div  class=\"alert alert-block alert-info\">\n",
    "7. Wandel die Elemente des Arrays aus Aufgabe 5 in Floats um.\n",
    "\n",
    "    Output:\n",
    "    [[ 2.  3.  1.  4.]\n",
    "     [23. 34.  1.  2.]]\n",
    "</div>"
   ],
   "metadata": {
    "collapsed": false
   }
  },
  {
   "cell_type": "code",
   "execution_count": 7,
   "outputs": [
    {
     "name": "stdout",
     "output_type": "stream",
     "text": [
      "[[ 2.  3.  1.  4.]\n",
      " [23. 34.  1.  2.]]\n"
     ]
    }
   ],
   "source": [
    "x_float = x.astype(float)\n",
    "print(x_float)"
   ],
   "metadata": {
    "collapsed": false
   }
  },
  {
   "cell_type": "markdown",
   "source": [
    "<div  class=\"alert alert-block alert-info\">\n",
    "8. Wandel die Elemente des Arrays aus Aufgabe 5 in Strings um.\n",
    "\n",
    "    Output:\n",
    "    [['2' '3' '1' '4']\n",
    "     ['23' '34' '1' '2']]\n",
    "</div>"
   ],
   "metadata": {
    "collapsed": false
   }
  },
  {
   "cell_type": "code",
   "execution_count": 81,
   "outputs": [
    {
     "name": "stdout",
     "output_type": "stream",
     "text": [
      "[['2' '3' '1' '4']\n",
      " ['23' '34' '1' '2']]\n"
     ]
    }
   ],
   "source": [
    "x_string = x.astype(str)\n",
    "print(x_string)"
   ],
   "metadata": {
    "collapsed": false
   }
  }
 ],
 "metadata": {
  "kernelspec": {
   "display_name": "Python 3 (ipykernel)",
   "language": "python",
   "name": "python3"
  },
  "language_info": {
   "codemirror_mode": {
    "name": "ipython",
    "version": 3
   },
   "file_extension": ".py",
   "mimetype": "text/x-python",
   "name": "python",
   "nbconvert_exporter": "python",
   "pygments_lexer": "ipython3",
   "version": "3.9.13"
  }
 },
 "nbformat": 4,
 "nbformat_minor": 1
}
