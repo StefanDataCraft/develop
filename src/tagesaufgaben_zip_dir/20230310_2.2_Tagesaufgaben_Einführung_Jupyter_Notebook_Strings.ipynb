{
 "cells": [
  {
   "cell_type": "markdown",
   "id": "8be76890",
   "metadata": {},
   "source": [
    "<br><br><center><h1 style=\"font-size:2em;color:#2467C0\">Tagesaufgaben 10.03.2023</h1></center>\n",
    "<br>\n",
    "<table>\n",
    "<col width=\"950\">\n",
    "<col width=\"450\">\n",
    "<img src=\"https://miro.medium.com/max/1200/1*3Jfqp1MsC8i1fFiUwt9sEA.jpeg\" align=\"middle\" style=\"width:850px;height:360px;\"/>\n",
    "</table>"
   ]
  },
  {
   "cell_type": "markdown",
   "id": "5712613e",
   "metadata": {},
   "source": [
    "### Aufgabe 1 - Einführung Jupyter Notebook\n",
    "1. Schreibe in die folgende Zelle einen Satz und führe sie aus. Es sollte eine Fehlermeldung erscheinen."
   ]
  },
  {
   "cell_type": "markdown",
   "source": [
    "# Modus"
   ],
   "metadata": {
    "collapsed": false
   }
  },
  {
   "cell_type": "markdown",
   "id": "035d1877",
   "metadata": {},
   "source": [
    "2. Die Zelle zuvor war als Code formatiert (sichtbar an dem \"In [ ]:\" links), weswegen der Satz einen Fehler verursacht. Formatiere die folgende Zelle als Markdown und schreibe anschließend den gleichen Satz hinein. Führe die Zelle anschließend aus. Nun sollte es funktionieren!"
   ]
  },
  {
   "cell_type": "markdown",
   "source": [
    "## Hallo, Welt!"
   ],
   "metadata": {
    "collapsed": false
   }
  },
  {
   "cell_type": "markdown",
   "id": "232ec324",
   "metadata": {},
   "source": [
    "3. Gib dem Satz in der folgenden Zelle eine Überschrift. Nutze dafür ein #, um die Überschrift größer darzustellen."
   ]
  },
  {
   "cell_type": "code",
   "execution_count": 3,
   "id": "d0253547",
   "metadata": {},
   "outputs": [],
   "source": [
    "a = \"ich\""
   ]
  },
  {
   "cell_type": "markdown",
   "id": "79fb2f3b",
   "metadata": {},
   "source": [
    "4. Gib in die folgende Zelle eine Rechnung ein (z.B. 3+3) und führe die Zelle aus. Es sollte dabei nicht das Ergebnis erscheinen, sondern die Rechnung selbst."
   ]
  },
  {
   "cell_type": "markdown",
   "id": "7771098e",
   "metadata": {},
   "source": []
  },
  {
   "cell_type": "markdown",
   "id": "330a7bf9",
   "metadata": {},
   "source": [
    "5. Die vorherige Zelle war als Markdown formatiert (sichtbar daran, dass links nicht \"In [ ]:\" steht), weswegen das Eingegebene einfach so \"gedruckt\" wird. Formatiere die folgende Zelle nun als Code und gib die gleiche Rechnung wie zuvor wieder ein und führe die Zelle aus."
   ]
  },
  {
   "cell_type": "markdown",
   "id": "4847e42d",
   "metadata": {},
   "source": []
  },
  {
   "cell_type": "markdown",
   "id": "9659af7f",
   "metadata": {},
   "source": [
    "6. Füge unter dieser Zelle eine leere Zelle hinzu. Wähle dazu diese Zelle aus und drücke b. (Alternativ: drücke das \"+\" oben in der Leiste)"
   ]
  },
  {
   "cell_type": "markdown",
   "id": "ee6cfc90",
   "metadata": {},
   "source": [
    "7. Füge über dieser Zelle eine leere Zelle hinzu. Wähle dazu diese Zelle aus und drücke a. (Alternativ: wähle oben in der Leiste \"Insert\" und dann \"Insert cell above\")"
   ]
  },
  {
   "cell_type": "markdown",
   "id": "c72fcff8",
   "metadata": {},
   "source": [
    "8. Lösche die folgende Zelle. Wähle dazu die folgende Zelle aus und drücke zwei Mal hintereinander d. (Alternativ: wähle oben in der Leiste \"Edit\", dann \"Delete cells\")"
   ]
  },
  {
   "cell_type": "markdown",
   "id": "db510c7b",
   "metadata": {},
   "source": [
    "<div class=\"alert alert-block alert-info\"><br>Quatsch der gelöscht werden soll</div>"
   ]
  },
  {
   "cell_type": "markdown",
   "id": "7b92b9b9",
   "metadata": {},
   "source": [
    "### Aufgabe 2 - Strings und Variablen\n"
   ]
  },
  {
   "cell_type": "markdown",
   "id": "e92f319e",
   "metadata": {},
   "source": [
    "\"Strings\" sind Texte oder Wörter, die innerhalb eines Codes funktionieren. Sie besitzen keine eigene Funktion, sondern sollen tatsächlich innerhalb des Codes Text darstellen."
   ]
  },
  {
   "cell_type": "markdown",
   "id": "d94c3287",
   "metadata": {},
   "source": [
    "1. Schreibe in die nächste Zelle deinen Vor- und Nachnamen in Codeform (Ändere dazu also nicht die Formatierung der Zelle, sondern nutze die \"\"). Führe die Zelle danach aus."
   ]
  },
  {
   "cell_type": "code",
   "execution_count": null,
   "id": "24278a25",
   "metadata": {},
   "outputs": [],
   "source": []
  },
  {
   "cell_type": "markdown",
   "id": "da8cac98",
   "metadata": {},
   "source": [
    "2. Schreibe deinen Vornamen und Nachnamen nun in Variablen (Nutze eine Variable für deinen Vornamen und eine andere für deinen Nachnamen). Variablen werden in Python immer folgendermaßen geschrieben:\n",
    "\n",
    "   **variablennamen = variablenwert**\n",
    "\n",
    "   Beispiel:\n",
    "\n",
    "   Einer meiner bekannten heißt Peter, ein anderer heißt Alex:\n",
    "\n",
    "   bekannter1 = \"Peter\"\n",
    "   \n",
    "   bekannter2 = \"Alex"
   ]
  },
  {
   "cell_type": "code",
   "execution_count": null,
   "id": "811843c9",
   "metadata": {},
   "outputs": [],
   "source": []
  },
  {
   "cell_type": "markdown",
   "id": "18882f1c",
   "metadata": {},
   "source": [
    "2. Gib nun in der folgenden Zelle den Namen der Variable ein, die du für deinen Vornamen genutzt hast. Führe die Zelle danach aus. "
   ]
  },
  {
   "cell_type": "code",
   "execution_count": null,
   "id": "7f8e1642",
   "metadata": {},
   "outputs": [],
   "source": []
  },
  {
   "cell_type": "markdown",
   "id": "2b6cd8a2",
   "metadata": {},
   "source": [
    "3. Nutze nun die **print()** Funktion, um deinen Vornamen und Nachnamen nur mit Hilfe der beiden Variablen wiederzugeben, die du für deine Namen genutzt hast. In meinem Beispiel würde das so aussehen:\n",
    "   \n",
    "   print(bekannter1 + \" \" + bekannter2)"
   ]
  },
  {
   "cell_type": "code",
   "execution_count": null,
   "id": "44d8d21f",
   "metadata": {},
   "outputs": [],
   "source": []
  },
  {
   "cell_type": "markdown",
   "id": "79978175",
   "metadata": {},
   "source": [
    "4. Du kannst die beiden Namen auch vorher verbinden, bevor du sie \"printest\", indem du eine neue Variable erzeugst. In meinem Beispiel wäre das:\n",
    "\n",
    "    bekannte = bekannter1 + \" \" + bekannter2\n",
    "    \n",
    "    Führe das für deinen Vor- und Nachnamen in der folgenden Zelle aus und gib die neue Variable aus!"
   ]
  },
  {
   "cell_type": "code",
   "execution_count": null,
   "id": "badca51b",
   "metadata": {},
   "outputs": [],
   "source": []
  },
  {
   "cell_type": "markdown",
   "id": "b16c3dc5",
   "metadata": {},
   "source": [
    "5. Gib die Länge deines Nachnamen in der folgenden Zelle aus! Nutze dafür die **len()** Funktion"
   ]
  },
  {
   "cell_type": "code",
   "execution_count": null,
   "id": "c7e47acf",
   "metadata": {},
   "outputs": [],
   "source": []
  },
  {
   "cell_type": "markdown",
   "id": "9e6fabbe",
   "metadata": {},
   "source": [
    "6. Lass dir deinen Vornamen komplett in Großbuchstaben anzeigen"
   ]
  },
  {
   "cell_type": "code",
   "execution_count": null,
   "id": "8cfbee7a",
   "metadata": {},
   "outputs": [],
   "source": []
  },
  {
   "cell_type": "markdown",
   "id": "21333a72",
   "metadata": {},
   "source": [
    "7. Lass dir deinen Nachnamen komplett in Kleinbuchstaben anzeigen"
   ]
  },
  {
   "cell_type": "code",
   "execution_count": null,
   "id": "07732a8b",
   "metadata": {},
   "outputs": [],
   "source": []
  },
  {
   "cell_type": "markdown",
   "id": "049f78cf",
   "metadata": {},
   "source": [
    "### Aufgabe 3 - Strings teilen"
   ]
  },
  {
   "cell_type": "markdown",
   "id": "351f9164",
   "metadata": {},
   "source": [
    "Löse alle folgenden Aufgaben mit den Variablen die du deinem Vor- bzw. Nachnamen gegeben hast.\n",
    "\n",
    "1. Gib den ersten Buchstaben deines Vornamen aus!"
   ]
  },
  {
   "cell_type": "code",
   "execution_count": null,
   "id": "28b3ab83",
   "metadata": {},
   "outputs": [],
   "source": []
  },
  {
   "cell_type": "markdown",
   "id": "4b6e67b4",
   "metadata": {},
   "source": [
    "2. Gib den dritten Buchstaben deines Nachnamen aus"
   ]
  },
  {
   "cell_type": "code",
   "execution_count": null,
   "id": "a2bf3373",
   "metadata": {},
   "outputs": [],
   "source": []
  },
  {
   "cell_type": "markdown",
   "id": "5c1742b5",
   "metadata": {},
   "source": [
    "3. Gib gleichzeitig die ersten beiden Buchstaben deines Vornamen aus"
   ]
  },
  {
   "cell_type": "code",
   "execution_count": null,
   "id": "d90a1cdb",
   "metadata": {},
   "outputs": [],
   "source": []
  },
  {
   "cell_type": "markdown",
   "id": "ff7f0a42",
   "metadata": {},
   "source": [
    "4. Gib den letzten Buchstaben deines Nachnamen aus"
   ]
  },
  {
   "cell_type": "code",
   "execution_count": null,
   "id": "538c2692",
   "metadata": {},
   "outputs": [],
   "source": []
  },
  {
   "cell_type": "markdown",
   "id": "0fc739e2",
   "metadata": {},
   "source": [
    "5. Gib deine Initialien aus. Gib also den ersten Buchstaben deines Vornamen und den ersten Buchstaben deines Nachnamen aus"
   ]
  },
  {
   "cell_type": "code",
   "execution_count": null,
   "id": "e695a715",
   "metadata": {},
   "outputs": [],
   "source": []
  },
  {
   "cell_type": "markdown",
   "id": "6f61ddda",
   "metadata": {},
   "source": [
    "### Aufgabe 4 - Kommentare"
   ]
  },
  {
   "cell_type": "markdown",
   "id": "0cefe33f",
   "metadata": {},
   "source": [
    "Kommentare sind für deinen Code enorm wichtig, damit du in ein paar Wochen/Monaten/Jahren immer noch verstehst, was du hier gecodet hast. Füge in der folgenden Zeile einen Kommentar hinzu, der erklärt, was der Code macht. Nutze hierfür ein #."
   ]
  },
  {
   "cell_type": "code",
   "execution_count": 3,
   "id": "74f2c929",
   "metadata": {},
   "outputs": [
    {
     "data": {
      "text/plain": [
       "6"
      ]
     },
     "execution_count": 3,
     "metadata": {},
     "output_type": "execute_result"
    }
   ],
   "source": [
    "\n",
    "stadt = \"Berlin\"\n",
    "len(stadt)"
   ]
  }
 ],
 "metadata": {
  "kernelspec": {
   "display_name": "Python 3 (ipykernel)",
   "language": "python",
   "name": "python3"
  },
  "language_info": {
   "codemirror_mode": {
    "name": "ipython",
    "version": 3
   },
   "file_extension": ".py",
   "mimetype": "text/x-python",
   "name": "python",
   "nbconvert_exporter": "python",
   "pygments_lexer": "ipython3",
   "version": "3.9.13"
  }
 },
 "nbformat": 4,
 "nbformat_minor": 5
}
