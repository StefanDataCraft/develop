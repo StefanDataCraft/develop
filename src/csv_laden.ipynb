{
 "cells": [
  {
   "cell_type": "code",
   "execution_count": 9,
   "metadata": {
    "collapsed": true
   },
   "outputs": [
    {
     "name": "stdout",
     "output_type": "stream",
     "text": [
      "C:\\develop\\src\n",
      "<class 'pandas.core.frame.DataFrame'>\n",
      "       Rented Bike Count         Hour  Temperature(°C)  Humidity(%)   \n",
      "count        8760.000000  8760.000000      8760.000000  8760.000000  \\\n",
      "mean          704.602055    11.500000        12.882922    58.226256   \n",
      "std           644.997468     6.922582        11.944825    20.362413   \n",
      "min             0.000000     0.000000       -17.800000     0.000000   \n",
      "25%           191.000000     5.750000         3.500000    42.000000   \n",
      "50%           504.500000    11.500000        13.700000    57.000000   \n",
      "75%          1065.250000    17.250000        22.500000    74.000000   \n",
      "max          3556.000000    23.000000        39.400000    98.000000   \n",
      "\n",
      "       Wind speed (m/s)  Visibility (10m)  Dew point temperature(°C)   \n",
      "count       8760.000000       8760.000000                8760.000000  \\\n",
      "mean           1.724909       1436.825799                   4.073813   \n",
      "std            1.036300        608.298712                  13.060369   \n",
      "min            0.000000         27.000000                 -30.600000   \n",
      "25%            0.900000        940.000000                  -4.700000   \n",
      "50%            1.500000       1698.000000                   5.100000   \n",
      "75%            2.300000       2000.000000                  14.800000   \n",
      "max            7.400000       2000.000000                  27.200000   \n",
      "\n",
      "       Solar Radiation (MJ/m2)  Rainfall(mm)  Snowfall (cm)  \n",
      "count              8760.000000   8760.000000    8760.000000  \n",
      "mean                  0.569111      0.148687       0.075068  \n",
      "std                   0.868746      1.128193       0.436746  \n",
      "min                   0.000000      0.000000       0.000000  \n",
      "25%                   0.000000      0.000000       0.000000  \n",
      "50%                   0.010000      0.000000       0.000000  \n",
      "75%                   0.930000      0.000000       0.000000  \n",
      "max                   3.520000     35.000000       8.800000  \n",
      "         Date  Rented Bike Count  Hour  Temperature(°C)  Humidity(%)   \n",
      "0  01/12/2017                254     0             -5.2           37  \\\n",
      "1  01/12/2017                204     1             -5.5           38   \n",
      "2  01/12/2017                173     2             -6.0           39   \n",
      "3  01/12/2017                107     3             -6.2           40   \n",
      "4  01/12/2017                 78     4             -6.0           36   \n",
      "\n",
      "   Wind speed (m/s)  Visibility (10m)  Dew point temperature(°C)   \n",
      "0               2.2              2000                      -17.6  \\\n",
      "1               0.8              2000                      -17.6   \n",
      "2               1.0              2000                      -17.7   \n",
      "3               0.9              2000                      -17.6   \n",
      "4               2.3              2000                      -18.6   \n",
      "\n",
      "   Solar Radiation (MJ/m2)  Rainfall(mm)  Snowfall (cm) Seasons     Holiday   \n",
      "0                      0.0           0.0            0.0  Winter  No Holiday  \\\n",
      "1                      0.0           0.0            0.0  Winter  No Holiday   \n",
      "2                      0.0           0.0            0.0  Winter  No Holiday   \n",
      "3                      0.0           0.0            0.0  Winter  No Holiday   \n",
      "4                      0.0           0.0            0.0  Winter  No Holiday   \n",
      "\n",
      "  Functioning Day  \n",
      "0             Yes  \n",
      "1             Yes  \n",
      "2             Yes  \n",
      "3             Yes  \n",
      "4             Yes  \n",
      "            Date  Rented Bike Count  Hour  Temperature(°C)  Humidity(%)   \n",
      "8757  30/11/2018                694    21              2.6           39  \\\n",
      "8758  30/11/2018                712    22              2.1           41   \n",
      "8759  30/11/2018                584    23              1.9           43   \n",
      "\n",
      "      Wind speed (m/s)  Visibility (10m)  Dew point temperature(°C)   \n",
      "8757               0.3              1968                       -9.9  \\\n",
      "8758               1.0              1859                       -9.8   \n",
      "8759               1.3              1909                       -9.3   \n",
      "\n",
      "      Solar Radiation (MJ/m2)  Rainfall(mm)  Snowfall (cm) Seasons   \n",
      "8757                      0.0           0.0            0.0  Autumn  \\\n",
      "8758                      0.0           0.0            0.0  Autumn   \n",
      "8759                      0.0           0.0            0.0  Autumn   \n",
      "\n",
      "         Holiday Functioning Day  \n",
      "8757  No Holiday             Yes  \n",
      "8758  No Holiday             Yes  \n",
      "8759  No Holiday             Yes  \n"
     ]
    }
   ],
   "source": [
    "import pandas as pd\n",
    "import os\n",
    "\n",
    "\"\"\"pd.set_option('display.max_rows', 500)\n",
    "pd.set_option('display.max_columns', 500)\n",
    "pd.set_option('display.width', 1000)\n",
    "\"\"\"\n",
    "print(os.getcwd())\n",
    "bikes = pd.read_csv('C:\\\\develop\\\\src\\\\20230405_2.2_Python_SeoulBikeData.csv', encoding='ISO-8859-1')\n",
    "print(type(bikes))\n",
    "print(bikes.describe())\n",
    "print(bikes.head(5))\n",
    "print(bikes.tail(3))\n",
    "\n"
   ]
  },
  {
   "cell_type": "code",
   "execution_count": 10,
   "outputs": [
    {
     "data": {
      "text/plain": "Date  01/01/2018  01/02/2018  01/03/2018  01/04/2018  01/05/2018  01/06/2018   \nHour                                                                           \n0            206         122          71         579         782         963  \\\n1            230         149         147         453         705         776   \n2            178         103         180         322         534         554   \n3            119          81          92         221         343         366   \n4             62          37          28         147         187         265   \n5             61          51          11          96         166         306   \n6             65          95          33         110         306         672   \n7             81         244          61         169         614        1421   \n8             89         459         148         342        1067        2149   \n9            121         259         160         485        1024        1219   \n10           139         168         191         566        1002         862   \n11           169         194         239         737        1117        1036   \n12           225         240         311         926        1315        1076   \n13           248         233         358        1156        1493        1093   \n14           298         256         375        1201        1536        1071   \n15           344         293         458        1349        1639        1235   \n16           310         268         460        1409        1759        1488   \n17           271         341         423        1362        1898        2123   \n18           218         542         317        1296        2082        3088   \n19           125         344         231        1066        1696        2505   \n20           206         263         246         984        1656        2163   \n21           203         257         212         983        1644        2066   \n22           168         235         190         841        1400        1991   \n23           154         143         190         588         855        1440   \n\nDate  01/07/2018  01/08/2018  01/09/2018  01/10/2018  ...  30/10/2018   \nHour                                                  ...               \n0            865         875        1075         680  ...         488  \\\n1            740         724         975         402  ...         440   \n2            586         501         785         262  ...         283   \n3            368         362         514         179  ...         182   \n4            211         250         338         143  ...         150   \n5             54         315         260         246  ...         162   \n6             60         622         362         632  ...         394   \n7             25        1061         511        1429  ...        1005   \n8             20        1550         812        2101  ...        1883   \n9              9         853         925        1106  ...         982   \n10            13         540         861         856  ...         684   \n11            11         521         981         959  ...         782   \n12             9         569        1086        1138  ...         881   \n13            30         533        1303        1087  ...         847   \n14            14         475        1371        1137  ...         903   \n15            51         531        1480        1258  ...         965   \n16            41         561        1678        1357  ...        1110   \n17            25        1033        1845        1799  ...        1357   \n18            17        1929        1892        2857  ...        2074   \n19            18        1553        1891        2122  ...        1442   \n20            16        1441        1440        1824  ...        1186   \n21            17        1500        1110        1777  ...        1147   \n22            16        1367         992        1501  ...         948   \n23            15        1046        1523        1057  ...         527   \n\nDate  30/11/2018  30/12/2017  31/01/2018  31/03/2018  31/05/2018  31/07/2018   \nHour                                                                           \n0            474         240          69         537         844         901  \\\n1            456         234          96         502         610         695   \n2            300         192          60         397         470         476   \n3            213         127          47         264         328         334   \n4            116          86          34         163         188         244   \n5            149          52          34         108         265         284   \n6            293          62          63         142         646         584   \n7            750          88         124         264        1401        1091   \n8           1527         162         273         489        2281        1665   \n9            809         224         137         642        1277         860   \n10           554         208         102         618         936         582   \n11           642         237         144         824         979         583   \n12           720         274         160        1072        1134         626   \n13           740         333         171        1218        1151         623   \n14           761         356         156        1381        1164         579   \n15           768         337         214        1542        1280         665   \n16           837         345         216        1578        1550         763   \n17          1047         183         279        1531        2047        1184   \n18          1384          45         403        1391        3119        2092   \n19          1003          40         270        1025        2534        1865   \n20           764          66         229         972        2164        1772   \n21           694          64         229        1010        2070        1719   \n22           712          30         188         922        1900        1613   \n23           584          42         132         655        1343        1097   \n\nDate  31/08/2018  31/10/2018  31/12/2017  \nHour                                      \n0            861         294          43  \n1            652         324          43  \n2            381         287          65  \n3            297         227          65  \n4            170         146          32  \n5            217         141          22  \n6            436         402          25  \n7            828        1060          39  \n8           1686        1907          84  \n9           1049         996         103  \n10           794         717         110  \n11           868         818         142  \n12           982         907         209  \n13           965         983         267  \n14           987         963         262  \n15          1119         994         300  \n16          1404        1185         272  \n17          1869        1462         240  \n18          2836        2094         215  \n19          2372        1507         163  \n20          1995        1176         161  \n21          1931        1069         179  \n22          1789        1088         155  \n23          1329         798         227  \n\n[24 rows x 365 columns]",
      "text/html": "<div>\n<style scoped>\n    .dataframe tbody tr th:only-of-type {\n        vertical-align: middle;\n    }\n\n    .dataframe tbody tr th {\n        vertical-align: top;\n    }\n\n    .dataframe thead th {\n        text-align: right;\n    }\n</style>\n<table border=\"1\" class=\"dataframe\">\n  <thead>\n    <tr style=\"text-align: right;\">\n      <th>Date</th>\n      <th>01/01/2018</th>\n      <th>01/02/2018</th>\n      <th>01/03/2018</th>\n      <th>01/04/2018</th>\n      <th>01/05/2018</th>\n      <th>01/06/2018</th>\n      <th>01/07/2018</th>\n      <th>01/08/2018</th>\n      <th>01/09/2018</th>\n      <th>01/10/2018</th>\n      <th>...</th>\n      <th>30/10/2018</th>\n      <th>30/11/2018</th>\n      <th>30/12/2017</th>\n      <th>31/01/2018</th>\n      <th>31/03/2018</th>\n      <th>31/05/2018</th>\n      <th>31/07/2018</th>\n      <th>31/08/2018</th>\n      <th>31/10/2018</th>\n      <th>31/12/2017</th>\n    </tr>\n    <tr>\n      <th>Hour</th>\n      <th></th>\n      <th></th>\n      <th></th>\n      <th></th>\n      <th></th>\n      <th></th>\n      <th></th>\n      <th></th>\n      <th></th>\n      <th></th>\n      <th></th>\n      <th></th>\n      <th></th>\n      <th></th>\n      <th></th>\n      <th></th>\n      <th></th>\n      <th></th>\n      <th></th>\n      <th></th>\n      <th></th>\n    </tr>\n  </thead>\n  <tbody>\n    <tr>\n      <th>0</th>\n      <td>206</td>\n      <td>122</td>\n      <td>71</td>\n      <td>579</td>\n      <td>782</td>\n      <td>963</td>\n      <td>865</td>\n      <td>875</td>\n      <td>1075</td>\n      <td>680</td>\n      <td>...</td>\n      <td>488</td>\n      <td>474</td>\n      <td>240</td>\n      <td>69</td>\n      <td>537</td>\n      <td>844</td>\n      <td>901</td>\n      <td>861</td>\n      <td>294</td>\n      <td>43</td>\n    </tr>\n    <tr>\n      <th>1</th>\n      <td>230</td>\n      <td>149</td>\n      <td>147</td>\n      <td>453</td>\n      <td>705</td>\n      <td>776</td>\n      <td>740</td>\n      <td>724</td>\n      <td>975</td>\n      <td>402</td>\n      <td>...</td>\n      <td>440</td>\n      <td>456</td>\n      <td>234</td>\n      <td>96</td>\n      <td>502</td>\n      <td>610</td>\n      <td>695</td>\n      <td>652</td>\n      <td>324</td>\n      <td>43</td>\n    </tr>\n    <tr>\n      <th>2</th>\n      <td>178</td>\n      <td>103</td>\n      <td>180</td>\n      <td>322</td>\n      <td>534</td>\n      <td>554</td>\n      <td>586</td>\n      <td>501</td>\n      <td>785</td>\n      <td>262</td>\n      <td>...</td>\n      <td>283</td>\n      <td>300</td>\n      <td>192</td>\n      <td>60</td>\n      <td>397</td>\n      <td>470</td>\n      <td>476</td>\n      <td>381</td>\n      <td>287</td>\n      <td>65</td>\n    </tr>\n    <tr>\n      <th>3</th>\n      <td>119</td>\n      <td>81</td>\n      <td>92</td>\n      <td>221</td>\n      <td>343</td>\n      <td>366</td>\n      <td>368</td>\n      <td>362</td>\n      <td>514</td>\n      <td>179</td>\n      <td>...</td>\n      <td>182</td>\n      <td>213</td>\n      <td>127</td>\n      <td>47</td>\n      <td>264</td>\n      <td>328</td>\n      <td>334</td>\n      <td>297</td>\n      <td>227</td>\n      <td>65</td>\n    </tr>\n    <tr>\n      <th>4</th>\n      <td>62</td>\n      <td>37</td>\n      <td>28</td>\n      <td>147</td>\n      <td>187</td>\n      <td>265</td>\n      <td>211</td>\n      <td>250</td>\n      <td>338</td>\n      <td>143</td>\n      <td>...</td>\n      <td>150</td>\n      <td>116</td>\n      <td>86</td>\n      <td>34</td>\n      <td>163</td>\n      <td>188</td>\n      <td>244</td>\n      <td>170</td>\n      <td>146</td>\n      <td>32</td>\n    </tr>\n    <tr>\n      <th>5</th>\n      <td>61</td>\n      <td>51</td>\n      <td>11</td>\n      <td>96</td>\n      <td>166</td>\n      <td>306</td>\n      <td>54</td>\n      <td>315</td>\n      <td>260</td>\n      <td>246</td>\n      <td>...</td>\n      <td>162</td>\n      <td>149</td>\n      <td>52</td>\n      <td>34</td>\n      <td>108</td>\n      <td>265</td>\n      <td>284</td>\n      <td>217</td>\n      <td>141</td>\n      <td>22</td>\n    </tr>\n    <tr>\n      <th>6</th>\n      <td>65</td>\n      <td>95</td>\n      <td>33</td>\n      <td>110</td>\n      <td>306</td>\n      <td>672</td>\n      <td>60</td>\n      <td>622</td>\n      <td>362</td>\n      <td>632</td>\n      <td>...</td>\n      <td>394</td>\n      <td>293</td>\n      <td>62</td>\n      <td>63</td>\n      <td>142</td>\n      <td>646</td>\n      <td>584</td>\n      <td>436</td>\n      <td>402</td>\n      <td>25</td>\n    </tr>\n    <tr>\n      <th>7</th>\n      <td>81</td>\n      <td>244</td>\n      <td>61</td>\n      <td>169</td>\n      <td>614</td>\n      <td>1421</td>\n      <td>25</td>\n      <td>1061</td>\n      <td>511</td>\n      <td>1429</td>\n      <td>...</td>\n      <td>1005</td>\n      <td>750</td>\n      <td>88</td>\n      <td>124</td>\n      <td>264</td>\n      <td>1401</td>\n      <td>1091</td>\n      <td>828</td>\n      <td>1060</td>\n      <td>39</td>\n    </tr>\n    <tr>\n      <th>8</th>\n      <td>89</td>\n      <td>459</td>\n      <td>148</td>\n      <td>342</td>\n      <td>1067</td>\n      <td>2149</td>\n      <td>20</td>\n      <td>1550</td>\n      <td>812</td>\n      <td>2101</td>\n      <td>...</td>\n      <td>1883</td>\n      <td>1527</td>\n      <td>162</td>\n      <td>273</td>\n      <td>489</td>\n      <td>2281</td>\n      <td>1665</td>\n      <td>1686</td>\n      <td>1907</td>\n      <td>84</td>\n    </tr>\n    <tr>\n      <th>9</th>\n      <td>121</td>\n      <td>259</td>\n      <td>160</td>\n      <td>485</td>\n      <td>1024</td>\n      <td>1219</td>\n      <td>9</td>\n      <td>853</td>\n      <td>925</td>\n      <td>1106</td>\n      <td>...</td>\n      <td>982</td>\n      <td>809</td>\n      <td>224</td>\n      <td>137</td>\n      <td>642</td>\n      <td>1277</td>\n      <td>860</td>\n      <td>1049</td>\n      <td>996</td>\n      <td>103</td>\n    </tr>\n    <tr>\n      <th>10</th>\n      <td>139</td>\n      <td>168</td>\n      <td>191</td>\n      <td>566</td>\n      <td>1002</td>\n      <td>862</td>\n      <td>13</td>\n      <td>540</td>\n      <td>861</td>\n      <td>856</td>\n      <td>...</td>\n      <td>684</td>\n      <td>554</td>\n      <td>208</td>\n      <td>102</td>\n      <td>618</td>\n      <td>936</td>\n      <td>582</td>\n      <td>794</td>\n      <td>717</td>\n      <td>110</td>\n    </tr>\n    <tr>\n      <th>11</th>\n      <td>169</td>\n      <td>194</td>\n      <td>239</td>\n      <td>737</td>\n      <td>1117</td>\n      <td>1036</td>\n      <td>11</td>\n      <td>521</td>\n      <td>981</td>\n      <td>959</td>\n      <td>...</td>\n      <td>782</td>\n      <td>642</td>\n      <td>237</td>\n      <td>144</td>\n      <td>824</td>\n      <td>979</td>\n      <td>583</td>\n      <td>868</td>\n      <td>818</td>\n      <td>142</td>\n    </tr>\n    <tr>\n      <th>12</th>\n      <td>225</td>\n      <td>240</td>\n      <td>311</td>\n      <td>926</td>\n      <td>1315</td>\n      <td>1076</td>\n      <td>9</td>\n      <td>569</td>\n      <td>1086</td>\n      <td>1138</td>\n      <td>...</td>\n      <td>881</td>\n      <td>720</td>\n      <td>274</td>\n      <td>160</td>\n      <td>1072</td>\n      <td>1134</td>\n      <td>626</td>\n      <td>982</td>\n      <td>907</td>\n      <td>209</td>\n    </tr>\n    <tr>\n      <th>13</th>\n      <td>248</td>\n      <td>233</td>\n      <td>358</td>\n      <td>1156</td>\n      <td>1493</td>\n      <td>1093</td>\n      <td>30</td>\n      <td>533</td>\n      <td>1303</td>\n      <td>1087</td>\n      <td>...</td>\n      <td>847</td>\n      <td>740</td>\n      <td>333</td>\n      <td>171</td>\n      <td>1218</td>\n      <td>1151</td>\n      <td>623</td>\n      <td>965</td>\n      <td>983</td>\n      <td>267</td>\n    </tr>\n    <tr>\n      <th>14</th>\n      <td>298</td>\n      <td>256</td>\n      <td>375</td>\n      <td>1201</td>\n      <td>1536</td>\n      <td>1071</td>\n      <td>14</td>\n      <td>475</td>\n      <td>1371</td>\n      <td>1137</td>\n      <td>...</td>\n      <td>903</td>\n      <td>761</td>\n      <td>356</td>\n      <td>156</td>\n      <td>1381</td>\n      <td>1164</td>\n      <td>579</td>\n      <td>987</td>\n      <td>963</td>\n      <td>262</td>\n    </tr>\n    <tr>\n      <th>15</th>\n      <td>344</td>\n      <td>293</td>\n      <td>458</td>\n      <td>1349</td>\n      <td>1639</td>\n      <td>1235</td>\n      <td>51</td>\n      <td>531</td>\n      <td>1480</td>\n      <td>1258</td>\n      <td>...</td>\n      <td>965</td>\n      <td>768</td>\n      <td>337</td>\n      <td>214</td>\n      <td>1542</td>\n      <td>1280</td>\n      <td>665</td>\n      <td>1119</td>\n      <td>994</td>\n      <td>300</td>\n    </tr>\n    <tr>\n      <th>16</th>\n      <td>310</td>\n      <td>268</td>\n      <td>460</td>\n      <td>1409</td>\n      <td>1759</td>\n      <td>1488</td>\n      <td>41</td>\n      <td>561</td>\n      <td>1678</td>\n      <td>1357</td>\n      <td>...</td>\n      <td>1110</td>\n      <td>837</td>\n      <td>345</td>\n      <td>216</td>\n      <td>1578</td>\n      <td>1550</td>\n      <td>763</td>\n      <td>1404</td>\n      <td>1185</td>\n      <td>272</td>\n    </tr>\n    <tr>\n      <th>17</th>\n      <td>271</td>\n      <td>341</td>\n      <td>423</td>\n      <td>1362</td>\n      <td>1898</td>\n      <td>2123</td>\n      <td>25</td>\n      <td>1033</td>\n      <td>1845</td>\n      <td>1799</td>\n      <td>...</td>\n      <td>1357</td>\n      <td>1047</td>\n      <td>183</td>\n      <td>279</td>\n      <td>1531</td>\n      <td>2047</td>\n      <td>1184</td>\n      <td>1869</td>\n      <td>1462</td>\n      <td>240</td>\n    </tr>\n    <tr>\n      <th>18</th>\n      <td>218</td>\n      <td>542</td>\n      <td>317</td>\n      <td>1296</td>\n      <td>2082</td>\n      <td>3088</td>\n      <td>17</td>\n      <td>1929</td>\n      <td>1892</td>\n      <td>2857</td>\n      <td>...</td>\n      <td>2074</td>\n      <td>1384</td>\n      <td>45</td>\n      <td>403</td>\n      <td>1391</td>\n      <td>3119</td>\n      <td>2092</td>\n      <td>2836</td>\n      <td>2094</td>\n      <td>215</td>\n    </tr>\n    <tr>\n      <th>19</th>\n      <td>125</td>\n      <td>344</td>\n      <td>231</td>\n      <td>1066</td>\n      <td>1696</td>\n      <td>2505</td>\n      <td>18</td>\n      <td>1553</td>\n      <td>1891</td>\n      <td>2122</td>\n      <td>...</td>\n      <td>1442</td>\n      <td>1003</td>\n      <td>40</td>\n      <td>270</td>\n      <td>1025</td>\n      <td>2534</td>\n      <td>1865</td>\n      <td>2372</td>\n      <td>1507</td>\n      <td>163</td>\n    </tr>\n    <tr>\n      <th>20</th>\n      <td>206</td>\n      <td>263</td>\n      <td>246</td>\n      <td>984</td>\n      <td>1656</td>\n      <td>2163</td>\n      <td>16</td>\n      <td>1441</td>\n      <td>1440</td>\n      <td>1824</td>\n      <td>...</td>\n      <td>1186</td>\n      <td>764</td>\n      <td>66</td>\n      <td>229</td>\n      <td>972</td>\n      <td>2164</td>\n      <td>1772</td>\n      <td>1995</td>\n      <td>1176</td>\n      <td>161</td>\n    </tr>\n    <tr>\n      <th>21</th>\n      <td>203</td>\n      <td>257</td>\n      <td>212</td>\n      <td>983</td>\n      <td>1644</td>\n      <td>2066</td>\n      <td>17</td>\n      <td>1500</td>\n      <td>1110</td>\n      <td>1777</td>\n      <td>...</td>\n      <td>1147</td>\n      <td>694</td>\n      <td>64</td>\n      <td>229</td>\n      <td>1010</td>\n      <td>2070</td>\n      <td>1719</td>\n      <td>1931</td>\n      <td>1069</td>\n      <td>179</td>\n    </tr>\n    <tr>\n      <th>22</th>\n      <td>168</td>\n      <td>235</td>\n      <td>190</td>\n      <td>841</td>\n      <td>1400</td>\n      <td>1991</td>\n      <td>16</td>\n      <td>1367</td>\n      <td>992</td>\n      <td>1501</td>\n      <td>...</td>\n      <td>948</td>\n      <td>712</td>\n      <td>30</td>\n      <td>188</td>\n      <td>922</td>\n      <td>1900</td>\n      <td>1613</td>\n      <td>1789</td>\n      <td>1088</td>\n      <td>155</td>\n    </tr>\n    <tr>\n      <th>23</th>\n      <td>154</td>\n      <td>143</td>\n      <td>190</td>\n      <td>588</td>\n      <td>855</td>\n      <td>1440</td>\n      <td>15</td>\n      <td>1046</td>\n      <td>1523</td>\n      <td>1057</td>\n      <td>...</td>\n      <td>527</td>\n      <td>584</td>\n      <td>42</td>\n      <td>132</td>\n      <td>655</td>\n      <td>1343</td>\n      <td>1097</td>\n      <td>1329</td>\n      <td>798</td>\n      <td>227</td>\n    </tr>\n  </tbody>\n</table>\n<p>24 rows × 365 columns</p>\n</div>"
     },
     "execution_count": 10,
     "metadata": {},
     "output_type": "execute_result"
    }
   ],
   "source": [
    "#Zugriffe\n",
    "bikes.pivot(index=\"Hour\",columns=\"Date\",values=\"Rented Bike Count\")"
   ],
   "metadata": {
    "collapsed": false
   }
  },
  {
   "cell_type": "code",
   "execution_count": 12,
   "outputs": [
    {
     "ename": "ValueError",
     "evalue": "value_name (Rented Bike Count) cannot match an element in the DataFrame columns.",
     "output_type": "error",
     "traceback": [
      "\u001B[1;31m---------------------------------------------------------------------------\u001B[0m",
      "\u001B[1;31mValueError\u001B[0m                                Traceback (most recent call last)",
      "Cell \u001B[1;32mIn[12], line 2\u001B[0m\n\u001B[0;32m      1\u001B[0m \u001B[38;5;66;03m#bikes.melt(var_name=\"Date\", value_name=\"Rented Bike Count\")\u001B[39;00m\n\u001B[1;32m----> 2\u001B[0m \u001B[43mbikes\u001B[49m\u001B[38;5;241;43m.\u001B[39;49m\u001B[43mmelt\u001B[49m\u001B[43m(\u001B[49m\u001B[43mvar_name\u001B[49m\u001B[38;5;241;43m=\u001B[39;49m\u001B[38;5;124;43m\"\u001B[39;49m\u001B[38;5;124;43mDate\u001B[39;49m\u001B[38;5;124;43m\"\u001B[39;49m\u001B[43m,\u001B[49m\u001B[43m \u001B[49m\u001B[43mvalue_name\u001B[49m\u001B[38;5;241;43m=\u001B[39;49m\u001B[38;5;124;43m\"\u001B[39;49m\u001B[38;5;124;43mRented Bike Count\u001B[39;49m\u001B[38;5;124;43m\"\u001B[39;49m\u001B[43m)\u001B[49m\n",
      "File \u001B[1;32mC:\\develop\\venv\\Lib\\site-packages\\pandas\\core\\frame.py:8980\u001B[0m, in \u001B[0;36mDataFrame.melt\u001B[1;34m(self, id_vars, value_vars, var_name, value_name, col_level, ignore_index)\u001B[0m\n\u001B[0;32m   8970\u001B[0m \u001B[38;5;129m@Appender\u001B[39m(_shared_docs[\u001B[38;5;124m\"\u001B[39m\u001B[38;5;124mmelt\u001B[39m\u001B[38;5;124m\"\u001B[39m] \u001B[38;5;241m%\u001B[39m {\u001B[38;5;124m\"\u001B[39m\u001B[38;5;124mcaller\u001B[39m\u001B[38;5;124m\"\u001B[39m: \u001B[38;5;124m\"\u001B[39m\u001B[38;5;124mdf.melt(\u001B[39m\u001B[38;5;124m\"\u001B[39m, \u001B[38;5;124m\"\u001B[39m\u001B[38;5;124mother\u001B[39m\u001B[38;5;124m\"\u001B[39m: \u001B[38;5;124m\"\u001B[39m\u001B[38;5;124mmelt\u001B[39m\u001B[38;5;124m\"\u001B[39m})\n\u001B[0;32m   8971\u001B[0m \u001B[38;5;28;01mdef\u001B[39;00m \u001B[38;5;21mmelt\u001B[39m(\n\u001B[0;32m   8972\u001B[0m     \u001B[38;5;28mself\u001B[39m,\n\u001B[1;32m   (...)\u001B[0m\n\u001B[0;32m   8978\u001B[0m     ignore_index: \u001B[38;5;28mbool\u001B[39m \u001B[38;5;241m=\u001B[39m \u001B[38;5;28;01mTrue\u001B[39;00m,\n\u001B[0;32m   8979\u001B[0m ) \u001B[38;5;241m-\u001B[39m\u001B[38;5;241m>\u001B[39m DataFrame:\n\u001B[1;32m-> 8980\u001B[0m     \u001B[38;5;28;01mreturn\u001B[39;00m \u001B[43mmelt\u001B[49m\u001B[43m(\u001B[49m\n\u001B[0;32m   8981\u001B[0m \u001B[43m        \u001B[49m\u001B[38;5;28;43mself\u001B[39;49m\u001B[43m,\u001B[49m\n\u001B[0;32m   8982\u001B[0m \u001B[43m        \u001B[49m\u001B[43mid_vars\u001B[49m\u001B[38;5;241;43m=\u001B[39;49m\u001B[43mid_vars\u001B[49m\u001B[43m,\u001B[49m\n\u001B[0;32m   8983\u001B[0m \u001B[43m        \u001B[49m\u001B[43mvalue_vars\u001B[49m\u001B[38;5;241;43m=\u001B[39;49m\u001B[43mvalue_vars\u001B[49m\u001B[43m,\u001B[49m\n\u001B[0;32m   8984\u001B[0m \u001B[43m        \u001B[49m\u001B[43mvar_name\u001B[49m\u001B[38;5;241;43m=\u001B[39;49m\u001B[43mvar_name\u001B[49m\u001B[43m,\u001B[49m\n\u001B[0;32m   8985\u001B[0m \u001B[43m        \u001B[49m\u001B[43mvalue_name\u001B[49m\u001B[38;5;241;43m=\u001B[39;49m\u001B[43mvalue_name\u001B[49m\u001B[43m,\u001B[49m\n\u001B[0;32m   8986\u001B[0m \u001B[43m        \u001B[49m\u001B[43mcol_level\u001B[49m\u001B[38;5;241;43m=\u001B[39;49m\u001B[43mcol_level\u001B[49m\u001B[43m,\u001B[49m\n\u001B[0;32m   8987\u001B[0m \u001B[43m        \u001B[49m\u001B[43mignore_index\u001B[49m\u001B[38;5;241;43m=\u001B[39;49m\u001B[43mignore_index\u001B[49m\u001B[43m,\u001B[49m\n\u001B[0;32m   8988\u001B[0m \u001B[43m    \u001B[49m\u001B[43m)\u001B[49m\u001B[38;5;241m.\u001B[39m__finalize__(\u001B[38;5;28mself\u001B[39m, method\u001B[38;5;241m=\u001B[39m\u001B[38;5;124m\"\u001B[39m\u001B[38;5;124mmelt\u001B[39m\u001B[38;5;124m\"\u001B[39m)\n",
      "File \u001B[1;32mC:\\develop\\venv\\Lib\\site-packages\\pandas\\core\\reshape\\melt.py:56\u001B[0m, in \u001B[0;36mmelt\u001B[1;34m(frame, id_vars, value_vars, var_name, value_name, col_level, ignore_index)\u001B[0m\n\u001B[0;32m     53\u001B[0m     cols \u001B[38;5;241m=\u001B[39m \u001B[38;5;28mlist\u001B[39m(frame\u001B[38;5;241m.\u001B[39mcolumns)\n\u001B[0;32m     55\u001B[0m \u001B[38;5;28;01mif\u001B[39;00m value_name \u001B[38;5;129;01min\u001B[39;00m frame\u001B[38;5;241m.\u001B[39mcolumns:\n\u001B[1;32m---> 56\u001B[0m     \u001B[38;5;28;01mraise\u001B[39;00m \u001B[38;5;167;01mValueError\u001B[39;00m(\n\u001B[0;32m     57\u001B[0m         \u001B[38;5;124mf\u001B[39m\u001B[38;5;124m\"\u001B[39m\u001B[38;5;124mvalue_name (\u001B[39m\u001B[38;5;132;01m{\u001B[39;00mvalue_name\u001B[38;5;132;01m}\u001B[39;00m\u001B[38;5;124m) cannot match an element in \u001B[39m\u001B[38;5;124m\"\u001B[39m\n\u001B[0;32m     58\u001B[0m         \u001B[38;5;124m\"\u001B[39m\u001B[38;5;124mthe DataFrame columns.\u001B[39m\u001B[38;5;124m\"\u001B[39m\n\u001B[0;32m     59\u001B[0m     )\n\u001B[0;32m     61\u001B[0m \u001B[38;5;28;01mif\u001B[39;00m id_vars \u001B[38;5;129;01mis\u001B[39;00m \u001B[38;5;129;01mnot\u001B[39;00m \u001B[38;5;28;01mNone\u001B[39;00m:\n\u001B[0;32m     62\u001B[0m     \u001B[38;5;28;01mif\u001B[39;00m \u001B[38;5;129;01mnot\u001B[39;00m is_list_like(id_vars):\n",
      "\u001B[1;31mValueError\u001B[0m: value_name (Rented Bike Count) cannot match an element in the DataFrame columns."
     ]
    }
   ],
   "source": [
    "#bikes.melt(var_name=\"Date\", value_name=\"Rented Bike Count\")\n",
    "bikes.melt(var_name=\"Date\", value_name=\"Rented Bike Count\")\n"
   ],
   "metadata": {
    "collapsed": false
   }
  },
  {
   "cell_type": "code",
   "execution_count": null,
   "outputs": [],
   "source": [
    "bikes.melt().to_csv('C:\\\\develop\\\\src\\\\bikes_output3.csv', sep=\";\")"
   ],
   "metadata": {
    "collapsed": false
   }
  },
  {
   "cell_type": "code",
   "execution_count": null,
   "outputs": [],
   "source": [
    "bikes.to_excel('C:\\\\develop\\\\src\\\\bikes_output3.xlsx')"
   ],
   "metadata": {
    "collapsed": false
   }
  },
  {
   "cell_type": "code",
   "execution_count": null,
   "outputs": [],
   "source": [
    "bikes.to_json()"
   ],
   "metadata": {
    "collapsed": false
   }
  },
  {
   "cell_type": "code",
   "execution_count": null,
   "outputs": [],
   "source": [
    "import json\n",
    "with open(\"C:\\\\develop\\\\src\\\\bikes_output3.json\",\"w\") as datei:\n",
    "    json.dump(bikes.to_json(),datei,indent=2)"
   ],
   "metadata": {
    "collapsed": false
   }
  },
  {
   "cell_type": "code",
   "execution_count": null,
   "outputs": [],
   "source": [
    "data = {\"a\":100, \"b\":200, \"c\":300}\n",
    "df = pd.DataFrame(data,index=[\"1\",\"2\",\"3\",\"4\"])\n",
    "df.to_csv(\"C:\\\\develop\\\\src\\\\from_dict.csv\",sep=\";\")"
   ],
   "metadata": {
    "collapsed": false
   }
  },
  {
   "cell_type": "code",
   "execution_count": null,
   "outputs": [],
   "source": [],
   "metadata": {
    "collapsed": false
   }
  }
 ],
 "metadata": {
  "kernelspec": {
   "display_name": "Python 3",
   "language": "python",
   "name": "python3"
  },
  "language_info": {
   "codemirror_mode": {
    "name": "ipython",
    "version": 2
   },
   "file_extension": ".py",
   "mimetype": "text/x-python",
   "name": "python",
   "nbconvert_exporter": "python",
   "pygments_lexer": "ipython2",
   "version": "2.7.6"
  }
 },
 "nbformat": 4,
 "nbformat_minor": 0
}
