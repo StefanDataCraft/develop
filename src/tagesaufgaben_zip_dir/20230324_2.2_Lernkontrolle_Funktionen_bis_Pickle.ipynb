{
 "cells": [
  {
   "cell_type": "markdown",
   "source": [
    "<br><br><center><h1 style=\"font-size:2em;color:#2467C0\">Lernkontrolle 24.03.2023</h1></center>\n",
    "<br>\n"
   ],
   "metadata": {
    "collapsed": false
   }
  },
  {
   "cell_type": "markdown",
   "source": [
    "## Punkteschema\n",
    "\n",
    "* Aufgaben 1-3: jeweils 8 Punkte möglich\n",
    "* Aufgabe 4: 8 Punkte + 4 Bonuspunkte möglich\n",
    "* Aufgabe 5: 6 Punkte möglich\n",
    "* Aufgaben 6-10: jeweils 4 Punkte möglich\n",
    "* Aufgabe 11: 6 Punkte möglich\n",
    "* Aufgabe 12: 8 Punkte möglich"
   ],
   "metadata": {
    "collapsed": false
   }
  },
  {
   "cell_type": "markdown",
   "source": [
    "1. Schreibe eine Funktion, die als Parameter einen beliebigen Namen aufnimmt und als Ergebnis z.B. folgendes druckt: \"Hallo Valentin! Wie geht es dir?\" Nutze dafür bitte f-String-Formatierung. Gib der Funktionen einen sinnvollen Namen und beachte die Schreibweise von Funktionen nach PEP-8."
   ],
   "metadata": {
    "collapsed": false
   }
  },
  {
   "cell_type": "code",
   "execution_count": null,
   "outputs": [],
   "source": [],
   "metadata": {
    "collapsed": false
   }
  },
  {
   "cell_type": "markdown",
   "source": [
    "2. Schreibe eine Funktion, die drei Zahlen aufnimmt, die ersten beiden miteinander multipliziert und das Ergebnis durch die letzte teilt. Die Funktion soll das Ergebnis nicht printen, sondern zurückgeben. Gib der Funktionen einen sinnvollen Namen. Die Zahlen sollen außerdem folgende Standardwerte annehmen: 5,5,10. Teste deine Funktion ohne Werte und mit ein paar selbstgewählten Werten."
   ],
   "metadata": {
    "collapsed": false
   }
  },
  {
   "cell_type": "code",
   "execution_count": null,
   "outputs": [],
   "source": [],
   "metadata": {
    "collapsed": false
   }
  },
  {
   "cell_type": "markdown",
   "source": [
    "3. Schreibe eine Funktion, die beliebig viele Zahlen aufnehmen kann und die Summe sowie die Anzahl der summierten Zahlen ausgibt. Teste deine Funktion. Was gibt sie zurück? Kommentiere."
   ],
   "metadata": {
    "collapsed": false
   }
  },
  {
   "cell_type": "code",
   "execution_count": null,
   "outputs": [],
   "source": [],
   "metadata": {
    "collapsed": false
   }
  },
  {
   "cell_type": "markdown",
   "source": [
    "4. Schreibe einen Code mittels f-String-Formatierung, der folgendes printet: \"Hallo Valentin! Du befindest dich in Berlin. Die Temperatur liegt bei 22° Celsius. Ich wünsche dir einen schönen Tag!\" Optional für Bonuspunkte: Anstatt immer ort und nutzer neu auszufüllen, schreibe den Code um, damit diese Werte immer als Input vom Nutzer kommen! Die Temperatur belassen wir bei 22° Celsius, da der Nutzer sie ja nicht eingeben soll, um sie zu erhalten. (Wie man Temperatur aus dem Internet dazuholen könnte, muss warten, bis wir uns mit dem Thema Scraping beschäftigen. ;))"
   ],
   "metadata": {
    "collapsed": false
   }
  },
  {
   "cell_type": "code",
   "execution_count": null,
   "outputs": [],
   "source": [
    "nutzer = \"Valentin\"\n",
    "ort = \"Berlin\"\n",
    "temperatur = \"22° Celsius\""
   ],
   "metadata": {
    "collapsed": false
   }
  },
  {
   "cell_type": "code",
   "execution_count": null,
   "outputs": [],
   "source": [],
   "metadata": {
    "collapsed": false
   }
  },
  {
   "cell_type": "markdown",
   "source": [
    "5. Du hast eine lange Liste namens lotterie mit verschiedenen Werten. Mehrfach kommt darin auch das Wort \"Gewinn\" vor. Lasse dir alle Vorkommnisse von \"Gewinn\" ausgeben und zwar mit dem zugehörigen Index. Du hast diese Woche etwas gelernt, was dir das in leichter Form ermöglicht. Bitte setze dieses Mittel ein."
   ],
   "metadata": {
    "collapsed": false
   }
  },
  {
   "cell_type": "code",
   "execution_count": null,
   "outputs": [],
   "source": [
    "lotterie = [\"38\", \"Fisch\", \"72\", \"Gewinn\", \"Verlust\", \"21\", \"Hund\", \"45\", \"Katze\", \"66\", \"Gewinn\", \"57\", \"Elefant\", \"33\", \"Kuh\", \"49\", \"Verlust\", \"84\", \"Gewinn\", \"75\", \"Bär\", \"91\", \"Papagei\", \"19\", \"Gewinn\", \"12\", \"Schlange\", \"62\", \"Pferd\", \"43\", \"Gewinn\", \"23\", \"Giraffe\", \"27\", \"Verlust\", \"58\", \"Gewinn\", \"96\", \"Schaf\", \"30\", \"Hase\", \"87\", \"Gewinn\", \"67\", \"Zebra\", \"51\", \"Flamingo\", \"42\", \"Verlust\", \"99\", \"Gewinn\", \"55\", \"Krokodil\", \"36\", \"Gewinn\", \"71\", \"Tiger\", \"29\", \"Nashorn\", \"88\", \"Gewinn\", \"18\", \"Eule\", \"48\", \"Löwe\", \"81\", \"Verlust\", \"64\", \"Gewinn\", \"39\", \"Delfin\", \"46\", \"Fuchs\", \"78\", \"Gewinn\", \"54\", \"Ente\", \"10\", \"Schwein\", \"82\", \"Adler\", \"35\", \"Gewinn\", \"50\", \"Gepard\", \"95\", \"P\"]"
   ],
   "metadata": {
    "collapsed": false
   }
  },
  {
   "cell_type": "code",
   "execution_count": null,
   "outputs": [],
   "source": [],
   "metadata": {
    "collapsed": false
   }
  },
  {
   "cell_type": "markdown",
   "source": [
    "6. Lege mithilfe von os einen Ordner namens \"lernkontrolle\" an. Dieser soll ein Unterordner des Ordners sein, in dem dein Notebook liegt. Prüfe danach, ob der neu angelegte Ordner wirklich existiert mithilfe der Funktionalitäten, die dir os zur Verfügung stellt."
   ],
   "metadata": {
    "collapsed": false
   }
  },
  {
   "cell_type": "code",
   "execution_count": null,
   "outputs": [],
   "source": [],
   "metadata": {
    "collapsed": false
   }
  },
  {
   "cell_type": "markdown",
   "source": [
    "7. Nun erstelle im Ordner lernkontrolle ein Textdokument mit dem Namen lotterie.txt, in das du die Werte aus deiner lotterieliste, durch Kommata voneinander getrennt, schreibst."
   ],
   "metadata": {
    "collapsed": false
   }
  },
  {
   "cell_type": "code",
   "execution_count": null,
   "outputs": [],
   "source": [],
   "metadata": {
    "collapsed": false
   }
  },
  {
   "cell_type": "markdown",
   "source": [
    "8. Lies lotterie.txt nun wieder ein und speichere den Inhalt in eine Variable."
   ],
   "metadata": {
    "collapsed": false
   }
  },
  {
   "cell_type": "code",
   "execution_count": null,
   "outputs": [],
   "source": [],
   "metadata": {
    "collapsed": false
   }
  },
  {
   "cell_type": "markdown",
   "source": [
    "9. Lass dir den Inhalt der Variable nun in einem pickle-Objekt namens lotterie_werte in deinem Unterordner lernkontrolle speichern."
   ],
   "metadata": {
    "collapsed": false
   }
  },
  {
   "cell_type": "code",
   "execution_count": null,
   "outputs": [],
   "source": [],
   "metadata": {
    "collapsed": false
   }
  },
  {
   "cell_type": "markdown",
   "source": [
    "10. Überprüfe, ob das geklappt hat, indem du das pickle-Objekt lädst und dir seinen Inhalt anschaust."
   ],
   "metadata": {
    "collapsed": false
   }
  },
  {
   "cell_type": "code",
   "execution_count": null,
   "outputs": [],
   "source": [],
   "metadata": {
    "collapsed": false
   }
  },
  {
   "cell_type": "markdown",
   "source": [
    "11. Hole dir mit datetime das aktuelle Datum samt Uhrzeit und lasse es dir im Format: Tag.Monat.Jahr HH:MM ausgeben."
   ],
   "metadata": {
    "collapsed": false
   }
  },
  {
   "cell_type": "code",
   "execution_count": null,
   "outputs": [],
   "source": [],
   "metadata": {
    "collapsed": false
   }
  },
  {
   "cell_type": "markdown",
   "source": [
    "12. Du möchtest wissen, in wie vielen Tagen ein guter Freund von dir Geburtstag hat. Weiter unten findest du sein Geburtstagsdatum. Lasse dir mithilfe des Moduls datetime die Zahl der Tage bis zu seinem Geburtstag ausgeben."
   ],
   "metadata": {
    "collapsed": false
   }
  },
  {
   "cell_type": "code",
   "execution_count": null,
   "outputs": [],
   "source": [
    "geburtstag = \"12.12.2023\" # Bitte deinen Geburtstag eingeben."
   ],
   "metadata": {
    "collapsed": false
   }
  },
  {
   "cell_type": "code",
   "execution_count": null,
   "outputs": [],
   "source": [],
   "metadata": {
    "collapsed": false
   }
  },
  {
   "cell_type": "code",
   "execution_count": null,
   "outputs": [],
   "source": [],
   "metadata": {
    "collapsed": false
   }
  }
 ],
 "metadata": {
  "kernelspec": {
   "display_name": "Python 3",
   "language": "python",
   "name": "python3"
  },
  "language_info": {
   "codemirror_mode": {
    "name": "ipython",
    "version": 2
   },
   "file_extension": ".py",
   "mimetype": "text/x-python",
   "name": "python",
   "nbconvert_exporter": "python",
   "pygments_lexer": "ipython2",
   "version": "2.7.6"
  }
 },
 "nbformat": 4,
 "nbformat_minor": 0
}
