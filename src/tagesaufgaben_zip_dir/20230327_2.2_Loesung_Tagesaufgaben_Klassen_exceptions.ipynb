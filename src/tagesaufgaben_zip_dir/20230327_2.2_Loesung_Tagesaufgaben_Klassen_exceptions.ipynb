{
 "cells": [
  {
   "cell_type": "markdown",
   "metadata": {},
   "source": [
    "<br><br><center><h1 style=\"font-size:2em;color:#2467C0\">Tagesaufgaben 27.03.2022</h1></center>\n",
    "<br>\n"
   ]
  },
  {
   "cell_type": "markdown",
   "metadata": {},
   "source": [
    "# Klassen (Objektorientiertes Programmieren)"
   ]
  },
  {
   "cell_type": "markdown",
   "source": [
    "## Aufgabe 1"
   ],
   "metadata": {
    "collapsed": false
   }
  },
  {
   "cell_type": "markdown",
   "metadata": {},
   "source": [
    "<div  class=\"alert alert-block alert-info\">\n",
    "1. Erstelle eine Klasse Wuerfel. Jeder Würfel soll eine Kantenlänge bekommen. Außerdem soll jeder Würfel über die Methoden oberflaeche und volumen verfügen, die jeweils die Oberfläche des Würfels bzw. das Volumen des Würfels zurückgeben.\n",
    "\n",
    "</div>"
   ]
  },
  {
   "cell_type": "code",
   "execution_count": 6,
   "metadata": {},
   "outputs": [],
   "source": [
    "class Wuerfel:\n",
    "    def __init__(self, kantenlaenge):\n",
    "        self.kantenlaenge = kantenlaenge\n",
    "\n",
    "    def oberflaeche(self):\n",
    "        return (f\"Ein Würfel der Kantenlänge {self.kantenlaenge} hat eine Oberfläche von {self.kantenlaenge ** 2 * 6}\")\n",
    "        \n",
    "    def volumen(self):\n",
    "        return (f\"Ein Würfel der Kantenlänge {self.kantenlaenge} hat ein Volumen von {self.kantenlaenge ** 3}\")"
   ]
  },
  {
   "cell_type": "markdown",
   "metadata": {},
   "source": [
    "<div  class=\"alert alert-block alert-info\">\n",
    "2. Erzeuge ein Objekt der Klasse Würfel und lass dir die Oberfläche und das Volumen ausgeben.\n",
    "    \n",
    "    Output:\n",
    "    Ein Würfel der Kantenlänge 3 hat eine Oberfläche von 54\n",
    "    Ein Würfel der Kantenlänge 3 hat ein Volumen von 27\n",
    "\n",
    "</div>"
   ]
  },
  {
   "cell_type": "code",
   "execution_count": 7,
   "metadata": {},
   "outputs": [
    {
     "name": "stdout",
     "output_type": "stream",
     "text": [
      "Ein Würfel der Kantenlänge 3 hat eine Oberfläche von 54\n",
      "Ein Würfel der Kantenlänge 3 hat ein Volumen von 27\n"
     ]
    }
   ],
   "source": [
    "a = Wuerfel(3)\n",
    "print(a.oberflaeche())\n",
    "print(a.volumen())"
   ]
  },
  {
   "cell_type": "markdown",
   "metadata": {},
   "source": [
    "## Aufgabe 2 - Optional"
   ]
  },
  {
   "cell_type": "markdown",
   "metadata": {},
   "source": [
    "<div  class=\"alert alert-block alert-info\">\n",
    "1. Erstelle eine Klasse Konto. Beim Erzeugen eines Kontos soll ein Startkapital gegeben werden. Schreibe in der Klasse Konto außerdem drei Funktionen. 1. Funktion: Kontostand anzeigen. 2. Funktion: eine bestimmte Menge Geld auszahlen (Es soll dabei überprüft werden, ob auf dem Konto genug Geld vorhanden ist. Falls nicht, wird nichts ausgezahlt und eine entsprechende Meldung angezeigt. Falls genug da ist, wird der Betrag vom Guthaben abgezogen). 3. Funktion: eine bestimmte Menge Geld einzahlen.\n",
    "\n",
    "</div>"
   ]
  },
  {
   "cell_type": "code",
   "execution_count": 3,
   "metadata": {},
   "outputs": [],
   "source": [
    "class Konto:\n",
    "    def __init__(self, start):\n",
    "        self.guthaben = start\n",
    "        \n",
    "    def stand(self):\n",
    "        print(self.guthaben)\n",
    "        \n",
    "    def auszahlen(self, betrag):\n",
    "        if self.guthaben >= betrag:\n",
    "            self.guthaben -= betrag\n",
    "            print(f\"Dein neuer Kontostand beträgt {self.guthaben}\")\n",
    "        else:\n",
    "            print(\"Du hast nicht genügend Geld!\")\n",
    "            \n",
    "    def einzahlen(self, betrag):\n",
    "        self.guthaben += betrag\n",
    "        print(f\"Dein neuer Kontostand beträgt {self.guthaben}\")\n",
    "        "
   ]
  },
  {
   "cell_type": "markdown",
   "metadata": {},
   "source": [
    "<div  class=\"alert alert-block alert-info\">\n",
    "2. Erzeuge ein Objekt der Klasse Konto mit einem Startkapital von 500.\n",
    "\n",
    "</div>"
   ]
  },
  {
   "cell_type": "code",
   "execution_count": 4,
   "metadata": {},
   "outputs": [],
   "source": [
    "konto1 = Konto(500)"
   ]
  },
  {
   "cell_type": "markdown",
   "metadata": {},
   "source": [
    "<div  class=\"alert alert-block alert-info\">\n",
    "3. Lass dir 200 auszahlen.\n",
    "    \n",
    "    Output:\n",
    "    Dein neuer Kontostand beträgt 300\n",
    "\n",
    "</div>"
   ]
  },
  {
   "cell_type": "code",
   "execution_count": 5,
   "metadata": {},
   "outputs": [
    {
     "name": "stdout",
     "output_type": "stream",
     "text": [
      "Dein neuer Kontostand beträgt 300\n"
     ]
    }
   ],
   "source": [
    "konto1.auszahlen(200)"
   ]
  },
  {
   "cell_type": "markdown",
   "metadata": {},
   "source": [
    "<div  class=\"alert alert-block alert-info\">\n",
    "4. Zahle 400 ein.\n",
    "    \n",
    "    Output:\n",
    "    Dein neuer Kontostand beträgt 700\n",
    "\n",
    "</div>"
   ]
  },
  {
   "cell_type": "code",
   "execution_count": 6,
   "metadata": {},
   "outputs": [
    {
     "name": "stdout",
     "output_type": "stream",
     "text": [
      "Dein neuer Kontostand beträgt 700\n"
     ]
    }
   ],
   "source": [
    "konto1.einzahlen(400)"
   ]
  },
  {
   "cell_type": "markdown",
   "metadata": {},
   "source": [
    "<div  class=\"alert alert-block alert-info\">\n",
    "5. Lass dir 800 auszahlen\n",
    "    \n",
    "    Output:\n",
    "    Du hast nicht genügend Geld!\n",
    "\n",
    "</div>"
   ]
  },
  {
   "cell_type": "code",
   "execution_count": 7,
   "metadata": {},
   "outputs": [
    {
     "name": "stdout",
     "output_type": "stream",
     "text": [
      "Du hast nicht genügend Geld!\n"
     ]
    }
   ],
   "source": [
    "konto1.auszahlen(800)"
   ]
  },
  {
   "cell_type": "markdown",
   "source": [
    "# Exceptions"
   ],
   "metadata": {
    "collapsed": false
   },
   "execution_count": 1
  },
  {
   "cell_type": "markdown",
   "source": [
    "## Aufgabe 1"
   ],
   "metadata": {
    "collapsed": false
   }
  },
  {
   "cell_type": "markdown",
   "source": [
    "<div  class=\"alert alert-block alert-info\">\n",
    "1. Gegeben ist das folgende Wort. Versuche dir das elfte Element des Wortes ausgeben zu lassen. Du solltest einen Fehler erhalten.\n",
    "\n",
    "</div>"
   ],
   "metadata": {
    "collapsed": false
   }
  },
  {
   "cell_type": "code",
   "execution_count": 2,
   "outputs": [
    {
     "ename": "IndexError",
     "evalue": "string index out of range",
     "output_type": "error",
     "traceback": [
      "\u001B[1;31m---------------------------------------------------------------------------\u001B[0m",
      "\u001B[1;31mIndexError\u001B[0m                                Traceback (most recent call last)",
      "Cell \u001B[1;32mIn[2], line 2\u001B[0m\n\u001B[0;32m      1\u001B[0m wort \u001B[38;5;241m=\u001B[39m \u001B[38;5;124m\"\u001B[39m\u001B[38;5;124mTannenbaum\u001B[39m\u001B[38;5;124m\"\u001B[39m\n\u001B[1;32m----> 2\u001B[0m \u001B[43mwort\u001B[49m\u001B[43m[\u001B[49m\u001B[38;5;241;43m10\u001B[39;49m\u001B[43m]\u001B[49m\n",
      "\u001B[1;31mIndexError\u001B[0m: string index out of range"
     ]
    }
   ],
   "source": [
    "wort = \"Tannenbaum\"\n",
    "wort[10]"
   ],
   "metadata": {
    "collapsed": false
   }
  },
  {
   "cell_type": "markdown",
   "source": [
    "<div  class=\"alert alert-block alert-info\">\n",
    "2. Schreibe nun eine try&except-Bedingung, in der du wieder versuchst, auf den elften Buchstaben zuzugreifen. Dieses Mal soll der Fehler aber durch einen entsprechenden Text abgefangen werden.\n",
    "\n",
    "    Output:\n",
    "    Tannenbaum hat nur 10 Buchstaben!\n",
    "\n",
    "</div>"
   ],
   "metadata": {
    "collapsed": false
   }
  },
  {
   "cell_type": "code",
   "execution_count": 2,
   "outputs": [
    {
     "name": "stdout",
     "output_type": "stream",
     "text": [
      "Tannenbaum hat nur 10 Buchstaben!\n"
     ]
    }
   ],
   "source": [
    "wort = \"Tannenbaum\"\n",
    "\n",
    "try:\n",
    "    wort[10]\n",
    "except:\n",
    "    print(f\"{wort} hat nur {len(wort)} Buchstaben!\")"
   ],
   "metadata": {
    "collapsed": false
   }
  },
  {
   "cell_type": "markdown",
   "source": [
    "<div  class=\"alert alert-block alert-info\">\n",
    "3. Erstelle eine Textdatei in dem Ordner, in dem sich dieses Notebook befindet. Schreibe nun Code, der den Inhalt dieser Textdatei ausliest. Füge eine try&except-Bedingung hinzu, für den Fall dass die Datei nicht existiert. Lösche die Textdatei anschließend und lass deinen Code nochmals laufen.\n",
    "\n",
    "    Output:\n",
    "    Datei wurde nicht gefunden\n",
    "\n",
    "</div>"
   ],
   "metadata": {
    "collapsed": false
   }
  },
  {
   "cell_type": "code",
   "execution_count": 8,
   "outputs": [
    {
     "name": "stdout",
     "output_type": "stream",
     "text": [
      "Datei wurde nicht gefunden\n"
     ]
    }
   ],
   "source": [
    "try:\n",
    "    with open(\"namen2.txt\", \"r\") as file:\n",
    "        print(file.read())\n",
    "except:\n",
    "    print(\"Datei wurde nicht gefunden\")\n"
   ],
   "metadata": {
    "collapsed": false
   }
  },
  {
   "cell_type": "markdown",
   "source": [
    "<div  class=\"alert alert-block alert-info\">\n",
    "4. Schreibe einen Code, der den Nutzer nach zwei durch ein Komma getrennten Zahlen fragt (über input). Die beiden Zahlen sollen anschließend miteinander multipliziert werden. Füge außerdem folgende exceptions hinzu:\n",
    "\n",
    "   1. Für den Fall, dass zu wenige Zahlen eingegeben wurden\n",
    "   2. Für den Fall, dass eine von beiden keine Zahl ist (z.B. es wurde ein Buchstabe eingegeben)\n",
    "   3. In jedem Fall soll am Ende gefragt werden, ob man nochmal zwei Zahlen multiplizieren möchte. (Eine einfache Frage als print reicht).\n",
    "\n",
    "</div>"
   ],
   "metadata": {
    "collapsed": false
   }
  },
  {
   "cell_type": "code",
   "execution_count": 3,
   "outputs": [
    {
     "name": "stdout",
     "output_type": "stream",
     "text": [
      "1242\n",
      "Nochmal?\n"
     ]
    }
   ],
   "source": [
    "x = input(\"Nenne mir zwei Zahlen, die miteinander multipliziert werden sollen:\").split(\",\")\n",
    "\n",
    "try:\n",
    "    print(int(x[0]) * int(x[1]))\n",
    "\n",
    "except IndexError:\n",
    "    print(\"Du hast zu wenige Zahlen eingegeben!\")\n",
    "\n",
    "except ValueError:\n",
    "    print(\"Du hast mindestens ein Mal keine Zahl eingegeben!\")\n",
    "\n",
    "finally:\n",
    "    print(\"Nochmal?\")"
   ],
   "metadata": {
    "collapsed": false
   }
  },
  {
   "cell_type": "markdown",
   "source": [
    "<div  class=\"alert alert-block alert-info\">\n",
    "5. Optional: Schreibe eine Funktion die ein Argument entgegennimmt. Überprüfe anschließend das Argument:\n",
    "\n",
    "   1. Ist das Argument ein String?\n",
    "   2. Ist das Argument ein float?\n",
    "\n",
    "Finde einen Weg, mit dem du als Output einen von dir bestimmten Error generierst, für den Fall, dass das Argument ein string oder ein float ist. Für den Fall, dass es ein integer ist, soll es einfach gedruckt werden.\n",
    "\n",
    "    Output:\n",
    "    ValueError: Das Argument darf kein string sein!\n",
    "</div>"
   ],
   "metadata": {
    "collapsed": false
   }
  },
  {
   "cell_type": "code",
   "execution_count": 4,
   "outputs": [],
   "source": [
    "def zahl(arg):\n",
    "    if type(arg) == str:\n",
    "        raise ValueError(\"Das Argument darf kein string sein!\")\n",
    "    elif type(arg) == float:\n",
    "        raise ValueError(\"Das Argument darf kein float sein!\")\n",
    "    else:\n",
    "        print(arg)"
   ],
   "metadata": {
    "collapsed": false
   }
  },
  {
   "cell_type": "code",
   "execution_count": 5,
   "outputs": [
    {
     "ename": "ValueError",
     "evalue": "Das Argument darf kein string sein!",
     "output_type": "error",
     "traceback": [
      "\u001B[1;31m---------------------------------------------------------------------------\u001B[0m",
      "\u001B[1;31mValueError\u001B[0m                                Traceback (most recent call last)",
      "Cell \u001B[1;32mIn[5], line 1\u001B[0m\n\u001B[1;32m----> 1\u001B[0m \u001B[43mzahl\u001B[49m\u001B[43m(\u001B[49m\u001B[38;5;124;43m\"\u001B[39;49m\u001B[38;5;124;43me\u001B[39;49m\u001B[38;5;124;43m\"\u001B[39;49m\u001B[43m)\u001B[49m\n",
      "Cell \u001B[1;32mIn[4], line 3\u001B[0m, in \u001B[0;36mzahl\u001B[1;34m(arg)\u001B[0m\n\u001B[0;32m      1\u001B[0m \u001B[38;5;28;01mdef\u001B[39;00m \u001B[38;5;21mzahl\u001B[39m(arg):\n\u001B[0;32m      2\u001B[0m     \u001B[38;5;28;01mif\u001B[39;00m \u001B[38;5;28mtype\u001B[39m(arg) \u001B[38;5;241m==\u001B[39m \u001B[38;5;28mstr\u001B[39m:\n\u001B[1;32m----> 3\u001B[0m         \u001B[38;5;28;01mraise\u001B[39;00m \u001B[38;5;167;01mValueError\u001B[39;00m(\u001B[38;5;124m\"\u001B[39m\u001B[38;5;124mDas Argument darf kein string sein!\u001B[39m\u001B[38;5;124m\"\u001B[39m)\n\u001B[0;32m      4\u001B[0m     \u001B[38;5;28;01melif\u001B[39;00m \u001B[38;5;28mtype\u001B[39m(arg) \u001B[38;5;241m==\u001B[39m \u001B[38;5;28mfloat\u001B[39m:\n\u001B[0;32m      5\u001B[0m         \u001B[38;5;28;01mraise\u001B[39;00m \u001B[38;5;167;01mValueError\u001B[39;00m(\u001B[38;5;124m\"\u001B[39m\u001B[38;5;124mDas Argument darf kein float sein!\u001B[39m\u001B[38;5;124m\"\u001B[39m)\n",
      "\u001B[1;31mValueError\u001B[0m: Das Argument darf kein string sein!"
     ]
    }
   ],
   "source": [
    "zahl(\"e\")"
   ],
   "metadata": {
    "collapsed": false
   }
  },
  {
   "cell_type": "code",
   "execution_count": 6,
   "outputs": [
    {
     "ename": "ValueError",
     "evalue": "Das Argument darf kein float sein!",
     "output_type": "error",
     "traceback": [
      "\u001B[1;31m---------------------------------------------------------------------------\u001B[0m",
      "\u001B[1;31mValueError\u001B[0m                                Traceback (most recent call last)",
      "Cell \u001B[1;32mIn[6], line 1\u001B[0m\n\u001B[1;32m----> 1\u001B[0m \u001B[43mzahl\u001B[49m\u001B[43m(\u001B[49m\u001B[38;5;241;43m1.6\u001B[39;49m\u001B[43m)\u001B[49m\n",
      "Cell \u001B[1;32mIn[4], line 5\u001B[0m, in \u001B[0;36mzahl\u001B[1;34m(arg)\u001B[0m\n\u001B[0;32m      3\u001B[0m     \u001B[38;5;28;01mraise\u001B[39;00m \u001B[38;5;167;01mValueError\u001B[39;00m(\u001B[38;5;124m\"\u001B[39m\u001B[38;5;124mDas Argument darf kein string sein!\u001B[39m\u001B[38;5;124m\"\u001B[39m)\n\u001B[0;32m      4\u001B[0m \u001B[38;5;28;01melif\u001B[39;00m \u001B[38;5;28mtype\u001B[39m(arg) \u001B[38;5;241m==\u001B[39m \u001B[38;5;28mfloat\u001B[39m:\n\u001B[1;32m----> 5\u001B[0m     \u001B[38;5;28;01mraise\u001B[39;00m \u001B[38;5;167;01mValueError\u001B[39;00m(\u001B[38;5;124m\"\u001B[39m\u001B[38;5;124mDas Argument darf kein float sein!\u001B[39m\u001B[38;5;124m\"\u001B[39m)\n\u001B[0;32m      6\u001B[0m \u001B[38;5;28;01melse\u001B[39;00m:\n\u001B[0;32m      7\u001B[0m     \u001B[38;5;28mprint\u001B[39m(arg)\n",
      "\u001B[1;31mValueError\u001B[0m: Das Argument darf kein float sein!"
     ]
    }
   ],
   "source": [
    "zahl(1.6)"
   ],
   "metadata": {
    "collapsed": false
   }
  },
  {
   "cell_type": "code",
   "execution_count": 7,
   "outputs": [
    {
     "name": "stdout",
     "output_type": "stream",
     "text": [
      "1\n"
     ]
    }
   ],
   "source": [
    "zahl(1)"
   ],
   "metadata": {
    "collapsed": false
   }
  },
  {
   "cell_type": "markdown",
   "source": [
    "# Funktionen: Optionale Wiederholungsaufgabe"
   ],
   "metadata": {
    "collapsed": false
   }
  },
  {
   "cell_type": "markdown",
   "source": [
    "1. Schreibe eine Funktion namens gasrechner mit vier Parametern: Gaspreis (Cent/kWH), Grundgebühr (Euro/Monat), Abschlagszahlung (Euro/Monat), Vorjahresverbrauch. Standartwerte sollen sein: 35 Cent/Kwh, 15 Euro/Monat, 150 Euro/Monat, 15000 kWh. Du gehst davon aus, dass der Nutzer dieses Jahr denselben Verbrauch haben wird wie im Vorjahr. Lasse dem Nutzer immer den Betrag ausgeben und zwar entweder in der Form \"Sie würden X Euro zurück erhalten\" oder \"Sie müssten X Euro nachzahlen, erhöhen Sie besser Ihr Abschlagszahlung!\" Suche dir zwei Tarife auf z.B. Check24 aus und spiele mit diesen deine Funktion durch.\n",
    "Optional: Passe deine Funktion an, sodass die dem Nutzer eine Abschlagszahlung empfiehlt, mit der er bei 0 Euro Nachzahlung rauskommt (ggf. darf er die Abschlagszahlung auch mal senken)."
   ],
   "metadata": {
    "collapsed": false
   }
  },
  {
   "cell_type": "code",
   "execution_count": 9,
   "outputs": [],
   "source": [
    "def gasrechner(gaspreis=35, grundgebuehr=15, abschlag=150, vorjahr=15000):\n",
    "    endabrechnung = abschlag*12 - (gaspreis*vorjahr/100 + 12*grundgebuehr)\n",
    "    if endabrechnung > 0:\n",
    "        print(f\"Sie erhalten {round(endabrechnung,2)} Euro zurück und könnten den Abschlag auf {round(abschlag-endabrechnung/12,2)} Euro senken!\")\n",
    "    elif endabrechnung < 0:\n",
    "        print(f\"Achtung! Sie müssen {round(endabrechnung,2)} Euro nachzahlen! Erhöhen Sie Ihren Abschlag auf {round(abschlag-endabrechnung/12,2)} Euro, um bei 0 rauszukommen!\")\n",
    "    elif endabrechnung == 0:\n",
    "        print(\"Alles okay. Sie kommen genau bei 0 Euro raus.\")\n",
    "    else:\n",
    "        print(\"Tut mir leid. Ich habe Ihre Eingabe nicht verstanden.\")"
   ],
   "metadata": {
    "collapsed": false
   }
  },
  {
   "cell_type": "code",
   "execution_count": 10,
   "outputs": [
    {
     "name": "stdout",
     "output_type": "stream",
     "text": [
      "Sie erhalten 759.0 Euro zurück und könnten den Abschlag auf 136.75 Euro senken!\n"
     ]
    }
   ],
   "source": [
    "gasrechner(10.54, 5, 200, 15000)"
   ],
   "metadata": {
    "collapsed": false
   }
  },
  {
   "cell_type": "code",
   "execution_count": 17,
   "outputs": [
    {
     "name": "stdout",
     "output_type": "stream",
     "text": [
      "Sie erhalten 149.1 Euro zurück und könnten den Abschlag auf 88.58 Euro senken!\n"
     ]
    }
   ],
   "source": [
    "gasrechner(7.35, 8.95, 101, 13000)"
   ],
   "metadata": {
    "collapsed": false
   }
  },
  {
   "cell_type": "code",
   "execution_count": 19,
   "outputs": [
    {
     "name": "stdout",
     "output_type": "stream",
     "text": [
      "Sie erhalten 376.95 Euro zurück und könnten den Abschlag auf 69.59 Euro senken!\n"
     ]
    }
   ],
   "source": [
    "gasrechner(7.35, 8.95, 101, 900*11)"
   ],
   "metadata": {
    "collapsed": false
   }
  }
 ],
 "metadata": {
  "kernelspec": {
   "display_name": "Python 3 (ipykernel)",
   "language": "python",
   "name": "python3"
  },
  "language_info": {
   "codemirror_mode": {
    "name": "ipython",
    "version": 3
   },
   "file_extension": ".py",
   "mimetype": "text/x-python",
   "name": "python",
   "nbconvert_exporter": "python",
   "pygments_lexer": "ipython3",
   "version": "3.9.13"
  }
 },
 "nbformat": 4,
 "nbformat_minor": 1
}
