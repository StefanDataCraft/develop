{
 "cells": [
  {
   "cell_type": "markdown",
   "source": [
    "<br><br><center><h1 style=\"font-size:2em;color:#2467C0\">Tagesaufgaben 05.04.2023</h1></center>\n",
    "<br>"
   ],
   "metadata": {
    "collapsed": false
   }
  },
  {
   "cell_type": "markdown",
   "source": [
    "<div  class=\"alert alert-block alert-info\">\n",
    "1. Du hast einen Dataframe mit Schülernoten zu verschiedenen Fächern vorliegen. Benutze pivot, um folgenden Output zu erhalten:\n",
    "\n",
    "    Output:\n",
    "    Fach       Deutsch  Englisch  Mathematik\n",
    "    Name\n",
    "    Alexander      1.3       1.7         1.0\n",
    "    Anna           1.0       1.7         1.3\n",
    "    Lisa           2.3       3.0         2.7\n",
    "    Max            1.7       2.3         2.0\n",
    "</div>"
   ],
   "metadata": {
    "collapsed": false
   }
  },
  {
   "cell_type": "code",
   "execution_count": null,
   "outputs": [],
   "source": [
    "import pandas as pd\n",
    "\n",
    "noten_df = pd.DataFrame({\n",
    "    \"Name\": [\"Max\", \"Max\", \"Max\", \"Anna\", \"Anna\", \"Anna\", \"Lisa\", \"Lisa\", \"Lisa\", \"Alexander\", \"Alexander\", \"Alexander\"],\n",
    "    \"Fach\": [\"Mathematik\", \"Deutsch\", \"Englisch\",\"Mathematik\", \"Deutsch\", \"Englisch\",\"Mathematik\", \"Deutsch\", \"Englisch\",\"Mathematik\", \"Deutsch\", \"Englisch\"],\n",
    "    \"Note\": [2.0, 1.7, 2.3, 1.3, 1.0, 1.7, 2.7, 2.3, 3.0, 1.0, 1.3, 1.7]\n",
    "\n",
    "})\n",
    "noten_df"
   ],
   "metadata": {
    "collapsed": false
   }
  },
  {
   "cell_type": "code",
   "execution_count": null,
   "outputs": [],
   "source": [],
   "metadata": {
    "collapsed": false
   }
  },
  {
   "cell_type": "markdown",
   "source": [
    "<div  class=\"alert alert-block alert-info\">\n",
    "2. Dir liegt ein Dataframe mit Tech-Produkten vor. Du möchtest diesen ins Long-Format überführen. Nutze dafür melt, um folgenden Output zu erhalten:\n",
    "\n",
    "    Output:\n",
    "              Land      Produkt  Verkaufszahl\n",
    "    0      Deutschland  MacBook          1200\n",
    "    1              USA  MacBook          2000\n",
    "    2            Japan  MacBook           800\n",
    "    3   Großbritannien  MacBook          1000\n",
    "    4      Deutschland   Lenovo          1500\n",
    "    5              USA   Lenovo          1800\n",
    "    6            Japan   Lenovo           900\n",
    "    7   Großbritannien   Lenovo          1200\n",
    "    8      Deutschland     Dell           800\n",
    "    9              USA     Dell          1200\n",
    "    10           Japan     Dell           700\n",
    "    11  Großbritannien     Dell           600\n",
    "\n",
    "</div>"
   ],
   "metadata": {
    "collapsed": false
   }
  },
  {
   "cell_type": "code",
   "execution_count": null,
   "outputs": [],
   "source": [
    "tech = {\n",
    "    'Land': ['Deutschland', 'USA', 'Japan', 'Großbritannien'],\n",
    "    'MacBook': [1200, 2000, 800, 1000],\n",
    "    'Lenovo': [1500, 1800, 900, 1200],\n",
    "    'Dell': [800, 1200, 700, 600]\n",
    "}\n",
    "tech_df = pd.DataFrame(tech)\n",
    "tech_df"
   ],
   "metadata": {
    "collapsed": false
   }
  },
  {
   "cell_type": "code",
   "execution_count": null,
   "outputs": [],
   "source": [],
   "metadata": {
    "collapsed": false
   }
  },
  {
   "cell_type": "markdown",
   "source": [
    "<div  class=\"alert alert-block alert-info\">\n",
    "3. Dir liegt ein Dataframe mit weiteren Tech-Produkten vor. Dein Output soll so aussehen:\n",
    "\n",
    "    Output:\n",
    "    Quartal                  Q1\n",
    "    Land        Produkt\n",
    "    Deutschland Adapter     700\n",
    "                Maus        800\n",
    "                Tastatur   1000\n",
    "                USB-Stick   900\n",
    "    Japan       Adapter     700\n",
    "                Maus        900\n",
    "                Tastatur    800\n",
    "                USB-Stick  1000\n",
    "    USA         Adapter    1000\n",
    "                Maus       1200\n",
    "                Tastatur   2000\n",
    "                USB-Stick  1500\n",
    "<div  class=\"alert alert-block alert-info\">\n",
    "Wie gehst du vor?\n",
    "\n",
    "</div>"
   ],
   "metadata": {
    "collapsed": false
   }
  },
  {
   "cell_type": "code",
   "execution_count": null,
   "outputs": [],
   "source": [
    "data = {\n",
    "    'Land': ['USA', 'USA', 'USA', 'USA', 'Deutschland', 'Deutschland', 'Deutschland', 'Deutschland', 'Japan','Japan', 'Japan', 'Japan'],\n",
    "    'Produkt': ['USB-Stick', 'Tastatur', 'Maus', 'Adapter', 'USB-Stick', 'Tastatur', 'Maus', 'Adapter', 'USB-Stick', 'Tastatur', 'Maus', 'Adapter'],\n",
    "    'Quartal': ['Q1', 'Q1', 'Q1', 'Q1', 'Q1', 'Q1', 'Q1', 'Q1', 'Q1', 'Q1', 'Q1', 'Q1'],\n",
    "    'Verkaufszahl': [1500, 2000, 1200, 1000, 900, 1000, 800, 700, 1000, 800, 900, 700]\n",
    "}\n",
    "df = pd.DataFrame(data)\n",
    "\n",
    "print(df)"
   ],
   "metadata": {
    "collapsed": false
   }
  },
  {
   "cell_type": "code",
   "execution_count": null,
   "outputs": [],
   "source": [],
   "metadata": {
    "collapsed": false
   }
  },
  {
   "cell_type": "markdown",
   "source": [
    "<div  class=\"alert alert-block alert-info\">\n",
    "4. Lade den Titanic-Datensatz (titanic.csv) als titanic_df und lass dir a) die oberen sieben Zeilen ausgeben und b) die zehn unteren.\n",
    "</div>"
   ],
   "metadata": {
    "collapsed": false
   }
  },
  {
   "cell_type": "code",
   "execution_count": null,
   "outputs": [],
   "source": [],
   "metadata": {
    "collapsed": false
   }
  },
  {
   "cell_type": "markdown",
   "source": [
    "<div  class=\"alert alert-block alert-info\">\n",
    "4. Verwende die Methode describe(). Was zeigt sie dir an? Was aus der Ausgabe lässt sich sinnvoll interpretieren und welche Information ist unnütz? Kommentiere.\n",
    "</div>"
   ],
   "metadata": {
    "collapsed": false
   }
  },
  {
   "cell_type": "code",
   "execution_count": null,
   "outputs": [],
   "source": [],
   "metadata": {
    "collapsed": false
   }
  },
  {
   "cell_type": "markdown",
   "source": [
    "<div  class=\"alert alert-block alert-info\">\n",
    "5. Du möchtest alle Daten zu folgender Person: Celotti, Mr. Francesco. Wie stellst du das an?\n",
    "</div>\n"
   ],
   "metadata": {
    "collapsed": false
   }
  },
  {
   "cell_type": "code",
   "execution_count": null,
   "outputs": [],
   "source": [],
   "metadata": {
    "collapsed": false
   }
  },
  {
   "cell_type": "markdown",
   "source": [
    "<div  class=\"alert alert-block alert-info\">\n",
    "6. Du möchtest einen Slice des DataFrames, der nur Passagiere der ersten Klasse enthält. Erreiche das durch Slicing mit einer Bedingung und schreibe das Ergebnis in die Variabel erste_klasse. Lasse dir den head von dieser ausgeben und miss ihre Länge.\n",
    "</div>"
   ],
   "metadata": {
    "collapsed": false
   }
  },
  {
   "cell_type": "code",
   "execution_count": null,
   "outputs": [],
   "source": [],
   "metadata": {
    "collapsed": false
   }
  },
  {
   "cell_type": "markdown",
   "source": [
    "<div  class=\"alert alert-block alert-info\">\n",
    "7. Diesmal möchtest du zwei Slices des DataFrames: Leute die überlebt haben und Leute, die gestorben sind. Überlebende haben in der Spalte Survived den Wert 1. Die, die nicht überlebt haben, weisen eine 0 auf. Erstelle zwei Dataframes aus den Slices: ueberlebende und tote. Lass dir auch hier die Länge ausgeben. Errechne das Verhältnis von Überlebenden zu Toten. Wenn du Lust hast: Rechne den Wert in Prozent um und runde auf zwei Nachkommastellen.\n",
    "</div>"
   ],
   "metadata": {
    "collapsed": false
   }
  },
  {
   "cell_type": "code",
   "execution_count": null,
   "outputs": [],
   "source": [],
   "metadata": {
    "collapsed": false
   }
  },
  {
   "cell_type": "markdown",
   "source": [
    "<div  class=\"alert alert-block alert-info\">\n",
    "8. Du möchtest einen Teil des DataFrames ueberlebende auswählen. Und zwar willst du nur Name, Geschlecht und Alter darin sehen. Wie stellst du das an? Schreibe das Resultat in ueberlebende_kompakt und lasse dir den Inhalt ausgeben.\n",
    "</div>"
   ],
   "metadata": {
    "collapsed": false
   }
  },
  {
   "cell_type": "code",
   "execution_count": null,
   "outputs": [],
   "source": [],
   "metadata": {
    "collapsed": false
   }
  },
  {
   "cell_type": "markdown",
   "source": [
    "<div  class=\"alert alert-block alert-info\">\n",
    "9. Speichere ueberlebende_kompakt in ueberlebende_passagiere.csv"
   ],
   "metadata": {
    "collapsed": false
   }
  },
  {
   "cell_type": "code",
   "execution_count": null,
   "outputs": [],
   "source": [],
   "metadata": {
    "collapsed": false
   }
  }
 ],
 "metadata": {
  "kernelspec": {
   "display_name": "Python 3",
   "language": "python",
   "name": "python3"
  },
  "language_info": {
   "codemirror_mode": {
    "name": "ipython",
    "version": 2
   },
   "file_extension": ".py",
   "mimetype": "text/x-python",
   "name": "python",
   "nbconvert_exporter": "python",
   "pygments_lexer": "ipython2",
   "version": "2.7.6"
  }
 },
 "nbformat": 4,
 "nbformat_minor": 0
}
