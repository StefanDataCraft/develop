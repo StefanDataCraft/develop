{
 "cells": [
  {
   "cell_type": "markdown",
   "id": "78e2f52e",
   "metadata": {
    "id": "78e2f52e"
   },
   "source": [
    "<br><br><center><h1 style=\"font-size:2em;color:#2467C0\">Tagesaufgaben 22.03.2022</h1></center>\n",
    "<br>\n"
   ]
  },
  {
   "cell_type": "markdown",
   "id": "721a8186",
   "metadata": {},
   "source": [
    "# Pfade, Lesen & Bearbeiten von Dateien"
   ]
  },
  {
   "cell_type": "markdown",
   "id": "a86437d3",
   "metadata": {},
   "source": [
    "## Aufgabe 1"
   ]
  },
  {
   "cell_type": "markdown",
   "id": "e1189c7e",
   "metadata": {},
   "source": [
    "<div  class=\"alert alert-block alert-info\">\n",
    "1. Erstelle in Pycharm eine Text-Datei, die 6 Namen enthält. Jeder Name soll in einer neuen Zeile stehen. Die Textdatei soll im selben Ordner wie deine Tagesaufgaben liegen. Benenne die Datei namen.txt.\n",
    "<br /> Optional: Erstelle die Datei mit write() oder writelines().\n",
    "</div>"
   ]
  },
  {
   "cell_type": "code",
   "execution_count": null,
   "outputs": [],
   "source": [
    "# Optional\n",
    "namen = [\"Olga\", \"Martin\", \"Raffael\", \"Petra\", \"Maxi\", \"Steffi\"]\n",
    "with open(\"namen.txt\", \"w\") as datei:\n",
    "    datei.writelines([name+\"\\n\" for name in namen])"
   ],
   "metadata": {
    "collapsed": false
   }
  },
  {
   "cell_type": "markdown",
   "id": "dc05a03c",
   "metadata": {},
   "source": [
    "<div  class=\"alert alert-block alert-info\">\n",
    "2. Öffne die Datei und lese sie. Nutze dafür die \"with\" Schreibweise.\n",
    "    \n",
    "    Output:\n",
    "    Olga\n",
    "    Martin\n",
    "    Raffael\n",
    "    Petra\n",
    "    Maxi\n",
    "    Steffi\n",
    "    \n",
    "</div>"
   ]
  },
  {
   "cell_type": "code",
   "execution_count": 1,
   "id": "013e7d5e",
   "metadata": {},
   "outputs": [
    {
     "name": "stdout",
     "output_type": "stream",
     "text": [
      "Olga\n",
      "Martin\n",
      "Raffael\n",
      "Petra\n",
      "Maxi\n",
      "Steffi\n"
     ]
    }
   ],
   "source": [
    "with open(\"namen.txt\", \"r\") as reader:\n",
    "    print(reader.read())"
   ]
  },
  {
   "cell_type": "markdown",
   "id": "a349f9f6",
   "metadata": {},
   "source": [
    "<div  class=\"alert alert-block alert-info\">\n",
    "3. Öffne die Datei und lese sie. Nutze dieses Mal NICHT die \"with\" Schreibweise.\n",
    "    \n",
    "    Output:\n",
    "    Olga\n",
    "    Martin\n",
    "    Raffael\n",
    "    Petra\n",
    "    Maxi\n",
    "    Steffi\n",
    "    \n",
    "</div>"
   ]
  },
  {
   "cell_type": "code",
   "execution_count": 2,
   "id": "8628c292",
   "metadata": {},
   "outputs": [
    {
     "name": "stdout",
     "output_type": "stream",
     "text": [
      "Olga\n",
      "Martin\n",
      "Raffael\n",
      "Petra\n",
      "Maxi\n",
      "Steffi\n"
     ]
    }
   ],
   "source": [
    "namen = open(\"namen.txt\", \"r\")\n",
    "print(namen.read())\n",
    "namen.close()"
   ]
  },
  {
   "cell_type": "markdown",
   "id": "ecb58777",
   "metadata": {},
   "source": [
    "<div  class=\"alert alert-block alert-info\">\n",
    "4. Nenne den Unterschied zwischen den beiden Varianten, wie wir Dateien öffnen können (mit \"with\" oder ohne \"with\").\n",
    "    \n",
    "</div>"
   ]
  },
  {
   "cell_type": "code",
   "execution_count": 3,
   "id": "492404af",
   "metadata": {},
   "outputs": [],
   "source": [
    "# "
   ]
  },
  {
   "cell_type": "markdown",
   "id": "6ee02bb0",
   "metadata": {},
   "source": [
    "<div  class=\"alert alert-block alert-info\">\n",
    "5. Erstelle nun eine Textdatei an einer anderen Stelle in deinem Rechner (z.B. auf dem Desktop). Schreibe wieder 6 Namen (aber andere als in der ersten Datei) hinein und gebe der Datei den Namen namen2.txt. Lies die Datei und lass dir wieder den Inhalt ausgeben.\n",
    "    \n",
    "    Output:\n",
    "    Hans\n",
    "    Susanne\n",
    "    Rafaela\n",
    "    Miguel\n",
    "    Saba\n",
    "    Rohit\n",
    "    \n",
    "</div>"
   ]
  },
  {
   "cell_type": "code",
   "execution_count": 4,
   "id": "8e71cfc0",
   "metadata": {},
   "outputs": [
    {
     "name": "stdout",
     "output_type": "stream",
     "text": [
      "Hans\n",
      "Susanne\n",
      "Rafaela\n",
      "Miguel\n",
      "Saba\n",
      "Rohit\n"
     ]
    }
   ],
   "source": [
    "with open(r\"C:\\Users\\pasca\\Desktop\\namen2.txt\", \"r\") as reader:\n",
    "    print(reader.read())"
   ]
  },
  {
   "cell_type": "markdown",
   "id": "4ab351de",
   "metadata": {},
   "source": [
    "<div  class=\"alert alert-block alert-info\">\n",
    "6. Lies die erste Textdatei wieder und speichere den Inhalt in einer Variablen ab. Lass dir nach dem Schließen der Datei die Variable ausdrucken.\n",
    "    \n",
    "    Output:\n",
    "    Olga\n",
    "    Martin\n",
    "    Raffael\n",
    "    Petra\n",
    "    Maxi\n",
    "    Steffi\n",
    "    \n",
    "</div>"
   ]
  },
  {
   "cell_type": "code",
   "execution_count": 5,
   "id": "ac02fc59",
   "metadata": {},
   "outputs": [
    {
     "name": "stdout",
     "output_type": "stream",
     "text": [
      "Olga\n",
      "Martin\n",
      "Raffael\n",
      "Petra\n",
      "Maxi\n",
      "Steffi\n"
     ]
    }
   ],
   "source": [
    "with open(\"namen.txt\", \"r\") as reader:\n",
    "    zeilen2 = reader.read()\n",
    "    \n",
    "print(zeilen2)"
   ]
  },
  {
   "cell_type": "markdown",
   "id": "12c6c642",
   "metadata": {},
   "source": [
    "<div  class=\"alert alert-block alert-info\">\n",
    "7. Füge der ersten Textdatei deinen Namen am Ende hinzu. Versuche den Namen in eine neue Zeile zu schreiben. Lass dir anschließend die neue Liste wieder ausgeben.\n",
    "    \n",
    "    Output:\n",
    "    Olga\n",
    "    Martin\n",
    "    Raffael\n",
    "    Petra\n",
    "    Maxi\n",
    "    Steffi\n",
    "    Pascal\n",
    "    \n",
    "</div>"
   ]
  },
  {
   "cell_type": "code",
   "execution_count": 6,
   "id": "ad8f8be4",
   "metadata": {},
   "outputs": [
    {
     "name": "stdout",
     "output_type": "stream",
     "text": [
      "Olga\n",
      "Martin\n",
      "Raffael\n",
      "Petra\n",
      "Maxi\n",
      "Steffi\n",
      "Pascal\n"
     ]
    }
   ],
   "source": [
    "with open(\"namen.txt\", \"a\") as append:\n",
    "    append.write(\"\\nPascal\")\n",
    "\n",
    "with open(\"namen.txt\", \"r\") as reader:\n",
    "    print(reader.read())\n",
    "    "
   ]
  },
  {
   "cell_type": "markdown",
   "id": "cd1991b3",
   "metadata": {},
   "source": [
    "<div  class=\"alert alert-block alert-info\">\n",
    "8. Ersetze in der ersten Textdatei den Namen von Petra durch den Namen Luisa. Lass dir anschließend die neue Liste ausgeben, ohne die Datei zu überspeichern.\n",
    "    \n",
    "    Output:\n",
    "    Olga\n",
    "    Martin\n",
    "    Raffael\n",
    "    Luisa\n",
    "    Maxi\n",
    "    Steffi\n",
    "    Pascal\n",
    "    \n",
    "</div>"
   ]
  },
  {
   "cell_type": "code",
   "execution_count": 7,
   "id": "d860efc5",
   "metadata": {},
   "outputs": [
    {
     "name": "stdout",
     "output_type": "stream",
     "text": [
      "['Olga\\n', 'Martin\\n', 'Raffael\\n', 'Luisa\\n', 'Maxi\\n', 'Steffi\\n', 'Pascal']\n"
     ]
    }
   ],
   "source": [
    "with open(\"namen.txt\", \"r\") as reader:\n",
    "    inhalt = reader.readlines()\n",
    "    \n",
    "inhalt = [x.replace(\"Petra\", \"Luisa\") for x in inhalt]\n",
    "print(inhalt)"
   ]
  },
  {
   "cell_type": "markdown",
   "id": "4f7ae7c1",
   "metadata": {},
   "source": [
    "<div  class=\"alert alert-block alert-info\">\n",
    "9. Überschreibe nun die Datei mit den neuen Namen (der Liste mit Luisa statt Petra). Öffne die Datei und lass dir den Inhalt ausgeben.\n",
    "    \n",
    "    Output:\n",
    "    Olga\n",
    "    Martin\n",
    "    Raffael\n",
    "    Luisa\n",
    "    Maxi\n",
    "    Steffi\n",
    "    Pascal\n",
    "    \n",
    "</div>"
   ]
  },
  {
   "cell_type": "code",
   "execution_count": 8,
   "id": "d5bb5ed2",
   "metadata": {
    "scrolled": true
   },
   "outputs": [
    {
     "name": "stdout",
     "output_type": "stream",
     "text": [
      "Olga\n",
      "Martin\n",
      "Raffael\n",
      "Luisa\n",
      "Maxi\n",
      "Steffi\n",
      "Pascal\n"
     ]
    }
   ],
   "source": [
    "with open(\"namen.txt\", \"w\") as writer:\n",
    "    for zeile in inhalt:\n",
    "        writer.write(zeile)\n",
    "        \n",
    "with open(\"namen.txt\", \"r\") as reader:\n",
    "    print(reader.read())"
   ]
  },
  {
   "cell_type": "markdown",
   "id": "5141af45",
   "metadata": {},
   "source": [
    "<div  class=\"alert alert-block alert-info\">\n",
    "10. Überprüfe ob es die Textdatei mit den Namen im gleichen Ordner wie diese Aufgaben gibt. Nutze dafür os.\n",
    "    \n",
    "    Output:\n",
    "    Die Datei namen.txt ist vorhanden\n",
    "    \n",
    "</div>"
   ]
  },
  {
   "cell_type": "code",
   "execution_count": 9,
   "id": "ca6e73f5",
   "metadata": {},
   "outputs": [
    {
     "name": "stdout",
     "output_type": "stream",
     "text": [
      "Die Datei namen.txt ist vorhanden\n"
     ]
    }
   ],
   "source": [
    "import os\n",
    "datei = \"namen.txt\"\n",
    "\n",
    "if not os.path.isfile(datei):\n",
    "    print(\"Die Datei gibt es nicht\")\n",
    "else:\n",
    "    print(f\"Die Datei {datei} ist vorhanden\")"
   ]
  },
  {
   "cell_type": "markdown",
   "id": "5a031391",
   "metadata": {},
   "source": [
    "# Optional"
   ]
  },
  {
   "cell_type": "markdown",
   "id": "fd8877c9",
   "metadata": {},
   "source": [
    "Fasse die Lerninhalte von heute nochmal zusammen und notiere dir Fragen, die dir dabei kommen!"
   ]
  }
 ],
 "metadata": {
  "colab": {
   "provenance": []
  },
  "kernelspec": {
   "display_name": "Python 3 (ipykernel)",
   "language": "python",
   "name": "python3"
  },
  "language_info": {
   "codemirror_mode": {
    "name": "ipython",
    "version": 3
   },
   "file_extension": ".py",
   "mimetype": "text/x-python",
   "name": "python",
   "nbconvert_exporter": "python",
   "pygments_lexer": "ipython3",
   "version": "3.9.13"
  }
 },
 "nbformat": 4,
 "nbformat_minor": 5
}
