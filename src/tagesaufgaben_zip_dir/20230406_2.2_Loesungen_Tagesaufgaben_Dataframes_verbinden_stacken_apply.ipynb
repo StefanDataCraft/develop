{
 "cells": [
  {
   "cell_type": "markdown",
   "source": [
    "<br><br><center><h1 style=\"font-size:2em;color:#2467C0\">Tagesaufgaben 06.04.2023</h1></center>\n",
    "<br>"
   ],
   "metadata": {
    "collapsed": false
   }
  },
  {
   "cell_type": "markdown",
   "source": [
    "<div  class=\"alert alert-block alert-info\">\n",
    "1. Du hast zwei Dataframes mit Personendaten. Füge diese mittels concat zusammen und lasse dir den Inhalt ausgeben.\n",
    "\n",
    "    Output:\n",
    "       Alter    Stadt  Gewicht  Größe\n",
    "    Name\n",
    "    Anna      25   Berlin       60    170\n",
    "    Ben       30  München       75    180\n",
    "    Carla     22  Hamburg       55    165\n",
    "    David     27     Köln       80    185\n",
    "\n",
    "</div>"
   ],
   "metadata": {
    "collapsed": false
   }
  },
  {
   "cell_type": "code",
   "execution_count": 1,
   "outputs": [],
   "source": [
    "import pandas as pd\n",
    "\n",
    "df1 = pd.DataFrame({'Alter': [25, 30, 22, 27],\n",
    "                    'Stadt': ['Berlin', 'München', 'Hamburg', 'Köln']},\n",
    "                    index=['Anna', 'Ben', 'Carla', 'David'])\n",
    "\n",
    "df2 = pd.DataFrame({'Gewicht': [60, 75, 55, 80],\n",
    "                    'Größe': [170, 180, 165, 185]},\n",
    "                   index=['Anna', 'Ben', 'Carla', 'David'])"
   ],
   "metadata": {
    "collapsed": false
   }
  },
  {
   "cell_type": "code",
   "execution_count": 2,
   "outputs": [
    {
     "name": "stdout",
     "output_type": "stream",
     "text": [
      "       Alter    Stadt  Gewicht  Größe\n",
      "Anna      25   Berlin       60    170\n",
      "Ben       30  München       75    180\n",
      "Carla     22  Hamburg       55    165\n",
      "David     27     Köln       80    185\n"
     ]
    }
   ],
   "source": [
    "result = pd.concat([df1, df2], axis=1)\n",
    "print(result)"
   ],
   "metadata": {
    "collapsed": false
   }
  },
  {
   "cell_type": "markdown",
   "source": [
    "<div  class=\"alert alert-block alert-info\">\n",
    "2. Da ist noch ein drittes Dataframe dazugekommen, blöderweise stehen dort die Namen nicht im Index... Kannst du das ändern und mit concat auch das dritte Dataframe anhängen?\n",
    "\n",
    "</div>"
   ],
   "metadata": {
    "collapsed": false
   }
  },
  {
   "cell_type": "code",
   "execution_count": 3,
   "outputs": [],
   "source": [
    "df3 = pd.DataFrame({\"Name\":['Anna', 'Ben', 'Carla', 'David'],\n",
    "                    'Geschlecht': [\"w\", \"m\", \"w\", \"m\"],\n",
    "                    'Augenfarbe': [\"braun\", \"braun\", \"blau\", \"grün\"]\n",
    "})"
   ],
   "metadata": {
    "collapsed": false
   }
  },
  {
   "cell_type": "code",
   "execution_count": 4,
   "outputs": [
    {
     "name": "stdout",
     "output_type": "stream",
     "text": [
      "       Alter    Stadt  Gewicht  Größe Geschlecht Augenfarbe\n",
      "Anna      25   Berlin       60    170          w      braun\n",
      "Ben       30  München       75    180          m      braun\n",
      "Carla     22  Hamburg       55    165          w       blau\n",
      "David     27     Köln       80    185          m       grün\n"
     ]
    }
   ],
   "source": [
    "result2 = pd.concat([result, df3.set_index(\"Name\")], axis=1)\n",
    "print(result2)"
   ],
   "metadata": {
    "collapsed": false
   }
  },
  {
   "cell_type": "markdown",
   "source": [
    "<div  class=\"alert alert-block alert-info\">\n",
    "3. Dir liegen zwei Dataframes mit Autodaten vor. Sie bilden eine fortlaufende Liste, weshalb du das erste unten an das zweite anhängen willst. Löse ebenfalls mit concat.\n",
    "\n",
    "</div>"
   ],
   "metadata": {
    "collapsed": false
   }
  },
  {
   "cell_type": "code",
   "execution_count": 5,
   "outputs": [],
   "source": [
    "import pandas as pd\n",
    "\n",
    "# DataFrame 1\n",
    "df1 = pd.DataFrame({\n",
    "    'Marke': ['Audi', 'BMW', 'Mercedes-Benz', 'Audi', 'BMW', 'Mercedes-Benz', 'Audi', 'BMW', 'Mercedes-Benz'],\n",
    "    'Modell': ['A3', 'X7', 'GLC', 'A5', 'M2', 'E-Klasse', 'A1', 'M4', 'CLS'],\n",
    "    'Baujahr': [2015, 2017, 2018, 2016, 2015, 2019, 2014, 2017, 2019],\n",
    "    'Preis': [20000, 22000, 25000, 28000, 23000, 35000, 18000, 20000, 27000],\n",
    "    'Kilometerstand': [20000, 35000, 28000, 40000, 25000, 18000, 22000, 29000, 21000]\n",
    "})\n",
    "\n",
    "# DataFrame 2\n",
    "df2 = pd.DataFrame({\n",
    "    'Marke': ['Volkswagen', 'Toyota', 'Mercedes-Benz', 'Audi', 'Volkswagen', 'Toyota', 'Mercedes-Benz', 'Audi', 'Volkswagen'],\n",
    "    'Modell': ['Golf', 'Corolla', 'GLE', 'Q5', 'Tiguan', 'Camry', 'GLA', 'A3', 'Passat'],\n",
    "    'Baujahr': [2016, 2018, 2019, 2017, 2015, 2017, 2020, 2018, 2016],\n",
    "    'Preis': [18000, 19000, 28000, 31000, 15000, 17000, 40000, 22000, 19000],\n",
    "    'Kilometerstand': [32000, 26000, 18000, 22000, 42000, 32000, 13000, 25000, 18000]\n",
    "})\n"
   ],
   "metadata": {
    "collapsed": false
   }
  },
  {
   "cell_type": "code",
   "execution_count": 6,
   "outputs": [
    {
     "data": {
      "text/plain": "           Marke    Modell  Baujahr  Preis  Kilometerstand\n0           Audi        A3     2015  20000           20000\n1            BMW        X7     2017  22000           35000\n2  Mercedes-Benz       GLC     2018  25000           28000\n3           Audi        A5     2016  28000           40000\n4            BMW        M2     2015  23000           25000\n5  Mercedes-Benz  E-Klasse     2019  35000           18000\n6           Audi        A1     2014  18000           22000\n7            BMW        M4     2017  20000           29000\n8  Mercedes-Benz       CLS     2019  27000           21000\n0     Volkswagen      Golf     2016  18000           32000\n1         Toyota   Corolla     2018  19000           26000\n2  Mercedes-Benz       GLE     2019  28000           18000\n3           Audi        Q5     2017  31000           22000\n4     Volkswagen    Tiguan     2015  15000           42000\n5         Toyota     Camry     2017  17000           32000\n6  Mercedes-Benz       GLA     2020  40000           13000\n7           Audi        A3     2018  22000           25000\n8     Volkswagen    Passat     2016  19000           18000",
      "text/html": "<div>\n<style scoped>\n    .dataframe tbody tr th:only-of-type {\n        vertical-align: middle;\n    }\n\n    .dataframe tbody tr th {\n        vertical-align: top;\n    }\n\n    .dataframe thead th {\n        text-align: right;\n    }\n</style>\n<table border=\"1\" class=\"dataframe\">\n  <thead>\n    <tr style=\"text-align: right;\">\n      <th></th>\n      <th>Marke</th>\n      <th>Modell</th>\n      <th>Baujahr</th>\n      <th>Preis</th>\n      <th>Kilometerstand</th>\n    </tr>\n  </thead>\n  <tbody>\n    <tr>\n      <th>0</th>\n      <td>Audi</td>\n      <td>A3</td>\n      <td>2015</td>\n      <td>20000</td>\n      <td>20000</td>\n    </tr>\n    <tr>\n      <th>1</th>\n      <td>BMW</td>\n      <td>X7</td>\n      <td>2017</td>\n      <td>22000</td>\n      <td>35000</td>\n    </tr>\n    <tr>\n      <th>2</th>\n      <td>Mercedes-Benz</td>\n      <td>GLC</td>\n      <td>2018</td>\n      <td>25000</td>\n      <td>28000</td>\n    </tr>\n    <tr>\n      <th>3</th>\n      <td>Audi</td>\n      <td>A5</td>\n      <td>2016</td>\n      <td>28000</td>\n      <td>40000</td>\n    </tr>\n    <tr>\n      <th>4</th>\n      <td>BMW</td>\n      <td>M2</td>\n      <td>2015</td>\n      <td>23000</td>\n      <td>25000</td>\n    </tr>\n    <tr>\n      <th>5</th>\n      <td>Mercedes-Benz</td>\n      <td>E-Klasse</td>\n      <td>2019</td>\n      <td>35000</td>\n      <td>18000</td>\n    </tr>\n    <tr>\n      <th>6</th>\n      <td>Audi</td>\n      <td>A1</td>\n      <td>2014</td>\n      <td>18000</td>\n      <td>22000</td>\n    </tr>\n    <tr>\n      <th>7</th>\n      <td>BMW</td>\n      <td>M4</td>\n      <td>2017</td>\n      <td>20000</td>\n      <td>29000</td>\n    </tr>\n    <tr>\n      <th>8</th>\n      <td>Mercedes-Benz</td>\n      <td>CLS</td>\n      <td>2019</td>\n      <td>27000</td>\n      <td>21000</td>\n    </tr>\n    <tr>\n      <th>0</th>\n      <td>Volkswagen</td>\n      <td>Golf</td>\n      <td>2016</td>\n      <td>18000</td>\n      <td>32000</td>\n    </tr>\n    <tr>\n      <th>1</th>\n      <td>Toyota</td>\n      <td>Corolla</td>\n      <td>2018</td>\n      <td>19000</td>\n      <td>26000</td>\n    </tr>\n    <tr>\n      <th>2</th>\n      <td>Mercedes-Benz</td>\n      <td>GLE</td>\n      <td>2019</td>\n      <td>28000</td>\n      <td>18000</td>\n    </tr>\n    <tr>\n      <th>3</th>\n      <td>Audi</td>\n      <td>Q5</td>\n      <td>2017</td>\n      <td>31000</td>\n      <td>22000</td>\n    </tr>\n    <tr>\n      <th>4</th>\n      <td>Volkswagen</td>\n      <td>Tiguan</td>\n      <td>2015</td>\n      <td>15000</td>\n      <td>42000</td>\n    </tr>\n    <tr>\n      <th>5</th>\n      <td>Toyota</td>\n      <td>Camry</td>\n      <td>2017</td>\n      <td>17000</td>\n      <td>32000</td>\n    </tr>\n    <tr>\n      <th>6</th>\n      <td>Mercedes-Benz</td>\n      <td>GLA</td>\n      <td>2020</td>\n      <td>40000</td>\n      <td>13000</td>\n    </tr>\n    <tr>\n      <th>7</th>\n      <td>Audi</td>\n      <td>A3</td>\n      <td>2018</td>\n      <td>22000</td>\n      <td>25000</td>\n    </tr>\n    <tr>\n      <th>8</th>\n      <td>Volkswagen</td>\n      <td>Passat</td>\n      <td>2016</td>\n      <td>19000</td>\n      <td>18000</td>\n    </tr>\n  </tbody>\n</table>\n</div>"
     },
     "execution_count": 6,
     "metadata": {},
     "output_type": "execute_result"
    }
   ],
   "source": [
    "result = pd.concat([df1, df2], axis=0)\n",
    "result"
   ],
   "metadata": {
    "collapsed": false
   }
  },
  {
   "cell_type": "markdown",
   "source": [
    "<div  class=\"alert alert-block alert-info\">\n",
    "4. Jetzt hast du eine Liste mit Obst und eine mit Gemüse und willst diese wieder mit concat zusammenfügen. Allerdings gibt es eine knifflige Sache: Du möchtest, dass über dem Teil des Dataframes mit Obsteinträgen \"Obst\" steht und über dem mit Gemüseeinträgen \"Gemüse\". Wie stellst du das an? Dein Output sollte so aussehen:\n",
    "\n",
    "    Output:\n",
    "           Obst                      Gemüse\n",
    "      ProduktID Produktname Preis ProduktID Produktname Preis\n",
    "    0         1       Apfel   0.5         5     Paprika   0.8\n",
    "    1         2      Banane   0.3         6       Gurke   0.6\n",
    "    2         3    Erdbeere   1.2         7      Tomate   0.9\n",
    "    3         4      Melone   2.5         8     Karotte   1.0\n",
    "\n",
    "\n",
    "</div>"
   ],
   "metadata": {
    "collapsed": false
   }
  },
  {
   "cell_type": "code",
   "execution_count": 7,
   "outputs": [],
   "source": [
    "import pandas as pd\n",
    "\n",
    "# DataFrame 1\n",
    "df1 = pd.DataFrame({\n",
    "    'ProduktID': [1, 2, 3, 4],\n",
    "    'Produktname': ['Apfel', 'Banane', 'Erdbeere', 'Melone'],\n",
    "    'Preis': [0.5, 0.3, 1.2, 2.5]\n",
    "})\n",
    "\n",
    "# DataFrame 2\n",
    "df2 = pd.DataFrame({\n",
    "    'ProduktID': [5, 6, 7, 8],\n",
    "    'Produktname': ['Paprika', 'Gurke', 'Tomate', 'Karotte'],\n",
    "    'Preis': [0.8, 0.6, 0.9, 1.0]\n",
    "})"
   ],
   "metadata": {
    "collapsed": false
   }
  },
  {
   "cell_type": "code",
   "execution_count": 8,
   "outputs": [
    {
     "name": "stdout",
     "output_type": "stream",
     "text": [
      "       Obst                      Gemüse                  \n",
      "  ProduktID Produktname Preis ProduktID Produktname Preis\n",
      "0         1       Apfel   0.5         5     Paprika   0.8\n",
      "1         2      Banane   0.3         6       Gurke   0.6\n",
      "2         3    Erdbeere   1.2         7      Tomate   0.9\n",
      "3         4      Melone   2.5         8     Karotte   1.0\n"
     ]
    }
   ],
   "source": [
    "# Zusammenführen der DataFrames mit concat und Angabe von keys für die Spalten\n",
    "df_concat = pd.concat([df1, df2], axis=1, keys=['Obst', 'Gemüse'])\n",
    "\n",
    "# Ausgabe des Ergebnisses\n",
    "print(df_concat)"
   ],
   "metadata": {
    "collapsed": false
   }
  },
  {
   "cell_type": "markdown",
   "source": [
    "<div  class=\"alert alert-block alert-info\">\n",
    "5. Du hast einen kleinen Auszug aus einer Videothek in Form von zwei Dataframes. Diese sollen zusammengefügt werden und dieses Mal mithilfe von merge.\n",
    "\n",
    "    Output:\n",
    "\n",
    "       ID          Titel         Regisseur  Bewertung  Anzahl Bewertungen\n",
    "    0   1  Jurassic Park  Steven Spielberg        8.3                1000\n",
    "    1   2  Indiana Jones  Steven Spielberg        7.6                2000\n",
    "    2   3       Die Hard    John McTiernan        8.2                1500\n",
    "    3   4   Forrest Gump   Robert Zemeckis        8.8                3000\n",
    "\n",
    "</div>"
   ],
   "metadata": {
    "collapsed": false
   }
  },
  {
   "cell_type": "code",
   "execution_count": 9,
   "outputs": [],
   "source": [
    "df1 = pd.DataFrame({\n",
    "    'ID': [1, 2, 3, 4],\n",
    "    'Titel': ['Jurassic Park', 'Indiana Jones', 'Die Hard', 'Forrest Gump'],\n",
    "    'Regisseur': ['Steven Spielberg', 'Steven Spielberg', 'John McTiernan', 'Robert Zemeckis']\n",
    "})\n",
    "\n",
    "df2 = pd.DataFrame({\n",
    "    'ID': [1, 2, 3, 4],\n",
    "    'Bewertung': [8.3, 7.6, 8.2, 8.8],\n",
    "    'Anzahl Bewertungen': [1000, 2000, 1500, 3000]\n",
    "})"
   ],
   "metadata": {
    "collapsed": false
   }
  },
  {
   "cell_type": "code",
   "execution_count": 10,
   "outputs": [
    {
     "name": "stdout",
     "output_type": "stream",
     "text": [
      "   ID          Titel         Regisseur  Bewertung  Anzahl Bewertungen\n",
      "0   1  Jurassic Park  Steven Spielberg        8.3                1000\n",
      "1   2  Indiana Jones  Steven Spielberg        7.6                2000\n",
      "2   3       Die Hard    John McTiernan        8.2                1500\n",
      "3   4   Forrest Gump   Robert Zemeckis        8.8                3000\n"
     ]
    }
   ],
   "source": [
    "# Merge der DataFrames auf Basis der Spalte 'ID'\n",
    "df_merged = pd.merge(df1, df2, on='ID')\n",
    "\n",
    "# Ausgabe des Ergebnisses\n",
    "print(df_merged)"
   ],
   "metadata": {
    "collapsed": false
   }
  },
  {
   "cell_type": "markdown",
   "source": [
    "<div  class=\"alert alert-block alert-info\">\n",
    "6. Du hast Daten zu Personen vorliegen und sollst diese für deinen Chef zusammenführen. Da dein Chef sich nur für Zahlen interessiert, willst du ihm nur Daten zu Personen vorlegen, die auch bestellt haben. Löse mit merge.\n",
    "\n",
    "\n",
    "\n",
    "</div>"
   ],
   "metadata": {
    "collapsed": false
   }
  },
  {
   "cell_type": "code",
   "execution_count": 25,
   "outputs": [],
   "source": [
    "df1 = pd.DataFrame({\n",
    "    'Name': ['Max Mustermann', 'Petra Müller', 'Hans Schmidt', 'Lisa Meyer'],\n",
    "    'Adresse': ['Hauptstraße 1', 'Bahnhofstraße 2', 'Mühlenweg 3', 'Bergstraße 4']\n",
    "})\n",
    "\n",
    "df2 = pd.DataFrame({\n",
    "    'Name': ['Max Mustermann', 'Petra Müller', 'Hans Schmidt'],\n",
    "    'Bestellnummer': [1234, 5678, 9101],\n",
    "    'Betrag': [19.99, 29.99, 49.99]\n",
    "})"
   ],
   "metadata": {
    "collapsed": false
   }
  },
  {
   "cell_type": "code",
   "execution_count": 12,
   "outputs": [
    {
     "name": "stdout",
     "output_type": "stream",
     "text": [
      "             Name          Adresse  Bestellnummer  Betrag\n",
      "0  Max Mustermann    Hauptstraße 1           1234   19.99\n",
      "1    Petra Müller  Bahnhofstraße 2           5678   29.99\n",
      "2    Hans Schmidt      Mühlenweg 3           9101   49.99\n"
     ]
    }
   ],
   "source": [
    "# Inner Join der DataFrames auf Basis der Spalte 'Name'\n",
    "df_merged = pd.merge(df1, df2, on='Name', how='inner')\n",
    "\n",
    "# Ausgabe des Ergebnisses\n",
    "print(df_merged)"
   ],
   "metadata": {
    "collapsed": false
   }
  },
  {
   "cell_type": "markdown",
   "source": [
    "<div  class=\"alert alert-block alert-info\">\n",
    "7. Ups. Du hast deinem Chef die Liste vorgelegt und er fragt dich: Wo sind die Leute, die sich für den Newsletter registriert haben, aber dann nichts bestellt haben? Das wäre ja mal was Neues, wenn alle was bestellt hätten! Du gehst zurück ans Mergen, um ihm dann eine Liste mit allen Leuten vorzulegen...\n",
    "\n",
    "    Output:\n",
    "                 Name          Adresse  Bestellnummer  Betrag\n",
    "    0  Max Mustermann    Hauptstraße 1         1234.0   19.99\n",
    "    1    Petra Müller  Bahnhofstraße 2         5678.0   29.99\n",
    "    2    Hans Schmidt      Mühlenweg 3         9101.0   49.99\n",
    "    3      Lisa Meyer     Bergstraße 4            NaN     NaN\n",
    "\n",
    "</div>\n"
   ],
   "metadata": {
    "collapsed": false
   }
  },
  {
   "cell_type": "code",
   "execution_count": 29,
   "outputs": [
    {
     "data": {
      "text/plain": "             Name          Adresse  Bestellnummer  Betrag\n0  Max Mustermann    Hauptstraße 1         1234.0   19.99\n1    Petra Müller  Bahnhofstraße 2         5678.0   29.99\n2    Hans Schmidt      Mühlenweg 3         9101.0   49.99\n3      Lisa Meyer     Bergstraße 4            NaN     NaN",
      "text/html": "<div>\n<style scoped>\n    .dataframe tbody tr th:only-of-type {\n        vertical-align: middle;\n    }\n\n    .dataframe tbody tr th {\n        vertical-align: top;\n    }\n\n    .dataframe thead th {\n        text-align: right;\n    }\n</style>\n<table border=\"1\" class=\"dataframe\">\n  <thead>\n    <tr style=\"text-align: right;\">\n      <th></th>\n      <th>Name</th>\n      <th>Adresse</th>\n      <th>Bestellnummer</th>\n      <th>Betrag</th>\n    </tr>\n  </thead>\n  <tbody>\n    <tr>\n      <th>0</th>\n      <td>Max Mustermann</td>\n      <td>Hauptstraße 1</td>\n      <td>1234.0</td>\n      <td>19.99</td>\n    </tr>\n    <tr>\n      <th>1</th>\n      <td>Petra Müller</td>\n      <td>Bahnhofstraße 2</td>\n      <td>5678.0</td>\n      <td>29.99</td>\n    </tr>\n    <tr>\n      <th>2</th>\n      <td>Hans Schmidt</td>\n      <td>Mühlenweg 3</td>\n      <td>9101.0</td>\n      <td>49.99</td>\n    </tr>\n    <tr>\n      <th>3</th>\n      <td>Lisa Meyer</td>\n      <td>Bergstraße 4</td>\n      <td>NaN</td>\n      <td>NaN</td>\n    </tr>\n  </tbody>\n</table>\n</div>"
     },
     "execution_count": 29,
     "metadata": {},
     "output_type": "execute_result"
    }
   ],
   "source": [
    "df1.merge(df2, left_on=\"Name\", right_on=\"Name\", how='left')"
   ],
   "metadata": {
    "collapsed": false
   }
  },
  {
   "cell_type": "code",
   "execution_count": 23,
   "outputs": [
    {
     "name": "stdout",
     "output_type": "stream",
     "text": [
      "             Name          Adresse  Bestellnummer  Betrag\n",
      "0  Max Mustermann    Hauptstraße 1         1234.0   19.99\n",
      "1    Petra Müller  Bahnhofstraße 2         5678.0   29.99\n",
      "2    Hans Schmidt      Mühlenweg 3         9101.0   49.99\n",
      "3      Lisa Meyer     Bergstraße 4            NaN     NaN\n"
     ]
    }
   ],
   "source": [
    "# Inner Join der DataFrames auf Basis der Spalte 'Name'\n",
    "df_merged = pd.merge(df1, df2, on='Name', how='left')\n",
    "\n",
    "# Ausgabe des Ergebnisses\n",
    "print(df_merged)"
   ],
   "metadata": {
    "collapsed": false
   }
  },
  {
   "cell_type": "code",
   "execution_count": 13,
   "outputs": [],
   "source": [],
   "metadata": {
    "collapsed": false
   }
  },
  {
   "cell_type": "markdown",
   "source": [
    "<div  class=\"alert alert-block alert-info\">\n",
    "8. Du hast eine Liste mit Produkten (Index entspricht ihren IDs) und eine Liste mit Bestellungen. Du möchtest deine Bestellliste um Details zu den Produkten erweitern. Wie löst du das mit join?\n",
    "\n",
    "    Output:\n",
    "       order_id  quantity      product_name  price     brand\n",
    "    1      1001         2        Messer-Set     50       WMF\n",
    "    3      1002         1  Schneidebrett XL     20       WMF\n",
    "    2      1003         4       Pfanne 24cm     30     Tefal\n",
    "    4      1004         2    Besteck-Set 12     40  Zwilling\n",
    "\n",
    "</div>"
   ],
   "metadata": {
    "collapsed": false
   }
  },
  {
   "cell_type": "code",
   "execution_count": 14,
   "outputs": [
    {
     "name": "stdout",
     "output_type": "stream",
     "text": [
      "   order_id  quantity      product_name  price     brand\n",
      "1      1001         2        Messer-Set     50       WMF\n",
      "3      1002         1  Schneidebrett XL     20       WMF\n",
      "2      1003         4       Pfanne 24cm     30     Tefal\n",
      "4      1004         2    Besteck-Set 12     40  Zwilling\n"
     ]
    }
   ],
   "source": [
    "orders = pd.DataFrame({\n",
    "    'order_id': [1001, 1002, 1003, 1004],\n",
    "    'quantity': [2, 1, 4, 2]},\n",
    "    index=[1, 3, 2, 4])\n",
    "\n",
    "products = pd.DataFrame({\n",
    "    'product_name': ['Messer-Set', 'Pfanne 24cm', 'Schneidebrett XL', 'Besteck-Set 12', 'Küchenwaage', 'Bratenthermometer'],\n",
    "    'price': [50, 30, 20, 40, 15, 25],\n",
    "    'brand': ['WMF', 'Tefal', 'WMF', 'Zwilling', 'Soehnle', 'WMF']},\n",
    "    index=[1, 2, 3, 4, 5, 6])\n",
    "\n",
    "# Left Join durchführen\n",
    "merged = orders.join(products, how='left')\n",
    "\n",
    "# Ergebnis ausgeben\n",
    "print(merged)\n"
   ],
   "metadata": {
    "collapsed": false
   }
  },
  {
   "cell_type": "markdown",
   "source": [
    "<div  class=\"alert alert-block alert-info\">\n",
    "9. Du hast wieder mal zwei Dataframes, eins mit Personen, die den Newsletter deiner Firma abonniert haben, das andere mit Bestellungen. Die Indices entsprechen dabei den Personen-IDs. Du willst alle Leute haben, die sowohl den Newsletter abonniert haben, als auch etwas bestellt haben.\n",
    "\n",
    "    Output:\n",
    "       Name             Email  Newsletter    Product  Price\n",
    "    1  John  john@example.com        True  Product A  10.99\n",
    "    3  Mary  mary@example.com        True  Product C   8.99\n",
    "    7   Bob   bob@example.com        True  Product E   9.99\n",
    "\n",
    "</div>"
   ],
   "metadata": {
    "collapsed": false
   }
  },
  {
   "cell_type": "code",
   "execution_count": 15,
   "outputs": [],
   "source": [
    "newsletter = pd.DataFrame({\n",
    "    'Name': ['John', 'Mary', 'Peter', 'Jane', 'Bob'],\n",
    "    'Email': ['john@example.com', 'mary@example.com', 'peter@example.com', 'jane@example.com', 'bob@example.com'],\n",
    "    'Newsletter': [True, True, True, False, True]},\n",
    "    index=[1, 3, 4, 5, 7])\n",
    "\n",
    "bestellungen = pd.DataFrame({\n",
    "    'Product': ['Product A', 'Product B', 'Product C', 'Product D', 'Product E'],\n",
    "    'Price': [10.99, 12.99, 8.99, 15.99, 9.99]},\n",
    "    index=[1, 2, 3, 6, 7])"
   ],
   "metadata": {
    "collapsed": false
   }
  },
  {
   "cell_type": "code",
   "execution_count": 16,
   "outputs": [
    {
     "name": "stdout",
     "output_type": "stream",
     "text": [
      "   Name             Email  Newsletter    Product  Price\n",
      "1  John  john@example.com        True  Product A  10.99\n",
      "3  Mary  mary@example.com        True  Product C   8.99\n",
      "7   Bob   bob@example.com        True  Product E   9.99\n"
     ]
    }
   ],
   "source": [
    "result = newsletter.join(bestellungen, how='inner')\n",
    "print(result)"
   ],
   "metadata": {
    "collapsed": false
   }
  },
  {
   "cell_type": "markdown",
   "source": [
    "<div  class=\"alert alert-block alert-info\">\n",
    "10. Aber leider sieht dein Chef das nicht so: Ich will alle sehen, brummt er unzufrieden. Ob Bestellung oder Newsletter, ist egal. Ich will einen Gesamtüberblick. Mich stören auch keine Leerstellen. Nun gut, du gehst zurück an deinen Arbeitsplatz, um das hier zu erhalten:\n",
    "\n",
    "    Output:\n",
    "        Name              Email Newsletter    Product  Price\n",
    "    1   John   john@example.com       True  Product A  10.99\n",
    "    2    NaN                NaN        NaN  Product B  12.99\n",
    "    3   Mary   mary@example.com       True  Product C   8.99\n",
    "    4  Peter  peter@example.com       True        NaN    NaN\n",
    "    5   Jane   jane@example.com      False        NaN    NaN\n",
    "    6    NaN                NaN        NaN  Product D  15.99\n",
    "    7    Bob    bob@example.com       True  Product E   9.99\n",
    "\n",
    "</div>"
   ],
   "metadata": {
    "collapsed": false
   }
  },
  {
   "cell_type": "code",
   "execution_count": 17,
   "outputs": [
    {
     "name": "stdout",
     "output_type": "stream",
     "text": [
      "    Name              Email Newsletter    Product  Price\n",
      "1   John   john@example.com       True  Product A  10.99\n",
      "2    NaN                NaN        NaN  Product B  12.99\n",
      "3   Mary   mary@example.com       True  Product C   8.99\n",
      "4  Peter  peter@example.com       True        NaN    NaN\n",
      "5   Jane   jane@example.com      False        NaN    NaN\n",
      "6    NaN                NaN        NaN  Product D  15.99\n",
      "7    Bob    bob@example.com       True  Product E   9.99\n"
     ]
    }
   ],
   "source": [
    "result = newsletter.join(bestellungen, how='outer')\n",
    "print(result)"
   ],
   "metadata": {
    "collapsed": false
   }
  },
  {
   "cell_type": "markdown",
   "source": [
    "<div  class=\"alert alert-block alert-info\">\n",
    "11. Die Stimmungsschwankungen deines Chefs sind manchmal uneträglich. Was ist denn das für ein Quatsch, fragt er? Was interessieren mich die Leute, die nur den Newsletter abonniert haben? Leg mir mal alle vor, die was bestellt haben. Aber natürlich interessiert mich auch, wer davon einen Newsletter bestellt hat und wer nicht. Und dings - weil ich so sadistisch bin: Ich will, dass du in beide Richtungen joinst. Ich will bisschen was für mein Geld sehen. Du bist zwar etwas verstört, wozu du zweimal dasselbe machen sollst, aber der Blick auf die Uhr verrät: Bald ist Feierabend. Also begibst du dich in den letzten Kampf.\n",
    "\n",
    "    Output:\n",
    "       Product  Price  Name             Email Newsletter\n",
    "    1  Product A  10.99  John  john@example.com       True\n",
    "    2  Product B  12.99   NaN               NaN        NaN\n",
    "    3  Product C   8.99  Mary  mary@example.com       True\n",
    "    6  Product D  15.99   NaN               NaN        NaN\n",
    "    7  Product E   9.99   Bob   bob@example.com       True\n",
    "\n"
   ],
   "metadata": {
    "collapsed": false
   }
  },
  {
   "cell_type": "code",
   "execution_count": 18,
   "outputs": [
    {
     "name": "stdout",
     "output_type": "stream",
     "text": [
      "   Name             Email Newsletter    Product  Price\n",
      "1  John  john@example.com       True  Product A  10.99\n",
      "2   NaN               NaN        NaN  Product B  12.99\n",
      "3  Mary  mary@example.com       True  Product C   8.99\n",
      "6   NaN               NaN        NaN  Product D  15.99\n",
      "7   Bob   bob@example.com       True  Product E   9.99\n"
     ]
    }
   ],
   "source": [
    "# Join Version 1\n",
    "result = newsletter.join(bestellungen, how='right')\n",
    "print(result)"
   ],
   "metadata": {
    "collapsed": false
   }
  },
  {
   "cell_type": "code",
   "execution_count": 19,
   "outputs": [
    {
     "name": "stdout",
     "output_type": "stream",
     "text": [
      "     Product  Price  Name             Email Newsletter\n",
      "1  Product A  10.99  John  john@example.com       True\n",
      "2  Product B  12.99   NaN               NaN        NaN\n",
      "3  Product C   8.99  Mary  mary@example.com       True\n",
      "6  Product D  15.99   NaN               NaN        NaN\n",
      "7  Product E   9.99   Bob   bob@example.com       True\n"
     ]
    }
   ],
   "source": [
    "result = bestellungen.join(newsletter, how='left')\n",
    "print(result)"
   ],
   "metadata": {
    "collapsed": false
   }
  },
  {
   "cell_type": "markdown",
   "source": [
    "<div  class=\"alert alert-block alert-info\">\n",
    "12. Dein Chef möchte, dass du Informationen zu seinen Mitarbeitern, die in einem Dataframe vorliegen, in eine andere Form überführst. Verwende hierfür Stack und beseitige zuvor den numerischen Index, indem du die Namen als Index setzt. Außerdem soll über den Tätigkeiten in der Spalte \"Tätigkeit\" stehen.\n",
    "\n",
    "    Output:\n",
    "    Name                   Tätigkeit\n",
    "    Anna     Montag          Meeting\n",
    "             Dienstag    Buchhaltung\n",
    "             Mittwoch      Marketing\n",
    "    Bob      Montag      Buchhaltung\n",
    "             Dienstag        Meeting\n",
    "             Mittwoch    Entwicklung\n",
    "    Charlie  Montag        Marketing\n",
    "             Dienstag    Entwicklung\n",
    "             Mittwoch        Meeting"
   ],
   "metadata": {
    "collapsed": false
   }
  },
  {
   "cell_type": "code",
   "execution_count": 8,
   "outputs": [
    {
     "data": {
      "text/plain": "      Name       Montag     Dienstag     Mittwoch\n0     Anna      Meeting  Buchhaltung    Marketing\n1      Bob  Buchhaltung      Meeting  Entwicklung\n2  Charlie    Marketing  Entwicklung      Meeting",
      "text/html": "<div>\n<style scoped>\n    .dataframe tbody tr th:only-of-type {\n        vertical-align: middle;\n    }\n\n    .dataframe tbody tr th {\n        vertical-align: top;\n    }\n\n    .dataframe thead th {\n        text-align: right;\n    }\n</style>\n<table border=\"1\" class=\"dataframe\">\n  <thead>\n    <tr style=\"text-align: right;\">\n      <th></th>\n      <th>Name</th>\n      <th>Montag</th>\n      <th>Dienstag</th>\n      <th>Mittwoch</th>\n    </tr>\n  </thead>\n  <tbody>\n    <tr>\n      <th>0</th>\n      <td>Anna</td>\n      <td>Meeting</td>\n      <td>Buchhaltung</td>\n      <td>Marketing</td>\n    </tr>\n    <tr>\n      <th>1</th>\n      <td>Bob</td>\n      <td>Buchhaltung</td>\n      <td>Meeting</td>\n      <td>Entwicklung</td>\n    </tr>\n    <tr>\n      <th>2</th>\n      <td>Charlie</td>\n      <td>Marketing</td>\n      <td>Entwicklung</td>\n      <td>Meeting</td>\n    </tr>\n  </tbody>\n</table>\n</div>"
     },
     "execution_count": 8,
     "metadata": {},
     "output_type": "execute_result"
    }
   ],
   "source": [
    "df = pd.DataFrame({\n",
    "    'Name': ['Anna', 'Bob', 'Charlie'],\n",
    "    'Montag': ['Meeting', 'Buchhaltung', 'Marketing'],\n",
    "    'Dienstag': ['Buchhaltung', 'Meeting', 'Entwicklung'],\n",
    "    'Mittwoch': ['Marketing', 'Entwicklung', 'Meeting']\n",
    "})\n",
    "df"
   ],
   "metadata": {
    "collapsed": false
   }
  },
  {
   "cell_type": "code",
   "execution_count": 9,
   "outputs": [
    {
     "ename": "TypeError",
     "evalue": "Series.rename() got an unexpected keyword argument 'columns'",
     "output_type": "error",
     "traceback": [
      "\u001B[1;31m---------------------------------------------------------------------------\u001B[0m",
      "\u001B[1;31mTypeError\u001B[0m                                 Traceback (most recent call last)",
      "Cell \u001B[1;32mIn[9], line 3\u001B[0m\n\u001B[0;32m      1\u001B[0m df \u001B[38;5;241m=\u001B[39m df\u001B[38;5;241m.\u001B[39mset_index(\u001B[38;5;124m\"\u001B[39m\u001B[38;5;124mName\u001B[39m\u001B[38;5;124m\"\u001B[39m)\n\u001B[0;32m      2\u001B[0m df \u001B[38;5;241m=\u001B[39m df\u001B[38;5;241m.\u001B[39mstack()\n\u001B[1;32m----> 3\u001B[0m df \u001B[38;5;241m=\u001B[39m \u001B[43mdf\u001B[49m\u001B[38;5;241;43m.\u001B[39;49m\u001B[43mrename\u001B[49m\u001B[43m(\u001B[49m\u001B[43mcolumns\u001B[49m\u001B[38;5;241;43m=\u001B[39;49m\u001B[43m{\u001B[49m\u001B[38;5;124;43m\"\u001B[39;49m\u001B[38;5;124;43mTätigkeit\u001B[39;49m\u001B[38;5;124;43m\"\u001B[39;49m\u001B[43m}\u001B[49m\u001B[43m)\u001B[49m\n\u001B[0;32m      4\u001B[0m \u001B[38;5;66;03m#df = df.rename(\"Tätigkeit\")\u001B[39;00m\n\u001B[0;32m      5\u001B[0m df\n",
      "\u001B[1;31mTypeError\u001B[0m: Series.rename() got an unexpected keyword argument 'columns'"
     ]
    }
   ],
   "source": [
    "df = df.set_index(\"Name\")\n",
    "df = df.stack()\n",
    "df = df.rename(columns={\"Tätigkeit\"})\n",
    "#df = df.rename(\"Tätigkeit\")\n",
    "df"
   ],
   "metadata": {
    "collapsed": false
   }
  },
  {
   "cell_type": "markdown",
   "source": [
    "<div  class=\"alert alert-block alert-info\">\n",
    "13. Das war die Verwaltung, aber es gibt auch einen Produktionsraum mit Maschinen (jede der Maschinen hat einen Kosenamen). Dein Chef möchte pro Zeile eine Maschine sehen und die verschiedenen Schichten als Spalten. Du bist echt müde, aber ein Blick auf die Uhr zeigt: Es ist gleich Feierabend. Tue deinem Chef noch diesen letzten Gefallen und dann kannst du endlich das Helle öffnen, das im Kühlschrank auf dich wartet."
   ],
   "metadata": {
    "collapsed": false
   }
  },
  {
   "cell_type": "code",
   "execution_count": 16,
   "outputs": [
    {
     "data": {
      "text/plain": "                Maschine Schicht  Betriebszeit\n0          R-275 \"Ernie\"    Früh           100\n1          R-275 \"Ernie\"    Spät           150\n2          R-275 \"Ernie\"   Nacht            50\n3        PO-777 \"Polina\"    Früh           200\n4        PO-777 \"Polina\"    Spät           180\n5        PO-777 \"Polina\"   Nacht           220\n6   CH-823 \"Che Guevara\"    Früh           300\n7   CH-823 \"Che Guevara\"    Spät           320\n8   CH-823 \"Che Guevara\"   Nacht           280\n9          C-727 \"Clara\"    Früh           150\n10         C-727 \"Clara\"    Spät           170\n11         C-727 \"Clara\"   Nacht           130\n12        OT-14.2 \"Otto\"    Früh            80\n13        OT-14.2 \"Otto\"    Spät           120\n14        OT-14.2 \"Otto\"   Nacht            90",
      "text/html": "<div>\n<style scoped>\n    .dataframe tbody tr th:only-of-type {\n        vertical-align: middle;\n    }\n\n    .dataframe tbody tr th {\n        vertical-align: top;\n    }\n\n    .dataframe thead th {\n        text-align: right;\n    }\n</style>\n<table border=\"1\" class=\"dataframe\">\n  <thead>\n    <tr style=\"text-align: right;\">\n      <th></th>\n      <th>Maschine</th>\n      <th>Schicht</th>\n      <th>Betriebszeit</th>\n    </tr>\n  </thead>\n  <tbody>\n    <tr>\n      <th>0</th>\n      <td>R-275 \"Ernie\"</td>\n      <td>Früh</td>\n      <td>100</td>\n    </tr>\n    <tr>\n      <th>1</th>\n      <td>R-275 \"Ernie\"</td>\n      <td>Spät</td>\n      <td>150</td>\n    </tr>\n    <tr>\n      <th>2</th>\n      <td>R-275 \"Ernie\"</td>\n      <td>Nacht</td>\n      <td>50</td>\n    </tr>\n    <tr>\n      <th>3</th>\n      <td>PO-777 \"Polina\"</td>\n      <td>Früh</td>\n      <td>200</td>\n    </tr>\n    <tr>\n      <th>4</th>\n      <td>PO-777 \"Polina\"</td>\n      <td>Spät</td>\n      <td>180</td>\n    </tr>\n    <tr>\n      <th>5</th>\n      <td>PO-777 \"Polina\"</td>\n      <td>Nacht</td>\n      <td>220</td>\n    </tr>\n    <tr>\n      <th>6</th>\n      <td>CH-823 \"Che Guevara\"</td>\n      <td>Früh</td>\n      <td>300</td>\n    </tr>\n    <tr>\n      <th>7</th>\n      <td>CH-823 \"Che Guevara\"</td>\n      <td>Spät</td>\n      <td>320</td>\n    </tr>\n    <tr>\n      <th>8</th>\n      <td>CH-823 \"Che Guevara\"</td>\n      <td>Nacht</td>\n      <td>280</td>\n    </tr>\n    <tr>\n      <th>9</th>\n      <td>C-727 \"Clara\"</td>\n      <td>Früh</td>\n      <td>150</td>\n    </tr>\n    <tr>\n      <th>10</th>\n      <td>C-727 \"Clara\"</td>\n      <td>Spät</td>\n      <td>170</td>\n    </tr>\n    <tr>\n      <th>11</th>\n      <td>C-727 \"Clara\"</td>\n      <td>Nacht</td>\n      <td>130</td>\n    </tr>\n    <tr>\n      <th>12</th>\n      <td>OT-14.2 \"Otto\"</td>\n      <td>Früh</td>\n      <td>80</td>\n    </tr>\n    <tr>\n      <th>13</th>\n      <td>OT-14.2 \"Otto\"</td>\n      <td>Spät</td>\n      <td>120</td>\n    </tr>\n    <tr>\n      <th>14</th>\n      <td>OT-14.2 \"Otto\"</td>\n      <td>Nacht</td>\n      <td>90</td>\n    </tr>\n  </tbody>\n</table>\n</div>"
     },
     "execution_count": 16,
     "metadata": {},
     "output_type": "execute_result"
    }
   ],
   "source": [
    "df = pd.DataFrame({\n",
    "    'Maschine': ['R-275 \"Ernie\"', 'R-275 \"Ernie\"', 'R-275 \"Ernie\"', 'PO-777 \"Polina\"', 'PO-777 \"Polina\"', 'PO-777 \"Polina\"', 'CH-823 \"Che Guevara\"', 'CH-823 \"Che Guevara\"', 'CH-823 \"Che Guevara\"', 'C-727 \"Clara\"', 'C-727 \"Clara\"', 'C-727 \"Clara\"', 'OT-14.2 \"Otto\"', 'OT-14.2 \"Otto\"', 'OT-14.2 \"Otto\"'],\n",
    "    'Schicht': ['Früh', 'Spät', 'Nacht', 'Früh', 'Spät', 'Nacht', 'Früh', 'Spät', 'Nacht', 'Früh', 'Spät', 'Nacht', 'Früh', 'Spät', 'Nacht'],\n",
    "    'Betriebszeit': [100, 150, 50, 200, 180, 220, 300, 320, 280, 150, 170, 130, 80, 120, 90]\n",
    "})\n",
    "\n",
    "df"
   ],
   "metadata": {
    "collapsed": false
   }
  },
  {
   "cell_type": "code",
   "execution_count": 14,
   "outputs": [
    {
     "data": {
      "text/plain": "                     Maschine  Betriebszeit\nSchicht                                    \nFrüh            R-275 \"Ernie\"           100\nSpät            R-275 \"Ernie\"           150\nNacht           R-275 \"Ernie\"            50\nFrüh          PO-777 \"Polina\"           200\nSpät          PO-777 \"Polina\"           180\nNacht         PO-777 \"Polina\"           220\nFrüh     CH-823 \"Che Guevara\"           300\nSpät     CH-823 \"Che Guevara\"           320\nNacht    CH-823 \"Che Guevara\"           280\nFrüh            C-727 \"Clara\"           150\nSpät            C-727 \"Clara\"           170\nNacht           C-727 \"Clara\"           130\nFrüh           OT-14.2 \"Otto\"            80\nSpät           OT-14.2 \"Otto\"           120\nNacht          OT-14.2 \"Otto\"            90",
      "text/html": "<div>\n<style scoped>\n    .dataframe tbody tr th:only-of-type {\n        vertical-align: middle;\n    }\n\n    .dataframe tbody tr th {\n        vertical-align: top;\n    }\n\n    .dataframe thead th {\n        text-align: right;\n    }\n</style>\n<table border=\"1\" class=\"dataframe\">\n  <thead>\n    <tr style=\"text-align: right;\">\n      <th></th>\n      <th>Maschine</th>\n      <th>Betriebszeit</th>\n    </tr>\n    <tr>\n      <th>Schicht</th>\n      <th></th>\n      <th></th>\n    </tr>\n  </thead>\n  <tbody>\n    <tr>\n      <th>Früh</th>\n      <td>R-275 \"Ernie\"</td>\n      <td>100</td>\n    </tr>\n    <tr>\n      <th>Spät</th>\n      <td>R-275 \"Ernie\"</td>\n      <td>150</td>\n    </tr>\n    <tr>\n      <th>Nacht</th>\n      <td>R-275 \"Ernie\"</td>\n      <td>50</td>\n    </tr>\n    <tr>\n      <th>Früh</th>\n      <td>PO-777 \"Polina\"</td>\n      <td>200</td>\n    </tr>\n    <tr>\n      <th>Spät</th>\n      <td>PO-777 \"Polina\"</td>\n      <td>180</td>\n    </tr>\n    <tr>\n      <th>Nacht</th>\n      <td>PO-777 \"Polina\"</td>\n      <td>220</td>\n    </tr>\n    <tr>\n      <th>Früh</th>\n      <td>CH-823 \"Che Guevara\"</td>\n      <td>300</td>\n    </tr>\n    <tr>\n      <th>Spät</th>\n      <td>CH-823 \"Che Guevara\"</td>\n      <td>320</td>\n    </tr>\n    <tr>\n      <th>Nacht</th>\n      <td>CH-823 \"Che Guevara\"</td>\n      <td>280</td>\n    </tr>\n    <tr>\n      <th>Früh</th>\n      <td>C-727 \"Clara\"</td>\n      <td>150</td>\n    </tr>\n    <tr>\n      <th>Spät</th>\n      <td>C-727 \"Clara\"</td>\n      <td>170</td>\n    </tr>\n    <tr>\n      <th>Nacht</th>\n      <td>C-727 \"Clara\"</td>\n      <td>130</td>\n    </tr>\n    <tr>\n      <th>Früh</th>\n      <td>OT-14.2 \"Otto\"</td>\n      <td>80</td>\n    </tr>\n    <tr>\n      <th>Spät</th>\n      <td>OT-14.2 \"Otto\"</td>\n      <td>120</td>\n    </tr>\n    <tr>\n      <th>Nacht</th>\n      <td>OT-14.2 \"Otto\"</td>\n      <td>90</td>\n    </tr>\n  </tbody>\n</table>\n</div>"
     },
     "execution_count": 14,
     "metadata": {},
     "output_type": "execute_result"
    }
   ],
   "source": [
    "df"
   ],
   "metadata": {
    "collapsed": false
   }
  },
  {
   "cell_type": "code",
   "execution_count": 11,
   "outputs": [
    {
     "data": {
      "text/plain": "                     Betriebszeit           \nSchicht                      Früh Nacht Spät\nMaschine                                    \nC-727 \"Clara\"                 150   130  170\nCH-823 \"Che Guevara\"          300   280  320\nOT-14.2 \"Otto\"                 80    90  120\nPO-777 \"Polina\"               200   220  180\nR-275 \"Ernie\"                 100    50  150",
      "text/html": "<div>\n<style scoped>\n    .dataframe tbody tr th:only-of-type {\n        vertical-align: middle;\n    }\n\n    .dataframe tbody tr th {\n        vertical-align: top;\n    }\n\n    .dataframe thead tr th {\n        text-align: left;\n    }\n\n    .dataframe thead tr:last-of-type th {\n        text-align: right;\n    }\n</style>\n<table border=\"1\" class=\"dataframe\">\n  <thead>\n    <tr>\n      <th></th>\n      <th colspan=\"3\" halign=\"left\">Betriebszeit</th>\n    </tr>\n    <tr>\n      <th>Schicht</th>\n      <th>Früh</th>\n      <th>Nacht</th>\n      <th>Spät</th>\n    </tr>\n    <tr>\n      <th>Maschine</th>\n      <th></th>\n      <th></th>\n      <th></th>\n    </tr>\n  </thead>\n  <tbody>\n    <tr>\n      <th>C-727 \"Clara\"</th>\n      <td>150</td>\n      <td>130</td>\n      <td>170</td>\n    </tr>\n    <tr>\n      <th>CH-823 \"Che Guevara\"</th>\n      <td>300</td>\n      <td>280</td>\n      <td>320</td>\n    </tr>\n    <tr>\n      <th>OT-14.2 \"Otto\"</th>\n      <td>80</td>\n      <td>90</td>\n      <td>120</td>\n    </tr>\n    <tr>\n      <th>PO-777 \"Polina\"</th>\n      <td>200</td>\n      <td>220</td>\n      <td>180</td>\n    </tr>\n    <tr>\n      <th>R-275 \"Ernie\"</th>\n      <td>100</td>\n      <td>50</td>\n      <td>150</td>\n    </tr>\n  </tbody>\n</table>\n</div>"
     },
     "execution_count": 11,
     "metadata": {},
     "output_type": "execute_result"
    }
   ],
   "source": [
    "df = df.set_index([\"Maschine\", \"Schicht\"])\n",
    "df = df.unstack()\n",
    "# df = df.reset_index() möglich, aber nicht notwendig.\n",
    "df"
   ],
   "metadata": {
    "collapsed": false
   }
  }
 ],
 "metadata": {
  "kernelspec": {
   "display_name": "Python 3",
   "language": "python",
   "name": "python3"
  },
  "language_info": {
   "codemirror_mode": {
    "name": "ipython",
    "version": 2
   },
   "file_extension": ".py",
   "mimetype": "text/x-python",
   "name": "python",
   "nbconvert_exporter": "python",
   "pygments_lexer": "ipython2",
   "version": "2.7.6"
  }
 },
 "nbformat": 4,
 "nbformat_minor": 0
}
