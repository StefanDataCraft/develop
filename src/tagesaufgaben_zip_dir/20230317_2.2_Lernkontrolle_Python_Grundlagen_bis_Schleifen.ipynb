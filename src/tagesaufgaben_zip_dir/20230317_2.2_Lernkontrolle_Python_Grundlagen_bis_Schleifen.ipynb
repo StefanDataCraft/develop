{
 "cells": [
  {
   "cell_type": "markdown",
   "id": "f6bc5e1d",
   "metadata": {},
   "source": [
    "<br><br><center><h1 style=\"font-size:2em;color:green\">Lernkontrolle 17.03.2022</h1></center>\n",
    "<br>"
   ]
  },
  {
   "cell_type": "markdown",
   "id": "008d73a6",
   "metadata": {},
   "source": [
    "# Aufgabe 1 - Datentypen"
   ]
  },
  {
   "cell_type": "markdown",
   "id": "0e3517f6",
   "metadata": {},
   "source": [
    "1. Definiere mit deinen eigenen Worten die Begriffe Variable, Liste, Tupel, Dictionary, Set. (5 Punkte)"
   ]
  },
  {
   "cell_type": "code",
   "execution_count": null,
   "id": "9c88ec0b",
   "metadata": {},
   "outputs": [],
   "source": [
    "# Variable:\n",
    "# Liste:\n",
    "# Tupel:\n",
    "# Dictionary:\n",
    "# Set:"
   ]
  },
  {
   "cell_type": "markdown",
   "id": "7e3ccbed",
   "metadata": {},
   "source": [
    "2. Nenne den wichtigsten Unterschied zwischen Listen und Tupel. (2 Punkte)"
   ]
  },
  {
   "cell_type": "code",
   "execution_count": null,
   "id": "74c703a8",
   "metadata": {},
   "outputs": [],
   "source": []
  },
  {
   "cell_type": "markdown",
   "id": "50dcadb8",
   "metadata": {},
   "source": [
    "3. Nenne die beiden Booleschen Werte und erkläre, wofür jeder davon steht. (2 Punkte)"
   ]
  },
  {
   "cell_type": "code",
   "execution_count": null,
   "id": "51a81f7b",
   "metadata": {},
   "outputs": [],
   "source": []
  },
  {
   "cell_type": "markdown",
   "id": "14111c14",
   "metadata": {},
   "source": [
    "4. Ändere den Datentyp der Variable x in einen String, der Variable y in eine ganze Zahl und den der Variable z in eine Dezimalzahl. (3 Punkte)"
   ]
  },
  {
   "cell_type": "code",
   "execution_count": null,
   "id": "fe2cc928",
   "metadata": {},
   "outputs": [],
   "source": [
    "x = 4.5\n",
    "y = 7.3\n",
    "z = 1\n"
   ]
  },
  {
   "cell_type": "markdown",
   "id": "8e3e3e4a",
   "metadata": {},
   "source": [
    "# Aufgabe 2 - Strings"
   ]
  },
  {
   "cell_type": "markdown",
   "id": "da96ba6b",
   "metadata": {},
   "source": [
    "1. Definiere zwei Variablen gruss und welt mit den Inhalten \"Hallo\" und \"Welt\". Lass dir anschließend beide Strings hintereinander ausgeben. Zwischen beiden Strings sollte ein Leerzeichen stehen. Lass in einem letzten Schritt die Länge des gesamten Texts ausgeben. (4 Punkte)"
   ]
  },
  {
   "cell_type": "code",
   "execution_count": null,
   "id": "672d4f8e",
   "metadata": {},
   "outputs": [],
   "source": []
  },
  {
   "cell_type": "markdown",
   "id": "b86c5b46",
   "metadata": {},
   "source": [
    "2. Lass dir die Länge der ersten deiner Variablen ausgeben. (1 Punkt)"
   ]
  },
  {
   "cell_type": "code",
   "execution_count": null,
   "id": "016dc5b3",
   "metadata": {},
   "outputs": [],
   "source": []
  },
  {
   "cell_type": "markdown",
   "id": "500efb87",
   "metadata": {},
   "source": [
    "3. Gib nur den zweiten Buchstaben deiner ersten Variable aus. (2 Punkte)"
   ]
  },
  {
   "cell_type": "code",
   "execution_count": null,
   "id": "9b02a131",
   "metadata": {},
   "outputs": [],
   "source": []
  },
  {
   "cell_type": "markdown",
   "id": "c7541ccf",
   "metadata": {},
   "source": [
    "4. Gib die letzten beiden Buchstaben deiner zweiten Variable aus. Verwende dazu eine Schreibweise, bei der die Länge der Variable egal ist. (2 Punkte)"
   ]
  },
  {
   "cell_type": "code",
   "execution_count": null,
   "id": "0e516957",
   "metadata": {},
   "outputs": [],
   "source": []
  },
  {
   "cell_type": "markdown",
   "id": "5cd7414a",
   "metadata": {},
   "source": [
    "# Aufgabe 3 - Listen"
   ]
  },
  {
   "cell_type": "markdown",
   "id": "237acf4a",
   "metadata": {},
   "source": [
    "1. Erstelle eine Liste mit fünf verschiedenen Tieren: Pinguin, Panda, Elefant, Giraffe, Zebra. Speichere sie in die Variabel tierliste und lasse dir diese ausgeben. (3 Punkte)"
   ]
  },
  {
   "cell_type": "code",
   "execution_count": null,
   "id": "bc85f5cb",
   "metadata": {},
   "outputs": [],
   "source": []
  },
  {
   "cell_type": "markdown",
   "id": "cdd8c8c8",
   "metadata": {},
   "source": [
    "2. Füge deiner Liste einen weiteren Eintrag Hyäne hinzu, ohne die Liste selbst neu zu definieren. Lass dir die aktualisierte Liste ausgeben. (2 Punkte)"
   ]
  },
  {
   "cell_type": "code",
   "execution_count": null,
   "id": "62c6872d",
   "metadata": {},
   "outputs": [],
   "source": []
  },
  {
   "cell_type": "markdown",
   "id": "a48974f2",
   "metadata": {},
   "source": [
    "3. Sortiere die Liste alphabetisch. (2 Punkte)"
   ]
  },
  {
   "cell_type": "code",
   "execution_count": null,
   "id": "d0ed8e6a",
   "metadata": {},
   "outputs": [],
   "source": []
  },
  {
   "cell_type": "markdown",
   "id": "a18dc13c",
   "metadata": {},
   "source": [
    "4. Drehe die Reihenfolge der Liste nun um. (2 Punkte)"
   ]
  },
  {
   "cell_type": "code",
   "execution_count": null,
   "id": "07982c81",
   "metadata": {},
   "outputs": [],
   "source": []
  },
  {
   "cell_type": "markdown",
   "id": "4e497139",
   "metadata": {},
   "source": [
    "5. Entferne Pinguin aus der Liste. Und lasse dir den Inhalt danach ausgeben. (2 Punkte)"
   ]
  },
  {
   "cell_type": "code",
   "execution_count": null,
   "id": "c01e6581",
   "metadata": {},
   "outputs": [],
   "source": []
  },
  {
   "cell_type": "markdown",
   "id": "fbda1ef0",
   "metadata": {},
   "source": [
    "# Aufgabe 4 - Tupel"
   ]
  },
  {
   "cell_type": "markdown",
   "id": "c348d2e7",
   "metadata": {},
   "source": [
    "1. Erstelle ein Tupel mit vier Städten. (2 Punkte)"
   ]
  },
  {
   "cell_type": "code",
   "execution_count": null,
   "id": "66e82af7",
   "metadata": {},
   "outputs": [],
   "source": []
  },
  {
   "cell_type": "markdown",
   "id": "79666e45",
   "metadata": {},
   "source": [
    "2. Lass dir die dritte Stadt ausgeben. (2 Punkte)"
   ]
  },
  {
   "cell_type": "code",
   "execution_count": null,
   "id": "88c05525",
   "metadata": {},
   "outputs": [],
   "source": []
  },
  {
   "cell_type": "markdown",
   "id": "c107ee4e",
   "metadata": {},
   "source": [
    "# Aufgabe 5 - Dictionaries"
   ]
  },
  {
   "cell_type": "markdown",
   "id": "8030b74f",
   "metadata": {},
   "source": [
    "1. Erstelle ein Dictionary, in welchem die deutschen Zahlen von eins bis vier in eine andere Sprache deiner Wahl übersetzt werden sollen. Die deutschen Zahlen sollen als Keys (Schlüssel) gegeben werden und die Zahlen der anderen Sprache als Value (Wert). (3 Punkte)"
   ]
  },
  {
   "cell_type": "code",
   "execution_count": null,
   "id": "3bc3e377",
   "metadata": {},
   "outputs": [],
   "source": []
  },
  {
   "cell_type": "markdown",
   "id": "6e091f20",
   "metadata": {},
   "source": [
    "2. Lass dir die keys deines Dictionary ausgeben. (2 Punkte)"
   ]
  },
  {
   "cell_type": "code",
   "execution_count": null,
   "id": "331c42df",
   "metadata": {},
   "outputs": [],
   "source": []
  },
  {
   "cell_type": "markdown",
   "id": "65364168",
   "metadata": {},
   "source": [
    "3. Lass dir den Wert der Zahl \"zwei\" ausgeben. (2 Punkte)"
   ]
  },
  {
   "cell_type": "code",
   "execution_count": null,
   "id": "c396063d",
   "metadata": {},
   "outputs": [],
   "source": []
  },
  {
   "cell_type": "markdown",
   "id": "d4fd73b3",
   "metadata": {},
   "source": [
    "# Aufgabe 6 - Sets"
   ]
  },
  {
   "cell_type": "markdown",
   "id": "e25a0143",
   "metadata": {},
   "source": [
    "1. Erstelle ein Set aus 4 Getränken. Eins davon sollte \"Wasser\" sein. (2 Punkte)"
   ]
  },
  {
   "cell_type": "code",
   "execution_count": null,
   "id": "88b5caf9",
   "metadata": {},
   "outputs": [],
   "source": []
  },
  {
   "cell_type": "markdown",
   "id": "d9070ee3",
   "metadata": {},
   "source": [
    "2. Überprüfe, ob in deinem Set \"Wasser\" enthalten ist. Die Ausgabe sollte ein Boolescher Wert sein. Schreibe in einem Kommentar, was dieser Wert bedeutet. (3 Punkte)"
   ]
  },
  {
   "cell_type": "code",
   "execution_count": null,
   "id": "5e2b4b43",
   "metadata": {},
   "outputs": [],
   "source": []
  },
  {
   "cell_type": "markdown",
   "id": "c492e4d6",
   "metadata": {},
   "source": [
    "3. Erstelle ein weiteres Set aus den vier Elementen: Wasser, Feuer, Luft, Erde. Lass dir anschließend die übereinstimmenden Elemente zwischen deinem ersten und zweiten Set ausgeben. Benutze eine geeignete Mengenoperation. (2 Punkte)"
   ]
  },
  {
   "cell_type": "code",
   "execution_count": null,
   "id": "68ff0f6c",
   "metadata": {},
   "outputs": [],
   "source": []
  },
  {
   "cell_type": "markdown",
   "id": "480f103f",
   "metadata": {},
   "source": [
    "4. Lass dir nur die Elemente aus deinem ersten Set ausgeben, die NICHT im zweiten Set vorhanden sind. (2 Punkte)"
   ]
  },
  {
   "cell_type": "code",
   "execution_count": null,
   "outputs": [],
   "source": [],
   "metadata": {
    "collapsed": false
   }
  },
  {
   "cell_type": "markdown",
   "source": [
    "# Aufgabe 7 - Bedingungen"
   ],
   "metadata": {
    "collapsed": false
   }
  },
  {
   "cell_type": "markdown",
   "source": [
    "1. Prüfe einen String mit Bedingungen. Wenn der String \"Hallo\" lautet, dann soll dein Output lauten: \"Sie wurden gegrüßt!\". In allen anderen Fällen soll der Output lauten: \"Andere Eingabe\". Teste deinen Code mit verschiedenen Strings. (4 Punkte)"
   ],
   "metadata": {
    "collapsed": false
   }
  },
  {
   "cell_type": "code",
   "execution_count": null,
   "outputs": [],
   "source": [],
   "metadata": {
    "collapsed": false
   }
  },
  {
   "cell_type": "markdown",
   "source": [
    "2. Du hast drei Einkommen vorliegen und möchtest sie Einkommensklassen zuordnen. Dabei gilt: Hohes Einkommen ist ab 60.000 Euro. Niedriges Einkommen liegt unter 20000. Alles dazwischen ist Mittleres Einkommen. Die Ausdrücke Hohes Einkommen/Mittleres Einkommen/Niedriges Einkommen sollen dabei als Output erscheinen. Formuliere Bedingungen und spiele deinen Code mit den drei vorgegebenen Einkommen durch. Kommentiere deinen Code. (5 Punkte)"
   ],
   "metadata": {
    "collapsed": false
   }
  },
  {
   "cell_type": "code",
   "execution_count": null,
   "outputs": [],
   "source": [
    "einkommen1 = 23000\n",
    "einkommen2 = 65000\n",
    "einkommen3 = 15000"
   ],
   "metadata": {
    "collapsed": false
   }
  },
  {
   "cell_type": "code",
   "execution_count": null,
   "outputs": [],
   "source": [],
   "metadata": {
    "collapsed": false
   }
  },
  {
   "cell_type": "markdown",
   "source": [
    "# Aufgabe 8 - Schleifen und List Comprehension"
   ],
   "metadata": {
    "collapsed": false
   }
  },
  {
   "cell_type": "markdown",
   "source": [
    "1. Du hast eine Liste mit Einkommen. Lass dir mit einer for-Schleife für jedes Einkommen nach dem Schema von Aufgabe 7 Punkt 2 das Einkommen ausgeben. Willst du Bonuspunkte? Dann lass dir das Ergebnis in folgender Form ausgeben: \"12000 - Niedriges Einkommen\" (die 12000 sind dabei nur ein Beispielwert!). Kommentiere auch hier deinen Code! (5 Punkte)"
   ],
   "metadata": {
    "collapsed": false
   }
  },
  {
   "cell_type": "code",
   "execution_count": null,
   "outputs": [],
   "source": [
    "einkommensliste = [12000, 150000, 67500, 25000, 38000, 45000, 9200, 32000, 20000]"
   ],
   "metadata": {
    "collapsed": false
   }
  },
  {
   "cell_type": "code",
   "execution_count": null,
   "outputs": [],
   "source": [],
   "metadata": {
    "collapsed": false
   }
  },
  {
   "cell_type": "markdown",
   "source": [
    "2. Du möchtest nun eine Liste aller hohen Einkommen haben. Erreiche dies mit einer List Comprehension und speichere das Ergebnis in die Variabel grossverdiener. Lass dir den Inhalt der Variabel ausgeben! (4 Punkte)"
   ],
   "metadata": {
    "collapsed": false
   },
   "outputs": [
    {
     "ename": "SyntaxError",
     "evalue": "invalid syntax (1434479991.py, line 1)",
     "output_type": "error",
     "traceback": [
      "\u001B[1;36m  Cell \u001B[1;32mIn[1], line 1\u001B[1;36m\u001B[0m\n\u001B[1;33m    2. Du möchtest nun eine Liste aller Geringverdiener haben. Erreiche dies mit einer List Comprehension und speichere das Ergebnis in die Variabel geringverdiener. Lass dir den Inhalt der Variabel ausgeben!\u001B[0m\n\u001B[1;37m       ^\u001B[0m\n\u001B[1;31mSyntaxError\u001B[0m\u001B[1;31m:\u001B[0m invalid syntax\n"
     ]
    }
   ],
   "execution_count": 1
  },
  {
   "cell_type": "code",
   "execution_count": null,
   "outputs": [],
   "source": [],
   "metadata": {
    "collapsed": false
   }
  },
  {
   "cell_type": "markdown",
   "source": [
    "3. Der Nutzer soll ein Passwort eingeben. Er wird dazu mit den Worten aufgefordert: \"Bitte geben Sie Ihr Passwort ein:\". Sein Passwort lautet: \"lernkontrolle\". Wenn er das Passwort richtig eingibt, soll die Passwort-Abfrage enden und die Nachricht erscheinen: \"Sie sind nun eingeloggt\". Schreibe zu deiner Lösung Kommentare, was die einzelnen Schritte machen! (6 Punkte)"
   ],
   "metadata": {
    "collapsed": false
   }
  },
  {
   "cell_type": "code",
   "execution_count": null,
   "outputs": [],
   "source": [],
   "metadata": {
    "collapsed": false
   }
  }
 ],
 "metadata": {
  "kernelspec": {
   "display_name": "Python 3 (ipykernel)",
   "language": "python",
   "name": "python3"
  },
  "language_info": {
   "codemirror_mode": {
    "name": "ipython",
    "version": 3
   },
   "file_extension": ".py",
   "mimetype": "text/x-python",
   "name": "python",
   "nbconvert_exporter": "python",
   "pygments_lexer": "ipython3",
   "version": "3.9.13"
  }
 },
 "nbformat": 4,
 "nbformat_minor": 5
}
