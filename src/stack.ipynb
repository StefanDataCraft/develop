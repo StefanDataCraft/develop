{
 "cells": [
  {
   "cell_type": "code",
   "execution_count": 8,
   "metadata": {
    "collapsed": true
   },
   "outputs": [
    {
     "name": "stdout",
     "output_type": "stream",
     "text": [
      "[1, 2, 3, 4, 5, 6, 7]\n",
      "7\n",
      "[1, 2, 3, 4, 5, 6]\n",
      "1\n",
      "[2, 3, 4, 5, 6]\n"
     ]
    }
   ],
   "source": [
    "# Stapel\n",
    "liste = [1,2,3,4,5,6,7]\n",
    "#liste.append(5)\n",
    "print(liste)\n",
    "#print(liste[-1])\n",
    "print(liste.pop())\n",
    "print(liste)\n",
    "# dequeue\n",
    "print(liste.pop(0))\n",
    "print(liste)"
   ]
  },
  {
   "cell_type": "code",
   "execution_count": 12,
   "outputs": [],
   "source": [
    "# Schlange\n",
    "set = (1,2,3,{\"a\": \"hallo World\"})"
   ],
   "metadata": {
    "collapsed": false
   }
  },
  {
   "cell_type": "code",
   "execution_count": 13,
   "outputs": [
    {
     "name": "stdout",
     "output_type": "stream",
     "text": [
      "{'a': 'hallo World'}\n"
     ]
    }
   ],
   "source": [
    "print(set[3])"
   ],
   "metadata": {
    "collapsed": false
   }
  },
  {
   "cell_type": "code",
   "execution_count": 17,
   "outputs": [
    {
     "name": "stdout",
     "output_type": "stream",
     "text": [
      "(1, 2, 3, {'a': {'World hallo'}})\n",
      "{'a': {'World hallo'}}\n"
     ]
    }
   ],
   "source": [
    "set[3][\"a\"] = {\"World hallo\"}\n",
    "print(set)\n",
    "print(set[3])"
   ],
   "metadata": {
    "collapsed": false
   }
  },
  {
   "cell_type": "code",
   "execution_count": 20,
   "outputs": [
    {
     "name": "stdout",
     "output_type": "stream",
     "text": [
      "{'Brigitte': 20, 'Carolina': 25, 'Viktor': 30}\n"
     ]
    }
   ],
   "source": [
    "name = [\"Brigitte\", \"Carolina\", \"Viktor\"]\n",
    "alter = [20,25,30]\n",
    "dict = {name[i]:alter[i] for i in range(len(name))}\n",
    "print(dict)"
   ],
   "metadata": {
    "collapsed": false
   }
  },
  {
   "cell_type": "code",
   "execution_count": 22,
   "outputs": [
    {
     "name": "stdout",
     "output_type": "stream",
     "text": [
      "[0, 1, 4, 9, 16]\n"
     ]
    }
   ],
   "source": [
    "# Liste der ersten 5 quadratzahlen\n",
    "quadratzahlen = [i*i for i in range(5)]\n",
    "print(quadratzahlen)"
   ],
   "metadata": {
    "collapsed": false
   }
  },
  {
   "cell_type": "code",
   "execution_count": 26,
   "outputs": [
    {
     "name": "stdout",
     "output_type": "stream",
     "text": [
      "[1, 3, 5]\n"
     ]
    }
   ],
   "source": [
    "zahlen = [i for i in range(1,6,2)]\n",
    "print(zahlen)"
   ],
   "metadata": {
    "collapsed": false
   }
  },
  {
   "cell_type": "code",
   "execution_count": 33,
   "outputs": [
    {
     "name": "stdout",
     "output_type": "stream",
     "text": [
      "['BKonkat', 'CKonkat', 'VKonkat', 'KKonkat']\n"
     ]
    }
   ],
   "source": [
    "namen = [\"Brigitte\", \"Carolina\", \"Viktor\",\"Klaus\"]\n",
    "meine_comprehension = [name[0]+\"Konkat\" for name in namen]\n",
    "print(meine_comprehension)\n"
   ],
   "metadata": {
    "collapsed": false
   }
  },
  {
   "cell_type": "code",
   "execution_count": 35,
   "outputs": [
    {
     "name": "stdout",
     "output_type": "stream",
     "text": [
      "['e', 'a', 'r', 's']\n"
     ]
    }
   ],
   "source": [
    "endbuchstaben = [name[-1] for name in namen]\n",
    "print(endbuchstaben)"
   ],
   "metadata": {
    "collapsed": false
   }
  },
  {
   "cell_type": "code",
   "execution_count": 36,
   "outputs": [
    {
     "name": "stdout",
     "output_type": "stream",
     "text": [
      "{'Brigitte': 20, 'Carolina': 25, 'Viktor': 30}\n"
     ]
    }
   ],
   "source": [
    "name = [\"Brigitte\", \"Carolina\", \"Viktor\"]\n",
    "alter = [20,25,30]\n",
    "dict = {name[i]:alter[i] for i in range(len(name))}\n",
    "print(dict)\n",
    "endbuchstaben = [name[-1] for name in namen]"
   ],
   "metadata": {
    "collapsed": false
   }
  },
  {
   "cell_type": "code",
   "execution_count": 37,
   "outputs": [
    {
     "name": "stdout",
     "output_type": "stream",
     "text": [
      "{'Brigitte': {'alter': 20, 'geschlecht': 'w'}, 'Carolina': {'alter': 25, 'geschlecht': 'w'}, 'Viktor': {'alter': 30, 'geschlecht': 'm'}}\n"
     ]
    }
   ],
   "source": [
    "name = [\"Brigitte\", \"Carolina\", \"Viktor\"]\n",
    "alter = [20,25,30]\n",
    "geschlecht = [\"w\", \"w\", \"m\"]\n",
    "dict = {name[i]:{\"alter\": alter[i],\"geschlecht\": geschlecht[i]} for i in range(len(name))}\n",
    "print(dict)"
   ],
   "metadata": {
    "collapsed": false
   }
  },
  {
   "cell_type": "code",
   "execution_count": 53,
   "outputs": [
    {
     "name": "stdout",
     "output_type": "stream",
     "text": [
      "[1, 6, 11, 16, 21]\n"
     ]
    }
   ],
   "source": [
    "liste = [1,2,3,4]\n",
    "liste2 = [i for i in range(1,25,5)]\n",
    "print(liste2)\n"
   ],
   "metadata": {
    "collapsed": false
   }
  },
  {
   "cell_type": "code",
   "execution_count": null,
   "outputs": [],
   "source": [],
   "metadata": {
    "collapsed": false
   }
  }
 ],
 "metadata": {
  "kernelspec": {
   "display_name": "Python 3",
   "language": "python",
   "name": "python3"
  },
  "language_info": {
   "codemirror_mode": {
    "name": "ipython",
    "version": 2
   },
   "file_extension": ".py",
   "mimetype": "text/x-python",
   "name": "python",
   "nbconvert_exporter": "python",
   "pygments_lexer": "ipython2",
   "version": "2.7.6"
  }
 },
 "nbformat": 4,
 "nbformat_minor": 0
}
