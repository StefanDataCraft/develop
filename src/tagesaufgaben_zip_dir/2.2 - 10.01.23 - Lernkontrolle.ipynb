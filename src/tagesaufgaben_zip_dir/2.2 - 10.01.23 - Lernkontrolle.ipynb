{
 "cells": [
  {
   "cell_type": "markdown",
   "id": "53641508",
   "metadata": {},
   "source": [
    "<br><br><center><h1 style=\"font-size:2em;color:green\">Lernkontrolle 10.01.2023</h1></center>\n",
    "<br>\n",
    "<center>Die möglichen Punkte stehen bei der jeweiligen Aufgabe dabei</center>"
   ]
  },
  {
   "cell_type": "markdown",
   "id": "e4111baf",
   "metadata": {},
   "source": [
    "# Aufgabe 1"
   ]
  },
  {
   "cell_type": "markdown",
   "id": "1ab5ff66",
   "metadata": {},
   "source": [
    "<div  class=\"alert alert-block alert-info\">\n",
    "1. Du hast einen Musikladen. Schreibe eine pandas Series mit fünf Instrumenten und der Stückzahl, die du davon vorrätig hast. 6 Pkt\n",
    "\n",
    "    Output:\n",
    "    Klaviere       12\n",
    "    Gitarren       32\n",
    "    Harfen          1\n",
    "    Schlagzeuge    32\n",
    "    Triangel        9\n",
    "    dtype: int64\n",
    "</div>"
   ]
  },
  {
   "cell_type": "code",
   "execution_count": null,
   "id": "b90ea520",
   "metadata": {},
   "outputs": [],
   "source": []
  },
  {
   "cell_type": "markdown",
   "id": "fb219549",
   "metadata": {},
   "source": [
    "<div  class=\"alert alert-block alert-info\">\n",
    "2. Gib der Series aus Aufgabe 1 einen Namen. 4 Pkt\n",
    "\n",
    "    Output:\n",
    "    Klaviere       12\n",
    "    Gitarren       32\n",
    "    Harfen          1\n",
    "    Schlagzeuge    32\n",
    "    Triangel        9\n",
    "    Name: Instrumente, dtype: int64\n",
    "</div>"
   ]
  },
  {
   "cell_type": "code",
   "execution_count": null,
   "id": "a3662a36",
   "metadata": {},
   "outputs": [],
   "source": []
  },
  {
   "cell_type": "markdown",
   "id": "afd0c441",
   "metadata": {},
   "source": [
    "<div  class=\"alert alert-block alert-info\">\n",
    "3. Du kaufst einen kleinen Musikladen auf und nimmst dessen Inventar in deinen Lagerbestand auf. Erstelle dazu eine zweite pandas Series mit vier Instrumenten bei denen mindestens ein Instrument identisch zur vorherigen Series ist und mindestens ein Instrument nicht in der vorherigen Series vorkam. Der Name den du in Aufgabe 2 gegeben hast, soll wieder angezeigt werden. Lass dir deinen neuen Lagerbestand anzeigen. 8 Pkt\n",
    "\n",
    "    Output:\n",
    "    Bass            1.0\n",
    "    Gitarren       39.0\n",
    "    Harfen          1.0\n",
    "    Klaviere       17.0\n",
    "    Schlagzeuge    35.0\n",
    "    Triangel        9.0\n",
    "    Name: Instrumente, dtype: float64\n",
    "</div>"
   ]
  },
  {
   "cell_type": "code",
   "execution_count": null,
   "id": "420e0af7",
   "metadata": {},
   "outputs": [],
   "source": []
  },
  {
   "cell_type": "markdown",
   "id": "52494e50",
   "metadata": {},
   "source": [
    "<div  class=\"alert alert-block alert-info\">\n",
    "4. Du hast dich umorientiert und bist jetzt Autohändler. Erstelle einen DataFrame mit fünf Autos. Folgende Informationen sollen für jedes Auto enthalten sein:\n",
    "\n",
    "   1. Marke\n",
    "   2. Modell\n",
    "   3. Farbe\n",
    "   4. PS\n",
    "\n",
    "Die Informationen dazu können frei erfunden sein. Lass dir den DataFrame anschließend ausgeben. 6 Pkt\n",
    "\n",
    "    Output:\n",
    "       Marke     Modell    Farbe   PS\n",
    "    0    BMW  2er Coupé  Schwarz  116\n",
    "    1   Audi         A1      Rot   95\n",
    "    2   Ford    Mustang     Grün  449\n",
    "    3     VW     Golf 6     Blau   80\n",
    "    4  Mazda       RX-8   Silber  231\n",
    "</div>"
   ]
  },
  {
   "cell_type": "code",
   "execution_count": null,
   "id": "4da39d2c",
   "metadata": {},
   "outputs": [],
   "source": []
  },
  {
   "cell_type": "markdown",
   "id": "a797f791",
   "metadata": {},
   "source": [
    "<div  class=\"alert alert-block alert-info\">\n",
    "5. Ändere den Index des DataFrames aus der vorherigen Aufgabe auf A1, A2, A3, A4, A5 ohne den DataFrame neuzudefinieren.  4 Pkt\n",
    "\n",
    "    Output:\n",
    "        Marke     Modell    Farbe   PS\n",
    "    A1    BMW  2er Coupé  Schwarz  116\n",
    "    A2   Audi         A1      Rot   95\n",
    "    A3   Ford    Mustang     Grün  449\n",
    "    A4     VW     Golf 6     Blau   80\n",
    "    A5  Mazda       RX-8   Silber  231\n",
    "</div>"
   ]
  },
  {
   "cell_type": "code",
   "execution_count": null,
   "id": "16b8c83a",
   "metadata": {},
   "outputs": [],
   "source": []
  },
  {
   "cell_type": "markdown",
   "id": "ec4c06a7",
   "metadata": {},
   "source": [
    "<div  class=\"alert alert-block alert-info\">\n",
    "6. Lass dir alle Spalten- und Zeilennamen des Autodataframes ausgeben. Verwende nur eine einzige Zeile Code. 4 Pkt\n",
    "\n",
    "    Output:\n",
    "    [Index(['A1', 'A2', 'A3', 'A4', 'A5'], dtype='object'),\n",
    "     Index(['Marke', 'Modell', 'Farbe', 'PS'], dtype='object')]\n",
    "\n",
    "</div>"
   ]
  },
  {
   "cell_type": "code",
   "execution_count": null,
   "id": "10054b28",
   "metadata": {},
   "outputs": [],
   "source": []
  },
  {
   "cell_type": "markdown",
   "id": "843bbb32",
   "metadata": {},
   "source": [
    "<div  class=\"alert alert-block alert-info\">\n",
    "7. Lass dir nur die beiden Spalten Modell und Marke des Autodataframes ausgeben. 6 Pkt\n",
    "\n",
    "    Output:\n",
    "           Modell  Marke\n",
    "    A1  2er Coupé    BMW\n",
    "    A2         A1   Audi\n",
    "    A3    Mustang   Ford\n",
    "    A4     Golf 6     VW\n",
    "    A5       RX-8  Mazda\n",
    "</div>"
   ]
  },
  {
   "cell_type": "code",
   "execution_count": null,
   "id": "134f25ac",
   "metadata": {},
   "outputs": [],
   "source": []
  },
  {
   "cell_type": "markdown",
   "id": "78c015bc",
   "metadata": {},
   "source": [
    "<div  class=\"alert alert-block alert-info\">\n",
    "8. Lass dir nur die Autos ausgeben, die eine PS Zahl von mehr als 200 haben. 6 Pkt\n",
    "\n",
    "    Output:\n",
    "        Marke   Modell   Farbe   PS\n",
    "    A3   Ford  Mustang    Grün  449\n",
    "    A5  Mazda     RX-8  Silber  231\n",
    "</div>"
   ]
  },
  {
   "cell_type": "code",
   "execution_count": null,
   "id": "18290192",
   "metadata": {},
   "outputs": [],
   "source": []
  },
  {
   "cell_type": "markdown",
   "id": "ccac0f9c",
   "metadata": {},
   "source": [
    "<div  class=\"alert alert-block alert-info\">\n",
    "9. Sortiere die Autos nun nach der PS Zahl beginnend mit der größten. Überschreibe den DataFrame durch die neue Sortierung. 6 Pkt\n",
    "\n",
    "    Output:\n",
    "        Marke     Modell    Farbe   PS\n",
    "    A3   Ford    Mustang     Grün  449\n",
    "    A5  Mazda       RX-8   Silber  231\n",
    "    A1    BMW  2er Coupé  Schwarz  116\n",
    "    A2   Audi         A1      Rot   95\n",
    "    A4     VW     Golf 6     Blau   80\n",
    "</div>"
   ]
  },
  {
   "cell_type": "code",
   "execution_count": null,
   "id": "0dbae05c",
   "metadata": {},
   "outputs": [],
   "source": []
  },
  {
   "cell_type": "markdown",
   "id": "d46e6af3",
   "metadata": {},
   "source": [
    "<div  class=\"alert alert-block alert-info\">\n",
    "10. Lade den Datensatz \"iris\" aus dem seaborn package und lass dir anschließend die ersten sieben Zeilen davon anzeigen. Alternativ kannst du auch die bereitgestellte iris.csv laden. 6 Pkt\n",
    "\n",
    "    Output:\n",
    "       sepal_length  sepal_width  petal_length  petal_width species\n",
    "    0           5.1          3.5           1.4          0.2  setosa\n",
    "    1           4.9          3.0           1.4          0.2  setosa\n",
    "    2           4.7          3.2           1.3          0.2  setosa\n",
    "    3           4.6          3.1           1.5          0.2  setosa\n",
    "    4           5.0          3.6           1.4          0.2  setosa\n",
    "    5           5.4          3.9           1.7          0.4  setosa\n",
    "    6           4.6          3.4           1.4          0.3  setosa\n",
    "</div>"
   ]
  },
  {
   "cell_type": "code",
   "execution_count": null,
   "id": "8513af23",
   "metadata": {},
   "outputs": [],
   "source": []
  },
  {
   "cell_type": "markdown",
   "id": "8549b6a5",
   "metadata": {},
   "source": [
    "<div  class=\"alert alert-block alert-info\">\n",
    "11. Lass dir den Durschnitt der \"sepal_length\" aus dem Datensatz iris ausgeben. 4 Pkt\n",
    "\n",
    "    Output:\n",
    "    5.843333333333335\n",
    "</div>"
   ]
  },
  {
   "cell_type": "code",
   "execution_count": null,
   "id": "5f31580b",
   "metadata": {},
   "outputs": [],
   "source": []
  },
  {
   "cell_type": "markdown",
   "id": "1d717012",
   "metadata": {},
   "source": [
    "<div  class=\"alert alert-block alert-info\">\n",
    "12. Gruppiere den Datensatz iris anhand der Spezies und lass dir die Maximalwerte einzelnen Spezies ausgeben. 6 Pkt\n",
    "\n",
    "    Output:\n",
    "                sepal_length  sepal_width  petal_length  petal_width\n",
    "    species\n",
    "    setosa               5.8          4.4           1.9          0.6\n",
    "    versicolor           7.0          3.4           5.1          1.8\n",
    "    virginica            7.9          3.8           6.9          2.5\n",
    "</div>"
   ]
  },
  {
   "cell_type": "code",
   "execution_count": null,
   "id": "d65f0f59",
   "metadata": {},
   "outputs": [],
   "source": []
  },
  {
   "cell_type": "markdown",
   "id": "c7e6c544",
   "metadata": {},
   "source": [
    "<div  class=\"alert alert-block alert-info\">\n",
    "13. Füge eine weitere Spalte an den Datensatz iris an, in der du für jede Zeile das Verhältnis zwischen der sepal_length und sepal_width einträgst. Das Verhältnis zwischen diesen beiden Werten erhälst du, indem du die sepal_length durch die sepal_width teilst. 8 Pkt\n",
    "\n",
    "    Output:\n",
    "         sepal_length  sepal_width  petal_length  petal_width    species  verhältnis_sepal_length-width\n",
    "    0             5.1          3.5           1.4          0.2     setosa                       1.457143\n",
    "    1             4.9          3.0           1.4          0.2     setosa                       1.633333\n",
    "    2             4.7          3.2           1.3          0.2     setosa                       1.468750\n",
    "    3             4.6          3.1           1.5          0.2     setosa                       1.483871\n",
    "    4             5.0          3.6           1.4          0.2     setosa                       1.388889\n",
    "    ..            ...          ...           ...          ...        ...                            ...\n",
    "    145           6.7          3.0           5.2          2.3  virginica                       2.233333\n",
    "    146           6.3          2.5           5.0          1.9  virginica                       2.520000\n",
    "    147           6.5          3.0           5.2          2.0  virginica                       2.166667\n",
    "    148           6.2          3.4           5.4          2.3  virginica                       1.823529\n",
    "    149           5.9          3.0           5.1          1.8  virginica                       1.966667\n",
    "</div>"
   ]
  },
  {
   "cell_type": "code",
   "execution_count": null,
   "id": "18332ddf",
   "metadata": {},
   "outputs": [],
   "source": []
  },
  {
   "cell_type": "markdown",
   "id": "df5abc5f",
   "metadata": {},
   "source": [
    "<div  class=\"alert alert-block alert-info\">\n",
    "14. Optional (Keine Bonuspunkte). Werte den Iris Datensatz noch weiter aus. Löse dazu folgende Aufgaben:\n",
    "\n",
    "   1. Um was handelt es sich überhaupt bei den Daten? Erkläre was die einzelnen Spalten überhaupt darstellen.\n",
    "   2. Berechne den Durchschnitt der einzelnen Spalten in Abhängigkeit von der Spezies und berechne anhand dessen, die prozentualen Unterschiede zwischen den Spezies. (Zum Beispiel: Um wie viel Prozent ist die Durschnittliche petal_length der setosa größer als die der virginica).\n",
    "   3. Erstelle einen neuen DataFrame, in dem jeweils die zehn Individuen der drei Spezies mit der größten sepal_width enthalten sind.\n",
    "   4. Versuche noch mehr herauszufinden!\n",
    "</div>"
   ]
  },
  {
   "cell_type": "markdown",
   "id": "f19ec1b2",
   "metadata": {},
   "source": [
    "# Optional"
   ]
  },
  {
   "cell_type": "markdown",
   "id": "df0e9df2",
   "metadata": {},
   "source": [
    "Fasse die Lerninhalte von heute oder dieser Woche nochmal zusammen und notiere dir Fragen, die dir dabei kommen!"
   ]
  }
 ],
 "metadata": {
  "kernelspec": {
   "display_name": "Python 3 (ipykernel)",
   "language": "python",
   "name": "python3"
  },
  "language_info": {
   "codemirror_mode": {
    "name": "ipython",
    "version": 3
   },
   "file_extension": ".py",
   "mimetype": "text/x-python",
   "name": "python",
   "nbconvert_exporter": "python",
   "pygments_lexer": "ipython3",
   "version": "3.9.13"
  }
 },
 "nbformat": 4,
 "nbformat_minor": 5
}
