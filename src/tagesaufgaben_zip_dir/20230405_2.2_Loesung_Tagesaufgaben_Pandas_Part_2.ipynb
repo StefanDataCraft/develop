{
 "cells": [
  {
   "cell_type": "markdown",
   "source": [
    "<br><br><center><h1 style=\"font-size:2em;color:#2467C0\">Tagesaufgaben 05.04.2023</h1></center>\n",
    "<br>"
   ],
   "metadata": {
    "collapsed": false
   }
  },
  {
   "cell_type": "markdown",
   "source": [
    "<div  class=\"alert alert-block alert-info\">\n",
    "1. Du hast einen Dataframe mit Schülernoten zu verschiedenen Fächern vorliegen. Benutze pivot, um folgenden Output zu erhalten:\n",
    "\n",
    "    Output:\n",
    "    Fach       Deutsch  Englisch  Mathematik\n",
    "    Name\n",
    "    Alexander      1.3       1.7         1.0\n",
    "    Anna           1.0       1.7         1.3\n",
    "    Lisa           2.3       3.0         2.7\n",
    "    Max            1.7       2.3         2.0\n",
    "</div>"
   ],
   "metadata": {
    "collapsed": false
   }
  },
  {
   "cell_type": "code",
   "execution_count": 53,
   "outputs": [
    {
     "data": {
      "text/plain": "         Name        Fach  Note\n0         Max  Mathematik   2.0\n1         Max     Deutsch   1.7\n2         Max    Englisch   2.3\n3        Anna  Mathematik   1.3\n4        Anna     Deutsch   1.0\n5        Anna    Englisch   1.7\n6        Lisa  Mathematik   2.7\n7        Lisa     Deutsch   2.3\n8        Lisa    Englisch   3.0\n9   Alexander  Mathematik   1.0\n10  Alexander     Deutsch   1.3\n11  Alexander    Englisch   1.7",
      "text/html": "<div>\n<style scoped>\n    .dataframe tbody tr th:only-of-type {\n        vertical-align: middle;\n    }\n\n    .dataframe tbody tr th {\n        vertical-align: top;\n    }\n\n    .dataframe thead th {\n        text-align: right;\n    }\n</style>\n<table border=\"1\" class=\"dataframe\">\n  <thead>\n    <tr style=\"text-align: right;\">\n      <th></th>\n      <th>Name</th>\n      <th>Fach</th>\n      <th>Note</th>\n    </tr>\n  </thead>\n  <tbody>\n    <tr>\n      <th>0</th>\n      <td>Max</td>\n      <td>Mathematik</td>\n      <td>2.0</td>\n    </tr>\n    <tr>\n      <th>1</th>\n      <td>Max</td>\n      <td>Deutsch</td>\n      <td>1.7</td>\n    </tr>\n    <tr>\n      <th>2</th>\n      <td>Max</td>\n      <td>Englisch</td>\n      <td>2.3</td>\n    </tr>\n    <tr>\n      <th>3</th>\n      <td>Anna</td>\n      <td>Mathematik</td>\n      <td>1.3</td>\n    </tr>\n    <tr>\n      <th>4</th>\n      <td>Anna</td>\n      <td>Deutsch</td>\n      <td>1.0</td>\n    </tr>\n    <tr>\n      <th>5</th>\n      <td>Anna</td>\n      <td>Englisch</td>\n      <td>1.7</td>\n    </tr>\n    <tr>\n      <th>6</th>\n      <td>Lisa</td>\n      <td>Mathematik</td>\n      <td>2.7</td>\n    </tr>\n    <tr>\n      <th>7</th>\n      <td>Lisa</td>\n      <td>Deutsch</td>\n      <td>2.3</td>\n    </tr>\n    <tr>\n      <th>8</th>\n      <td>Lisa</td>\n      <td>Englisch</td>\n      <td>3.0</td>\n    </tr>\n    <tr>\n      <th>9</th>\n      <td>Alexander</td>\n      <td>Mathematik</td>\n      <td>1.0</td>\n    </tr>\n    <tr>\n      <th>10</th>\n      <td>Alexander</td>\n      <td>Deutsch</td>\n      <td>1.3</td>\n    </tr>\n    <tr>\n      <th>11</th>\n      <td>Alexander</td>\n      <td>Englisch</td>\n      <td>1.7</td>\n    </tr>\n  </tbody>\n</table>\n</div>"
     },
     "execution_count": 53,
     "metadata": {},
     "output_type": "execute_result"
    }
   ],
   "source": [
    "import pandas as pd\n",
    "\n",
    "noten_df = pd.DataFrame({\n",
    "    \"Name\": [\"Max\", \"Max\", \"Max\", \"Anna\", \"Anna\", \"Anna\", \"Lisa\", \"Lisa\", \"Lisa\", \"Alexander\", \"Alexander\", \"Alexander\"],\n",
    "    \"Fach\": [\"Mathematik\", \"Deutsch\", \"Englisch\",\"Mathematik\", \"Deutsch\", \"Englisch\",\"Mathematik\", \"Deutsch\", \"Englisch\",\"Mathematik\", \"Deutsch\", \"Englisch\"],\n",
    "    \"Note\": [2.0, 1.7, 2.3, 1.3, 1.0, 1.7, 2.7, 2.3, 3.0, 1.0, 1.3, 1.7]\n",
    "\n",
    "})\n",
    "noten_df"
   ],
   "metadata": {
    "collapsed": false
   }
  },
  {
   "cell_type": "code",
   "execution_count": 9,
   "outputs": [],
   "source": [
    "pivot_df = noten_df.pivot(index='Name', columns='Fach', values='Note')"
   ],
   "metadata": {
    "collapsed": false
   }
  },
  {
   "cell_type": "code",
   "execution_count": 11,
   "outputs": [
    {
     "name": "stdout",
     "output_type": "stream",
     "text": [
      "Fach       Deutsch  Englisch  Mathematik\n",
      "Name                                    \n",
      "Alexander      1.3       1.7         1.0\n",
      "Anna           1.0       1.7         1.3\n",
      "Lisa           2.3       3.0         2.7\n",
      "Max            1.7       2.3         2.0\n"
     ]
    }
   ],
   "source": [
    "print(pivot_df)"
   ],
   "metadata": {
    "collapsed": false
   }
  },
  {
   "cell_type": "markdown",
   "source": [
    "<div  class=\"alert alert-block alert-info\">\n",
    "2. Dir liegt ein Dataframe mit Tech-Produkten vor. Du möchtest diesen ins Long-Format überführen. Nutze dafür melt, um folgenden Output zu erhalten:\n",
    "\n",
    "    Output:\n",
    "              Land      Produkt  Verkaufszahl\n",
    "    0      Deutschland  MacBook          1200\n",
    "    1              USA  MacBook          2000\n",
    "    2            Japan  MacBook           800\n",
    "    3   Großbritannien  MacBook          1000\n",
    "    4      Deutschland   Lenovo          1500\n",
    "    5              USA   Lenovo          1800\n",
    "    6            Japan   Lenovo           900\n",
    "    7   Großbritannien   Lenovo          1200\n",
    "    8      Deutschland     Dell           800\n",
    "    9              USA     Dell          1200\n",
    "    10           Japan     Dell           700\n",
    "    11  Großbritannien     Dell           600\n",
    "\n",
    "</div>"
   ],
   "metadata": {
    "collapsed": false
   }
  },
  {
   "cell_type": "code",
   "execution_count": 10,
   "outputs": [
    {
     "data": {
      "text/plain": "             Land  MacBook  Lenovo  Dell\n0     Deutschland     1200    1500   800\n1             USA     2000    1800  1200\n2           Japan      800     900   700\n3  Großbritannien     1000    1200   600",
      "text/html": "<div>\n<style scoped>\n    .dataframe tbody tr th:only-of-type {\n        vertical-align: middle;\n    }\n\n    .dataframe tbody tr th {\n        vertical-align: top;\n    }\n\n    .dataframe thead th {\n        text-align: right;\n    }\n</style>\n<table border=\"1\" class=\"dataframe\">\n  <thead>\n    <tr style=\"text-align: right;\">\n      <th></th>\n      <th>Land</th>\n      <th>MacBook</th>\n      <th>Lenovo</th>\n      <th>Dell</th>\n    </tr>\n  </thead>\n  <tbody>\n    <tr>\n      <th>0</th>\n      <td>Deutschland</td>\n      <td>1200</td>\n      <td>1500</td>\n      <td>800</td>\n    </tr>\n    <tr>\n      <th>1</th>\n      <td>USA</td>\n      <td>2000</td>\n      <td>1800</td>\n      <td>1200</td>\n    </tr>\n    <tr>\n      <th>2</th>\n      <td>Japan</td>\n      <td>800</td>\n      <td>900</td>\n      <td>700</td>\n    </tr>\n    <tr>\n      <th>3</th>\n      <td>Großbritannien</td>\n      <td>1000</td>\n      <td>1200</td>\n      <td>600</td>\n    </tr>\n  </tbody>\n</table>\n</div>"
     },
     "execution_count": 10,
     "metadata": {},
     "output_type": "execute_result"
    }
   ],
   "source": [
    "tech = {\n",
    "    'Land': ['Deutschland', 'USA', 'Japan', 'Großbritannien'],\n",
    "    'MacBook': [1200, 2000, 800, 1000],\n",
    "    'Lenovo': [1500, 1800, 900, 1200],\n",
    "    'Dell': [800, 1200, 700, 600]\n",
    "}\n",
    "tech_df = pd.DataFrame(tech)\n",
    "tech_df"
   ],
   "metadata": {
    "collapsed": false
   }
  },
  {
   "cell_type": "code",
   "execution_count": 12,
   "outputs": [
    {
     "name": "stdout",
     "output_type": "stream",
     "text": [
      "              Land variable  value\n",
      "0      Deutschland  MacBook   1200\n",
      "1              USA  MacBook   2000\n",
      "2            Japan  MacBook    800\n",
      "3   Großbritannien  MacBook   1000\n",
      "4      Deutschland   Lenovo   1500\n",
      "5              USA   Lenovo   1800\n",
      "6            Japan   Lenovo    900\n",
      "7   Großbritannien   Lenovo   1200\n",
      "8      Deutschland     Dell    800\n",
      "9              USA     Dell   1200\n",
      "10           Japan     Dell    700\n",
      "11  Großbritannien     Dell    600\n"
     ]
    }
   ],
   "source": [
    "melt_df = pd.melt(tech_df, id_vars=['Land'])\n",
    "\n",
    "print(melt_df)"
   ],
   "metadata": {
    "collapsed": false
   }
  },
  {
   "cell_type": "markdown",
   "source": [
    "<div  class=\"alert alert-block alert-info\">\n",
    "3. Dir liegt ein Dataframe mit weiteren Tech-Produkten vor. Dein Output soll so aussehen:\n",
    "\n",
    "    Output:\n",
    "    Quartal                  Q1\n",
    "    Land        Produkt\n",
    "    Deutschland Adapter     700\n",
    "                Maus        800\n",
    "                Tastatur   1000\n",
    "                USB-Stick   900\n",
    "    Japan       Adapter     700\n",
    "                Maus        900\n",
    "                Tastatur    800\n",
    "                USB-Stick  1000\n",
    "    USA         Adapter    1000\n",
    "                Maus       1200\n",
    "                Tastatur   2000\n",
    "                USB-Stick  1500\n",
    "<div  class=\"alert alert-block alert-info\">\n",
    "Wie gehst du vor?\n",
    "\n",
    "</div>"
   ],
   "metadata": {
    "collapsed": false
   }
  },
  {
   "cell_type": "code",
   "execution_count": 52,
   "outputs": [
    {
     "name": "stdout",
     "output_type": "stream",
     "text": [
      "Quartal                  Q1\n",
      "Land        Produkt        \n",
      "Deutschland Adapter     700\n",
      "            Maus        800\n",
      "            Tastatur   1000\n",
      "            USB-Stick   900\n",
      "Japan       Adapter     700\n",
      "            Maus        900\n",
      "            Tastatur    800\n",
      "            USB-Stick  1000\n",
      "USA         Adapter    1000\n",
      "            Maus       1200\n",
      "            Tastatur   2000\n",
      "            USB-Stick  1500\n"
     ]
    }
   ],
   "source": [
    "# Erstellen eines DataFrames mit Beispiel-Daten\n",
    "data = {\n",
    "    'Land': ['USA', 'USA', 'USA', 'USA', 'Deutschland', 'Deutschland', 'Deutschland', 'Deutschland', 'Japan','Japan', 'Japan', 'Japan'],\n",
    "    'Produkt': ['USB-Stick', 'Tastatur', 'Maus', 'Adapter', 'USB-Stick', 'Tastatur', 'Maus', 'Adapter', 'USB-Stick', 'Tastatur', 'Maus', 'Adapter'],\n",
    "    'Quartal': ['Q1', 'Q1', 'Q1', 'Q1', 'Q1', 'Q1', 'Q1', 'Q1', 'Q1', 'Q1', 'Q1', 'Q1'],\n",
    "    'Verkaufszahl': [1500, 2000, 1200, 1000, 900, 1000, 800, 700, 1000, 800, 900, 700]\n",
    "}\n",
    "df = pd.DataFrame(data)\n",
    "\n",
    "# Umformatieren der Daten mit Pivot\n",
    "pivot_df = df.pivot(index=['Land', 'Produkt'], columns='Quartal', values='Verkaufszahl')\n",
    "\n",
    "# Ausgabe des umformatierten DataFrames\n",
    "print(pivot_df)"
   ],
   "metadata": {
    "collapsed": false
   }
  },
  {
   "cell_type": "code",
   "execution_count": 8,
   "outputs": [
    {
     "name": "stdout",
     "output_type": "stream",
     "text": [
      "           Land    Produkt        values  value\n",
      "0           USA  USB-Stick  Verkaufszahl   1500\n",
      "1           USA   Tastatur  Verkaufszahl   2000\n",
      "2           USA       Maus  Verkaufszahl   1200\n",
      "3           USA    Adapter  Verkaufszahl   1000\n",
      "4   Deutschland  USB-Stick  Verkaufszahl    900\n",
      "5   Deutschland   Tastatur  Verkaufszahl   1000\n",
      "6   Deutschland       Maus  Verkaufszahl    800\n",
      "7   Deutschland    Adapter  Verkaufszahl    700\n",
      "8         Japan  USB-Stick  Verkaufszahl   1000\n",
      "9         Japan   Tastatur  Verkaufszahl    800\n",
      "10        Japan       Maus  Verkaufszahl    900\n",
      "11        Japan    Adapter  Verkaufszahl    700\n"
     ]
    }
   ],
   "source": [
    "import pandas as pd\n",
    "# Erstellen eines DataFrames mit Beispiel-Daten\n",
    "data = {\n",
    "    'Land': ['USA', 'USA', 'USA', 'USA', 'Deutschland', 'Deutschland', 'Deutschland', 'Deutschland', 'Japan','Japan', 'Japan', 'Japan'],\n",
    "    'Produkt': ['USB-Stick', 'Tastatur', 'Maus', 'Adapter', 'USB-Stick', 'Tastatur', 'Maus', 'Adapter', 'USB-Stick', 'Tastatur', 'Maus', 'Adapter'],\n",
    "    'Quartal': ['Q1', 'Q1', 'Q1', 'Q1', 'Q1', 'Q1', 'Q1', 'Q1', 'Q1', 'Q1', 'Q1', 'Q1'],\n",
    "    'Verkaufszahl': [1500, 2000, 1200, 1000, 900, 1000, 800, 700, 1000, 800, 900, 700]\n",
    "}\n",
    "df = pd.DataFrame(data)\n",
    "\n",
    "# Umformatieren der Daten mit Pivot\n",
    "melt_df = df.melt(id_vars=[\"Land\", \"Produkt\"], value_vars=\"Verkaufszahl\", var_name=\"values\")\n",
    "# Ausgabe des umformatierten DataFrames\n",
    "print(melt_df)"
   ],
   "metadata": {
    "collapsed": false
   }
  },
  {
   "cell_type": "markdown",
   "source": [
    "<div  class=\"alert alert-block alert-info\">\n",
    "4. Lade den Titanic-Datensatz (titanic.csv) als titanic_df und lass dir a) die oberen sieben Zeilen ausgeben und b) die zehn unteren.\n",
    "</div>"
   ],
   "metadata": {
    "collapsed": false
   }
  },
  {
   "cell_type": "code",
   "execution_count": 13,
   "outputs": [],
   "source": [
    "titanic_df = pd.read_csv(\"files\\\\titanic.csv\")"
   ],
   "metadata": {
    "collapsed": false
   }
  },
  {
   "cell_type": "code",
   "execution_count": 14,
   "outputs": [
    {
     "data": {
      "text/plain": "     PassengerId  Survived  Pclass  \\\n0              1         0       3   \n1              2         1       1   \n2              3         1       3   \n3              4         1       1   \n4              5         0       3   \n..           ...       ...     ...   \n886          887         0       2   \n887          888         1       1   \n888          889         0       3   \n889          890         1       1   \n890          891         0       3   \n\n                                                  Name     Sex   Age  SibSp  \\\n0                              Braund, Mr. Owen Harris    male  22.0      1   \n1    Cumings, Mrs. John Bradley (Florence Briggs Th...  female  38.0      1   \n2                               Heikkinen, Miss. Laina  female  26.0      0   \n3         Futrelle, Mrs. Jacques Heath (Lily May Peel)  female  35.0      1   \n4                             Allen, Mr. William Henry    male  35.0      0   \n..                                                 ...     ...   ...    ...   \n886                              Montvila, Rev. Juozas    male  27.0      0   \n887                       Graham, Miss. Margaret Edith  female  19.0      0   \n888           Johnston, Miss. Catherine Helen \"Carrie\"  female   NaN      1   \n889                              Behr, Mr. Karl Howell    male  26.0      0   \n890                                Dooley, Mr. Patrick    male  32.0      0   \n\n     Parch            Ticket     Fare Cabin Embarked  \n0        0         A/5 21171   7.2500   NaN        S  \n1        0          PC 17599  71.2833   C85        C  \n2        0  STON/O2. 3101282   7.9250   NaN        S  \n3        0            113803  53.1000  C123        S  \n4        0            373450   8.0500   NaN        S  \n..     ...               ...      ...   ...      ...  \n886      0            211536  13.0000   NaN        S  \n887      0            112053  30.0000   B42        S  \n888      2        W./C. 6607  23.4500   NaN        S  \n889      0            111369  30.0000  C148        C  \n890      0            370376   7.7500   NaN        Q  \n\n[891 rows x 12 columns]",
      "text/html": "<div>\n<style scoped>\n    .dataframe tbody tr th:only-of-type {\n        vertical-align: middle;\n    }\n\n    .dataframe tbody tr th {\n        vertical-align: top;\n    }\n\n    .dataframe thead th {\n        text-align: right;\n    }\n</style>\n<table border=\"1\" class=\"dataframe\">\n  <thead>\n    <tr style=\"text-align: right;\">\n      <th></th>\n      <th>PassengerId</th>\n      <th>Survived</th>\n      <th>Pclass</th>\n      <th>Name</th>\n      <th>Sex</th>\n      <th>Age</th>\n      <th>SibSp</th>\n      <th>Parch</th>\n      <th>Ticket</th>\n      <th>Fare</th>\n      <th>Cabin</th>\n      <th>Embarked</th>\n    </tr>\n  </thead>\n  <tbody>\n    <tr>\n      <th>0</th>\n      <td>1</td>\n      <td>0</td>\n      <td>3</td>\n      <td>Braund, Mr. Owen Harris</td>\n      <td>male</td>\n      <td>22.0</td>\n      <td>1</td>\n      <td>0</td>\n      <td>A/5 21171</td>\n      <td>7.2500</td>\n      <td>NaN</td>\n      <td>S</td>\n    </tr>\n    <tr>\n      <th>1</th>\n      <td>2</td>\n      <td>1</td>\n      <td>1</td>\n      <td>Cumings, Mrs. John Bradley (Florence Briggs Th...</td>\n      <td>female</td>\n      <td>38.0</td>\n      <td>1</td>\n      <td>0</td>\n      <td>PC 17599</td>\n      <td>71.2833</td>\n      <td>C85</td>\n      <td>C</td>\n    </tr>\n    <tr>\n      <th>2</th>\n      <td>3</td>\n      <td>1</td>\n      <td>3</td>\n      <td>Heikkinen, Miss. Laina</td>\n      <td>female</td>\n      <td>26.0</td>\n      <td>0</td>\n      <td>0</td>\n      <td>STON/O2. 3101282</td>\n      <td>7.9250</td>\n      <td>NaN</td>\n      <td>S</td>\n    </tr>\n    <tr>\n      <th>3</th>\n      <td>4</td>\n      <td>1</td>\n      <td>1</td>\n      <td>Futrelle, Mrs. Jacques Heath (Lily May Peel)</td>\n      <td>female</td>\n      <td>35.0</td>\n      <td>1</td>\n      <td>0</td>\n      <td>113803</td>\n      <td>53.1000</td>\n      <td>C123</td>\n      <td>S</td>\n    </tr>\n    <tr>\n      <th>4</th>\n      <td>5</td>\n      <td>0</td>\n      <td>3</td>\n      <td>Allen, Mr. William Henry</td>\n      <td>male</td>\n      <td>35.0</td>\n      <td>0</td>\n      <td>0</td>\n      <td>373450</td>\n      <td>8.0500</td>\n      <td>NaN</td>\n      <td>S</td>\n    </tr>\n    <tr>\n      <th>...</th>\n      <td>...</td>\n      <td>...</td>\n      <td>...</td>\n      <td>...</td>\n      <td>...</td>\n      <td>...</td>\n      <td>...</td>\n      <td>...</td>\n      <td>...</td>\n      <td>...</td>\n      <td>...</td>\n      <td>...</td>\n    </tr>\n    <tr>\n      <th>886</th>\n      <td>887</td>\n      <td>0</td>\n      <td>2</td>\n      <td>Montvila, Rev. Juozas</td>\n      <td>male</td>\n      <td>27.0</td>\n      <td>0</td>\n      <td>0</td>\n      <td>211536</td>\n      <td>13.0000</td>\n      <td>NaN</td>\n      <td>S</td>\n    </tr>\n    <tr>\n      <th>887</th>\n      <td>888</td>\n      <td>1</td>\n      <td>1</td>\n      <td>Graham, Miss. Margaret Edith</td>\n      <td>female</td>\n      <td>19.0</td>\n      <td>0</td>\n      <td>0</td>\n      <td>112053</td>\n      <td>30.0000</td>\n      <td>B42</td>\n      <td>S</td>\n    </tr>\n    <tr>\n      <th>888</th>\n      <td>889</td>\n      <td>0</td>\n      <td>3</td>\n      <td>Johnston, Miss. Catherine Helen \"Carrie\"</td>\n      <td>female</td>\n      <td>NaN</td>\n      <td>1</td>\n      <td>2</td>\n      <td>W./C. 6607</td>\n      <td>23.4500</td>\n      <td>NaN</td>\n      <td>S</td>\n    </tr>\n    <tr>\n      <th>889</th>\n      <td>890</td>\n      <td>1</td>\n      <td>1</td>\n      <td>Behr, Mr. Karl Howell</td>\n      <td>male</td>\n      <td>26.0</td>\n      <td>0</td>\n      <td>0</td>\n      <td>111369</td>\n      <td>30.0000</td>\n      <td>C148</td>\n      <td>C</td>\n    </tr>\n    <tr>\n      <th>890</th>\n      <td>891</td>\n      <td>0</td>\n      <td>3</td>\n      <td>Dooley, Mr. Patrick</td>\n      <td>male</td>\n      <td>32.0</td>\n      <td>0</td>\n      <td>0</td>\n      <td>370376</td>\n      <td>7.7500</td>\n      <td>NaN</td>\n      <td>Q</td>\n    </tr>\n  </tbody>\n</table>\n<p>891 rows × 12 columns</p>\n</div>"
     },
     "execution_count": 14,
     "metadata": {},
     "output_type": "execute_result"
    }
   ],
   "source": [
    "titanic_df"
   ],
   "metadata": {
    "collapsed": false
   }
  },
  {
   "cell_type": "code",
   "execution_count": 15,
   "outputs": [
    {
     "data": {
      "text/plain": "   PassengerId  Survived  Pclass  \\\n0            1         0       3   \n1            2         1       1   \n2            3         1       3   \n3            4         1       1   \n4            5         0       3   \n5            6         0       3   \n6            7         0       1   \n\n                                                Name     Sex   Age  SibSp  \\\n0                            Braund, Mr. Owen Harris    male  22.0      1   \n1  Cumings, Mrs. John Bradley (Florence Briggs Th...  female  38.0      1   \n2                             Heikkinen, Miss. Laina  female  26.0      0   \n3       Futrelle, Mrs. Jacques Heath (Lily May Peel)  female  35.0      1   \n4                           Allen, Mr. William Henry    male  35.0      0   \n5                                   Moran, Mr. James    male   NaN      0   \n6                            McCarthy, Mr. Timothy J    male  54.0      0   \n\n   Parch            Ticket     Fare Cabin Embarked  \n0      0         A/5 21171   7.2500   NaN        S  \n1      0          PC 17599  71.2833   C85        C  \n2      0  STON/O2. 3101282   7.9250   NaN        S  \n3      0            113803  53.1000  C123        S  \n4      0            373450   8.0500   NaN        S  \n5      0            330877   8.4583   NaN        Q  \n6      0             17463  51.8625   E46        S  ",
      "text/html": "<div>\n<style scoped>\n    .dataframe tbody tr th:only-of-type {\n        vertical-align: middle;\n    }\n\n    .dataframe tbody tr th {\n        vertical-align: top;\n    }\n\n    .dataframe thead th {\n        text-align: right;\n    }\n</style>\n<table border=\"1\" class=\"dataframe\">\n  <thead>\n    <tr style=\"text-align: right;\">\n      <th></th>\n      <th>PassengerId</th>\n      <th>Survived</th>\n      <th>Pclass</th>\n      <th>Name</th>\n      <th>Sex</th>\n      <th>Age</th>\n      <th>SibSp</th>\n      <th>Parch</th>\n      <th>Ticket</th>\n      <th>Fare</th>\n      <th>Cabin</th>\n      <th>Embarked</th>\n    </tr>\n  </thead>\n  <tbody>\n    <tr>\n      <th>0</th>\n      <td>1</td>\n      <td>0</td>\n      <td>3</td>\n      <td>Braund, Mr. Owen Harris</td>\n      <td>male</td>\n      <td>22.0</td>\n      <td>1</td>\n      <td>0</td>\n      <td>A/5 21171</td>\n      <td>7.2500</td>\n      <td>NaN</td>\n      <td>S</td>\n    </tr>\n    <tr>\n      <th>1</th>\n      <td>2</td>\n      <td>1</td>\n      <td>1</td>\n      <td>Cumings, Mrs. John Bradley (Florence Briggs Th...</td>\n      <td>female</td>\n      <td>38.0</td>\n      <td>1</td>\n      <td>0</td>\n      <td>PC 17599</td>\n      <td>71.2833</td>\n      <td>C85</td>\n      <td>C</td>\n    </tr>\n    <tr>\n      <th>2</th>\n      <td>3</td>\n      <td>1</td>\n      <td>3</td>\n      <td>Heikkinen, Miss. Laina</td>\n      <td>female</td>\n      <td>26.0</td>\n      <td>0</td>\n      <td>0</td>\n      <td>STON/O2. 3101282</td>\n      <td>7.9250</td>\n      <td>NaN</td>\n      <td>S</td>\n    </tr>\n    <tr>\n      <th>3</th>\n      <td>4</td>\n      <td>1</td>\n      <td>1</td>\n      <td>Futrelle, Mrs. Jacques Heath (Lily May Peel)</td>\n      <td>female</td>\n      <td>35.0</td>\n      <td>1</td>\n      <td>0</td>\n      <td>113803</td>\n      <td>53.1000</td>\n      <td>C123</td>\n      <td>S</td>\n    </tr>\n    <tr>\n      <th>4</th>\n      <td>5</td>\n      <td>0</td>\n      <td>3</td>\n      <td>Allen, Mr. William Henry</td>\n      <td>male</td>\n      <td>35.0</td>\n      <td>0</td>\n      <td>0</td>\n      <td>373450</td>\n      <td>8.0500</td>\n      <td>NaN</td>\n      <td>S</td>\n    </tr>\n    <tr>\n      <th>5</th>\n      <td>6</td>\n      <td>0</td>\n      <td>3</td>\n      <td>Moran, Mr. James</td>\n      <td>male</td>\n      <td>NaN</td>\n      <td>0</td>\n      <td>0</td>\n      <td>330877</td>\n      <td>8.4583</td>\n      <td>NaN</td>\n      <td>Q</td>\n    </tr>\n    <tr>\n      <th>6</th>\n      <td>7</td>\n      <td>0</td>\n      <td>1</td>\n      <td>McCarthy, Mr. Timothy J</td>\n      <td>male</td>\n      <td>54.0</td>\n      <td>0</td>\n      <td>0</td>\n      <td>17463</td>\n      <td>51.8625</td>\n      <td>E46</td>\n      <td>S</td>\n    </tr>\n  </tbody>\n</table>\n</div>"
     },
     "execution_count": 15,
     "metadata": {},
     "output_type": "execute_result"
    }
   ],
   "source": [
    "titanic_df.head(7)"
   ],
   "metadata": {
    "collapsed": false
   }
  },
  {
   "cell_type": "code",
   "execution_count": 16,
   "outputs": [
    {
     "data": {
      "text/plain": "     PassengerId  Survived  Pclass                                      Name  \\\n881          882         0       3                        Markun, Mr. Johann   \n882          883         0       3              Dahlberg, Miss. Gerda Ulrika   \n883          884         0       2             Banfield, Mr. Frederick James   \n884          885         0       3                    Sutehall, Mr. Henry Jr   \n885          886         0       3      Rice, Mrs. William (Margaret Norton)   \n886          887         0       2                     Montvila, Rev. Juozas   \n887          888         1       1              Graham, Miss. Margaret Edith   \n888          889         0       3  Johnston, Miss. Catherine Helen \"Carrie\"   \n889          890         1       1                     Behr, Mr. Karl Howell   \n890          891         0       3                       Dooley, Mr. Patrick   \n\n        Sex   Age  SibSp  Parch            Ticket     Fare Cabin Embarked  \n881    male  33.0      0      0            349257   7.8958   NaN        S  \n882  female  22.0      0      0              7552  10.5167   NaN        S  \n883    male  28.0      0      0  C.A./SOTON 34068  10.5000   NaN        S  \n884    male  25.0      0      0   SOTON/OQ 392076   7.0500   NaN        S  \n885  female  39.0      0      5            382652  29.1250   NaN        Q  \n886    male  27.0      0      0            211536  13.0000   NaN        S  \n887  female  19.0      0      0            112053  30.0000   B42        S  \n888  female   NaN      1      2        W./C. 6607  23.4500   NaN        S  \n889    male  26.0      0      0            111369  30.0000  C148        C  \n890    male  32.0      0      0            370376   7.7500   NaN        Q  ",
      "text/html": "<div>\n<style scoped>\n    .dataframe tbody tr th:only-of-type {\n        vertical-align: middle;\n    }\n\n    .dataframe tbody tr th {\n        vertical-align: top;\n    }\n\n    .dataframe thead th {\n        text-align: right;\n    }\n</style>\n<table border=\"1\" class=\"dataframe\">\n  <thead>\n    <tr style=\"text-align: right;\">\n      <th></th>\n      <th>PassengerId</th>\n      <th>Survived</th>\n      <th>Pclass</th>\n      <th>Name</th>\n      <th>Sex</th>\n      <th>Age</th>\n      <th>SibSp</th>\n      <th>Parch</th>\n      <th>Ticket</th>\n      <th>Fare</th>\n      <th>Cabin</th>\n      <th>Embarked</th>\n    </tr>\n  </thead>\n  <tbody>\n    <tr>\n      <th>881</th>\n      <td>882</td>\n      <td>0</td>\n      <td>3</td>\n      <td>Markun, Mr. Johann</td>\n      <td>male</td>\n      <td>33.0</td>\n      <td>0</td>\n      <td>0</td>\n      <td>349257</td>\n      <td>7.8958</td>\n      <td>NaN</td>\n      <td>S</td>\n    </tr>\n    <tr>\n      <th>882</th>\n      <td>883</td>\n      <td>0</td>\n      <td>3</td>\n      <td>Dahlberg, Miss. Gerda Ulrika</td>\n      <td>female</td>\n      <td>22.0</td>\n      <td>0</td>\n      <td>0</td>\n      <td>7552</td>\n      <td>10.5167</td>\n      <td>NaN</td>\n      <td>S</td>\n    </tr>\n    <tr>\n      <th>883</th>\n      <td>884</td>\n      <td>0</td>\n      <td>2</td>\n      <td>Banfield, Mr. Frederick James</td>\n      <td>male</td>\n      <td>28.0</td>\n      <td>0</td>\n      <td>0</td>\n      <td>C.A./SOTON 34068</td>\n      <td>10.5000</td>\n      <td>NaN</td>\n      <td>S</td>\n    </tr>\n    <tr>\n      <th>884</th>\n      <td>885</td>\n      <td>0</td>\n      <td>3</td>\n      <td>Sutehall, Mr. Henry Jr</td>\n      <td>male</td>\n      <td>25.0</td>\n      <td>0</td>\n      <td>0</td>\n      <td>SOTON/OQ 392076</td>\n      <td>7.0500</td>\n      <td>NaN</td>\n      <td>S</td>\n    </tr>\n    <tr>\n      <th>885</th>\n      <td>886</td>\n      <td>0</td>\n      <td>3</td>\n      <td>Rice, Mrs. William (Margaret Norton)</td>\n      <td>female</td>\n      <td>39.0</td>\n      <td>0</td>\n      <td>5</td>\n      <td>382652</td>\n      <td>29.1250</td>\n      <td>NaN</td>\n      <td>Q</td>\n    </tr>\n    <tr>\n      <th>886</th>\n      <td>887</td>\n      <td>0</td>\n      <td>2</td>\n      <td>Montvila, Rev. Juozas</td>\n      <td>male</td>\n      <td>27.0</td>\n      <td>0</td>\n      <td>0</td>\n      <td>211536</td>\n      <td>13.0000</td>\n      <td>NaN</td>\n      <td>S</td>\n    </tr>\n    <tr>\n      <th>887</th>\n      <td>888</td>\n      <td>1</td>\n      <td>1</td>\n      <td>Graham, Miss. Margaret Edith</td>\n      <td>female</td>\n      <td>19.0</td>\n      <td>0</td>\n      <td>0</td>\n      <td>112053</td>\n      <td>30.0000</td>\n      <td>B42</td>\n      <td>S</td>\n    </tr>\n    <tr>\n      <th>888</th>\n      <td>889</td>\n      <td>0</td>\n      <td>3</td>\n      <td>Johnston, Miss. Catherine Helen \"Carrie\"</td>\n      <td>female</td>\n      <td>NaN</td>\n      <td>1</td>\n      <td>2</td>\n      <td>W./C. 6607</td>\n      <td>23.4500</td>\n      <td>NaN</td>\n      <td>S</td>\n    </tr>\n    <tr>\n      <th>889</th>\n      <td>890</td>\n      <td>1</td>\n      <td>1</td>\n      <td>Behr, Mr. Karl Howell</td>\n      <td>male</td>\n      <td>26.0</td>\n      <td>0</td>\n      <td>0</td>\n      <td>111369</td>\n      <td>30.0000</td>\n      <td>C148</td>\n      <td>C</td>\n    </tr>\n    <tr>\n      <th>890</th>\n      <td>891</td>\n      <td>0</td>\n      <td>3</td>\n      <td>Dooley, Mr. Patrick</td>\n      <td>male</td>\n      <td>32.0</td>\n      <td>0</td>\n      <td>0</td>\n      <td>370376</td>\n      <td>7.7500</td>\n      <td>NaN</td>\n      <td>Q</td>\n    </tr>\n  </tbody>\n</table>\n</div>"
     },
     "execution_count": 16,
     "metadata": {},
     "output_type": "execute_result"
    }
   ],
   "source": [
    "titanic_df.tail(10)"
   ],
   "metadata": {
    "collapsed": false
   }
  },
  {
   "cell_type": "markdown",
   "source": [
    "<div  class=\"alert alert-block alert-info\">\n",
    "4. Verwende die Methode describe(). Was zeigt sie dir an? Was aus der Ausgabe lässt sich sinnvoll interpretieren und welche Information ist unnütz? Kommentiere.\n",
    "</div>"
   ],
   "metadata": {
    "collapsed": false
   }
  },
  {
   "cell_type": "code",
   "execution_count": 17,
   "outputs": [
    {
     "data": {
      "text/plain": "       PassengerId    Survived      Pclass         Age       SibSp  \\\ncount   891.000000  891.000000  891.000000  714.000000  891.000000   \nmean    446.000000    0.383838    2.308642   29.699118    0.523008   \nstd     257.353842    0.486592    0.836071   14.526497    1.102743   \nmin       1.000000    0.000000    1.000000    0.420000    0.000000   \n25%     223.500000    0.000000    2.000000   20.125000    0.000000   \n50%     446.000000    0.000000    3.000000   28.000000    0.000000   \n75%     668.500000    1.000000    3.000000   38.000000    1.000000   \nmax     891.000000    1.000000    3.000000   80.000000    8.000000   \n\n            Parch        Fare  \ncount  891.000000  891.000000  \nmean     0.381594   32.204208  \nstd      0.806057   49.693429  \nmin      0.000000    0.000000  \n25%      0.000000    7.910400  \n50%      0.000000   14.454200  \n75%      0.000000   31.000000  \nmax      6.000000  512.329200  ",
      "text/html": "<div>\n<style scoped>\n    .dataframe tbody tr th:only-of-type {\n        vertical-align: middle;\n    }\n\n    .dataframe tbody tr th {\n        vertical-align: top;\n    }\n\n    .dataframe thead th {\n        text-align: right;\n    }\n</style>\n<table border=\"1\" class=\"dataframe\">\n  <thead>\n    <tr style=\"text-align: right;\">\n      <th></th>\n      <th>PassengerId</th>\n      <th>Survived</th>\n      <th>Pclass</th>\n      <th>Age</th>\n      <th>SibSp</th>\n      <th>Parch</th>\n      <th>Fare</th>\n    </tr>\n  </thead>\n  <tbody>\n    <tr>\n      <th>count</th>\n      <td>891.000000</td>\n      <td>891.000000</td>\n      <td>891.000000</td>\n      <td>714.000000</td>\n      <td>891.000000</td>\n      <td>891.000000</td>\n      <td>891.000000</td>\n    </tr>\n    <tr>\n      <th>mean</th>\n      <td>446.000000</td>\n      <td>0.383838</td>\n      <td>2.308642</td>\n      <td>29.699118</td>\n      <td>0.523008</td>\n      <td>0.381594</td>\n      <td>32.204208</td>\n    </tr>\n    <tr>\n      <th>std</th>\n      <td>257.353842</td>\n      <td>0.486592</td>\n      <td>0.836071</td>\n      <td>14.526497</td>\n      <td>1.102743</td>\n      <td>0.806057</td>\n      <td>49.693429</td>\n    </tr>\n    <tr>\n      <th>min</th>\n      <td>1.000000</td>\n      <td>0.000000</td>\n      <td>1.000000</td>\n      <td>0.420000</td>\n      <td>0.000000</td>\n      <td>0.000000</td>\n      <td>0.000000</td>\n    </tr>\n    <tr>\n      <th>25%</th>\n      <td>223.500000</td>\n      <td>0.000000</td>\n      <td>2.000000</td>\n      <td>20.125000</td>\n      <td>0.000000</td>\n      <td>0.000000</td>\n      <td>7.910400</td>\n    </tr>\n    <tr>\n      <th>50%</th>\n      <td>446.000000</td>\n      <td>0.000000</td>\n      <td>3.000000</td>\n      <td>28.000000</td>\n      <td>0.000000</td>\n      <td>0.000000</td>\n      <td>14.454200</td>\n    </tr>\n    <tr>\n      <th>75%</th>\n      <td>668.500000</td>\n      <td>1.000000</td>\n      <td>3.000000</td>\n      <td>38.000000</td>\n      <td>1.000000</td>\n      <td>0.000000</td>\n      <td>31.000000</td>\n    </tr>\n    <tr>\n      <th>max</th>\n      <td>891.000000</td>\n      <td>1.000000</td>\n      <td>3.000000</td>\n      <td>80.000000</td>\n      <td>8.000000</td>\n      <td>6.000000</td>\n      <td>512.329200</td>\n    </tr>\n  </tbody>\n</table>\n</div>"
     },
     "execution_count": 17,
     "metadata": {},
     "output_type": "execute_result"
    }
   ],
   "source": [
    "titanic_df.describe()"
   ],
   "metadata": {
    "collapsed": false
   }
  },
  {
   "cell_type": "markdown",
   "source": [
    "<div  class=\"alert alert-block alert-info\">\n",
    "5. Du möchtest alle Daten zu folgender Person: Celotti, Mr. Francesco. Wie stellst du das an?\n",
    "</div>\n"
   ],
   "metadata": {
    "collapsed": false
   }
  },
  {
   "cell_type": "code",
   "execution_count": 18,
   "outputs": [
    {
     "name": "stdout",
     "output_type": "stream",
     "text": [
      "    PassengerId  Survived  Pclass                    Name   Sex   Age  SibSp  \\\n",
      "89           90         0       3  Celotti, Mr. Francesco  male  24.0      0   \n",
      "\n",
      "    Parch  Ticket  Fare Cabin Embarked  \n",
      "89      0  343275  8.05   NaN        S  \n"
     ]
    }
   ],
   "source": [
    "print(titanic_df[titanic_df[\"Name\"] == \"Celotti, Mr. Francesco\"])"
   ],
   "metadata": {
    "collapsed": false
   }
  },
  {
   "cell_type": "markdown",
   "source": [
    "<div  class=\"alert alert-block alert-info\">\n",
    "6. Du möchtest einen Slice des DataFrames, der nur Passagiere der ersten Klasse enthält. Erreiche das durch Slicing mit einer Bedingung und schreibe das Ergebnis in die Variabel erste_klasse. Lasse dir den head von dieser ausgeben und miss ihre Länge.\n",
    "</div>"
   ],
   "metadata": {
    "collapsed": false
   }
  },
  {
   "cell_type": "code",
   "execution_count": 19,
   "outputs": [],
   "source": [
    "erste_klasse = titanic_df[titanic_df[\"Pclass\"] == 1]"
   ],
   "metadata": {
    "collapsed": false
   }
  },
  {
   "cell_type": "code",
   "execution_count": 20,
   "outputs": [
    {
     "data": {
      "text/plain": "    PassengerId  Survived  Pclass  \\\n1             2         1       1   \n3             4         1       1   \n6             7         0       1   \n11           12         1       1   \n23           24         1       1   \n\n                                                 Name     Sex   Age  SibSp  \\\n1   Cumings, Mrs. John Bradley (Florence Briggs Th...  female  38.0      1   \n3        Futrelle, Mrs. Jacques Heath (Lily May Peel)  female  35.0      1   \n6                             McCarthy, Mr. Timothy J    male  54.0      0   \n11                           Bonnell, Miss. Elizabeth  female  58.0      0   \n23                       Sloper, Mr. William Thompson    male  28.0      0   \n\n    Parch    Ticket     Fare Cabin Embarked  \n1       0  PC 17599  71.2833   C85        C  \n3       0    113803  53.1000  C123        S  \n6       0     17463  51.8625   E46        S  \n11      0    113783  26.5500  C103        S  \n23      0    113788  35.5000    A6        S  ",
      "text/html": "<div>\n<style scoped>\n    .dataframe tbody tr th:only-of-type {\n        vertical-align: middle;\n    }\n\n    .dataframe tbody tr th {\n        vertical-align: top;\n    }\n\n    .dataframe thead th {\n        text-align: right;\n    }\n</style>\n<table border=\"1\" class=\"dataframe\">\n  <thead>\n    <tr style=\"text-align: right;\">\n      <th></th>\n      <th>PassengerId</th>\n      <th>Survived</th>\n      <th>Pclass</th>\n      <th>Name</th>\n      <th>Sex</th>\n      <th>Age</th>\n      <th>SibSp</th>\n      <th>Parch</th>\n      <th>Ticket</th>\n      <th>Fare</th>\n      <th>Cabin</th>\n      <th>Embarked</th>\n    </tr>\n  </thead>\n  <tbody>\n    <tr>\n      <th>1</th>\n      <td>2</td>\n      <td>1</td>\n      <td>1</td>\n      <td>Cumings, Mrs. John Bradley (Florence Briggs Th...</td>\n      <td>female</td>\n      <td>38.0</td>\n      <td>1</td>\n      <td>0</td>\n      <td>PC 17599</td>\n      <td>71.2833</td>\n      <td>C85</td>\n      <td>C</td>\n    </tr>\n    <tr>\n      <th>3</th>\n      <td>4</td>\n      <td>1</td>\n      <td>1</td>\n      <td>Futrelle, Mrs. Jacques Heath (Lily May Peel)</td>\n      <td>female</td>\n      <td>35.0</td>\n      <td>1</td>\n      <td>0</td>\n      <td>113803</td>\n      <td>53.1000</td>\n      <td>C123</td>\n      <td>S</td>\n    </tr>\n    <tr>\n      <th>6</th>\n      <td>7</td>\n      <td>0</td>\n      <td>1</td>\n      <td>McCarthy, Mr. Timothy J</td>\n      <td>male</td>\n      <td>54.0</td>\n      <td>0</td>\n      <td>0</td>\n      <td>17463</td>\n      <td>51.8625</td>\n      <td>E46</td>\n      <td>S</td>\n    </tr>\n    <tr>\n      <th>11</th>\n      <td>12</td>\n      <td>1</td>\n      <td>1</td>\n      <td>Bonnell, Miss. Elizabeth</td>\n      <td>female</td>\n      <td>58.0</td>\n      <td>0</td>\n      <td>0</td>\n      <td>113783</td>\n      <td>26.5500</td>\n      <td>C103</td>\n      <td>S</td>\n    </tr>\n    <tr>\n      <th>23</th>\n      <td>24</td>\n      <td>1</td>\n      <td>1</td>\n      <td>Sloper, Mr. William Thompson</td>\n      <td>male</td>\n      <td>28.0</td>\n      <td>0</td>\n      <td>0</td>\n      <td>113788</td>\n      <td>35.5000</td>\n      <td>A6</td>\n      <td>S</td>\n    </tr>\n  </tbody>\n</table>\n</div>"
     },
     "execution_count": 20,
     "metadata": {},
     "output_type": "execute_result"
    }
   ],
   "source": [
    "erste_klasse.head()"
   ],
   "metadata": {
    "collapsed": false
   }
  },
  {
   "cell_type": "code",
   "execution_count": 21,
   "outputs": [
    {
     "data": {
      "text/plain": "216"
     },
     "execution_count": 21,
     "metadata": {},
     "output_type": "execute_result"
    }
   ],
   "source": [
    "erste_klasse[\"Pclass\"].count() # oder len(erste_klasse[\"Pclass\"])"
   ],
   "metadata": {
    "collapsed": false
   }
  },
  {
   "cell_type": "markdown",
   "source": [
    "<div  class=\"alert alert-block alert-info\">\n",
    "7. Diesmal möchtest du zwei Slices des DataFrames: Leute die überlebt haben und Leute, die gestorben sind. Überlebende haben in der Spalte Survived den Wert 1. Die, die nicht überlebt haben, weisen eine 0 auf. Erstelle zwei Dataframes aus den Slices: ueberlebende und tote. Lass dir auch hier die Länge ausgeben. Errechne das Verhältnis von Überlebenden zu Toten. Wenn du Lust hast: Rechne den Wert in Prozent um und runde auf zwei Nachkommastellen.\n",
    "</div>"
   ],
   "metadata": {
    "collapsed": false
   }
  },
  {
   "cell_type": "code",
   "execution_count": 22,
   "outputs": [],
   "source": [
    "ueberlebende = titanic_df[titanic_df[\"Survived\"] == 1]\n",
    "tote = titanic_df[titanic_df[\"Survived\"] == 0]"
   ],
   "metadata": {
    "collapsed": false
   }
  },
  {
   "cell_type": "code",
   "execution_count": 26,
   "outputs": [
    {
     "name": "stdout",
     "output_type": "stream",
     "text": [
      "62.295081967213115\n",
      "38.38383838383838\n",
      "61.61616161616161\n"
     ]
    }
   ],
   "source": [
    "print(len(ueberlebende)/len(tote)*100)\n",
    "print(len(ueberlebende)/(len(tote)+len(ueberlebende))*100)\n",
    "print(len(tote)/(len(tote)+len(ueberlebende))*100)"
   ],
   "metadata": {
    "collapsed": false
   }
  },
  {
   "cell_type": "code",
   "execution_count": 2,
   "outputs": [
    {
     "ename": "NameError",
     "evalue": "name 'ueberlebende' is not defined",
     "output_type": "error",
     "traceback": [
      "\u001B[1;31m---------------------------------------------------------------------------\u001B[0m",
      "\u001B[1;31mNameError\u001B[0m                                 Traceback (most recent call last)",
      "Cell \u001B[1;32mIn[2], line 1\u001B[0m\n\u001B[1;32m----> 1\u001B[0m \u001B[38;5;28mprint\u001B[39m(\u001B[43mueberlebende\u001B[49m[\u001B[38;5;124m\"\u001B[39m\u001B[38;5;124mSurvived\u001B[39m\u001B[38;5;124m\"\u001B[39m]\u001B[38;5;241m.\u001B[39mcount())\n\u001B[0;32m      2\u001B[0m \u001B[38;5;28mprint\u001B[39m(tote[\u001B[38;5;124m\"\u001B[39m\u001B[38;5;124mSurvived\u001B[39m\u001B[38;5;124m\"\u001B[39m]\u001B[38;5;241m.\u001B[39mcount())\n\u001B[0;32m      3\u001B[0m \u001B[38;5;28mprint\u001B[39m(\u001B[38;5;28mround\u001B[39m(ueberlebende[\u001B[38;5;124m\"\u001B[39m\u001B[38;5;124mSurvived\u001B[39m\u001B[38;5;124m\"\u001B[39m]\u001B[38;5;241m.\u001B[39mcount()\u001B[38;5;241m/\u001B[39m(ueberlebende[\u001B[38;5;124m\"\u001B[39m\u001B[38;5;124mSurvived\u001B[39m\u001B[38;5;124m\"\u001B[39m]\u001B[38;5;241m.\u001B[39mcount()\u001B[38;5;241m+\u001B[39mtote[\u001B[38;5;124m\"\u001B[39m\u001B[38;5;124mSurvived\u001B[39m\u001B[38;5;124m\"\u001B[39m]\u001B[38;5;241m.\u001B[39mcount())\u001B[38;5;241m*\u001B[39m\u001B[38;5;241m100\u001B[39m,\u001B[38;5;241m2\u001B[39m), \u001B[38;5;124m\"\u001B[39m\u001B[38;5;124m%\u001B[39m\u001B[38;5;124m\"\u001B[39m)\n",
      "\u001B[1;31mNameError\u001B[0m: name 'ueberlebende' is not defined"
     ]
    }
   ],
   "source": [
    "print(ueberlebende[\"Survived\"].count())\n",
    "print(tote[\"Survived\"].count())\n",
    "print(round(ueberlebende[\"Survived\"].count()/(ueberlebende[\"Survived\"].count()+tote[\"Survived\"].count())*100,2), \"%\")"
   ],
   "metadata": {
    "collapsed": false
   }
  },
  {
   "cell_type": "markdown",
   "source": [
    "<div  class=\"alert alert-block alert-info\">\n",
    "8. Du möchtest einen Teil des DataFrames ueberlebende auswählen. Und zwar willst du nur Name, Geschlecht und Alter darin sehen. Wie stellst du das an? Schreibe das Resultat in ueberlebende_kompakt und lasse dir den Inhalt ausgeben.\n",
    "</div>"
   ],
   "metadata": {
    "collapsed": false
   }
  },
  {
   "cell_type": "code",
   "execution_count": 49,
   "outputs": [],
   "source": [
    "ueberlebende_kompakt = ueberlebende[[\"Name\", \"Sex\", \"Age\"]]"
   ],
   "metadata": {
    "collapsed": false
   }
  },
  {
   "cell_type": "code",
   "execution_count": 50,
   "outputs": [
    {
     "data": {
      "text/plain": "                                                  Name     Sex   Age\n1    Cumings, Mrs. John Bradley (Florence Briggs Th...  female  38.0\n2                               Heikkinen, Miss. Laina  female  26.0\n3         Futrelle, Mrs. Jacques Heath (Lily May Peel)  female  35.0\n8    Johnson, Mrs. Oscar W (Elisabeth Vilhelmina Berg)  female  27.0\n9                  Nasser, Mrs. Nicholas (Adele Achem)  female  14.0\n..                                                 ...     ...   ...\n875                   Najib, Miss. Adele Kiamie \"Jane\"  female  15.0\n879      Potter, Mrs. Thomas Jr (Lily Alexenia Wilson)  female  56.0\n880       Shelley, Mrs. William (Imanita Parrish Hall)  female  25.0\n887                       Graham, Miss. Margaret Edith  female  19.0\n889                              Behr, Mr. Karl Howell    male  26.0\n\n[342 rows x 3 columns]",
      "text/html": "<div>\n<style scoped>\n    .dataframe tbody tr th:only-of-type {\n        vertical-align: middle;\n    }\n\n    .dataframe tbody tr th {\n        vertical-align: top;\n    }\n\n    .dataframe thead th {\n        text-align: right;\n    }\n</style>\n<table border=\"1\" class=\"dataframe\">\n  <thead>\n    <tr style=\"text-align: right;\">\n      <th></th>\n      <th>Name</th>\n      <th>Sex</th>\n      <th>Age</th>\n    </tr>\n  </thead>\n  <tbody>\n    <tr>\n      <th>1</th>\n      <td>Cumings, Mrs. John Bradley (Florence Briggs Th...</td>\n      <td>female</td>\n      <td>38.0</td>\n    </tr>\n    <tr>\n      <th>2</th>\n      <td>Heikkinen, Miss. Laina</td>\n      <td>female</td>\n      <td>26.0</td>\n    </tr>\n    <tr>\n      <th>3</th>\n      <td>Futrelle, Mrs. Jacques Heath (Lily May Peel)</td>\n      <td>female</td>\n      <td>35.0</td>\n    </tr>\n    <tr>\n      <th>8</th>\n      <td>Johnson, Mrs. Oscar W (Elisabeth Vilhelmina Berg)</td>\n      <td>female</td>\n      <td>27.0</td>\n    </tr>\n    <tr>\n      <th>9</th>\n      <td>Nasser, Mrs. Nicholas (Adele Achem)</td>\n      <td>female</td>\n      <td>14.0</td>\n    </tr>\n    <tr>\n      <th>...</th>\n      <td>...</td>\n      <td>...</td>\n      <td>...</td>\n    </tr>\n    <tr>\n      <th>875</th>\n      <td>Najib, Miss. Adele Kiamie \"Jane\"</td>\n      <td>female</td>\n      <td>15.0</td>\n    </tr>\n    <tr>\n      <th>879</th>\n      <td>Potter, Mrs. Thomas Jr (Lily Alexenia Wilson)</td>\n      <td>female</td>\n      <td>56.0</td>\n    </tr>\n    <tr>\n      <th>880</th>\n      <td>Shelley, Mrs. William (Imanita Parrish Hall)</td>\n      <td>female</td>\n      <td>25.0</td>\n    </tr>\n    <tr>\n      <th>887</th>\n      <td>Graham, Miss. Margaret Edith</td>\n      <td>female</td>\n      <td>19.0</td>\n    </tr>\n    <tr>\n      <th>889</th>\n      <td>Behr, Mr. Karl Howell</td>\n      <td>male</td>\n      <td>26.0</td>\n    </tr>\n  </tbody>\n</table>\n<p>342 rows × 3 columns</p>\n</div>"
     },
     "execution_count": 50,
     "metadata": {},
     "output_type": "execute_result"
    }
   ],
   "source": [
    "ueberlebende_kompakt"
   ],
   "metadata": {
    "collapsed": false
   }
  },
  {
   "cell_type": "markdown",
   "source": [
    "<div  class=\"alert alert-block alert-info\">\n",
    "9. Speichere ueberlebende_kompakt in ueberlebende_passagiere.csv"
   ],
   "metadata": {
    "collapsed": false
   }
  },
  {
   "cell_type": "code",
   "execution_count": null,
   "outputs": [],
   "source": [],
   "metadata": {
    "collapsed": false
   }
  }
 ],
 "metadata": {
  "kernelspec": {
   "display_name": "Python 3",
   "language": "python",
   "name": "python3"
  },
  "language_info": {
   "codemirror_mode": {
    "name": "ipython",
    "version": 2
   },
   "file_extension": ".py",
   "mimetype": "text/x-python",
   "name": "python",
   "nbconvert_exporter": "python",
   "pygments_lexer": "ipython2",
   "version": "2.7.6"
  }
 },
 "nbformat": 4,
 "nbformat_minor": 0
}
