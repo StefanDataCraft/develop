{
 "cells": [
  {
   "cell_type": "markdown",
   "source": [
    "<br><br><center><h1 style=\"font-size:2em;color:#2467C0\">Tagesaufgaben 17.04.2023</h1></center>\n",
    "<br>"
   ],
   "metadata": {
    "collapsed": false
   }
  },
  {
   "cell_type": "markdown",
   "source": [
    "<div  class=\"alert alert-block alert-info\">\n",
    "1. Dir liegt ein Numpy-Array mit Kantenlängen vor. Rechne daraus die Volumina von Würfeln mit der entsprechenden Kantenlänge aus. Das Ergebnis soll ein neues Numpy-Array sein.</div>"
   ],
   "metadata": {
    "collapsed": false
   }
  },
  {
   "cell_type": "code",
   "execution_count": 33,
   "outputs": [
    {
     "data": {
      "text/plain": "array([   8,   27,   64,  125,  216,  343,  512,  729, 1000], dtype=int32)"
     },
     "execution_count": 33,
     "metadata": {},
     "output_type": "execute_result"
    }
   ],
   "source": [
    "import numpy as np\n",
    "kantenlaengen = np.array([2, 3, 4, 5, 6, 7, 8, 9, 10])\n",
    "wuerfel = kantenlaengen**3\n",
    "wuerfel"
   ],
   "metadata": {
    "collapsed": false
   }
  },
  {
   "cell_type": "markdown",
   "source": [
    "<div  class=\"alert alert-block alert-info\">\n",
    "2. Dir liegt ein Numpy-Array mit Radien von Kreisen vor. Berechne nun den Flächeninhalt der entsprechenden Kreise. Benutze hierfür pi aus dem Modul math.</div>"
   ],
   "metadata": {
    "collapsed": false
   }
  },
  {
   "cell_type": "code",
   "execution_count": 76,
   "outputs": [
    {
     "data": {
      "text/plain": "array([ 12.56637061,  50.26548246, 153.93804003, 314.15926536,\n       706.85834706])"
     },
     "execution_count": 76,
     "metadata": {},
     "output_type": "execute_result"
    }
   ],
   "source": [
    "from math import pi\n",
    "radien = np.array([2, 4, 7, 10, 15])\n",
    "flaechen = pi*(radien**2)\n",
    "flaechen"
   ],
   "metadata": {
    "collapsed": false
   }
  },
  {
   "cell_type": "code",
   "execution_count": 78,
   "outputs": [
    {
     "data": {
      "text/plain": "array([ 13.,  50., 154., 314., 707.])"
     },
     "execution_count": 78,
     "metadata": {},
     "output_type": "execute_result"
    }
   ],
   "source": [
    "flaechen.round()"
   ],
   "metadata": {
    "collapsed": false
   }
  },
  {
   "cell_type": "markdown",
   "source": [
    "<div  class=\"alert alert-block alert-info\">\n",
    "3. Du hast ein eindimensionales Numpy-Array, das du in die Form zwei Zeilen, zwei Spalten überführen sollst. Lass dir nach der Umformung das Array sowie seine Dimensionen ausgeben und außerdem die Elemente, die größer als 1 sind.</div>"
   ],
   "metadata": {
    "collapsed": false
   }
  },
  {
   "cell_type": "code",
   "execution_count": 35,
   "outputs": [
    {
     "data": {
      "text/plain": "array([], dtype=float64)"
     },
     "execution_count": 35,
     "metadata": {},
     "output_type": "execute_result"
    }
   ],
   "source": [
    "np.array([])"
   ],
   "metadata": {
    "collapsed": false
   }
  },
  {
   "cell_type": "code",
   "execution_count": 36,
   "outputs": [
    {
     "name": "stdout",
     "output_type": "stream",
     "text": [
      "[[0 1]\n",
      " [2 3]]\n",
      "2\n"
     ]
    }
   ],
   "source": [
    "arr = np.array([0,1,2,3]).reshape(2,2)\n",
    "print(arr)\n",
    "print(arr.ndim)"
   ],
   "metadata": {
    "collapsed": false
   }
  },
  {
   "cell_type": "code",
   "execution_count": 37,
   "outputs": [
    {
     "data": {
      "text/plain": "(array([1, 1], dtype=int64), array([0, 1], dtype=int64))"
     },
     "execution_count": 37,
     "metadata": {},
     "output_type": "execute_result"
    }
   ],
   "source": [
    "np.where(arr >= 2)"
   ],
   "metadata": {
    "collapsed": false
   }
  },
  {
   "cell_type": "markdown",
   "source": [
    "<div  class=\"alert alert-block alert-info\">\n",
    "4. Dir wurde die Datei penguins.csv zur Verfügung gestellt. Lese den Penguins-Datensatz in Form eines Pandas Dataframes ein und lasse die die fünf obersten Zeilen anzeigen.</div>"
   ],
   "metadata": {
    "collapsed": false
   }
  },
  {
   "cell_type": "code",
   "execution_count": 83,
   "outputs": [],
   "source": [
    "import pandas as pd\n",
    "df = pd.read_csv(\"datasets\\\\penguins.csv\", sep=\",\")"
   ],
   "metadata": {
    "collapsed": false
   }
  },
  {
   "cell_type": "code",
   "execution_count": 84,
   "outputs": [
    {
     "data": {
      "text/plain": "  species     island  bill_length_mm  bill_depth_mm  flipper_length_mm  \\\n0  Adelie  Torgersen            39.1           18.7              181.0   \n1  Adelie  Torgersen            39.5           17.4              186.0   \n2  Adelie  Torgersen            40.3           18.0              195.0   \n3  Adelie  Torgersen             NaN            NaN                NaN   \n4  Adelie  Torgersen            36.7           19.3              193.0   \n\n   body_mass_g     sex  year  \n0       3750.0    male  2007  \n1       3800.0  female  2007  \n2       3250.0  female  2007  \n3          NaN     NaN  2007  \n4       3450.0  female  2007  ",
      "text/html": "<div>\n<style scoped>\n    .dataframe tbody tr th:only-of-type {\n        vertical-align: middle;\n    }\n\n    .dataframe tbody tr th {\n        vertical-align: top;\n    }\n\n    .dataframe thead th {\n        text-align: right;\n    }\n</style>\n<table border=\"1\" class=\"dataframe\">\n  <thead>\n    <tr style=\"text-align: right;\">\n      <th></th>\n      <th>species</th>\n      <th>island</th>\n      <th>bill_length_mm</th>\n      <th>bill_depth_mm</th>\n      <th>flipper_length_mm</th>\n      <th>body_mass_g</th>\n      <th>sex</th>\n      <th>year</th>\n    </tr>\n  </thead>\n  <tbody>\n    <tr>\n      <th>0</th>\n      <td>Adelie</td>\n      <td>Torgersen</td>\n      <td>39.1</td>\n      <td>18.7</td>\n      <td>181.0</td>\n      <td>3750.0</td>\n      <td>male</td>\n      <td>2007</td>\n    </tr>\n    <tr>\n      <th>1</th>\n      <td>Adelie</td>\n      <td>Torgersen</td>\n      <td>39.5</td>\n      <td>17.4</td>\n      <td>186.0</td>\n      <td>3800.0</td>\n      <td>female</td>\n      <td>2007</td>\n    </tr>\n    <tr>\n      <th>2</th>\n      <td>Adelie</td>\n      <td>Torgersen</td>\n      <td>40.3</td>\n      <td>18.0</td>\n      <td>195.0</td>\n      <td>3250.0</td>\n      <td>female</td>\n      <td>2007</td>\n    </tr>\n    <tr>\n      <th>3</th>\n      <td>Adelie</td>\n      <td>Torgersen</td>\n      <td>NaN</td>\n      <td>NaN</td>\n      <td>NaN</td>\n      <td>NaN</td>\n      <td>NaN</td>\n      <td>2007</td>\n    </tr>\n    <tr>\n      <th>4</th>\n      <td>Adelie</td>\n      <td>Torgersen</td>\n      <td>36.7</td>\n      <td>19.3</td>\n      <td>193.0</td>\n      <td>3450.0</td>\n      <td>female</td>\n      <td>2007</td>\n    </tr>\n  </tbody>\n</table>\n</div>"
     },
     "execution_count": 84,
     "metadata": {},
     "output_type": "execute_result"
    }
   ],
   "source": [
    "df.head()"
   ],
   "metadata": {
    "collapsed": false
   }
  },
  {
   "cell_type": "markdown",
   "source": [
    "<div  class=\"alert alert-block alert-info\">\n",
    "5. Ersetze in der Spalte sex \"Male\" in \"männlich\" und \"Female\" in \"weiblich.</div>"
   ],
   "metadata": {
    "collapsed": false
   }
  },
  {
   "cell_type": "code",
   "execution_count": 85,
   "outputs": [],
   "source": [
    "df[\"sex\"] = df.sex.replace([\"male\", \"female\"], [\"männlich\", \"weiblich\"])"
   ],
   "metadata": {
    "collapsed": false
   }
  },
  {
   "cell_type": "code",
   "execution_count": 81,
   "outputs": [],
   "source": [
    "df.sex.replace([\"male\", \"female\"], [\"männlich\", \"weiblich\"], inplace=True)\n",
    "# Alternativ auch zwei Schritte à la: df.sex = df.sex.replace(\"Male\", \"männlich)"
   ],
   "metadata": {
    "collapsed": false
   }
  },
  {
   "cell_type": "code",
   "execution_count": 86,
   "outputs": [
    {
     "data": {
      "text/plain": "0    männlich\n1    weiblich\n2    weiblich\n3         NaN\n4    weiblich\nName: sex, dtype: object"
     },
     "execution_count": 86,
     "metadata": {},
     "output_type": "execute_result"
    }
   ],
   "source": [
    "df.sex.head()"
   ],
   "metadata": {
    "collapsed": false
   }
  },
  {
   "cell_type": "markdown",
   "source": [
    "<div  class=\"alert alert-block alert-info\">\n",
    "6. Lasse dir nun in einem Histogramm die Gewichtsverteilung der Pinguine anzeigen. Das Histogramm soll über insgesamt 30 Balken verfügen. Optional: Füge für die bessere Sichtbarkeit eine Umrandungsfarbe der Balken hinzu.</div>"
   ],
   "metadata": {
    "collapsed": false
   }
  },
  {
   "cell_type": "code",
   "execution_count": 42,
   "outputs": [
    {
     "data": {
      "text/plain": "<Figure size 640x480 with 1 Axes>",
      "image/png": "[encoded data removed]"
     },
     "metadata": {},
     "output_type": "display_data"
    }
   ],
   "source": [
    "df.body_mass_g.plot.hist(bins=30, ec=\"black\");"
   ],
   "metadata": {
    "collapsed": false
   }
  },
  {
   "cell_type": "markdown",
   "source": [
    "<div  class=\"alert alert-block alert-info\">\n",
    "7. Lasse dir in einem Kuchediagramm den Anteil der Pinguine von den drei verschiedenen Inseln anzeigen. Wirf dazu zunächst alle nan über Bord. Nutze danach die Methode value_counts und bilde das Ergebnis ab.</div>"
   ],
   "metadata": {
    "collapsed": false
   }
  },
  {
   "cell_type": "code",
   "execution_count": 43,
   "outputs": [],
   "source": [
    "df = df.dropna()"
   ],
   "metadata": {
    "collapsed": false
   }
  },
  {
   "cell_type": "code",
   "execution_count": 44,
   "outputs": [
    {
     "data": {
      "text/plain": "Biscoe       163\nDream        123\nTorgersen     47\nName: island, dtype: int64"
     },
     "execution_count": 44,
     "metadata": {},
     "output_type": "execute_result"
    }
   ],
   "source": [
    "df[\"island\"].value_counts()"
   ],
   "metadata": {
    "collapsed": false
   }
  },
  {
   "cell_type": "code",
   "execution_count": 45,
   "outputs": [
    {
     "data": {
      "text/plain": "<Figure size 640x480 with 1 Axes>",
      "image/png": "[encoded data removed]"
     },
     "metadata": {},
     "output_type": "display_data"
    }
   ],
   "source": [
    "df[\"island\"].value_counts().plot.pie();"
   ],
   "metadata": {
    "collapsed": false
   }
  },
  {
   "cell_type": "markdown",
   "source": [
    "<div  class=\"alert alert-block alert-info\">\n",
    "8. Lasse dir in einem Streudiagramm Schnabellänge und Schnabelbreite der Tiere anzeigen. Die Schnabellänge soll sich dabei auf der x-Achse und die Schnabelbreite auf der y-Achse befinden..</div>"
   ],
   "metadata": {
    "collapsed": false
   }
  },
  {
   "cell_type": "code",
   "execution_count": 46,
   "outputs": [
    {
     "data": {
      "text/plain": "<Figure size 640x480 with 1 Axes>",
      "image/png": "[encoded data removed]"
     },
     "metadata": {},
     "output_type": "display_data"
    }
   ],
   "source": [
    "df.plot.scatter(y=\"bill_depth_mm\", x='bill_length_mm');"
   ],
   "metadata": {
    "collapsed": false
   }
  },
  {
   "cell_type": "markdown",
   "source": [
    "<div  class=\"alert alert-block alert-info\">\n",
    "9. Importiere den Titanic-Datensatz und lasse dir die oberen fünf Zeilen ausgeben. Dann lass dir alle Zeilen ausgeben, in denen John vorkommt. Lass dir den Teil des Datensatzes ausgeben sowie seine Länge. Nun lasse dir alle Zeilen ausgeben, die mit John starten. Miss wieder die Länge. Was ist der Unterschied?</div>"
   ],
   "metadata": {
    "collapsed": false
   }
  },
  {
   "cell_type": "code",
   "execution_count": 58,
   "outputs": [
    {
     "data": {
      "text/plain": "   PassengerId  Survived  Pclass  \\\n0            1         0       3   \n1            2         1       1   \n2            3         1       3   \n3            4         1       1   \n4            5         0       3   \n\n                                                Name     Sex   Age  SibSp  \\\n0                            Braund, Mr. Owen Harris    male  22.0      1   \n1  Cumings, Mrs. John Bradley (Florence Briggs Th...  female  38.0      1   \n2                             Heikkinen, Miss. Laina  female  26.0      0   \n3       Futrelle, Mrs. Jacques Heath (Lily May Peel)  female  35.0      1   \n4                           Allen, Mr. William Henry    male  35.0      0   \n\n   Parch            Ticket     Fare Cabin Embarked  \n0      0         A/5 21171   7.2500   NaN        S  \n1      0          PC 17599  71.2833   C85        C  \n2      0  STON/O2. 3101282   7.9250   NaN        S  \n3      0            113803  53.1000  C123        S  \n4      0            373450   8.0500   NaN        S  ",
      "text/html": "<div>\n<style scoped>\n    .dataframe tbody tr th:only-of-type {\n        vertical-align: middle;\n    }\n\n    .dataframe tbody tr th {\n        vertical-align: top;\n    }\n\n    .dataframe thead th {\n        text-align: right;\n    }\n</style>\n<table border=\"1\" class=\"dataframe\">\n  <thead>\n    <tr style=\"text-align: right;\">\n      <th></th>\n      <th>PassengerId</th>\n      <th>Survived</th>\n      <th>Pclass</th>\n      <th>Name</th>\n      <th>Sex</th>\n      <th>Age</th>\n      <th>SibSp</th>\n      <th>Parch</th>\n      <th>Ticket</th>\n      <th>Fare</th>\n      <th>Cabin</th>\n      <th>Embarked</th>\n    </tr>\n  </thead>\n  <tbody>\n    <tr>\n      <th>0</th>\n      <td>1</td>\n      <td>0</td>\n      <td>3</td>\n      <td>Braund, Mr. Owen Harris</td>\n      <td>male</td>\n      <td>22.0</td>\n      <td>1</td>\n      <td>0</td>\n      <td>A/5 21171</td>\n      <td>7.2500</td>\n      <td>NaN</td>\n      <td>S</td>\n    </tr>\n    <tr>\n      <th>1</th>\n      <td>2</td>\n      <td>1</td>\n      <td>1</td>\n      <td>Cumings, Mrs. John Bradley (Florence Briggs Th...</td>\n      <td>female</td>\n      <td>38.0</td>\n      <td>1</td>\n      <td>0</td>\n      <td>PC 17599</td>\n      <td>71.2833</td>\n      <td>C85</td>\n      <td>C</td>\n    </tr>\n    <tr>\n      <th>2</th>\n      <td>3</td>\n      <td>1</td>\n      <td>3</td>\n      <td>Heikkinen, Miss. Laina</td>\n      <td>female</td>\n      <td>26.0</td>\n      <td>0</td>\n      <td>0</td>\n      <td>STON/O2. 3101282</td>\n      <td>7.9250</td>\n      <td>NaN</td>\n      <td>S</td>\n    </tr>\n    <tr>\n      <th>3</th>\n      <td>4</td>\n      <td>1</td>\n      <td>1</td>\n      <td>Futrelle, Mrs. Jacques Heath (Lily May Peel)</td>\n      <td>female</td>\n      <td>35.0</td>\n      <td>1</td>\n      <td>0</td>\n      <td>113803</td>\n      <td>53.1000</td>\n      <td>C123</td>\n      <td>S</td>\n    </tr>\n    <tr>\n      <th>4</th>\n      <td>5</td>\n      <td>0</td>\n      <td>3</td>\n      <td>Allen, Mr. William Henry</td>\n      <td>male</td>\n      <td>35.0</td>\n      <td>0</td>\n      <td>0</td>\n      <td>373450</td>\n      <td>8.0500</td>\n      <td>NaN</td>\n      <td>S</td>\n    </tr>\n  </tbody>\n</table>\n</div>"
     },
     "execution_count": 58,
     "metadata": {},
     "output_type": "execute_result"
    }
   ],
   "source": [
    "titanic = pd.read_csv(\"datasets\\\\titanic.csv\")\n",
    "titanic.head()"
   ],
   "metadata": {
    "collapsed": false
   }
  },
  {
   "cell_type": "code",
   "execution_count": 69,
   "outputs": [
    {
     "data": {
      "text/plain": "     PassengerId  Survived  Pclass  \\\n1              2         1       1   \n8              9         1       3   \n41            42         0       2   \n45            46         0       3   \n98            99         1       2   \n112          113         0       3   \n117          118         0       2   \n160          161         0       3   \n162          163         0       3   \n165          166         1       3   \n168          169         0       1   \n172          173         1       3   \n188          189         0       3   \n212          213         0       3   \n226          227         1       2   \n227          228         0       3   \n302          303         0       3   \n324          325         0       3   \n328          329         1       3   \n401          402         0       3   \n418          419         0       2   \n467          468         0       1   \n527          528         0       1   \n548          549         0       3   \n549          550         1       2   \n550          551         1       1   \n563          564         0       3   \n572          573         1       1   \n574          575         0       3   \n581          582         1       1   \n583          584         0       1   \n586          587         0       2   \n594          595         0       2   \n597          598         0       3   \n613          614         0       3   \n624          625         0       3   \n657          658         0       3   \n694          695         0       1   \n698          699         0       1   \n700          701         1       1   \n719          720         0       3   \n733          734         0       2   \n760          761         0       3   \n765          766         1       1   \n783          784         0       3   \n818          819         0       3   \n822          823         0       1   \n825          826         0       3   \n848          849         0       2   \n864          865         0       2   \n869          870         1       3   \n888          889         0       3   \n\n                                                  Name     Sex   Age  SibSp  \\\n1    Cumings, Mrs. John Bradley (Florence Briggs Th...  female  38.0      1   \n8    Johnson, Mrs. Oscar W (Elisabeth Vilhelmina Berg)  female  27.0      0   \n41   Turpin, Mrs. William John Robert (Dorothy Ann ...  female  27.0      1   \n45                            Rogers, Mr. William John    male   NaN      0   \n98                Doling, Mrs. John T (Ada Julia Bone)  female  34.0      0   \n112                             Barton, Mr. David John    male  22.0      0   \n117                    Turpin, Mr. William John Robert    male  29.0      1   \n160                           Cribb, Mr. John Hatfield    male  44.0      0   \n162                         Bengtsson, Mr. John Viktor    male  26.0      0   \n165    Goldsmith, Master. Frank John William \"Frankie\"    male   9.0      0   \n168                                Baumann, Mr. John D    male   NaN      0   \n172                       Johnson, Miss. Eleanor Ileen  female   1.0      1   \n188                                   Bourke, Mr. John    male  40.0      1   \n212                             Perkin, Mr. John Henry    male  22.0      0   \n226                          Mellors, Mr. William John    male  19.0      0   \n227                    Lovell, Mr. John Hall (\"Henry\")    male  20.5      0   \n302                    Johnson, Mr. William Cahoone Jr    male  19.0      0   \n324                           Sage, Mr. George John Jr    male   NaN      8   \n328     Goldsmith, Mrs. Frank John (Emily Alice Brown)  female  31.0      1   \n401                                    Adams, Mr. John    male  26.0      0   \n418                         Matthews, Mr. William John    male  30.0      0   \n467                         Smart, Mr. John Montgomery    male  56.0      0   \n527                                 Farthing, Mr. John    male   NaN      0   \n548                          Goldsmith, Mr. Frank John    male  33.0      1   \n549                     Davies, Master. John Morgan Jr    male   8.0      1   \n550                        Thayer, Mr. John Borland Jr    male  17.0      0   \n563                                  Simmons, Mr. John    male   NaN      0   \n572                   Flynn, Mr. John Irwin (\"Irving\")    male  36.0      0   \n574                       Rush, Mr. Alfred George John    male  16.0      0   \n581  Thayer, Mrs. John Borland (Marian Longstreth M...  female  39.0      1   \n583                                Ross, Mr. John Hugo    male  36.0      0   \n586                            Jarvis, Mr. John Denzil    male  47.0      0   \n594                            Chapman, Mr. John Henry    male  37.0      1   \n597                                Johnson, Mr. Alfred    male  49.0      0   \n613                                   Horgan, Mr. John    male   NaN      0   \n624                        Bowen, Mr. David John \"Dai\"    male  21.0      0   \n657                      Bourke, Mrs. John (Catherine)  female  32.0      1   \n694                                    Weir, Col. John    male  60.0      0   \n698                           Thayer, Mr. John Borland    male  49.0      1   \n700  Astor, Mrs. John Jacob (Madeleine Talmadge Force)  female  18.0      1   \n719                       Johnson, Mr. Malkolm Joackim    male  33.0      0   \n733                         Berriman, Mr. William John    male  23.0      0   \n760                                 Garfirth, Mr. John    male   NaN      0   \n765               Hogeboom, Mrs. John C (Anna Andrews)  female  51.0      1   \n783                             Johnston, Mr. Andrew G    male   NaN      1   \n818                   Holm, Mr. John Fredrik Alexander    male  43.0      0   \n822                    Reuchlin, Jonkheer. John George    male  38.0      0   \n825                                    Flynn, Mr. John    male   NaN      0   \n848                                  Harper, Rev. John    male  28.0      0   \n864                             Gill, Mr. John William    male  24.0      0   \n869                    Johnson, Master. Harold Theodor    male   4.0      1   \n888           Johnston, Miss. Catherine Helen \"Carrie\"  female   NaN      1   \n\n     Parch           Ticket      Fare    Cabin Embarked  \n1        0         PC 17599   71.2833      C85        C  \n8        2           347742   11.1333      NaN        S  \n41       0            11668   21.0000      NaN        S  \n45       0  S.C./A.4. 23567    8.0500      NaN        S  \n98       1           231919   23.0000      NaN        S  \n112      0           324669    8.0500      NaN        S  \n117      0            11668   21.0000      NaN        S  \n160      1           371362   16.1000      NaN        S  \n162      0           347068    7.7750      NaN        S  \n165      2           363291   20.5250      NaN        S  \n168      0         PC 17318   25.9250      NaN        S  \n172      1           347742   11.1333      NaN        S  \n188      1           364849   15.5000      NaN        Q  \n212      0        A/5 21174    7.2500      NaN        S  \n226      0        SW/PP 751   10.5000      NaN        S  \n227      0        A/5 21173    7.2500      NaN        S  \n302      0             LINE    0.0000      NaN        S  \n324      2         CA. 2343   69.5500      NaN        S  \n328      1           363291   20.5250      NaN        S  \n401      0           341826    8.0500      NaN        S  \n418      0            28228   13.0000      NaN        S  \n467      0           113792   26.5500      NaN        S  \n527      0         PC 17483  221.7792      C95        S  \n548      1           363291   20.5250      NaN        S  \n549      1       C.A. 33112   36.7500      NaN        S  \n550      2            17421  110.8833      C70        C  \n563      0  SOTON/OQ 392082    8.0500      NaN        S  \n572      0         PC 17474   26.3875      E25        S  \n574      0       A/4. 20589    8.0500      NaN        S  \n581      1            17421  110.8833      C68        C  \n583      0            13049   40.1250      A10        C  \n586      0           237565   15.0000      NaN        S  \n594      0      SC/AH 29037   26.0000      NaN        S  \n597      0             LINE    0.0000      NaN        S  \n613      0           370377    7.7500      NaN        Q  \n624      0            54636   16.1000      NaN        S  \n657      1           364849   15.5000      NaN        Q  \n694      0           113800   26.5500      NaN        S  \n698      1            17421  110.8833      C68        C  \n700      0         PC 17757  227.5250  C62 C64        C  \n719      0           347062    7.7750      NaN        S  \n733      0            28425   13.0000      NaN        S  \n760      0           358585   14.5000      NaN        S  \n765      0            13502   77.9583      D11        S  \n783      2       W./C. 6607   23.4500      NaN        S  \n818      0           C 7075    6.4500      NaN        S  \n822      0            19972    0.0000      NaN        S  \n825      0           368323    6.9500      NaN        Q  \n848      1           248727   33.0000      NaN        S  \n864      0           233866   13.0000      NaN        S  \n869      1           347742   11.1333      NaN        S  \n888      2       W./C. 6607   23.4500      NaN        S  ",
      "text/html": "<div>\n<style scoped>\n    .dataframe tbody tr th:only-of-type {\n        vertical-align: middle;\n    }\n\n    .dataframe tbody tr th {\n        vertical-align: top;\n    }\n\n    .dataframe thead th {\n        text-align: right;\n    }\n</style>\n<table border=\"1\" class=\"dataframe\">\n  <thead>\n    <tr style=\"text-align: right;\">\n      <th></th>\n      <th>PassengerId</th>\n      <th>Survived</th>\n      <th>Pclass</th>\n      <th>Name</th>\n      <th>Sex</th>\n      <th>Age</th>\n      <th>SibSp</th>\n      <th>Parch</th>\n      <th>Ticket</th>\n      <th>Fare</th>\n      <th>Cabin</th>\n      <th>Embarked</th>\n    </tr>\n  </thead>\n  <tbody>\n    <tr>\n      <th>1</th>\n      <td>2</td>\n      <td>1</td>\n      <td>1</td>\n      <td>Cumings, Mrs. John Bradley (Florence Briggs Th...</td>\n      <td>female</td>\n      <td>38.0</td>\n      <td>1</td>\n      <td>0</td>\n      <td>PC 17599</td>\n      <td>71.2833</td>\n      <td>C85</td>\n      <td>C</td>\n    </tr>\n    <tr>\n      <th>8</th>\n      <td>9</td>\n      <td>1</td>\n      <td>3</td>\n      <td>Johnson, Mrs. Oscar W (Elisabeth Vilhelmina Berg)</td>\n      <td>female</td>\n      <td>27.0</td>\n      <td>0</td>\n      <td>2</td>\n      <td>347742</td>\n      <td>11.1333</td>\n      <td>NaN</td>\n      <td>S</td>\n    </tr>\n    <tr>\n      <th>41</th>\n      <td>42</td>\n      <td>0</td>\n      <td>2</td>\n      <td>Turpin, Mrs. William John Robert (Dorothy Ann ...</td>\n      <td>female</td>\n      <td>27.0</td>\n      <td>1</td>\n      <td>0</td>\n      <td>11668</td>\n      <td>21.0000</td>\n      <td>NaN</td>\n      <td>S</td>\n    </tr>\n    <tr>\n      <th>45</th>\n      <td>46</td>\n      <td>0</td>\n      <td>3</td>\n      <td>Rogers, Mr. William John</td>\n      <td>male</td>\n      <td>NaN</td>\n      <td>0</td>\n      <td>0</td>\n      <td>S.C./A.4. 23567</td>\n      <td>8.0500</td>\n      <td>NaN</td>\n      <td>S</td>\n    </tr>\n    <tr>\n      <th>98</th>\n      <td>99</td>\n      <td>1</td>\n      <td>2</td>\n      <td>Doling, Mrs. John T (Ada Julia Bone)</td>\n      <td>female</td>\n      <td>34.0</td>\n      <td>0</td>\n      <td>1</td>\n      <td>231919</td>\n      <td>23.0000</td>\n      <td>NaN</td>\n      <td>S</td>\n    </tr>\n    <tr>\n      <th>112</th>\n      <td>113</td>\n      <td>0</td>\n      <td>3</td>\n      <td>Barton, Mr. David John</td>\n      <td>male</td>\n      <td>22.0</td>\n      <td>0</td>\n      <td>0</td>\n      <td>324669</td>\n      <td>8.0500</td>\n      <td>NaN</td>\n      <td>S</td>\n    </tr>\n    <tr>\n      <th>117</th>\n      <td>118</td>\n      <td>0</td>\n      <td>2</td>\n      <td>Turpin, Mr. William John Robert</td>\n      <td>male</td>\n      <td>29.0</td>\n      <td>1</td>\n      <td>0</td>\n      <td>11668</td>\n      <td>21.0000</td>\n      <td>NaN</td>\n      <td>S</td>\n    </tr>\n    <tr>\n      <th>160</th>\n      <td>161</td>\n      <td>0</td>\n      <td>3</td>\n      <td>Cribb, Mr. John Hatfield</td>\n      <td>male</td>\n      <td>44.0</td>\n      <td>0</td>\n      <td>1</td>\n      <td>371362</td>\n      <td>16.1000</td>\n      <td>NaN</td>\n      <td>S</td>\n    </tr>\n    <tr>\n      <th>162</th>\n      <td>163</td>\n      <td>0</td>\n      <td>3</td>\n      <td>Bengtsson, Mr. John Viktor</td>\n      <td>male</td>\n      <td>26.0</td>\n      <td>0</td>\n      <td>0</td>\n      <td>347068</td>\n      <td>7.7750</td>\n      <td>NaN</td>\n      <td>S</td>\n    </tr>\n    <tr>\n      <th>165</th>\n      <td>166</td>\n      <td>1</td>\n      <td>3</td>\n      <td>Goldsmith, Master. Frank John William \"Frankie\"</td>\n      <td>male</td>\n      <td>9.0</td>\n      <td>0</td>\n      <td>2</td>\n      <td>363291</td>\n      <td>20.5250</td>\n      <td>NaN</td>\n      <td>S</td>\n    </tr>\n    <tr>\n      <th>168</th>\n      <td>169</td>\n      <td>0</td>\n      <td>1</td>\n      <td>Baumann, Mr. John D</td>\n      <td>male</td>\n      <td>NaN</td>\n      <td>0</td>\n      <td>0</td>\n      <td>PC 17318</td>\n      <td>25.9250</td>\n      <td>NaN</td>\n      <td>S</td>\n    </tr>\n    <tr>\n      <th>172</th>\n      <td>173</td>\n      <td>1</td>\n      <td>3</td>\n      <td>Johnson, Miss. Eleanor Ileen</td>\n      <td>female</td>\n      <td>1.0</td>\n      <td>1</td>\n      <td>1</td>\n      <td>347742</td>\n      <td>11.1333</td>\n      <td>NaN</td>\n      <td>S</td>\n    </tr>\n    <tr>\n      <th>188</th>\n      <td>189</td>\n      <td>0</td>\n      <td>3</td>\n      <td>Bourke, Mr. John</td>\n      <td>male</td>\n      <td>40.0</td>\n      <td>1</td>\n      <td>1</td>\n      <td>364849</td>\n      <td>15.5000</td>\n      <td>NaN</td>\n      <td>Q</td>\n    </tr>\n    <tr>\n      <th>212</th>\n      <td>213</td>\n      <td>0</td>\n      <td>3</td>\n      <td>Perkin, Mr. John Henry</td>\n      <td>male</td>\n      <td>22.0</td>\n      <td>0</td>\n      <td>0</td>\n      <td>A/5 21174</td>\n      <td>7.2500</td>\n      <td>NaN</td>\n      <td>S</td>\n    </tr>\n    <tr>\n      <th>226</th>\n      <td>227</td>\n      <td>1</td>\n      <td>2</td>\n      <td>Mellors, Mr. William John</td>\n      <td>male</td>\n      <td>19.0</td>\n      <td>0</td>\n      <td>0</td>\n      <td>SW/PP 751</td>\n      <td>10.5000</td>\n      <td>NaN</td>\n      <td>S</td>\n    </tr>\n    <tr>\n      <th>227</th>\n      <td>228</td>\n      <td>0</td>\n      <td>3</td>\n      <td>Lovell, Mr. John Hall (\"Henry\")</td>\n      <td>male</td>\n      <td>20.5</td>\n      <td>0</td>\n      <td>0</td>\n      <td>A/5 21173</td>\n      <td>7.2500</td>\n      <td>NaN</td>\n      <td>S</td>\n    </tr>\n    <tr>\n      <th>302</th>\n      <td>303</td>\n      <td>0</td>\n      <td>3</td>\n      <td>Johnson, Mr. William Cahoone Jr</td>\n      <td>male</td>\n      <td>19.0</td>\n      <td>0</td>\n      <td>0</td>\n      <td>LINE</td>\n      <td>0.0000</td>\n      <td>NaN</td>\n      <td>S</td>\n    </tr>\n    <tr>\n      <th>324</th>\n      <td>325</td>\n      <td>0</td>\n      <td>3</td>\n      <td>Sage, Mr. George John Jr</td>\n      <td>male</td>\n      <td>NaN</td>\n      <td>8</td>\n      <td>2</td>\n      <td>CA. 2343</td>\n      <td>69.5500</td>\n      <td>NaN</td>\n      <td>S</td>\n    </tr>\n    <tr>\n      <th>328</th>\n      <td>329</td>\n      <td>1</td>\n      <td>3</td>\n      <td>Goldsmith, Mrs. Frank John (Emily Alice Brown)</td>\n      <td>female</td>\n      <td>31.0</td>\n      <td>1</td>\n      <td>1</td>\n      <td>363291</td>\n      <td>20.5250</td>\n      <td>NaN</td>\n      <td>S</td>\n    </tr>\n    <tr>\n      <th>401</th>\n      <td>402</td>\n      <td>0</td>\n      <td>3</td>\n      <td>Adams, Mr. John</td>\n      <td>male</td>\n      <td>26.0</td>\n      <td>0</td>\n      <td>0</td>\n      <td>341826</td>\n      <td>8.0500</td>\n      <td>NaN</td>\n      <td>S</td>\n    </tr>\n    <tr>\n      <th>418</th>\n      <td>419</td>\n      <td>0</td>\n      <td>2</td>\n      <td>Matthews, Mr. William John</td>\n      <td>male</td>\n      <td>30.0</td>\n      <td>0</td>\n      <td>0</td>\n      <td>28228</td>\n      <td>13.0000</td>\n      <td>NaN</td>\n      <td>S</td>\n    </tr>\n    <tr>\n      <th>467</th>\n      <td>468</td>\n      <td>0</td>\n      <td>1</td>\n      <td>Smart, Mr. John Montgomery</td>\n      <td>male</td>\n      <td>56.0</td>\n      <td>0</td>\n      <td>0</td>\n      <td>113792</td>\n      <td>26.5500</td>\n      <td>NaN</td>\n      <td>S</td>\n    </tr>\n    <tr>\n      <th>527</th>\n      <td>528</td>\n      <td>0</td>\n      <td>1</td>\n      <td>Farthing, Mr. John</td>\n      <td>male</td>\n      <td>NaN</td>\n      <td>0</td>\n      <td>0</td>\n      <td>PC 17483</td>\n      <td>221.7792</td>\n      <td>C95</td>\n      <td>S</td>\n    </tr>\n    <tr>\n      <th>548</th>\n      <td>549</td>\n      <td>0</td>\n      <td>3</td>\n      <td>Goldsmith, Mr. Frank John</td>\n      <td>male</td>\n      <td>33.0</td>\n      <td>1</td>\n      <td>1</td>\n      <td>363291</td>\n      <td>20.5250</td>\n      <td>NaN</td>\n      <td>S</td>\n    </tr>\n    <tr>\n      <th>549</th>\n      <td>550</td>\n      <td>1</td>\n      <td>2</td>\n      <td>Davies, Master. John Morgan Jr</td>\n      <td>male</td>\n      <td>8.0</td>\n      <td>1</td>\n      <td>1</td>\n      <td>C.A. 33112</td>\n      <td>36.7500</td>\n      <td>NaN</td>\n      <td>S</td>\n    </tr>\n    <tr>\n      <th>550</th>\n      <td>551</td>\n      <td>1</td>\n      <td>1</td>\n      <td>Thayer, Mr. John Borland Jr</td>\n      <td>male</td>\n      <td>17.0</td>\n      <td>0</td>\n      <td>2</td>\n      <td>17421</td>\n      <td>110.8833</td>\n      <td>C70</td>\n      <td>C</td>\n    </tr>\n    <tr>\n      <th>563</th>\n      <td>564</td>\n      <td>0</td>\n      <td>3</td>\n      <td>Simmons, Mr. John</td>\n      <td>male</td>\n      <td>NaN</td>\n      <td>0</td>\n      <td>0</td>\n      <td>SOTON/OQ 392082</td>\n      <td>8.0500</td>\n      <td>NaN</td>\n      <td>S</td>\n    </tr>\n    <tr>\n      <th>572</th>\n      <td>573</td>\n      <td>1</td>\n      <td>1</td>\n      <td>Flynn, Mr. John Irwin (\"Irving\")</td>\n      <td>male</td>\n      <td>36.0</td>\n      <td>0</td>\n      <td>0</td>\n      <td>PC 17474</td>\n      <td>26.3875</td>\n      <td>E25</td>\n      <td>S</td>\n    </tr>\n    <tr>\n      <th>574</th>\n      <td>575</td>\n      <td>0</td>\n      <td>3</td>\n      <td>Rush, Mr. Alfred George John</td>\n      <td>male</td>\n      <td>16.0</td>\n      <td>0</td>\n      <td>0</td>\n      <td>A/4. 20589</td>\n      <td>8.0500</td>\n      <td>NaN</td>\n      <td>S</td>\n    </tr>\n    <tr>\n      <th>581</th>\n      <td>582</td>\n      <td>1</td>\n      <td>1</td>\n      <td>Thayer, Mrs. John Borland (Marian Longstreth M...</td>\n      <td>female</td>\n      <td>39.0</td>\n      <td>1</td>\n      <td>1</td>\n      <td>17421</td>\n      <td>110.8833</td>\n      <td>C68</td>\n      <td>C</td>\n    </tr>\n    <tr>\n      <th>583</th>\n      <td>584</td>\n      <td>0</td>\n      <td>1</td>\n      <td>Ross, Mr. John Hugo</td>\n      <td>male</td>\n      <td>36.0</td>\n      <td>0</td>\n      <td>0</td>\n      <td>13049</td>\n      <td>40.1250</td>\n      <td>A10</td>\n      <td>C</td>\n    </tr>\n    <tr>\n      <th>586</th>\n      <td>587</td>\n      <td>0</td>\n      <td>2</td>\n      <td>Jarvis, Mr. John Denzil</td>\n      <td>male</td>\n      <td>47.0</td>\n      <td>0</td>\n      <td>0</td>\n      <td>237565</td>\n      <td>15.0000</td>\n      <td>NaN</td>\n      <td>S</td>\n    </tr>\n    <tr>\n      <th>594</th>\n      <td>595</td>\n      <td>0</td>\n      <td>2</td>\n      <td>Chapman, Mr. John Henry</td>\n      <td>male</td>\n      <td>37.0</td>\n      <td>1</td>\n      <td>0</td>\n      <td>SC/AH 29037</td>\n      <td>26.0000</td>\n      <td>NaN</td>\n      <td>S</td>\n    </tr>\n    <tr>\n      <th>597</th>\n      <td>598</td>\n      <td>0</td>\n      <td>3</td>\n      <td>Johnson, Mr. Alfred</td>\n      <td>male</td>\n      <td>49.0</td>\n      <td>0</td>\n      <td>0</td>\n      <td>LINE</td>\n      <td>0.0000</td>\n      <td>NaN</td>\n      <td>S</td>\n    </tr>\n    <tr>\n      <th>613</th>\n      <td>614</td>\n      <td>0</td>\n      <td>3</td>\n      <td>Horgan, Mr. John</td>\n      <td>male</td>\n      <td>NaN</td>\n      <td>0</td>\n      <td>0</td>\n      <td>370377</td>\n      <td>7.7500</td>\n      <td>NaN</td>\n      <td>Q</td>\n    </tr>\n    <tr>\n      <th>624</th>\n      <td>625</td>\n      <td>0</td>\n      <td>3</td>\n      <td>Bowen, Mr. David John \"Dai\"</td>\n      <td>male</td>\n      <td>21.0</td>\n      <td>0</td>\n      <td>0</td>\n      <td>54636</td>\n      <td>16.1000</td>\n      <td>NaN</td>\n      <td>S</td>\n    </tr>\n    <tr>\n      <th>657</th>\n      <td>658</td>\n      <td>0</td>\n      <td>3</td>\n      <td>Bourke, Mrs. John (Catherine)</td>\n      <td>female</td>\n      <td>32.0</td>\n      <td>1</td>\n      <td>1</td>\n      <td>364849</td>\n      <td>15.5000</td>\n      <td>NaN</td>\n      <td>Q</td>\n    </tr>\n    <tr>\n      <th>694</th>\n      <td>695</td>\n      <td>0</td>\n      <td>1</td>\n      <td>Weir, Col. John</td>\n      <td>male</td>\n      <td>60.0</td>\n      <td>0</td>\n      <td>0</td>\n      <td>113800</td>\n      <td>26.5500</td>\n      <td>NaN</td>\n      <td>S</td>\n    </tr>\n    <tr>\n      <th>698</th>\n      <td>699</td>\n      <td>0</td>\n      <td>1</td>\n      <td>Thayer, Mr. John Borland</td>\n      <td>male</td>\n      <td>49.0</td>\n      <td>1</td>\n      <td>1</td>\n      <td>17421</td>\n      <td>110.8833</td>\n      <td>C68</td>\n      <td>C</td>\n    </tr>\n    <tr>\n      <th>700</th>\n      <td>701</td>\n      <td>1</td>\n      <td>1</td>\n      <td>Astor, Mrs. John Jacob (Madeleine Talmadge Force)</td>\n      <td>female</td>\n      <td>18.0</td>\n      <td>1</td>\n      <td>0</td>\n      <td>PC 17757</td>\n      <td>227.5250</td>\n      <td>C62 C64</td>\n      <td>C</td>\n    </tr>\n    <tr>\n      <th>719</th>\n      <td>720</td>\n      <td>0</td>\n      <td>3</td>\n      <td>Johnson, Mr. Malkolm Joackim</td>\n      <td>male</td>\n      <td>33.0</td>\n      <td>0</td>\n      <td>0</td>\n      <td>347062</td>\n      <td>7.7750</td>\n      <td>NaN</td>\n      <td>S</td>\n    </tr>\n    <tr>\n      <th>733</th>\n      <td>734</td>\n      <td>0</td>\n      <td>2</td>\n      <td>Berriman, Mr. William John</td>\n      <td>male</td>\n      <td>23.0</td>\n      <td>0</td>\n      <td>0</td>\n      <td>28425</td>\n      <td>13.0000</td>\n      <td>NaN</td>\n      <td>S</td>\n    </tr>\n    <tr>\n      <th>760</th>\n      <td>761</td>\n      <td>0</td>\n      <td>3</td>\n      <td>Garfirth, Mr. John</td>\n      <td>male</td>\n      <td>NaN</td>\n      <td>0</td>\n      <td>0</td>\n      <td>358585</td>\n      <td>14.5000</td>\n      <td>NaN</td>\n      <td>S</td>\n    </tr>\n    <tr>\n      <th>765</th>\n      <td>766</td>\n      <td>1</td>\n      <td>1</td>\n      <td>Hogeboom, Mrs. John C (Anna Andrews)</td>\n      <td>female</td>\n      <td>51.0</td>\n      <td>1</td>\n      <td>0</td>\n      <td>13502</td>\n      <td>77.9583</td>\n      <td>D11</td>\n      <td>S</td>\n    </tr>\n    <tr>\n      <th>783</th>\n      <td>784</td>\n      <td>0</td>\n      <td>3</td>\n      <td>Johnston, Mr. Andrew G</td>\n      <td>male</td>\n      <td>NaN</td>\n      <td>1</td>\n      <td>2</td>\n      <td>W./C. 6607</td>\n      <td>23.4500</td>\n      <td>NaN</td>\n      <td>S</td>\n    </tr>\n    <tr>\n      <th>818</th>\n      <td>819</td>\n      <td>0</td>\n      <td>3</td>\n      <td>Holm, Mr. John Fredrik Alexander</td>\n      <td>male</td>\n      <td>43.0</td>\n      <td>0</td>\n      <td>0</td>\n      <td>C 7075</td>\n      <td>6.4500</td>\n      <td>NaN</td>\n      <td>S</td>\n    </tr>\n    <tr>\n      <th>822</th>\n      <td>823</td>\n      <td>0</td>\n      <td>1</td>\n      <td>Reuchlin, Jonkheer. John George</td>\n      <td>male</td>\n      <td>38.0</td>\n      <td>0</td>\n      <td>0</td>\n      <td>19972</td>\n      <td>0.0000</td>\n      <td>NaN</td>\n      <td>S</td>\n    </tr>\n    <tr>\n      <th>825</th>\n      <td>826</td>\n      <td>0</td>\n      <td>3</td>\n      <td>Flynn, Mr. John</td>\n      <td>male</td>\n      <td>NaN</td>\n      <td>0</td>\n      <td>0</td>\n      <td>368323</td>\n      <td>6.9500</td>\n      <td>NaN</td>\n      <td>Q</td>\n    </tr>\n    <tr>\n      <th>848</th>\n      <td>849</td>\n      <td>0</td>\n      <td>2</td>\n      <td>Harper, Rev. John</td>\n      <td>male</td>\n      <td>28.0</td>\n      <td>0</td>\n      <td>1</td>\n      <td>248727</td>\n      <td>33.0000</td>\n      <td>NaN</td>\n      <td>S</td>\n    </tr>\n    <tr>\n      <th>864</th>\n      <td>865</td>\n      <td>0</td>\n      <td>2</td>\n      <td>Gill, Mr. John William</td>\n      <td>male</td>\n      <td>24.0</td>\n      <td>0</td>\n      <td>0</td>\n      <td>233866</td>\n      <td>13.0000</td>\n      <td>NaN</td>\n      <td>S</td>\n    </tr>\n    <tr>\n      <th>869</th>\n      <td>870</td>\n      <td>1</td>\n      <td>3</td>\n      <td>Johnson, Master. Harold Theodor</td>\n      <td>male</td>\n      <td>4.0</td>\n      <td>1</td>\n      <td>1</td>\n      <td>347742</td>\n      <td>11.1333</td>\n      <td>NaN</td>\n      <td>S</td>\n    </tr>\n    <tr>\n      <th>888</th>\n      <td>889</td>\n      <td>0</td>\n      <td>3</td>\n      <td>Johnston, Miss. Catherine Helen \"Carrie\"</td>\n      <td>female</td>\n      <td>NaN</td>\n      <td>1</td>\n      <td>2</td>\n      <td>W./C. 6607</td>\n      <td>23.4500</td>\n      <td>NaN</td>\n      <td>S</td>\n    </tr>\n  </tbody>\n</table>\n</div>"
     },
     "execution_count": 69,
     "metadata": {},
     "output_type": "execute_result"
    }
   ],
   "source": [
    "titanic_johns = titanic[titanic[\"Name\"].str.contains(\"John\")]\n",
    "titanic_johns"
   ],
   "metadata": {
    "collapsed": false
   }
  },
  {
   "cell_type": "code",
   "execution_count": 61,
   "outputs": [
    {
     "data": {
      "text/plain": "52"
     },
     "execution_count": 61,
     "metadata": {},
     "output_type": "execute_result"
    }
   ],
   "source": [
    "len(titanic_johns)"
   ],
   "metadata": {
    "collapsed": false
   }
  },
  {
   "cell_type": "code",
   "execution_count": 71,
   "outputs": [
    {
     "data": {
      "text/plain": "     PassengerId  Survived  Pclass  \\\n8              9         1       3   \n172          173         1       3   \n302          303         0       3   \n597          598         0       3   \n719          720         0       3   \n783          784         0       3   \n869          870         1       3   \n888          889         0       3   \n\n                                                  Name     Sex   Age  SibSp  \\\n8    Johnson, Mrs. Oscar W (Elisabeth Vilhelmina Berg)  female  27.0      0   \n172                       Johnson, Miss. Eleanor Ileen  female   1.0      1   \n302                    Johnson, Mr. William Cahoone Jr    male  19.0      0   \n597                                Johnson, Mr. Alfred    male  49.0      0   \n719                       Johnson, Mr. Malkolm Joackim    male  33.0      0   \n783                             Johnston, Mr. Andrew G    male   NaN      1   \n869                    Johnson, Master. Harold Theodor    male   4.0      1   \n888           Johnston, Miss. Catherine Helen \"Carrie\"  female   NaN      1   \n\n     Parch      Ticket     Fare Cabin Embarked  \n8        2      347742  11.1333   NaN        S  \n172      1      347742  11.1333   NaN        S  \n302      0        LINE   0.0000   NaN        S  \n597      0        LINE   0.0000   NaN        S  \n719      0      347062   7.7750   NaN        S  \n783      2  W./C. 6607  23.4500   NaN        S  \n869      1      347742  11.1333   NaN        S  \n888      2  W./C. 6607  23.4500   NaN        S  ",
      "text/html": "<div>\n<style scoped>\n    .dataframe tbody tr th:only-of-type {\n        vertical-align: middle;\n    }\n\n    .dataframe tbody tr th {\n        vertical-align: top;\n    }\n\n    .dataframe thead th {\n        text-align: right;\n    }\n</style>\n<table border=\"1\" class=\"dataframe\">\n  <thead>\n    <tr style=\"text-align: right;\">\n      <th></th>\n      <th>PassengerId</th>\n      <th>Survived</th>\n      <th>Pclass</th>\n      <th>Name</th>\n      <th>Sex</th>\n      <th>Age</th>\n      <th>SibSp</th>\n      <th>Parch</th>\n      <th>Ticket</th>\n      <th>Fare</th>\n      <th>Cabin</th>\n      <th>Embarked</th>\n    </tr>\n  </thead>\n  <tbody>\n    <tr>\n      <th>8</th>\n      <td>9</td>\n      <td>1</td>\n      <td>3</td>\n      <td>Johnson, Mrs. Oscar W (Elisabeth Vilhelmina Berg)</td>\n      <td>female</td>\n      <td>27.0</td>\n      <td>0</td>\n      <td>2</td>\n      <td>347742</td>\n      <td>11.1333</td>\n      <td>NaN</td>\n      <td>S</td>\n    </tr>\n    <tr>\n      <th>172</th>\n      <td>173</td>\n      <td>1</td>\n      <td>3</td>\n      <td>Johnson, Miss. Eleanor Ileen</td>\n      <td>female</td>\n      <td>1.0</td>\n      <td>1</td>\n      <td>1</td>\n      <td>347742</td>\n      <td>11.1333</td>\n      <td>NaN</td>\n      <td>S</td>\n    </tr>\n    <tr>\n      <th>302</th>\n      <td>303</td>\n      <td>0</td>\n      <td>3</td>\n      <td>Johnson, Mr. William Cahoone Jr</td>\n      <td>male</td>\n      <td>19.0</td>\n      <td>0</td>\n      <td>0</td>\n      <td>LINE</td>\n      <td>0.0000</td>\n      <td>NaN</td>\n      <td>S</td>\n    </tr>\n    <tr>\n      <th>597</th>\n      <td>598</td>\n      <td>0</td>\n      <td>3</td>\n      <td>Johnson, Mr. Alfred</td>\n      <td>male</td>\n      <td>49.0</td>\n      <td>0</td>\n      <td>0</td>\n      <td>LINE</td>\n      <td>0.0000</td>\n      <td>NaN</td>\n      <td>S</td>\n    </tr>\n    <tr>\n      <th>719</th>\n      <td>720</td>\n      <td>0</td>\n      <td>3</td>\n      <td>Johnson, Mr. Malkolm Joackim</td>\n      <td>male</td>\n      <td>33.0</td>\n      <td>0</td>\n      <td>0</td>\n      <td>347062</td>\n      <td>7.7750</td>\n      <td>NaN</td>\n      <td>S</td>\n    </tr>\n    <tr>\n      <th>783</th>\n      <td>784</td>\n      <td>0</td>\n      <td>3</td>\n      <td>Johnston, Mr. Andrew G</td>\n      <td>male</td>\n      <td>NaN</td>\n      <td>1</td>\n      <td>2</td>\n      <td>W./C. 6607</td>\n      <td>23.4500</td>\n      <td>NaN</td>\n      <td>S</td>\n    </tr>\n    <tr>\n      <th>869</th>\n      <td>870</td>\n      <td>1</td>\n      <td>3</td>\n      <td>Johnson, Master. Harold Theodor</td>\n      <td>male</td>\n      <td>4.0</td>\n      <td>1</td>\n      <td>1</td>\n      <td>347742</td>\n      <td>11.1333</td>\n      <td>NaN</td>\n      <td>S</td>\n    </tr>\n    <tr>\n      <th>888</th>\n      <td>889</td>\n      <td>0</td>\n      <td>3</td>\n      <td>Johnston, Miss. Catherine Helen \"Carrie\"</td>\n      <td>female</td>\n      <td>NaN</td>\n      <td>1</td>\n      <td>2</td>\n      <td>W./C. 6607</td>\n      <td>23.4500</td>\n      <td>NaN</td>\n      <td>S</td>\n    </tr>\n  </tbody>\n</table>\n</div>"
     },
     "execution_count": 71,
     "metadata": {},
     "output_type": "execute_result"
    }
   ],
   "source": [
    "john_starts = titanic[titanic[\"Name\"].str.startswith(\"John\")]\n",
    "john_starts"
   ],
   "metadata": {
    "collapsed": false
   }
  },
  {
   "cell_type": "code",
   "execution_count": 72,
   "outputs": [
    {
     "data": {
      "text/plain": "8"
     },
     "execution_count": 72,
     "metadata": {},
     "output_type": "execute_result"
    }
   ],
   "source": [
    "len(john_starts)"
   ],
   "metadata": {
    "collapsed": false
   }
  },
  {
   "cell_type": "code",
   "execution_count": 73,
   "outputs": [],
   "source": [
    "# startswith liefert nur solche Personen, die mit John anfangen, contains auch solche, bei denen John an beliebiger Position im String vorkommt."
   ],
   "metadata": {
    "collapsed": false
   }
  },
  {
   "cell_type": "markdown",
   "source": [
    "<div  class=\"alert alert-block alert-info\">\n",
    "9. Dir liegt eine Liste mit IBANS und anderen unwichtigen Dingen vor. Gewinne daraus mithilfe eines regulären Ausdrucks (regular expression) jeweils nur die IBANs! Diese setzen sich zusammen aus zwei großgeschriebenen Buchstaben am Anfang und einer Kette von Ziffern, die mindestens 5 und maximal 30 Zeichen lang ist.</div>"
   ],
   "metadata": {
    "collapsed": false
   }
  },
  {
   "cell_type": "code",
   "execution_count": 47,
   "outputs": [],
   "source": [
    "iban_string = \"\"\"DE02120300000000202051\tDEUTSCHE KREDITBANK BERLIN\tBYLADEM1001\t12030000\t0000202051\n",
    "DE02500105170137075030\tING-DIBA\tINGDDEFF\t50010517\t0137075030\n",
    "DE02100500000054540402\tLANDESBANK BERLIN\tBELADEBE\t10050000\t0054540402\n",
    "DE02300209000106531065\tTARGOBANK\tCMCIDEDD\t30020900\t0106531065\n",
    "DE02200505501015871393\tHAMBURGER SPARKASSE\tHASPDEHH\t20050550\t1015871393\n",
    "DE02100100100006820101\tPOSTBANK\tPBNKDEFF\t10010010\t0006820101\n",
    "DE02300606010002474689\tAPOBANK\tDAAEDEDD\t30060601\t0002474689\n",
    "DE02600501010002034304\tLANDESBANK BADEN-WÜRTTEMBERG\tSOLADEST600\t60050101\t0002034304\n",
    "DE02700202700010108669\tUNICREDIT BANK - HYPOVEREINSBANK\tHYVEDEMM\t70020270\t0010108669\n",
    "DE02700100800030876808\tPOSTBANK (GIRO)\tPBNKDEFF\t70010080\t0030876808\n",
    "DE02370502990000684712\tKREISSPARKASSE KÖLN\tCOKSDE33\t37050299\t0000684712\n",
    "DE88100900001234567892\tBERLINER VOLKSBANK\tBEVODEBB\t10090000\t1234567892\n",
    "DE02701500000000594937\tSTADTSPARKASSE MÜNCHEN\tSSKMDEMM\t70150000\t0000594937\n",
    "IBAN-Beispiele für Österreich\n",
    "IBAN\tBank\tBIC-Code\tBankleitzahl\tKontonummer\n",
    "AT026000000001349870\tBAWAG P.S.K.\tOPSKATWW\t60000\t00001349870\n",
    "AT021420020010147558\tEASYBANK AG\tEASYATW1\t14200\t20010147558\n",
    "AT023200000000641605\tRAIFFEISENLANDESBANK NIEDERÖSTERREICH-WIEN AG\tRLNWATWW\t32000\t00000641605\n",
    "AT021200000703447144\tUNICREDIT BANK AUSTRIA AG\tBKAUATWW\t12000\t00703447144\n",
    "AT022011100003429660\tERSTE BANK DER OESTERREICHISCHEN SPARKASSEN AG\tGIBAATWW\t20111\t00003429660\n",
    "AT022081500000698597\tSTEIERMÄRKISCHE BANK UND SPARKASSEN AG\tSTSPAT2G\t20815\t00000698597\n",
    "AT022040400040102634\tSALZBURGER SPARKASSE BANK AG\tSBGSAT2S\t20404\t00040102634\n",
    "AT023400000002613800\tRAIFFEISENLANDESBANK OBERÖSTERREICH AG\tRZOOAT2L\t34000\t00002613800\n",
    "AT022032032102118431\tALLGEMEINE SPARKASSE OBERÖSTERREICH BANK AG\tASPKAT2L\t20320\t32102118431\n",
    "AT023500000001070671\tRAIFFEISENVERBAND SALZBURG EGEN\tRVSAAT2S\t35000\t00001070671\n",
    "AT021860000012387890\tVOLKSKREDITBANK AG\tVKBLAT2L\t18600\t00012387890\n",
    "AT023600000000679514\tRAIFFEISEN-LANDESBANK TIROL AG\tRZTIAT22\t36000\t00000679514\n",
    "AT021700000432040976\tBKS BANK AG\tBFKKAT2K\t17000\t00432040976\n",
    "AT022050303300646365\tTIROLER SPARKASSE BANKAG INNSBRUCK\tSPIHAT22\t20503\t03300646365\n",
    "AT023225000000704957\tRAIFFEISEN REGIONALBANK MÖDLING EGEN\tRLNWATWWGTD\t32250\t00000704957\n",
    "IBAN\tBank\tBIC-Code\tBC-Nummer\tKontonummer\n",
    "CH0209000000100013997\tPOSTFINANCE AG\tPOFICHBE\t09000\t000100013997\n",
    "CH0204835000626882001\tCREDIT SUISSE AG\tCRESCHZZ80A\t04835\t000626882001\n",
    "CH0200700110000387896\tZÜRCHER KANTONALBANK\tZKBKCHZZ80A\t00700\t110000387896\n",
    "CH0208401000051138778\tMIGROS BANK AG\tMIGRCHZZ\t08401\t000051138778\n",
    "CH0200767000C51001987\tBANQUE CANTONALE VAUDOISE\tBCVLCH2L\t00767\t000C51001987\n",
    "CH020024024014511740P\tUBS SA\tUBSWCHZH12A\t00240\t24014511740P\n",
    "CH0200790016271403331\tBERNER KANTONALBANK AG\tKBBECH22\t00790\t016271403331\n",
    "CH0200781125534343504\tST. GALLER KANTONALBANK AG\tKBSGCH22\t00781\t125534343504\n",
    "CH020023023012625140U\tUBS AG\tUBSWCHZH80A\t00230\t23012625140U\n",
    "CH0200769016143198123\tBASELLANDSCHAFTLICHE\tKANTONALBANK BLKBCH22\t00769\t016143198123\n",
    "CH2200784102000123454\tTHURGAUER KANTONALBANK\tKBTGCH22\t00784\t102000123454\n",
    "CH0206300016120442405\tVALIANT BANK AG\tVABECH22\t06300\t016120442405\n",
    "CH0200761016090504437\tAARGAUISCHE KANTONALBANK\tKBAGCH22\t00761\t016090504437\n",
    "CH0200778010152237210\tLUZERNER KANTONALBANK AG\tLUKBCH2260A\t00778\t010152237210\n",
    "CH9305881020624751001\tNEUE AARGAUER BANK AG\tAHHBCH22\t05881\t020624751001\n",
    "IBAN-Beispiele Liechtenstein\n",
    "IBAN\tBank\tBIC-Code\tBC-Nummer\tKontonummer\n",
    "LI0208800000017197386\tLIECHTENSTEINISCHE LANDESBANK AG\tLILALI2X\t08800\t000017197386\n",
    "LI0208805502400560249\tVP BANK LTD\tVPBVLI2X\t08805\t502400560249\n",
    "LI02088100000191010AC\tLGT BANK AG\tBLFLLI2X\t08810\t0000191010AC\n",
    "LI0308803103143000000\tVALARTIS BANK AG\tHYIBLI22\t08803\t103143000000\n",
    "LI0508812105028570001\tVOLKSBANK AG\tVOAGLI22\t08812\t105028570001\n",
    "LI0608808000220182703\tCENTRUM BANK AG\tCBKVLI2X\t08808\t000220182703\n",
    "LI15088110605699K002E\tBANK FRICK & CO. AG\tBFRILI22\t08811\t0605699K002E\n",
    "LI0608813201408880001\tRAIFFEISEN PRIVATBANK LIECHTENSTEIN AG\tRAIBLI22\t08813\t201408880001\n",
    "LI2608802001003488101\tNEUE BANK AG\tNBANLI22\t08802\t001003488101\n",
    "LI5708801200185100814\tBANK ALPINUM AG\tBALPLI22\t08801\t200185100814\n",
    "\"\"\""
   ],
   "metadata": {
    "collapsed": false
   }
  },
  {
   "cell_type": "code",
   "execution_count": 48,
   "outputs": [
    {
     "name": "stdout",
     "output_type": "stream",
     "text": [
      "['DE02120300000000202051', 'DE02500105170137075030', 'DE02100500000054540402', 'DE02300209000106531065', 'DE02200505501015871393', 'DE02100100100006820101', 'DE02300606010002474689', 'DE02600501010002034304', 'DE02700202700010108669', 'DE02700100800030876808', 'DE02370502990000684712', 'DE88100900001234567892', 'DE02701500000000594937', 'AT026000000001349870', 'AT021420020010147558', 'AT023200000000641605', 'AT021200000703447144', 'AT022011100003429660', 'AT022081500000698597', 'AT022040400040102634', 'AT023400000002613800', 'AT022032032102118431', 'AT023500000001070671', 'AT021860000012387890', 'AT023600000000679514', 'AT021700000432040976', 'AT022050303300646365', 'AT023225000000704957', 'CH0209000000100013997', 'CH0204835000626882001', 'CH0200700110000387896', 'CH0208401000051138778', 'CH0200767000', 'CH020024024014511740', 'CH0200790016271403331', 'CH0200781125534343504', 'CH020023023012625140', 'CH0200769016143198123', 'CH2200784102000123454', 'CH0206300016120442405', 'CH0200761016090504437', 'CH0200778010152237210', 'CH9305881020624751001', 'LI0208800000017197386', 'LI0208805502400560249', 'LI02088100000191010', 'LI0308803103143000000', 'LI0508812105028570001', 'LI0608808000220182703', 'LI15088110605699', 'LI0608813201408880001', 'LI2608802001003488101', 'LI5708801200185100814']\n"
     ]
    }
   ],
   "source": [
    "import re\n",
    "ibans = re.findall(r\"([A-Z]{2}\\d{5,30})\", iban_string, re.I)\n",
    "print(ibans)"
   ],
   "metadata": {
    "collapsed": false
   }
  },
  {
   "cell_type": "markdown",
   "source": [
    "<div  class=\"alert alert-block alert-info\">\n",
    "10. Du willst ein Dokument schwärzen. Alle Ziffern sollen durch *** ersetzt werden. Löse das mit einem regulären Ausdruck."
   ],
   "metadata": {
    "collapsed": false
   }
  },
  {
   "cell_type": "code",
   "execution_count": 49,
   "outputs": [],
   "source": [
    "problem_dokument = \"Sehr geehrte Frau Müller, entgegen Ihrer Behauptung habe ich im vorigen Jahr im Gewerbe nur 3500 Euro verdient. Davon sind 600 für Materialkosten und 2100 für das Arbeitszimmer entfallen. Eine Nachzahlung von 7000 Euro würde selbst ein Schulkind aus der dritten Klasse nicht nachvollziehen können. Mit freundlichen Grüßen\\nIrgendjemand\""
   ],
   "metadata": {
    "collapsed": false
   }
  },
  {
   "cell_type": "code",
   "execution_count": 50,
   "outputs": [
    {
     "name": "stdout",
     "output_type": "stream",
     "text": [
      "Sehr geehrte Frau Müller, entgegen Ihrer Behauptung habe ich im vorigen Jahr im Gewerbe nur *** Euro verdient. Davon sind *** für Materialkosten und *** für das Arbeitszimmer entfallen. Eine Nachzahlung von *** Euro würde selbst ein Schulkind aus der dritten Klasse nicht nachvollziehen können. Mit freundlichen Grüßen\n",
      "Irgendjemand\n"
     ]
    }
   ],
   "source": [
    "geschwarztes_dokument = re.sub(r\"\\d+\", \"***\", problem_dokument)\n",
    "print(geschwarztes_dokument)"
   ],
   "metadata": {
    "collapsed": false
   }
  },
  {
   "cell_type": "markdown",
   "source": [
    "<div  class=\"alert alert-block alert-info\">\n",
    "11. Optional: Informiere dich über den Metacharacter \\b und nutze ihn, um alle Worte aus dem nachfolgenden Text zu gewinnen, die \"all\" enthalten und damit starten, in Groß- und Kleinschreibung."
   ],
   "metadata": {
    "collapsed": false
   }
  },
  {
   "cell_type": "code",
   "execution_count": 51,
   "outputs": [],
   "source": [
    "komischer_gruss = \"Ein allumfassendes Hallo an alle hallenden Stimmen im All und ihren Widerhall.\""
   ],
   "metadata": {
    "collapsed": false
   }
  },
  {
   "cell_type": "code",
   "execution_count": 52,
   "outputs": [
    {
     "name": "stdout",
     "output_type": "stream",
     "text": [
      "['allumfassendes', 'alle', 'All']\n"
     ]
    }
   ],
   "source": [
    "results = re.findall(r\"\\ball\\w*\", komischer_gruss, flags=re.I)\n",
    "print(results)"
   ],
   "metadata": {
    "collapsed": false
   }
  },
  {
   "cell_type": "markdown",
   "source": [
    "<div  class=\"alert alert-block alert-info\">\n",
    "12. Erstelle einen Widget für eine Funktion namens summieren. Die Funktion nimmt zwei Werte an und printet daraufhin die Summe. Nutze interact, um zwei Slider für x und y zu erzeugen und das Ergebnis der Funktion anzeigen zu lassen. Wähle als Standard-Wert für x 3 und für y 5."
   ],
   "metadata": {
    "collapsed": false
   }
  },
  {
   "cell_type": "code",
   "execution_count": 53,
   "outputs": [
    {
     "data": {
      "text/plain": "interactive(children=(IntSlider(value=3, description='x', max=9, min=-3), IntSlider(value=5, description='y', …",
      "application/vnd.jupyter.widget-view+json": {
       "version_major": 2,
       "version_minor": 0,
       "model_id": "1a6da381e5b349dfbde9de3d968f8cb0"
      }
     },
     "metadata": {},
     "output_type": "display_data"
    }
   ],
   "source": [
    "from ipywidgets import interact\n",
    "def summieren(x, y):\n",
    "    print(x+y)\n",
    "interact(summieren, x=3, y=5);"
   ],
   "metadata": {
    "collapsed": false
   }
  },
  {
   "cell_type": "markdown",
   "source": [
    "<div  class=\"alert alert-block alert-info\">\n",
    "13. Super optional: Body-Mass-Index\n",
    "\n",
    "* Schreibe eine Funktion berechne_bmi, die als Argumente Höhe und Gewicht einer Person\n",
    "entgegennimmt. Der BMI wird dann ausgerechnet nach der Formel: Gewicht/(Höhe²) und das Ergebnis soll auf zwei Nachkommastellen gerundet von der Funktion zurückgegeben werden.\n",
    "* Erstelle danach zwei Slider: Der erste Slider soll hoehe_slider heißen und sich im Bereich zwischen 1.0 und 2.5 bewegen sowie zentimetergenau bewegt werden (also in 0.01-Schritten). Die Standardhöhe soll dabei 1.75 betragen. Die Beschreibung des Sliders soll lauten: \"Körpergröße (m):\". Mit diesem Slider lässt sich die Größe einer Person festlegen.\n",
    "* Der zweite Slider zum Gewicht soll weniger genau sein und nur ganze Zahlen umfassen. Er startet bei einem Minimalwert von 20 und geht bis 200 hoch, die Schrittgröße liegt bei 1. Das Standardgewicht beträgt 70. Die Beschreibung des Sliders soll lauten: \"Gewicht (kg):\".\n",
    "* Mache Slider und Funktion interaktiv!\n",
    "* Tipp: Importierte für diese Aufgabe ipywidgets als widgets, um auf die entsprechenden Slider zuzugreifen."
   ],
   "metadata": {
    "collapsed": false
   }
  },
  {
   "cell_type": "code",
   "execution_count": null,
   "outputs": [
    {
     "data": {
      "text/plain": "interactive(children=(FloatSlider(value=1.75, description='Körpergröße (m):', max=2.5, min=1.0, step=0.01), In…",
      "application/vnd.jupyter.widget-view+json": {
       "version_major": 2,
       "version_minor": 0,
       "model_id": "ef9767593eff4abbbf740b0fd2921d86"
      }
     },
     "metadata": {},
     "output_type": "display_data"
    }
   ],
   "source": [
    "import ipywidgets as widgets\n",
    "\n",
    "def berechne_bmi(hoehe, gewicht):\n",
    "    bmi = gewicht / (hoehe ** 2)\n",
    "    return \"BMI: \" + str(round(bmi, 2))\n",
    "\n",
    "hoehe_slider = widgets.FloatSlider(min=1.0, max=2.5, step=0.01, value=1.75, description='Körpergröße (m):')\n",
    "gewicht_slider = widgets.IntSlider(min=20, max=200, step=1, value=70, description='Gewicht (kg):')\n",
    "\n",
    "widgets.interact(berechne_bmi, hoehe=hoehe_slider, gewicht=gewicht_slider);"
   ],
   "metadata": {
    "collapsed": false,
    "pycharm": {
     "is_executing": true
    }
   }
  }
 ],
 "metadata": {
  "kernelspec": {
   "display_name": "Python 3",
   "language": "python",
   "name": "python3"
  },
  "language_info": {
   "codemirror_mode": {
    "name": "ipython",
    "version": 2
   },
   "file_extension": ".py",
   "mimetype": "text/x-python",
   "name": "python",
   "nbconvert_exporter": "python",
   "pygments_lexer": "ipython2",
   "version": "2.7.6"
  }
 },
 "nbformat": 4,
 "nbformat_minor": 0
}
