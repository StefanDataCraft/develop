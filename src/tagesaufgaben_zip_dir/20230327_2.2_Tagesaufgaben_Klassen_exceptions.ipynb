{
 "cells": [
  {
   "cell_type": "markdown",
   "metadata": {},
   "source": [
    "<br><br><center><h1 style=\"font-size:2em;color:#2467C0\">Tagesaufgaben 27.03.2022</h1></center>\n",
    "<br>\n"
   ]
  },
  {
   "cell_type": "markdown",
   "metadata": {},
   "source": [
    "# Klassen (Objektorientiertes Programmieren)"
   ]
  },
  {
   "cell_type": "markdown",
   "source": [
    "## Aufgabe 1"
   ],
   "metadata": {
    "collapsed": false
   }
  },
  {
   "cell_type": "markdown",
   "metadata": {},
   "source": [
    "<div  class=\"alert alert-block alert-info\">\n",
    "1. Erstelle eine Klasse Wuerfel. Jeder Würfel soll eine Kantenlänge bekommen. Außerdem soll jeder Würfel über die Methoden oberflaeche und volumen verfügen, die jeweils die Oberfläche des Würfels bzw. das Volumen des Würfels zurückgeben.\n",
    "\n",
    "</div>"
   ]
  },
  {
   "cell_type": "code",
   "execution_count": null,
   "metadata": {},
   "outputs": [],
   "source": []
  },
  {
   "cell_type": "markdown",
   "metadata": {},
   "source": [
    "<div  class=\"alert alert-block alert-info\">\n",
    "2. Erzeuge ein Objekt der Klasse Würfel und lass dir die Oberfläche und das Volumen ausgeben.\n",
    "    \n",
    "    Output:\n",
    "    Ein Würfel der Kantenlänge 3 hat eine Oberfläche von 54\n",
    "    Ein Würfel der Kantenlänge 3 hat ein Volumen von 27\n",
    "\n",
    "</div>"
   ]
  },
  {
   "cell_type": "code",
   "execution_count": null,
   "metadata": {},
   "outputs": [],
   "source": []
  },
  {
   "cell_type": "markdown",
   "metadata": {},
   "source": [
    "## Aufgabe 2 - Optional"
   ]
  },
  {
   "cell_type": "markdown",
   "metadata": {},
   "source": [
    "<div  class=\"alert alert-block alert-info\">\n",
    "1. Erstelle eine Klasse Konto. Beim Erzeugen eines Kontos soll ein Startkapital gegeben werden. Schreibe in der Klasse Konto außerdem drei Funktionen. 1. Funktion: Kontostand anzeigen. 2. Funktion: eine bestimmte Menge Geld auszahlen (Es soll dabei überprüft werden, ob auf dem Konto genug Geld vorhanden ist. Falls nicht, wird nichts ausgezahlt und eine entsprechende Meldung angezeigt. Falls genug da ist, wird der Betrag vom Guthaben abgezogen). 3. Funktion: eine bestimmte Menge Geld einzahlen.\n",
    "\n",
    "</div>"
   ]
  },
  {
   "cell_type": "code",
   "execution_count": null,
   "metadata": {},
   "outputs": [],
   "source": []
  },
  {
   "cell_type": "markdown",
   "metadata": {},
   "source": [
    "<div  class=\"alert alert-block alert-info\">\n",
    "2. Erzeuge ein Objekt der Klasse Konto mit einem Startkapital von 500.\n",
    "\n",
    "</div>"
   ]
  },
  {
   "cell_type": "code",
   "execution_count": null,
   "metadata": {},
   "outputs": [],
   "source": []
  },
  {
   "cell_type": "markdown",
   "metadata": {},
   "source": [
    "<div  class=\"alert alert-block alert-info\">\n",
    "3. Lass dir 200 auszahlen.\n",
    "    \n",
    "    Output:\n",
    "    Dein neuer Kontostand beträgt 300\n",
    "\n",
    "</div>"
   ]
  },
  {
   "cell_type": "code",
   "execution_count": null,
   "metadata": {},
   "outputs": [],
   "source": []
  },
  {
   "cell_type": "markdown",
   "metadata": {},
   "source": [
    "<div  class=\"alert alert-block alert-info\">\n",
    "4. Zahle 400 ein.\n",
    "    \n",
    "    Output:\n",
    "    Dein neuer Kontostand beträgt 700\n",
    "\n",
    "</div>"
   ]
  },
  {
   "cell_type": "code",
   "execution_count": null,
   "metadata": {},
   "outputs": [],
   "source": []
  },
  {
   "cell_type": "markdown",
   "metadata": {},
   "source": [
    "<div  class=\"alert alert-block alert-info\">\n",
    "5. Lass dir 800 auszahlen\n",
    "    \n",
    "    Output:\n",
    "    Du hast nicht genügend Geld!\n",
    "\n",
    "</div>"
   ]
  },
  {
   "cell_type": "code",
   "execution_count": null,
   "metadata": {},
   "outputs": [],
   "source": []
  },
  {
   "cell_type": "markdown",
   "source": [
    "# Exceptions"
   ],
   "metadata": {
    "collapsed": false
   },
   "execution_count": 1
  },
  {
   "cell_type": "markdown",
   "source": [
    "## Aufgabe 1"
   ],
   "metadata": {
    "collapsed": false
   }
  },
  {
   "cell_type": "markdown",
   "source": [
    "<div  class=\"alert alert-block alert-info\">\n",
    "1. Gegeben ist das folgende Wort. Versuche dir das elfte Element des Wortes ausgeben zu lassen. Du solltest einen Fehler erhalten.\n",
    "\n",
    "</div>"
   ],
   "metadata": {
    "collapsed": false
   }
  },
  {
   "cell_type": "code",
   "execution_count": null,
   "outputs": [],
   "source": [],
   "metadata": {
    "collapsed": false
   }
  },
  {
   "cell_type": "markdown",
   "source": [
    "<div  class=\"alert alert-block alert-info\">\n",
    "2. Schreibe nun eine try&except-Bedingung, in der du wieder versuchst, auf den elften Buchstaben zuzugreifen. Dieses Mal soll der Fehler aber durch einen entsprechenden Text abgefangen werden.\n",
    "\n",
    "    Output:\n",
    "    Tannenbaum hat nur 10 Buchstaben!\n",
    "\n",
    "</div>"
   ],
   "metadata": {
    "collapsed": false
   }
  },
  {
   "cell_type": "code",
   "execution_count": null,
   "outputs": [],
   "source": [],
   "metadata": {
    "collapsed": false
   }
  },
  {
   "cell_type": "markdown",
   "source": [
    "<div  class=\"alert alert-block alert-info\">\n",
    "3. Erstelle eine Textdatei in dem Ordner, in dem sich dieses Notebook befindet. Schreibe nun Code, der den Inhalt dieser Textdatei ausliest. Füge eine try&except-Bedingung hinzu, für den Fall dass die Datei nicht existiert. Lösche die Textdatei anschließend und lass deinen Code nochmals laufen.\n",
    "\n",
    "    Output:\n",
    "    Datei wurde nicht gefunden\n",
    "\n",
    "</div>"
   ],
   "metadata": {
    "collapsed": false
   }
  },
  {
   "cell_type": "code",
   "execution_count": null,
   "outputs": [],
   "source": [],
   "metadata": {
    "collapsed": false
   }
  },
  {
   "cell_type": "markdown",
   "source": [
    "<div  class=\"alert alert-block alert-info\">\n",
    "4. Schreibe einen Code, der den Nutzer nach zwei durch ein Komma getrennten Zahlen fragt (über input). Die beiden Zahlen sollen anschließend miteinander multipliziert werden. Füge außerdem folgende exceptions hinzu:\n",
    "\n",
    "   1. Für den Fall, dass zu wenige Zahlen eingegeben wurden\n",
    "   2. Für den Fall, dass eine von beiden keine Zahl ist (z.B. es wurde ein Buchstabe eingegeben)\n",
    "   3. In jedem Fall soll am Ende gefragt werden, ob man nochmal zwei Zahlen multiplizieren möchte. (Eine einfache Frage als print reicht).\n",
    "\n",
    "</div>"
   ],
   "metadata": {
    "collapsed": false
   }
  },
  {
   "cell_type": "code",
   "execution_count": null,
   "outputs": [],
   "source": [],
   "metadata": {
    "collapsed": false
   }
  },
  {
   "cell_type": "markdown",
   "source": [
    "<div  class=\"alert alert-block alert-info\">\n",
    "5. Optional: Schreibe eine Funktion, die ein Argument entgegennimmt. Überprüfe anschließend das Argument:\n",
    "\n",
    "   1. Ist das Argument ein String?\n",
    "   2. Ist das Argument ein float?\n",
    "\n",
    "Finde einen Weg, mit dem du als Output einen von dir bestimmten Error generierst, für den Fall, dass das Argument ein string oder ein float ist. Für den Fall, dass es ein integer ist, soll es einfach gedruckt werden.\n",
    "\n",
    "    Output:\n",
    "    ValueError: Das Argument darf kein string sein!\n",
    "</div>"
   ],
   "metadata": {
    "collapsed": false
   }
  },
  {
   "cell_type": "code",
   "execution_count": null,
   "outputs": [],
   "source": [],
   "metadata": {
    "collapsed": false
   }
  },
  {
   "cell_type": "markdown",
   "source": [
    "# Funktionen: Optionale Wiederholungsaufgabe"
   ],
   "metadata": {
    "collapsed": false
   }
  },
  {
   "cell_type": "markdown",
   "source": [
    "1. Schreibe eine Funktion namens gasrechner mit vier Parametern: Gaspreis (Cent/kWH), Grundgebühr (Euro/Monat), Abschlagszahlung (Euro/Monat), Vorjahresverbrauch. Standartwerte sollen sein: 35 Cent/Kwh, 15 Euro/Monat, 150 Euro/Monat, 15000 kWh. Du gehst davon aus, dass der Nutzer dieses Jahr denselben Verbrauch haben wird wie im Vorjahr. Lasse dem Nutzer immer den Betrag ausgeben und zwar entweder in der Form \"Sie würden X Euro zurück erhalten\" oder \"Sie müssten X Euro nachzahlen, erhöhen Sie besser Ihr Abschlagszahlung!\" Suche dir zwei Tarife auf z.B. Check24 aus und spiele mit diesen deine Funktion durch.\n",
    "Optional: Passe deine Funktion an, sodass die dem Nutzer eine Abschlagszahlung empfiehlt, mit der er bei 0 Euro Nachzahlung rauskommt (ggf. darf er die Abschlagszahlung auch mal senken)."
   ],
   "metadata": {
    "collapsed": false
   }
  },
  {
   "cell_type": "code",
   "execution_count": null,
   "outputs": [],
   "source": [],
   "metadata": {
    "collapsed": false
   }
  }
 ],
 "metadata": {
  "kernelspec": {
   "display_name": "Python 3 (ipykernel)",
   "language": "python",
   "name": "python3"
  },
  "language_info": {
   "codemirror_mode": {
    "name": "ipython",
    "version": 3
   },
   "file_extension": ".py",
   "mimetype": "text/x-python",
   "name": "python",
   "nbconvert_exporter": "python",
   "pygments_lexer": "ipython3",
   "version": "3.9.13"
  }
 },
 "nbformat": 4,
 "nbformat_minor": 1
}
