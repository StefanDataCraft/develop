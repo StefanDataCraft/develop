{
 "cells": [
  {
   "cell_type": "markdown",
   "source": [
    "<br><br><center><h1 style=\"font-size:2em;color:#2467C0\">Tagesaufgaben 06.04.2023</h1></center>\n",
    "<br>"
   ],
   "metadata": {
    "collapsed": false
   }
  },
  {
   "cell_type": "markdown",
   "source": [
    "<div  class=\"alert alert-block alert-info\">\n",
    "1. Du hast zwei Dataframes mit Personendaten. Füge diese mittels concat zusammen und lasse dir den Inhalt ausgeben.\n",
    "\n",
    "    Output:\n",
    "       Alter    Stadt  Gewicht  Größe\n",
    "    Name\n",
    "    Anna      25   Berlin       60    170\n",
    "    Ben       30  München       75    180\n",
    "    Carla     22  Hamburg       55    165\n",
    "    David     27     Köln       80    185\n",
    "\n",
    "</div>"
   ],
   "metadata": {
    "collapsed": false
   }
  },
  {
   "cell_type": "code",
   "execution_count": 56,
   "outputs": [],
   "source": [
    "# Importiere, hier was du brauchst\n"
   ],
   "metadata": {
    "collapsed": false
   }
  },
  {
   "cell_type": "code",
   "execution_count": 57,
   "outputs": [],
   "source": [
    "df1 = pd.DataFrame({'Alter': [25, 30, 22, 27],\n",
    "                    'Stadt': ['Berlin', 'München', 'Hamburg', 'Köln']},\n",
    "                    index=['Anna', 'Ben', 'Carla', 'David'])\n",
    "\n",
    "df2 = pd.DataFrame({'Gewicht': [60, 75, 55, 80],\n",
    "                    'Größe': [170, 180, 165, 185]},\n",
    "                   index=['Anna', 'Ben', 'Carla', 'David'])"
   ],
   "metadata": {
    "collapsed": false
   }
  },
  {
   "cell_type": "code",
   "execution_count": 57,
   "outputs": [],
   "source": [],
   "metadata": {
    "collapsed": false
   }
  },
  {
   "cell_type": "markdown",
   "source": [
    "<div  class=\"alert alert-block alert-info\">\n",
    "2. Du möchtest in der Spalte immer kg zusätzlich zum Gewicht stehen haben und in der Spalte Größe möchtest du die Größenangaben in Meter haben und auch das Maß m immer daneben stehen haben. Löse mit apply. Verwende im ersten Falle eine Lambda-Funktion und im zweiten Fall eine Funktion, die du vorher selber schreibst.\n",
    "\n",
    "</div>"
   ],
   "metadata": {
    "collapsed": false
   }
  },
  {
   "cell_type": "code",
   "execution_count": 57,
   "outputs": [],
   "source": [],
   "metadata": {
    "collapsed": false
   }
  },
  {
   "cell_type": "code",
   "execution_count": 57,
   "outputs": [],
   "source": [],
   "metadata": {
    "collapsed": false
   }
  },
  {
   "cell_type": "markdown",
   "source": [
    "<div  class=\"alert alert-block alert-info\">\n",
    "3. Dir liegen zwei Dataframes mit Autodaten vor. Sie bilden eine fortlaufende Liste, weshalb du das erste unten an das zweite anhängen willst. Löse ebenfalls mit concat.\n",
    "\n",
    "</div>"
   ],
   "metadata": {
    "collapsed": false
   }
  },
  {
   "cell_type": "code",
   "execution_count": 58,
   "outputs": [],
   "source": [
    "df1 = pd.DataFrame({\n",
    "    'Marke': ['Audi', 'BMW', 'Mercedes-Benz', 'Audi', 'BMW', 'Mercedes-Benz', 'Audi', 'BMW', 'Mercedes-Benz'],\n",
    "    'Modell': ['A3', 'X7', 'GLC', 'A5', 'M2', 'E-Klasse', 'A1', 'M4', 'CLS'],\n",
    "    'Baujahr': [2015, 2017, 2018, 2016, 2015, 2019, 2014, 2017, 2019],\n",
    "    'Preis': [20000, 22000, 25000, 28000, 23000, 35000, 18000, 20000, 27000],\n",
    "    'Kilometerstand': [20000, 35000, 28000, 40000, 25000, 18000, 22000, 29000, 21000]\n",
    "})\n",
    "\n",
    "df2 = pd.DataFrame({\n",
    "    'Marke': ['Volkswagen', 'Toyota', 'Mercedes-Benz', 'Audi', 'Volkswagen', 'Toyota', 'Mercedes-Benz', 'Audi', 'Volkswagen'],\n",
    "    'Modell': ['Golf', 'Corolla', 'GLE', 'Q5', 'Tiguan', 'Camry', 'GLA', 'A3', 'Passat'],\n",
    "    'Baujahr': [2016, 2018, 2019, 2017, 2015, 2017, 2020, 2018, 2016],\n",
    "    'Preis': [18000, 19000, 28000, 31000, 15000, 17000, 40000, 22000, 19000],\n",
    "    'Kilometerstand': [32000, 26000, 18000, 22000, 42000, 32000, 13000, 25000, 18000]\n",
    "})"
   ],
   "metadata": {
    "collapsed": false
   }
  },
  {
   "cell_type": "code",
   "execution_count": 58,
   "outputs": [],
   "source": [],
   "metadata": {
    "collapsed": false
   }
  },
  {
   "cell_type": "markdown",
   "source": [
    "<div  class=\"alert alert-block alert-info\">\n",
    "4. Jetzt hast du eine Liste mit Obst und eine mit Gemüse und willst diese wieder mit concat zusammenfügen. Allerdings gibt es eine knifflige Sache: Du möchtest, dass über dem Teil des Dataframes mit Obsteinträgen \"Obst\" steht und über dem mit Gemüseeinträgen \"Gemüse\". Wie stellst du das an? Dein Output sollte so aussehen:\n",
    "\n",
    "    Output:\n",
    "           Obst                      Gemüse\n",
    "      ProduktID Produktname Preis ProduktID Produktname Preis\n",
    "    0         1       Apfel   0.5         5     Paprika   0.8\n",
    "    1         2      Banane   0.3         6       Gurke   0.6\n",
    "    2         3    Erdbeere   1.2         7      Tomate   0.9\n",
    "    3         4      Melone   2.5         8     Karotte   1.0\n",
    "\n",
    "\n",
    "</div>"
   ],
   "metadata": {
    "collapsed": false
   }
  },
  {
   "cell_type": "code",
   "execution_count": 59,
   "outputs": [],
   "source": [
    "df1 = pd.DataFrame({\n",
    "    'ProduktID': [1, 2, 3, 4],\n",
    "    'Produktname': ['Apfel', 'Banane', 'Erdbeere', 'Melone'],\n",
    "    'Preis': [0.5, 0.3, 1.2, 2.5]\n",
    "})\n",
    "\n",
    "df2 = pd.DataFrame({\n",
    "    'ProduktID': [5, 6, 7, 8],\n",
    "    'Produktname': ['Paprika', 'Gurke', 'Tomate', 'Karotte'],\n",
    "    'Preis': [0.8, 0.6, 0.9, 1.0]\n",
    "})"
   ],
   "metadata": {
    "collapsed": false
   }
  },
  {
   "cell_type": "code",
   "execution_count": 59,
   "outputs": [],
   "source": [],
   "metadata": {
    "collapsed": false
   }
  },
  {
   "cell_type": "markdown",
   "source": [
    "<div  class=\"alert alert-block alert-info\">\n",
    "5. Du hast einen kleinen Auszug aus einer Videothek in Form von zwei Dataframes. Diese sollen zusammengefügt werden und dieses Mal mithilfe von merge.\n",
    "\n",
    "    Output:\n",
    "\n",
    "       ID          Titel         Regisseur  Bewertung  Anzahl Bewertungen\n",
    "    0   1  Jurassic Park  Steven Spielberg        8.3                1000\n",
    "    1   2  Indiana Jones  Steven Spielberg        7.6                2000\n",
    "    2   3       Die Hard    John McTiernan        8.2                1500\n",
    "    3   4   Forrest Gump   Robert Zemeckis        8.8                3000\n",
    "\n",
    "</div>"
   ],
   "metadata": {
    "collapsed": false
   }
  },
  {
   "cell_type": "code",
   "execution_count": 60,
   "outputs": [],
   "source": [
    "df1 = pd.DataFrame({\n",
    "    'ID': [1, 2, 3, 4],\n",
    "    'Titel': ['Jurassic Park', 'Indiana Jones', 'Die Hard', 'Forrest Gump'],\n",
    "    'Regisseur': ['Steven Spielberg', 'Steven Spielberg', 'John McTiernan', 'Robert Zemeckis']\n",
    "})\n",
    "\n",
    "df2 = pd.DataFrame({\n",
    "    'ID': [1, 2, 3, 4],\n",
    "    'Bewertung': [8.3, 7.6, 8.2, 8.8],\n",
    "    'Anzahl Bewertungen': [1000, 2000, 1500, 3000]\n",
    "})"
   ],
   "metadata": {
    "collapsed": false
   }
  },
  {
   "cell_type": "code",
   "execution_count": 60,
   "outputs": [],
   "source": [],
   "metadata": {
    "collapsed": false
   }
  },
  {
   "cell_type": "markdown",
   "source": [
    "<div  class=\"alert alert-block alert-info\">\n",
    "6. Du hast Daten zu Personen vorliegen und sollst diese für deinen Chef zusammenführen. Da dein Chef sich nur für Zahlen interessiert, willst du ihm nur Daten zu Personen vorlegen, die auch bestellt haben. Löse mit merge.\n",
    "\n",
    "\n",
    "\n",
    "</div>"
   ],
   "metadata": {
    "collapsed": false
   }
  },
  {
   "cell_type": "code",
   "execution_count": 61,
   "outputs": [],
   "source": [
    "df1 = pd.DataFrame({\n",
    "    'Name': ['Max Mustermann', 'Petra Müller', 'Hans Schmidt', 'Lisa Meyer'],\n",
    "    'Adresse': ['Hauptstraße 1', 'Bahnhofstraße 2', 'Mühlenweg 3', 'Bergstraße 4']\n",
    "})\n",
    "\n",
    "df2 = pd.DataFrame({\n",
    "    'Name': ['Max Mustermann', 'Petra Müller', 'Hans Schmidt'],\n",
    "    'Bestellnummer': [1234, 5678, 9101],\n",
    "    'Betrag': [19.99, 29.99, 49.99]\n",
    "})"
   ],
   "metadata": {
    "collapsed": false
   }
  },
  {
   "cell_type": "code",
   "execution_count": 61,
   "outputs": [],
   "source": [],
   "metadata": {
    "collapsed": false
   }
  },
  {
   "cell_type": "markdown",
   "source": [
    "<div  class=\"alert alert-block alert-info\">\n",
    "7. Ups. Du hast deinem Chef die Liste vorgelegt und er fragt dich: Wo sind die Leute, die sich für den Newsletter registriert haben, aber dann nichts bestellt haben? Das wäre ja mal was Neues, wenn alle was bestellt hätten! Du gehst zurück ans Mergen, um ihm dann eine Liste mit allen Leuten vorzulegen...\n",
    "\n",
    "    Output:\n",
    "                 Name          Adresse  Bestellnummer  Betrag\n",
    "    0  Max Mustermann    Hauptstraße 1         1234.0   19.99\n",
    "    1    Petra Müller  Bahnhofstraße 2         5678.0   29.99\n",
    "    2    Hans Schmidt      Mühlenweg 3         9101.0   49.99\n",
    "    3      Lisa Meyer     Bergstraße 4            NaN     NaN\n",
    "\n",
    "</div>\n"
   ],
   "metadata": {
    "collapsed": false
   }
  },
  {
   "cell_type": "code",
   "execution_count": 61,
   "outputs": [],
   "source": [],
   "metadata": {
    "collapsed": false
   }
  },
  {
   "cell_type": "markdown",
   "source": [
    "<div  class=\"alert alert-block alert-info\">\n",
    "8. Du hast eine Liste mit Produkten (Index entspricht ihren IDs) und eine Liste mit Bestellungen. Du möchtest deine Bestellliste um Details zu den Produkten erweitern. Wie löst du das mit join?\n",
    "\n",
    "    Output:\n",
    "       order_id  quantity      product_name  price     brand\n",
    "    1      1001         2        Messer-Set     50       WMF\n",
    "    3      1002         1  Schneidebrett XL     20       WMF\n",
    "    2      1003         4       Pfanne 24cm     30     Tefal\n",
    "    4      1004         2    Besteck-Set 12     40  Zwilling\n",
    "\n",
    "</div>"
   ],
   "metadata": {
    "collapsed": false
   }
  },
  {
   "cell_type": "code",
   "execution_count": 62,
   "outputs": [],
   "source": [
    "orders = pd.DataFrame({\n",
    "    'order_id': [1001, 1002, 1003, 1004],\n",
    "    'quantity': [2, 1, 4, 2]},\n",
    "    index=[1, 3, 2, 4])\n",
    "\n",
    "products = pd.DataFrame({\n",
    "    'product_name': ['Messer-Set', 'Pfanne 24cm', 'Schneidebrett XL', 'Besteck-Set 12', 'Küchenwaage', 'Bratenthermometer'],\n",
    "    'price': [50, 30, 20, 40, 15, 25],\n",
    "    'brand': ['WMF', 'Tefal', 'WMF', 'Zwilling', 'Soehnle', 'WMF']},\n",
    "    index=[1, 2, 3, 4, 5, 6])"
   ],
   "metadata": {
    "collapsed": false
   }
  },
  {
   "cell_type": "code",
   "execution_count": 62,
   "outputs": [],
   "source": [],
   "metadata": {
    "collapsed": false
   }
  },
  {
   "cell_type": "markdown",
   "source": [
    "<div  class=\"alert alert-block alert-info\">\n",
    "9. Du hast wieder mal zwei Dataframes, eins mit Personen, die den Newsletter deiner Firma abonniert haben, das andere mit Bestellungen. Die Indices entsprechen dabei den Personen-IDs. Du willst alle Leute haben, die sowohl den Newsletter abonniert haben, als auch etwas bestellt haben.\n",
    "\n",
    "    Output:\n",
    "       Name             Email  Newsletter    Product  Price\n",
    "    1  John  john@example.com        True  Product A  10.99\n",
    "    3  Mary  mary@example.com        True  Product C   8.99\n",
    "    7   Bob   bob@example.com        True  Product E   9.99\n",
    "\n",
    "</div>"
   ],
   "metadata": {
    "collapsed": false
   }
  },
  {
   "cell_type": "code",
   "execution_count": 63,
   "outputs": [],
   "source": [
    "newsletter = pd.DataFrame({\n",
    "    'Name': ['John', 'Mary', 'Peter', 'Jane', 'Bob'],\n",
    "    'Email': ['john@example.com', 'mary@example.com', 'peter@example.com', 'jane@example.com', 'bob@example.com'],\n",
    "    'Newsletter': [True, True, True, False, True]},\n",
    "    index=[1, 3, 4, 5, 7])\n",
    "\n",
    "bestellungen = pd.DataFrame({\n",
    "    'Product': ['Product A', 'Product B', 'Product C', 'Product D', 'Product E'],\n",
    "    'Price': [10.99, 12.99, 8.99, 15.99, 9.99]},\n",
    "    index=[1, 2, 3, 6, 7])"
   ],
   "metadata": {
    "collapsed": false
   }
  },
  {
   "cell_type": "code",
   "execution_count": 63,
   "outputs": [],
   "source": [],
   "metadata": {
    "collapsed": false
   }
  },
  {
   "cell_type": "markdown",
   "source": [
    "<div  class=\"alert alert-block alert-info\">\n",
    "10. Aber leider sieht dein Chef das nicht so: Ich will alle sehen, brummt er unzufrieden. Ob Bestellung oder Newsletter, ist egal. Ich will einen Gesamtüberblick. Mich stören auch keine Leerstellen. Nun gut, du gehst zurück an deinen Arbeitsplatz, um das hier zu erhalten:\n",
    "\n",
    "    Output:\n",
    "        Name              Email Newsletter    Product  Price\n",
    "    1   John   john@example.com       True  Product A  10.99\n",
    "    2    NaN                NaN        NaN  Product B  12.99\n",
    "    3   Mary   mary@example.com       True  Product C   8.99\n",
    "    4  Peter  peter@example.com       True        NaN    NaN\n",
    "    5   Jane   jane@example.com      False        NaN    NaN\n",
    "    6    NaN                NaN        NaN  Product D  15.99\n",
    "    7    Bob    bob@example.com       True  Product E   9.99\n",
    "\n",
    "</div>"
   ],
   "metadata": {
    "collapsed": false
   }
  },
  {
   "cell_type": "code",
   "execution_count": 63,
   "outputs": [],
   "source": [],
   "metadata": {
    "collapsed": false
   }
  },
  {
   "cell_type": "markdown",
   "source": [
    "<div  class=\"alert alert-block alert-info\">\n",
    "11. Die Stimmungsschwankungen deines Chefs sind manchmal uneträglich. Was ist denn das für ein Quatsch, fragt er? Was interessieren mich die Leute, die nur den Newsletter abonniert haben? Leg mir mal alle vor, die was bestellt haben. Aber natürlich interessiert mich auch, wer davon einen Newsletter bestellt hat und wer nicht. Du gehst wieder an deinen Arbeitsplatz. Dein Ziel:\n",
    "\n",
    "    Output:\n",
    "       Product  Price  Name             Email Newsletter\n",
    "    1  Product A  10.99  John  john@example.com       True\n",
    "    2  Product B  12.99   NaN               NaN        NaN\n",
    "    3  Product C   8.99  Mary  mary@example.com       True\n",
    "    6  Product D  15.99   NaN               NaN        NaN\n",
    "    7  Product E   9.99   Bob   bob@example.com       True\n",
    "\n"
   ],
   "metadata": {
    "collapsed": false
   }
  },
  {
   "cell_type": "code",
   "execution_count": 64,
   "outputs": [],
   "source": [
    "# Join Version 1\n"
   ],
   "metadata": {
    "collapsed": false
   }
  },
  {
   "cell_type": "code",
   "execution_count": 65,
   "outputs": [],
   "source": [
    "# Join Version 2\n"
   ],
   "metadata": {
    "collapsed": false
   }
  },
  {
   "cell_type": "markdown",
   "source": [
    "<div  class=\"alert alert-block alert-info\">\n",
    "12. Dein Chef möchte, dass du Informationen zu seinen Mitarbeitern, die in einem Dataframe vorliegen, in eine andere Form überführst. Verwende hierfür Stack und beseitige zuvor den numerischen Index, indem du die Namen als Index setzt. Außerdem soll über den Tätigkeiten in der Spalte \"Tätigkeit\" stehen.\n",
    "\n",
    "    Output:\n",
    "    Name                   Tätigkeit\n",
    "    Anna     Montag          Meeting\n",
    "             Dienstag    Buchhaltung\n",
    "             Mittwoch      Marketing\n",
    "    Bob      Montag      Buchhaltung\n",
    "             Dienstag        Meeting\n",
    "             Mittwoch    Entwicklung\n",
    "    Charlie  Montag        Marketing\n",
    "             Dienstag    Entwicklung\n",
    "             Mittwoch        Meeting"
   ],
   "metadata": {
    "collapsed": false
   }
  },
  {
   "cell_type": "code",
   "execution_count": 66,
   "outputs": [
    {
     "data": {
      "text/plain": "      Name       Montag     Dienstag     Mittwoch\n0     Anna      Meeting  Buchhaltung    Marketing\n1      Bob  Buchhaltung      Meeting  Entwicklung\n2  Charlie    Marketing  Entwicklung      Meeting",
      "text/html": "<div>\n<style scoped>\n    .dataframe tbody tr th:only-of-type {\n        vertical-align: middle;\n    }\n\n    .dataframe tbody tr th {\n        vertical-align: top;\n    }\n\n    .dataframe thead th {\n        text-align: right;\n    }\n</style>\n<table border=\"1\" class=\"dataframe\">\n  <thead>\n    <tr style=\"text-align: right;\">\n      <th></th>\n      <th>Name</th>\n      <th>Montag</th>\n      <th>Dienstag</th>\n      <th>Mittwoch</th>\n    </tr>\n  </thead>\n  <tbody>\n    <tr>\n      <th>0</th>\n      <td>Anna</td>\n      <td>Meeting</td>\n      <td>Buchhaltung</td>\n      <td>Marketing</td>\n    </tr>\n    <tr>\n      <th>1</th>\n      <td>Bob</td>\n      <td>Buchhaltung</td>\n      <td>Meeting</td>\n      <td>Entwicklung</td>\n    </tr>\n    <tr>\n      <th>2</th>\n      <td>Charlie</td>\n      <td>Marketing</td>\n      <td>Entwicklung</td>\n      <td>Meeting</td>\n    </tr>\n  </tbody>\n</table>\n</div>"
     },
     "execution_count": 66,
     "metadata": {},
     "output_type": "execute_result"
    }
   ],
   "source": [
    "df = pd.DataFrame({\n",
    "    'Name': ['Anna', 'Bob', 'Charlie'],\n",
    "    'Montag': ['Meeting', 'Buchhaltung', 'Marketing'],\n",
    "    'Dienstag': ['Buchhaltung', 'Meeting', 'Entwicklung'],\n",
    "    'Mittwoch': ['Marketing', 'Entwicklung', 'Meeting']\n",
    "})\n",
    "\n",
    "df"
   ],
   "metadata": {
    "collapsed": false
   }
  },
  {
   "cell_type": "code",
   "execution_count": 66,
   "outputs": [],
   "source": [],
   "metadata": {
    "collapsed": false
   }
  },
  {
   "cell_type": "markdown",
   "source": [
    "<div  class=\"alert alert-block alert-info\">\n",
    "13. Das war die Verwaltung, aber es gibt auch einen Produktionsraum mit Maschinen (jede der Maschinen hat einen Kosenamen). Dein Chef möchte pro Zeile eine Maschine sehen und die verschiedenen Schichten als Spalten. Du bist echt müde, aber ein Blick auf die Uhr zeigt: Es ist gleich Feierabend. Tue deinem Chef noch diesen letzten Gefallen und dann kannst du endlich das Helle öffnen, das im Kühlschrank auf dich wartet."
   ],
   "metadata": {
    "collapsed": false
   }
  },
  {
   "cell_type": "code",
   "execution_count": 67,
   "outputs": [
    {
     "data": {
      "text/plain": "                Maschine Schicht  Betriebszeit\n0          R-275 \"Ernie\"    Früh           100\n1          R-275 \"Ernie\"    Spät           150\n2          R-275 \"Ernie\"   Nacht            50\n3        PO-777 \"Polina\"    Früh           200\n4        PO-777 \"Polina\"    Spät           180\n5        PO-777 \"Polina\"   Nacht           220\n6   CH-823 \"Che Guevara\"    Früh           300\n7   CH-823 \"Che Guevara\"    Spät           320\n8   CH-823 \"Che Guevara\"   Nacht           280\n9          C-727 \"Clara\"    Früh           150\n10         C-727 \"Clara\"    Spät           170\n11         C-727 \"Clara\"   Nacht           130\n12        OT-14.2 \"Otto\"    Früh            80\n13        OT-14.2 \"Otto\"    Spät           120\n14        OT-14.2 \"Otto\"   Nacht            90",
      "text/html": "<div>\n<style scoped>\n    .dataframe tbody tr th:only-of-type {\n        vertical-align: middle;\n    }\n\n    .dataframe tbody tr th {\n        vertical-align: top;\n    }\n\n    .dataframe thead th {\n        text-align: right;\n    }\n</style>\n<table border=\"1\" class=\"dataframe\">\n  <thead>\n    <tr style=\"text-align: right;\">\n      <th></th>\n      <th>Maschine</th>\n      <th>Schicht</th>\n      <th>Betriebszeit</th>\n    </tr>\n  </thead>\n  <tbody>\n    <tr>\n      <th>0</th>\n      <td>R-275 \"Ernie\"</td>\n      <td>Früh</td>\n      <td>100</td>\n    </tr>\n    <tr>\n      <th>1</th>\n      <td>R-275 \"Ernie\"</td>\n      <td>Spät</td>\n      <td>150</td>\n    </tr>\n    <tr>\n      <th>2</th>\n      <td>R-275 \"Ernie\"</td>\n      <td>Nacht</td>\n      <td>50</td>\n    </tr>\n    <tr>\n      <th>3</th>\n      <td>PO-777 \"Polina\"</td>\n      <td>Früh</td>\n      <td>200</td>\n    </tr>\n    <tr>\n      <th>4</th>\n      <td>PO-777 \"Polina\"</td>\n      <td>Spät</td>\n      <td>180</td>\n    </tr>\n    <tr>\n      <th>5</th>\n      <td>PO-777 \"Polina\"</td>\n      <td>Nacht</td>\n      <td>220</td>\n    </tr>\n    <tr>\n      <th>6</th>\n      <td>CH-823 \"Che Guevara\"</td>\n      <td>Früh</td>\n      <td>300</td>\n    </tr>\n    <tr>\n      <th>7</th>\n      <td>CH-823 \"Che Guevara\"</td>\n      <td>Spät</td>\n      <td>320</td>\n    </tr>\n    <tr>\n      <th>8</th>\n      <td>CH-823 \"Che Guevara\"</td>\n      <td>Nacht</td>\n      <td>280</td>\n    </tr>\n    <tr>\n      <th>9</th>\n      <td>C-727 \"Clara\"</td>\n      <td>Früh</td>\n      <td>150</td>\n    </tr>\n    <tr>\n      <th>10</th>\n      <td>C-727 \"Clara\"</td>\n      <td>Spät</td>\n      <td>170</td>\n    </tr>\n    <tr>\n      <th>11</th>\n      <td>C-727 \"Clara\"</td>\n      <td>Nacht</td>\n      <td>130</td>\n    </tr>\n    <tr>\n      <th>12</th>\n      <td>OT-14.2 \"Otto\"</td>\n      <td>Früh</td>\n      <td>80</td>\n    </tr>\n    <tr>\n      <th>13</th>\n      <td>OT-14.2 \"Otto\"</td>\n      <td>Spät</td>\n      <td>120</td>\n    </tr>\n    <tr>\n      <th>14</th>\n      <td>OT-14.2 \"Otto\"</td>\n      <td>Nacht</td>\n      <td>90</td>\n    </tr>\n  </tbody>\n</table>\n</div>"
     },
     "execution_count": 67,
     "metadata": {},
     "output_type": "execute_result"
    }
   ],
   "source": [
    "df = pd.DataFrame({\n",
    "    'Maschine': ['R-275 \"Ernie\"', 'R-275 \"Ernie\"', 'R-275 \"Ernie\"', 'PO-777 \"Polina\"', 'PO-777 \"Polina\"', 'PO-777 \"Polina\"', 'CH-823 \"Che Guevara\"', 'CH-823 \"Che Guevara\"', 'CH-823 \"Che Guevara\"', 'C-727 \"Clara\"', 'C-727 \"Clara\"', 'C-727 \"Clara\"', 'OT-14.2 \"Otto\"', 'OT-14.2 \"Otto\"', 'OT-14.2 \"Otto\"'],\n",
    "    'Schicht': ['Früh', 'Spät', 'Nacht', 'Früh', 'Spät', 'Nacht', 'Früh', 'Spät', 'Nacht', 'Früh', 'Spät', 'Nacht', 'Früh', 'Spät', 'Nacht'],\n",
    "    'Betriebszeit': [100, 150, 50, 200, 180, 220, 300, 320, 280, 150, 170, 130, 80, 120, 90]\n",
    "})\n",
    "\n",
    "df"
   ],
   "metadata": {
    "collapsed": false
   }
  },
  {
   "cell_type": "code",
   "execution_count": 67,
   "outputs": [],
   "source": [],
   "metadata": {
    "collapsed": false
   }
  }
 ],
 "metadata": {
  "kernelspec": {
   "display_name": "Python 3",
   "language": "python",
   "name": "python3"
  },
  "language_info": {
   "codemirror_mode": {
    "name": "ipython",
    "version": 2
   },
   "file_extension": ".py",
   "mimetype": "text/x-python",
   "name": "python",
   "nbconvert_exporter": "python",
   "pygments_lexer": "ipython2",
   "version": "2.7.6"
  }
 },
 "nbformat": 4,
 "nbformat_minor": 0
}
