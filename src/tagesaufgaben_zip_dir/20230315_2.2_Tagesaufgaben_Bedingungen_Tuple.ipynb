{
 "cells": [
  {
   "cell_type": "markdown",
   "id": "78e2f52e",
   "metadata": {
    "id": "78e2f52e"
   },
   "source": [
    "<br><br><center><h1 style=\"font-size:2em;color:#2467C0\">Tagesaufgaben 15.03.2023</h1></center>\n",
    "<br>\n"
   ]
  },
  {
   "cell_type": "markdown",
   "id": "aa0164c8",
   "metadata": {
    "id": "aa0164c8"
   },
   "source": [
    "# If-Bedingungen"
   ]
  },
  {
   "cell_type": "markdown",
   "id": "c587c815",
   "metadata": {
    "id": "c587c815"
   },
   "source": [
    "Mit der If-Bedingung (If ist Englisch für \"Wenn\") können einzelne oder mehrere Schritte in unserem Code automatisch überprüft werden.\n",
    "\n",
    "   Lies dir den Artikel zu If-Bedingungen durch: https://www.python-lernen.de/if-abfrage-python.htm"
   ]
  },
  {
   "cell_type": "markdown",
   "id": "5ed28231",
   "metadata": {
    "id": "5ed28231"
   },
   "source": [
    " <div  class=\"alert alert-block alert-info\">\n",
    "1. Erstelle eine if-Bedingung, die überprüft, ob die Variable \"zahl\" größer als 5 ist. Wenn die Bedinung erfüllt ist, soll \"korrekt\" ausgegeben werden, wenn nicht, soll \"falsch\" ausgegeben werden. Ändere anschließend die Variable \"zahl\" und überprüfe, ob die if Bedingung die richtigen Antworten erzeugt.\n",
    "</div>"
   ]
  },
  {
   "cell_type": "code",
   "execution_count": 22,
   "id": "ad58ee2b",
   "metadata": {},
   "outputs": [],
   "source": [
    "zahl = 6"
   ]
  },
  {
   "cell_type": "markdown",
   "id": "3e35c870",
   "metadata": {
    "id": "3e35c870"
   },
   "source": [
    " <div  class=\"alert alert-block alert-info\">\n",
    "2. Erstelle nun eine if-Bedingung, die überprüft, ob die Variable \"zahl\" größer als 5 ist, gleich 5 ist oder kleiner als 5 ist. Es soll das Gleiche wie bisher ausgegeben werden, falls die Zahl gleich 5 ist, soll \"Ist gleich 5\" erscheinen. Hinweis: Nutze dafür if, elif und else. Ändere anschließend die Variable \"zahl\" und überprüfe, ob die if-Bedingung die richtigen Antworten erzeugt.\n",
    "</div>"
   ]
  },
  {
   "cell_type": "code",
   "execution_count": 23,
   "id": "1c68ded4",
   "metadata": {},
   "outputs": [],
   "source": [
    "zahl = 4"
   ]
  },
  {
   "cell_type": "markdown",
   "id": "8285a4d6",
   "metadata": {
    "id": "8285a4d6"
   },
   "source": [
    " <div  class=\"alert alert-block alert-info\">\n",
    "3. Erstelle eine if-Bedingung, die überprüft, ob die Variable \"zahl\" größer als 5 ist. Wenn das zutrifft, soll weiterhin überprüft werden, ob die Zahl größer als 10 ist. Für jeden Fall soll ein entsprechender Text als Ausgabe erscheinen. Ändere anschließend die Variable \"zahl\" und überprüfe, ob die if Bedingung die richtigen Antworten erzeugt.\n",
    "</div>"
   ]
  },
  {
   "cell_type": "code",
   "execution_count": 24,
   "id": "8a890c83",
   "metadata": {},
   "outputs": [],
   "source": [
    "zahl = 11"
   ]
  },
  {
   "cell_type": "markdown",
   "source": [
    " <div  class=\"alert alert-block alert-info\">\n",
    "4. Erstelle eine if-Bedingung, die überprüft, ob die Variable \"wort\" gleich dem Wort \"Hallo\" ist. Gib für jeden Fall einen entsprechenden Text als Antwort aus. Ändere anschließend die Variable \"wort\" und überprüfe, ob die if.Bedingung die richtigen Antworten erzeugt.\n",
    "</div>"
   ],
   "metadata": {
    "collapsed": false
   }
  },
  {
   "cell_type": "code",
   "execution_count": 25,
   "outputs": [],
   "source": [
    "wort = \"Hallo\""
   ],
   "metadata": {
    "collapsed": false
   }
  },
  {
   "cell_type": "markdown",
   "id": "b2e7bc8f",
   "metadata": {
    "id": "b2e7bc8f"
   },
   "source": [
    " <div  class=\"alert alert-block alert-info\">\n",
    "5. Vor dir stehen drei Fruchtkörbe, einen darfst du mit nach Hause nehmen. Du liebst Kiwis über alles! Aber du hast eine Allergie auf Orangen! Prüfe die Fruchtkörbe mit mehreren Bedingungen. Wenn eine Kiwi im Fruchtkorb ist, soll die Ausgabe lauten: \"Jackpot! Eine Kiwi! Den Fruchtkorb nehm ich!\". Allerdings nur dann, wenn sich keine  Orange im selben Fruchtkorb befindet. Denn sonst schreist du laut: \"Iiih! Eine Orange! Das fass ich nicht an!\". Das schreist du nämlich immer, wenn du eine Orange siehst. Bei Körben ohne Kiwis und Orangen murmelst du gelangweilt: \"Ein gewöhnlicher Fruchtkorb...\" und lässt den Korb stehen. Nimmst du am Ende einen Korb mit nach Hause?\n",
    "</div>"
   ]
  },
  {
   "cell_type": "code",
   "execution_count": 26,
   "id": "928e50fb",
   "metadata": {},
   "outputs": [],
   "source": [
    "fruchtkorb1 = [\"Apfel\", \"Banane\", \"Trauben\", \"Birne\", \"Apfel\", \"Pfirsich\", \"Litschi\", \"Papaya\", \"Orange\", \"Ananas\", \"Kiwi\"]"
   ]
  },
  {
   "cell_type": "code",
   "execution_count": 27,
   "outputs": [],
   "source": [
    "fruchtkorb2 = [\"Kokosnuss\", \"Trauben\", \"Birne\", \"Apfel\", \"Banane\", \"Papaya\", \"Litschi\", \"Ananas\", \"Himbeeren\"]"
   ],
   "metadata": {
    "collapsed": false
   }
  },
  {
   "cell_type": "code",
   "execution_count": 28,
   "outputs": [],
   "source": [
    "fruchtkorb3 = [\"Banane\", \"Durian-Frucht\", \"Apfel\", \"Aprikose\", \"Clementine\", \"Litschi\", \"Papaya\", \"Kiwi\", \"Ananas\"]"
   ],
   "metadata": {
    "collapsed": false
   }
  },
  {
   "cell_type": "code",
   "execution_count": 29,
   "outputs": [],
   "source": [
    "# Du prüfst den ersten Korb\n"
   ],
   "metadata": {
    "collapsed": false
   }
  },
  {
   "cell_type": "code",
   "execution_count": 30,
   "outputs": [],
   "source": [
    "# Du prüfst den zweiten Korb\n"
   ],
   "metadata": {
    "collapsed": false
   }
  },
  {
   "cell_type": "code",
   "execution_count": 31,
   "outputs": [],
   "source": [
    "# Du prüfst den dritten Korb\n"
   ],
   "metadata": {
    "collapsed": false
   }
  },
  {
   "cell_type": "markdown",
   "source": [
    "# Wiederholung zu Tupeln"
   ],
   "metadata": {
    "collapsed": false
   }
  },
  {
   "cell_type": "markdown",
   "source": [
    "6. Du hast im Kleiderschrank mal wieder ein ungeordnetes Sockentupel vorgefunden... Du musst dich schnell anziehen und willst dir zwei graue Socken aus dem Tupel ziehen. Wie machst du das? Und was machst du, wenn du zwei grüne Socken willst?"
   ],
   "metadata": {
    "collapsed": false
   }
  },
  {
   "cell_type": "code",
   "execution_count": 32,
   "outputs": [],
   "source": [
    "socken_tupel = (\"graue Socke\", \"schwarze Socke\", \"violette Socke\", \"schwarze Socke\", \"weiße Socke\", \"grüne Socke\", \"graue Socke\", \"grüne Socke\")"
   ],
   "metadata": {
    "collapsed": false
   }
  },
  {
   "cell_type": "markdown",
   "source": [
    "7. Du entscheidest dich gegen diese \"dreckige Lösung\", weil du jetzt eh die Bahn nicht mehr kriegst und willst die Socken sortieren. Am Ende soll ein geordnetes Sockentupel entstehen. Wie stellst du das an?"
   ],
   "metadata": {
    "collapsed": false
   }
  },
  {
   "cell_type": "code",
   "execution_count": 33,
   "outputs": [],
   "source": [
    "# Bring die Dinge in Ordnung.\n"
   ],
   "metadata": {
    "collapsed": false
   }
  },
  {
   "cell_type": "markdown",
   "source": [
    "8. Optional: Es passt immer noch nicht ganz. Du würdest gern die Socken zählen. Wie stellst du das an? Vielleicht mit einer Schleife? Schaffst du es mit einer Bedingung, dir nur die gepaarten Socken ausgeben zu lassen?"
   ],
   "metadata": {
    "collapsed": false
   }
  },
  {
   "cell_type": "code",
   "execution_count": null,
   "outputs": [],
   "source": [],
   "metadata": {
    "collapsed": false
   }
  },
  {
   "cell_type": "markdown",
   "source": [
    "9. Optional: Du willst die ungepaarten Socken wegschmeißen. Wie stellst du das an? Nenne das Ergebnis geordnete_sockenpaare."
   ],
   "metadata": {
    "collapsed": false
   }
  },
  {
   "cell_type": "code",
   "execution_count": 34,
   "outputs": [],
   "source": [
    "# Mach die Einzelsocken fertig!"
   ],
   "metadata": {
    "collapsed": false
   }
  },
  {
   "cell_type": "markdown",
   "source": [
    "# Loops"
   ],
   "metadata": {
    "collapsed": false
   }
  },
  {
   "cell_type": "markdown",
   "source": [
    "1. Schreibe eine for-Schleife, die dir nur die ungeraden Zahlen ausgibt."
   ],
   "metadata": {
    "collapsed": false
   }
  },
  {
   "cell_type": "code",
   "execution_count": null,
   "outputs": [],
   "source": [
    "zahlenliste1 = [2,13,16,100,65,77,88,42,12,11]"
   ],
   "metadata": {
    "collapsed": false
   }
  },
  {
   "cell_type": "code",
   "execution_count": null,
   "outputs": [],
   "source": [],
   "metadata": {
    "collapsed": false
   }
  },
  {
   "cell_type": "markdown",
   "source": [
    "2. Schreibe eine for-Loop, die die \"altersliste\" durchgeht und bei unter 18 Kind, bis unter 60 \"Erwachsener\" und ab dann \"Senior\" ausgibt."
   ],
   "metadata": {
    "collapsed": false
   }
  },
  {
   "cell_type": "code",
   "execution_count": null,
   "outputs": [],
   "source": [
    "altersliste = [11,22,76,43,91,27,50,38,1,6,31,12]"
   ],
   "metadata": {
    "collapsed": false
   }
  },
  {
   "cell_type": "code",
   "execution_count": null,
   "outputs": [],
   "source": [],
   "metadata": {
    "collapsed": false
   }
  }
 ],
 "metadata": {
  "colab": {
   "provenance": []
  },
  "kernelspec": {
   "display_name": "Python 3 (ipykernel)",
   "language": "python",
   "name": "python3"
  },
  "language_info": {
   "codemirror_mode": {
    "name": "ipython",
    "version": 3
   },
   "file_extension": ".py",
   "mimetype": "text/x-python",
   "name": "python",
   "nbconvert_exporter": "python",
   "pygments_lexer": "ipython3",
   "version": "3.9.13"
  }
 },
 "nbformat": 4,
 "nbformat_minor": 5
}
