{
 "cells": [
  {
   "cell_type": "code",
   "execution_count": 1,
   "outputs": [],
   "source": [
    "import pandas as pd\n",
    "df = pd.DataFrame({\n",
    "    \"name\": [\"Hyun\", \"Viktor\", \"Valentin\", \"Brigitte\"],\n",
    "    \"alter\": [28, 35, 30, 55]},\n",
    "    index = [1, 2, 3, 4]\n",
    ")"
   ],
   "metadata": {
    "collapsed": false
   }
  },
  {
   "cell_type": "code",
   "execution_count": 2,
   "outputs": [
    {
     "data": {
      "text/plain": "       name  alter\n1      Hyun     28\n2    Viktor     35\n3  Valentin     30\n4  Brigitte     55",
      "text/html": "<div>\n<style scoped>\n    .dataframe tbody tr th:only-of-type {\n        vertical-align: middle;\n    }\n\n    .dataframe tbody tr th {\n        vertical-align: top;\n    }\n\n    .dataframe thead th {\n        text-align: right;\n    }\n</style>\n<table border=\"1\" class=\"dataframe\">\n  <thead>\n    <tr style=\"text-align: right;\">\n      <th></th>\n      <th>name</th>\n      <th>alter</th>\n    </tr>\n  </thead>\n  <tbody>\n    <tr>\n      <th>1</th>\n      <td>Hyun</td>\n      <td>28</td>\n    </tr>\n    <tr>\n      <th>2</th>\n      <td>Viktor</td>\n      <td>35</td>\n    </tr>\n    <tr>\n      <th>3</th>\n      <td>Valentin</td>\n      <td>30</td>\n    </tr>\n    <tr>\n      <th>4</th>\n      <td>Brigitte</td>\n      <td>55</td>\n    </tr>\n  </tbody>\n</table>\n</div>"
     },
     "execution_count": 2,
     "metadata": {},
     "output_type": "execute_result"
    }
   ],
   "source": [
    "df"
   ],
   "metadata": {
    "collapsed": false
   }
  },
  {
   "cell_type": "code",
   "execution_count": 3,
   "outputs": [
    {
     "data": {
      "text/plain": "1    28\n2    35\n3    30\n4    55\nName: alter, dtype: int64"
     },
     "execution_count": 3,
     "metadata": {},
     "output_type": "execute_result"
    }
   ],
   "source": [
    "df[\"alter\"]"
   ],
   "metadata": {
    "collapsed": false
   }
  },
  {
   "cell_type": "code",
   "execution_count": 4,
   "outputs": [
    {
     "data": {
      "text/plain": "       name  alter\n1      Hyun     28\n2    Viktor     35\n3  Valentin     30\n4  Brigitte     55",
      "text/html": "<div>\n<style scoped>\n    .dataframe tbody tr th:only-of-type {\n        vertical-align: middle;\n    }\n\n    .dataframe tbody tr th {\n        vertical-align: top;\n    }\n\n    .dataframe thead th {\n        text-align: right;\n    }\n</style>\n<table border=\"1\" class=\"dataframe\">\n  <thead>\n    <tr style=\"text-align: right;\">\n      <th></th>\n      <th>name</th>\n      <th>alter</th>\n    </tr>\n  </thead>\n  <tbody>\n    <tr>\n      <th>1</th>\n      <td>Hyun</td>\n      <td>28</td>\n    </tr>\n    <tr>\n      <th>2</th>\n      <td>Viktor</td>\n      <td>35</td>\n    </tr>\n    <tr>\n      <th>3</th>\n      <td>Valentin</td>\n      <td>30</td>\n    </tr>\n    <tr>\n      <th>4</th>\n      <td>Brigitte</td>\n      <td>55</td>\n    </tr>\n  </tbody>\n</table>\n</div>"
     },
     "execution_count": 4,
     "metadata": {},
     "output_type": "execute_result"
    }
   ],
   "source": [
    "df[[\"name\", \"alter\"]]"
   ],
   "metadata": {
    "collapsed": false
   }
  },
  {
   "cell_type": "code",
   "execution_count": 5,
   "outputs": [],
   "source": [
    "df[\"gewicht\"] = [70,75,80,65]"
   ],
   "metadata": {
    "collapsed": false
   }
  },
  {
   "cell_type": "code",
   "execution_count": 6,
   "outputs": [
    {
     "data": {
      "text/plain": "       name  alter  gewicht\n1      Hyun     28       70\n2    Viktor     35       75\n3  Valentin     30       80\n4  Brigitte     55       65",
      "text/html": "<div>\n<style scoped>\n    .dataframe tbody tr th:only-of-type {\n        vertical-align: middle;\n    }\n\n    .dataframe tbody tr th {\n        vertical-align: top;\n    }\n\n    .dataframe thead th {\n        text-align: right;\n    }\n</style>\n<table border=\"1\" class=\"dataframe\">\n  <thead>\n    <tr style=\"text-align: right;\">\n      <th></th>\n      <th>name</th>\n      <th>alter</th>\n      <th>gewicht</th>\n    </tr>\n  </thead>\n  <tbody>\n    <tr>\n      <th>1</th>\n      <td>Hyun</td>\n      <td>28</td>\n      <td>70</td>\n    </tr>\n    <tr>\n      <th>2</th>\n      <td>Viktor</td>\n      <td>35</td>\n      <td>75</td>\n    </tr>\n    <tr>\n      <th>3</th>\n      <td>Valentin</td>\n      <td>30</td>\n      <td>80</td>\n    </tr>\n    <tr>\n      <th>4</th>\n      <td>Brigitte</td>\n      <td>55</td>\n      <td>65</td>\n    </tr>\n  </tbody>\n</table>\n</div>"
     },
     "execution_count": 6,
     "metadata": {},
     "output_type": "execute_result"
    }
   ],
   "source": [
    "df"
   ],
   "metadata": {
    "collapsed": false
   }
  },
  {
   "cell_type": "code",
   "execution_count": 7,
   "outputs": [],
   "source": [
    "groesse = [180, 230, 176, 170]\n",
    "geschlecht = [\"m\",\"m\",\"m\",\"w\"]"
   ],
   "metadata": {
    "collapsed": false
   }
  },
  {
   "cell_type": "code",
   "execution_count": 8,
   "outputs": [
    {
     "data": {
      "text/plain": "[(180, 'm'), (230, 'm'), (176, 'm'), (170, 'w')]"
     },
     "execution_count": 8,
     "metadata": {},
     "output_type": "execute_result"
    }
   ],
   "source": [
    "list(zip(groesse, geschlecht))"
   ],
   "metadata": {
    "collapsed": false
   }
  },
  {
   "cell_type": "code",
   "execution_count": 9,
   "outputs": [],
   "source": [
    "df[[\"größe\", \"geschlecht\"]] = list(zip(groesse, geschlecht))"
   ],
   "metadata": {
    "collapsed": false
   }
  },
  {
   "cell_type": "code",
   "execution_count": 10,
   "outputs": [
    {
     "data": {
      "text/plain": "       name  alter  gewicht größe geschlecht\n1      Hyun     28       70   180          m\n2    Viktor     35       75   230          m\n3  Valentin     30       80   176          m\n4  Brigitte     55       65   170          w",
      "text/html": "<div>\n<style scoped>\n    .dataframe tbody tr th:only-of-type {\n        vertical-align: middle;\n    }\n\n    .dataframe tbody tr th {\n        vertical-align: top;\n    }\n\n    .dataframe thead th {\n        text-align: right;\n    }\n</style>\n<table border=\"1\" class=\"dataframe\">\n  <thead>\n    <tr style=\"text-align: right;\">\n      <th></th>\n      <th>name</th>\n      <th>alter</th>\n      <th>gewicht</th>\n      <th>größe</th>\n      <th>geschlecht</th>\n    </tr>\n  </thead>\n  <tbody>\n    <tr>\n      <th>1</th>\n      <td>Hyun</td>\n      <td>28</td>\n      <td>70</td>\n      <td>180</td>\n      <td>m</td>\n    </tr>\n    <tr>\n      <th>2</th>\n      <td>Viktor</td>\n      <td>35</td>\n      <td>75</td>\n      <td>230</td>\n      <td>m</td>\n    </tr>\n    <tr>\n      <th>3</th>\n      <td>Valentin</td>\n      <td>30</td>\n      <td>80</td>\n      <td>176</td>\n      <td>m</td>\n    </tr>\n    <tr>\n      <th>4</th>\n      <td>Brigitte</td>\n      <td>55</td>\n      <td>65</td>\n      <td>170</td>\n      <td>w</td>\n    </tr>\n  </tbody>\n</table>\n</div>"
     },
     "execution_count": 10,
     "metadata": {},
     "output_type": "execute_result"
    }
   ],
   "source": [
    "df"
   ],
   "metadata": {
    "collapsed": false
   }
  },
  {
   "cell_type": "code",
   "execution_count": 11,
   "outputs": [
    {
     "data": {
      "text/plain": "1    False\n2     True\n3    False\n4    False\nName: name, dtype: bool"
     },
     "execution_count": 11,
     "metadata": {},
     "output_type": "execute_result"
    }
   ],
   "source": [
    "df[\"name\"] == \"Viktor\""
   ],
   "metadata": {
    "collapsed": false
   }
  },
  {
   "cell_type": "code",
   "execution_count": 12,
   "outputs": [
    {
     "data": {
      "text/plain": "     name  alter  gewicht größe geschlecht\n2  Viktor     35       75   230          m",
      "text/html": "<div>\n<style scoped>\n    .dataframe tbody tr th:only-of-type {\n        vertical-align: middle;\n    }\n\n    .dataframe tbody tr th {\n        vertical-align: top;\n    }\n\n    .dataframe thead th {\n        text-align: right;\n    }\n</style>\n<table border=\"1\" class=\"dataframe\">\n  <thead>\n    <tr style=\"text-align: right;\">\n      <th></th>\n      <th>name</th>\n      <th>alter</th>\n      <th>gewicht</th>\n      <th>größe</th>\n      <th>geschlecht</th>\n    </tr>\n  </thead>\n  <tbody>\n    <tr>\n      <th>2</th>\n      <td>Viktor</td>\n      <td>35</td>\n      <td>75</td>\n      <td>230</td>\n      <td>m</td>\n    </tr>\n  </tbody>\n</table>\n</div>"
     },
     "execution_count": 12,
     "metadata": {},
     "output_type": "execute_result"
    }
   ],
   "source": [
    "# Slicen nach Namen\n",
    "df[df[\"name\"] == \"Viktor\"]"
   ],
   "metadata": {
    "collapsed": false
   }
  },
  {
   "cell_type": "code",
   "execution_count": 13,
   "outputs": [
    {
     "data": {
      "text/plain": "       name  alter  gewicht größe geschlecht\n4  Brigitte     55       65   170          w",
      "text/html": "<div>\n<style scoped>\n    .dataframe tbody tr th:only-of-type {\n        vertical-align: middle;\n    }\n\n    .dataframe tbody tr th {\n        vertical-align: top;\n    }\n\n    .dataframe thead th {\n        text-align: right;\n    }\n</style>\n<table border=\"1\" class=\"dataframe\">\n  <thead>\n    <tr style=\"text-align: right;\">\n      <th></th>\n      <th>name</th>\n      <th>alter</th>\n      <th>gewicht</th>\n      <th>größe</th>\n      <th>geschlecht</th>\n    </tr>\n  </thead>\n  <tbody>\n    <tr>\n      <th>4</th>\n      <td>Brigitte</td>\n      <td>55</td>\n      <td>65</td>\n      <td>170</td>\n      <td>w</td>\n    </tr>\n  </tbody>\n</table>\n</div>"
     },
     "execution_count": 13,
     "metadata": {},
     "output_type": "execute_result"
    }
   ],
   "source": [
    "# Slicen nach Geschlecht\n",
    "df[df[\"geschlecht\"] == \"w\"]"
   ],
   "metadata": {
    "collapsed": false
   }
  },
  {
   "cell_type": "code",
   "execution_count": 14,
   "outputs": [
    {
     "data": {
      "text/plain": "     name  alter  gewicht größe geschlecht\n2  Viktor     35       75   230          m",
      "text/html": "<div>\n<style scoped>\n    .dataframe tbody tr th:only-of-type {\n        vertical-align: middle;\n    }\n\n    .dataframe tbody tr th {\n        vertical-align: top;\n    }\n\n    .dataframe thead th {\n        text-align: right;\n    }\n</style>\n<table border=\"1\" class=\"dataframe\">\n  <thead>\n    <tr style=\"text-align: right;\">\n      <th></th>\n      <th>name</th>\n      <th>alter</th>\n      <th>gewicht</th>\n      <th>größe</th>\n      <th>geschlecht</th>\n    </tr>\n  </thead>\n  <tbody>\n    <tr>\n      <th>2</th>\n      <td>Viktor</td>\n      <td>35</td>\n      <td>75</td>\n      <td>230</td>\n      <td>m</td>\n    </tr>\n  </tbody>\n</table>\n</div>"
     },
     "execution_count": 14,
     "metadata": {},
     "output_type": "execute_result"
    }
   ],
   "source": [
    "# Slicen nach zwei Bedingungen\n",
    "df[(df[\"größe\"] == 230) & (df[\"geschlecht\"] == \"m\")]"
   ],
   "metadata": {
    "collapsed": false
   }
  },
  {
   "cell_type": "code",
   "execution_count": 15,
   "outputs": [
    {
     "data": {
      "text/plain": "       name  alter  gewicht größe geschlecht\n2    Viktor     35       75   230          m\n4  Brigitte     55       65   170          w",
      "text/html": "<div>\n<style scoped>\n    .dataframe tbody tr th:only-of-type {\n        vertical-align: middle;\n    }\n\n    .dataframe tbody tr th {\n        vertical-align: top;\n    }\n\n    .dataframe thead th {\n        text-align: right;\n    }\n</style>\n<table border=\"1\" class=\"dataframe\">\n  <thead>\n    <tr style=\"text-align: right;\">\n      <th></th>\n      <th>name</th>\n      <th>alter</th>\n      <th>gewicht</th>\n      <th>größe</th>\n      <th>geschlecht</th>\n    </tr>\n  </thead>\n  <tbody>\n    <tr>\n      <th>2</th>\n      <td>Viktor</td>\n      <td>35</td>\n      <td>75</td>\n      <td>230</td>\n      <td>m</td>\n    </tr>\n    <tr>\n      <th>4</th>\n      <td>Brigitte</td>\n      <td>55</td>\n      <td>65</td>\n      <td>170</td>\n      <td>w</td>\n    </tr>\n  </tbody>\n</table>\n</div>"
     },
     "execution_count": 15,
     "metadata": {},
     "output_type": "execute_result"
    }
   ],
   "source": [
    "# Slicen nach zwei Bedingungen\n",
    "df[(df[\"größe\"] == 230) | (df[\"geschlecht\"] == \"w\")]"
   ],
   "metadata": {
    "collapsed": false
   }
  },
  {
   "cell_type": "code",
   "execution_count": 16,
   "outputs": [
    {
     "data": {
      "text/plain": "     name  alter  gewicht größe geschlecht\n1    Hyun     28       70   180          m\n2  Viktor     35       75   230          m",
      "text/html": "<div>\n<style scoped>\n    .dataframe tbody tr th:only-of-type {\n        vertical-align: middle;\n    }\n\n    .dataframe tbody tr th {\n        vertical-align: top;\n    }\n\n    .dataframe thead th {\n        text-align: right;\n    }\n</style>\n<table border=\"1\" class=\"dataframe\">\n  <thead>\n    <tr style=\"text-align: right;\">\n      <th></th>\n      <th>name</th>\n      <th>alter</th>\n      <th>gewicht</th>\n      <th>größe</th>\n      <th>geschlecht</th>\n    </tr>\n  </thead>\n  <tbody>\n    <tr>\n      <th>1</th>\n      <td>Hyun</td>\n      <td>28</td>\n      <td>70</td>\n      <td>180</td>\n      <td>m</td>\n    </tr>\n    <tr>\n      <th>2</th>\n      <td>Viktor</td>\n      <td>35</td>\n      <td>75</td>\n      <td>230</td>\n      <td>m</td>\n    </tr>\n  </tbody>\n</table>\n</div>"
     },
     "execution_count": 16,
     "metadata": {},
     "output_type": "execute_result"
    }
   ],
   "source": [
    "# Slicen nach Alter / Gewicht (mathematische Operatoren):\n",
    "df[df[\"größe\"] >= 180]"
   ],
   "metadata": {
    "collapsed": false
   }
  },
  {
   "cell_type": "code",
   "execution_count": 17,
   "outputs": [
    {
     "data": {
      "text/plain": "       name  alter  gewicht größe geschlecht\n1      Hyun     28       70   180          m\n4  Brigitte     55       65   170          w",
      "text/html": "<div>\n<style scoped>\n    .dataframe tbody tr th:only-of-type {\n        vertical-align: middle;\n    }\n\n    .dataframe tbody tr th {\n        vertical-align: top;\n    }\n\n    .dataframe thead th {\n        text-align: right;\n    }\n</style>\n<table border=\"1\" class=\"dataframe\">\n  <thead>\n    <tr style=\"text-align: right;\">\n      <th></th>\n      <th>name</th>\n      <th>alter</th>\n      <th>gewicht</th>\n      <th>größe</th>\n      <th>geschlecht</th>\n    </tr>\n  </thead>\n  <tbody>\n    <tr>\n      <th>1</th>\n      <td>Hyun</td>\n      <td>28</td>\n      <td>70</td>\n      <td>180</td>\n      <td>m</td>\n    </tr>\n    <tr>\n      <th>4</th>\n      <td>Brigitte</td>\n      <td>55</td>\n      <td>65</td>\n      <td>170</td>\n      <td>w</td>\n    </tr>\n  </tbody>\n</table>\n</div>"
     },
     "execution_count": 17,
     "metadata": {},
     "output_type": "execute_result"
    }
   ],
   "source": [
    "# Gewicht\n",
    "df[df[\"gewicht\"] < 75]"
   ],
   "metadata": {
    "collapsed": false
   }
  },
  {
   "cell_type": "code",
   "execution_count": 18,
   "outputs": [
    {
     "data": {
      "text/plain": "       name  alter  gewicht größe geschlecht\n2    Viktor     35       75   230          m\n3  Valentin     30       80   176          m",
      "text/html": "<div>\n<style scoped>\n    .dataframe tbody tr th:only-of-type {\n        vertical-align: middle;\n    }\n\n    .dataframe tbody tr th {\n        vertical-align: top;\n    }\n\n    .dataframe thead th {\n        text-align: right;\n    }\n</style>\n<table border=\"1\" class=\"dataframe\">\n  <thead>\n    <tr style=\"text-align: right;\">\n      <th></th>\n      <th>name</th>\n      <th>alter</th>\n      <th>gewicht</th>\n      <th>größe</th>\n      <th>geschlecht</th>\n    </tr>\n  </thead>\n  <tbody>\n    <tr>\n      <th>2</th>\n      <td>Viktor</td>\n      <td>35</td>\n      <td>75</td>\n      <td>230</td>\n      <td>m</td>\n    </tr>\n    <tr>\n      <th>3</th>\n      <td>Valentin</td>\n      <td>30</td>\n      <td>80</td>\n      <td>176</td>\n      <td>m</td>\n    </tr>\n  </tbody>\n</table>\n</div>"
     },
     "execution_count": 18,
     "metadata": {},
     "output_type": "execute_result"
    }
   ],
   "source": [
    "df[(df[\"name\"] == \"Viktor\") | (df[\"name\"] == \"Valentin\")]"
   ],
   "metadata": {
    "collapsed": false
   }
  }
 ],
 "metadata": {
  "kernelspec": {
   "display_name": "Python 3",
   "language": "python",
   "name": "python3"
  },
  "language_info": {
   "codemirror_mode": {
    "name": "ipython",
    "version": 2
   },
   "file_extension": ".py",
   "mimetype": "text/x-python",
   "name": "python",
   "nbconvert_exporter": "python",
   "pygments_lexer": "ipython2",
   "version": "2.7.6"
  }
 },
 "nbformat": 4,
 "nbformat_minor": 0
}
