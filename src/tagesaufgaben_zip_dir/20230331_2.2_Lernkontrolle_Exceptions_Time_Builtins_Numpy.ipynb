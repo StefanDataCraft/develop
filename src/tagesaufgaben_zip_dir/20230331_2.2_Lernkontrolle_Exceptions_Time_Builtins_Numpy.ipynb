{
 "cells": [
  {
   "cell_type": "markdown",
   "id": "53641508",
   "metadata": {},
   "source": [
    "<br><br><center><h1 style=\"font-size:2em;color:green\">Lernkontrolle 31.03.2023</h1></center>\n",
    "<br>\n",
    "<center>Die möglichen Punkte stehen bei der jeweiligen Aufgabe dabei</center>"
   ]
  },
  {
   "cell_type": "markdown",
   "source": [
    "<div  class=\"alert alert-block alert-info\">\n",
    "1. Im Folgenden findest du drei mögliche Wege, um eine Zahlenliste von 1 bis 1.000.000 zu erzeugen. Deine Aufgabe ist es, ihre Laufzeiten zu vergleichen und zum Schluss zu sagen, welche die schnellste und welche die langsamste Methode ist. (12 Punkte)\n",
    "<div\\>"
   ],
   "metadata": {
    "collapsed": false
   }
  },
  {
   "cell_type": "code",
   "execution_count": null,
   "outputs": [],
   "source": [
    "zahlenliste = []\n",
    "for zahl in range(1,100001):\n",
    "    zahlenliste.append(zahl)"
   ],
   "metadata": {
    "collapsed": false
   }
  },
  {
   "cell_type": "code",
   "execution_count": null,
   "outputs": [],
   "source": [
    "[zahl for zahl in range(1,100001)]"
   ],
   "metadata": {
    "collapsed": false
   }
  },
  {
   "cell_type": "code",
   "execution_count": null,
   "outputs": [],
   "source": [
    "list(range(1,100001))"
   ],
   "metadata": {
    "collapsed": false
   }
  },
  {
   "cell_type": "markdown",
   "id": "0e6797bc",
   "metadata": {},
   "source": [
    "<div  class=\"alert alert-block alert-info\">\n",
    "2. Schreibe eine try&except-Bedingung. In dem try soll Code stehen, mit dem ein Ordner auf deinem Desktop erzeugt wird (Verwende hierzu einen absoluten Pfad). In dem except soll eine Meldung stehen, dass der Ordner bereits existiert. Führe den Code zwei Mal aus! (6 Punkte)\n",
    "\n",
    "    Output:\n",
    "    print(\"Der Ordner existiert bereits!\")\n",
    "\n",
    "</div>"
   ]
  },
  {
   "cell_type": "code",
   "execution_count": null,
   "id": "a8d5849e",
   "metadata": {},
   "outputs": [],
   "source": []
  },
  {
   "cell_type": "markdown",
   "id": "c0f4f74c",
   "metadata": {},
   "source": [
    "<div  class=\"alert alert-block alert-info\">\n",
    "3. Schreibe eine try&except-Bedingung. In dem try soll Code stehen, mit dem ein Ordner auf deinem Desktop erzeugt wird (Verwende hierzu einen absoluten Pfad). Dieses Mal soll es aber zwei verschiedene except Bedingungen für folgende Fälle geben:\n",
    "\n",
    "   1. Wenn es den Ordner bereits gibt.\n",
    "   2. Wenn der eingegebene Pfad nicht stimmt.\n",
    "\n",
    "    \n",
    "    Output:\n",
    "    print(\"Der Ordner existiert bereits!\")\n",
    "\n",
    "(6 Punkte)\n",
    "</div>"
   ]
  },
  {
   "cell_type": "code",
   "execution_count": null,
   "id": "a9d8280f",
   "metadata": {},
   "outputs": [],
   "source": []
  },
  {
   "cell_type": "markdown",
   "source": [
    "<div  class=\"alert alert-block alert-info\">\n",
    "4. Du hast eine Liste mit IDs und eine mit Personen-Informationen, die in Tupeln verpackt sind. Füge die Liste mittels Zip zusammen und mache ein Dictionary namens personen_dict daraus. Lasse dir dann alle Infos zur Person mit der ID 4 ausgeben. Dein Output sollte so aussehen:\n",
    "\n",
    "    Output:\n",
    "    Name: Diana\n",
    "    Alter: 29\n",
    "    Adresse: Philosophenweg 7, Heidelberg\n",
    "(8 Punkte)\n",
    "</div>"
   ],
   "metadata": {
    "collapsed": false
   }
  },
  {
   "cell_type": "code",
   "execution_count": null,
   "outputs": [],
   "source": [
    "ids = [1, 2, 3, 4, 5]\n",
    "personen_infos = [(\"Alice\", 23, \"Am Waldrand 12, Stendal\"), (\"Bob\", 35, \"Bahnhofstr. 12, Berlin\"), (\"Charlie\", 47, \"Kühnstraße 32, Hamburg\"), (\"Diana\", 29, \"Philosophenweg 7, Heidelberg\"), (\"Eve\", 19, \"Gellertstraße 15, Frankfurt am Main\")]"
   ],
   "metadata": {
    "collapsed": false
   }
  },
  {
   "cell_type": "code",
   "execution_count": null,
   "outputs": [],
   "source": [],
   "metadata": {
    "collapsed": false
   }
  },
  {
   "cell_type": "markdown",
   "source": [
    "<div  class=\"alert alert-block alert-info\">\n",
    "5. Du hast eine Liste mit Beträgen in kanadischen Dollar vorliegen. Du möchtest diese in Euro umrechnen. Ein kanadischer Dollar entspricht dabei 0,68 Euro. Löse mit Mapping und einer Lambda-Funktion. Vergiss nicht auf zwei Nachkommastellen zu runden. Speichere das Ergebnis in ueberweisungen_euro und lass dir die Liste ausgeben. (5 Punkte)\n",
    "</div>"
   ],
   "metadata": {
    "collapsed": false
   }
  },
  {
   "cell_type": "code",
   "execution_count": null,
   "outputs": [],
   "source": [
    "ueberweisungen = [1927, 2236, 5547, 3566, 7847, 2916, 7587, 7196, 4096, 6056, 4806, 7256, 7553, 7986, 2627, 1618, 3787, 8452, 918, 2399, 4138, 3047, 5675, 7197, 261, 1196, 2156, 2376, 9426, 1723, 7826]"
   ],
   "metadata": {
    "collapsed": false
   }
  },
  {
   "cell_type": "code",
   "execution_count": null,
   "outputs": [],
   "source": [],
   "metadata": {
    "collapsed": false
   }
  },
  {
   "cell_type": "markdown",
   "source": [
    "<div  class=\"alert alert-block alert-info\">\n",
    "6. Nun möchtest du wissen, wie viele Beträge ab 5000 Euro in deiner Liste vorkommen. Filtere deine Liste nach den Beträgen und speichere das Ergebnis in hohe_ueberweisungen. Lasse dir schließlich hohe_ueberweisungen ausgeben und zähle die Menge der Überweisungen mit einer Builtin-Funktion, die du schon länger kennst. (4 Punkte)\n",
    "</div>"
   ],
   "metadata": {
    "collapsed": false
   }
  },
  {
   "cell_type": "code",
   "execution_count": null,
   "outputs": [],
   "source": [],
   "metadata": {
    "collapsed": false
   }
  },
  {
   "cell_type": "markdown",
   "id": "b84ecd5a",
   "metadata": {},
   "source": [
    "<div  class=\"alert alert-block alert-info\">\n",
    "7. Erstelle ein zweidimensionales Numpy-Array, lass dir seine Gestalt (shape) ausgeben und wandel es danach in ein eindimensionales Array um. (6 Punkte)\n",
    "</div>"
   ]
  },
  {
   "cell_type": "code",
   "execution_count": null,
   "id": "eec64caf",
   "metadata": {},
   "outputs": [],
   "source": []
  },
  {
   "cell_type": "markdown",
   "id": "1e8d8cb3",
   "metadata": {},
   "source": [
    "<div  class=\"alert alert-block alert-info\">\n",
    "8. Lass dir die Dimension des Arrays ausgeben. (3 Punkte)\n",
    "</div>"
   ]
  },
  {
   "cell_type": "code",
   "execution_count": null,
   "id": "a39f9f9e",
   "metadata": {},
   "outputs": [],
   "source": []
  },
  {
   "cell_type": "markdown",
   "id": "45d5df08",
   "metadata": {},
   "source": [
    "<div  class=\"alert alert-block alert-info\">\n",
    "9. Optional: Gegeben ist folgendes Numpy-Array. Füge dieses Array mit dem eindimensionalen Array aus Aufgabe 7 zusammen. Lass dir das Ergebnis ausgeben. (4 Punkte)\n",
    "</div>"
   ]
  },
  {
   "cell_type": "code",
   "execution_count": null,
   "id": "f33e1314",
   "metadata": {},
   "outputs": [],
   "source": [
    "arrayx = np.array([2,1,4])"
   ]
  },
  {
   "cell_type": "markdown",
   "id": "87fe8377",
   "metadata": {},
   "source": [
    "<div  class=\"alert alert-block alert-info\">\n",
    "10. Optional: Gegeben ist folgendes Array. Lass dir die Indices ausgeben, an denen sich die Zahl 23 befindet. (6 Punkte)\n",
    "\n",
    "    Output:\n",
    "    (array([0, 4, 6], dtype=int64),)\n",
    "</div>"
   ]
  },
  {
   "cell_type": "code",
   "execution_count": null,
   "id": "66337db2",
   "metadata": {},
   "outputs": [],
   "source": [
    "arrayx2 = np.array([23,42,15,16,23,74,23])"
   ]
  }
 ],
 "metadata": {
  "kernelspec": {
   "display_name": "Python 3 (ipykernel)",
   "language": "python",
   "name": "python3"
  },
  "language_info": {
   "codemirror_mode": {
    "name": "ipython",
    "version": 3
   },
   "file_extension": ".py",
   "mimetype": "text/x-python",
   "name": "python",
   "nbconvert_exporter": "python",
   "pygments_lexer": "ipython3",
   "version": "3.9.13"
  }
 },
 "nbformat": 4,
 "nbformat_minor": 5
}
